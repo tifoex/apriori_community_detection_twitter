{
  "nbformat": 4,
  "nbformat_minor": 0,
  "metadata": {
    "colab": {
      "provenance": []
    },
    "kernelspec": {
      "name": "python3",
      "display_name": "Python 3"
    },
    "language_info": {
      "name": "python"
    }
  },
  "cells": [
    {
      "cell_type": "code",
      "execution_count": null,
      "metadata": {
        "colab": {
          "base_uri": "https://localhost:8080/"
        },
        "id": "bUmrn4I7Pgus",
        "outputId": "6de7ecb5-2ea9-43dd-ab06-faa765a741cf"
      },
      "outputs": [
        {
          "output_type": "stream",
          "name": "stdout",
          "text": [
            "Mounted at /content/drive\n"
          ]
        }
      ],
      "source": [
        "from google.colab import drive\n",
        "import pandas as pd\n",
        "drive.mount('/content/drive')\n"
      ]
    },
    {
      "cell_type": "code",
      "source": [
        "import pandas as pd\n",
        "\n",
        "# Replace the path with the correct one if needed\n",
        "file_path = '/content/drive/MyDrive/Subgraph.csv'\n",
        "\n",
        "# Define column names\n",
        "\n",
        "# Read the file into a DataFrame\n",
        "DF = pd.read_csv(file_path)\n",
        "\n",
        "# Display the DataFrame\n",
        "DF.head()"
      ],
      "metadata": {
        "colab": {
          "base_uri": "https://localhost:8080/",
          "height": 206
        },
        "id": "Q1khid7-PsnQ",
        "outputId": "df36169d-685b-4045-ab4b-bcbf12dfccd1"
      },
      "execution_count": null,
      "outputs": [
        {
          "output_type": "execute_result",
          "data": {
            "text/plain": [
              "   ID1  ID2\n",
              "0    1    2\n",
              "1    1    3\n",
              "2    1    4\n",
              "3    1    5\n",
              "4    1    6"
            ],
            "text/html": [
              "\n",
              "\n",
              "  <div id=\"df-3e8f01f0-3b9a-4772-ad4b-a6bb1c0432a4\">\n",
              "    <div class=\"colab-df-container\">\n",
              "      <div>\n",
              "<style scoped>\n",
              "    .dataframe tbody tr th:only-of-type {\n",
              "        vertical-align: middle;\n",
              "    }\n",
              "\n",
              "    .dataframe tbody tr th {\n",
              "        vertical-align: top;\n",
              "    }\n",
              "\n",
              "    .dataframe thead th {\n",
              "        text-align: right;\n",
              "    }\n",
              "</style>\n",
              "<table border=\"1\" class=\"dataframe\">\n",
              "  <thead>\n",
              "    <tr style=\"text-align: right;\">\n",
              "      <th></th>\n",
              "      <th>ID1</th>\n",
              "      <th>ID2</th>\n",
              "    </tr>\n",
              "  </thead>\n",
              "  <tbody>\n",
              "    <tr>\n",
              "      <th>0</th>\n",
              "      <td>1</td>\n",
              "      <td>2</td>\n",
              "    </tr>\n",
              "    <tr>\n",
              "      <th>1</th>\n",
              "      <td>1</td>\n",
              "      <td>3</td>\n",
              "    </tr>\n",
              "    <tr>\n",
              "      <th>2</th>\n",
              "      <td>1</td>\n",
              "      <td>4</td>\n",
              "    </tr>\n",
              "    <tr>\n",
              "      <th>3</th>\n",
              "      <td>1</td>\n",
              "      <td>5</td>\n",
              "    </tr>\n",
              "    <tr>\n",
              "      <th>4</th>\n",
              "      <td>1</td>\n",
              "      <td>6</td>\n",
              "    </tr>\n",
              "  </tbody>\n",
              "</table>\n",
              "</div>\n",
              "      <button class=\"colab-df-convert\" onclick=\"convertToInteractive('df-3e8f01f0-3b9a-4772-ad4b-a6bb1c0432a4')\"\n",
              "              title=\"Convert this dataframe to an interactive table.\"\n",
              "              style=\"display:none;\">\n",
              "\n",
              "  <svg xmlns=\"http://www.w3.org/2000/svg\" height=\"24px\"viewBox=\"0 0 24 24\"\n",
              "       width=\"24px\">\n",
              "    <path d=\"M0 0h24v24H0V0z\" fill=\"none\"/>\n",
              "    <path d=\"M18.56 5.44l.94 2.06.94-2.06 2.06-.94-2.06-.94-.94-2.06-.94 2.06-2.06.94zm-11 1L8.5 8.5l.94-2.06 2.06-.94-2.06-.94L8.5 2.5l-.94 2.06-2.06.94zm10 10l.94 2.06.94-2.06 2.06-.94-2.06-.94-.94-2.06-.94 2.06-2.06.94z\"/><path d=\"M17.41 7.96l-1.37-1.37c-.4-.4-.92-.59-1.43-.59-.52 0-1.04.2-1.43.59L10.3 9.45l-7.72 7.72c-.78.78-.78 2.05 0 2.83L4 21.41c.39.39.9.59 1.41.59.51 0 1.02-.2 1.41-.59l7.78-7.78 2.81-2.81c.8-.78.8-2.07 0-2.86zM5.41 20L4 18.59l7.72-7.72 1.47 1.35L5.41 20z\"/>\n",
              "  </svg>\n",
              "      </button>\n",
              "\n",
              "\n",
              "\n",
              "    <div id=\"df-5522e528-bcc5-40ac-87b8-40962d87d9f1\">\n",
              "      <button class=\"colab-df-quickchart\" onclick=\"quickchart('df-5522e528-bcc5-40ac-87b8-40962d87d9f1')\"\n",
              "              title=\"Suggest charts.\"\n",
              "              style=\"display:none;\">\n",
              "\n",
              "<svg xmlns=\"http://www.w3.org/2000/svg\" height=\"24px\"viewBox=\"0 0 24 24\"\n",
              "     width=\"24px\">\n",
              "    <g>\n",
              "        <path d=\"M19 3H5c-1.1 0-2 .9-2 2v14c0 1.1.9 2 2 2h14c1.1 0 2-.9 2-2V5c0-1.1-.9-2-2-2zM9 17H7v-7h2v7zm4 0h-2V7h2v10zm4 0h-2v-4h2v4z\"/>\n",
              "    </g>\n",
              "</svg>\n",
              "      </button>\n",
              "    </div>\n",
              "\n",
              "<style>\n",
              "  .colab-df-quickchart {\n",
              "    background-color: #E8F0FE;\n",
              "    border: none;\n",
              "    border-radius: 50%;\n",
              "    cursor: pointer;\n",
              "    display: none;\n",
              "    fill: #1967D2;\n",
              "    height: 32px;\n",
              "    padding: 0 0 0 0;\n",
              "    width: 32px;\n",
              "  }\n",
              "\n",
              "  .colab-df-quickchart:hover {\n",
              "    background-color: #E2EBFA;\n",
              "    box-shadow: 0px 1px 2px rgba(60, 64, 67, 0.3), 0px 1px 3px 1px rgba(60, 64, 67, 0.15);\n",
              "    fill: #174EA6;\n",
              "  }\n",
              "\n",
              "  [theme=dark] .colab-df-quickchart {\n",
              "    background-color: #3B4455;\n",
              "    fill: #D2E3FC;\n",
              "  }\n",
              "\n",
              "  [theme=dark] .colab-df-quickchart:hover {\n",
              "    background-color: #434B5C;\n",
              "    box-shadow: 0px 1px 3px 1px rgba(0, 0, 0, 0.15);\n",
              "    filter: drop-shadow(0px 1px 2px rgba(0, 0, 0, 0.3));\n",
              "    fill: #FFFFFF;\n",
              "  }\n",
              "</style>\n",
              "\n",
              "    <script>\n",
              "      async function quickchart(key) {\n",
              "        const containerElement = document.querySelector('#' + key);\n",
              "        const charts = await google.colab.kernel.invokeFunction(\n",
              "            'suggestCharts', [key], {});\n",
              "      }\n",
              "    </script>\n",
              "\n",
              "      <script>\n",
              "\n",
              "function displayQuickchartButton(domScope) {\n",
              "  let quickchartButtonEl =\n",
              "    domScope.querySelector('#df-5522e528-bcc5-40ac-87b8-40962d87d9f1 button.colab-df-quickchart');\n",
              "  quickchartButtonEl.style.display =\n",
              "    google.colab.kernel.accessAllowed ? 'block' : 'none';\n",
              "}\n",
              "\n",
              "        displayQuickchartButton(document);\n",
              "      </script>\n",
              "      <style>\n",
              "    .colab-df-container {\n",
              "      display:flex;\n",
              "      flex-wrap:wrap;\n",
              "      gap: 12px;\n",
              "    }\n",
              "\n",
              "    .colab-df-convert {\n",
              "      background-color: #E8F0FE;\n",
              "      border: none;\n",
              "      border-radius: 50%;\n",
              "      cursor: pointer;\n",
              "      display: none;\n",
              "      fill: #1967D2;\n",
              "      height: 32px;\n",
              "      padding: 0 0 0 0;\n",
              "      width: 32px;\n",
              "    }\n",
              "\n",
              "    .colab-df-convert:hover {\n",
              "      background-color: #E2EBFA;\n",
              "      box-shadow: 0px 1px 2px rgba(60, 64, 67, 0.3), 0px 1px 3px 1px rgba(60, 64, 67, 0.15);\n",
              "      fill: #174EA6;\n",
              "    }\n",
              "\n",
              "    [theme=dark] .colab-df-convert {\n",
              "      background-color: #3B4455;\n",
              "      fill: #D2E3FC;\n",
              "    }\n",
              "\n",
              "    [theme=dark] .colab-df-convert:hover {\n",
              "      background-color: #434B5C;\n",
              "      box-shadow: 0px 1px 3px 1px rgba(0, 0, 0, 0.15);\n",
              "      filter: drop-shadow(0px 1px 2px rgba(0, 0, 0, 0.3));\n",
              "      fill: #FFFFFF;\n",
              "    }\n",
              "  </style>\n",
              "\n",
              "      <script>\n",
              "        const buttonEl =\n",
              "          document.querySelector('#df-3e8f01f0-3b9a-4772-ad4b-a6bb1c0432a4 button.colab-df-convert');\n",
              "        buttonEl.style.display =\n",
              "          google.colab.kernel.accessAllowed ? 'block' : 'none';\n",
              "\n",
              "        async function convertToInteractive(key) {\n",
              "          const element = document.querySelector('#df-3e8f01f0-3b9a-4772-ad4b-a6bb1c0432a4');\n",
              "          const dataTable =\n",
              "            await google.colab.kernel.invokeFunction('convertToInteractive',\n",
              "                                                     [key], {});\n",
              "          if (!dataTable) return;\n",
              "\n",
              "          const docLinkHtml = 'Like what you see? Visit the ' +\n",
              "            '<a target=\"_blank\" href=https://colab.research.google.com/notebooks/data_table.ipynb>data table notebook</a>'\n",
              "            + ' to learn more about interactive tables.';\n",
              "          element.innerHTML = '';\n",
              "          dataTable['output_type'] = 'display_data';\n",
              "          await google.colab.output.renderOutput(dataTable, element);\n",
              "          const docLink = document.createElement('div');\n",
              "          docLink.innerHTML = docLinkHtml;\n",
              "          element.appendChild(docLink);\n",
              "        }\n",
              "      </script>\n",
              "    </div>\n",
              "  </div>\n"
            ]
          },
          "metadata": {},
          "execution_count": 2
        }
      ]
    },
    {
      "cell_type": "code",
      "source": [
        "from google.colab import files\n",
        "files.upload()  # Select and upload the kaggle.json file\n"
      ],
      "metadata": {
        "colab": {
          "base_uri": "https://localhost:8080/",
          "height": 90
        },
        "id": "FweWQnpcPtbx",
        "outputId": "d7dc4512-0b42-4dac-99b6-ef3424dbea15"
      },
      "execution_count": null,
      "outputs": [
        {
          "output_type": "display_data",
          "data": {
            "text/plain": [
              "<IPython.core.display.HTML object>"
            ],
            "text/html": [
              "\n",
              "     <input type=\"file\" id=\"files-63bc8ab7-9032-4f75-bc33-a7c233bfc930\" name=\"files[]\" multiple disabled\n",
              "        style=\"border:none\" />\n",
              "     <output id=\"result-63bc8ab7-9032-4f75-bc33-a7c233bfc930\">\n",
              "      Upload widget is only available when the cell has been executed in the\n",
              "      current browser session. Please rerun this cell to enable.\n",
              "      </output>\n",
              "      <script>// Copyright 2017 Google LLC\n",
              "//\n",
              "// Licensed under the Apache License, Version 2.0 (the \"License\");\n",
              "// you may not use this file except in compliance with the License.\n",
              "// You may obtain a copy of the License at\n",
              "//\n",
              "//      http://www.apache.org/licenses/LICENSE-2.0\n",
              "//\n",
              "// Unless required by applicable law or agreed to in writing, software\n",
              "// distributed under the License is distributed on an \"AS IS\" BASIS,\n",
              "// WITHOUT WARRANTIES OR CONDITIONS OF ANY KIND, either express or implied.\n",
              "// See the License for the specific language governing permissions and\n",
              "// limitations under the License.\n",
              "\n",
              "/**\n",
              " * @fileoverview Helpers for google.colab Python module.\n",
              " */\n",
              "(function(scope) {\n",
              "function span(text, styleAttributes = {}) {\n",
              "  const element = document.createElement('span');\n",
              "  element.textContent = text;\n",
              "  for (const key of Object.keys(styleAttributes)) {\n",
              "    element.style[key] = styleAttributes[key];\n",
              "  }\n",
              "  return element;\n",
              "}\n",
              "\n",
              "// Max number of bytes which will be uploaded at a time.\n",
              "const MAX_PAYLOAD_SIZE = 100 * 1024;\n",
              "\n",
              "function _uploadFiles(inputId, outputId) {\n",
              "  const steps = uploadFilesStep(inputId, outputId);\n",
              "  const outputElement = document.getElementById(outputId);\n",
              "  // Cache steps on the outputElement to make it available for the next call\n",
              "  // to uploadFilesContinue from Python.\n",
              "  outputElement.steps = steps;\n",
              "\n",
              "  return _uploadFilesContinue(outputId);\n",
              "}\n",
              "\n",
              "// This is roughly an async generator (not supported in the browser yet),\n",
              "// where there are multiple asynchronous steps and the Python side is going\n",
              "// to poll for completion of each step.\n",
              "// This uses a Promise to block the python side on completion of each step,\n",
              "// then passes the result of the previous step as the input to the next step.\n",
              "function _uploadFilesContinue(outputId) {\n",
              "  const outputElement = document.getElementById(outputId);\n",
              "  const steps = outputElement.steps;\n",
              "\n",
              "  const next = steps.next(outputElement.lastPromiseValue);\n",
              "  return Promise.resolve(next.value.promise).then((value) => {\n",
              "    // Cache the last promise value to make it available to the next\n",
              "    // step of the generator.\n",
              "    outputElement.lastPromiseValue = value;\n",
              "    return next.value.response;\n",
              "  });\n",
              "}\n",
              "\n",
              "/**\n",
              " * Generator function which is called between each async step of the upload\n",
              " * process.\n",
              " * @param {string} inputId Element ID of the input file picker element.\n",
              " * @param {string} outputId Element ID of the output display.\n",
              " * @return {!Iterable<!Object>} Iterable of next steps.\n",
              " */\n",
              "function* uploadFilesStep(inputId, outputId) {\n",
              "  const inputElement = document.getElementById(inputId);\n",
              "  inputElement.disabled = false;\n",
              "\n",
              "  const outputElement = document.getElementById(outputId);\n",
              "  outputElement.innerHTML = '';\n",
              "\n",
              "  const pickedPromise = new Promise((resolve) => {\n",
              "    inputElement.addEventListener('change', (e) => {\n",
              "      resolve(e.target.files);\n",
              "    });\n",
              "  });\n",
              "\n",
              "  const cancel = document.createElement('button');\n",
              "  inputElement.parentElement.appendChild(cancel);\n",
              "  cancel.textContent = 'Cancel upload';\n",
              "  const cancelPromise = new Promise((resolve) => {\n",
              "    cancel.onclick = () => {\n",
              "      resolve(null);\n",
              "    };\n",
              "  });\n",
              "\n",
              "  // Wait for the user to pick the files.\n",
              "  const files = yield {\n",
              "    promise: Promise.race([pickedPromise, cancelPromise]),\n",
              "    response: {\n",
              "      action: 'starting',\n",
              "    }\n",
              "  };\n",
              "\n",
              "  cancel.remove();\n",
              "\n",
              "  // Disable the input element since further picks are not allowed.\n",
              "  inputElement.disabled = true;\n",
              "\n",
              "  if (!files) {\n",
              "    return {\n",
              "      response: {\n",
              "        action: 'complete',\n",
              "      }\n",
              "    };\n",
              "  }\n",
              "\n",
              "  for (const file of files) {\n",
              "    const li = document.createElement('li');\n",
              "    li.append(span(file.name, {fontWeight: 'bold'}));\n",
              "    li.append(span(\n",
              "        `(${file.type || 'n/a'}) - ${file.size} bytes, ` +\n",
              "        `last modified: ${\n",
              "            file.lastModifiedDate ? file.lastModifiedDate.toLocaleDateString() :\n",
              "                                    'n/a'} - `));\n",
              "    const percent = span('0% done');\n",
              "    li.appendChild(percent);\n",
              "\n",
              "    outputElement.appendChild(li);\n",
              "\n",
              "    const fileDataPromise = new Promise((resolve) => {\n",
              "      const reader = new FileReader();\n",
              "      reader.onload = (e) => {\n",
              "        resolve(e.target.result);\n",
              "      };\n",
              "      reader.readAsArrayBuffer(file);\n",
              "    });\n",
              "    // Wait for the data to be ready.\n",
              "    let fileData = yield {\n",
              "      promise: fileDataPromise,\n",
              "      response: {\n",
              "        action: 'continue',\n",
              "      }\n",
              "    };\n",
              "\n",
              "    // Use a chunked sending to avoid message size limits. See b/62115660.\n",
              "    let position = 0;\n",
              "    do {\n",
              "      const length = Math.min(fileData.byteLength - position, MAX_PAYLOAD_SIZE);\n",
              "      const chunk = new Uint8Array(fileData, position, length);\n",
              "      position += length;\n",
              "\n",
              "      const base64 = btoa(String.fromCharCode.apply(null, chunk));\n",
              "      yield {\n",
              "        response: {\n",
              "          action: 'append',\n",
              "          file: file.name,\n",
              "          data: base64,\n",
              "        },\n",
              "      };\n",
              "\n",
              "      let percentDone = fileData.byteLength === 0 ?\n",
              "          100 :\n",
              "          Math.round((position / fileData.byteLength) * 100);\n",
              "      percent.textContent = `${percentDone}% done`;\n",
              "\n",
              "    } while (position < fileData.byteLength);\n",
              "  }\n",
              "\n",
              "  // All done.\n",
              "  yield {\n",
              "    response: {\n",
              "      action: 'complete',\n",
              "    }\n",
              "  };\n",
              "}\n",
              "\n",
              "scope.google = scope.google || {};\n",
              "scope.google.colab = scope.google.colab || {};\n",
              "scope.google.colab._files = {\n",
              "  _uploadFiles,\n",
              "  _uploadFilesContinue,\n",
              "};\n",
              "})(self);\n",
              "</script> "
            ]
          },
          "metadata": {}
        },
        {
          "output_type": "stream",
          "name": "stdout",
          "text": [
            "Saving kaggle.json to kaggle.json\n"
          ]
        },
        {
          "output_type": "execute_result",
          "data": {
            "text/plain": [
              "{'kaggle.json': b'{\"username\":\"alirezaakhavansafaei\",\"key\":\"7a1024303e3fdd5f892634f1f6326f03\"}'}"
            ]
          },
          "metadata": {},
          "execution_count": 3
        }
      ]
    },
    {
      "cell_type": "code",
      "source": [
        "!mkdir -p ~/.kaggle\n",
        "!mv kaggle.json ~/.kaggle/\n"
      ],
      "metadata": {
        "id": "VBPWL9M6P5BY"
      },
      "execution_count": null,
      "outputs": []
    },
    {
      "cell_type": "code",
      "source": [
        "!kaggle datasets download -d wolfram77/graphs-snap-higgs-twitter -p /content\n"
      ],
      "metadata": {
        "colab": {
          "base_uri": "https://localhost:8080/"
        },
        "id": "sjnICi4QP9kA",
        "outputId": "bcf76052-0523-4257-db02-afc22194ac0b"
      },
      "execution_count": null,
      "outputs": [
        {
          "output_type": "stream",
          "name": "stdout",
          "text": [
            "Warning: Your Kaggle API key is readable by other users on this system! To fix this, you can run 'chmod 600 /root/.kaggle/kaggle.json'\n",
            "Downloading graphs-snap-higgs-twitter.zip to /content\n",
            " 97% 117M/120M [00:01<00:00, 95.6MB/s]\n",
            "100% 120M/120M [00:01<00:00, 72.1MB/s]\n"
          ]
        }
      ]
    },
    {
      "cell_type": "code",
      "source": [
        "import zipfile\n",
        "\n",
        "with zipfile.ZipFile('/content/graphs-snap-higgs-twitter.zip', 'r') as zip_ref:\n",
        "    zip_ref.extractall('/content/')\n"
      ],
      "metadata": {
        "id": "3rBkjM2FP_Qg"
      },
      "execution_count": null,
      "outputs": []
    },
    {
      "cell_type": "code",
      "source": [
        "import pandas as pd\n",
        "\n",
        "# Replace the path with the correct one if needed\n",
        "file_path = '/content/higgs-activity_time.txt'\n",
        "\n",
        "# Define column names\n",
        "columns = ['id1', 'id2', 'timestamp', 'action']\n",
        "\n",
        "# Read the file into a DataFrame\n",
        "df = pd.read_csv(file_path, sep=' ', header=None, names=columns)\n",
        "\n",
        "# Display the DataFrame\n",
        "df.head()"
      ],
      "metadata": {
        "colab": {
          "base_uri": "https://localhost:8080/",
          "height": 206
        },
        "id": "Y16vbj_rQBSc",
        "outputId": "559beb4e-4ba1-4386-da09-1426a2ad7574"
      },
      "execution_count": null,
      "outputs": [
        {
          "output_type": "execute_result",
          "data": {
            "text/plain": [
              "      id1     id2   timestamp action\n",
              "0  223789  213163  1341100972     MT\n",
              "1  223789  213163  1341100972     RE\n",
              "2  376989   50329  1341101181     RT\n",
              "3   26375  168366  1341101183     MT\n",
              "4  376989   13813  1341101192     RT"
            ],
            "text/html": [
              "\n",
              "\n",
              "  <div id=\"df-7fbed77b-ddc8-4aa9-9ab5-032bdfba6b36\">\n",
              "    <div class=\"colab-df-container\">\n",
              "      <div>\n",
              "<style scoped>\n",
              "    .dataframe tbody tr th:only-of-type {\n",
              "        vertical-align: middle;\n",
              "    }\n",
              "\n",
              "    .dataframe tbody tr th {\n",
              "        vertical-align: top;\n",
              "    }\n",
              "\n",
              "    .dataframe thead th {\n",
              "        text-align: right;\n",
              "    }\n",
              "</style>\n",
              "<table border=\"1\" class=\"dataframe\">\n",
              "  <thead>\n",
              "    <tr style=\"text-align: right;\">\n",
              "      <th></th>\n",
              "      <th>id1</th>\n",
              "      <th>id2</th>\n",
              "      <th>timestamp</th>\n",
              "      <th>action</th>\n",
              "    </tr>\n",
              "  </thead>\n",
              "  <tbody>\n",
              "    <tr>\n",
              "      <th>0</th>\n",
              "      <td>223789</td>\n",
              "      <td>213163</td>\n",
              "      <td>1341100972</td>\n",
              "      <td>MT</td>\n",
              "    </tr>\n",
              "    <tr>\n",
              "      <th>1</th>\n",
              "      <td>223789</td>\n",
              "      <td>213163</td>\n",
              "      <td>1341100972</td>\n",
              "      <td>RE</td>\n",
              "    </tr>\n",
              "    <tr>\n",
              "      <th>2</th>\n",
              "      <td>376989</td>\n",
              "      <td>50329</td>\n",
              "      <td>1341101181</td>\n",
              "      <td>RT</td>\n",
              "    </tr>\n",
              "    <tr>\n",
              "      <th>3</th>\n",
              "      <td>26375</td>\n",
              "      <td>168366</td>\n",
              "      <td>1341101183</td>\n",
              "      <td>MT</td>\n",
              "    </tr>\n",
              "    <tr>\n",
              "      <th>4</th>\n",
              "      <td>376989</td>\n",
              "      <td>13813</td>\n",
              "      <td>1341101192</td>\n",
              "      <td>RT</td>\n",
              "    </tr>\n",
              "  </tbody>\n",
              "</table>\n",
              "</div>\n",
              "      <button class=\"colab-df-convert\" onclick=\"convertToInteractive('df-7fbed77b-ddc8-4aa9-9ab5-032bdfba6b36')\"\n",
              "              title=\"Convert this dataframe to an interactive table.\"\n",
              "              style=\"display:none;\">\n",
              "\n",
              "  <svg xmlns=\"http://www.w3.org/2000/svg\" height=\"24px\"viewBox=\"0 0 24 24\"\n",
              "       width=\"24px\">\n",
              "    <path d=\"M0 0h24v24H0V0z\" fill=\"none\"/>\n",
              "    <path d=\"M18.56 5.44l.94 2.06.94-2.06 2.06-.94-2.06-.94-.94-2.06-.94 2.06-2.06.94zm-11 1L8.5 8.5l.94-2.06 2.06-.94-2.06-.94L8.5 2.5l-.94 2.06-2.06.94zm10 10l.94 2.06.94-2.06 2.06-.94-2.06-.94-.94-2.06-.94 2.06-2.06.94z\"/><path d=\"M17.41 7.96l-1.37-1.37c-.4-.4-.92-.59-1.43-.59-.52 0-1.04.2-1.43.59L10.3 9.45l-7.72 7.72c-.78.78-.78 2.05 0 2.83L4 21.41c.39.39.9.59 1.41.59.51 0 1.02-.2 1.41-.59l7.78-7.78 2.81-2.81c.8-.78.8-2.07 0-2.86zM5.41 20L4 18.59l7.72-7.72 1.47 1.35L5.41 20z\"/>\n",
              "  </svg>\n",
              "      </button>\n",
              "\n",
              "\n",
              "\n",
              "    <div id=\"df-2a86905c-4d9f-4c27-8521-7334d40a4f35\">\n",
              "      <button class=\"colab-df-quickchart\" onclick=\"quickchart('df-2a86905c-4d9f-4c27-8521-7334d40a4f35')\"\n",
              "              title=\"Suggest charts.\"\n",
              "              style=\"display:none;\">\n",
              "\n",
              "<svg xmlns=\"http://www.w3.org/2000/svg\" height=\"24px\"viewBox=\"0 0 24 24\"\n",
              "     width=\"24px\">\n",
              "    <g>\n",
              "        <path d=\"M19 3H5c-1.1 0-2 .9-2 2v14c0 1.1.9 2 2 2h14c1.1 0 2-.9 2-2V5c0-1.1-.9-2-2-2zM9 17H7v-7h2v7zm4 0h-2V7h2v10zm4 0h-2v-4h2v4z\"/>\n",
              "    </g>\n",
              "</svg>\n",
              "      </button>\n",
              "    </div>\n",
              "\n",
              "<style>\n",
              "  .colab-df-quickchart {\n",
              "    background-color: #E8F0FE;\n",
              "    border: none;\n",
              "    border-radius: 50%;\n",
              "    cursor: pointer;\n",
              "    display: none;\n",
              "    fill: #1967D2;\n",
              "    height: 32px;\n",
              "    padding: 0 0 0 0;\n",
              "    width: 32px;\n",
              "  }\n",
              "\n",
              "  .colab-df-quickchart:hover {\n",
              "    background-color: #E2EBFA;\n",
              "    box-shadow: 0px 1px 2px rgba(60, 64, 67, 0.3), 0px 1px 3px 1px rgba(60, 64, 67, 0.15);\n",
              "    fill: #174EA6;\n",
              "  }\n",
              "\n",
              "  [theme=dark] .colab-df-quickchart {\n",
              "    background-color: #3B4455;\n",
              "    fill: #D2E3FC;\n",
              "  }\n",
              "\n",
              "  [theme=dark] .colab-df-quickchart:hover {\n",
              "    background-color: #434B5C;\n",
              "    box-shadow: 0px 1px 3px 1px rgba(0, 0, 0, 0.15);\n",
              "    filter: drop-shadow(0px 1px 2px rgba(0, 0, 0, 0.3));\n",
              "    fill: #FFFFFF;\n",
              "  }\n",
              "</style>\n",
              "\n",
              "    <script>\n",
              "      async function quickchart(key) {\n",
              "        const containerElement = document.querySelector('#' + key);\n",
              "        const charts = await google.colab.kernel.invokeFunction(\n",
              "            'suggestCharts', [key], {});\n",
              "      }\n",
              "    </script>\n",
              "\n",
              "      <script>\n",
              "\n",
              "function displayQuickchartButton(domScope) {\n",
              "  let quickchartButtonEl =\n",
              "    domScope.querySelector('#df-2a86905c-4d9f-4c27-8521-7334d40a4f35 button.colab-df-quickchart');\n",
              "  quickchartButtonEl.style.display =\n",
              "    google.colab.kernel.accessAllowed ? 'block' : 'none';\n",
              "}\n",
              "\n",
              "        displayQuickchartButton(document);\n",
              "      </script>\n",
              "      <style>\n",
              "    .colab-df-container {\n",
              "      display:flex;\n",
              "      flex-wrap:wrap;\n",
              "      gap: 12px;\n",
              "    }\n",
              "\n",
              "    .colab-df-convert {\n",
              "      background-color: #E8F0FE;\n",
              "      border: none;\n",
              "      border-radius: 50%;\n",
              "      cursor: pointer;\n",
              "      display: none;\n",
              "      fill: #1967D2;\n",
              "      height: 32px;\n",
              "      padding: 0 0 0 0;\n",
              "      width: 32px;\n",
              "    }\n",
              "\n",
              "    .colab-df-convert:hover {\n",
              "      background-color: #E2EBFA;\n",
              "      box-shadow: 0px 1px 2px rgba(60, 64, 67, 0.3), 0px 1px 3px 1px rgba(60, 64, 67, 0.15);\n",
              "      fill: #174EA6;\n",
              "    }\n",
              "\n",
              "    [theme=dark] .colab-df-convert {\n",
              "      background-color: #3B4455;\n",
              "      fill: #D2E3FC;\n",
              "    }\n",
              "\n",
              "    [theme=dark] .colab-df-convert:hover {\n",
              "      background-color: #434B5C;\n",
              "      box-shadow: 0px 1px 3px 1px rgba(0, 0, 0, 0.15);\n",
              "      filter: drop-shadow(0px 1px 2px rgba(0, 0, 0, 0.3));\n",
              "      fill: #FFFFFF;\n",
              "    }\n",
              "  </style>\n",
              "\n",
              "      <script>\n",
              "        const buttonEl =\n",
              "          document.querySelector('#df-7fbed77b-ddc8-4aa9-9ab5-032bdfba6b36 button.colab-df-convert');\n",
              "        buttonEl.style.display =\n",
              "          google.colab.kernel.accessAllowed ? 'block' : 'none';\n",
              "\n",
              "        async function convertToInteractive(key) {\n",
              "          const element = document.querySelector('#df-7fbed77b-ddc8-4aa9-9ab5-032bdfba6b36');\n",
              "          const dataTable =\n",
              "            await google.colab.kernel.invokeFunction('convertToInteractive',\n",
              "                                                     [key], {});\n",
              "          if (!dataTable) return;\n",
              "\n",
              "          const docLinkHtml = 'Like what you see? Visit the ' +\n",
              "            '<a target=\"_blank\" href=https://colab.research.google.com/notebooks/data_table.ipynb>data table notebook</a>'\n",
              "            + ' to learn more about interactive tables.';\n",
              "          element.innerHTML = '';\n",
              "          dataTable['output_type'] = 'display_data';\n",
              "          await google.colab.output.renderOutput(dataTable, element);\n",
              "          const docLink = document.createElement('div');\n",
              "          docLink.innerHTML = docLinkHtml;\n",
              "          element.appendChild(docLink);\n",
              "        }\n",
              "      </script>\n",
              "    </div>\n",
              "  </div>\n"
            ]
          },
          "metadata": {},
          "execution_count": 7
        }
      ]
    },
    {
      "cell_type": "code",
      "source": [
        "import pandas as pd\n",
        "\n",
        "# Assuming you have already defined Df and df\n",
        "\n",
        "# Find all unique IDs in Df (ID1 + ID2 set)\n",
        "unique_ids_set = set(DF['ID1']).union(set(DF['ID2']))\n",
        "\n",
        "# Filter df to keep only records with valid IDs in id1 or id2\n",
        "df_filtered = df[df['id1'].isin(unique_ids_set) & df['id2'].isin(unique_ids_set)]\n",
        "\n",
        "# Display the filtered DataFrame\n",
        "df_filtered"
      ],
      "metadata": {
        "colab": {
          "base_uri": "https://localhost:8080/",
          "height": 423
        },
        "id": "A1vYN-HmQ7w0",
        "outputId": "55dbd332-2762-4beb-ec5a-12eb761ed845"
      },
      "execution_count": null,
      "outputs": [
        {
          "output_type": "execute_result",
          "data": {
            "text/plain": [
              "           id1     id2   timestamp action\n",
              "0       223789  213163  1341100972     MT\n",
              "1       223789  213163  1341100972     RE\n",
              "7        99258   50329  1341101263     RT\n",
              "12       75083   84647  1341101732     RT\n",
              "13       75083   42182  1341101732     MT\n",
              "...        ...     ...         ...    ...\n",
              "563055   85314   85314  1341705426     MT\n",
              "563058    9021   80429  1341705452     MT\n",
              "563059    9021   80429  1341705452     RE\n",
              "563065   19979   49694  1341705552     MT\n",
              "563066   19979   80429  1341705552     MT\n",
              "\n",
              "[73380 rows x 4 columns]"
            ],
            "text/html": [
              "\n",
              "\n",
              "  <div id=\"df-e23f6452-6bf2-4176-84fc-c1b3ce1bc77e\">\n",
              "    <div class=\"colab-df-container\">\n",
              "      <div>\n",
              "<style scoped>\n",
              "    .dataframe tbody tr th:only-of-type {\n",
              "        vertical-align: middle;\n",
              "    }\n",
              "\n",
              "    .dataframe tbody tr th {\n",
              "        vertical-align: top;\n",
              "    }\n",
              "\n",
              "    .dataframe thead th {\n",
              "        text-align: right;\n",
              "    }\n",
              "</style>\n",
              "<table border=\"1\" class=\"dataframe\">\n",
              "  <thead>\n",
              "    <tr style=\"text-align: right;\">\n",
              "      <th></th>\n",
              "      <th>id1</th>\n",
              "      <th>id2</th>\n",
              "      <th>timestamp</th>\n",
              "      <th>action</th>\n",
              "    </tr>\n",
              "  </thead>\n",
              "  <tbody>\n",
              "    <tr>\n",
              "      <th>0</th>\n",
              "      <td>223789</td>\n",
              "      <td>213163</td>\n",
              "      <td>1341100972</td>\n",
              "      <td>MT</td>\n",
              "    </tr>\n",
              "    <tr>\n",
              "      <th>1</th>\n",
              "      <td>223789</td>\n",
              "      <td>213163</td>\n",
              "      <td>1341100972</td>\n",
              "      <td>RE</td>\n",
              "    </tr>\n",
              "    <tr>\n",
              "      <th>7</th>\n",
              "      <td>99258</td>\n",
              "      <td>50329</td>\n",
              "      <td>1341101263</td>\n",
              "      <td>RT</td>\n",
              "    </tr>\n",
              "    <tr>\n",
              "      <th>12</th>\n",
              "      <td>75083</td>\n",
              "      <td>84647</td>\n",
              "      <td>1341101732</td>\n",
              "      <td>RT</td>\n",
              "    </tr>\n",
              "    <tr>\n",
              "      <th>13</th>\n",
              "      <td>75083</td>\n",
              "      <td>42182</td>\n",
              "      <td>1341101732</td>\n",
              "      <td>MT</td>\n",
              "    </tr>\n",
              "    <tr>\n",
              "      <th>...</th>\n",
              "      <td>...</td>\n",
              "      <td>...</td>\n",
              "      <td>...</td>\n",
              "      <td>...</td>\n",
              "    </tr>\n",
              "    <tr>\n",
              "      <th>563055</th>\n",
              "      <td>85314</td>\n",
              "      <td>85314</td>\n",
              "      <td>1341705426</td>\n",
              "      <td>MT</td>\n",
              "    </tr>\n",
              "    <tr>\n",
              "      <th>563058</th>\n",
              "      <td>9021</td>\n",
              "      <td>80429</td>\n",
              "      <td>1341705452</td>\n",
              "      <td>MT</td>\n",
              "    </tr>\n",
              "    <tr>\n",
              "      <th>563059</th>\n",
              "      <td>9021</td>\n",
              "      <td>80429</td>\n",
              "      <td>1341705452</td>\n",
              "      <td>RE</td>\n",
              "    </tr>\n",
              "    <tr>\n",
              "      <th>563065</th>\n",
              "      <td>19979</td>\n",
              "      <td>49694</td>\n",
              "      <td>1341705552</td>\n",
              "      <td>MT</td>\n",
              "    </tr>\n",
              "    <tr>\n",
              "      <th>563066</th>\n",
              "      <td>19979</td>\n",
              "      <td>80429</td>\n",
              "      <td>1341705552</td>\n",
              "      <td>MT</td>\n",
              "    </tr>\n",
              "  </tbody>\n",
              "</table>\n",
              "<p>73380 rows × 4 columns</p>\n",
              "</div>\n",
              "      <button class=\"colab-df-convert\" onclick=\"convertToInteractive('df-e23f6452-6bf2-4176-84fc-c1b3ce1bc77e')\"\n",
              "              title=\"Convert this dataframe to an interactive table.\"\n",
              "              style=\"display:none;\">\n",
              "\n",
              "  <svg xmlns=\"http://www.w3.org/2000/svg\" height=\"24px\"viewBox=\"0 0 24 24\"\n",
              "       width=\"24px\">\n",
              "    <path d=\"M0 0h24v24H0V0z\" fill=\"none\"/>\n",
              "    <path d=\"M18.56 5.44l.94 2.06.94-2.06 2.06-.94-2.06-.94-.94-2.06-.94 2.06-2.06.94zm-11 1L8.5 8.5l.94-2.06 2.06-.94-2.06-.94L8.5 2.5l-.94 2.06-2.06.94zm10 10l.94 2.06.94-2.06 2.06-.94-2.06-.94-.94-2.06-.94 2.06-2.06.94z\"/><path d=\"M17.41 7.96l-1.37-1.37c-.4-.4-.92-.59-1.43-.59-.52 0-1.04.2-1.43.59L10.3 9.45l-7.72 7.72c-.78.78-.78 2.05 0 2.83L4 21.41c.39.39.9.59 1.41.59.51 0 1.02-.2 1.41-.59l7.78-7.78 2.81-2.81c.8-.78.8-2.07 0-2.86zM5.41 20L4 18.59l7.72-7.72 1.47 1.35L5.41 20z\"/>\n",
              "  </svg>\n",
              "      </button>\n",
              "\n",
              "\n",
              "\n",
              "    <div id=\"df-067a1a2d-fa90-4ae4-9c5e-6872aaa17911\">\n",
              "      <button class=\"colab-df-quickchart\" onclick=\"quickchart('df-067a1a2d-fa90-4ae4-9c5e-6872aaa17911')\"\n",
              "              title=\"Suggest charts.\"\n",
              "              style=\"display:none;\">\n",
              "\n",
              "<svg xmlns=\"http://www.w3.org/2000/svg\" height=\"24px\"viewBox=\"0 0 24 24\"\n",
              "     width=\"24px\">\n",
              "    <g>\n",
              "        <path d=\"M19 3H5c-1.1 0-2 .9-2 2v14c0 1.1.9 2 2 2h14c1.1 0 2-.9 2-2V5c0-1.1-.9-2-2-2zM9 17H7v-7h2v7zm4 0h-2V7h2v10zm4 0h-2v-4h2v4z\"/>\n",
              "    </g>\n",
              "</svg>\n",
              "      </button>\n",
              "    </div>\n",
              "\n",
              "<style>\n",
              "  .colab-df-quickchart {\n",
              "    background-color: #E8F0FE;\n",
              "    border: none;\n",
              "    border-radius: 50%;\n",
              "    cursor: pointer;\n",
              "    display: none;\n",
              "    fill: #1967D2;\n",
              "    height: 32px;\n",
              "    padding: 0 0 0 0;\n",
              "    width: 32px;\n",
              "  }\n",
              "\n",
              "  .colab-df-quickchart:hover {\n",
              "    background-color: #E2EBFA;\n",
              "    box-shadow: 0px 1px 2px rgba(60, 64, 67, 0.3), 0px 1px 3px 1px rgba(60, 64, 67, 0.15);\n",
              "    fill: #174EA6;\n",
              "  }\n",
              "\n",
              "  [theme=dark] .colab-df-quickchart {\n",
              "    background-color: #3B4455;\n",
              "    fill: #D2E3FC;\n",
              "  }\n",
              "\n",
              "  [theme=dark] .colab-df-quickchart:hover {\n",
              "    background-color: #434B5C;\n",
              "    box-shadow: 0px 1px 3px 1px rgba(0, 0, 0, 0.15);\n",
              "    filter: drop-shadow(0px 1px 2px rgba(0, 0, 0, 0.3));\n",
              "    fill: #FFFFFF;\n",
              "  }\n",
              "</style>\n",
              "\n",
              "    <script>\n",
              "      async function quickchart(key) {\n",
              "        const containerElement = document.querySelector('#' + key);\n",
              "        const charts = await google.colab.kernel.invokeFunction(\n",
              "            'suggestCharts', [key], {});\n",
              "      }\n",
              "    </script>\n",
              "\n",
              "      <script>\n",
              "\n",
              "function displayQuickchartButton(domScope) {\n",
              "  let quickchartButtonEl =\n",
              "    domScope.querySelector('#df-067a1a2d-fa90-4ae4-9c5e-6872aaa17911 button.colab-df-quickchart');\n",
              "  quickchartButtonEl.style.display =\n",
              "    google.colab.kernel.accessAllowed ? 'block' : 'none';\n",
              "}\n",
              "\n",
              "        displayQuickchartButton(document);\n",
              "      </script>\n",
              "      <style>\n",
              "    .colab-df-container {\n",
              "      display:flex;\n",
              "      flex-wrap:wrap;\n",
              "      gap: 12px;\n",
              "    }\n",
              "\n",
              "    .colab-df-convert {\n",
              "      background-color: #E8F0FE;\n",
              "      border: none;\n",
              "      border-radius: 50%;\n",
              "      cursor: pointer;\n",
              "      display: none;\n",
              "      fill: #1967D2;\n",
              "      height: 32px;\n",
              "      padding: 0 0 0 0;\n",
              "      width: 32px;\n",
              "    }\n",
              "\n",
              "    .colab-df-convert:hover {\n",
              "      background-color: #E2EBFA;\n",
              "      box-shadow: 0px 1px 2px rgba(60, 64, 67, 0.3), 0px 1px 3px 1px rgba(60, 64, 67, 0.15);\n",
              "      fill: #174EA6;\n",
              "    }\n",
              "\n",
              "    [theme=dark] .colab-df-convert {\n",
              "      background-color: #3B4455;\n",
              "      fill: #D2E3FC;\n",
              "    }\n",
              "\n",
              "    [theme=dark] .colab-df-convert:hover {\n",
              "      background-color: #434B5C;\n",
              "      box-shadow: 0px 1px 3px 1px rgba(0, 0, 0, 0.15);\n",
              "      filter: drop-shadow(0px 1px 2px rgba(0, 0, 0, 0.3));\n",
              "      fill: #FFFFFF;\n",
              "    }\n",
              "  </style>\n",
              "\n",
              "      <script>\n",
              "        const buttonEl =\n",
              "          document.querySelector('#df-e23f6452-6bf2-4176-84fc-c1b3ce1bc77e button.colab-df-convert');\n",
              "        buttonEl.style.display =\n",
              "          google.colab.kernel.accessAllowed ? 'block' : 'none';\n",
              "\n",
              "        async function convertToInteractive(key) {\n",
              "          const element = document.querySelector('#df-e23f6452-6bf2-4176-84fc-c1b3ce1bc77e');\n",
              "          const dataTable =\n",
              "            await google.colab.kernel.invokeFunction('convertToInteractive',\n",
              "                                                     [key], {});\n",
              "          if (!dataTable) return;\n",
              "\n",
              "          const docLinkHtml = 'Like what you see? Visit the ' +\n",
              "            '<a target=\"_blank\" href=https://colab.research.google.com/notebooks/data_table.ipynb>data table notebook</a>'\n",
              "            + ' to learn more about interactive tables.';\n",
              "          element.innerHTML = '';\n",
              "          dataTable['output_type'] = 'display_data';\n",
              "          await google.colab.output.renderOutput(dataTable, element);\n",
              "          const docLink = document.createElement('div');\n",
              "          docLink.innerHTML = docLinkHtml;\n",
              "          element.appendChild(docLink);\n",
              "        }\n",
              "      </script>\n",
              "    </div>\n",
              "  </div>\n"
            ]
          },
          "metadata": {},
          "execution_count": 8
        }
      ]
    },
    {
      "cell_type": "code",
      "source": [
        "df=df_filtered"
      ],
      "metadata": {
        "id": "jd6dpTRNRCEC"
      },
      "execution_count": null,
      "outputs": []
    },
    {
      "cell_type": "code",
      "source": [
        "# Function to print a dictionary up to a specified number of records\n",
        "def print_dictionary(dictionary, limit=100):\n",
        "    print(\"{\")\n",
        "    count = 0\n",
        "    for key, value in dictionary.items():\n",
        "        if count >= limit:\n",
        "            break\n",
        "        print(f\"    {key}: {value}\")\n",
        "        count += 1\n",
        "    print(\"}\")\n"
      ],
      "metadata": {
        "id": "q3EVnmuCRFdV"
      },
      "execution_count": null,
      "outputs": []
    },
    {
      "cell_type": "code",
      "source": [
        "# Assuming you have already read the file and have the pandas DataFrame 'df'\n",
        "\n",
        "# Initialize the dictionaries to store the results\n",
        "MT_dict = {}\n",
        "RT_dict = {}\n",
        "RE_dict = {}\n",
        "merged_dict = {}\n",
        "total_dict = {}\n",
        "\n",
        "# Set the number of records to process before printing the progress\n",
        "records_to_print = 1000\n",
        "processed_records = 0\n",
        "total_records = len(df)\n",
        "\n",
        "# Loop over the DataFrame\n",
        "for index, row in df.iterrows():\n",
        "    if row['action'] == 'MT':\n",
        "        key = row['id2']\n",
        "        value = row['id1']\n",
        "\n",
        "        # Check if the key exists in the dictionary, if not, initialize an empty list\n",
        "        if key not in MT_dict:\n",
        "            MT_dict[key] = []\n",
        "\n",
        "        # Append the value to the list\n",
        "        MT_dict[key].append(value)\n",
        "\n",
        "        # Update the merged dictionary with the value and prefix\n",
        "        if key not in merged_dict:\n",
        "            merged_dict[key] =[]\n",
        "\n",
        "        merged_dict[key].append(f\"MT-{value}\")\n",
        "        if key not in total_dict:\n",
        "            total_dict[key] =[]\n",
        "\n",
        "        total_dict[key].append(value)\n",
        "    elif row['action'] == 'RT':\n",
        "        key = row['id2']\n",
        "        value = row['id1']\n",
        "\n",
        "        # Check if the key exists in the dictionary, if not, initialize an empty list\n",
        "        if key not in RT_dict:\n",
        "            RT_dict[key] = []\n",
        "\n",
        "        # Append the value to the list\n",
        "        RT_dict[key].append(value)\n",
        "\n",
        "        # Update the merged dictionary with the value and prefix\n",
        "        if key not in merged_dict:\n",
        "            merged_dict[key] =[]\n",
        "        merged_dict[key].append(f\"RT-{value}\")\n",
        "        if key not in total_dict:\n",
        "            total_dict[key] =[]\n",
        "\n",
        "        total_dict[key].append(value)\n",
        "    elif row['action'] == 'RE':\n",
        "        key = row['id2']\n",
        "        value = row['id1']\n",
        "\n",
        "        # Check if the key exists in the dictionary, if not, initialize an empty list\n",
        "        if key not in RE_dict:\n",
        "            RE_dict[key] = []\n",
        "\n",
        "        # Append the value to the list\n",
        "        RE_dict[key].append(value)\n",
        "\n",
        "        # Update the merged dictionary with the value and prefix\n",
        "        if key not in merged_dict:\n",
        "            merged_dict[key] =[]\n",
        "        merged_dict[key].append(f\"RE-{value}\")\n",
        "        if key not in total_dict:\n",
        "            total_dict[key] =[]\n",
        "\n",
        "        total_dict[key].append(value)\n",
        "\n",
        "    processed_records += 1\n",
        "    if processed_records % records_to_print == 0 or processed_records == total_records:\n",
        "        percentage_complete = (processed_records / total_records) * 100\n",
        "        print(f'\\rProgress: {percentage_complete:.2f}%  ', end='')\n",
        "\n",
        "# Display the merged dictionary\n",
        "print(\"\\nMerged Dictionary:\")\n",
        "print_dictionary(merged_dict, limit=10)\n",
        "print(\"\\nTotal Dictionary:\")\n",
        "print_dictionary(total_dict, limit=10)"
      ],
      "metadata": {
        "colab": {
          "base_uri": "https://localhost:8080/"
        },
        "id": "wbthuxU5RIi3",
        "outputId": "8b10e4b4-0e86-412b-c69d-53fbe1a0bfdf"
      },
      "execution_count": null,
      "outputs": [
        {
          "output_type": "stream",
          "name": "stdout",
          "text": [
            "Progress: 100.00%  \n",
            "Merged Dictionary:\n",
            "{\n",
            "    213163: ['MT-223789', 'RE-223789', 'MT-213163', 'MT-246023', 'RE-246023', 'MT-213163']\n",
            "    50329: ['RT-99258', 'RT-56426', 'RT-153793', 'RT-184805', 'RT-832', 'RT-30184', 'RT-832', 'RT-56426', 'RT-84647', 'RT-36417', 'MT-50191', 'MT-832', 'MT-26129', 'MT-9952']\n",
            "    84647: ['RT-75083', 'MT-3604', 'RT-3933', 'MT-68939', 'MT-64367', 'RT-42180', 'MT-44086', 'RT-3604', 'RT-22814', 'MT-22814', 'MT-11953', 'RT-11953', 'MT-6793', 'MT-11953', 'RT-88838']\n",
            "    42182: ['MT-75083', 'MT-89805', 'RT-6072', 'RT-103447', 'MT-89805', 'MT-89805', 'MT-89805', 'MT-6072', 'RE-6072', 'RT-6072', 'RT-56968', 'MT-89805', 'RT-39885', 'RT-35604', 'MT-92274', 'MT-92274', 'RT-25661', 'MT-89805', 'MT-42182', 'RT-6072', 'MT-42172', 'RT-116270', 'MT-89805', 'MT-11991', 'MT-56968', 'MT-6072', 'RE-6072', 'RT-96198', 'MT-1276', 'RT-4182', 'RT-86501', 'RT-136057', 'RT-44086', 'MT-2373', 'MT-89805', 'RT-65926', 'RT-31022', 'RT-35604', 'RT-175264', 'MT-2527', 'RT-39885', 'MT-63619', 'RT-12745', 'MT-41854', 'RT-11991', 'MT-86496', 'RT-11991', 'RT-6072', 'MT-1276', 'MT-37162', 'MT-35707', 'MT-31624', 'MT-67647', 'RT-15161', 'RT-22195', 'RT-78258', 'RT-139451', 'RT-56968', 'MT-58912', 'RT-35604', 'RT-103447', 'MT-26158', 'MT-42172', 'MT-137587', 'RT-4138', 'RT-16057', 'RT-100672', 'MT-11991', 'MT-13809', 'MT-56968', 'MT-11991', 'MT-13809', 'MT-56968', 'MT-13754', 'MT-13754', 'MT-42182', 'MT-110903', 'MT-11991', 'MT-11991', 'MT-42172', 'MT-3287', 'MT-89805']\n",
            "    2417: ['MT-10284', 'MT-104567', 'MT-43515', 'MT-16970', 'MT-6269', 'MT-16936', 'MT-3013', 'MT-80267', 'MT-101592', 'MT-114548', 'MT-35382', 'MT-113596', 'MT-49179', 'MT-1471', 'MT-142187', 'MT-35738', 'MT-185145', 'MT-80864', 'MT-16970', 'MT-35738', 'MT-85796', 'MT-6940', 'MT-56426', 'RT-97433', 'RT-163757', 'RT-142114', 'RT-120800', 'RT-141185', 'MT-91518', 'MT-423', 'MT-1475', 'MT-13482', 'MT-20368', 'MT-4372', 'RT-2183', 'RT-15596', 'RT-42663', 'RT-28479', 'MT-164883', 'RE-164883', 'MT-51889', 'MT-147790', 'MT-457', 'RT-57346', 'RT-47220', 'RT-143596', 'MT-15295', 'MT-88114', 'MT-220949', 'MT-27050', 'MT-10392', 'MT-67190', 'MT-26103', 'MT-86516', 'MT-36268', 'MT-91518', 'MT-187941', 'MT-33776', 'MT-10255', 'MT-34289', 'MT-2373', 'MT-107135', 'MT-12751', 'MT-101238', 'MT-20493', 'MT-70191', 'MT-128', 'MT-666', 'RT-18438', 'RT-143185', 'MT-123517', 'RT-49174', 'MT-79067', 'MT-19695', 'MT-2733', 'MT-15188', 'MT-175276', 'MT-2684', 'MT-161376', 'MT-1077', 'MT-101238', 'MT-29542', 'MT-113578', 'MT-66389', 'MT-59194', 'RT-43942', 'MT-79201', 'MT-175282', 'MT-461', 'RT-87234', 'MT-84199', 'MT-19170', 'MT-94719', 'MT-13482', 'MT-2500', 'MT-85470', 'MT-29522', 'MT-57674', 'MT-9133', 'MT-182941', 'MT-11059', 'MT-78866', 'MT-102909', 'MT-157650', 'MT-44177', 'MT-186289', 'MT-15521', 'MT-2417', 'MT-72443', 'MT-55783', 'MT-48039', 'MT-8618', 'MT-140723', 'RE-140723', 'RT-16872', 'MT-91900', 'MT-47327', 'MT-48298', 'MT-80380', 'RT-114701', 'MT-26161', 'MT-4669', 'MT-203515', 'MT-36266', 'MT-36266', 'MT-40856', 'MT-14245', 'MT-164400', 'MT-15772', 'RT-38328', 'RT-27311', 'MT-201883', 'MT-329', 'MT-126034', 'MT-26067', 'RT-95510', 'MT-32849', 'MT-117664', 'RT-32357', 'MT-22240', 'RT-53049', 'MT-80732', 'MT-48272', 'RT-202367', 'RT-119591', 'RT-163805', 'RT-4342', 'RT-7322', 'MT-101238', 'MT-4841', 'MT-118990', 'MT-13566', 'MT-17530', 'RT-100597', 'RT-129931', 'RT-33875', 'MT-93339', 'RT-52274', 'MT-7815', 'RT-43168', 'MT-27050', 'RT-27811', 'MT-59177', 'RE-59177', 'MT-59155', 'RE-59155', 'MT-19192', 'RT-8384', 'RT-186996', 'MT-2083', 'MT-107138', 'MT-6269', 'RT-63454', 'MT-206354', 'RT-36286', 'RT-36264', 'MT-103150', 'RT-286465', 'MT-22357', 'MT-38545', 'RT-85033', 'MT-24543', 'RT-4509', 'RT-103954', 'MT-14567', 'RT-86049', 'MT-128023', 'MT-13799', 'MT-73105', 'MT-18349', 'MT-12153', 'MT-75519', 'MT-40980', 'MT-30525', 'MT-44983', 'MT-30525', 'MT-31207', 'MT-31207', 'MT-33145', 'MT-13900', 'MT-43314', 'MT-123413', 'MT-43314', 'MT-18878', 'MT-112140', 'RT-36288', 'MT-14889', 'MT-230282', 'MT-148719', 'RE-148719', 'MT-15295', 'MT-8473', 'RT-57094', 'MT-41649', 'MT-40980', 'MT-13776', 'MT-89805', 'MT-255365', 'MT-22805', 'RT-130438', 'MT-113574', 'MT-30226', 'MT-8966', 'MT-272693', 'MT-29542', 'MT-5087', 'MT-146637', 'RT-191812', 'MT-43314', 'MT-369', 'MT-110094', 'MT-149736', 'MT-35442', 'MT-78600', 'MT-21923', 'MT-27788', 'MT-164145', 'MT-65590', 'MT-66207', 'MT-4980', 'MT-33788', 'MT-87695', 'MT-87305', 'MT-30827', 'MT-8170', 'MT-9044', 'MT-40592', 'MT-11141', 'MT-3704', 'MT-80886', 'MT-3614', 'MT-95510', 'RT-238968', 'MT-91611', 'RT-94961', 'RT-100833', 'RT-79873', 'MT-66226', 'RT-208482', 'RT-141185', 'RT-98651', 'RT-118008', 'MT-59194', 'RT-116277', 'MT-19200', 'MT-25688', 'MT-29423', 'MT-31225', 'RT-74533', 'MT-4576', 'MT-59264', 'MT-15521', 'MT-104101', 'MT-163627', 'MT-13799', 'MT-39405', 'MT-63817', 'MT-26103', 'MT-86634', 'MT-104567', 'RT-74220', 'MT-91518', 'RT-66320', 'RT-78929', 'RT-1159', 'MT-2172', 'MT-677', 'MT-260011', 'MT-117972', 'MT-11531', 'MT-238028', 'MT-51181', 'MT-42984', 'RT-118008', 'RT-110454', 'MT-170699', 'MT-272693', 'RT-170699', 'MT-272693', 'MT-171433', 'MT-49158', 'MT-11876', 'MT-81203', 'MT-255534', 'MT-84016', 'MT-99030', 'MT-1077', 'MT-153793', 'MT-107895', 'MT-197236', 'MT-34888', 'MT-17509', 'MT-5086', 'MT-70626', 'MT-99030', 'MT-142100', 'MT-65866', 'MT-142114', 'MT-203659', 'MT-3188', 'MT-32486', 'MT-181919', 'RT-26737', 'MT-66046', 'MT-85844', 'MT-80787', 'MT-145675', 'MT-366829', 'MT-366829', 'MT-50885', 'MT-16970', 'MT-164246', 'MT-16970', 'MT-17041', 'MT-98115', 'MT-4293', 'MT-181053', 'MT-69596', 'MT-93756', 'MT-163646', 'MT-38184', 'MT-150048', 'MT-15275', 'MT-37788', 'MT-65650', 'MT-73130', 'MT-36345', 'RT-34749', 'MT-58848', 'MT-18565', 'MT-164749', 'MT-59639', 'MT-3869', 'RT-95257', 'MT-101238', 'MT-89807', 'RT-26941', 'MT-12751', 'MT-132968', 'MT-27295', 'MT-54301', 'MT-158607', 'MT-13900', 'MT-149467', 'MT-50948', 'MT-4093', 'MT-131385', 'MT-439', 'MT-14957', 'MT-18879', 'MT-18879', 'MT-439', 'MT-492', 'MT-129108', 'MT-18052', 'MT-172169', 'MT-10392', 'MT-105354', 'MT-323249', 'MT-80472', 'MT-16677', 'MT-800', 'RT-118365', 'MT-51903', 'MT-105554', 'MT-70150', 'MT-194896', 'MT-28511', 'MT-41364', 'MT-81846', 'MT-7029', 'MT-113048', 'MT-70031', 'MT-16758', 'MT-114876', 'MT-118480', 'MT-7568', 'MT-105554', 'MT-118480', 'MT-25897', 'MT-21992', 'RT-49071', 'MT-38535', 'RT-103957', 'MT-126086', 'MT-55879', 'MT-11677', 'MT-153398', 'MT-9903', 'MT-201883', 'MT-42791', 'MT-433018', 'MT-55879', 'MT-14201', 'MT-77830', 'MT-77830', 'MT-89807', 'MT-5018', 'MT-123269', 'MT-8742', 'MT-48843', 'MT-128691', 'MT-153402', 'RE-153402', 'MT-15295', 'MT-86898', 'RT-157211', 'RT-17567', 'MT-9567', 'MT-120065', 'MT-62999', 'MT-221355', 'MT-195847', 'MT-40856', 'MT-140330', 'MT-101291', 'MT-38055', 'MT-38055', 'MT-6963', 'MT-241894', 'MT-160823', 'MT-224977', 'MT-366829', 'MT-219732', 'MT-73595', 'MT-5800', 'MT-23681', 'MT-33407', 'MT-304485', 'MT-3600', 'MT-221694', 'RT-3433', 'MT-38796', 'MT-48920', 'MT-147790', 'MT-91518', 'MT-16970', 'MT-16970', 'MT-39457', 'MT-85447', 'MT-103038', 'MT-26079', 'MT-128292', 'RT-98489', 'MT-55608', 'MT-62974', 'MT-37176', 'MT-379331', 'MT-15783', 'MT-4775', 'MT-89807', 'MT-98966', 'MT-118274', 'MT-147790', 'MT-4185', 'MT-130928', 'MT-18349', 'MT-29542', 'MT-84031', 'MT-30839', 'MT-37952']\n",
            "    26637: ['MT-5393', 'MT-7067', 'MT-7067']\n",
            "    5393: ['MT-5393', 'MT-40973', 'RT-116052']\n",
            "    4665: ['MT-50219', 'RT-106211', 'RT-169664', 'MT-44316', 'MT-11876', 'RT-50219', 'MT-50219', 'MT-88963', 'RT-8966', 'MT-133418', 'RT-133418', 'RT-28820', 'RT-14947', 'RT-5123', 'RT-118892', 'RT-5123', 'RT-4619', 'MT-80101', 'MT-100127', 'MT-42069', 'RE-42069', 'RT-50219', 'MT-50219', 'MT-50219', 'RT-5087', 'RT-39564', 'RT-98204', 'MT-50219', 'RT-241617', 'RT-98204', 'MT-98204', 'RE-98204', 'RT-50219', 'MT-50219', 'RT-50219', 'MT-50219', 'RT-50219', 'RT-43141', 'MT-50219', 'MT-50219', 'MT-378', 'MT-51342', 'RE-51342', 'MT-50219', 'RT-340', 'MT-2328', 'RT-39564', 'RT-33833', 'RT-11991', 'MT-1276', 'MT-10339', 'MT-54135', 'MT-50219', 'RT-66371', 'RT-128', 'MT-50219', 'MT-50219', 'MT-103451', 'RT-3994', 'RT-3972', 'RT-163806', 'RT-106211', 'RT-201337', 'RT-64911', 'RT-25014', 'RT-25014', 'RT-5160', 'RT-169664', 'RT-40185', 'RT-98204', 'MT-5280', 'RT-176473', 'MT-50219', 'MT-50219', 'MT-50219', 'RT-32242', 'MT-22919', 'RE-22919', 'MT-50219', 'MT-50219', 'MT-580', 'RT-45350', 'MT-7501', 'MT-50219', 'MT-88963', 'MT-49075', 'RT-29961', 'MT-5087', 'MT-98204', 'RE-98204', 'RT-50235', 'MT-3328', 'MT-50219', 'MT-11876', 'RT-11876', 'RT-11135', 'MT-50219', 'MT-5143', 'MT-50219', 'MT-50219', 'MT-404', 'MT-14944', 'MT-50219', 'MT-50219', 'RT-50219', 'RT-1984', 'MT-50219', 'RT-5123', 'RT-492', 'MT-1984', 'RT-2431', 'RT-63040', 'RT-43722', 'RT-43722', 'RT-159066', 'RT-50219', 'RT-2513', 'MT-110903', 'MT-11991', 'MT-89805', 'RT-50235', 'MT-110903', 'MT-89805', 'RT-50219', 'RT-50219']\n",
            "    26139: ['MT-132827', 'MT-184805', 'MT-11876', 'MT-168757', 'MT-185374', 'MT-129341', 'MT-80101', 'MT-26079', 'MT-202323', 'MT-108484', 'MT-83601', 'MT-211180', 'MT-68932', 'MT-94847', 'MT-184805', 'MT-18140', 'MT-99456', 'MT-88137', 'MT-94583', 'MT-94583', 'MT-29442', 'MT-111176', 'MT-29420', 'MT-74573', 'MT-252984', 'MT-27145', 'MT-68498', 'MT-11006', 'MT-89620', 'MT-89620', 'MT-51889', 'MT-81598', 'MT-11876', 'MT-188614', 'MT-192342', 'MT-210369', 'MT-37671', 'MT-35712', 'MT-56528', 'MT-26079']\n",
            "    64911: ['MT-89805', 'RT-103447', 'RT-42180', 'MT-88', 'MT-120719', 'MT-24341', 'MT-9883', 'MT-307629', 'MT-29482', 'MT-168804', 'MT-194948', 'MT-9060', 'MT-41894', 'RT-214036', 'MT-132650', 'MT-230370', 'MT-96118', 'MT-63677', 'MT-61322', 'MT-50218', 'MT-8855', 'MT-120495', 'MT-62391', 'MT-51081', 'MT-25315', 'MT-31026', 'MT-42180', 'MT-151681', 'MT-237167', 'MT-237751', 'MT-139726', 'MT-167606', 'MT-6150', 'MT-127479', 'MT-127479', 'MT-273095', 'MT-29871', 'MT-8832', 'MT-247468', 'MT-39885', 'MT-64911', 'RT-103447', 'RT-30451', 'MT-64911', 'RT-42172', 'RT-103447', 'MT-89805', 'RT-28951', 'RT-11614', 'RT-57105', 'RT-59173', 'MT-49179', 'MT-17703', 'RT-42180', 'MT-23866', 'MT-39885', 'RE-39885', 'MT-2062', 'RT-103447', 'RT-128781', 'RT-103447', 'MT-103447', 'RE-103447', 'RT-103447', 'MT-88838', 'RT-88838', 'MT-89805', 'MT-88838', 'RT-39885', 'MT-12751', 'RT-35376', 'MT-103447', 'RT-64485', 'MT-19883', 'MT-20385', 'MT-100401', 'MT-78701', 'MT-150264', 'MT-89805', 'RE-89805', 'RT-35729', 'MT-12965', 'RT-88', 'MT-6341', 'RE-6341', 'RT-267227', 'RT-11916', 'RT-126883', 'RT-203200', 'RT-54301', 'RT-251578', 'RT-237458', 'RT-285087', 'RT-31244', 'MT-88', 'MT-75083', 'MT-18431', 'MT-175283', 'MT-241617', 'MT-89805', 'RE-89805', 'RT-111570', 'RT-42182', 'RT-110903', 'MT-62391', 'RT-160541', 'MT-160541', 'RT-103447', 'RT-42180', 'RT-53060', 'MT-103447', 'MT-17382']\n",
            "}\n",
            "\n",
            "Total Dictionary:\n",
            "{\n",
            "    213163: [223789, 223789, 213163, 246023, 246023, 213163]\n",
            "    50329: [99258, 56426, 153793, 184805, 832, 30184, 832, 56426, 84647, 36417, 50191, 832, 26129, 9952]\n",
            "    84647: [75083, 3604, 3933, 68939, 64367, 42180, 44086, 3604, 22814, 22814, 11953, 11953, 6793, 11953, 88838]\n",
            "    42182: [75083, 89805, 6072, 103447, 89805, 89805, 89805, 6072, 6072, 6072, 56968, 89805, 39885, 35604, 92274, 92274, 25661, 89805, 42182, 6072, 42172, 116270, 89805, 11991, 56968, 6072, 6072, 96198, 1276, 4182, 86501, 136057, 44086, 2373, 89805, 65926, 31022, 35604, 175264, 2527, 39885, 63619, 12745, 41854, 11991, 86496, 11991, 6072, 1276, 37162, 35707, 31624, 67647, 15161, 22195, 78258, 139451, 56968, 58912, 35604, 103447, 26158, 42172, 137587, 4138, 16057, 100672, 11991, 13809, 56968, 11991, 13809, 56968, 13754, 13754, 42182, 110903, 11991, 11991, 42172, 3287, 89805]\n",
            "    2417: [10284, 104567, 43515, 16970, 6269, 16936, 3013, 80267, 101592, 114548, 35382, 113596, 49179, 1471, 142187, 35738, 185145, 80864, 16970, 35738, 85796, 6940, 56426, 97433, 163757, 142114, 120800, 141185, 91518, 423, 1475, 13482, 20368, 4372, 2183, 15596, 42663, 28479, 164883, 164883, 51889, 147790, 457, 57346, 47220, 143596, 15295, 88114, 220949, 27050, 10392, 67190, 26103, 86516, 36268, 91518, 187941, 33776, 10255, 34289, 2373, 107135, 12751, 101238, 20493, 70191, 128, 666, 18438, 143185, 123517, 49174, 79067, 19695, 2733, 15188, 175276, 2684, 161376, 1077, 101238, 29542, 113578, 66389, 59194, 43942, 79201, 175282, 461, 87234, 84199, 19170, 94719, 13482, 2500, 85470, 29522, 57674, 9133, 182941, 11059, 78866, 102909, 157650, 44177, 186289, 15521, 2417, 72443, 55783, 48039, 8618, 140723, 140723, 16872, 91900, 47327, 48298, 80380, 114701, 26161, 4669, 203515, 36266, 36266, 40856, 14245, 164400, 15772, 38328, 27311, 201883, 329, 126034, 26067, 95510, 32849, 117664, 32357, 22240, 53049, 80732, 48272, 202367, 119591, 163805, 4342, 7322, 101238, 4841, 118990, 13566, 17530, 100597, 129931, 33875, 93339, 52274, 7815, 43168, 27050, 27811, 59177, 59177, 59155, 59155, 19192, 8384, 186996, 2083, 107138, 6269, 63454, 206354, 36286, 36264, 103150, 286465, 22357, 38545, 85033, 24543, 4509, 103954, 14567, 86049, 128023, 13799, 73105, 18349, 12153, 75519, 40980, 30525, 44983, 30525, 31207, 31207, 33145, 13900, 43314, 123413, 43314, 18878, 112140, 36288, 14889, 230282, 148719, 148719, 15295, 8473, 57094, 41649, 40980, 13776, 89805, 255365, 22805, 130438, 113574, 30226, 8966, 272693, 29542, 5087, 146637, 191812, 43314, 369, 110094, 149736, 35442, 78600, 21923, 27788, 164145, 65590, 66207, 4980, 33788, 87695, 87305, 30827, 8170, 9044, 40592, 11141, 3704, 80886, 3614, 95510, 238968, 91611, 94961, 100833, 79873, 66226, 208482, 141185, 98651, 118008, 59194, 116277, 19200, 25688, 29423, 31225, 74533, 4576, 59264, 15521, 104101, 163627, 13799, 39405, 63817, 26103, 86634, 104567, 74220, 91518, 66320, 78929, 1159, 2172, 677, 260011, 117972, 11531, 238028, 51181, 42984, 118008, 110454, 170699, 272693, 170699, 272693, 171433, 49158, 11876, 81203, 255534, 84016, 99030, 1077, 153793, 107895, 197236, 34888, 17509, 5086, 70626, 99030, 142100, 65866, 142114, 203659, 3188, 32486, 181919, 26737, 66046, 85844, 80787, 145675, 366829, 366829, 50885, 16970, 164246, 16970, 17041, 98115, 4293, 181053, 69596, 93756, 163646, 38184, 150048, 15275, 37788, 65650, 73130, 36345, 34749, 58848, 18565, 164749, 59639, 3869, 95257, 101238, 89807, 26941, 12751, 132968, 27295, 54301, 158607, 13900, 149467, 50948, 4093, 131385, 439, 14957, 18879, 18879, 439, 492, 129108, 18052, 172169, 10392, 105354, 323249, 80472, 16677, 800, 118365, 51903, 105554, 70150, 194896, 28511, 41364, 81846, 7029, 113048, 70031, 16758, 114876, 118480, 7568, 105554, 118480, 25897, 21992, 49071, 38535, 103957, 126086, 55879, 11677, 153398, 9903, 201883, 42791, 433018, 55879, 14201, 77830, 77830, 89807, 5018, 123269, 8742, 48843, 128691, 153402, 153402, 15295, 86898, 157211, 17567, 9567, 120065, 62999, 221355, 195847, 40856, 140330, 101291, 38055, 38055, 6963, 241894, 160823, 224977, 366829, 219732, 73595, 5800, 23681, 33407, 304485, 3600, 221694, 3433, 38796, 48920, 147790, 91518, 16970, 16970, 39457, 85447, 103038, 26079, 128292, 98489, 55608, 62974, 37176, 379331, 15783, 4775, 89807, 98966, 118274, 147790, 4185, 130928, 18349, 29542, 84031, 30839, 37952]\n",
            "    26637: [5393, 7067, 7067]\n",
            "    5393: [5393, 40973, 116052]\n",
            "    4665: [50219, 106211, 169664, 44316, 11876, 50219, 50219, 88963, 8966, 133418, 133418, 28820, 14947, 5123, 118892, 5123, 4619, 80101, 100127, 42069, 42069, 50219, 50219, 50219, 5087, 39564, 98204, 50219, 241617, 98204, 98204, 98204, 50219, 50219, 50219, 50219, 50219, 43141, 50219, 50219, 378, 51342, 51342, 50219, 340, 2328, 39564, 33833, 11991, 1276, 10339, 54135, 50219, 66371, 128, 50219, 50219, 103451, 3994, 3972, 163806, 106211, 201337, 64911, 25014, 25014, 5160, 169664, 40185, 98204, 5280, 176473, 50219, 50219, 50219, 32242, 22919, 22919, 50219, 50219, 580, 45350, 7501, 50219, 88963, 49075, 29961, 5087, 98204, 98204, 50235, 3328, 50219, 11876, 11876, 11135, 50219, 5143, 50219, 50219, 404, 14944, 50219, 50219, 50219, 1984, 50219, 5123, 492, 1984, 2431, 63040, 43722, 43722, 159066, 50219, 2513, 110903, 11991, 89805, 50235, 110903, 89805, 50219, 50219]\n",
            "    26139: [132827, 184805, 11876, 168757, 185374, 129341, 80101, 26079, 202323, 108484, 83601, 211180, 68932, 94847, 184805, 18140, 99456, 88137, 94583, 94583, 29442, 111176, 29420, 74573, 252984, 27145, 68498, 11006, 89620, 89620, 51889, 81598, 11876, 188614, 192342, 210369, 37671, 35712, 56528, 26079]\n",
            "    64911: [89805, 103447, 42180, 88, 120719, 24341, 9883, 307629, 29482, 168804, 194948, 9060, 41894, 214036, 132650, 230370, 96118, 63677, 61322, 50218, 8855, 120495, 62391, 51081, 25315, 31026, 42180, 151681, 237167, 237751, 139726, 167606, 6150, 127479, 127479, 273095, 29871, 8832, 247468, 39885, 64911, 103447, 30451, 64911, 42172, 103447, 89805, 28951, 11614, 57105, 59173, 49179, 17703, 42180, 23866, 39885, 39885, 2062, 103447, 128781, 103447, 103447, 103447, 103447, 88838, 88838, 89805, 88838, 39885, 12751, 35376, 103447, 64485, 19883, 20385, 100401, 78701, 150264, 89805, 89805, 35729, 12965, 88, 6341, 6341, 267227, 11916, 126883, 203200, 54301, 251578, 237458, 285087, 31244, 88, 75083, 18431, 175283, 241617, 89805, 89805, 111570, 42182, 110903, 62391, 160541, 160541, 103447, 42180, 53060, 103447, 17382]\n",
            "}\n"
          ]
        }
      ]
    },
    {
      "cell_type": "code",
      "source": [
        "# Assuming you have already read the file and have the pandas DataFrame 'df'\n",
        "\n",
        "# Initialize the dictionaries to store the results\n",
        "mention_dict = {}\n",
        "retweet_dict = {}\n",
        "reply_dict = {}\n",
        "merged = {}\n",
        "total = {}\n",
        "\n",
        "# Set the number of records to process before printing the progress\n",
        "records_to_print = 1000\n",
        "processed_records = 0\n",
        "total_records = len(df)\n",
        "\n",
        "# Loop over the DataFrame\n",
        "for index, row in df.iterrows():\n",
        "    if row['action'] == 'MT':\n",
        "        key = row['id1']\n",
        "        value = row['id2']\n",
        "\n",
        "        # Check if the key exists in the dictionary, if not, initialize an empty list\n",
        "        if key not in mention_dict:\n",
        "            mention_dict[key] = []\n",
        "\n",
        "        # Append the value to the list\n",
        "        mention_dict[key].append(value)\n",
        "\n",
        "        # Update the merged dictionary with the value and prefix\n",
        "        if key not in merged:\n",
        "            merged[key] =[]\n",
        "\n",
        "        merged[key].append(f\"MT-{value}\")\n",
        "        if key not in total:\n",
        "            total[key] =[]\n",
        "\n",
        "        total[key].append(value)\n",
        "    elif row['action'] == 'RT':\n",
        "        key = row['id1']\n",
        "        value = row['id2']\n",
        "\n",
        "        # Check if the key exists in the dictionary, if not, initialize an empty list\n",
        "        if key not in retweet_dict:\n",
        "            retweet_dict[key] = []\n",
        "\n",
        "        # Append the value to the list\n",
        "        retweet_dict[key].append(value)\n",
        "\n",
        "        # Update the merged dictionary with the value and prefix\n",
        "        if key not in merged:\n",
        "            merged[key] =[]\n",
        "        merged[key].append(f\"RT-{value}\")\n",
        "        if key not in total:\n",
        "            total[key] =[]\n",
        "\n",
        "        total[key].append(value)\n",
        "    elif row['action'] == 'RE':\n",
        "        key = row['id1']\n",
        "        value = row['id2']\n",
        "\n",
        "        # Check if the key exists in the dictionary, if not, initialize an empty list\n",
        "        if key not in reply_dict:\n",
        "            reply_dict[key] = []\n",
        "\n",
        "        # Append the value to the list\n",
        "        reply_dict[key].append(value)\n",
        "\n",
        "        # Update the merged dictionary with the value and prefix\n",
        "        if key not in merged:\n",
        "            merged[key] =[]\n",
        "        merged[key].append(f\"RE-{value}\")\n",
        "        if key not in total:\n",
        "            total[key] =[]\n",
        "\n",
        "        total[key].append(value)\n",
        "\n",
        "    processed_records += 1\n",
        "    if processed_records % records_to_print == 0 or processed_records == total_records:\n",
        "        percentage_complete = (processed_records / total_records) * 100\n",
        "        print(f'\\rProgress: {percentage_complete:.2f}%  ', end='')\n",
        "\n",
        "# Display the merged dictionary\n",
        "print(\"\\nMerged Dictionary:\")\n",
        "print_dictionary(merged, limit=10)\n",
        "print(\"\\nTotal Dictionary:\")\n",
        "print_dictionary(total, limit=10)"
      ],
      "metadata": {
        "colab": {
          "base_uri": "https://localhost:8080/"
        },
        "id": "Ab_QDquZR6g0",
        "outputId": "1080cfc5-6bb1-4b0d-8d1e-1cc6759dfd00"
      },
      "execution_count": null,
      "outputs": [
        {
          "output_type": "stream",
          "name": "stdout",
          "text": [
            "Progress: 100.00%  \n",
            "Merged Dictionary:\n",
            "{\n",
            "    223789: ['MT-213163', 'RE-213163', 'RT-251638', 'RT-88', 'MT-66977', 'MT-2994', 'MT-138464', 'RE-138464', 'RT-138464']\n",
            "    99258: ['RT-50329']\n",
            "    75083: ['RT-84647', 'MT-42182', 'MT-13808', 'RT-11876', 'MT-39564', 'RE-39564', 'MT-88', 'MT-3998', 'RE-3998', 'RT-30324', 'RT-30324', 'RT-88', 'MT-88', 'RT-26158', 'RT-5137', 'RT-349', 'RT-349', 'MT-349', 'RE-349', 'MT-553', 'RE-553', 'MT-88', 'RT-3998', 'MT-13813', 'MT-88', 'RT-3998', 'RT-56968', 'MT-88', 'RT-27311', 'MT-677', 'MT-553', 'RE-553', 'MT-3027', 'MT-3027', 'RT-11991', 'RT-88', 'RT-2567', 'RT-49007', 'MT-468', 'RT-2941', 'RT-2941', 'MT-24704', 'RT-5079', 'MT-88', 'RT-88', 'MT-64911', 'MT-52087', 'MT-50595', 'RT-3237']\n",
            "    10284: ['MT-2417', 'MT-10375', 'RT-1298', 'MT-1298', 'RT-383', 'RT-6119', 'RT-26514', 'RT-26514']\n",
            "    5393: ['MT-26637', 'MT-5393', 'MT-7414', 'MT-33666']\n",
            "    50219: ['MT-4665', 'MT-26398', 'RT-4665', 'MT-63931', 'MT-4665', 'RT-4665', 'MT-4665', 'MT-27484', 'MT-4665', 'MT-11991', 'MT-6373', 'MT-3994', 'MT-3972', 'MT-13501', 'MT-4665', 'MT-88', 'MT-5193', 'MT-26398', 'RT-4665', 'MT-4665', 'MT-5193', 'RT-4665', 'MT-4665', 'MT-13808', 'MT-502', 'MT-6373', 'MT-3994', 'MT-3972', 'RT-4665', 'MT-6373', 'MT-3994', 'MT-3972', 'MT-4665', 'MT-4665', 'MT-5245', 'MT-3994', 'MT-3994', 'MT-3994', 'MT-3994', 'MT-4665', 'MT-3994', 'MT-5137', 'MT-4665', 'MT-5137', 'RE-5137', 'MT-4665', 'MT-5137', 'MT-4665', 'MT-6373', 'MT-3994', 'MT-4665', 'MT-88', 'MT-4665', 'MT-121586', 'MT-4665', 'MT-88', 'MT-4665', 'MT-4665', 'MT-5193', 'MT-26398', 'MT-4665', 'RT-5121', 'MT-4665', 'MT-5121', 'MT-8402', 'MT-6373', 'MT-3994', 'MT-50235', 'MT-13501', 'MT-13501', 'MT-13501', 'MT-13501', 'MT-4665', 'MT-11876', 'MT-6373', 'MT-3994', 'MT-3972', 'MT-4665', 'MT-29806', 'MT-4665', 'RT-29806', 'MT-6373', 'MT-3994', 'MT-4665', 'MT-2014', 'MT-13809', 'MT-4665', 'RT-4665', 'MT-4665', 'RT-4665', 'MT-2687', 'MT-6373', 'MT-3994', 'MT-6373', 'MT-3994', 'RT-4665', 'MT-11876', 'RT-4665', 'MT-11876']\n",
            "    132827: ['MT-26139', 'RT-5193']\n",
            "    89805: ['MT-64911', 'MT-13813', 'MT-42182', 'MT-12751', 'MT-13808', 'MT-88', 'MT-26486', 'MT-12751', 'MT-13808', 'MT-13808', 'MT-13603', 'MT-9704', 'MT-87263', 'MT-21280', 'MT-9704', 'MT-39885', 'MT-42182', 'MT-11991', 'MT-92274', 'MT-13813', 'MT-92274', 'MT-92274', 'MT-42182', 'MT-3547', 'MT-98204', 'MT-35729', 'MT-92274', 'MT-19604', 'MT-11991', 'MT-55521', 'MT-11991', 'MT-11991', 'MT-11991', 'MT-11991', 'MT-88', 'MT-7639', 'MT-98204', 'MT-98204', 'MT-11876', 'MT-519', 'MT-27723', 'MT-110903', 'MT-103451', 'MT-88', 'MT-3998', 'MT-3998', 'MT-26158', 'MT-19870', 'MT-3603', 'MT-12751', 'MT-12751', 'MT-42182', 'MT-14957', 'MT-25089', 'MT-14907', 'MT-1276', 'MT-553', 'MT-14166', 'MT-11991', 'MT-89805', 'MT-5226', 'MT-12751', 'MT-3998', 'MT-5226', 'MT-42172', 'MT-5226', 'MT-42172', 'MT-5226', 'MT-42172', 'MT-110903', 'MT-13808', 'MT-3994', 'MT-3972', 'MT-35729', 'RE-35729', 'MT-13808', 'MT-7639', 'MT-9704', 'MT-3972', 'MT-88', 'MT-5226', 'MT-519', 'MT-9704', 'MT-67382', 'MT-1988', 'MT-12751', 'MT-3547', 'MT-3547', 'MT-5226', 'MT-6241', 'MT-3547', 'MT-3547', 'MT-13778', 'MT-3547', 'MT-6080', 'MT-473', 'MT-88', 'MT-22849', 'MT-11792', 'MT-39885', 'MT-13808', 'MT-1988', 'MT-19604', 'MT-62906', 'MT-26398', 'MT-105116', 'MT-98204', 'RE-98204', 'MT-98204', 'RE-98204', 'MT-48540', 'MT-15188', 'MT-1988', 'MT-9704', 'MT-15210', 'MT-519', 'MT-13808', 'MT-14964', 'MT-3604', 'MT-11991', 'MT-64906', 'MT-110903', 'MT-2177', 'MT-519', 'MT-13808', 'MT-27484', 'RE-27484', 'MT-9964', 'MT-6373', 'MT-3994', 'MT-3972', 'MT-519', 'MT-511', 'MT-26153', 'MT-16801', 'MT-56968', 'MT-30322', 'RE-30322', 'MT-105416', 'MT-39959', 'MT-13808', 'MT-3994', 'MT-3972', 'MT-27723', 'MT-2143', 'MT-3807', 'MT-26158', 'MT-13813', 'MT-88', 'MT-3998', 'MT-26153', 'MT-46117', 'MT-9704', 'RE-9704', 'MT-3972', 'MT-40973', 'MT-64906', 'MT-14166', 'MT-88', 'MT-3998', 'MT-28951', 'MT-110903', 'MT-42182', 'MT-88', 'MT-42172', 'MT-9704', 'MT-13808', 'MT-13820', 'MT-27723', 'MT-13813', 'MT-88', 'MT-3998', 'MT-35729', 'MT-13813', 'MT-88', 'MT-3998', 'MT-6940', 'MT-98992', 'MT-3998', 'MT-1988', 'MT-13813', 'MT-88', 'MT-3998', 'MT-64906', 'MT-3998', 'MT-39885', 'MT-15538', 'MT-88', 'MT-3998', 'MT-39885', 'MT-1988', 'MT-16801', 'MT-9704', 'MT-88', 'MT-3998', 'MT-88', 'MT-3998', 'MT-88', 'MT-3998', 'MT-3604', 'MT-42182', 'MT-28951', 'MT-519', 'MT-13808', 'MT-1988', 'MT-26153', 'MT-98204', 'MT-16801', 'MT-39885', 'MT-88', 'MT-3998', 'MT-3998', 'MT-1988', 'MT-42182', 'MT-23956', 'MT-9107', 'MT-13808', 'MT-103447', 'MT-1988', 'MT-88', 'MT-88', 'MT-3998', 'MT-88', 'MT-3998', 'MT-88', 'MT-3998', 'MT-88', 'MT-3998', 'MT-20385', 'MT-13808', 'MT-46117', 'MT-67382', 'MT-13808', 'MT-88', 'MT-3998', 'MT-88', 'MT-3998', 'MT-3998', 'MT-92274', 'MT-16801', 'MT-88', 'MT-3998', 'MT-3998', 'MT-92274', 'MT-9704', 'MT-13808', 'MT-39885', 'MT-88', 'MT-3998', 'MT-3998', 'MT-42172', 'MT-13798', 'MT-20385', 'MT-3998', 'MT-92274', 'MT-88', 'MT-3998', 'MT-88', 'MT-3998', 'MT-9704', 'MT-88', 'MT-3998', 'MT-64906', 'MT-64906', 'MT-64906', 'MT-64906', 'MT-9704', 'MT-3998', 'MT-88', 'MT-3998', 'MT-3998', 'MT-46117', 'MT-1988', 'MT-13813', 'MT-677', 'MT-677', 'MT-92274', 'MT-42182', 'MT-11991', 'MT-3998', 'MT-13798', 'MT-3998', 'MT-13813', 'MT-88', 'MT-3998', 'MT-11991', 'MT-92274', 'MT-88', 'MT-3998', 'MT-88', 'MT-3998', 'MT-88', 'MT-11991', 'MT-39885', 'MT-3998', 'MT-13808', 'MT-92274', 'MT-16801', 'MT-13808', 'MT-19604', 'MT-110903', 'MT-11991', 'MT-92274', 'MT-677', 'MT-3998', 'MT-13813', 'MT-88', 'MT-3998', 'MT-39885', 'MT-42172', 'MT-11991', 'MT-677', 'MT-35729', 'MT-39885', 'MT-88', 'MT-677', 'MT-27723', 'MT-88', 'MT-3998', 'MT-13813', 'MT-42172', 'MT-16801', 'MT-88', 'MT-3998', 'MT-3998', 'MT-677', 'MT-92274', 'MT-88', 'MT-64911', 'MT-13813', 'MT-3998', 'MT-3998', 'MT-3998', 'MT-88', 'MT-42172', 'MT-677', 'MT-13813', 'MT-11991', 'MT-88', 'MT-3998', 'MT-3998', 'MT-13813', 'MT-88', 'MT-3998', 'MT-13813', 'MT-92274', 'MT-16801', 'MT-110903', 'MT-88', 'MT-13813', 'MT-13813', 'MT-88', 'MT-3998', 'MT-39885', 'MT-9704', 'MT-110903', 'MT-39885', 'MT-9704', 'MT-16801', 'MT-13813', 'MT-88', 'MT-19604', 'MT-110903', 'MT-88', 'MT-3998', 'MT-16801', 'MT-20385', 'MT-42643', 'MT-13813', 'MT-88', 'MT-13813', 'MT-92274', 'MT-13813', 'MT-92274', 'MT-110903', 'MT-13813', 'MT-88', 'MT-3998', 'MT-16801', 'MT-677', 'MT-92274', 'MT-9704', 'MT-16801', 'MT-39885', 'MT-16801', 'MT-13813', 'MT-11991', 'MT-39885', 'MT-88', 'MT-92274', 'MT-13813', 'MT-3998', 'MT-42172', 'MT-19604', 'MT-9704', 'MT-13808', 'MT-13808', 'MT-35729', 'MT-56968', 'MT-88', 'MT-3998', 'MT-13812', 'MT-88', 'MT-3998', 'MT-11991', 'MT-88', 'MT-11991', 'MT-13813', 'MT-88', 'MT-3998', 'MT-16801', 'MT-92274', 'MT-13813', 'MT-12022', 'MT-1503', 'MT-19870', 'MT-46838', 'MT-13808', 'MT-13808', 'MT-88', 'MT-13813', 'MT-56968', 'MT-511', 'MT-13808', 'MT-88', 'MT-5226', 'MT-103451', 'MT-13813', 'MT-3998', 'MT-35729', 'MT-88', 'MT-67382', 'MT-4182', 'MT-35729', 'MT-87263', 'MT-35729', 'MT-35729', 'MT-11991', 'MT-11991', 'MT-88', 'MT-13808', 'MT-13784', 'MT-67382', 'MT-13808', 'MT-35729', 'MT-3998', 'MT-35729', 'MT-35729', 'MT-88', 'MT-13808', 'MT-88', 'MT-88', 'MT-88', 'MT-19870', 'MT-55521', 'MT-98204', 'MT-2417', 'MT-13799', 'MT-13766', 'MT-23395', 'MT-20385', 'MT-349', 'MT-1852', 'MT-64906', 'MT-74019', 'MT-14907', 'MT-13809', 'MT-11991', 'MT-9964', 'MT-503', 'MT-87263', 'MT-13141', 'MT-88', 'MT-677', 'MT-7690', 'MT-511', 'MT-677', 'MT-13795', 'MT-9964', 'MT-9964', 'MT-87263', 'MT-14166', 'MT-63931', 'MT-1988', 'MT-1988', 'MT-677', 'MT-13808', 'MT-103447', 'MT-13808', 'MT-13854', 'MT-12751', 'MT-88', 'MT-15210', 'MT-2177', 'MT-35725', 'MT-12965', 'MT-13808', 'MT-22990', 'MT-205', 'MT-13808', 'MT-519', 'MT-22990', 'MT-205', 'MT-13808', 'MT-519', 'MT-39889', 'MT-88', 'MT-3998', 'MT-21280', 'MT-4642', 'MT-10392', 'MT-4740', 'MT-27723', 'MT-22849', 'MT-3650', 'MT-13799', 'MT-27483', 'MT-5196', 'MT-1276', 'MT-5226', 'MT-12751', 'MT-27723', 'MT-64906', 'MT-5226', 'MT-88', 'MT-5226', 'MT-5193', 'MT-26398', 'MT-511', 'MT-27616', 'MT-2014', 'MT-21949', 'MT-7639', 'MT-56968', 'RT-4368', 'MT-15488', 'MT-511', 'MT-7274', 'MT-62514', 'MT-3998', 'MT-39420', 'MT-19604', 'MT-103451', 'MT-91', 'MT-396', 'MT-39885', 'MT-92274', 'MT-13813', 'MT-4372', 'MT-88', 'MT-3998', 'MT-39885', 'MT-35729', 'MT-188', 'MT-1997', 'MT-553', 'MT-35729', 'MT-511', 'MT-542', 'MT-553', 'MT-188', 'MT-64911', 'MT-2416', 'MT-519', 'MT-12751', 'MT-3998', 'MT-3998', 'MT-186', 'MT-20385', 'RE-20385', 'MT-88', 'MT-186', 'MT-64911', 'RE-64911', 'MT-4665', 'MT-42172', 'MT-39885', 'RT-14907', 'RT-14907', 'MT-88', 'MT-1880', 'MT-3604', 'MT-88', 'MT-64911', 'RE-64911', 'MT-52087', 'MT-88', 'MT-12965', 'RE-12965', 'MT-13798', 'MT-3998', 'MT-43742', 'MT-79198', 'MT-13809', 'MT-18168', 'MT-13809', 'MT-3972', 'MT-4665', 'MT-110903', 'MT-492', 'MT-15489', 'MT-110903', 'MT-13808', 'MT-19604', 'MT-110903', 'MT-42182', 'MT-9704', 'MT-13830']\n",
            "    80101: ['MT-46842', 'MT-80101', 'MT-80101', 'MT-25089', 'RT-14907', 'MT-1276', 'RT-63931', 'MT-4665', 'MT-26139', 'MT-11876', 'RT-27483', 'MT-5245', 'MT-11876', 'MT-13808', 'MT-11876', 'RT-88', 'MT-13808', 'RT-14166', 'RT-170862', 'RT-1988', 'MT-489', 'MT-13797', 'RT-3604', 'MT-88', 'MT-3998', 'MT-88', 'RT-88', 'MT-88', 'MT-36989', 'MT-12473', 'MT-1988', 'RT-18721', 'MT-118365', 'MT-13797', 'MT-11991', 'MT-88', 'RT-45909', 'RT-47759', 'MT-88', 'MT-13797', 'MT-1988', 'MT-5226', 'MT-1988', 'MT-1988', 'MT-349', 'MT-1988', 'RT-30790', 'MT-1988', 'MT-32219', 'MT-1988', 'MT-5193', 'MT-88', 'MT-3998', 'RT-88', 'RT-45605', 'MT-1988', 'RT-5193', 'MT-26398', 'MT-88', 'RT-468', 'MT-468', 'MT-13797', 'RE-13797', 'RT-11876', 'MT-5226', 'MT-13797', 'MT-13795', 'MT-13795', 'MT-13797', 'RT-9964', 'MT-13797', 'MT-677', 'RT-11876', 'MT-13797', 'RT-327', 'MT-13797', 'MT-13797', 'MT-80101', 'RT-5245', 'MT-13797', 'MT-5193', 'MT-67382', 'RT-67382', 'RT-67382', 'RT-11876', 'RT-3604', 'RT-3604', 'RT-11876']\n",
            "    2733: ['MT-21469', 'MT-21469', 'MT-2417', 'MT-1101', 'MT-1101', 'RT-6282', 'MT-6282']\n",
            "}\n",
            "\n",
            "Total Dictionary:\n",
            "{\n",
            "    223789: [213163, 213163, 251638, 88, 66977, 2994, 138464, 138464, 138464]\n",
            "    99258: [50329]\n",
            "    75083: [84647, 42182, 13808, 11876, 39564, 39564, 88, 3998, 3998, 30324, 30324, 88, 88, 26158, 5137, 349, 349, 349, 349, 553, 553, 88, 3998, 13813, 88, 3998, 56968, 88, 27311, 677, 553, 553, 3027, 3027, 11991, 88, 2567, 49007, 468, 2941, 2941, 24704, 5079, 88, 88, 64911, 52087, 50595, 3237]\n",
            "    10284: [2417, 10375, 1298, 1298, 383, 6119, 26514, 26514]\n",
            "    5393: [26637, 5393, 7414, 33666]\n",
            "    50219: [4665, 26398, 4665, 63931, 4665, 4665, 4665, 27484, 4665, 11991, 6373, 3994, 3972, 13501, 4665, 88, 5193, 26398, 4665, 4665, 5193, 4665, 4665, 13808, 502, 6373, 3994, 3972, 4665, 6373, 3994, 3972, 4665, 4665, 5245, 3994, 3994, 3994, 3994, 4665, 3994, 5137, 4665, 5137, 5137, 4665, 5137, 4665, 6373, 3994, 4665, 88, 4665, 121586, 4665, 88, 4665, 4665, 5193, 26398, 4665, 5121, 4665, 5121, 8402, 6373, 3994, 50235, 13501, 13501, 13501, 13501, 4665, 11876, 6373, 3994, 3972, 4665, 29806, 4665, 29806, 6373, 3994, 4665, 2014, 13809, 4665, 4665, 4665, 4665, 2687, 6373, 3994, 6373, 3994, 4665, 11876, 4665, 11876]\n",
            "    132827: [26139, 5193]\n",
            "    89805: [64911, 13813, 42182, 12751, 13808, 88, 26486, 12751, 13808, 13808, 13603, 9704, 87263, 21280, 9704, 39885, 42182, 11991, 92274, 13813, 92274, 92274, 42182, 3547, 98204, 35729, 92274, 19604, 11991, 55521, 11991, 11991, 11991, 11991, 88, 7639, 98204, 98204, 11876, 519, 27723, 110903, 103451, 88, 3998, 3998, 26158, 19870, 3603, 12751, 12751, 42182, 14957, 25089, 14907, 1276, 553, 14166, 11991, 89805, 5226, 12751, 3998, 5226, 42172, 5226, 42172, 5226, 42172, 110903, 13808, 3994, 3972, 35729, 35729, 13808, 7639, 9704, 3972, 88, 5226, 519, 9704, 67382, 1988, 12751, 3547, 3547, 5226, 6241, 3547, 3547, 13778, 3547, 6080, 473, 88, 22849, 11792, 39885, 13808, 1988, 19604, 62906, 26398, 105116, 98204, 98204, 98204, 98204, 48540, 15188, 1988, 9704, 15210, 519, 13808, 14964, 3604, 11991, 64906, 110903, 2177, 519, 13808, 27484, 27484, 9964, 6373, 3994, 3972, 519, 511, 26153, 16801, 56968, 30322, 30322, 105416, 39959, 13808, 3994, 3972, 27723, 2143, 3807, 26158, 13813, 88, 3998, 26153, 46117, 9704, 9704, 3972, 40973, 64906, 14166, 88, 3998, 28951, 110903, 42182, 88, 42172, 9704, 13808, 13820, 27723, 13813, 88, 3998, 35729, 13813, 88, 3998, 6940, 98992, 3998, 1988, 13813, 88, 3998, 64906, 3998, 39885, 15538, 88, 3998, 39885, 1988, 16801, 9704, 88, 3998, 88, 3998, 88, 3998, 3604, 42182, 28951, 519, 13808, 1988, 26153, 98204, 16801, 39885, 88, 3998, 3998, 1988, 42182, 23956, 9107, 13808, 103447, 1988, 88, 88, 3998, 88, 3998, 88, 3998, 88, 3998, 20385, 13808, 46117, 67382, 13808, 88, 3998, 88, 3998, 3998, 92274, 16801, 88, 3998, 3998, 92274, 9704, 13808, 39885, 88, 3998, 3998, 42172, 13798, 20385, 3998, 92274, 88, 3998, 88, 3998, 9704, 88, 3998, 64906, 64906, 64906, 64906, 9704, 3998, 88, 3998, 3998, 46117, 1988, 13813, 677, 677, 92274, 42182, 11991, 3998, 13798, 3998, 13813, 88, 3998, 11991, 92274, 88, 3998, 88, 3998, 88, 11991, 39885, 3998, 13808, 92274, 16801, 13808, 19604, 110903, 11991, 92274, 677, 3998, 13813, 88, 3998, 39885, 42172, 11991, 677, 35729, 39885, 88, 677, 27723, 88, 3998, 13813, 42172, 16801, 88, 3998, 3998, 677, 92274, 88, 64911, 13813, 3998, 3998, 3998, 88, 42172, 677, 13813, 11991, 88, 3998, 3998, 13813, 88, 3998, 13813, 92274, 16801, 110903, 88, 13813, 13813, 88, 3998, 39885, 9704, 110903, 39885, 9704, 16801, 13813, 88, 19604, 110903, 88, 3998, 16801, 20385, 42643, 13813, 88, 13813, 92274, 13813, 92274, 110903, 13813, 88, 3998, 16801, 677, 92274, 9704, 16801, 39885, 16801, 13813, 11991, 39885, 88, 92274, 13813, 3998, 42172, 19604, 9704, 13808, 13808, 35729, 56968, 88, 3998, 13812, 88, 3998, 11991, 88, 11991, 13813, 88, 3998, 16801, 92274, 13813, 12022, 1503, 19870, 46838, 13808, 13808, 88, 13813, 56968, 511, 13808, 88, 5226, 103451, 13813, 3998, 35729, 88, 67382, 4182, 35729, 87263, 35729, 35729, 11991, 11991, 88, 13808, 13784, 67382, 13808, 35729, 3998, 35729, 35729, 88, 13808, 88, 88, 88, 19870, 55521, 98204, 2417, 13799, 13766, 23395, 20385, 349, 1852, 64906, 74019, 14907, 13809, 11991, 9964, 503, 87263, 13141, 88, 677, 7690, 511, 677, 13795, 9964, 9964, 87263, 14166, 63931, 1988, 1988, 677, 13808, 103447, 13808, 13854, 12751, 88, 15210, 2177, 35725, 12965, 13808, 22990, 205, 13808, 519, 22990, 205, 13808, 519, 39889, 88, 3998, 21280, 4642, 10392, 4740, 27723, 22849, 3650, 13799, 27483, 5196, 1276, 5226, 12751, 27723, 64906, 5226, 88, 5226, 5193, 26398, 511, 27616, 2014, 21949, 7639, 56968, 4368, 15488, 511, 7274, 62514, 3998, 39420, 19604, 103451, 91, 396, 39885, 92274, 13813, 4372, 88, 3998, 39885, 35729, 188, 1997, 553, 35729, 511, 542, 553, 188, 64911, 2416, 519, 12751, 3998, 3998, 186, 20385, 20385, 88, 186, 64911, 64911, 4665, 42172, 39885, 14907, 14907, 88, 1880, 3604, 88, 64911, 64911, 52087, 88, 12965, 12965, 13798, 3998, 43742, 79198, 13809, 18168, 13809, 3972, 4665, 110903, 492, 15489, 110903, 13808, 19604, 110903, 42182, 9704, 13830]\n",
            "    80101: [46842, 80101, 80101, 25089, 14907, 1276, 63931, 4665, 26139, 11876, 27483, 5245, 11876, 13808, 11876, 88, 13808, 14166, 170862, 1988, 489, 13797, 3604, 88, 3998, 88, 88, 88, 36989, 12473, 1988, 18721, 118365, 13797, 11991, 88, 45909, 47759, 88, 13797, 1988, 5226, 1988, 1988, 349, 1988, 30790, 1988, 32219, 1988, 5193, 88, 3998, 88, 45605, 1988, 5193, 26398, 88, 468, 468, 13797, 13797, 11876, 5226, 13797, 13795, 13795, 13797, 9964, 13797, 677, 11876, 13797, 327, 13797, 13797, 80101, 5245, 13797, 5193, 67382, 67382, 67382, 11876, 3604, 3604, 11876]\n",
            "    2733: [21469, 21469, 2417, 1101, 1101, 6282, 6282]\n",
            "}\n"
          ]
        }
      ]
    },
    {
      "cell_type": "code",
      "source": [
        "from mlxtend.preprocessing import TransactionEncoder\n",
        "from mlxtend.frequent_patterns import apriori\n",
        "\n",
        "# Assuming you have already created the merged_dict\n",
        "# Convert the merged_dict to a list of lists (transactions)\n",
        "transactions = list(total_dict.values())\n",
        "\n",
        "# Initialize the TransactionEncoder\n",
        "te = TransactionEncoder()\n",
        "# Fit and transform the transactions using the TransactionEncoder\n",
        "te_ary = te.fit(transactions).transform(transactions)\n",
        "# Convert the transformed array back to a DataFrame\n",
        "df_encoded = pd.DataFrame(te_ary, columns=te.columns_)\n"
      ],
      "metadata": {
        "id": "13cITlaURKkN"
      },
      "execution_count": null,
      "outputs": []
    },
    {
      "cell_type": "markdown",
      "source": [
        "# apriori"
      ],
      "metadata": {
        "id": "5VRjCdQAtelx"
      }
    },
    {
      "cell_type": "code",
      "source": [
        "# Apply the Apriori algorithm to calculate frequent itemsets 3\n",
        "frequent_itemsets = apriori(df_encoded, min_support=0.00094, use_colnames=True)\n",
        "\n",
        "# Extract the item and its support value from the frequent itemsets DataFrame\n",
        "frequent_items_with_support = frequent_itemsets[['itemsets', 'support']]\n",
        "\n",
        "# Sort the frequent items by support in descending order\n",
        "frequent_items_with_support = frequent_items_with_support.sort_values(by='support', ascending=False)\n",
        "\n",
        "# Display the frequent items along with their support values (sorted by support)\n",
        "frequent_items_with_support.head()"
      ],
      "metadata": {
        "id": "6Pge4fQSSLJg",
        "colab": {
          "base_uri": "https://localhost:8080/",
          "height": 261
        },
        "outputId": "ec0633b1-a831-4b4c-93e7-2e5aab3b3d6d"
      },
      "execution_count": null,
      "outputs": [
        {
          "output_type": "stream",
          "name": "stderr",
          "text": [
            "/usr/local/lib/python3.10/dist-packages/ipykernel/ipkernel.py:283: DeprecationWarning: `should_run_async` will not call `transform_cell` automatically in the future. Please pass the result to `transformed_cell` argument and any exception that happen during thetransform in `preprocessing_exc_tuple` in IPython 7.17 and above.\n",
            "  and should_run_async(code)\n"
          ]
        },
        {
          "output_type": "execute_result",
          "data": {
            "text/plain": [
              "    itemsets   support\n",
              "527  (89805)  0.014862\n",
              "274  (38535)  0.010857\n",
              "10     (492)  0.007062\n",
              "208  (27705)  0.006008\n",
              "20    (1276)  0.005481"
            ],
            "text/html": [
              "\n",
              "\n",
              "  <div id=\"df-7128f392-2671-4f03-9221-06c53a45d675\">\n",
              "    <div class=\"colab-df-container\">\n",
              "      <div>\n",
              "<style scoped>\n",
              "    .dataframe tbody tr th:only-of-type {\n",
              "        vertical-align: middle;\n",
              "    }\n",
              "\n",
              "    .dataframe tbody tr th {\n",
              "        vertical-align: top;\n",
              "    }\n",
              "\n",
              "    .dataframe thead th {\n",
              "        text-align: right;\n",
              "    }\n",
              "</style>\n",
              "<table border=\"1\" class=\"dataframe\">\n",
              "  <thead>\n",
              "    <tr style=\"text-align: right;\">\n",
              "      <th></th>\n",
              "      <th>itemsets</th>\n",
              "      <th>support</th>\n",
              "    </tr>\n",
              "  </thead>\n",
              "  <tbody>\n",
              "    <tr>\n",
              "      <th>527</th>\n",
              "      <td>(89805)</td>\n",
              "      <td>0.014862</td>\n",
              "    </tr>\n",
              "    <tr>\n",
              "      <th>274</th>\n",
              "      <td>(38535)</td>\n",
              "      <td>0.010857</td>\n",
              "    </tr>\n",
              "    <tr>\n",
              "      <th>10</th>\n",
              "      <td>(492)</td>\n",
              "      <td>0.007062</td>\n",
              "    </tr>\n",
              "    <tr>\n",
              "      <th>208</th>\n",
              "      <td>(27705)</td>\n",
              "      <td>0.006008</td>\n",
              "    </tr>\n",
              "    <tr>\n",
              "      <th>20</th>\n",
              "      <td>(1276)</td>\n",
              "      <td>0.005481</td>\n",
              "    </tr>\n",
              "  </tbody>\n",
              "</table>\n",
              "</div>\n",
              "      <button class=\"colab-df-convert\" onclick=\"convertToInteractive('df-7128f392-2671-4f03-9221-06c53a45d675')\"\n",
              "              title=\"Convert this dataframe to an interactive table.\"\n",
              "              style=\"display:none;\">\n",
              "\n",
              "  <svg xmlns=\"http://www.w3.org/2000/svg\" height=\"24px\"viewBox=\"0 0 24 24\"\n",
              "       width=\"24px\">\n",
              "    <path d=\"M0 0h24v24H0V0z\" fill=\"none\"/>\n",
              "    <path d=\"M18.56 5.44l.94 2.06.94-2.06 2.06-.94-2.06-.94-.94-2.06-.94 2.06-2.06.94zm-11 1L8.5 8.5l.94-2.06 2.06-.94-2.06-.94L8.5 2.5l-.94 2.06-2.06.94zm10 10l.94 2.06.94-2.06 2.06-.94-2.06-.94-.94-2.06-.94 2.06-2.06.94z\"/><path d=\"M17.41 7.96l-1.37-1.37c-.4-.4-.92-.59-1.43-.59-.52 0-1.04.2-1.43.59L10.3 9.45l-7.72 7.72c-.78.78-.78 2.05 0 2.83L4 21.41c.39.39.9.59 1.41.59.51 0 1.02-.2 1.41-.59l7.78-7.78 2.81-2.81c.8-.78.8-2.07 0-2.86zM5.41 20L4 18.59l7.72-7.72 1.47 1.35L5.41 20z\"/>\n",
              "  </svg>\n",
              "      </button>\n",
              "\n",
              "\n",
              "\n",
              "    <div id=\"df-38346ee4-dcfc-4b95-ac11-266a8c2bf416\">\n",
              "      <button class=\"colab-df-quickchart\" onclick=\"quickchart('df-38346ee4-dcfc-4b95-ac11-266a8c2bf416')\"\n",
              "              title=\"Suggest charts.\"\n",
              "              style=\"display:none;\">\n",
              "\n",
              "<svg xmlns=\"http://www.w3.org/2000/svg\" height=\"24px\"viewBox=\"0 0 24 24\"\n",
              "     width=\"24px\">\n",
              "    <g>\n",
              "        <path d=\"M19 3H5c-1.1 0-2 .9-2 2v14c0 1.1.9 2 2 2h14c1.1 0 2-.9 2-2V5c0-1.1-.9-2-2-2zM9 17H7v-7h2v7zm4 0h-2V7h2v10zm4 0h-2v-4h2v4z\"/>\n",
              "    </g>\n",
              "</svg>\n",
              "      </button>\n",
              "    </div>\n",
              "\n",
              "<style>\n",
              "  .colab-df-quickchart {\n",
              "    background-color: #E8F0FE;\n",
              "    border: none;\n",
              "    border-radius: 50%;\n",
              "    cursor: pointer;\n",
              "    display: none;\n",
              "    fill: #1967D2;\n",
              "    height: 32px;\n",
              "    padding: 0 0 0 0;\n",
              "    width: 32px;\n",
              "  }\n",
              "\n",
              "  .colab-df-quickchart:hover {\n",
              "    background-color: #E2EBFA;\n",
              "    box-shadow: 0px 1px 2px rgba(60, 64, 67, 0.3), 0px 1px 3px 1px rgba(60, 64, 67, 0.15);\n",
              "    fill: #174EA6;\n",
              "  }\n",
              "\n",
              "  [theme=dark] .colab-df-quickchart {\n",
              "    background-color: #3B4455;\n",
              "    fill: #D2E3FC;\n",
              "  }\n",
              "\n",
              "  [theme=dark] .colab-df-quickchart:hover {\n",
              "    background-color: #434B5C;\n",
              "    box-shadow: 0px 1px 3px 1px rgba(0, 0, 0, 0.15);\n",
              "    filter: drop-shadow(0px 1px 2px rgba(0, 0, 0, 0.3));\n",
              "    fill: #FFFFFF;\n",
              "  }\n",
              "</style>\n",
              "\n",
              "    <script>\n",
              "      async function quickchart(key) {\n",
              "        const containerElement = document.querySelector('#' + key);\n",
              "        const charts = await google.colab.kernel.invokeFunction(\n",
              "            'suggestCharts', [key], {});\n",
              "      }\n",
              "    </script>\n",
              "\n",
              "      <script>\n",
              "\n",
              "function displayQuickchartButton(domScope) {\n",
              "  let quickchartButtonEl =\n",
              "    domScope.querySelector('#df-38346ee4-dcfc-4b95-ac11-266a8c2bf416 button.colab-df-quickchart');\n",
              "  quickchartButtonEl.style.display =\n",
              "    google.colab.kernel.accessAllowed ? 'block' : 'none';\n",
              "}\n",
              "\n",
              "        displayQuickchartButton(document);\n",
              "      </script>\n",
              "      <style>\n",
              "    .colab-df-container {\n",
              "      display:flex;\n",
              "      flex-wrap:wrap;\n",
              "      gap: 12px;\n",
              "    }\n",
              "\n",
              "    .colab-df-convert {\n",
              "      background-color: #E8F0FE;\n",
              "      border: none;\n",
              "      border-radius: 50%;\n",
              "      cursor: pointer;\n",
              "      display: none;\n",
              "      fill: #1967D2;\n",
              "      height: 32px;\n",
              "      padding: 0 0 0 0;\n",
              "      width: 32px;\n",
              "    }\n",
              "\n",
              "    .colab-df-convert:hover {\n",
              "      background-color: #E2EBFA;\n",
              "      box-shadow: 0px 1px 2px rgba(60, 64, 67, 0.3), 0px 1px 3px 1px rgba(60, 64, 67, 0.15);\n",
              "      fill: #174EA6;\n",
              "    }\n",
              "\n",
              "    [theme=dark] .colab-df-convert {\n",
              "      background-color: #3B4455;\n",
              "      fill: #D2E3FC;\n",
              "    }\n",
              "\n",
              "    [theme=dark] .colab-df-convert:hover {\n",
              "      background-color: #434B5C;\n",
              "      box-shadow: 0px 1px 3px 1px rgba(0, 0, 0, 0.15);\n",
              "      filter: drop-shadow(0px 1px 2px rgba(0, 0, 0, 0.3));\n",
              "      fill: #FFFFFF;\n",
              "    }\n",
              "  </style>\n",
              "\n",
              "      <script>\n",
              "        const buttonEl =\n",
              "          document.querySelector('#df-7128f392-2671-4f03-9221-06c53a45d675 button.colab-df-convert');\n",
              "        buttonEl.style.display =\n",
              "          google.colab.kernel.accessAllowed ? 'block' : 'none';\n",
              "\n",
              "        async function convertToInteractive(key) {\n",
              "          const element = document.querySelector('#df-7128f392-2671-4f03-9221-06c53a45d675');\n",
              "          const dataTable =\n",
              "            await google.colab.kernel.invokeFunction('convertToInteractive',\n",
              "                                                     [key], {});\n",
              "          if (!dataTable) return;\n",
              "\n",
              "          const docLinkHtml = 'Like what you see? Visit the ' +\n",
              "            '<a target=\"_blank\" href=https://colab.research.google.com/notebooks/data_table.ipynb>data table notebook</a>'\n",
              "            + ' to learn more about interactive tables.';\n",
              "          element.innerHTML = '';\n",
              "          dataTable['output_type'] = 'display_data';\n",
              "          await google.colab.output.renderOutput(dataTable, element);\n",
              "          const docLink = document.createElement('div');\n",
              "          docLink.innerHTML = docLinkHtml;\n",
              "          element.appendChild(docLink);\n",
              "        }\n",
              "      </script>\n",
              "    </div>\n",
              "  </div>\n"
            ]
          },
          "metadata": {},
          "execution_count": 71
        }
      ]
    },
    {
      "cell_type": "code",
      "source": [
        "import pandas as pd\n",
        "\n",
        "# ... (Previous code up to 'frequent_items_with_support')\n",
        "\n",
        "# Calculate the length of each itemset and add it as a new column 'length'\n",
        "frequent_items_with_support['length'] = frequent_items_with_support['itemsets'].apply(lambda x: len(x))\n",
        "\n",
        "# Calculate the mean and mode of the 'length' column\n",
        "mean_length = frequent_items_with_support['length'].mean()\n",
        "mode_length = frequent_items_with_support['length'].mode().iloc[0]\n",
        "\n",
        "# Display the frequent items along with their support values and the calculated mean and mode of the length\n",
        "print(\"Mean Length of Itemsets:\", mean_length)\n",
        "print(\"Mode Length of Itemsets:\", mode_length)\n",
        "frequent_items_with_support.head()\n"
      ],
      "metadata": {
        "id": "BK3zzExPSLHy",
        "colab": {
          "base_uri": "https://localhost:8080/",
          "height": 295
        },
        "outputId": "1246e310-a9a5-4934-9048-f57fa8060ba9"
      },
      "execution_count": null,
      "outputs": [
        {
          "output_type": "stream",
          "name": "stdout",
          "text": [
            "Mean Length of Itemsets: 1.8677639046538026\n",
            "Mode Length of Itemsets: 1\n"
          ]
        },
        {
          "output_type": "stream",
          "name": "stderr",
          "text": [
            "/usr/local/lib/python3.10/dist-packages/ipykernel/ipkernel.py:283: DeprecationWarning: `should_run_async` will not call `transform_cell` automatically in the future. Please pass the result to `transformed_cell` argument and any exception that happen during thetransform in `preprocessing_exc_tuple` in IPython 7.17 and above.\n",
            "  and should_run_async(code)\n"
          ]
        },
        {
          "output_type": "execute_result",
          "data": {
            "text/plain": [
              "    itemsets   support  length\n",
              "527  (89805)  0.014862       1\n",
              "274  (38535)  0.010857       1\n",
              "10     (492)  0.007062       1\n",
              "208  (27705)  0.006008       1\n",
              "20    (1276)  0.005481       1"
            ],
            "text/html": [
              "\n",
              "\n",
              "  <div id=\"df-f9c3dc01-8da6-4a4f-8b66-3059740b0099\">\n",
              "    <div class=\"colab-df-container\">\n",
              "      <div>\n",
              "<style scoped>\n",
              "    .dataframe tbody tr th:only-of-type {\n",
              "        vertical-align: middle;\n",
              "    }\n",
              "\n",
              "    .dataframe tbody tr th {\n",
              "        vertical-align: top;\n",
              "    }\n",
              "\n",
              "    .dataframe thead th {\n",
              "        text-align: right;\n",
              "    }\n",
              "</style>\n",
              "<table border=\"1\" class=\"dataframe\">\n",
              "  <thead>\n",
              "    <tr style=\"text-align: right;\">\n",
              "      <th></th>\n",
              "      <th>itemsets</th>\n",
              "      <th>support</th>\n",
              "      <th>length</th>\n",
              "    </tr>\n",
              "  </thead>\n",
              "  <tbody>\n",
              "    <tr>\n",
              "      <th>527</th>\n",
              "      <td>(89805)</td>\n",
              "      <td>0.014862</td>\n",
              "      <td>1</td>\n",
              "    </tr>\n",
              "    <tr>\n",
              "      <th>274</th>\n",
              "      <td>(38535)</td>\n",
              "      <td>0.010857</td>\n",
              "      <td>1</td>\n",
              "    </tr>\n",
              "    <tr>\n",
              "      <th>10</th>\n",
              "      <td>(492)</td>\n",
              "      <td>0.007062</td>\n",
              "      <td>1</td>\n",
              "    </tr>\n",
              "    <tr>\n",
              "      <th>208</th>\n",
              "      <td>(27705)</td>\n",
              "      <td>0.006008</td>\n",
              "      <td>1</td>\n",
              "    </tr>\n",
              "    <tr>\n",
              "      <th>20</th>\n",
              "      <td>(1276)</td>\n",
              "      <td>0.005481</td>\n",
              "      <td>1</td>\n",
              "    </tr>\n",
              "  </tbody>\n",
              "</table>\n",
              "</div>\n",
              "      <button class=\"colab-df-convert\" onclick=\"convertToInteractive('df-f9c3dc01-8da6-4a4f-8b66-3059740b0099')\"\n",
              "              title=\"Convert this dataframe to an interactive table.\"\n",
              "              style=\"display:none;\">\n",
              "\n",
              "  <svg xmlns=\"http://www.w3.org/2000/svg\" height=\"24px\"viewBox=\"0 0 24 24\"\n",
              "       width=\"24px\">\n",
              "    <path d=\"M0 0h24v24H0V0z\" fill=\"none\"/>\n",
              "    <path d=\"M18.56 5.44l.94 2.06.94-2.06 2.06-.94-2.06-.94-.94-2.06-.94 2.06-2.06.94zm-11 1L8.5 8.5l.94-2.06 2.06-.94-2.06-.94L8.5 2.5l-.94 2.06-2.06.94zm10 10l.94 2.06.94-2.06 2.06-.94-2.06-.94-.94-2.06-.94 2.06-2.06.94z\"/><path d=\"M17.41 7.96l-1.37-1.37c-.4-.4-.92-.59-1.43-.59-.52 0-1.04.2-1.43.59L10.3 9.45l-7.72 7.72c-.78.78-.78 2.05 0 2.83L4 21.41c.39.39.9.59 1.41.59.51 0 1.02-.2 1.41-.59l7.78-7.78 2.81-2.81c.8-.78.8-2.07 0-2.86zM5.41 20L4 18.59l7.72-7.72 1.47 1.35L5.41 20z\"/>\n",
              "  </svg>\n",
              "      </button>\n",
              "\n",
              "\n",
              "\n",
              "    <div id=\"df-a9c81de6-3b80-4bb0-9238-4d8a881f8b18\">\n",
              "      <button class=\"colab-df-quickchart\" onclick=\"quickchart('df-a9c81de6-3b80-4bb0-9238-4d8a881f8b18')\"\n",
              "              title=\"Suggest charts.\"\n",
              "              style=\"display:none;\">\n",
              "\n",
              "<svg xmlns=\"http://www.w3.org/2000/svg\" height=\"24px\"viewBox=\"0 0 24 24\"\n",
              "     width=\"24px\">\n",
              "    <g>\n",
              "        <path d=\"M19 3H5c-1.1 0-2 .9-2 2v14c0 1.1.9 2 2 2h14c1.1 0 2-.9 2-2V5c0-1.1-.9-2-2-2zM9 17H7v-7h2v7zm4 0h-2V7h2v10zm4 0h-2v-4h2v4z\"/>\n",
              "    </g>\n",
              "</svg>\n",
              "      </button>\n",
              "    </div>\n",
              "\n",
              "<style>\n",
              "  .colab-df-quickchart {\n",
              "    background-color: #E8F0FE;\n",
              "    border: none;\n",
              "    border-radius: 50%;\n",
              "    cursor: pointer;\n",
              "    display: none;\n",
              "    fill: #1967D2;\n",
              "    height: 32px;\n",
              "    padding: 0 0 0 0;\n",
              "    width: 32px;\n",
              "  }\n",
              "\n",
              "  .colab-df-quickchart:hover {\n",
              "    background-color: #E2EBFA;\n",
              "    box-shadow: 0px 1px 2px rgba(60, 64, 67, 0.3), 0px 1px 3px 1px rgba(60, 64, 67, 0.15);\n",
              "    fill: #174EA6;\n",
              "  }\n",
              "\n",
              "  [theme=dark] .colab-df-quickchart {\n",
              "    background-color: #3B4455;\n",
              "    fill: #D2E3FC;\n",
              "  }\n",
              "\n",
              "  [theme=dark] .colab-df-quickchart:hover {\n",
              "    background-color: #434B5C;\n",
              "    box-shadow: 0px 1px 3px 1px rgba(0, 0, 0, 0.15);\n",
              "    filter: drop-shadow(0px 1px 2px rgba(0, 0, 0, 0.3));\n",
              "    fill: #FFFFFF;\n",
              "  }\n",
              "</style>\n",
              "\n",
              "    <script>\n",
              "      async function quickchart(key) {\n",
              "        const containerElement = document.querySelector('#' + key);\n",
              "        const charts = await google.colab.kernel.invokeFunction(\n",
              "            'suggestCharts', [key], {});\n",
              "      }\n",
              "    </script>\n",
              "\n",
              "      <script>\n",
              "\n",
              "function displayQuickchartButton(domScope) {\n",
              "  let quickchartButtonEl =\n",
              "    domScope.querySelector('#df-a9c81de6-3b80-4bb0-9238-4d8a881f8b18 button.colab-df-quickchart');\n",
              "  quickchartButtonEl.style.display =\n",
              "    google.colab.kernel.accessAllowed ? 'block' : 'none';\n",
              "}\n",
              "\n",
              "        displayQuickchartButton(document);\n",
              "      </script>\n",
              "      <style>\n",
              "    .colab-df-container {\n",
              "      display:flex;\n",
              "      flex-wrap:wrap;\n",
              "      gap: 12px;\n",
              "    }\n",
              "\n",
              "    .colab-df-convert {\n",
              "      background-color: #E8F0FE;\n",
              "      border: none;\n",
              "      border-radius: 50%;\n",
              "      cursor: pointer;\n",
              "      display: none;\n",
              "      fill: #1967D2;\n",
              "      height: 32px;\n",
              "      padding: 0 0 0 0;\n",
              "      width: 32px;\n",
              "    }\n",
              "\n",
              "    .colab-df-convert:hover {\n",
              "      background-color: #E2EBFA;\n",
              "      box-shadow: 0px 1px 2px rgba(60, 64, 67, 0.3), 0px 1px 3px 1px rgba(60, 64, 67, 0.15);\n",
              "      fill: #174EA6;\n",
              "    }\n",
              "\n",
              "    [theme=dark] .colab-df-convert {\n",
              "      background-color: #3B4455;\n",
              "      fill: #D2E3FC;\n",
              "    }\n",
              "\n",
              "    [theme=dark] .colab-df-convert:hover {\n",
              "      background-color: #434B5C;\n",
              "      box-shadow: 0px 1px 3px 1px rgba(0, 0, 0, 0.15);\n",
              "      filter: drop-shadow(0px 1px 2px rgba(0, 0, 0, 0.3));\n",
              "      fill: #FFFFFF;\n",
              "    }\n",
              "  </style>\n",
              "\n",
              "      <script>\n",
              "        const buttonEl =\n",
              "          document.querySelector('#df-f9c3dc01-8da6-4a4f-8b66-3059740b0099 button.colab-df-convert');\n",
              "        buttonEl.style.display =\n",
              "          google.colab.kernel.accessAllowed ? 'block' : 'none';\n",
              "\n",
              "        async function convertToInteractive(key) {\n",
              "          const element = document.querySelector('#df-f9c3dc01-8da6-4a4f-8b66-3059740b0099');\n",
              "          const dataTable =\n",
              "            await google.colab.kernel.invokeFunction('convertToInteractive',\n",
              "                                                     [key], {});\n",
              "          if (!dataTable) return;\n",
              "\n",
              "          const docLinkHtml = 'Like what you see? Visit the ' +\n",
              "            '<a target=\"_blank\" href=https://colab.research.google.com/notebooks/data_table.ipynb>data table notebook</a>'\n",
              "            + ' to learn more about interactive tables.';\n",
              "          element.innerHTML = '';\n",
              "          dataTable['output_type'] = 'display_data';\n",
              "          await google.colab.output.renderOutput(dataTable, element);\n",
              "          const docLink = document.createElement('div');\n",
              "          docLink.innerHTML = docLinkHtml;\n",
              "          element.appendChild(docLink);\n",
              "        }\n",
              "      </script>\n",
              "    </div>\n",
              "  </div>\n"
            ]
          },
          "metadata": {},
          "execution_count": 72
        }
      ]
    },
    {
      "cell_type": "code",
      "source": [
        "import pandas as pd\n",
        "\n",
        "# ... (Previous code up to 'frequent_items_with_support')\n",
        "\n",
        "# Group the frequent itemsets by their lengths and calculate the count of itemsets for each length\n",
        "itemsets_count_by_length = frequent_items_with_support.groupby('length').count()\n",
        "\n",
        "# Rename the column to 'count'\n",
        "itemsets_count_by_length.rename(columns={'itemsets': 'count'}, inplace=True)\n",
        "\n",
        "# Display the itemsets count by length\n",
        "itemsets_count_by_length.head()\n"
      ],
      "metadata": {
        "id": "kMqfrbvoSLGX",
        "colab": {
          "base_uri": "https://localhost:8080/",
          "height": 292
        },
        "outputId": "ca4c7fd9-d48c-496c-c194-7022a44d4f9b"
      },
      "execution_count": null,
      "outputs": [
        {
          "output_type": "stream",
          "name": "stderr",
          "text": [
            "/usr/local/lib/python3.10/dist-packages/ipykernel/ipkernel.py:283: DeprecationWarning: `should_run_async` will not call `transform_cell` automatically in the future. Please pass the result to `transformed_cell` argument and any exception that happen during thetransform in `preprocessing_exc_tuple` in IPython 7.17 and above.\n",
            "  and should_run_async(code)\n"
          ]
        },
        {
          "output_type": "execute_result",
          "data": {
            "text/plain": [
              "        count  support\n",
              "length                \n",
              "1         727      727\n",
              "2         613      613\n",
              "3         354      354\n",
              "4          64       64\n",
              "5           4        4"
            ],
            "text/html": [
              "\n",
              "\n",
              "  <div id=\"df-ce7c5280-37ae-4446-a9aa-2ff89444e981\">\n",
              "    <div class=\"colab-df-container\">\n",
              "      <div>\n",
              "<style scoped>\n",
              "    .dataframe tbody tr th:only-of-type {\n",
              "        vertical-align: middle;\n",
              "    }\n",
              "\n",
              "    .dataframe tbody tr th {\n",
              "        vertical-align: top;\n",
              "    }\n",
              "\n",
              "    .dataframe thead th {\n",
              "        text-align: right;\n",
              "    }\n",
              "</style>\n",
              "<table border=\"1\" class=\"dataframe\">\n",
              "  <thead>\n",
              "    <tr style=\"text-align: right;\">\n",
              "      <th></th>\n",
              "      <th>count</th>\n",
              "      <th>support</th>\n",
              "    </tr>\n",
              "    <tr>\n",
              "      <th>length</th>\n",
              "      <th></th>\n",
              "      <th></th>\n",
              "    </tr>\n",
              "  </thead>\n",
              "  <tbody>\n",
              "    <tr>\n",
              "      <th>1</th>\n",
              "      <td>727</td>\n",
              "      <td>727</td>\n",
              "    </tr>\n",
              "    <tr>\n",
              "      <th>2</th>\n",
              "      <td>613</td>\n",
              "      <td>613</td>\n",
              "    </tr>\n",
              "    <tr>\n",
              "      <th>3</th>\n",
              "      <td>354</td>\n",
              "      <td>354</td>\n",
              "    </tr>\n",
              "    <tr>\n",
              "      <th>4</th>\n",
              "      <td>64</td>\n",
              "      <td>64</td>\n",
              "    </tr>\n",
              "    <tr>\n",
              "      <th>5</th>\n",
              "      <td>4</td>\n",
              "      <td>4</td>\n",
              "    </tr>\n",
              "  </tbody>\n",
              "</table>\n",
              "</div>\n",
              "      <button class=\"colab-df-convert\" onclick=\"convertToInteractive('df-ce7c5280-37ae-4446-a9aa-2ff89444e981')\"\n",
              "              title=\"Convert this dataframe to an interactive table.\"\n",
              "              style=\"display:none;\">\n",
              "\n",
              "  <svg xmlns=\"http://www.w3.org/2000/svg\" height=\"24px\"viewBox=\"0 0 24 24\"\n",
              "       width=\"24px\">\n",
              "    <path d=\"M0 0h24v24H0V0z\" fill=\"none\"/>\n",
              "    <path d=\"M18.56 5.44l.94 2.06.94-2.06 2.06-.94-2.06-.94-.94-2.06-.94 2.06-2.06.94zm-11 1L8.5 8.5l.94-2.06 2.06-.94-2.06-.94L8.5 2.5l-.94 2.06-2.06.94zm10 10l.94 2.06.94-2.06 2.06-.94-2.06-.94-.94-2.06-.94 2.06-2.06.94z\"/><path d=\"M17.41 7.96l-1.37-1.37c-.4-.4-.92-.59-1.43-.59-.52 0-1.04.2-1.43.59L10.3 9.45l-7.72 7.72c-.78.78-.78 2.05 0 2.83L4 21.41c.39.39.9.59 1.41.59.51 0 1.02-.2 1.41-.59l7.78-7.78 2.81-2.81c.8-.78.8-2.07 0-2.86zM5.41 20L4 18.59l7.72-7.72 1.47 1.35L5.41 20z\"/>\n",
              "  </svg>\n",
              "      </button>\n",
              "\n",
              "\n",
              "\n",
              "    <div id=\"df-f7e3e426-0bcb-4e95-abb7-3854f88a6af1\">\n",
              "      <button class=\"colab-df-quickchart\" onclick=\"quickchart('df-f7e3e426-0bcb-4e95-abb7-3854f88a6af1')\"\n",
              "              title=\"Suggest charts.\"\n",
              "              style=\"display:none;\">\n",
              "\n",
              "<svg xmlns=\"http://www.w3.org/2000/svg\" height=\"24px\"viewBox=\"0 0 24 24\"\n",
              "     width=\"24px\">\n",
              "    <g>\n",
              "        <path d=\"M19 3H5c-1.1 0-2 .9-2 2v14c0 1.1.9 2 2 2h14c1.1 0 2-.9 2-2V5c0-1.1-.9-2-2-2zM9 17H7v-7h2v7zm4 0h-2V7h2v10zm4 0h-2v-4h2v4z\"/>\n",
              "    </g>\n",
              "</svg>\n",
              "      </button>\n",
              "    </div>\n",
              "\n",
              "<style>\n",
              "  .colab-df-quickchart {\n",
              "    background-color: #E8F0FE;\n",
              "    border: none;\n",
              "    border-radius: 50%;\n",
              "    cursor: pointer;\n",
              "    display: none;\n",
              "    fill: #1967D2;\n",
              "    height: 32px;\n",
              "    padding: 0 0 0 0;\n",
              "    width: 32px;\n",
              "  }\n",
              "\n",
              "  .colab-df-quickchart:hover {\n",
              "    background-color: #E2EBFA;\n",
              "    box-shadow: 0px 1px 2px rgba(60, 64, 67, 0.3), 0px 1px 3px 1px rgba(60, 64, 67, 0.15);\n",
              "    fill: #174EA6;\n",
              "  }\n",
              "\n",
              "  [theme=dark] .colab-df-quickchart {\n",
              "    background-color: #3B4455;\n",
              "    fill: #D2E3FC;\n",
              "  }\n",
              "\n",
              "  [theme=dark] .colab-df-quickchart:hover {\n",
              "    background-color: #434B5C;\n",
              "    box-shadow: 0px 1px 3px 1px rgba(0, 0, 0, 0.15);\n",
              "    filter: drop-shadow(0px 1px 2px rgba(0, 0, 0, 0.3));\n",
              "    fill: #FFFFFF;\n",
              "  }\n",
              "</style>\n",
              "\n",
              "    <script>\n",
              "      async function quickchart(key) {\n",
              "        const containerElement = document.querySelector('#' + key);\n",
              "        const charts = await google.colab.kernel.invokeFunction(\n",
              "            'suggestCharts', [key], {});\n",
              "      }\n",
              "    </script>\n",
              "\n",
              "      <script>\n",
              "\n",
              "function displayQuickchartButton(domScope) {\n",
              "  let quickchartButtonEl =\n",
              "    domScope.querySelector('#df-f7e3e426-0bcb-4e95-abb7-3854f88a6af1 button.colab-df-quickchart');\n",
              "  quickchartButtonEl.style.display =\n",
              "    google.colab.kernel.accessAllowed ? 'block' : 'none';\n",
              "}\n",
              "\n",
              "        displayQuickchartButton(document);\n",
              "      </script>\n",
              "      <style>\n",
              "    .colab-df-container {\n",
              "      display:flex;\n",
              "      flex-wrap:wrap;\n",
              "      gap: 12px;\n",
              "    }\n",
              "\n",
              "    .colab-df-convert {\n",
              "      background-color: #E8F0FE;\n",
              "      border: none;\n",
              "      border-radius: 50%;\n",
              "      cursor: pointer;\n",
              "      display: none;\n",
              "      fill: #1967D2;\n",
              "      height: 32px;\n",
              "      padding: 0 0 0 0;\n",
              "      width: 32px;\n",
              "    }\n",
              "\n",
              "    .colab-df-convert:hover {\n",
              "      background-color: #E2EBFA;\n",
              "      box-shadow: 0px 1px 2px rgba(60, 64, 67, 0.3), 0px 1px 3px 1px rgba(60, 64, 67, 0.15);\n",
              "      fill: #174EA6;\n",
              "    }\n",
              "\n",
              "    [theme=dark] .colab-df-convert {\n",
              "      background-color: #3B4455;\n",
              "      fill: #D2E3FC;\n",
              "    }\n",
              "\n",
              "    [theme=dark] .colab-df-convert:hover {\n",
              "      background-color: #434B5C;\n",
              "      box-shadow: 0px 1px 3px 1px rgba(0, 0, 0, 0.15);\n",
              "      filter: drop-shadow(0px 1px 2px rgba(0, 0, 0, 0.3));\n",
              "      fill: #FFFFFF;\n",
              "    }\n",
              "  </style>\n",
              "\n",
              "      <script>\n",
              "        const buttonEl =\n",
              "          document.querySelector('#df-ce7c5280-37ae-4446-a9aa-2ff89444e981 button.colab-df-convert');\n",
              "        buttonEl.style.display =\n",
              "          google.colab.kernel.accessAllowed ? 'block' : 'none';\n",
              "\n",
              "        async function convertToInteractive(key) {\n",
              "          const element = document.querySelector('#df-ce7c5280-37ae-4446-a9aa-2ff89444e981');\n",
              "          const dataTable =\n",
              "            await google.colab.kernel.invokeFunction('convertToInteractive',\n",
              "                                                     [key], {});\n",
              "          if (!dataTable) return;\n",
              "\n",
              "          const docLinkHtml = 'Like what you see? Visit the ' +\n",
              "            '<a target=\"_blank\" href=https://colab.research.google.com/notebooks/data_table.ipynb>data table notebook</a>'\n",
              "            + ' to learn more about interactive tables.';\n",
              "          element.innerHTML = '';\n",
              "          dataTable['output_type'] = 'display_data';\n",
              "          await google.colab.output.renderOutput(dataTable, element);\n",
              "          const docLink = document.createElement('div');\n",
              "          docLink.innerHTML = docLinkHtml;\n",
              "          element.appendChild(docLink);\n",
              "        }\n",
              "      </script>\n",
              "    </div>\n",
              "  </div>\n"
            ]
          },
          "metadata": {},
          "execution_count": 73
        }
      ]
    },
    {
      "cell_type": "code",
      "source": [
        "import pandas as pd\n",
        "\n",
        "# ... (Previous code up to 'itemsets_count_by_length')\n",
        "\n",
        "# Calculate the product of length and count and create a new column 'length_times_count'\n",
        "itemsets_count_by_length['length_times_count'] = itemsets_count_by_length['count'] * itemsets_count_by_length.index\n",
        "\n",
        "# Display the updated DataFrame\n",
        "itemsets_count_by_length.head()"
      ],
      "metadata": {
        "id": "1iRrIzKzSLCf",
        "colab": {
          "base_uri": "https://localhost:8080/",
          "height": 292
        },
        "outputId": "0ea5c6f3-0213-4cf1-98b7-7ce4758ab6d2"
      },
      "execution_count": null,
      "outputs": [
        {
          "output_type": "stream",
          "name": "stderr",
          "text": [
            "/usr/local/lib/python3.10/dist-packages/ipykernel/ipkernel.py:283: DeprecationWarning: `should_run_async` will not call `transform_cell` automatically in the future. Please pass the result to `transformed_cell` argument and any exception that happen during thetransform in `preprocessing_exc_tuple` in IPython 7.17 and above.\n",
            "  and should_run_async(code)\n"
          ]
        },
        {
          "output_type": "execute_result",
          "data": {
            "text/plain": [
              "        count  support  length_times_count\n",
              "length                                    \n",
              "1         727      727                 727\n",
              "2         613      613                1226\n",
              "3         354      354                1062\n",
              "4          64       64                 256\n",
              "5           4        4                  20"
            ],
            "text/html": [
              "\n",
              "\n",
              "  <div id=\"df-c84901d9-5a43-41ae-9da4-03724ca2df32\">\n",
              "    <div class=\"colab-df-container\">\n",
              "      <div>\n",
              "<style scoped>\n",
              "    .dataframe tbody tr th:only-of-type {\n",
              "        vertical-align: middle;\n",
              "    }\n",
              "\n",
              "    .dataframe tbody tr th {\n",
              "        vertical-align: top;\n",
              "    }\n",
              "\n",
              "    .dataframe thead th {\n",
              "        text-align: right;\n",
              "    }\n",
              "</style>\n",
              "<table border=\"1\" class=\"dataframe\">\n",
              "  <thead>\n",
              "    <tr style=\"text-align: right;\">\n",
              "      <th></th>\n",
              "      <th>count</th>\n",
              "      <th>support</th>\n",
              "      <th>length_times_count</th>\n",
              "    </tr>\n",
              "    <tr>\n",
              "      <th>length</th>\n",
              "      <th></th>\n",
              "      <th></th>\n",
              "      <th></th>\n",
              "    </tr>\n",
              "  </thead>\n",
              "  <tbody>\n",
              "    <tr>\n",
              "      <th>1</th>\n",
              "      <td>727</td>\n",
              "      <td>727</td>\n",
              "      <td>727</td>\n",
              "    </tr>\n",
              "    <tr>\n",
              "      <th>2</th>\n",
              "      <td>613</td>\n",
              "      <td>613</td>\n",
              "      <td>1226</td>\n",
              "    </tr>\n",
              "    <tr>\n",
              "      <th>3</th>\n",
              "      <td>354</td>\n",
              "      <td>354</td>\n",
              "      <td>1062</td>\n",
              "    </tr>\n",
              "    <tr>\n",
              "      <th>4</th>\n",
              "      <td>64</td>\n",
              "      <td>64</td>\n",
              "      <td>256</td>\n",
              "    </tr>\n",
              "    <tr>\n",
              "      <th>5</th>\n",
              "      <td>4</td>\n",
              "      <td>4</td>\n",
              "      <td>20</td>\n",
              "    </tr>\n",
              "  </tbody>\n",
              "</table>\n",
              "</div>\n",
              "      <button class=\"colab-df-convert\" onclick=\"convertToInteractive('df-c84901d9-5a43-41ae-9da4-03724ca2df32')\"\n",
              "              title=\"Convert this dataframe to an interactive table.\"\n",
              "              style=\"display:none;\">\n",
              "\n",
              "  <svg xmlns=\"http://www.w3.org/2000/svg\" height=\"24px\"viewBox=\"0 0 24 24\"\n",
              "       width=\"24px\">\n",
              "    <path d=\"M0 0h24v24H0V0z\" fill=\"none\"/>\n",
              "    <path d=\"M18.56 5.44l.94 2.06.94-2.06 2.06-.94-2.06-.94-.94-2.06-.94 2.06-2.06.94zm-11 1L8.5 8.5l.94-2.06 2.06-.94-2.06-.94L8.5 2.5l-.94 2.06-2.06.94zm10 10l.94 2.06.94-2.06 2.06-.94-2.06-.94-.94-2.06-.94 2.06-2.06.94z\"/><path d=\"M17.41 7.96l-1.37-1.37c-.4-.4-.92-.59-1.43-.59-.52 0-1.04.2-1.43.59L10.3 9.45l-7.72 7.72c-.78.78-.78 2.05 0 2.83L4 21.41c.39.39.9.59 1.41.59.51 0 1.02-.2 1.41-.59l7.78-7.78 2.81-2.81c.8-.78.8-2.07 0-2.86zM5.41 20L4 18.59l7.72-7.72 1.47 1.35L5.41 20z\"/>\n",
              "  </svg>\n",
              "      </button>\n",
              "\n",
              "\n",
              "\n",
              "    <div id=\"df-1aa0f5d4-1581-451a-b9db-7970211daf72\">\n",
              "      <button class=\"colab-df-quickchart\" onclick=\"quickchart('df-1aa0f5d4-1581-451a-b9db-7970211daf72')\"\n",
              "              title=\"Suggest charts.\"\n",
              "              style=\"display:none;\">\n",
              "\n",
              "<svg xmlns=\"http://www.w3.org/2000/svg\" height=\"24px\"viewBox=\"0 0 24 24\"\n",
              "     width=\"24px\">\n",
              "    <g>\n",
              "        <path d=\"M19 3H5c-1.1 0-2 .9-2 2v14c0 1.1.9 2 2 2h14c1.1 0 2-.9 2-2V5c0-1.1-.9-2-2-2zM9 17H7v-7h2v7zm4 0h-2V7h2v10zm4 0h-2v-4h2v4z\"/>\n",
              "    </g>\n",
              "</svg>\n",
              "      </button>\n",
              "    </div>\n",
              "\n",
              "<style>\n",
              "  .colab-df-quickchart {\n",
              "    background-color: #E8F0FE;\n",
              "    border: none;\n",
              "    border-radius: 50%;\n",
              "    cursor: pointer;\n",
              "    display: none;\n",
              "    fill: #1967D2;\n",
              "    height: 32px;\n",
              "    padding: 0 0 0 0;\n",
              "    width: 32px;\n",
              "  }\n",
              "\n",
              "  .colab-df-quickchart:hover {\n",
              "    background-color: #E2EBFA;\n",
              "    box-shadow: 0px 1px 2px rgba(60, 64, 67, 0.3), 0px 1px 3px 1px rgba(60, 64, 67, 0.15);\n",
              "    fill: #174EA6;\n",
              "  }\n",
              "\n",
              "  [theme=dark] .colab-df-quickchart {\n",
              "    background-color: #3B4455;\n",
              "    fill: #D2E3FC;\n",
              "  }\n",
              "\n",
              "  [theme=dark] .colab-df-quickchart:hover {\n",
              "    background-color: #434B5C;\n",
              "    box-shadow: 0px 1px 3px 1px rgba(0, 0, 0, 0.15);\n",
              "    filter: drop-shadow(0px 1px 2px rgba(0, 0, 0, 0.3));\n",
              "    fill: #FFFFFF;\n",
              "  }\n",
              "</style>\n",
              "\n",
              "    <script>\n",
              "      async function quickchart(key) {\n",
              "        const containerElement = document.querySelector('#' + key);\n",
              "        const charts = await google.colab.kernel.invokeFunction(\n",
              "            'suggestCharts', [key], {});\n",
              "      }\n",
              "    </script>\n",
              "\n",
              "      <script>\n",
              "\n",
              "function displayQuickchartButton(domScope) {\n",
              "  let quickchartButtonEl =\n",
              "    domScope.querySelector('#df-1aa0f5d4-1581-451a-b9db-7970211daf72 button.colab-df-quickchart');\n",
              "  quickchartButtonEl.style.display =\n",
              "    google.colab.kernel.accessAllowed ? 'block' : 'none';\n",
              "}\n",
              "\n",
              "        displayQuickchartButton(document);\n",
              "      </script>\n",
              "      <style>\n",
              "    .colab-df-container {\n",
              "      display:flex;\n",
              "      flex-wrap:wrap;\n",
              "      gap: 12px;\n",
              "    }\n",
              "\n",
              "    .colab-df-convert {\n",
              "      background-color: #E8F0FE;\n",
              "      border: none;\n",
              "      border-radius: 50%;\n",
              "      cursor: pointer;\n",
              "      display: none;\n",
              "      fill: #1967D2;\n",
              "      height: 32px;\n",
              "      padding: 0 0 0 0;\n",
              "      width: 32px;\n",
              "    }\n",
              "\n",
              "    .colab-df-convert:hover {\n",
              "      background-color: #E2EBFA;\n",
              "      box-shadow: 0px 1px 2px rgba(60, 64, 67, 0.3), 0px 1px 3px 1px rgba(60, 64, 67, 0.15);\n",
              "      fill: #174EA6;\n",
              "    }\n",
              "\n",
              "    [theme=dark] .colab-df-convert {\n",
              "      background-color: #3B4455;\n",
              "      fill: #D2E3FC;\n",
              "    }\n",
              "\n",
              "    [theme=dark] .colab-df-convert:hover {\n",
              "      background-color: #434B5C;\n",
              "      box-shadow: 0px 1px 3px 1px rgba(0, 0, 0, 0.15);\n",
              "      filter: drop-shadow(0px 1px 2px rgba(0, 0, 0, 0.3));\n",
              "      fill: #FFFFFF;\n",
              "    }\n",
              "  </style>\n",
              "\n",
              "      <script>\n",
              "        const buttonEl =\n",
              "          document.querySelector('#df-c84901d9-5a43-41ae-9da4-03724ca2df32 button.colab-df-convert');\n",
              "        buttonEl.style.display =\n",
              "          google.colab.kernel.accessAllowed ? 'block' : 'none';\n",
              "\n",
              "        async function convertToInteractive(key) {\n",
              "          const element = document.querySelector('#df-c84901d9-5a43-41ae-9da4-03724ca2df32');\n",
              "          const dataTable =\n",
              "            await google.colab.kernel.invokeFunction('convertToInteractive',\n",
              "                                                     [key], {});\n",
              "          if (!dataTable) return;\n",
              "\n",
              "          const docLinkHtml = 'Like what you see? Visit the ' +\n",
              "            '<a target=\"_blank\" href=https://colab.research.google.com/notebooks/data_table.ipynb>data table notebook</a>'\n",
              "            + ' to learn more about interactive tables.';\n",
              "          element.innerHTML = '';\n",
              "          dataTable['output_type'] = 'display_data';\n",
              "          await google.colab.output.renderOutput(dataTable, element);\n",
              "          const docLink = document.createElement('div');\n",
              "          docLink.innerHTML = docLinkHtml;\n",
              "          element.appendChild(docLink);\n",
              "        }\n",
              "      </script>\n",
              "    </div>\n",
              "  </div>\n"
            ]
          },
          "metadata": {},
          "execution_count": 74
        }
      ]
    },
    {
      "cell_type": "code",
      "source": [
        "# Calculate the sum of the 'length_times_count' column\n",
        "sum_length_times_count = itemsets_count_by_length['length_times_count'].sum()\n",
        "\n",
        "# Display the sum of length_times_count\n",
        "print('Sum of length_times_count:', sum_length_times_count)\n",
        "print('')"
      ],
      "metadata": {
        "id": "DnM1FwoGSK_R",
        "colab": {
          "base_uri": "https://localhost:8080/"
        },
        "outputId": "0f7d90cc-8167-4f12-be54-0489fa4a2191"
      },
      "execution_count": null,
      "outputs": [
        {
          "output_type": "stream",
          "name": "stdout",
          "text": [
            "Sum of length_times_count: 3291\n",
            "\n"
          ]
        },
        {
          "output_type": "stream",
          "name": "stderr",
          "text": [
            "/usr/local/lib/python3.10/dist-packages/ipykernel/ipkernel.py:283: DeprecationWarning: `should_run_async` will not call `transform_cell` automatically in the future. Please pass the result to `transformed_cell` argument and any exception that happen during thetransform in `preprocessing_exc_tuple` in IPython 7.17 and above.\n",
            "  and should_run_async(code)\n"
          ]
        }
      ]
    },
    {
      "cell_type": "code",
      "source": [],
      "metadata": {
        "id": "FI56h0pESK7A"
      },
      "execution_count": null,
      "outputs": []
    },
    {
      "cell_type": "code",
      "source": [],
      "metadata": {
        "id": "ygLTrPt9SK3S"
      },
      "execution_count": null,
      "outputs": []
    },
    {
      "cell_type": "code",
      "source": [],
      "metadata": {
        "id": "B_eiaiL7SK1y"
      },
      "execution_count": null,
      "outputs": []
    },
    {
      "cell_type": "code",
      "source": [
        "DF.head()"
      ],
      "metadata": {
        "colab": {
          "base_uri": "https://localhost:8080/",
          "height": 261
        },
        "id": "iJF7u3xaSKyk",
        "outputId": "909f46ea-c742-423b-fea8-40a8b8fc64c6"
      },
      "execution_count": null,
      "outputs": [
        {
          "output_type": "stream",
          "name": "stderr",
          "text": [
            "/usr/local/lib/python3.10/dist-packages/ipykernel/ipkernel.py:283: DeprecationWarning: `should_run_async` will not call `transform_cell` automatically in the future. Please pass the result to `transformed_cell` argument and any exception that happen during thetransform in `preprocessing_exc_tuple` in IPython 7.17 and above.\n",
            "  and should_run_async(code)\n"
          ]
        },
        {
          "output_type": "execute_result",
          "data": {
            "text/plain": [
              "   ID1  ID2\n",
              "0    1    2\n",
              "1    1    3\n",
              "2    1    4\n",
              "3    1    5\n",
              "4    1    6"
            ],
            "text/html": [
              "\n",
              "\n",
              "  <div id=\"df-940262fc-cf6f-4e9f-8fef-f5018d09638f\">\n",
              "    <div class=\"colab-df-container\">\n",
              "      <div>\n",
              "<style scoped>\n",
              "    .dataframe tbody tr th:only-of-type {\n",
              "        vertical-align: middle;\n",
              "    }\n",
              "\n",
              "    .dataframe tbody tr th {\n",
              "        vertical-align: top;\n",
              "    }\n",
              "\n",
              "    .dataframe thead th {\n",
              "        text-align: right;\n",
              "    }\n",
              "</style>\n",
              "<table border=\"1\" class=\"dataframe\">\n",
              "  <thead>\n",
              "    <tr style=\"text-align: right;\">\n",
              "      <th></th>\n",
              "      <th>ID1</th>\n",
              "      <th>ID2</th>\n",
              "    </tr>\n",
              "  </thead>\n",
              "  <tbody>\n",
              "    <tr>\n",
              "      <th>0</th>\n",
              "      <td>1</td>\n",
              "      <td>2</td>\n",
              "    </tr>\n",
              "    <tr>\n",
              "      <th>1</th>\n",
              "      <td>1</td>\n",
              "      <td>3</td>\n",
              "    </tr>\n",
              "    <tr>\n",
              "      <th>2</th>\n",
              "      <td>1</td>\n",
              "      <td>4</td>\n",
              "    </tr>\n",
              "    <tr>\n",
              "      <th>3</th>\n",
              "      <td>1</td>\n",
              "      <td>5</td>\n",
              "    </tr>\n",
              "    <tr>\n",
              "      <th>4</th>\n",
              "      <td>1</td>\n",
              "      <td>6</td>\n",
              "    </tr>\n",
              "  </tbody>\n",
              "</table>\n",
              "</div>\n",
              "      <button class=\"colab-df-convert\" onclick=\"convertToInteractive('df-940262fc-cf6f-4e9f-8fef-f5018d09638f')\"\n",
              "              title=\"Convert this dataframe to an interactive table.\"\n",
              "              style=\"display:none;\">\n",
              "\n",
              "  <svg xmlns=\"http://www.w3.org/2000/svg\" height=\"24px\"viewBox=\"0 0 24 24\"\n",
              "       width=\"24px\">\n",
              "    <path d=\"M0 0h24v24H0V0z\" fill=\"none\"/>\n",
              "    <path d=\"M18.56 5.44l.94 2.06.94-2.06 2.06-.94-2.06-.94-.94-2.06-.94 2.06-2.06.94zm-11 1L8.5 8.5l.94-2.06 2.06-.94-2.06-.94L8.5 2.5l-.94 2.06-2.06.94zm10 10l.94 2.06.94-2.06 2.06-.94-2.06-.94-.94-2.06-.94 2.06-2.06.94z\"/><path d=\"M17.41 7.96l-1.37-1.37c-.4-.4-.92-.59-1.43-.59-.52 0-1.04.2-1.43.59L10.3 9.45l-7.72 7.72c-.78.78-.78 2.05 0 2.83L4 21.41c.39.39.9.59 1.41.59.51 0 1.02-.2 1.41-.59l7.78-7.78 2.81-2.81c.8-.78.8-2.07 0-2.86zM5.41 20L4 18.59l7.72-7.72 1.47 1.35L5.41 20z\"/>\n",
              "  </svg>\n",
              "      </button>\n",
              "\n",
              "\n",
              "\n",
              "    <div id=\"df-6e0ff0cc-c238-445f-87eb-115a4eb4458e\">\n",
              "      <button class=\"colab-df-quickchart\" onclick=\"quickchart('df-6e0ff0cc-c238-445f-87eb-115a4eb4458e')\"\n",
              "              title=\"Suggest charts.\"\n",
              "              style=\"display:none;\">\n",
              "\n",
              "<svg xmlns=\"http://www.w3.org/2000/svg\" height=\"24px\"viewBox=\"0 0 24 24\"\n",
              "     width=\"24px\">\n",
              "    <g>\n",
              "        <path d=\"M19 3H5c-1.1 0-2 .9-2 2v14c0 1.1.9 2 2 2h14c1.1 0 2-.9 2-2V5c0-1.1-.9-2-2-2zM9 17H7v-7h2v7zm4 0h-2V7h2v10zm4 0h-2v-4h2v4z\"/>\n",
              "    </g>\n",
              "</svg>\n",
              "      </button>\n",
              "    </div>\n",
              "\n",
              "<style>\n",
              "  .colab-df-quickchart {\n",
              "    background-color: #E8F0FE;\n",
              "    border: none;\n",
              "    border-radius: 50%;\n",
              "    cursor: pointer;\n",
              "    display: none;\n",
              "    fill: #1967D2;\n",
              "    height: 32px;\n",
              "    padding: 0 0 0 0;\n",
              "    width: 32px;\n",
              "  }\n",
              "\n",
              "  .colab-df-quickchart:hover {\n",
              "    background-color: #E2EBFA;\n",
              "    box-shadow: 0px 1px 2px rgba(60, 64, 67, 0.3), 0px 1px 3px 1px rgba(60, 64, 67, 0.15);\n",
              "    fill: #174EA6;\n",
              "  }\n",
              "\n",
              "  [theme=dark] .colab-df-quickchart {\n",
              "    background-color: #3B4455;\n",
              "    fill: #D2E3FC;\n",
              "  }\n",
              "\n",
              "  [theme=dark] .colab-df-quickchart:hover {\n",
              "    background-color: #434B5C;\n",
              "    box-shadow: 0px 1px 3px 1px rgba(0, 0, 0, 0.15);\n",
              "    filter: drop-shadow(0px 1px 2px rgba(0, 0, 0, 0.3));\n",
              "    fill: #FFFFFF;\n",
              "  }\n",
              "</style>\n",
              "\n",
              "    <script>\n",
              "      async function quickchart(key) {\n",
              "        const containerElement = document.querySelector('#' + key);\n",
              "        const charts = await google.colab.kernel.invokeFunction(\n",
              "            'suggestCharts', [key], {});\n",
              "      }\n",
              "    </script>\n",
              "\n",
              "      <script>\n",
              "\n",
              "function displayQuickchartButton(domScope) {\n",
              "  let quickchartButtonEl =\n",
              "    domScope.querySelector('#df-6e0ff0cc-c238-445f-87eb-115a4eb4458e button.colab-df-quickchart');\n",
              "  quickchartButtonEl.style.display =\n",
              "    google.colab.kernel.accessAllowed ? 'block' : 'none';\n",
              "}\n",
              "\n",
              "        displayQuickchartButton(document);\n",
              "      </script>\n",
              "      <style>\n",
              "    .colab-df-container {\n",
              "      display:flex;\n",
              "      flex-wrap:wrap;\n",
              "      gap: 12px;\n",
              "    }\n",
              "\n",
              "    .colab-df-convert {\n",
              "      background-color: #E8F0FE;\n",
              "      border: none;\n",
              "      border-radius: 50%;\n",
              "      cursor: pointer;\n",
              "      display: none;\n",
              "      fill: #1967D2;\n",
              "      height: 32px;\n",
              "      padding: 0 0 0 0;\n",
              "      width: 32px;\n",
              "    }\n",
              "\n",
              "    .colab-df-convert:hover {\n",
              "      background-color: #E2EBFA;\n",
              "      box-shadow: 0px 1px 2px rgba(60, 64, 67, 0.3), 0px 1px 3px 1px rgba(60, 64, 67, 0.15);\n",
              "      fill: #174EA6;\n",
              "    }\n",
              "\n",
              "    [theme=dark] .colab-df-convert {\n",
              "      background-color: #3B4455;\n",
              "      fill: #D2E3FC;\n",
              "    }\n",
              "\n",
              "    [theme=dark] .colab-df-convert:hover {\n",
              "      background-color: #434B5C;\n",
              "      box-shadow: 0px 1px 3px 1px rgba(0, 0, 0, 0.15);\n",
              "      filter: drop-shadow(0px 1px 2px rgba(0, 0, 0, 0.3));\n",
              "      fill: #FFFFFF;\n",
              "    }\n",
              "  </style>\n",
              "\n",
              "      <script>\n",
              "        const buttonEl =\n",
              "          document.querySelector('#df-940262fc-cf6f-4e9f-8fef-f5018d09638f button.colab-df-convert');\n",
              "        buttonEl.style.display =\n",
              "          google.colab.kernel.accessAllowed ? 'block' : 'none';\n",
              "\n",
              "        async function convertToInteractive(key) {\n",
              "          const element = document.querySelector('#df-940262fc-cf6f-4e9f-8fef-f5018d09638f');\n",
              "          const dataTable =\n",
              "            await google.colab.kernel.invokeFunction('convertToInteractive',\n",
              "                                                     [key], {});\n",
              "          if (!dataTable) return;\n",
              "\n",
              "          const docLinkHtml = 'Like what you see? Visit the ' +\n",
              "            '<a target=\"_blank\" href=https://colab.research.google.com/notebooks/data_table.ipynb>data table notebook</a>'\n",
              "            + ' to learn more about interactive tables.';\n",
              "          element.innerHTML = '';\n",
              "          dataTable['output_type'] = 'display_data';\n",
              "          await google.colab.output.renderOutput(dataTable, element);\n",
              "          const docLink = document.createElement('div');\n",
              "          docLink.innerHTML = docLinkHtml;\n",
              "          element.appendChild(docLink);\n",
              "        }\n",
              "      </script>\n",
              "    </div>\n",
              "  </div>\n"
            ]
          },
          "metadata": {},
          "execution_count": 76
        }
      ]
    },
    {
      "cell_type": "markdown",
      "source": [
        "# crashes"
      ],
      "metadata": {
        "id": "zHnDrI2vURoE"
      }
    },
    {
      "cell_type": "code",
      "source": [
        "import pandas as pd\n",
        "\n",
        "# Replace the path with the correct one if needed\n",
        "file_path = '/content/drive/MyDrive/Subgraph.csv'\n",
        "\n",
        "# Read the file into a DataFrame\n",
        "DF = pd.read_csv(file_path)\n",
        "\n",
        "# Get the unique nodes (vertices) in the graph\n",
        "nodes = list(set(DF['ID1']).union(set(DF['ID2'])))\n",
        "\n",
        "# Create an empty DataFrame with the nodes as both row and column indices\n",
        "adjacency_matrix = pd.DataFrame(0, index=nodes, columns=nodes)\n",
        "\n",
        "# Fill the adjacency matrix based on the edge list\n",
        "for _, row in DF.iterrows():\n",
        "    source = row['ID1']\n",
        "    target = row['ID2']\n",
        "    adjacency_matrix.loc[source, target] = 1\n",
        "\n",
        "print(adjacency_matrix)\n"
      ],
      "metadata": {
        "id": "6vMC9EmuSKxI"
      },
      "execution_count": null,
      "outputs": []
    },
    {
      "cell_type": "markdown",
      "source": [
        "# safe 1"
      ],
      "metadata": {
        "id": "-iFdVssxUVV4"
      }
    },
    {
      "cell_type": "code",
      "source": [
        "import pandas as pd\n",
        "import networkx as nx\n",
        "\n",
        "# Replace the path with the correct one if needed\n",
        "file_path = '/content/drive/MyDrive/Subgraph.csv'\n",
        "\n",
        "# Read the file into a DataFrame\n",
        "DF = pd.read_csv(file_path)\n",
        "\n",
        "# Create a directed graph from the edge list\n",
        "G = nx.from_pandas_edgelist(DF, source='ID1', target='ID2', create_using=nx.DiGraph())\n",
        "\n"
      ],
      "metadata": {
        "id": "ImcYyZItSL51",
        "colab": {
          "base_uri": "https://localhost:8080/"
        },
        "outputId": "80527661-3659-4da1-a23a-111e137590fe"
      },
      "execution_count": null,
      "outputs": [
        {
          "output_type": "stream",
          "name": "stderr",
          "text": [
            "/usr/local/lib/python3.10/dist-packages/ipykernel/ipkernel.py:283: DeprecationWarning: `should_run_async` will not call `transform_cell` automatically in the future. Please pass the result to `transformed_cell` argument and any exception that happen during thetransform in `preprocessing_exc_tuple` in IPython 7.17 and above.\n",
            "  and should_run_async(code)\n"
          ]
        }
      ]
    },
    {
      "cell_type": "markdown",
      "source": [
        "# crashes"
      ],
      "metadata": {
        "id": "kOlECn3yUTuQ"
      }
    },
    {
      "cell_type": "code",
      "source": [
        "# Convert the graph to an adjacency matrix (pandas DataFrame)\n",
        "adjacency_df = nx.to_pandas_adjacency(G, dtype=int)\n",
        "\n",
        "print(adjacency_df)\n",
        "\n"
      ],
      "metadata": {
        "id": "CgxrvODRTQel"
      },
      "execution_count": null,
      "outputs": []
    },
    {
      "cell_type": "markdown",
      "source": [
        "# safe 2"
      ],
      "metadata": {
        "id": "Sxfe1XhKUWp7"
      }
    },
    {
      "cell_type": "code",
      "source": [
        "# Get the adjacency list representation\n",
        "adjacency_list = G.adjacency()\n",
        "\n",
        "# Convert the adjacency list to a dictionary of lists\n",
        "adjacency_dict = {node: [neighbor for neighbor in neighbors] for node, neighbors in adjacency_list}\n",
        "followings_dict=adjacency_dict\n",
        "print(adjacency_dict)\n"
      ],
      "metadata": {
        "colab": {
          "base_uri": "https://localhost:8080/"
        },
        "id": "GDVT6958TmCo",
        "outputId": "70e940b5-63d2-4bc7-ac32-c2fc9d3cde2d"
      },
      "execution_count": null,
      "outputs": [
        {
          "output_type": "stream",
          "name": "stderr",
          "text": [
            "/usr/local/lib/python3.10/dist-packages/ipykernel/ipkernel.py:283: DeprecationWarning: `should_run_async` will not call `transform_cell` automatically in the future. Please pass the result to `transformed_cell` argument and any exception that happen during thetransform in `preprocessing_exc_tuple` in IPython 7.17 and above.\n",
            "  and should_run_async(code)\n",
            "IOPub data rate exceeded.\n",
            "The notebook server will temporarily stop sending output\n",
            "to the client in order to avoid crashing it.\n",
            "To change this limit, set the config variable\n",
            "`--NotebookApp.iopub_data_rate_limit`.\n",
            "\n",
            "Current values:\n",
            "NotebookApp.iopub_data_rate_limit=1000000.0 (bytes/sec)\n",
            "NotebookApp.rate_limit_window=3.0 (secs)\n",
            "\n"
          ]
        }
      ]
    },
    {
      "cell_type": "markdown",
      "source": [
        "# dont run\n"
      ],
      "metadata": {
        "id": "6zlYmdkcfDst"
      }
    },
    {
      "cell_type": "code",
      "source": [
        "# Convert the dictionary to a DataFrame\n",
        "adjacency_df = pd.DataFrame.from_dict(adjacency_dict, orient='index')\n",
        "adjacency_df\n"
      ],
      "metadata": {
        "colab": {
          "base_uri": "https://localhost:8080/",
          "height": 487
        },
        "id": "ebA73GycUHJM",
        "outputId": "96d2cbe6-83d8-4c9e-ff15-f4c9fc497ae1"
      },
      "execution_count": null,
      "outputs": [
        {
          "output_type": "execute_result",
          "data": {
            "text/plain": [
              "           0        1         2         3        4        5        6     \\\n",
              "1           2.0      3.0       4.0       5.0      6.0      7.0      8.0   \n",
              "2          25.0     96.0      26.0     134.0     27.0    109.0     99.0   \n",
              "3         134.0    136.0     175.0    1000.0     34.0    291.0   1009.0   \n",
              "4          25.0     96.0      97.0       2.0     26.0    134.0   1299.0   \n",
              "5          25.0      2.0      26.0      27.0     32.0    175.0    995.0   \n",
              "...         ...      ...       ...       ...      ...      ...      ...   \n",
              "261213   6929.0  16440.0    7540.0    6948.0   6951.0  42922.0  31028.0   \n",
              "115882  19913.0  50361.0   74929.0   16452.0  58109.0  54019.0      NaN   \n",
              "142681      NaN      NaN       NaN       NaN      NaN      NaN      NaN   \n",
              "255708  30869.0   6958.0  117109.0  119380.0      NaN      NaN      NaN   \n",
              "385899  30965.0  16450.0   31031.0   42927.0   7590.0  27185.0   1416.0   \n",
              "\n",
              "           7         8        9     ...  1087  1088  1089  1090  1091  1092  \\\n",
              "1           9.0      10.0     11.0  ...   NaN   NaN   NaN   NaN   NaN   NaN   \n",
              "2          29.0     290.0     31.0  ...   NaN   NaN   NaN   NaN   NaN   NaN   \n",
              "3         140.0     143.0   1027.0  ...   NaN   NaN   NaN   NaN   NaN   NaN   \n",
              "4          98.0     984.0     27.0  ...   NaN   NaN   NaN   NaN   NaN   NaN   \n",
              "5        1315.0      34.0    291.0  ...   NaN   NaN   NaN   NaN   NaN   NaN   \n",
              "...         ...       ...      ...  ...   ...   ...   ...   ...   ...   ...   \n",
              "261213   7569.0   29230.0  35772.0  ...   NaN   NaN   NaN   NaN   NaN   NaN   \n",
              "115882      NaN       NaN      NaN  ...   NaN   NaN   NaN   NaN   NaN   NaN   \n",
              "142681      NaN       NaN      NaN  ...   NaN   NaN   NaN   NaN   NaN   NaN   \n",
              "255708      NaN       NaN      NaN  ...   NaN   NaN   NaN   NaN   NaN   NaN   \n",
              "385899  40797.0  114415.0      NaN  ...   NaN   NaN   NaN   NaN   NaN   NaN   \n",
              "\n",
              "        1093  1094  1095  1096  \n",
              "1        NaN   NaN   NaN   NaN  \n",
              "2        NaN   NaN   NaN   NaN  \n",
              "3        NaN   NaN   NaN   NaN  \n",
              "4        NaN   NaN   NaN   NaN  \n",
              "5        NaN   NaN   NaN   NaN  \n",
              "...      ...   ...   ...   ...  \n",
              "261213   NaN   NaN   NaN   NaN  \n",
              "115882   NaN   NaN   NaN   NaN  \n",
              "142681   NaN   NaN   NaN   NaN  \n",
              "255708   NaN   NaN   NaN   NaN  \n",
              "385899   NaN   NaN   NaN   NaN  \n",
              "\n",
              "[45756 rows x 1097 columns]"
            ],
            "text/html": [
              "\n",
              "\n",
              "  <div id=\"df-5f0f7ff8-c90b-4790-bc24-567111893862\">\n",
              "    <div class=\"colab-df-container\">\n",
              "      <div>\n",
              "<style scoped>\n",
              "    .dataframe tbody tr th:only-of-type {\n",
              "        vertical-align: middle;\n",
              "    }\n",
              "\n",
              "    .dataframe tbody tr th {\n",
              "        vertical-align: top;\n",
              "    }\n",
              "\n",
              "    .dataframe thead th {\n",
              "        text-align: right;\n",
              "    }\n",
              "</style>\n",
              "<table border=\"1\" class=\"dataframe\">\n",
              "  <thead>\n",
              "    <tr style=\"text-align: right;\">\n",
              "      <th></th>\n",
              "      <th>0</th>\n",
              "      <th>1</th>\n",
              "      <th>2</th>\n",
              "      <th>3</th>\n",
              "      <th>4</th>\n",
              "      <th>5</th>\n",
              "      <th>6</th>\n",
              "      <th>7</th>\n",
              "      <th>8</th>\n",
              "      <th>9</th>\n",
              "      <th>...</th>\n",
              "      <th>1087</th>\n",
              "      <th>1088</th>\n",
              "      <th>1089</th>\n",
              "      <th>1090</th>\n",
              "      <th>1091</th>\n",
              "      <th>1092</th>\n",
              "      <th>1093</th>\n",
              "      <th>1094</th>\n",
              "      <th>1095</th>\n",
              "      <th>1096</th>\n",
              "    </tr>\n",
              "  </thead>\n",
              "  <tbody>\n",
              "    <tr>\n",
              "      <th>1</th>\n",
              "      <td>2.0</td>\n",
              "      <td>3.0</td>\n",
              "      <td>4.0</td>\n",
              "      <td>5.0</td>\n",
              "      <td>6.0</td>\n",
              "      <td>7.0</td>\n",
              "      <td>8.0</td>\n",
              "      <td>9.0</td>\n",
              "      <td>10.0</td>\n",
              "      <td>11.0</td>\n",
              "      <td>...</td>\n",
              "      <td>NaN</td>\n",
              "      <td>NaN</td>\n",
              "      <td>NaN</td>\n",
              "      <td>NaN</td>\n",
              "      <td>NaN</td>\n",
              "      <td>NaN</td>\n",
              "      <td>NaN</td>\n",
              "      <td>NaN</td>\n",
              "      <td>NaN</td>\n",
              "      <td>NaN</td>\n",
              "    </tr>\n",
              "    <tr>\n",
              "      <th>2</th>\n",
              "      <td>25.0</td>\n",
              "      <td>96.0</td>\n",
              "      <td>26.0</td>\n",
              "      <td>134.0</td>\n",
              "      <td>27.0</td>\n",
              "      <td>109.0</td>\n",
              "      <td>99.0</td>\n",
              "      <td>29.0</td>\n",
              "      <td>290.0</td>\n",
              "      <td>31.0</td>\n",
              "      <td>...</td>\n",
              "      <td>NaN</td>\n",
              "      <td>NaN</td>\n",
              "      <td>NaN</td>\n",
              "      <td>NaN</td>\n",
              "      <td>NaN</td>\n",
              "      <td>NaN</td>\n",
              "      <td>NaN</td>\n",
              "      <td>NaN</td>\n",
              "      <td>NaN</td>\n",
              "      <td>NaN</td>\n",
              "    </tr>\n",
              "    <tr>\n",
              "      <th>3</th>\n",
              "      <td>134.0</td>\n",
              "      <td>136.0</td>\n",
              "      <td>175.0</td>\n",
              "      <td>1000.0</td>\n",
              "      <td>34.0</td>\n",
              "      <td>291.0</td>\n",
              "      <td>1009.0</td>\n",
              "      <td>140.0</td>\n",
              "      <td>143.0</td>\n",
              "      <td>1027.0</td>\n",
              "      <td>...</td>\n",
              "      <td>NaN</td>\n",
              "      <td>NaN</td>\n",
              "      <td>NaN</td>\n",
              "      <td>NaN</td>\n",
              "      <td>NaN</td>\n",
              "      <td>NaN</td>\n",
              "      <td>NaN</td>\n",
              "      <td>NaN</td>\n",
              "      <td>NaN</td>\n",
              "      <td>NaN</td>\n",
              "    </tr>\n",
              "    <tr>\n",
              "      <th>4</th>\n",
              "      <td>25.0</td>\n",
              "      <td>96.0</td>\n",
              "      <td>97.0</td>\n",
              "      <td>2.0</td>\n",
              "      <td>26.0</td>\n",
              "      <td>134.0</td>\n",
              "      <td>1299.0</td>\n",
              "      <td>98.0</td>\n",
              "      <td>984.0</td>\n",
              "      <td>27.0</td>\n",
              "      <td>...</td>\n",
              "      <td>NaN</td>\n",
              "      <td>NaN</td>\n",
              "      <td>NaN</td>\n",
              "      <td>NaN</td>\n",
              "      <td>NaN</td>\n",
              "      <td>NaN</td>\n",
              "      <td>NaN</td>\n",
              "      <td>NaN</td>\n",
              "      <td>NaN</td>\n",
              "      <td>NaN</td>\n",
              "    </tr>\n",
              "    <tr>\n",
              "      <th>5</th>\n",
              "      <td>25.0</td>\n",
              "      <td>2.0</td>\n",
              "      <td>26.0</td>\n",
              "      <td>27.0</td>\n",
              "      <td>32.0</td>\n",
              "      <td>175.0</td>\n",
              "      <td>995.0</td>\n",
              "      <td>1315.0</td>\n",
              "      <td>34.0</td>\n",
              "      <td>291.0</td>\n",
              "      <td>...</td>\n",
              "      <td>NaN</td>\n",
              "      <td>NaN</td>\n",
              "      <td>NaN</td>\n",
              "      <td>NaN</td>\n",
              "      <td>NaN</td>\n",
              "      <td>NaN</td>\n",
              "      <td>NaN</td>\n",
              "      <td>NaN</td>\n",
              "      <td>NaN</td>\n",
              "      <td>NaN</td>\n",
              "    </tr>\n",
              "    <tr>\n",
              "      <th>...</th>\n",
              "      <td>...</td>\n",
              "      <td>...</td>\n",
              "      <td>...</td>\n",
              "      <td>...</td>\n",
              "      <td>...</td>\n",
              "      <td>...</td>\n",
              "      <td>...</td>\n",
              "      <td>...</td>\n",
              "      <td>...</td>\n",
              "      <td>...</td>\n",
              "      <td>...</td>\n",
              "      <td>...</td>\n",
              "      <td>...</td>\n",
              "      <td>...</td>\n",
              "      <td>...</td>\n",
              "      <td>...</td>\n",
              "      <td>...</td>\n",
              "      <td>...</td>\n",
              "      <td>...</td>\n",
              "      <td>...</td>\n",
              "      <td>...</td>\n",
              "    </tr>\n",
              "    <tr>\n",
              "      <th>261213</th>\n",
              "      <td>6929.0</td>\n",
              "      <td>16440.0</td>\n",
              "      <td>7540.0</td>\n",
              "      <td>6948.0</td>\n",
              "      <td>6951.0</td>\n",
              "      <td>42922.0</td>\n",
              "      <td>31028.0</td>\n",
              "      <td>7569.0</td>\n",
              "      <td>29230.0</td>\n",
              "      <td>35772.0</td>\n",
              "      <td>...</td>\n",
              "      <td>NaN</td>\n",
              "      <td>NaN</td>\n",
              "      <td>NaN</td>\n",
              "      <td>NaN</td>\n",
              "      <td>NaN</td>\n",
              "      <td>NaN</td>\n",
              "      <td>NaN</td>\n",
              "      <td>NaN</td>\n",
              "      <td>NaN</td>\n",
              "      <td>NaN</td>\n",
              "    </tr>\n",
              "    <tr>\n",
              "      <th>115882</th>\n",
              "      <td>19913.0</td>\n",
              "      <td>50361.0</td>\n",
              "      <td>74929.0</td>\n",
              "      <td>16452.0</td>\n",
              "      <td>58109.0</td>\n",
              "      <td>54019.0</td>\n",
              "      <td>NaN</td>\n",
              "      <td>NaN</td>\n",
              "      <td>NaN</td>\n",
              "      <td>NaN</td>\n",
              "      <td>...</td>\n",
              "      <td>NaN</td>\n",
              "      <td>NaN</td>\n",
              "      <td>NaN</td>\n",
              "      <td>NaN</td>\n",
              "      <td>NaN</td>\n",
              "      <td>NaN</td>\n",
              "      <td>NaN</td>\n",
              "      <td>NaN</td>\n",
              "      <td>NaN</td>\n",
              "      <td>NaN</td>\n",
              "    </tr>\n",
              "    <tr>\n",
              "      <th>142681</th>\n",
              "      <td>NaN</td>\n",
              "      <td>NaN</td>\n",
              "      <td>NaN</td>\n",
              "      <td>NaN</td>\n",
              "      <td>NaN</td>\n",
              "      <td>NaN</td>\n",
              "      <td>NaN</td>\n",
              "      <td>NaN</td>\n",
              "      <td>NaN</td>\n",
              "      <td>NaN</td>\n",
              "      <td>...</td>\n",
              "      <td>NaN</td>\n",
              "      <td>NaN</td>\n",
              "      <td>NaN</td>\n",
              "      <td>NaN</td>\n",
              "      <td>NaN</td>\n",
              "      <td>NaN</td>\n",
              "      <td>NaN</td>\n",
              "      <td>NaN</td>\n",
              "      <td>NaN</td>\n",
              "      <td>NaN</td>\n",
              "    </tr>\n",
              "    <tr>\n",
              "      <th>255708</th>\n",
              "      <td>30869.0</td>\n",
              "      <td>6958.0</td>\n",
              "      <td>117109.0</td>\n",
              "      <td>119380.0</td>\n",
              "      <td>NaN</td>\n",
              "      <td>NaN</td>\n",
              "      <td>NaN</td>\n",
              "      <td>NaN</td>\n",
              "      <td>NaN</td>\n",
              "      <td>NaN</td>\n",
              "      <td>...</td>\n",
              "      <td>NaN</td>\n",
              "      <td>NaN</td>\n",
              "      <td>NaN</td>\n",
              "      <td>NaN</td>\n",
              "      <td>NaN</td>\n",
              "      <td>NaN</td>\n",
              "      <td>NaN</td>\n",
              "      <td>NaN</td>\n",
              "      <td>NaN</td>\n",
              "      <td>NaN</td>\n",
              "    </tr>\n",
              "    <tr>\n",
              "      <th>385899</th>\n",
              "      <td>30965.0</td>\n",
              "      <td>16450.0</td>\n",
              "      <td>31031.0</td>\n",
              "      <td>42927.0</td>\n",
              "      <td>7590.0</td>\n",
              "      <td>27185.0</td>\n",
              "      <td>1416.0</td>\n",
              "      <td>40797.0</td>\n",
              "      <td>114415.0</td>\n",
              "      <td>NaN</td>\n",
              "      <td>...</td>\n",
              "      <td>NaN</td>\n",
              "      <td>NaN</td>\n",
              "      <td>NaN</td>\n",
              "      <td>NaN</td>\n",
              "      <td>NaN</td>\n",
              "      <td>NaN</td>\n",
              "      <td>NaN</td>\n",
              "      <td>NaN</td>\n",
              "      <td>NaN</td>\n",
              "      <td>NaN</td>\n",
              "    </tr>\n",
              "  </tbody>\n",
              "</table>\n",
              "<p>45756 rows × 1097 columns</p>\n",
              "</div>\n",
              "      <button class=\"colab-df-convert\" onclick=\"convertToInteractive('df-5f0f7ff8-c90b-4790-bc24-567111893862')\"\n",
              "              title=\"Convert this dataframe to an interactive table.\"\n",
              "              style=\"display:none;\">\n",
              "\n",
              "  <svg xmlns=\"http://www.w3.org/2000/svg\" height=\"24px\"viewBox=\"0 0 24 24\"\n",
              "       width=\"24px\">\n",
              "    <path d=\"M0 0h24v24H0V0z\" fill=\"none\"/>\n",
              "    <path d=\"M18.56 5.44l.94 2.06.94-2.06 2.06-.94-2.06-.94-.94-2.06-.94 2.06-2.06.94zm-11 1L8.5 8.5l.94-2.06 2.06-.94-2.06-.94L8.5 2.5l-.94 2.06-2.06.94zm10 10l.94 2.06.94-2.06 2.06-.94-2.06-.94-.94-2.06-.94 2.06-2.06.94z\"/><path d=\"M17.41 7.96l-1.37-1.37c-.4-.4-.92-.59-1.43-.59-.52 0-1.04.2-1.43.59L10.3 9.45l-7.72 7.72c-.78.78-.78 2.05 0 2.83L4 21.41c.39.39.9.59 1.41.59.51 0 1.02-.2 1.41-.59l7.78-7.78 2.81-2.81c.8-.78.8-2.07 0-2.86zM5.41 20L4 18.59l7.72-7.72 1.47 1.35L5.41 20z\"/>\n",
              "  </svg>\n",
              "      </button>\n",
              "\n",
              "\n",
              "\n",
              "    <div id=\"df-8d6da364-adb8-4461-8706-355a5c8b2e79\">\n",
              "      <button class=\"colab-df-quickchart\" onclick=\"quickchart('df-8d6da364-adb8-4461-8706-355a5c8b2e79')\"\n",
              "              title=\"Suggest charts.\"\n",
              "              style=\"display:none;\">\n",
              "\n",
              "<svg xmlns=\"http://www.w3.org/2000/svg\" height=\"24px\"viewBox=\"0 0 24 24\"\n",
              "     width=\"24px\">\n",
              "    <g>\n",
              "        <path d=\"M19 3H5c-1.1 0-2 .9-2 2v14c0 1.1.9 2 2 2h14c1.1 0 2-.9 2-2V5c0-1.1-.9-2-2-2zM9 17H7v-7h2v7zm4 0h-2V7h2v10zm4 0h-2v-4h2v4z\"/>\n",
              "    </g>\n",
              "</svg>\n",
              "      </button>\n",
              "    </div>\n",
              "\n",
              "<style>\n",
              "  .colab-df-quickchart {\n",
              "    background-color: #E8F0FE;\n",
              "    border: none;\n",
              "    border-radius: 50%;\n",
              "    cursor: pointer;\n",
              "    display: none;\n",
              "    fill: #1967D2;\n",
              "    height: 32px;\n",
              "    padding: 0 0 0 0;\n",
              "    width: 32px;\n",
              "  }\n",
              "\n",
              "  .colab-df-quickchart:hover {\n",
              "    background-color: #E2EBFA;\n",
              "    box-shadow: 0px 1px 2px rgba(60, 64, 67, 0.3), 0px 1px 3px 1px rgba(60, 64, 67, 0.15);\n",
              "    fill: #174EA6;\n",
              "  }\n",
              "\n",
              "  [theme=dark] .colab-df-quickchart {\n",
              "    background-color: #3B4455;\n",
              "    fill: #D2E3FC;\n",
              "  }\n",
              "\n",
              "  [theme=dark] .colab-df-quickchart:hover {\n",
              "    background-color: #434B5C;\n",
              "    box-shadow: 0px 1px 3px 1px rgba(0, 0, 0, 0.15);\n",
              "    filter: drop-shadow(0px 1px 2px rgba(0, 0, 0, 0.3));\n",
              "    fill: #FFFFFF;\n",
              "  }\n",
              "</style>\n",
              "\n",
              "    <script>\n",
              "      async function quickchart(key) {\n",
              "        const containerElement = document.querySelector('#' + key);\n",
              "        const charts = await google.colab.kernel.invokeFunction(\n",
              "            'suggestCharts', [key], {});\n",
              "      }\n",
              "    </script>\n",
              "\n",
              "      <script>\n",
              "\n",
              "function displayQuickchartButton(domScope) {\n",
              "  let quickchartButtonEl =\n",
              "    domScope.querySelector('#df-8d6da364-adb8-4461-8706-355a5c8b2e79 button.colab-df-quickchart');\n",
              "  quickchartButtonEl.style.display =\n",
              "    google.colab.kernel.accessAllowed ? 'block' : 'none';\n",
              "}\n",
              "\n",
              "        displayQuickchartButton(document);\n",
              "      </script>\n",
              "      <style>\n",
              "    .colab-df-container {\n",
              "      display:flex;\n",
              "      flex-wrap:wrap;\n",
              "      gap: 12px;\n",
              "    }\n",
              "\n",
              "    .colab-df-convert {\n",
              "      background-color: #E8F0FE;\n",
              "      border: none;\n",
              "      border-radius: 50%;\n",
              "      cursor: pointer;\n",
              "      display: none;\n",
              "      fill: #1967D2;\n",
              "      height: 32px;\n",
              "      padding: 0 0 0 0;\n",
              "      width: 32px;\n",
              "    }\n",
              "\n",
              "    .colab-df-convert:hover {\n",
              "      background-color: #E2EBFA;\n",
              "      box-shadow: 0px 1px 2px rgba(60, 64, 67, 0.3), 0px 1px 3px 1px rgba(60, 64, 67, 0.15);\n",
              "      fill: #174EA6;\n",
              "    }\n",
              "\n",
              "    [theme=dark] .colab-df-convert {\n",
              "      background-color: #3B4455;\n",
              "      fill: #D2E3FC;\n",
              "    }\n",
              "\n",
              "    [theme=dark] .colab-df-convert:hover {\n",
              "      background-color: #434B5C;\n",
              "      box-shadow: 0px 1px 3px 1px rgba(0, 0, 0, 0.15);\n",
              "      filter: drop-shadow(0px 1px 2px rgba(0, 0, 0, 0.3));\n",
              "      fill: #FFFFFF;\n",
              "    }\n",
              "  </style>\n",
              "\n",
              "      <script>\n",
              "        const buttonEl =\n",
              "          document.querySelector('#df-5f0f7ff8-c90b-4790-bc24-567111893862 button.colab-df-convert');\n",
              "        buttonEl.style.display =\n",
              "          google.colab.kernel.accessAllowed ? 'block' : 'none';\n",
              "\n",
              "        async function convertToInteractive(key) {\n",
              "          const element = document.querySelector('#df-5f0f7ff8-c90b-4790-bc24-567111893862');\n",
              "          const dataTable =\n",
              "            await google.colab.kernel.invokeFunction('convertToInteractive',\n",
              "                                                     [key], {});\n",
              "          if (!dataTable) return;\n",
              "\n",
              "          const docLinkHtml = 'Like what you see? Visit the ' +\n",
              "            '<a target=\"_blank\" href=https://colab.research.google.com/notebooks/data_table.ipynb>data table notebook</a>'\n",
              "            + ' to learn more about interactive tables.';\n",
              "          element.innerHTML = '';\n",
              "          dataTable['output_type'] = 'display_data';\n",
              "          await google.colab.output.renderOutput(dataTable, element);\n",
              "          const docLink = document.createElement('div');\n",
              "          docLink.innerHTML = docLinkHtml;\n",
              "          element.appendChild(docLink);\n",
              "        }\n",
              "      </script>\n",
              "    </div>\n",
              "  </div>\n"
            ]
          },
          "metadata": {},
          "execution_count": 5
        }
      ]
    },
    {
      "cell_type": "code",
      "source": [
        "len(G.nodes())"
      ],
      "metadata": {
        "colab": {
          "base_uri": "https://localhost:8080/"
        },
        "id": "Nf87RVwuUiLS",
        "outputId": "19f5ca88-fee8-4f71-c849-4a399fa13916"
      },
      "execution_count": null,
      "outputs": [
        {
          "output_type": "execute_result",
          "data": {
            "text/plain": [
              "45756"
            ]
          },
          "metadata": {},
          "execution_count": 6
        }
      ]
    },
    {
      "cell_type": "code",
      "source": [
        "# Save the DataFrame to a CSV file\n",
        "output_path = '/content/drive/MyDrive/followings.csv'\n",
        "adjacency_df.to_csv(output_path)\n",
        "\n",
        "print(f\"Adjacency DataFrame saved to: {output_path}\")"
      ],
      "metadata": {
        "colab": {
          "base_uri": "https://localhost:8080/"
        },
        "id": "sPMHk803Ups0",
        "outputId": "c22b7372-79f8-4e3c-fa86-d11d4aa00795"
      },
      "execution_count": null,
      "outputs": [
        {
          "output_type": "stream",
          "name": "stdout",
          "text": [
            "Adjacency DataFrame saved to: /content/drive/MyDrive/followers.csv\n"
          ]
        }
      ]
    },
    {
      "cell_type": "markdown",
      "source": [
        "## finding followers"
      ],
      "metadata": {
        "id": "rs0RzcBrVq4K"
      }
    },
    {
      "cell_type": "markdown",
      "source": [
        "# safe 3"
      ],
      "metadata": {
        "id": "6Bq2JB13e4yA"
      }
    },
    {
      "cell_type": "code",
      "source": [
        "import pandas as pd\n",
        "import networkx as nx\n",
        "\n",
        "# Replace the path with the correct one if needed\n",
        "file_path = '/content/drive/MyDrive/Subgraph.csv'\n",
        "\n",
        "# Read the file into a DataFrame\n",
        "DF = pd.read_csv(file_path)\n",
        "\n",
        "# Create a directed graph from the edge list\n",
        "G = nx.from_pandas_edgelist(DF, source='ID2', target='ID1', create_using=nx.DiGraph())\n",
        "\n"
      ],
      "metadata": {
        "id": "kWt8Yu_8VMiu",
        "colab": {
          "base_uri": "https://localhost:8080/"
        },
        "outputId": "2de571d4-8ffb-47f4-8c65-04529f478a0c"
      },
      "execution_count": null,
      "outputs": [
        {
          "output_type": "stream",
          "name": "stderr",
          "text": [
            "/usr/local/lib/python3.10/dist-packages/ipykernel/ipkernel.py:283: DeprecationWarning: `should_run_async` will not call `transform_cell` automatically in the future. Please pass the result to `transformed_cell` argument and any exception that happen during thetransform in `preprocessing_exc_tuple` in IPython 7.17 and above.\n",
            "  and should_run_async(code)\n"
          ]
        }
      ]
    },
    {
      "cell_type": "markdown",
      "source": [
        "# safe 4"
      ],
      "metadata": {
        "id": "xjhG8I9de6lR"
      }
    },
    {
      "cell_type": "code",
      "source": [
        "# Get the adjacency list representation\n",
        "adjacency_list = G.adjacency()\n",
        "\n",
        "# Convert the adjacency list to a dictionary of lists\n",
        "adjacency_dict = {node: [neighbor for neighbor in neighbors] for node, neighbors in adjacency_list}\n",
        "followers_dict=adjacency_dict\n",
        "print(adjacency_dict)\n"
      ],
      "metadata": {
        "colab": {
          "base_uri": "https://localhost:8080/"
        },
        "id": "VrncHEOvV2A3",
        "outputId": "46648570-020c-4cdf-b02e-7c6613d2f649"
      },
      "execution_count": null,
      "outputs": [
        {
          "output_type": "stream",
          "name": "stderr",
          "text": [
            "/usr/local/lib/python3.10/dist-packages/ipykernel/ipkernel.py:283: DeprecationWarning: `should_run_async` will not call `transform_cell` automatically in the future. Please pass the result to `transformed_cell` argument and any exception that happen during thetransform in `preprocessing_exc_tuple` in IPython 7.17 and above.\n",
            "  and should_run_async(code)\n",
            "IOPub data rate exceeded.\n",
            "The notebook server will temporarily stop sending output\n",
            "to the client in order to avoid crashing it.\n",
            "To change this limit, set the config variable\n",
            "`--NotebookApp.iopub_data_rate_limit`.\n",
            "\n",
            "Current values:\n",
            "NotebookApp.iopub_data_rate_limit=1000000.0 (bytes/sec)\n",
            "NotebookApp.rate_limit_window=3.0 (secs)\n",
            "\n"
          ]
        }
      ]
    },
    {
      "cell_type": "code",
      "source": [
        "adjacency_dict"
      ],
      "metadata": {
        "id": "awwW5QTkb6nK"
      },
      "execution_count": null,
      "outputs": []
    },
    {
      "cell_type": "markdown",
      "source": [
        "# dont run"
      ],
      "metadata": {
        "id": "EvFUT97ffAIL"
      }
    },
    {
      "cell_type": "code",
      "source": [
        "# Convert the dictionary to a DataFrame\n",
        "adjacency_df = pd.DataFrame.from_dict(adjacency_dict, orient='index')\n",
        "adjacency_df\n"
      ],
      "metadata": {
        "colab": {
          "base_uri": "https://localhost:8080/",
          "height": 487
        },
        "id": "_KBq6yZBV5Cq",
        "outputId": "6b701963-00da-41a4-a1b1-d05b26ffe569"
      },
      "execution_count": null,
      "outputs": [
        {
          "output_type": "execute_result",
          "data": {
            "text/plain": [
              "          0         1     2     3     4      5      6      7      8      9     \\\n",
              "2            1       4.0   5.0   6.0  10.0   14.0   18.0   20.0   25.0   26.0   \n",
              "1            9      14.0  17.0  18.0  19.0   46.0   50.0   68.0   92.0  167.0   \n",
              "3            1      10.0  34.0  48.0  62.0  133.0  134.0  136.0  140.0  141.0   \n",
              "4            1       6.0  10.0  12.0  18.0   21.0   27.0   32.0   34.0   30.0   \n",
              "5            1       2.0   4.0   7.0   8.0   12.0   14.0   25.0   26.0   27.0   \n",
              "...        ...       ...   ...   ...   ...    ...    ...    ...    ...    ...   \n",
              "261213  113187  119656.0   NaN   NaN   NaN    NaN    NaN    NaN    NaN    NaN   \n",
              "115882  113826       NaN   NaN   NaN   NaN    NaN    NaN    NaN    NaN    NaN   \n",
              "142681  119377       NaN   NaN   NaN   NaN    NaN    NaN    NaN    NaN    NaN   \n",
              "255708  119380       NaN   NaN   NaN   NaN    NaN    NaN    NaN    NaN    NaN   \n",
              "385899  253623       NaN   NaN   NaN   NaN    NaN    NaN    NaN    NaN    NaN   \n",
              "\n",
              "        ...  8628  8629  8630  8631  8632  8633  8634  8635  8636  8637  \n",
              "2       ...   NaN   NaN   NaN   NaN   NaN   NaN   NaN   NaN   NaN   NaN  \n",
              "1       ...   NaN   NaN   NaN   NaN   NaN   NaN   NaN   NaN   NaN   NaN  \n",
              "3       ...   NaN   NaN   NaN   NaN   NaN   NaN   NaN   NaN   NaN   NaN  \n",
              "4       ...   NaN   NaN   NaN   NaN   NaN   NaN   NaN   NaN   NaN   NaN  \n",
              "5       ...   NaN   NaN   NaN   NaN   NaN   NaN   NaN   NaN   NaN   NaN  \n",
              "...     ...   ...   ...   ...   ...   ...   ...   ...   ...   ...   ...  \n",
              "261213  ...   NaN   NaN   NaN   NaN   NaN   NaN   NaN   NaN   NaN   NaN  \n",
              "115882  ...   NaN   NaN   NaN   NaN   NaN   NaN   NaN   NaN   NaN   NaN  \n",
              "142681  ...   NaN   NaN   NaN   NaN   NaN   NaN   NaN   NaN   NaN   NaN  \n",
              "255708  ...   NaN   NaN   NaN   NaN   NaN   NaN   NaN   NaN   NaN   NaN  \n",
              "385899  ...   NaN   NaN   NaN   NaN   NaN   NaN   NaN   NaN   NaN   NaN  \n",
              "\n",
              "[45756 rows x 8638 columns]"
            ],
            "text/html": [
              "\n",
              "\n",
              "  <div id=\"df-94e9dbe3-aa7e-465b-99b1-8fec623b877f\">\n",
              "    <div class=\"colab-df-container\">\n",
              "      <div>\n",
              "<style scoped>\n",
              "    .dataframe tbody tr th:only-of-type {\n",
              "        vertical-align: middle;\n",
              "    }\n",
              "\n",
              "    .dataframe tbody tr th {\n",
              "        vertical-align: top;\n",
              "    }\n",
              "\n",
              "    .dataframe thead th {\n",
              "        text-align: right;\n",
              "    }\n",
              "</style>\n",
              "<table border=\"1\" class=\"dataframe\">\n",
              "  <thead>\n",
              "    <tr style=\"text-align: right;\">\n",
              "      <th></th>\n",
              "      <th>0</th>\n",
              "      <th>1</th>\n",
              "      <th>2</th>\n",
              "      <th>3</th>\n",
              "      <th>4</th>\n",
              "      <th>5</th>\n",
              "      <th>6</th>\n",
              "      <th>7</th>\n",
              "      <th>8</th>\n",
              "      <th>9</th>\n",
              "      <th>...</th>\n",
              "      <th>8628</th>\n",
              "      <th>8629</th>\n",
              "      <th>8630</th>\n",
              "      <th>8631</th>\n",
              "      <th>8632</th>\n",
              "      <th>8633</th>\n",
              "      <th>8634</th>\n",
              "      <th>8635</th>\n",
              "      <th>8636</th>\n",
              "      <th>8637</th>\n",
              "    </tr>\n",
              "  </thead>\n",
              "  <tbody>\n",
              "    <tr>\n",
              "      <th>2</th>\n",
              "      <td>1</td>\n",
              "      <td>4.0</td>\n",
              "      <td>5.0</td>\n",
              "      <td>6.0</td>\n",
              "      <td>10.0</td>\n",
              "      <td>14.0</td>\n",
              "      <td>18.0</td>\n",
              "      <td>20.0</td>\n",
              "      <td>25.0</td>\n",
              "      <td>26.0</td>\n",
              "      <td>...</td>\n",
              "      <td>NaN</td>\n",
              "      <td>NaN</td>\n",
              "      <td>NaN</td>\n",
              "      <td>NaN</td>\n",
              "      <td>NaN</td>\n",
              "      <td>NaN</td>\n",
              "      <td>NaN</td>\n",
              "      <td>NaN</td>\n",
              "      <td>NaN</td>\n",
              "      <td>NaN</td>\n",
              "    </tr>\n",
              "    <tr>\n",
              "      <th>1</th>\n",
              "      <td>9</td>\n",
              "      <td>14.0</td>\n",
              "      <td>17.0</td>\n",
              "      <td>18.0</td>\n",
              "      <td>19.0</td>\n",
              "      <td>46.0</td>\n",
              "      <td>50.0</td>\n",
              "      <td>68.0</td>\n",
              "      <td>92.0</td>\n",
              "      <td>167.0</td>\n",
              "      <td>...</td>\n",
              "      <td>NaN</td>\n",
              "      <td>NaN</td>\n",
              "      <td>NaN</td>\n",
              "      <td>NaN</td>\n",
              "      <td>NaN</td>\n",
              "      <td>NaN</td>\n",
              "      <td>NaN</td>\n",
              "      <td>NaN</td>\n",
              "      <td>NaN</td>\n",
              "      <td>NaN</td>\n",
              "    </tr>\n",
              "    <tr>\n",
              "      <th>3</th>\n",
              "      <td>1</td>\n",
              "      <td>10.0</td>\n",
              "      <td>34.0</td>\n",
              "      <td>48.0</td>\n",
              "      <td>62.0</td>\n",
              "      <td>133.0</td>\n",
              "      <td>134.0</td>\n",
              "      <td>136.0</td>\n",
              "      <td>140.0</td>\n",
              "      <td>141.0</td>\n",
              "      <td>...</td>\n",
              "      <td>NaN</td>\n",
              "      <td>NaN</td>\n",
              "      <td>NaN</td>\n",
              "      <td>NaN</td>\n",
              "      <td>NaN</td>\n",
              "      <td>NaN</td>\n",
              "      <td>NaN</td>\n",
              "      <td>NaN</td>\n",
              "      <td>NaN</td>\n",
              "      <td>NaN</td>\n",
              "    </tr>\n",
              "    <tr>\n",
              "      <th>4</th>\n",
              "      <td>1</td>\n",
              "      <td>6.0</td>\n",
              "      <td>10.0</td>\n",
              "      <td>12.0</td>\n",
              "      <td>18.0</td>\n",
              "      <td>21.0</td>\n",
              "      <td>27.0</td>\n",
              "      <td>32.0</td>\n",
              "      <td>34.0</td>\n",
              "      <td>30.0</td>\n",
              "      <td>...</td>\n",
              "      <td>NaN</td>\n",
              "      <td>NaN</td>\n",
              "      <td>NaN</td>\n",
              "      <td>NaN</td>\n",
              "      <td>NaN</td>\n",
              "      <td>NaN</td>\n",
              "      <td>NaN</td>\n",
              "      <td>NaN</td>\n",
              "      <td>NaN</td>\n",
              "      <td>NaN</td>\n",
              "    </tr>\n",
              "    <tr>\n",
              "      <th>5</th>\n",
              "      <td>1</td>\n",
              "      <td>2.0</td>\n",
              "      <td>4.0</td>\n",
              "      <td>7.0</td>\n",
              "      <td>8.0</td>\n",
              "      <td>12.0</td>\n",
              "      <td>14.0</td>\n",
              "      <td>25.0</td>\n",
              "      <td>26.0</td>\n",
              "      <td>27.0</td>\n",
              "      <td>...</td>\n",
              "      <td>NaN</td>\n",
              "      <td>NaN</td>\n",
              "      <td>NaN</td>\n",
              "      <td>NaN</td>\n",
              "      <td>NaN</td>\n",
              "      <td>NaN</td>\n",
              "      <td>NaN</td>\n",
              "      <td>NaN</td>\n",
              "      <td>NaN</td>\n",
              "      <td>NaN</td>\n",
              "    </tr>\n",
              "    <tr>\n",
              "      <th>...</th>\n",
              "      <td>...</td>\n",
              "      <td>...</td>\n",
              "      <td>...</td>\n",
              "      <td>...</td>\n",
              "      <td>...</td>\n",
              "      <td>...</td>\n",
              "      <td>...</td>\n",
              "      <td>...</td>\n",
              "      <td>...</td>\n",
              "      <td>...</td>\n",
              "      <td>...</td>\n",
              "      <td>...</td>\n",
              "      <td>...</td>\n",
              "      <td>...</td>\n",
              "      <td>...</td>\n",
              "      <td>...</td>\n",
              "      <td>...</td>\n",
              "      <td>...</td>\n",
              "      <td>...</td>\n",
              "      <td>...</td>\n",
              "      <td>...</td>\n",
              "    </tr>\n",
              "    <tr>\n",
              "      <th>261213</th>\n",
              "      <td>113187</td>\n",
              "      <td>119656.0</td>\n",
              "      <td>NaN</td>\n",
              "      <td>NaN</td>\n",
              "      <td>NaN</td>\n",
              "      <td>NaN</td>\n",
              "      <td>NaN</td>\n",
              "      <td>NaN</td>\n",
              "      <td>NaN</td>\n",
              "      <td>NaN</td>\n",
              "      <td>...</td>\n",
              "      <td>NaN</td>\n",
              "      <td>NaN</td>\n",
              "      <td>NaN</td>\n",
              "      <td>NaN</td>\n",
              "      <td>NaN</td>\n",
              "      <td>NaN</td>\n",
              "      <td>NaN</td>\n",
              "      <td>NaN</td>\n",
              "      <td>NaN</td>\n",
              "      <td>NaN</td>\n",
              "    </tr>\n",
              "    <tr>\n",
              "      <th>115882</th>\n",
              "      <td>113826</td>\n",
              "      <td>NaN</td>\n",
              "      <td>NaN</td>\n",
              "      <td>NaN</td>\n",
              "      <td>NaN</td>\n",
              "      <td>NaN</td>\n",
              "      <td>NaN</td>\n",
              "      <td>NaN</td>\n",
              "      <td>NaN</td>\n",
              "      <td>NaN</td>\n",
              "      <td>...</td>\n",
              "      <td>NaN</td>\n",
              "      <td>NaN</td>\n",
              "      <td>NaN</td>\n",
              "      <td>NaN</td>\n",
              "      <td>NaN</td>\n",
              "      <td>NaN</td>\n",
              "      <td>NaN</td>\n",
              "      <td>NaN</td>\n",
              "      <td>NaN</td>\n",
              "      <td>NaN</td>\n",
              "    </tr>\n",
              "    <tr>\n",
              "      <th>142681</th>\n",
              "      <td>119377</td>\n",
              "      <td>NaN</td>\n",
              "      <td>NaN</td>\n",
              "      <td>NaN</td>\n",
              "      <td>NaN</td>\n",
              "      <td>NaN</td>\n",
              "      <td>NaN</td>\n",
              "      <td>NaN</td>\n",
              "      <td>NaN</td>\n",
              "      <td>NaN</td>\n",
              "      <td>...</td>\n",
              "      <td>NaN</td>\n",
              "      <td>NaN</td>\n",
              "      <td>NaN</td>\n",
              "      <td>NaN</td>\n",
              "      <td>NaN</td>\n",
              "      <td>NaN</td>\n",
              "      <td>NaN</td>\n",
              "      <td>NaN</td>\n",
              "      <td>NaN</td>\n",
              "      <td>NaN</td>\n",
              "    </tr>\n",
              "    <tr>\n",
              "      <th>255708</th>\n",
              "      <td>119380</td>\n",
              "      <td>NaN</td>\n",
              "      <td>NaN</td>\n",
              "      <td>NaN</td>\n",
              "      <td>NaN</td>\n",
              "      <td>NaN</td>\n",
              "      <td>NaN</td>\n",
              "      <td>NaN</td>\n",
              "      <td>NaN</td>\n",
              "      <td>NaN</td>\n",
              "      <td>...</td>\n",
              "      <td>NaN</td>\n",
              "      <td>NaN</td>\n",
              "      <td>NaN</td>\n",
              "      <td>NaN</td>\n",
              "      <td>NaN</td>\n",
              "      <td>NaN</td>\n",
              "      <td>NaN</td>\n",
              "      <td>NaN</td>\n",
              "      <td>NaN</td>\n",
              "      <td>NaN</td>\n",
              "    </tr>\n",
              "    <tr>\n",
              "      <th>385899</th>\n",
              "      <td>253623</td>\n",
              "      <td>NaN</td>\n",
              "      <td>NaN</td>\n",
              "      <td>NaN</td>\n",
              "      <td>NaN</td>\n",
              "      <td>NaN</td>\n",
              "      <td>NaN</td>\n",
              "      <td>NaN</td>\n",
              "      <td>NaN</td>\n",
              "      <td>NaN</td>\n",
              "      <td>...</td>\n",
              "      <td>NaN</td>\n",
              "      <td>NaN</td>\n",
              "      <td>NaN</td>\n",
              "      <td>NaN</td>\n",
              "      <td>NaN</td>\n",
              "      <td>NaN</td>\n",
              "      <td>NaN</td>\n",
              "      <td>NaN</td>\n",
              "      <td>NaN</td>\n",
              "      <td>NaN</td>\n",
              "    </tr>\n",
              "  </tbody>\n",
              "</table>\n",
              "<p>45756 rows × 8638 columns</p>\n",
              "</div>\n",
              "      <button class=\"colab-df-convert\" onclick=\"convertToInteractive('df-94e9dbe3-aa7e-465b-99b1-8fec623b877f')\"\n",
              "              title=\"Convert this dataframe to an interactive table.\"\n",
              "              style=\"display:none;\">\n",
              "\n",
              "  <svg xmlns=\"http://www.w3.org/2000/svg\" height=\"24px\"viewBox=\"0 0 24 24\"\n",
              "       width=\"24px\">\n",
              "    <path d=\"M0 0h24v24H0V0z\" fill=\"none\"/>\n",
              "    <path d=\"M18.56 5.44l.94 2.06.94-2.06 2.06-.94-2.06-.94-.94-2.06-.94 2.06-2.06.94zm-11 1L8.5 8.5l.94-2.06 2.06-.94-2.06-.94L8.5 2.5l-.94 2.06-2.06.94zm10 10l.94 2.06.94-2.06 2.06-.94-2.06-.94-.94-2.06-.94 2.06-2.06.94z\"/><path d=\"M17.41 7.96l-1.37-1.37c-.4-.4-.92-.59-1.43-.59-.52 0-1.04.2-1.43.59L10.3 9.45l-7.72 7.72c-.78.78-.78 2.05 0 2.83L4 21.41c.39.39.9.59 1.41.59.51 0 1.02-.2 1.41-.59l7.78-7.78 2.81-2.81c.8-.78.8-2.07 0-2.86zM5.41 20L4 18.59l7.72-7.72 1.47 1.35L5.41 20z\"/>\n",
              "  </svg>\n",
              "      </button>\n",
              "\n",
              "\n",
              "\n",
              "    <div id=\"df-443c320a-b2c1-4d33-9572-c324257283c6\">\n",
              "      <button class=\"colab-df-quickchart\" onclick=\"quickchart('df-443c320a-b2c1-4d33-9572-c324257283c6')\"\n",
              "              title=\"Suggest charts.\"\n",
              "              style=\"display:none;\">\n",
              "\n",
              "<svg xmlns=\"http://www.w3.org/2000/svg\" height=\"24px\"viewBox=\"0 0 24 24\"\n",
              "     width=\"24px\">\n",
              "    <g>\n",
              "        <path d=\"M19 3H5c-1.1 0-2 .9-2 2v14c0 1.1.9 2 2 2h14c1.1 0 2-.9 2-2V5c0-1.1-.9-2-2-2zM9 17H7v-7h2v7zm4 0h-2V7h2v10zm4 0h-2v-4h2v4z\"/>\n",
              "    </g>\n",
              "</svg>\n",
              "      </button>\n",
              "    </div>\n",
              "\n",
              "<style>\n",
              "  .colab-df-quickchart {\n",
              "    background-color: #E8F0FE;\n",
              "    border: none;\n",
              "    border-radius: 50%;\n",
              "    cursor: pointer;\n",
              "    display: none;\n",
              "    fill: #1967D2;\n",
              "    height: 32px;\n",
              "    padding: 0 0 0 0;\n",
              "    width: 32px;\n",
              "  }\n",
              "\n",
              "  .colab-df-quickchart:hover {\n",
              "    background-color: #E2EBFA;\n",
              "    box-shadow: 0px 1px 2px rgba(60, 64, 67, 0.3), 0px 1px 3px 1px rgba(60, 64, 67, 0.15);\n",
              "    fill: #174EA6;\n",
              "  }\n",
              "\n",
              "  [theme=dark] .colab-df-quickchart {\n",
              "    background-color: #3B4455;\n",
              "    fill: #D2E3FC;\n",
              "  }\n",
              "\n",
              "  [theme=dark] .colab-df-quickchart:hover {\n",
              "    background-color: #434B5C;\n",
              "    box-shadow: 0px 1px 3px 1px rgba(0, 0, 0, 0.15);\n",
              "    filter: drop-shadow(0px 1px 2px rgba(0, 0, 0, 0.3));\n",
              "    fill: #FFFFFF;\n",
              "  }\n",
              "</style>\n",
              "\n",
              "    <script>\n",
              "      async function quickchart(key) {\n",
              "        const containerElement = document.querySelector('#' + key);\n",
              "        const charts = await google.colab.kernel.invokeFunction(\n",
              "            'suggestCharts', [key], {});\n",
              "      }\n",
              "    </script>\n",
              "\n",
              "      <script>\n",
              "\n",
              "function displayQuickchartButton(domScope) {\n",
              "  let quickchartButtonEl =\n",
              "    domScope.querySelector('#df-443c320a-b2c1-4d33-9572-c324257283c6 button.colab-df-quickchart');\n",
              "  quickchartButtonEl.style.display =\n",
              "    google.colab.kernel.accessAllowed ? 'block' : 'none';\n",
              "}\n",
              "\n",
              "        displayQuickchartButton(document);\n",
              "      </script>\n",
              "      <style>\n",
              "    .colab-df-container {\n",
              "      display:flex;\n",
              "      flex-wrap:wrap;\n",
              "      gap: 12px;\n",
              "    }\n",
              "\n",
              "    .colab-df-convert {\n",
              "      background-color: #E8F0FE;\n",
              "      border: none;\n",
              "      border-radius: 50%;\n",
              "      cursor: pointer;\n",
              "      display: none;\n",
              "      fill: #1967D2;\n",
              "      height: 32px;\n",
              "      padding: 0 0 0 0;\n",
              "      width: 32px;\n",
              "    }\n",
              "\n",
              "    .colab-df-convert:hover {\n",
              "      background-color: #E2EBFA;\n",
              "      box-shadow: 0px 1px 2px rgba(60, 64, 67, 0.3), 0px 1px 3px 1px rgba(60, 64, 67, 0.15);\n",
              "      fill: #174EA6;\n",
              "    }\n",
              "\n",
              "    [theme=dark] .colab-df-convert {\n",
              "      background-color: #3B4455;\n",
              "      fill: #D2E3FC;\n",
              "    }\n",
              "\n",
              "    [theme=dark] .colab-df-convert:hover {\n",
              "      background-color: #434B5C;\n",
              "      box-shadow: 0px 1px 3px 1px rgba(0, 0, 0, 0.15);\n",
              "      filter: drop-shadow(0px 1px 2px rgba(0, 0, 0, 0.3));\n",
              "      fill: #FFFFFF;\n",
              "    }\n",
              "  </style>\n",
              "\n",
              "      <script>\n",
              "        const buttonEl =\n",
              "          document.querySelector('#df-94e9dbe3-aa7e-465b-99b1-8fec623b877f button.colab-df-convert');\n",
              "        buttonEl.style.display =\n",
              "          google.colab.kernel.accessAllowed ? 'block' : 'none';\n",
              "\n",
              "        async function convertToInteractive(key) {\n",
              "          const element = document.querySelector('#df-94e9dbe3-aa7e-465b-99b1-8fec623b877f');\n",
              "          const dataTable =\n",
              "            await google.colab.kernel.invokeFunction('convertToInteractive',\n",
              "                                                     [key], {});\n",
              "          if (!dataTable) return;\n",
              "\n",
              "          const docLinkHtml = 'Like what you see? Visit the ' +\n",
              "            '<a target=\"_blank\" href=https://colab.research.google.com/notebooks/data_table.ipynb>data table notebook</a>'\n",
              "            + ' to learn more about interactive tables.';\n",
              "          element.innerHTML = '';\n",
              "          dataTable['output_type'] = 'display_data';\n",
              "          await google.colab.output.renderOutput(dataTable, element);\n",
              "          const docLink = document.createElement('div');\n",
              "          docLink.innerHTML = docLinkHtml;\n",
              "          element.appendChild(docLink);\n",
              "        }\n",
              "      </script>\n",
              "    </div>\n",
              "  </div>\n"
            ]
          },
          "metadata": {},
          "execution_count": 11
        }
      ]
    },
    {
      "cell_type": "code",
      "source": [
        "# Save the DataFrame to a CSV file\n",
        "output_path = '/content/drive/MyDrive/followers.csv'\n",
        "adjacency_df.to_csv(output_path)\n",
        "\n",
        "print(f\"Adjacency DataFrame saved to: {output_path}\")"
      ],
      "metadata": {
        "colab": {
          "base_uri": "https://localhost:8080/"
        },
        "id": "Zg575BktV7WZ",
        "outputId": "b317ade9-28ab-41f6-a15a-86ad6880d7fb"
      },
      "execution_count": null,
      "outputs": [
        {
          "output_type": "stream",
          "name": "stdout",
          "text": [
            "Adjacency DataFrame saved to: /content/drive/MyDrive/followings.csv\n"
          ]
        }
      ]
    },
    {
      "cell_type": "markdown",
      "source": [
        "# dont run it\n"
      ],
      "metadata": {
        "id": "U-Y5OSs2nSnG"
      }
    },
    {
      "cell_type": "code",
      "source": [
        "followers_path='/content/drive/MyDrive/followers.csv'\n",
        "followings_path='/content/drive/MyDrive/followings.csv'\n",
        "followers=pd.read_csv(followers_path)\n",
        "followings=pd.read_csv(followings_path)"
      ],
      "metadata": {
        "id": "b6sVx-DflkMc"
      },
      "execution_count": null,
      "outputs": []
    },
    {
      "cell_type": "markdown",
      "source": [
        "#done"
      ],
      "metadata": {
        "id": "RzwzEt7jWBWx"
      }
    },
    {
      "cell_type": "markdown",
      "source": [
        "# not correct"
      ],
      "metadata": {
        "id": "cxko5_83eh3Y"
      }
    },
    {
      "cell_type": "code",
      "source": [
        "import pandas as pd\n",
        "\n",
        "# Assuming you have a DataFrame called `followers` with user IDs as index and follower IDs as columns\n",
        "\n",
        "def S2(ID1, ID2, followers):\n",
        "    if ID1 not in followers.index or ID2 not in followers.index:\n",
        "        return \"One or both users not found in the followers DataFrame.\"\n",
        "\n",
        "    # Get the set of followers for both users\n",
        "    followers_ID1 = set(followers.loc[ID1].dropna().index)\n",
        "    followers_ID2 = set(followers.loc[ID2].dropna().index)\n",
        "\n",
        "    # Find the common followers\n",
        "    common_followers = followers_ID1.intersection(followers_ID2)\n",
        "\n",
        "    # Calculate the number of common followers and divide by 1097\n",
        "    common_followers_count = len(common_followers)\n",
        "    result = common_followers_count / 1097\n",
        "\n",
        "    return result\n",
        "\n",
        "# Example usage:\n",
        "# Assuming you have a DataFrame named `followers` with user IDs as index and follower IDs as columns\n",
        "# For example:\n",
        "# followers = pd.DataFrame({\n",
        "#     'user1': [100, 101, 102, 103],\n",
        "#     'user2': [100, 102, 104],\n",
        "#     'user3': [101, 103, 105]\n",
        "# }, index=['follower1', 'follower2', 'follower3', 'follower4'])\n",
        "\n",
        "# ID1 and ID2 are the user IDs for which you want to find the common followers\n",
        "ID1 = 1\n",
        "ID2 = 2\n",
        "result = S2(ID1, ID2, adjacency_df)\n",
        "print(result)\n"
      ],
      "metadata": {
        "colab": {
          "base_uri": "https://localhost:8080/"
        },
        "id": "C7Pe28stV_8-",
        "outputId": "9f5ac7a6-924a-4f60-c56c-ddc97e04b0ad"
      },
      "execution_count": null,
      "outputs": [
        {
          "output_type": "stream",
          "name": "stdout",
          "text": [
            "0.3637192342752963\n"
          ]
        }
      ]
    },
    {
      "cell_type": "markdown",
      "source": [
        "# using dict"
      ],
      "metadata": {
        "id": "kl1WhCO_fCYy"
      }
    },
    {
      "cell_type": "markdown",
      "source": [
        "# run"
      ],
      "metadata": {
        "id": "R_U6iVDTfHHP"
      }
    },
    {
      "cell_type": "code",
      "source": [
        "def S3(ID1, ID2, followers): #normalized to max len of whole table\n",
        "    # Get the lists of followers for the given user IDs\n",
        "    followers_list_1 = followers.get(ID1, [])\n",
        "    followers_list_2 = followers.get(ID2, [])\n",
        "\n",
        "    # Find the common followers using set intersection\n",
        "    common_followers = set(followers_list_1).intersection(followers_list_2)\n",
        "\n",
        "    # Calculate the ratio of common followers to 8638\n",
        "    ratio = len(common_followers) / 8638\n",
        "\n",
        "    return ratio\n"
      ],
      "metadata": {
        "id": "IISIvS7sfD7c",
        "colab": {
          "base_uri": "https://localhost:8080/"
        },
        "outputId": "43292b2b-300f-4ab6-eb91-271976a175e2"
      },
      "execution_count": null,
      "outputs": [
        {
          "output_type": "stream",
          "name": "stderr",
          "text": [
            "/usr/local/lib/python3.10/dist-packages/ipykernel/ipkernel.py:283: DeprecationWarning: `should_run_async` will not call `transform_cell` automatically in the future. Please pass the result to `transformed_cell` argument and any exception that happen during thetransform in `preprocessing_exc_tuple` in IPython 7.17 and above.\n",
            "  and should_run_async(code)\n"
          ]
        }
      ]
    },
    {
      "cell_type": "code",
      "source": [
        "def S2(ID1, ID2, followings): #normalized to max len of whole table\n",
        "    # Get the lists of followers for the given user IDs\n",
        "    followings_list_1 = followings.get(ID1, [])\n",
        "    followings_list_2 = followings.get(ID2, [])\n",
        "\n",
        "    # Find the common followings using set intersection\n",
        "    common_followings = set(followings_list_1).intersection(followings_list_2)\n",
        "\n",
        "    # Calculate the ratio of common followers to 1097\n",
        "    ratio = len(common_followings) / 1097\n",
        "\n",
        "    return ratio\n"
      ],
      "metadata": {
        "id": "M-lbePHDgRq-",
        "colab": {
          "base_uri": "https://localhost:8080/"
        },
        "outputId": "70bab257-73a6-43d5-c0a4-edafe985bb01"
      },
      "execution_count": null,
      "outputs": [
        {
          "output_type": "stream",
          "name": "stderr",
          "text": [
            "/usr/local/lib/python3.10/dist-packages/ipykernel/ipkernel.py:283: DeprecationWarning: `should_run_async` will not call `transform_cell` automatically in the future. Please pass the result to `transformed_cell` argument and any exception that happen during thetransform in `preprocessing_exc_tuple` in IPython 7.17 and above.\n",
            "  and should_run_async(code)\n"
          ]
        }
      ]
    },
    {
      "cell_type": "code",
      "source": [
        "def s3(ID1, ID2, followers): #normalized to max len of 2 ids\n",
        "    # Get the lists of followers for the given user IDs\n",
        "    followers_list_1 = followers.get(ID1, [])\n",
        "    followers_list_2 = followers.get(ID2, [])\n",
        "\n",
        "    # Find the common followers using set intersection\n",
        "    common_followers = set(followers_list_1).intersection(followers_list_2)\n",
        "    n=max(len(followers_list_1),len(followers_list_2))\n",
        "    # Calculate the ratio of common followers to n\n",
        "    ratio = len(common_followers) / n\n",
        "\n",
        "    return ratio\n"
      ],
      "metadata": {
        "id": "uXNKknojf_pe",
        "colab": {
          "base_uri": "https://localhost:8080/"
        },
        "outputId": "26187bfa-ff44-408d-97af-f390c92a053f"
      },
      "execution_count": null,
      "outputs": [
        {
          "output_type": "stream",
          "name": "stderr",
          "text": [
            "/usr/local/lib/python3.10/dist-packages/ipykernel/ipkernel.py:283: DeprecationWarning: `should_run_async` will not call `transform_cell` automatically in the future. Please pass the result to `transformed_cell` argument and any exception that happen during thetransform in `preprocessing_exc_tuple` in IPython 7.17 and above.\n",
            "  and should_run_async(code)\n"
          ]
        }
      ]
    },
    {
      "cell_type": "code",
      "source": [
        "def s2(ID1, ID2, followings): #normalized to max len of 2 ids\n",
        "    # Get the lists of followers for the given user IDs\n",
        "    followings_list_1 = followings.get(ID1, [])\n",
        "    followings_list_2 = followings.get(ID2, [])\n",
        "\n",
        "    # Find the common followings using set intersection\n",
        "    common_followings = set(followings_list_1).intersection(followings_list_2)\n",
        "    n=max(len(followings_list_1),len(followings_list_2))\n",
        "\n",
        "    # Calculate the ratio of common followers to n\n",
        "    ratio = len(common_followings) / n\n",
        "\n",
        "    return ratio\n"
      ],
      "metadata": {
        "id": "fRf5gQ_Wgu2j",
        "colab": {
          "base_uri": "https://localhost:8080/"
        },
        "outputId": "9877a248-e7ea-4034-f55d-353b6a37fcdc"
      },
      "execution_count": null,
      "outputs": [
        {
          "output_type": "stream",
          "name": "stderr",
          "text": [
            "/usr/local/lib/python3.10/dist-packages/ipykernel/ipkernel.py:283: DeprecationWarning: `should_run_async` will not call `transform_cell` automatically in the future. Please pass the result to `transformed_cell` argument and any exception that happen during thetransform in `preprocessing_exc_tuple` in IPython 7.17 and above.\n",
            "  and should_run_async(code)\n"
          ]
        }
      ]
    },
    {
      "cell_type": "code",
      "source": [
        "S3(1,2,followers_dict)"
      ],
      "metadata": {
        "colab": {
          "base_uri": "https://localhost:8080/"
        },
        "id": "T-2EhDPsfLKq",
        "outputId": "c538f131-010e-4dc3-9181-451782083ec2"
      },
      "execution_count": null,
      "outputs": [
        {
          "output_type": "stream",
          "name": "stderr",
          "text": [
            "/usr/local/lib/python3.10/dist-packages/ipykernel/ipkernel.py:283: DeprecationWarning: `should_run_async` will not call `transform_cell` automatically in the future. Please pass the result to `transformed_cell` argument and any exception that happen during thetransform in `preprocessing_exc_tuple` in IPython 7.17 and above.\n",
            "  and should_run_async(code)\n"
          ]
        },
        {
          "output_type": "execute_result",
          "data": {
            "text/plain": [
              "0.0008103727714748784"
            ]
          },
          "metadata": {},
          "execution_count": 23
        }
      ]
    },
    {
      "cell_type": "code",
      "source": [
        "s3(1,2,followers_dict)"
      ],
      "metadata": {
        "colab": {
          "base_uri": "https://localhost:8080/"
        },
        "id": "xbWNie3TgIs-",
        "outputId": "94ee3dac-02cd-4031-ae51-7baba0587ea2"
      },
      "execution_count": null,
      "outputs": [
        {
          "output_type": "stream",
          "name": "stderr",
          "text": [
            "/usr/local/lib/python3.10/dist-packages/ipykernel/ipkernel.py:283: DeprecationWarning: `should_run_async` will not call `transform_cell` automatically in the future. Please pass the result to `transformed_cell` argument and any exception that happen during thetransform in `preprocessing_exc_tuple` in IPython 7.17 and above.\n",
            "  and should_run_async(code)\n"
          ]
        },
        {
          "output_type": "execute_result",
          "data": {
            "text/plain": [
              "0.006679389312977099"
            ]
          },
          "metadata": {},
          "execution_count": 24
        }
      ]
    },
    {
      "cell_type": "code",
      "source": [
        "S2(1,2,followings_dict)"
      ],
      "metadata": {
        "colab": {
          "base_uri": "https://localhost:8080/"
        },
        "id": "4XoY9_H7oRD8",
        "outputId": "309a2171-9f67-4348-add4-341a54dc0ae1"
      },
      "execution_count": null,
      "outputs": [
        {
          "output_type": "stream",
          "name": "stderr",
          "text": [
            "/usr/local/lib/python3.10/dist-packages/ipykernel/ipkernel.py:283: DeprecationWarning: `should_run_async` will not call `transform_cell` automatically in the future. Please pass the result to `transformed_cell` argument and any exception that happen during thetransform in `preprocessing_exc_tuple` in IPython 7.17 and above.\n",
            "  and should_run_async(code)\n"
          ]
        },
        {
          "output_type": "execute_result",
          "data": {
            "text/plain": [
              "0.0027347310847766638"
            ]
          },
          "metadata": {},
          "execution_count": 25
        }
      ]
    },
    {
      "cell_type": "code",
      "source": [
        "s2(1,2,followings_dict)"
      ],
      "metadata": {
        "colab": {
          "base_uri": "https://localhost:8080/"
        },
        "id": "QWhE5GudoRBp",
        "outputId": "0e4ea938-20b5-4625-9c12-f9a96d0b0195"
      },
      "execution_count": null,
      "outputs": [
        {
          "output_type": "stream",
          "name": "stderr",
          "text": [
            "/usr/local/lib/python3.10/dist-packages/ipykernel/ipkernel.py:283: DeprecationWarning: `should_run_async` will not call `transform_cell` automatically in the future. Please pass the result to `transformed_cell` argument and any exception that happen during thetransform in `preprocessing_exc_tuple` in IPython 7.17 and above.\n",
            "  and should_run_async(code)\n"
          ]
        },
        {
          "output_type": "execute_result",
          "data": {
            "text/plain": [
              "0.04285714285714286"
            ]
          },
          "metadata": {},
          "execution_count": 26
        }
      ]
    },
    {
      "cell_type": "code",
      "source": [
        "def S1(ID1, ID2, followers_dict):\n",
        "    # Get the lists of followers for the given user IDs\n",
        "    followers_list_1 = followers_dict.get(ID1, [])\n",
        "    followers_list_2 = followers_dict.get(ID2, [])\n",
        "\n",
        "    # Check if ID1 follows ID2 and ID2 follows ID1\n",
        "    if ID1 in followers_list_2 and ID2 in followers_list_1:\n",
        "        return 1.0  # Both follow each other, similarity score = 1\n",
        "    elif ID1 in followers_list_2 or ID2 in followers_list_1:\n",
        "        return 0.5  # Only one follows the other, similarity score = 0.5\n",
        "    else:\n",
        "        return 0.0  # None follows the other, similarity score = 0\n"
      ],
      "metadata": {
        "colab": {
          "base_uri": "https://localhost:8080/"
        },
        "id": "GWxsS4eZoQ_j",
        "outputId": "a6e08bbd-50da-4802-d60b-3d0640c218b1"
      },
      "execution_count": null,
      "outputs": [
        {
          "output_type": "stream",
          "name": "stderr",
          "text": [
            "/usr/local/lib/python3.10/dist-packages/ipykernel/ipkernel.py:283: DeprecationWarning: `should_run_async` will not call `transform_cell` automatically in the future. Please pass the result to `transformed_cell` argument and any exception that happen during thetransform in `preprocessing_exc_tuple` in IPython 7.17 and above.\n",
            "  and should_run_async(code)\n"
          ]
        }
      ]
    },
    {
      "cell_type": "code",
      "source": [
        "S1(1,2,followers_dict)"
      ],
      "metadata": {
        "id": "heNZ0OTnd_hn",
        "colab": {
          "base_uri": "https://localhost:8080/"
        },
        "outputId": "ed3a13cc-79ae-46e1-dedb-9d57d7446c10"
      },
      "execution_count": null,
      "outputs": [
        {
          "output_type": "stream",
          "name": "stderr",
          "text": [
            "/usr/local/lib/python3.10/dist-packages/ipykernel/ipkernel.py:283: DeprecationWarning: `should_run_async` will not call `transform_cell` automatically in the future. Please pass the result to `transformed_cell` argument and any exception that happen during thetransform in `preprocessing_exc_tuple` in IPython 7.17 and above.\n",
            "  and should_run_async(code)\n"
          ]
        },
        {
          "output_type": "execute_result",
          "data": {
            "text/plain": [
              "0.5"
            ]
          },
          "metadata": {},
          "execution_count": 28
        }
      ]
    },
    {
      "cell_type": "code",
      "source": [
        "S1(1,2,followings_dict)"
      ],
      "metadata": {
        "colab": {
          "base_uri": "https://localhost:8080/"
        },
        "id": "_uDnmdtTq3uQ",
        "outputId": "54addd2e-4b1e-4550-b717-a38bc1143543"
      },
      "execution_count": null,
      "outputs": [
        {
          "output_type": "stream",
          "name": "stderr",
          "text": [
            "/usr/local/lib/python3.10/dist-packages/ipykernel/ipkernel.py:283: DeprecationWarning: `should_run_async` will not call `transform_cell` automatically in the future. Please pass the result to `transformed_cell` argument and any exception that happen during thetransform in `preprocessing_exc_tuple` in IPython 7.17 and above.\n",
            "  and should_run_async(code)\n"
          ]
        },
        {
          "output_type": "execute_result",
          "data": {
            "text/plain": [
              "0.5"
            ]
          },
          "metadata": {},
          "execution_count": 29
        }
      ]
    },
    {
      "cell_type": "code",
      "source": [
        "import math\n",
        "\n",
        "def S5(i, j, reply_dict):\n",
        "    # Get the lists of users that i and j replied to\n",
        "    users_replied_to_i = reply_dict.get(i, [])\n",
        "    users_replied_to_j = reply_dict.get(j, [])\n",
        "\n",
        "    # Find the common users replied to by both i and j\n",
        "    common_replied_users = set(users_replied_to_i).intersection(users_replied_to_j)\n",
        "\n",
        "    # Calculate the numerator (number of common replied users)\n",
        "    numerator = len(common_replied_users)\n",
        "\n",
        "    # Calculate the denominator (squared root of (number of users i replied to * number of users j replied to))\n",
        "    denominator = math.sqrt(len(users_replied_to_i) * len(users_replied_to_j))\n",
        "\n",
        "    # Get the lists of users that i replied to and j replied to\n",
        "    replies_i = reply_dict.get(i, [])\n",
        "    replies_j = reply_dict.get(j, [])\n",
        "\n",
        "    # Count the number of times j appears in replies_i and i appears in replies_j\n",
        "    count_i_to_j = replies_i.count(j)\n",
        "    count_j_to_i = replies_j.count(i)\n",
        "\n",
        "    # Calculate the total number of replies for users i and j\n",
        "    total_replies_i = len(replies_i)\n",
        "    total_replies_j = len(replies_j)\n",
        "\n",
        "    # Calculate the similarity score as described\n",
        "    if (total_replies_i + total_replies_j)==0:\n",
        "      similarity_score1=0\n",
        "    else:\n",
        "      similarity_score1 = (count_i_to_j + count_j_to_i) / (total_replies_i + total_replies_j)\n",
        "\n",
        "    # Calculate the similarity score\n",
        "    if denominator==0:\n",
        "      similarity_score2=0\n",
        "    else:\n",
        "      similarity_score2 = numerator / denominator\n",
        "\n",
        "    #total score\n",
        "    similarity_score=similarity_score1+similarity_score2\n",
        "\n",
        "    return similarity_score\n"
      ],
      "metadata": {
        "colab": {
          "base_uri": "https://localhost:8080/"
        },
        "id": "zpGuAaF1q7b2",
        "outputId": "a2c473d2-24b1-4e3e-c100-ef97b898dbce"
      },
      "execution_count": null,
      "outputs": [
        {
          "output_type": "stream",
          "name": "stderr",
          "text": [
            "/usr/local/lib/python3.10/dist-packages/ipykernel/ipkernel.py:283: DeprecationWarning: `should_run_async` will not call `transform_cell` automatically in the future. Please pass the result to `transformed_cell` argument and any exception that happen during thetransform in `preprocessing_exc_tuple` in IPython 7.17 and above.\n",
            "  and should_run_async(code)\n"
          ]
        }
      ]
    },
    {
      "cell_type": "code",
      "source": [
        "reply_dict.get(13808, [])"
      ],
      "metadata": {
        "colab": {
          "base_uri": "https://localhost:8080/"
        },
        "id": "BPD_PI5KflSJ",
        "outputId": "a4e012c7-595b-4f20-b978-406262d98f17"
      },
      "execution_count": null,
      "outputs": [
        {
          "output_type": "stream",
          "name": "stderr",
          "text": [
            "/usr/local/lib/python3.10/dist-packages/ipykernel/ipkernel.py:283: DeprecationWarning: `should_run_async` will not call `transform_cell` automatically in the future. Please pass the result to `transformed_cell` argument and any exception that happen during thetransform in `preprocessing_exc_tuple` in IPython 7.17 and above.\n",
            "  and should_run_async(code)\n"
          ]
        },
        {
          "output_type": "execute_result",
          "data": {
            "text/plain": [
              "[92274, 67382, 54258, 13778, 13778, 13778, 67382, 4380, 2160]"
            ]
          },
          "metadata": {},
          "execution_count": 41
        }
      ]
    },
    {
      "cell_type": "code",
      "source": [
        "reply_dict.get(92274, [])"
      ],
      "metadata": {
        "colab": {
          "base_uri": "https://localhost:8080/"
        },
        "id": "BUNA2-uvfw5G",
        "outputId": "b169bf4a-5ab0-4b25-840f-187017dc2bec"
      },
      "execution_count": null,
      "outputs": [
        {
          "output_type": "stream",
          "name": "stderr",
          "text": [
            "/usr/local/lib/python3.10/dist-packages/ipykernel/ipkernel.py:283: DeprecationWarning: `should_run_async` will not call `transform_cell` automatically in the future. Please pass the result to `transformed_cell` argument and any exception that happen during thetransform in `preprocessing_exc_tuple` in IPython 7.17 and above.\n",
            "  and should_run_async(code)\n"
          ]
        },
        {
          "output_type": "execute_result",
          "data": {
            "text/plain": [
              "[13808, 15687, 3547, 3547, 41655, 41655, 41655, 14957]"
            ]
          },
          "metadata": {},
          "execution_count": 42
        }
      ]
    },
    {
      "cell_type": "code",
      "source": [
        "S5(92274,13808,reply_dict)"
      ],
      "metadata": {
        "colab": {
          "base_uri": "https://localhost:8080/"
        },
        "id": "COg8WgcGXYjx",
        "outputId": "b1655f94-d7b1-4052-bdc6-23f22d87d95c"
      },
      "execution_count": null,
      "outputs": [
        {
          "output_type": "stream",
          "name": "stderr",
          "text": [
            "/usr/local/lib/python3.10/dist-packages/ipykernel/ipkernel.py:283: DeprecationWarning: `should_run_async` will not call `transform_cell` automatically in the future. Please pass the result to `transformed_cell` argument and any exception that happen during thetransform in `preprocessing_exc_tuple` in IPython 7.17 and above.\n",
            "  and should_run_async(code)\n"
          ]
        },
        {
          "output_type": "execute_result",
          "data": {
            "text/plain": [
              "0.11764705882352941"
            ]
          },
          "metadata": {},
          "execution_count": 43
        }
      ]
    },
    {
      "cell_type": "code",
      "source": [
        "S5(1,2,reply_dict)"
      ],
      "metadata": {
        "colab": {
          "base_uri": "https://localhost:8080/"
        },
        "id": "qMjc_bgygObB",
        "outputId": "1858eab7-37e3-43c3-f379-9155a1a404a8"
      },
      "execution_count": null,
      "outputs": [
        {
          "output_type": "stream",
          "name": "stderr",
          "text": [
            "/usr/local/lib/python3.10/dist-packages/ipykernel/ipkernel.py:283: DeprecationWarning: `should_run_async` will not call `transform_cell` automatically in the future. Please pass the result to `transformed_cell` argument and any exception that happen during thetransform in `preprocessing_exc_tuple` in IPython 7.17 and above.\n",
            "  and should_run_async(code)\n"
          ]
        },
        {
          "output_type": "execute_result",
          "data": {
            "text/plain": [
              "0"
            ]
          },
          "metadata": {},
          "execution_count": 51
        }
      ]
    },
    {
      "cell_type": "code",
      "source": [
        "import math\n",
        "\n",
        "def S4(i, j, mention_dict):\n",
        "    # Get the lists of users that i and j mentioned to\n",
        "    users_mentioned_to_i = mention_dict.get(i, [])\n",
        "    users_mentioned_to_j = mention_dict.get(j, [])\n",
        "\n",
        "    # Find the common users mentioned to by both i and j\n",
        "    common_mentioned_users = set(users_mentioned_to_i).intersection(users_mentioned_to_j)\n",
        "\n",
        "    # Calculate the numerator (number of common mentioned users)\n",
        "    numerator = len(common_mentioned_users)\n",
        "\n",
        "    # Calculate the denominator (squared root of (number of users i mentioned to * number of users j mentioned to))\n",
        "    denominator = math.sqrt(len(users_mentioned_to_i) * len(users_mentioned_to_j))\n",
        "\n",
        "    # Get the lists of users that i mentioned to and j mentioned to\n",
        "    mentions_i = mention_dict.get(i, [])\n",
        "    mentions_j = mention_dict.get(j, [])\n",
        "\n",
        "    # Count the number of times j appears in mentions_i and i appears in mentions_j\n",
        "    count_i_to_j = mentions_i.count(j)\n",
        "    count_j_to_i = mentions_j.count(i)\n",
        "\n",
        "    # Calculate the total number of mentions for users i and j\n",
        "    total_mentions_i = len(mentions_i)\n",
        "    total_mentions_j = len(mentions_j)\n",
        "\n",
        "    # Calculate the similarity score as described\n",
        "    if (total_mentions_i + total_mentions_j)==0:\n",
        "      similarity_score1=0\n",
        "    else:\n",
        "      similarity_score1 = (count_i_to_j + count_j_to_i) / (total_mentions_i + total_mentions_j)\n",
        "\n",
        "    # Calculate the similarity score\n",
        "    if denominator==0:\n",
        "      similarity_score2=0\n",
        "    else:\n",
        "      similarity_score2 = numerator / denominator\n",
        "\n",
        "    #total score\n",
        "    similarity_score=similarity_score1+similarity_score2\n",
        "\n",
        "    return similarity_score\n"
      ],
      "metadata": {
        "colab": {
          "base_uri": "https://localhost:8080/"
        },
        "id": "3JquF9ODXes0",
        "outputId": "c7fad216-d55d-4b18-9c4d-85497f354bea"
      },
      "execution_count": null,
      "outputs": [
        {
          "output_type": "stream",
          "name": "stderr",
          "text": [
            "/usr/local/lib/python3.10/dist-packages/ipykernel/ipkernel.py:283: DeprecationWarning: `should_run_async` will not call `transform_cell` automatically in the future. Please pass the result to `transformed_cell` argument and any exception that happen during thetransform in `preprocessing_exc_tuple` in IPython 7.17 and above.\n",
            "  and should_run_async(code)\n"
          ]
        }
      ]
    },
    {
      "cell_type": "code",
      "source": [
        "S4(1,2,mention_dict)"
      ],
      "metadata": {
        "colab": {
          "base_uri": "https://localhost:8080/"
        },
        "id": "shtN3J-IXeqq",
        "outputId": "59fe3b50-802d-4f19-9f17-4e82de963595"
      },
      "execution_count": null,
      "outputs": [
        {
          "output_type": "stream",
          "name": "stderr",
          "text": [
            "/usr/local/lib/python3.10/dist-packages/ipykernel/ipkernel.py:283: DeprecationWarning: `should_run_async` will not call `transform_cell` automatically in the future. Please pass the result to `transformed_cell` argument and any exception that happen during thetransform in `preprocessing_exc_tuple` in IPython 7.17 and above.\n",
            "  and should_run_async(code)\n"
          ]
        },
        {
          "output_type": "execute_result",
          "data": {
            "text/plain": [
              "0"
            ]
          },
          "metadata": {},
          "execution_count": 55
        }
      ]
    },
    {
      "cell_type": "code",
      "source": [
        "S4(12183,50196,mention_dict)"
      ],
      "metadata": {
        "colab": {
          "base_uri": "https://localhost:8080/"
        },
        "id": "Sysv7yL1h4Ve",
        "outputId": "da828190-4359-4e8b-b0a0-0344971f8ab6"
      },
      "execution_count": null,
      "outputs": [
        {
          "output_type": "stream",
          "name": "stderr",
          "text": [
            "/usr/local/lib/python3.10/dist-packages/ipykernel/ipkernel.py:283: DeprecationWarning: `should_run_async` will not call `transform_cell` automatically in the future. Please pass the result to `transformed_cell` argument and any exception that happen during thetransform in `preprocessing_exc_tuple` in IPython 7.17 and above.\n",
            "  and should_run_async(code)\n"
          ]
        },
        {
          "output_type": "execute_result",
          "data": {
            "text/plain": [
              "0.23570226039551587"
            ]
          },
          "metadata": {},
          "execution_count": 62
        }
      ]
    },
    {
      "cell_type": "code",
      "source": [
        "import math\n",
        "\n",
        "def S6(i, j, retweet_dict):\n",
        "    # Get the lists of users that i and j retweet to\n",
        "    users_retweet_to_i = retweet_dict.get(i, [])\n",
        "    users_retweet_to_j = retweet_dict.get(j, [])\n",
        "\n",
        "    # Find the common users retweet to by both i and j\n",
        "    common_retweet_users = set(users_retweet_to_i).intersection(users_retweet_to_j)\n",
        "\n",
        "    # Calculate the numerator (number of common retweet users)\n",
        "    numerator = len(common_retweet_users)\n",
        "\n",
        "    # Calculate the denominator (squared root of (number of users i retweet to * number of users j retweet to))\n",
        "    denominator = math.sqrt(len(users_retweet_to_i) * len(users_retweet_to_j))\n",
        "\n",
        "    # Get the lists of users that i mentioned to and j mentioned to\n",
        "    retweet_i = retweet_dict.get(i, [])\n",
        "    retweet_j = retweet_dict.get(j, [])\n",
        "\n",
        "    # Count the number of times j appears in mentions_i and i appears in mentions_j\n",
        "    count_i_to_j = retweet_i.count(j)\n",
        "    count_j_to_i = retweet_j.count(i)\n",
        "\n",
        "    # Calculate the total number of mentions for users i and j\n",
        "    total_retweet_i = len(retweet_i)\n",
        "    total_retweet_j = len(retweet_j)\n",
        "\n",
        "    # Calculate the similarity score as described\n",
        "    if (total_retweet_i + total_retweet_j)==0:\n",
        "      similarity_score1=0\n",
        "    else:\n",
        "      similarity_score1 = (count_i_to_j + count_j_to_i) / (total_retweet_i + total_retweet_j)\n",
        "\n",
        "    # Calculate the similarity score\n",
        "    if denominator==0:\n",
        "      similarity_score2=0\n",
        "    else:\n",
        "      similarity_score2 = numerator / denominator\n",
        "\n",
        "    #total score\n",
        "    similarity_score=similarity_score1+similarity_score2\n",
        "\n",
        "    return similarity_score\n"
      ],
      "metadata": {
        "colab": {
          "base_uri": "https://localhost:8080/"
        },
        "id": "vtBQOWbgXeno",
        "outputId": "60e51316-f7e9-47d7-d2c3-e7aae1e3bb88"
      },
      "execution_count": null,
      "outputs": [
        {
          "output_type": "stream",
          "name": "stderr",
          "text": [
            "/usr/local/lib/python3.10/dist-packages/ipykernel/ipkernel.py:283: DeprecationWarning: `should_run_async` will not call `transform_cell` automatically in the future. Please pass the result to `transformed_cell` argument and any exception that happen during thetransform in `preprocessing_exc_tuple` in IPython 7.17 and above.\n",
            "  and should_run_async(code)\n"
          ]
        }
      ]
    },
    {
      "cell_type": "code",
      "source": [
        "S6(72991,96189,retweet_dict)"
      ],
      "metadata": {
        "colab": {
          "base_uri": "https://localhost:8080/"
        },
        "id": "R7V5ZuPXXelZ",
        "outputId": "3f266522-1535-434e-dcc0-b83dd8f17de6"
      },
      "execution_count": null,
      "outputs": [
        {
          "output_type": "stream",
          "name": "stderr",
          "text": [
            "/usr/local/lib/python3.10/dist-packages/ipykernel/ipkernel.py:283: DeprecationWarning: `should_run_async` will not call `transform_cell` automatically in the future. Please pass the result to `transformed_cell` argument and any exception that happen during thetransform in `preprocessing_exc_tuple` in IPython 7.17 and above.\n",
            "  and should_run_async(code)\n"
          ]
        },
        {
          "output_type": "execute_result",
          "data": {
            "text/plain": [
              "0.2581988897471611"
            ]
          },
          "metadata": {},
          "execution_count": 59
        }
      ]
    },
    {
      "cell_type": "code",
      "source": [
        "S6(1,2,retweet_dict)"
      ],
      "metadata": {
        "colab": {
          "base_uri": "https://localhost:8080/"
        },
        "id": "YpQAtq_5hqCp",
        "outputId": "0e186914-bd8a-428a-f21d-f0e740c76147"
      },
      "execution_count": null,
      "outputs": [
        {
          "output_type": "stream",
          "name": "stderr",
          "text": [
            "/usr/local/lib/python3.10/dist-packages/ipykernel/ipkernel.py:283: DeprecationWarning: `should_run_async` will not call `transform_cell` automatically in the future. Please pass the result to `transformed_cell` argument and any exception that happen during thetransform in `preprocessing_exc_tuple` in IPython 7.17 and above.\n",
            "  and should_run_async(code)\n"
          ]
        },
        {
          "output_type": "execute_result",
          "data": {
            "text/plain": [
              "0"
            ]
          },
          "metadata": {},
          "execution_count": 60
        }
      ]
    },
    {
      "cell_type": "code",
      "source": [
        "def combined_similarity(ID1, ID2, followers_dict,followings_dict, reply_dict,retweet_dict,mention_dict):\n",
        "    sc1 = S1(ID1, ID2, followers_dict)\n",
        "    sc2 = s2(ID1, ID2, followings_dict)\n",
        "    sc3 = s3(ID1, ID2, followers_dict)\n",
        "    sc4 = S4(ID1, ID2, mention_dict)\n",
        "    sc5 = S5(ID1, ID2, reply_dict)\n",
        "    sc6 = S6(ID1, ID2, retweet_dict)\n",
        "\n",
        "    combined_score = sc1 + sc2 + sc3 + sc4 + sc5 + sc6\n",
        "    return combined_score"
      ],
      "metadata": {
        "colab": {
          "base_uri": "https://localhost:8080/"
        },
        "id": "4D-kIg-Uhr0h",
        "outputId": "3fe07391-763f-464b-996d-4388cc72c9df"
      },
      "execution_count": null,
      "outputs": [
        {
          "output_type": "stream",
          "name": "stderr",
          "text": [
            "/usr/local/lib/python3.10/dist-packages/ipykernel/ipkernel.py:283: DeprecationWarning: `should_run_async` will not call `transform_cell` automatically in the future. Please pass the result to `transformed_cell` argument and any exception that happen during thetransform in `preprocessing_exc_tuple` in IPython 7.17 and above.\n",
            "  and should_run_async(code)\n"
          ]
        }
      ]
    },
    {
      "cell_type": "code",
      "source": [
        "combined_similarity(1,2,followers_dict,followings_dict, reply_dict,retweet_dict,mention_dict)"
      ],
      "metadata": {
        "colab": {
          "base_uri": "https://localhost:8080/"
        },
        "id": "3RfVm-z5i-86",
        "outputId": "505cc588-811f-43b6-b9ec-dd9d95ffdaea"
      },
      "execution_count": null,
      "outputs": [
        {
          "output_type": "stream",
          "name": "stderr",
          "text": [
            "/usr/local/lib/python3.10/dist-packages/ipykernel/ipkernel.py:283: DeprecationWarning: `should_run_async` will not call `transform_cell` automatically in the future. Please pass the result to `transformed_cell` argument and any exception that happen during thetransform in `preprocessing_exc_tuple` in IPython 7.17 and above.\n",
            "  and should_run_async(code)\n"
          ]
        },
        {
          "output_type": "execute_result",
          "data": {
            "text/plain": [
              "0.5495365321701199"
            ]
          },
          "metadata": {},
          "execution_count": 66
        }
      ]
    },
    {
      "cell_type": "code",
      "source": [
        "combined_similarity(72991,96189,followers_dict,followings_dict, reply_dict,retweet_dict,mention_dict)"
      ],
      "metadata": {
        "colab": {
          "base_uri": "https://localhost:8080/"
        },
        "id": "VOjyPjpbjEBJ",
        "outputId": "9e792a60-50ad-49b0-f7e5-c65b367792b2"
      },
      "execution_count": null,
      "outputs": [
        {
          "output_type": "stream",
          "name": "stderr",
          "text": [
            "/usr/local/lib/python3.10/dist-packages/ipykernel/ipkernel.py:283: DeprecationWarning: `should_run_async` will not call `transform_cell` automatically in the future. Please pass the result to `transformed_cell` argument and any exception that happen during thetransform in `preprocessing_exc_tuple` in IPython 7.17 and above.\n",
            "  and should_run_async(code)\n"
          ]
        },
        {
          "output_type": "execute_result",
          "data": {
            "text/plain": [
              "0.3331988897471611"
            ]
          },
          "metadata": {},
          "execution_count": 67
        }
      ]
    },
    {
      "cell_type": "code",
      "source": [
        "combined_similarity(12183,50196,followers_dict,followings_dict, reply_dict,retweet_dict,mention_dict)"
      ],
      "metadata": {
        "colab": {
          "base_uri": "https://localhost:8080/"
        },
        "id": "L8nHfIbTjW9C",
        "outputId": "81ace781-dcb2-46d4-ac66-173c09814f67"
      },
      "execution_count": null,
      "outputs": [
        {
          "output_type": "stream",
          "name": "stderr",
          "text": [
            "/usr/local/lib/python3.10/dist-packages/ipykernel/ipkernel.py:283: DeprecationWarning: `should_run_async` will not call `transform_cell` automatically in the future. Please pass the result to `transformed_cell` argument and any exception that happen during thetransform in `preprocessing_exc_tuple` in IPython 7.17 and above.\n",
            "  and should_run_async(code)\n"
          ]
        },
        {
          "output_type": "execute_result",
          "data": {
            "text/plain": [
              "0.2452564005229044"
            ]
          },
          "metadata": {},
          "execution_count": 68
        }
      ]
    },
    {
      "cell_type": "code",
      "source": [
        "combined_similarity(92274,13808,followers_dict,followings_dict, reply_dict,retweet_dict,mention_dict)"
      ],
      "metadata": {
        "colab": {
          "base_uri": "https://localhost:8080/"
        },
        "id": "XwZZryL_jeXu",
        "outputId": "fa5e6e92-9982-484a-d035-d3bbb8f1aa73"
      },
      "execution_count": null,
      "outputs": [
        {
          "output_type": "stream",
          "name": "stderr",
          "text": [
            "/usr/local/lib/python3.10/dist-packages/ipykernel/ipkernel.py:283: DeprecationWarning: `should_run_async` will not call `transform_cell` automatically in the future. Please pass the result to `transformed_cell` argument and any exception that happen during thetransform in `preprocessing_exc_tuple` in IPython 7.17 and above.\n",
            "  and should_run_async(code)\n"
          ]
        },
        {
          "output_type": "execute_result",
          "data": {
            "text/plain": [
              "1.554944760265844"
            ]
          },
          "metadata": {},
          "execution_count": 70
        }
      ]
    },
    {
      "cell_type": "markdown",
      "source": [
        "# similarity of sets"
      ],
      "metadata": {
        "id": "QoU9n-PO0Sia"
      }
    },
    {
      "cell_type": "code",
      "source": [
        "# Assuming you have already defined the S1 function or any other similarity function.\n",
        "\n",
        "# Function to calculate the average similarity between all pairs of users in a set\n",
        "def average_similarity(itemset, similarity_function, followers_dict):\n",
        "    if len(itemset) == 1:\n",
        "        return 1.0  # If the set has only 1 item, the similarity is 1\n",
        "\n",
        "    total_similarity = 0.0\n",
        "    total_pairs = 0\n",
        "\n",
        "    # Calculate the similarity between all pairs of users in the set\n",
        "    for i in itemset:\n",
        "        for j in itemset:\n",
        "            if i != j:\n",
        "                total_similarity += combined_similarity(i,j,followers_dict,followings_dict, reply_dict,retweet_dict,mention_dict)\n",
        "                total_pairs += 1\n",
        "\n",
        "    # Calculate the average similarity\n",
        "    average_sim = total_similarity / total_pairs\n",
        "\n",
        "    return average_sim\n",
        "\n",
        "# Assuming you have the followers_dict dictionary that contains user followers data\n",
        "\n",
        "# Add a new column 'similarity' to the frequent_items_with_support DataFrame\n",
        "frequent_items_with_support['similarity'] = frequent_items_with_support['itemsets'].apply(\n",
        "    lambda itemset: average_similarity(itemset, S1, followers_dict)\n",
        ")\n",
        "\n",
        "# Display the DataFrame with the new 'similarity' column\n",
        "frequent_items_with_support"
      ],
      "metadata": {
        "colab": {
          "base_uri": "https://localhost:8080/",
          "height": 478
        },
        "id": "t5ud6vRgjdgt",
        "outputId": "ebaa47ac-7945-46c3-ebf2-dab88f3035a5"
      },
      "execution_count": null,
      "outputs": [
        {
          "output_type": "stream",
          "name": "stderr",
          "text": [
            "/usr/local/lib/python3.10/dist-packages/ipykernel/ipkernel.py:283: DeprecationWarning: `should_run_async` will not call `transform_cell` automatically in the future. Please pass the result to `transformed_cell` argument and any exception that happen during thetransform in `preprocessing_exc_tuple` in IPython 7.17 and above.\n",
            "  and should_run_async(code)\n"
          ]
        },
        {
          "output_type": "execute_result",
          "data": {
            "text/plain": [
              "                                 itemsets   support  length  similarity\n",
              "527                               (89805)  0.014862       1    1.000000\n",
              "274                               (38535)  0.010857       1    1.000000\n",
              "10                                  (492)  0.007062       1    1.000000\n",
              "208                               (27705)  0.006008       1    1.000000\n",
              "20                                 (1276)  0.005481       1    1.000000\n",
              "...                                   ...       ...     ...         ...\n",
              "1267                       (90325, 69127)  0.000949       2    0.570557\n",
              "672                              (179276)  0.000949       1    1.000000\n",
              "666                              (175276)  0.000949       1    1.000000\n",
              "658                              (165916)  0.000949       1    1.000000\n",
              "1761  (56968, 89805, 92274, 11991, 42172)  0.000949       5    1.565440\n",
              "\n",
              "[1762 rows x 4 columns]"
            ],
            "text/html": [
              "\n",
              "\n",
              "  <div id=\"df-593d63ce-6511-4b43-98f0-a1acca4452e2\">\n",
              "    <div class=\"colab-df-container\">\n",
              "      <div>\n",
              "<style scoped>\n",
              "    .dataframe tbody tr th:only-of-type {\n",
              "        vertical-align: middle;\n",
              "    }\n",
              "\n",
              "    .dataframe tbody tr th {\n",
              "        vertical-align: top;\n",
              "    }\n",
              "\n",
              "    .dataframe thead th {\n",
              "        text-align: right;\n",
              "    }\n",
              "</style>\n",
              "<table border=\"1\" class=\"dataframe\">\n",
              "  <thead>\n",
              "    <tr style=\"text-align: right;\">\n",
              "      <th></th>\n",
              "      <th>itemsets</th>\n",
              "      <th>support</th>\n",
              "      <th>length</th>\n",
              "      <th>similarity</th>\n",
              "    </tr>\n",
              "  </thead>\n",
              "  <tbody>\n",
              "    <tr>\n",
              "      <th>527</th>\n",
              "      <td>(89805)</td>\n",
              "      <td>0.014862</td>\n",
              "      <td>1</td>\n",
              "      <td>1.000000</td>\n",
              "    </tr>\n",
              "    <tr>\n",
              "      <th>274</th>\n",
              "      <td>(38535)</td>\n",
              "      <td>0.010857</td>\n",
              "      <td>1</td>\n",
              "      <td>1.000000</td>\n",
              "    </tr>\n",
              "    <tr>\n",
              "      <th>10</th>\n",
              "      <td>(492)</td>\n",
              "      <td>0.007062</td>\n",
              "      <td>1</td>\n",
              "      <td>1.000000</td>\n",
              "    </tr>\n",
              "    <tr>\n",
              "      <th>208</th>\n",
              "      <td>(27705)</td>\n",
              "      <td>0.006008</td>\n",
              "      <td>1</td>\n",
              "      <td>1.000000</td>\n",
              "    </tr>\n",
              "    <tr>\n",
              "      <th>20</th>\n",
              "      <td>(1276)</td>\n",
              "      <td>0.005481</td>\n",
              "      <td>1</td>\n",
              "      <td>1.000000</td>\n",
              "    </tr>\n",
              "    <tr>\n",
              "      <th>...</th>\n",
              "      <td>...</td>\n",
              "      <td>...</td>\n",
              "      <td>...</td>\n",
              "      <td>...</td>\n",
              "    </tr>\n",
              "    <tr>\n",
              "      <th>1267</th>\n",
              "      <td>(90325, 69127)</td>\n",
              "      <td>0.000949</td>\n",
              "      <td>2</td>\n",
              "      <td>0.570557</td>\n",
              "    </tr>\n",
              "    <tr>\n",
              "      <th>672</th>\n",
              "      <td>(179276)</td>\n",
              "      <td>0.000949</td>\n",
              "      <td>1</td>\n",
              "      <td>1.000000</td>\n",
              "    </tr>\n",
              "    <tr>\n",
              "      <th>666</th>\n",
              "      <td>(175276)</td>\n",
              "      <td>0.000949</td>\n",
              "      <td>1</td>\n",
              "      <td>1.000000</td>\n",
              "    </tr>\n",
              "    <tr>\n",
              "      <th>658</th>\n",
              "      <td>(165916)</td>\n",
              "      <td>0.000949</td>\n",
              "      <td>1</td>\n",
              "      <td>1.000000</td>\n",
              "    </tr>\n",
              "    <tr>\n",
              "      <th>1761</th>\n",
              "      <td>(56968, 89805, 92274, 11991, 42172)</td>\n",
              "      <td>0.000949</td>\n",
              "      <td>5</td>\n",
              "      <td>1.565440</td>\n",
              "    </tr>\n",
              "  </tbody>\n",
              "</table>\n",
              "<p>1762 rows × 4 columns</p>\n",
              "</div>\n",
              "      <button class=\"colab-df-convert\" onclick=\"convertToInteractive('df-593d63ce-6511-4b43-98f0-a1acca4452e2')\"\n",
              "              title=\"Convert this dataframe to an interactive table.\"\n",
              "              style=\"display:none;\">\n",
              "\n",
              "  <svg xmlns=\"http://www.w3.org/2000/svg\" height=\"24px\"viewBox=\"0 0 24 24\"\n",
              "       width=\"24px\">\n",
              "    <path d=\"M0 0h24v24H0V0z\" fill=\"none\"/>\n",
              "    <path d=\"M18.56 5.44l.94 2.06.94-2.06 2.06-.94-2.06-.94-.94-2.06-.94 2.06-2.06.94zm-11 1L8.5 8.5l.94-2.06 2.06-.94-2.06-.94L8.5 2.5l-.94 2.06-2.06.94zm10 10l.94 2.06.94-2.06 2.06-.94-2.06-.94-.94-2.06-.94 2.06-2.06.94z\"/><path d=\"M17.41 7.96l-1.37-1.37c-.4-.4-.92-.59-1.43-.59-.52 0-1.04.2-1.43.59L10.3 9.45l-7.72 7.72c-.78.78-.78 2.05 0 2.83L4 21.41c.39.39.9.59 1.41.59.51 0 1.02-.2 1.41-.59l7.78-7.78 2.81-2.81c.8-.78.8-2.07 0-2.86zM5.41 20L4 18.59l7.72-7.72 1.47 1.35L5.41 20z\"/>\n",
              "  </svg>\n",
              "      </button>\n",
              "\n",
              "\n",
              "\n",
              "    <div id=\"df-788bd616-c16b-4a1b-bce5-5686c7304d01\">\n",
              "      <button class=\"colab-df-quickchart\" onclick=\"quickchart('df-788bd616-c16b-4a1b-bce5-5686c7304d01')\"\n",
              "              title=\"Suggest charts.\"\n",
              "              style=\"display:none;\">\n",
              "\n",
              "<svg xmlns=\"http://www.w3.org/2000/svg\" height=\"24px\"viewBox=\"0 0 24 24\"\n",
              "     width=\"24px\">\n",
              "    <g>\n",
              "        <path d=\"M19 3H5c-1.1 0-2 .9-2 2v14c0 1.1.9 2 2 2h14c1.1 0 2-.9 2-2V5c0-1.1-.9-2-2-2zM9 17H7v-7h2v7zm4 0h-2V7h2v10zm4 0h-2v-4h2v4z\"/>\n",
              "    </g>\n",
              "</svg>\n",
              "      </button>\n",
              "    </div>\n",
              "\n",
              "<style>\n",
              "  .colab-df-quickchart {\n",
              "    background-color: #E8F0FE;\n",
              "    border: none;\n",
              "    border-radius: 50%;\n",
              "    cursor: pointer;\n",
              "    display: none;\n",
              "    fill: #1967D2;\n",
              "    height: 32px;\n",
              "    padding: 0 0 0 0;\n",
              "    width: 32px;\n",
              "  }\n",
              "\n",
              "  .colab-df-quickchart:hover {\n",
              "    background-color: #E2EBFA;\n",
              "    box-shadow: 0px 1px 2px rgba(60, 64, 67, 0.3), 0px 1px 3px 1px rgba(60, 64, 67, 0.15);\n",
              "    fill: #174EA6;\n",
              "  }\n",
              "\n",
              "  [theme=dark] .colab-df-quickchart {\n",
              "    background-color: #3B4455;\n",
              "    fill: #D2E3FC;\n",
              "  }\n",
              "\n",
              "  [theme=dark] .colab-df-quickchart:hover {\n",
              "    background-color: #434B5C;\n",
              "    box-shadow: 0px 1px 3px 1px rgba(0, 0, 0, 0.15);\n",
              "    filter: drop-shadow(0px 1px 2px rgba(0, 0, 0, 0.3));\n",
              "    fill: #FFFFFF;\n",
              "  }\n",
              "</style>\n",
              "\n",
              "    <script>\n",
              "      async function quickchart(key) {\n",
              "        const containerElement = document.querySelector('#' + key);\n",
              "        const charts = await google.colab.kernel.invokeFunction(\n",
              "            'suggestCharts', [key], {});\n",
              "      }\n",
              "    </script>\n",
              "\n",
              "      <script>\n",
              "\n",
              "function displayQuickchartButton(domScope) {\n",
              "  let quickchartButtonEl =\n",
              "    domScope.querySelector('#df-788bd616-c16b-4a1b-bce5-5686c7304d01 button.colab-df-quickchart');\n",
              "  quickchartButtonEl.style.display =\n",
              "    google.colab.kernel.accessAllowed ? 'block' : 'none';\n",
              "}\n",
              "\n",
              "        displayQuickchartButton(document);\n",
              "      </script>\n",
              "      <style>\n",
              "    .colab-df-container {\n",
              "      display:flex;\n",
              "      flex-wrap:wrap;\n",
              "      gap: 12px;\n",
              "    }\n",
              "\n",
              "    .colab-df-convert {\n",
              "      background-color: #E8F0FE;\n",
              "      border: none;\n",
              "      border-radius: 50%;\n",
              "      cursor: pointer;\n",
              "      display: none;\n",
              "      fill: #1967D2;\n",
              "      height: 32px;\n",
              "      padding: 0 0 0 0;\n",
              "      width: 32px;\n",
              "    }\n",
              "\n",
              "    .colab-df-convert:hover {\n",
              "      background-color: #E2EBFA;\n",
              "      box-shadow: 0px 1px 2px rgba(60, 64, 67, 0.3), 0px 1px 3px 1px rgba(60, 64, 67, 0.15);\n",
              "      fill: #174EA6;\n",
              "    }\n",
              "\n",
              "    [theme=dark] .colab-df-convert {\n",
              "      background-color: #3B4455;\n",
              "      fill: #D2E3FC;\n",
              "    }\n",
              "\n",
              "    [theme=dark] .colab-df-convert:hover {\n",
              "      background-color: #434B5C;\n",
              "      box-shadow: 0px 1px 3px 1px rgba(0, 0, 0, 0.15);\n",
              "      filter: drop-shadow(0px 1px 2px rgba(0, 0, 0, 0.3));\n",
              "      fill: #FFFFFF;\n",
              "    }\n",
              "  </style>\n",
              "\n",
              "      <script>\n",
              "        const buttonEl =\n",
              "          document.querySelector('#df-593d63ce-6511-4b43-98f0-a1acca4452e2 button.colab-df-convert');\n",
              "        buttonEl.style.display =\n",
              "          google.colab.kernel.accessAllowed ? 'block' : 'none';\n",
              "\n",
              "        async function convertToInteractive(key) {\n",
              "          const element = document.querySelector('#df-593d63ce-6511-4b43-98f0-a1acca4452e2');\n",
              "          const dataTable =\n",
              "            await google.colab.kernel.invokeFunction('convertToInteractive',\n",
              "                                                     [key], {});\n",
              "          if (!dataTable) return;\n",
              "\n",
              "          const docLinkHtml = 'Like what you see? Visit the ' +\n",
              "            '<a target=\"_blank\" href=https://colab.research.google.com/notebooks/data_table.ipynb>data table notebook</a>'\n",
              "            + ' to learn more about interactive tables.';\n",
              "          element.innerHTML = '';\n",
              "          dataTable['output_type'] = 'display_data';\n",
              "          await google.colab.output.renderOutput(dataTable, element);\n",
              "          const docLink = document.createElement('div');\n",
              "          docLink.innerHTML = docLinkHtml;\n",
              "          element.appendChild(docLink);\n",
              "        }\n",
              "      </script>\n",
              "    </div>\n",
              "  </div>\n"
            ]
          },
          "metadata": {},
          "execution_count": 78
        }
      ]
    },
    {
      "cell_type": "code",
      "source": [
        "# Calculate the average of the 'similarity' column when 'itemsets' length is greater than 1\n",
        "average_similarity_greater_than_1 = frequent_items_with_support.loc[\n",
        "    frequent_items_with_support['itemsets'].apply(len) > 1, 'similarity'\n",
        "].mean()\n",
        "\n",
        "print(f\"The average similarity for itemsets with length greater than 1 is: {average_similarity_greater_than_1}\")\n",
        "print('')"
      ],
      "metadata": {
        "colab": {
          "base_uri": "https://localhost:8080/"
        },
        "id": "ILh84n_g0esN",
        "outputId": "949d9bcb-98de-4c8b-c137-d0ef3c23e780"
      },
      "execution_count": null,
      "outputs": [
        {
          "output_type": "stream",
          "name": "stdout",
          "text": [
            "The average similarity for itemsets with length greater than 1 is: 0.9101046928207585\n",
            "\n"
          ]
        },
        {
          "output_type": "stream",
          "name": "stderr",
          "text": [
            "/usr/local/lib/python3.10/dist-packages/ipykernel/ipkernel.py:283: DeprecationWarning: `should_run_async` will not call `transform_cell` automatically in the future. Please pass the result to `transformed_cell` argument and any exception that happen during thetransform in `preprocessing_exc_tuple` in IPython 7.17 and above.\n",
            "  and should_run_async(code)\n"
          ]
        }
      ]
    },
    {
      "cell_type": "code",
      "source": [
        "# Calculate the average of the 'similarity' column when 'itemsets' length is greater than 1\n",
        "average_similarity_greater_than_1 = frequent_items_with_support.loc[\n",
        "    frequent_items_with_support['itemsets'].apply(len) > 1, 'similarity'\n",
        "].min()\n",
        "\n",
        "print(f\"The min similarity for itemsets with length greater than 1 is: {average_similarity_greater_than_1}\")\n",
        "print('')"
      ],
      "metadata": {
        "colab": {
          "base_uri": "https://localhost:8080/"
        },
        "id": "w1_mNmGl1A37",
        "outputId": "2074c6fa-3d78-41e7-db42-f7313fe8c902"
      },
      "execution_count": null,
      "outputs": [
        {
          "output_type": "stream",
          "name": "stdout",
          "text": [
            "The min similarity for itemsets with length greater than 1 is: 0.05907958193106244\n",
            "\n"
          ]
        },
        {
          "output_type": "stream",
          "name": "stderr",
          "text": [
            "/usr/local/lib/python3.10/dist-packages/ipykernel/ipkernel.py:283: DeprecationWarning: `should_run_async` will not call `transform_cell` automatically in the future. Please pass the result to `transformed_cell` argument and any exception that happen during thetransform in `preprocessing_exc_tuple` in IPython 7.17 and above.\n",
            "  and should_run_async(code)\n"
          ]
        }
      ]
    },
    {
      "cell_type": "code",
      "source": [
        "# Calculate the average of the 'similarity' column when 'itemsets' length is greater than 1\n",
        "average_similarity_greater_than_1 = frequent_items_with_support.loc[\n",
        "    frequent_items_with_support['itemsets'].apply(len) > 1, 'similarity'\n",
        "].max()\n",
        "\n",
        "print(f\"The max similarity for itemsets with length greater than 1 is: {average_similarity_greater_than_1}\")\n",
        "print('')"
      ],
      "metadata": {
        "colab": {
          "base_uri": "https://localhost:8080/"
        },
        "id": "yMINd6RW1HUZ",
        "outputId": "763ec8f4-b431-40d5-c404-c793286b940c"
      },
      "execution_count": null,
      "outputs": [
        {
          "output_type": "stream",
          "name": "stdout",
          "text": [
            "The max similarity for itemsets with length greater than 1 is: 2.7219275312407887\n",
            "\n"
          ]
        },
        {
          "output_type": "stream",
          "name": "stderr",
          "text": [
            "/usr/local/lib/python3.10/dist-packages/ipykernel/ipkernel.py:283: DeprecationWarning: `should_run_async` will not call `transform_cell` automatically in the future. Please pass the result to `transformed_cell` argument and any exception that happen during thetransform in `preprocessing_exc_tuple` in IPython 7.17 and above.\n",
            "  and should_run_async(code)\n"
          ]
        }
      ]
    },
    {
      "cell_type": "code",
      "source": [
        "# Calculate the average of the 'similarity' column when 'itemsets' length is greater than 1\n",
        "average_similarity_greater_than_1 = frequent_items_with_support.loc[\n",
        "    frequent_items_with_support['itemsets'].apply(len) > 1, 'similarity'\n",
        "].mode()\n",
        "\n",
        "print(f\"The mode of similarity for itemsets with length greater than 1 is: {average_similarity_greater_than_1}\")\n",
        "print('')"
      ],
      "metadata": {
        "colab": {
          "base_uri": "https://localhost:8080/"
        },
        "id": "y7K8akrg1MnE",
        "outputId": "064417d3-26b8-4c3e-efc1-89891aeff926"
      },
      "execution_count": null,
      "outputs": [
        {
          "output_type": "stream",
          "name": "stdout",
          "text": [
            "The mode of similarity for itemsets with length greater than 1 is: 0       0.059080\n",
            "1       0.060834\n",
            "2       0.069447\n",
            "3       0.077303\n",
            "4       0.078795\n",
            "          ...   \n",
            "1030    2.670019\n",
            "1031    2.675795\n",
            "1032    2.714355\n",
            "1033    2.714656\n",
            "1034    2.721928\n",
            "Name: similarity, Length: 1035, dtype: float64\n",
            "\n"
          ]
        },
        {
          "output_type": "stream",
          "name": "stderr",
          "text": [
            "/usr/local/lib/python3.10/dist-packages/ipykernel/ipkernel.py:283: DeprecationWarning: `should_run_async` will not call `transform_cell` automatically in the future. Please pass the result to `transformed_cell` argument and any exception that happen during thetransform in `preprocessing_exc_tuple` in IPython 7.17 and above.\n",
            "  and should_run_async(code)\n"
          ]
        }
      ]
    },
    {
      "cell_type": "code",
      "source": [
        "import matplotlib.pyplot as plt\n",
        "import numpy as np\n",
        "\n",
        "# Assuming you have already calculated the 'similarity' column as shown in the previous code.\n",
        "\n",
        "# Calculate statistics\n",
        "mean_similarity = frequent_items_with_support['similarity'].mean()\n",
        "mode_similarity = frequent_items_with_support['similarity'].mode().iloc[0]\n",
        "min_similarity = frequent_items_with_support['similarity'].min()\n",
        "max_similarity = frequent_items_with_support['similarity'].max()\n",
        "\n",
        "# Plot the distribution of the 'similarity' column\n",
        "plt.figure(figsize=(8, 6))\n",
        "plt.hist(frequent_items_with_support['similarity'], bins=30, color='skyblue', edgecolor='black')\n",
        "plt.axvline(mean_similarity, color='green', linestyle='dashed', linewidth=2, label='Mean')\n",
        "plt.axvline(mode_similarity, color='red', linestyle='dashed', linewidth=2, label='Mode')\n",
        "plt.axvline(min_similarity, color='purple', linestyle='dashed', linewidth=2, label='Min')\n",
        "plt.axvline(max_similarity, color='orange', linestyle='dashed', linewidth=2, label='Max')\n",
        "plt.xlabel('Similarity')\n",
        "plt.ylabel('Frequency')\n",
        "plt.title('Distribution of Similarity')\n",
        "plt.legend()\n",
        "plt.grid(True)\n",
        "\n",
        "# Add text annotations for the statistics\n",
        "plt.text(mean_similarity, plt.ylim()[1] * 0.50, f\"Mean: {mean_similarity:.2f}\", color='green', ha='right')\n",
        "plt.text(mode_similarity, plt.ylim()[1] * 0.50, f\"Mode: {mode_similarity:.2f}\", color='red', ha='left')\n",
        "plt.text(min_similarity, plt.ylim()[1] * 0.50, f\"Min: {min_similarity:.2f}\", color='purple', ha='left')\n",
        "plt.text(max_similarity, plt.ylim()[1] * 0.50, f\"Max: {max_similarity:.2f}\", color='orange', ha='right')\n",
        "\n",
        "plt.show()\n"
      ],
      "metadata": {
        "colab": {
          "base_uri": "https://localhost:8080/",
          "height": 619
        },
        "id": "8u3YTzsP1dQB",
        "outputId": "d7be594a-8b0d-447e-e4d1-476d12e17fe9"
      },
      "execution_count": null,
      "outputs": [
        {
          "output_type": "stream",
          "name": "stderr",
          "text": [
            "/usr/local/lib/python3.10/dist-packages/ipykernel/ipkernel.py:283: DeprecationWarning: `should_run_async` will not call `transform_cell` automatically in the future. Please pass the result to `transformed_cell` argument and any exception that happen during thetransform in `preprocessing_exc_tuple` in IPython 7.17 and above.\n",
            "  and should_run_async(code)\n"
          ]
        },
        {
          "output_type": "display_data",
          "data": {
            "text/plain": [
              "<Figure size 800x600 with 1 Axes>"
            ],
            "image/png": "[encoded data removed]"
          },
          "metadata": {}
        }
      ]
    },
    {
      "cell_type": "code",
      "source": [
        "import matplotlib.pyplot as plt\n",
        "import numpy as np\n",
        "\n",
        "# Assuming you have already calculated the 'similarity' column as shown in the previous code.\n",
        "\n",
        "# Calculate statistics\n",
        "mean_similarity = frequent_items_with_support['similarity'].mean()\n",
        "mode_similarity = frequent_items_with_support['similarity'].mode().iloc[0]\n",
        "min_similarity = frequent_items_with_support['similarity'].min()\n",
        "max_similarity = frequent_items_with_support['similarity'].max()\n",
        "\n",
        "# Plot the distribution of the 'similarity' column\n",
        "plt.figure(figsize=(14, 6))\n",
        "n, bins, patches = plt.hist(frequent_items_with_support['similarity'], bins=30, color='skyblue', edgecolor='black')\n",
        "plt.xlabel('Similarity')\n",
        "plt.ylabel('Frequency')\n",
        "plt.title('Distribution of Similarity')\n",
        "plt.grid(True)\n",
        "\n",
        "# Add text annotations for the statistics at the middle of the bars\n",
        "for patch, value in zip(patches, n):\n",
        "    height = patch.get_height()\n",
        "    width = patch.get_x() + patch.get_width() / 2\n",
        "    plt.text(width, height / 2, f\"{int(value)}\", ha='center', va='center')\n",
        "\n",
        "# Add vertical lines for the statistics\n",
        "plt.axvline(mean_similarity, color='red', linestyle='dashed', linewidth=2, label='Mean')\n",
        "plt.axvline(mode_similarity, color='green', linestyle='dashed', linewidth=2, label='Mode')\n",
        "plt.axvline(min_similarity, color='purple', linestyle='dashed', linewidth=2, label='Min')\n",
        "plt.axvline(max_similarity, color='orange', linestyle='dashed', linewidth=2, label='Max')\n",
        "\n",
        "# Add text annotations for the statistics\n",
        "plt.text(mean_similarity, plt.ylim()[1] * 0.50, f\"Mean: {mean_similarity:.2f}\", color='red', ha='right')\n",
        "plt.text(mode_similarity, plt.ylim()[1] * 0.50, f\"Mode: {mode_similarity:.2f}\", color='green', ha='left')\n",
        "plt.text(min_similarity, plt.ylim()[1] * 0.50, f\"Min: {min_similarity:.2f}\", color='purple', ha='left')\n",
        "plt.text(max_similarity, plt.ylim()[1] * 0.50, f\"Max: {max_similarity:.2f}\", color='orange', ha='right')\n",
        "\n",
        "plt.legend()\n",
        "plt.show()\n"
      ],
      "metadata": {
        "colab": {
          "base_uri": "https://localhost:8080/",
          "height": 438
        },
        "id": "xPc3esMH1q3S",
        "outputId": "ec450e6c-6395-445d-b50c-a314d875924d"
      },
      "execution_count": null,
      "outputs": [
        {
          "output_type": "stream",
          "name": "stderr",
          "text": [
            "/usr/local/lib/python3.10/dist-packages/ipykernel/ipkernel.py:283: DeprecationWarning: `should_run_async` will not call `transform_cell` automatically in the future. Please pass the result to `transformed_cell` argument and any exception that happen during thetransform in `preprocessing_exc_tuple` in IPython 7.17 and above.\n",
            "  and should_run_async(code)\n"
          ]
        },
        {
          "output_type": "display_data",
          "data": {
            "text/plain": [
              "<Figure size 1400x600 with 1 Axes>"
            ],
            "image/png": "[encoded data removed]"
          },
          "metadata": {}
        }
      ]
    },
    {
      "cell_type": "code",
      "source": [
        "# Set the similarity threshold\n",
        "similarity_threshold = 1  # You can adjust this threshold as needed\n",
        "\n",
        "# Filter rows based on the similarity threshold\n",
        "filtered_items_with_support = frequent_items_with_support[frequent_items_with_support['similarity'] > similarity_threshold]\n",
        "filtered_items_with_support.head()"
      ],
      "metadata": {
        "colab": {
          "base_uri": "https://localhost:8080/",
          "height": 261
        },
        "id": "2iZ3Z36L17Hl",
        "outputId": "ca17b724-781f-4eff-b3ec-1ae8744899fd"
      },
      "execution_count": null,
      "outputs": [
        {
          "output_type": "stream",
          "name": "stderr",
          "text": [
            "/usr/local/lib/python3.10/dist-packages/ipykernel/ipkernel.py:283: DeprecationWarning: `should_run_async` will not call `transform_cell` automatically in the future. Please pass the result to `transformed_cell` argument and any exception that happen during thetransform in `preprocessing_exc_tuple` in IPython 7.17 and above.\n",
            "  and should_run_async(code)\n"
          ]
        },
        {
          "output_type": "execute_result",
          "data": {
            "text/plain": [
              "             itemsets   support  length  similarity\n",
              "1253   (89805, 64911)  0.003689       2    1.606705\n",
              "1127   (35729, 89805)  0.003373       2    1.719965\n",
              "1307  (89805, 110903)  0.003057       2    1.758686\n",
              "924    (89805, 12751)  0.002424       2    1.672992\n",
              "910    (89805, 11991)  0.002108       2    1.121992"
            ],
            "text/html": [
              "\n",
              "\n",
              "  <div id=\"df-0f9b664a-0144-4696-af5d-5c4d21d76a53\">\n",
              "    <div class=\"colab-df-container\">\n",
              "      <div>\n",
              "<style scoped>\n",
              "    .dataframe tbody tr th:only-of-type {\n",
              "        vertical-align: middle;\n",
              "    }\n",
              "\n",
              "    .dataframe tbody tr th {\n",
              "        vertical-align: top;\n",
              "    }\n",
              "\n",
              "    .dataframe thead th {\n",
              "        text-align: right;\n",
              "    }\n",
              "</style>\n",
              "<table border=\"1\" class=\"dataframe\">\n",
              "  <thead>\n",
              "    <tr style=\"text-align: right;\">\n",
              "      <th></th>\n",
              "      <th>itemsets</th>\n",
              "      <th>support</th>\n",
              "      <th>length</th>\n",
              "      <th>similarity</th>\n",
              "    </tr>\n",
              "  </thead>\n",
              "  <tbody>\n",
              "    <tr>\n",
              "      <th>1253</th>\n",
              "      <td>(89805, 64911)</td>\n",
              "      <td>0.003689</td>\n",
              "      <td>2</td>\n",
              "      <td>1.606705</td>\n",
              "    </tr>\n",
              "    <tr>\n",
              "      <th>1127</th>\n",
              "      <td>(35729, 89805)</td>\n",
              "      <td>0.003373</td>\n",
              "      <td>2</td>\n",
              "      <td>1.719965</td>\n",
              "    </tr>\n",
              "    <tr>\n",
              "      <th>1307</th>\n",
              "      <td>(89805, 110903)</td>\n",
              "      <td>0.003057</td>\n",
              "      <td>2</td>\n",
              "      <td>1.758686</td>\n",
              "    </tr>\n",
              "    <tr>\n",
              "      <th>924</th>\n",
              "      <td>(89805, 12751)</td>\n",
              "      <td>0.002424</td>\n",
              "      <td>2</td>\n",
              "      <td>1.672992</td>\n",
              "    </tr>\n",
              "    <tr>\n",
              "      <th>910</th>\n",
              "      <td>(89805, 11991)</td>\n",
              "      <td>0.002108</td>\n",
              "      <td>2</td>\n",
              "      <td>1.121992</td>\n",
              "    </tr>\n",
              "  </tbody>\n",
              "</table>\n",
              "</div>\n",
              "      <button class=\"colab-df-convert\" onclick=\"convertToInteractive('df-0f9b664a-0144-4696-af5d-5c4d21d76a53')\"\n",
              "              title=\"Convert this dataframe to an interactive table.\"\n",
              "              style=\"display:none;\">\n",
              "\n",
              "  <svg xmlns=\"http://www.w3.org/2000/svg\" height=\"24px\"viewBox=\"0 0 24 24\"\n",
              "       width=\"24px\">\n",
              "    <path d=\"M0 0h24v24H0V0z\" fill=\"none\"/>\n",
              "    <path d=\"M18.56 5.44l.94 2.06.94-2.06 2.06-.94-2.06-.94-.94-2.06-.94 2.06-2.06.94zm-11 1L8.5 8.5l.94-2.06 2.06-.94-2.06-.94L8.5 2.5l-.94 2.06-2.06.94zm10 10l.94 2.06.94-2.06 2.06-.94-2.06-.94-.94-2.06-.94 2.06-2.06.94z\"/><path d=\"M17.41 7.96l-1.37-1.37c-.4-.4-.92-.59-1.43-.59-.52 0-1.04.2-1.43.59L10.3 9.45l-7.72 7.72c-.78.78-.78 2.05 0 2.83L4 21.41c.39.39.9.59 1.41.59.51 0 1.02-.2 1.41-.59l7.78-7.78 2.81-2.81c.8-.78.8-2.07 0-2.86zM5.41 20L4 18.59l7.72-7.72 1.47 1.35L5.41 20z\"/>\n",
              "  </svg>\n",
              "      </button>\n",
              "\n",
              "\n",
              "\n",
              "    <div id=\"df-c21269f8-9b8b-4619-bbee-e0ec47c05321\">\n",
              "      <button class=\"colab-df-quickchart\" onclick=\"quickchart('df-c21269f8-9b8b-4619-bbee-e0ec47c05321')\"\n",
              "              title=\"Suggest charts.\"\n",
              "              style=\"display:none;\">\n",
              "\n",
              "<svg xmlns=\"http://www.w3.org/2000/svg\" height=\"24px\"viewBox=\"0 0 24 24\"\n",
              "     width=\"24px\">\n",
              "    <g>\n",
              "        <path d=\"M19 3H5c-1.1 0-2 .9-2 2v14c0 1.1.9 2 2 2h14c1.1 0 2-.9 2-2V5c0-1.1-.9-2-2-2zM9 17H7v-7h2v7zm4 0h-2V7h2v10zm4 0h-2v-4h2v4z\"/>\n",
              "    </g>\n",
              "</svg>\n",
              "      </button>\n",
              "    </div>\n",
              "\n",
              "<style>\n",
              "  .colab-df-quickchart {\n",
              "    background-color: #E8F0FE;\n",
              "    border: none;\n",
              "    border-radius: 50%;\n",
              "    cursor: pointer;\n",
              "    display: none;\n",
              "    fill: #1967D2;\n",
              "    height: 32px;\n",
              "    padding: 0 0 0 0;\n",
              "    width: 32px;\n",
              "  }\n",
              "\n",
              "  .colab-df-quickchart:hover {\n",
              "    background-color: #E2EBFA;\n",
              "    box-shadow: 0px 1px 2px rgba(60, 64, 67, 0.3), 0px 1px 3px 1px rgba(60, 64, 67, 0.15);\n",
              "    fill: #174EA6;\n",
              "  }\n",
              "\n",
              "  [theme=dark] .colab-df-quickchart {\n",
              "    background-color: #3B4455;\n",
              "    fill: #D2E3FC;\n",
              "  }\n",
              "\n",
              "  [theme=dark] .colab-df-quickchart:hover {\n",
              "    background-color: #434B5C;\n",
              "    box-shadow: 0px 1px 3px 1px rgba(0, 0, 0, 0.15);\n",
              "    filter: drop-shadow(0px 1px 2px rgba(0, 0, 0, 0.3));\n",
              "    fill: #FFFFFF;\n",
              "  }\n",
              "</style>\n",
              "\n",
              "    <script>\n",
              "      async function quickchart(key) {\n",
              "        const containerElement = document.querySelector('#' + key);\n",
              "        const charts = await google.colab.kernel.invokeFunction(\n",
              "            'suggestCharts', [key], {});\n",
              "      }\n",
              "    </script>\n",
              "\n",
              "      <script>\n",
              "\n",
              "function displayQuickchartButton(domScope) {\n",
              "  let quickchartButtonEl =\n",
              "    domScope.querySelector('#df-c21269f8-9b8b-4619-bbee-e0ec47c05321 button.colab-df-quickchart');\n",
              "  quickchartButtonEl.style.display =\n",
              "    google.colab.kernel.accessAllowed ? 'block' : 'none';\n",
              "}\n",
              "\n",
              "        displayQuickchartButton(document);\n",
              "      </script>\n",
              "      <style>\n",
              "    .colab-df-container {\n",
              "      display:flex;\n",
              "      flex-wrap:wrap;\n",
              "      gap: 12px;\n",
              "    }\n",
              "\n",
              "    .colab-df-convert {\n",
              "      background-color: #E8F0FE;\n",
              "      border: none;\n",
              "      border-radius: 50%;\n",
              "      cursor: pointer;\n",
              "      display: none;\n",
              "      fill: #1967D2;\n",
              "      height: 32px;\n",
              "      padding: 0 0 0 0;\n",
              "      width: 32px;\n",
              "    }\n",
              "\n",
              "    .colab-df-convert:hover {\n",
              "      background-color: #E2EBFA;\n",
              "      box-shadow: 0px 1px 2px rgba(60, 64, 67, 0.3), 0px 1px 3px 1px rgba(60, 64, 67, 0.15);\n",
              "      fill: #174EA6;\n",
              "    }\n",
              "\n",
              "    [theme=dark] .colab-df-convert {\n",
              "      background-color: #3B4455;\n",
              "      fill: #D2E3FC;\n",
              "    }\n",
              "\n",
              "    [theme=dark] .colab-df-convert:hover {\n",
              "      background-color: #434B5C;\n",
              "      box-shadow: 0px 1px 3px 1px rgba(0, 0, 0, 0.15);\n",
              "      filter: drop-shadow(0px 1px 2px rgba(0, 0, 0, 0.3));\n",
              "      fill: #FFFFFF;\n",
              "    }\n",
              "  </style>\n",
              "\n",
              "      <script>\n",
              "        const buttonEl =\n",
              "          document.querySelector('#df-0f9b664a-0144-4696-af5d-5c4d21d76a53 button.colab-df-convert');\n",
              "        buttonEl.style.display =\n",
              "          google.colab.kernel.accessAllowed ? 'block' : 'none';\n",
              "\n",
              "        async function convertToInteractive(key) {\n",
              "          const element = document.querySelector('#df-0f9b664a-0144-4696-af5d-5c4d21d76a53');\n",
              "          const dataTable =\n",
              "            await google.colab.kernel.invokeFunction('convertToInteractive',\n",
              "                                                     [key], {});\n",
              "          if (!dataTable) return;\n",
              "\n",
              "          const docLinkHtml = 'Like what you see? Visit the ' +\n",
              "            '<a target=\"_blank\" href=https://colab.research.google.com/notebooks/data_table.ipynb>data table notebook</a>'\n",
              "            + ' to learn more about interactive tables.';\n",
              "          element.innerHTML = '';\n",
              "          dataTable['output_type'] = 'display_data';\n",
              "          await google.colab.output.renderOutput(dataTable, element);\n",
              "          const docLink = document.createElement('div');\n",
              "          docLink.innerHTML = docLinkHtml;\n",
              "          element.appendChild(docLink);\n",
              "        }\n",
              "      </script>\n",
              "    </div>\n",
              "  </div>\n"
            ]
          },
          "metadata": {},
          "execution_count": 97
        }
      ]
    },
    {
      "cell_type": "code",
      "source": [
        "filtered_items_with_support.count()"
      ],
      "metadata": {
        "colab": {
          "base_uri": "https://localhost:8080/"
        },
        "id": "FZrxWetQ6Fyv",
        "outputId": "1623f38f-c4f9-4c7c-cb07-fe0e06884510"
      },
      "execution_count": null,
      "outputs": [
        {
          "output_type": "stream",
          "name": "stderr",
          "text": [
            "/usr/local/lib/python3.10/dist-packages/ipykernel/ipkernel.py:283: DeprecationWarning: `should_run_async` will not call `transform_cell` automatically in the future. Please pass the result to `transformed_cell` argument and any exception that happen during thetransform in `preprocessing_exc_tuple` in IPython 7.17 and above.\n",
            "  and should_run_async(code)\n"
          ]
        },
        {
          "output_type": "execute_result",
          "data": {
            "text/plain": [
              "itemsets      394\n",
              "support       394\n",
              "length        394\n",
              "similarity    394\n",
              "dtype: int64"
            ]
          },
          "metadata": {},
          "execution_count": 98
        }
      ]
    },
    {
      "cell_type": "code",
      "source": [],
      "metadata": {
        "id": "vtWis2li6NxB"
      },
      "execution_count": null,
      "outputs": []
    }
  ]
}