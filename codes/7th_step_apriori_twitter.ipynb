{
  "nbformat": 4,
  "nbformat_minor": 0,
  "metadata": {
    "colab": {
      "provenance": []
    },
    "kernelspec": {
      "name": "python3",
      "display_name": "Python 3"
    },
    "language_info": {
      "name": "python"
    }
  },
  "cells": [
    {
      "cell_type": "code",
      "execution_count": null,
      "metadata": {
        "colab": {
          "base_uri": "https://localhost:8080/"
        },
        "id": "cUTAz3KWlQ6H",
        "outputId": "4ea9b25e-168f-4f81-ca2f-286597697858"
      },
      "outputs": [
        {
          "output_type": "stream",
          "name": "stdout",
          "text": [
            "Mounted at /content/drive\n"
          ]
        }
      ],
      "source": [
        "from google.colab import drive\n",
        "import pandas as pd\n",
        "drive.mount('/content/drive')\n"
      ]
    },
    {
      "cell_type": "code",
      "source": [
        "import pandas as pd\n",
        "\n",
        "# Replace the path with the correct one if needed\n",
        "file_path = '/content/drive/MyDrive/Subgraph.csv'\n",
        "\n",
        "# Define column names\n",
        "\n",
        "# Read the file into a DataFrame\n",
        "DF = pd.read_csv(file_path)\n",
        "\n",
        "# Display the DataFrame\n",
        "DF.head()"
      ],
      "metadata": {
        "colab": {
          "base_uri": "https://localhost:8080/",
          "height": 206
        },
        "id": "L65KPIUhlaNK",
        "outputId": "b4c8baf3-2601-43cf-9b48-efdcee3e0750"
      },
      "execution_count": null,
      "outputs": [
        {
          "output_type": "execute_result",
          "data": {
            "text/plain": [
              "   ID1  ID2\n",
              "0    1    2\n",
              "1    1    3\n",
              "2    1    4\n",
              "3    1    5\n",
              "4    1    6"
            ],
            "text/html": [
              "\n",
              "\n",
              "  <div id=\"df-785cab6b-661a-4d03-9e3b-dc0323171eb3\">\n",
              "    <div class=\"colab-df-container\">\n",
              "      <div>\n",
              "<style scoped>\n",
              "    .dataframe tbody tr th:only-of-type {\n",
              "        vertical-align: middle;\n",
              "    }\n",
              "\n",
              "    .dataframe tbody tr th {\n",
              "        vertical-align: top;\n",
              "    }\n",
              "\n",
              "    .dataframe thead th {\n",
              "        text-align: right;\n",
              "    }\n",
              "</style>\n",
              "<table border=\"1\" class=\"dataframe\">\n",
              "  <thead>\n",
              "    <tr style=\"text-align: right;\">\n",
              "      <th></th>\n",
              "      <th>ID1</th>\n",
              "      <th>ID2</th>\n",
              "    </tr>\n",
              "  </thead>\n",
              "  <tbody>\n",
              "    <tr>\n",
              "      <th>0</th>\n",
              "      <td>1</td>\n",
              "      <td>2</td>\n",
              "    </tr>\n",
              "    <tr>\n",
              "      <th>1</th>\n",
              "      <td>1</td>\n",
              "      <td>3</td>\n",
              "    </tr>\n",
              "    <tr>\n",
              "      <th>2</th>\n",
              "      <td>1</td>\n",
              "      <td>4</td>\n",
              "    </tr>\n",
              "    <tr>\n",
              "      <th>3</th>\n",
              "      <td>1</td>\n",
              "      <td>5</td>\n",
              "    </tr>\n",
              "    <tr>\n",
              "      <th>4</th>\n",
              "      <td>1</td>\n",
              "      <td>6</td>\n",
              "    </tr>\n",
              "  </tbody>\n",
              "</table>\n",
              "</div>\n",
              "      <button class=\"colab-df-convert\" onclick=\"convertToInteractive('df-785cab6b-661a-4d03-9e3b-dc0323171eb3')\"\n",
              "              title=\"Convert this dataframe to an interactive table.\"\n",
              "              style=\"display:none;\">\n",
              "\n",
              "  <svg xmlns=\"http://www.w3.org/2000/svg\" height=\"24px\"viewBox=\"0 0 24 24\"\n",
              "       width=\"24px\">\n",
              "    <path d=\"M0 0h24v24H0V0z\" fill=\"none\"/>\n",
              "    <path d=\"M18.56 5.44l.94 2.06.94-2.06 2.06-.94-2.06-.94-.94-2.06-.94 2.06-2.06.94zm-11 1L8.5 8.5l.94-2.06 2.06-.94-2.06-.94L8.5 2.5l-.94 2.06-2.06.94zm10 10l.94 2.06.94-2.06 2.06-.94-2.06-.94-.94-2.06-.94 2.06-2.06.94z\"/><path d=\"M17.41 7.96l-1.37-1.37c-.4-.4-.92-.59-1.43-.59-.52 0-1.04.2-1.43.59L10.3 9.45l-7.72 7.72c-.78.78-.78 2.05 0 2.83L4 21.41c.39.39.9.59 1.41.59.51 0 1.02-.2 1.41-.59l7.78-7.78 2.81-2.81c.8-.78.8-2.07 0-2.86zM5.41 20L4 18.59l7.72-7.72 1.47 1.35L5.41 20z\"/>\n",
              "  </svg>\n",
              "      </button>\n",
              "\n",
              "\n",
              "\n",
              "    <div id=\"df-509b0b30-2893-4fd1-86d4-f4d9e0079943\">\n",
              "      <button class=\"colab-df-quickchart\" onclick=\"quickchart('df-509b0b30-2893-4fd1-86d4-f4d9e0079943')\"\n",
              "              title=\"Suggest charts.\"\n",
              "              style=\"display:none;\">\n",
              "\n",
              "<svg xmlns=\"http://www.w3.org/2000/svg\" height=\"24px\"viewBox=\"0 0 24 24\"\n",
              "     width=\"24px\">\n",
              "    <g>\n",
              "        <path d=\"M19 3H5c-1.1 0-2 .9-2 2v14c0 1.1.9 2 2 2h14c1.1 0 2-.9 2-2V5c0-1.1-.9-2-2-2zM9 17H7v-7h2v7zm4 0h-2V7h2v10zm4 0h-2v-4h2v4z\"/>\n",
              "    </g>\n",
              "</svg>\n",
              "      </button>\n",
              "    </div>\n",
              "\n",
              "<style>\n",
              "  .colab-df-quickchart {\n",
              "    background-color: #E8F0FE;\n",
              "    border: none;\n",
              "    border-radius: 50%;\n",
              "    cursor: pointer;\n",
              "    display: none;\n",
              "    fill: #1967D2;\n",
              "    height: 32px;\n",
              "    padding: 0 0 0 0;\n",
              "    width: 32px;\n",
              "  }\n",
              "\n",
              "  .colab-df-quickchart:hover {\n",
              "    background-color: #E2EBFA;\n",
              "    box-shadow: 0px 1px 2px rgba(60, 64, 67, 0.3), 0px 1px 3px 1px rgba(60, 64, 67, 0.15);\n",
              "    fill: #174EA6;\n",
              "  }\n",
              "\n",
              "  [theme=dark] .colab-df-quickchart {\n",
              "    background-color: #3B4455;\n",
              "    fill: #D2E3FC;\n",
              "  }\n",
              "\n",
              "  [theme=dark] .colab-df-quickchart:hover {\n",
              "    background-color: #434B5C;\n",
              "    box-shadow: 0px 1px 3px 1px rgba(0, 0, 0, 0.15);\n",
              "    filter: drop-shadow(0px 1px 2px rgba(0, 0, 0, 0.3));\n",
              "    fill: #FFFFFF;\n",
              "  }\n",
              "</style>\n",
              "\n",
              "    <script>\n",
              "      async function quickchart(key) {\n",
              "        const containerElement = document.querySelector('#' + key);\n",
              "        const charts = await google.colab.kernel.invokeFunction(\n",
              "            'suggestCharts', [key], {});\n",
              "      }\n",
              "    </script>\n",
              "\n",
              "      <script>\n",
              "\n",
              "function displayQuickchartButton(domScope) {\n",
              "  let quickchartButtonEl =\n",
              "    domScope.querySelector('#df-509b0b30-2893-4fd1-86d4-f4d9e0079943 button.colab-df-quickchart');\n",
              "  quickchartButtonEl.style.display =\n",
              "    google.colab.kernel.accessAllowed ? 'block' : 'none';\n",
              "}\n",
              "\n",
              "        displayQuickchartButton(document);\n",
              "      </script>\n",
              "      <style>\n",
              "    .colab-df-container {\n",
              "      display:flex;\n",
              "      flex-wrap:wrap;\n",
              "      gap: 12px;\n",
              "    }\n",
              "\n",
              "    .colab-df-convert {\n",
              "      background-color: #E8F0FE;\n",
              "      border: none;\n",
              "      border-radius: 50%;\n",
              "      cursor: pointer;\n",
              "      display: none;\n",
              "      fill: #1967D2;\n",
              "      height: 32px;\n",
              "      padding: 0 0 0 0;\n",
              "      width: 32px;\n",
              "    }\n",
              "\n",
              "    .colab-df-convert:hover {\n",
              "      background-color: #E2EBFA;\n",
              "      box-shadow: 0px 1px 2px rgba(60, 64, 67, 0.3), 0px 1px 3px 1px rgba(60, 64, 67, 0.15);\n",
              "      fill: #174EA6;\n",
              "    }\n",
              "\n",
              "    [theme=dark] .colab-df-convert {\n",
              "      background-color: #3B4455;\n",
              "      fill: #D2E3FC;\n",
              "    }\n",
              "\n",
              "    [theme=dark] .colab-df-convert:hover {\n",
              "      background-color: #434B5C;\n",
              "      box-shadow: 0px 1px 3px 1px rgba(0, 0, 0, 0.15);\n",
              "      filter: drop-shadow(0px 1px 2px rgba(0, 0, 0, 0.3));\n",
              "      fill: #FFFFFF;\n",
              "    }\n",
              "  </style>\n",
              "\n",
              "      <script>\n",
              "        const buttonEl =\n",
              "          document.querySelector('#df-785cab6b-661a-4d03-9e3b-dc0323171eb3 button.colab-df-convert');\n",
              "        buttonEl.style.display =\n",
              "          google.colab.kernel.accessAllowed ? 'block' : 'none';\n",
              "\n",
              "        async function convertToInteractive(key) {\n",
              "          const element = document.querySelector('#df-785cab6b-661a-4d03-9e3b-dc0323171eb3');\n",
              "          const dataTable =\n",
              "            await google.colab.kernel.invokeFunction('convertToInteractive',\n",
              "                                                     [key], {});\n",
              "          if (!dataTable) return;\n",
              "\n",
              "          const docLinkHtml = 'Like what you see? Visit the ' +\n",
              "            '<a target=\"_blank\" href=https://colab.research.google.com/notebooks/data_table.ipynb>data table notebook</a>'\n",
              "            + ' to learn more about interactive tables.';\n",
              "          element.innerHTML = '';\n",
              "          dataTable['output_type'] = 'display_data';\n",
              "          await google.colab.output.renderOutput(dataTable, element);\n",
              "          const docLink = document.createElement('div');\n",
              "          docLink.innerHTML = docLinkHtml;\n",
              "          element.appendChild(docLink);\n",
              "        }\n",
              "      </script>\n",
              "    </div>\n",
              "  </div>\n"
            ]
          },
          "metadata": {},
          "execution_count": 2
        }
      ]
    },
    {
      "cell_type": "code",
      "source": [
        "from google.colab import files\n",
        "files.upload()  # Select and upload the kaggle.json file"
      ],
      "metadata": {
        "colab": {
          "base_uri": "https://localhost:8080/",
          "height": 90
        },
        "id": "mJWOoIjplcip",
        "outputId": "82fe7c07-7e25-454f-91cf-3074c309c1e8"
      },
      "execution_count": null,
      "outputs": [
        {
          "output_type": "display_data",
          "data": {
            "text/plain": [
              "<IPython.core.display.HTML object>"
            ],
            "text/html": [
              "\n",
              "     <input type=\"file\" id=\"files-1e86cac9-a30d-4e8c-a820-69ebdeb90f0a\" name=\"files[]\" multiple disabled\n",
              "        style=\"border:none\" />\n",
              "     <output id=\"result-1e86cac9-a30d-4e8c-a820-69ebdeb90f0a\">\n",
              "      Upload widget is only available when the cell has been executed in the\n",
              "      current browser session. Please rerun this cell to enable.\n",
              "      </output>\n",
              "      <script>// Copyright 2017 Google LLC\n",
              "//\n",
              "// Licensed under the Apache License, Version 2.0 (the \"License\");\n",
              "// you may not use this file except in compliance with the License.\n",
              "// You may obtain a copy of the License at\n",
              "//\n",
              "//      http://www.apache.org/licenses/LICENSE-2.0\n",
              "//\n",
              "// Unless required by applicable law or agreed to in writing, software\n",
              "// distributed under the License is distributed on an \"AS IS\" BASIS,\n",
              "// WITHOUT WARRANTIES OR CONDITIONS OF ANY KIND, either express or implied.\n",
              "// See the License for the specific language governing permissions and\n",
              "// limitations under the License.\n",
              "\n",
              "/**\n",
              " * @fileoverview Helpers for google.colab Python module.\n",
              " */\n",
              "(function(scope) {\n",
              "function span(text, styleAttributes = {}) {\n",
              "  const element = document.createElement('span');\n",
              "  element.textContent = text;\n",
              "  for (const key of Object.keys(styleAttributes)) {\n",
              "    element.style[key] = styleAttributes[key];\n",
              "  }\n",
              "  return element;\n",
              "}\n",
              "\n",
              "// Max number of bytes which will be uploaded at a time.\n",
              "const MAX_PAYLOAD_SIZE = 100 * 1024;\n",
              "\n",
              "function _uploadFiles(inputId, outputId) {\n",
              "  const steps = uploadFilesStep(inputId, outputId);\n",
              "  const outputElement = document.getElementById(outputId);\n",
              "  // Cache steps on the outputElement to make it available for the next call\n",
              "  // to uploadFilesContinue from Python.\n",
              "  outputElement.steps = steps;\n",
              "\n",
              "  return _uploadFilesContinue(outputId);\n",
              "}\n",
              "\n",
              "// This is roughly an async generator (not supported in the browser yet),\n",
              "// where there are multiple asynchronous steps and the Python side is going\n",
              "// to poll for completion of each step.\n",
              "// This uses a Promise to block the python side on completion of each step,\n",
              "// then passes the result of the previous step as the input to the next step.\n",
              "function _uploadFilesContinue(outputId) {\n",
              "  const outputElement = document.getElementById(outputId);\n",
              "  const steps = outputElement.steps;\n",
              "\n",
              "  const next = steps.next(outputElement.lastPromiseValue);\n",
              "  return Promise.resolve(next.value.promise).then((value) => {\n",
              "    // Cache the last promise value to make it available to the next\n",
              "    // step of the generator.\n",
              "    outputElement.lastPromiseValue = value;\n",
              "    return next.value.response;\n",
              "  });\n",
              "}\n",
              "\n",
              "/**\n",
              " * Generator function which is called between each async step of the upload\n",
              " * process.\n",
              " * @param {string} inputId Element ID of the input file picker element.\n",
              " * @param {string} outputId Element ID of the output display.\n",
              " * @return {!Iterable<!Object>} Iterable of next steps.\n",
              " */\n",
              "function* uploadFilesStep(inputId, outputId) {\n",
              "  const inputElement = document.getElementById(inputId);\n",
              "  inputElement.disabled = false;\n",
              "\n",
              "  const outputElement = document.getElementById(outputId);\n",
              "  outputElement.innerHTML = '';\n",
              "\n",
              "  const pickedPromise = new Promise((resolve) => {\n",
              "    inputElement.addEventListener('change', (e) => {\n",
              "      resolve(e.target.files);\n",
              "    });\n",
              "  });\n",
              "\n",
              "  const cancel = document.createElement('button');\n",
              "  inputElement.parentElement.appendChild(cancel);\n",
              "  cancel.textContent = 'Cancel upload';\n",
              "  const cancelPromise = new Promise((resolve) => {\n",
              "    cancel.onclick = () => {\n",
              "      resolve(null);\n",
              "    };\n",
              "  });\n",
              "\n",
              "  // Wait for the user to pick the files.\n",
              "  const files = yield {\n",
              "    promise: Promise.race([pickedPromise, cancelPromise]),\n",
              "    response: {\n",
              "      action: 'starting',\n",
              "    }\n",
              "  };\n",
              "\n",
              "  cancel.remove();\n",
              "\n",
              "  // Disable the input element since further picks are not allowed.\n",
              "  inputElement.disabled = true;\n",
              "\n",
              "  if (!files) {\n",
              "    return {\n",
              "      response: {\n",
              "        action: 'complete',\n",
              "      }\n",
              "    };\n",
              "  }\n",
              "\n",
              "  for (const file of files) {\n",
              "    const li = document.createElement('li');\n",
              "    li.append(span(file.name, {fontWeight: 'bold'}));\n",
              "    li.append(span(\n",
              "        `(${file.type || 'n/a'}) - ${file.size} bytes, ` +\n",
              "        `last modified: ${\n",
              "            file.lastModifiedDate ? file.lastModifiedDate.toLocaleDateString() :\n",
              "                                    'n/a'} - `));\n",
              "    const percent = span('0% done');\n",
              "    li.appendChild(percent);\n",
              "\n",
              "    outputElement.appendChild(li);\n",
              "\n",
              "    const fileDataPromise = new Promise((resolve) => {\n",
              "      const reader = new FileReader();\n",
              "      reader.onload = (e) => {\n",
              "        resolve(e.target.result);\n",
              "      };\n",
              "      reader.readAsArrayBuffer(file);\n",
              "    });\n",
              "    // Wait for the data to be ready.\n",
              "    let fileData = yield {\n",
              "      promise: fileDataPromise,\n",
              "      response: {\n",
              "        action: 'continue',\n",
              "      }\n",
              "    };\n",
              "\n",
              "    // Use a chunked sending to avoid message size limits. See b/62115660.\n",
              "    let position = 0;\n",
              "    do {\n",
              "      const length = Math.min(fileData.byteLength - position, MAX_PAYLOAD_SIZE);\n",
              "      const chunk = new Uint8Array(fileData, position, length);\n",
              "      position += length;\n",
              "\n",
              "      const base64 = btoa(String.fromCharCode.apply(null, chunk));\n",
              "      yield {\n",
              "        response: {\n",
              "          action: 'append',\n",
              "          file: file.name,\n",
              "          data: base64,\n",
              "        },\n",
              "      };\n",
              "\n",
              "      let percentDone = fileData.byteLength === 0 ?\n",
              "          100 :\n",
              "          Math.round((position / fileData.byteLength) * 100);\n",
              "      percent.textContent = `${percentDone}% done`;\n",
              "\n",
              "    } while (position < fileData.byteLength);\n",
              "  }\n",
              "\n",
              "  // All done.\n",
              "  yield {\n",
              "    response: {\n",
              "      action: 'complete',\n",
              "    }\n",
              "  };\n",
              "}\n",
              "\n",
              "scope.google = scope.google || {};\n",
              "scope.google.colab = scope.google.colab || {};\n",
              "scope.google.colab._files = {\n",
              "  _uploadFiles,\n",
              "  _uploadFilesContinue,\n",
              "};\n",
              "})(self);\n",
              "</script> "
            ]
          },
          "metadata": {}
        },
        {
          "output_type": "stream",
          "name": "stdout",
          "text": [
            "Saving kaggle.json to kaggle.json\n"
          ]
        },
        {
          "output_type": "execute_result",
          "data": {
            "text/plain": [
              "{'kaggle.json': b'{\"username\":\"alirezaakhavansafaei\",\"key\":\"7a1024303e3fdd5f892634f1f6326f03\"}'}"
            ]
          },
          "metadata": {},
          "execution_count": 3
        }
      ]
    },
    {
      "cell_type": "code",
      "source": [
        "!mkdir -p ~/.kaggle\n",
        "!mv kaggle.json ~/.kaggle/\n"
      ],
      "metadata": {
        "id": "KSmqTN8MlchQ"
      },
      "execution_count": null,
      "outputs": []
    },
    {
      "cell_type": "code",
      "source": [
        "!kaggle datasets download -d wolfram77/graphs-snap-higgs-twitter -p /content\n"
      ],
      "metadata": {
        "colab": {
          "base_uri": "https://localhost:8080/"
        },
        "id": "Vw35FKrKlcdJ",
        "outputId": "fe6d9e55-f96f-447f-c76d-454a888573f4"
      },
      "execution_count": null,
      "outputs": [
        {
          "output_type": "stream",
          "name": "stdout",
          "text": [
            "Warning: Your Kaggle API key is readable by other users on this system! To fix this, you can run 'chmod 600 /root/.kaggle/kaggle.json'\n",
            "Downloading graphs-snap-higgs-twitter.zip to /content\n",
            " 90% 108M/120M [00:01<00:00, 89.7MB/s]\n",
            "100% 120M/120M [00:01<00:00, 94.7MB/s]\n"
          ]
        }
      ]
    },
    {
      "cell_type": "code",
      "source": [
        "import zipfile\n",
        "\n",
        "with zipfile.ZipFile('/content/graphs-snap-higgs-twitter.zip', 'r') as zip_ref:\n",
        "    zip_ref.extractall('/content/')\n"
      ],
      "metadata": {
        "id": "1xnpqfe3lcbl"
      },
      "execution_count": null,
      "outputs": []
    },
    {
      "cell_type": "code",
      "source": [
        "import pandas as pd\n",
        "\n",
        "# Replace the path with the correct one if needed\n",
        "file_path = '/content/higgs-activity_time.txt'\n",
        "\n",
        "# Define column names\n",
        "columns = ['id1', 'id2', 'timestamp', 'action']\n",
        "\n",
        "# Read the file into a DataFrame\n",
        "df = pd.read_csv(file_path, sep=' ', header=None, names=columns)\n",
        "\n",
        "# Display the DataFrame\n",
        "df.head()"
      ],
      "metadata": {
        "colab": {
          "base_uri": "https://localhost:8080/",
          "height": 206
        },
        "id": "H1wCFFbSlcYs",
        "outputId": "5dedc58e-138c-473b-c549-6cdb46f869cf"
      },
      "execution_count": null,
      "outputs": [
        {
          "output_type": "execute_result",
          "data": {
            "text/plain": [
              "      id1     id2   timestamp action\n",
              "0  223789  213163  1341100972     MT\n",
              "1  223789  213163  1341100972     RE\n",
              "2  376989   50329  1341101181     RT\n",
              "3   26375  168366  1341101183     MT\n",
              "4  376989   13813  1341101192     RT"
            ],
            "text/html": [
              "\n",
              "\n",
              "  <div id=\"df-59eb7214-0b89-4bcd-912c-46ccfc827a87\">\n",
              "    <div class=\"colab-df-container\">\n",
              "      <div>\n",
              "<style scoped>\n",
              "    .dataframe tbody tr th:only-of-type {\n",
              "        vertical-align: middle;\n",
              "    }\n",
              "\n",
              "    .dataframe tbody tr th {\n",
              "        vertical-align: top;\n",
              "    }\n",
              "\n",
              "    .dataframe thead th {\n",
              "        text-align: right;\n",
              "    }\n",
              "</style>\n",
              "<table border=\"1\" class=\"dataframe\">\n",
              "  <thead>\n",
              "    <tr style=\"text-align: right;\">\n",
              "      <th></th>\n",
              "      <th>id1</th>\n",
              "      <th>id2</th>\n",
              "      <th>timestamp</th>\n",
              "      <th>action</th>\n",
              "    </tr>\n",
              "  </thead>\n",
              "  <tbody>\n",
              "    <tr>\n",
              "      <th>0</th>\n",
              "      <td>223789</td>\n",
              "      <td>213163</td>\n",
              "      <td>1341100972</td>\n",
              "      <td>MT</td>\n",
              "    </tr>\n",
              "    <tr>\n",
              "      <th>1</th>\n",
              "      <td>223789</td>\n",
              "      <td>213163</td>\n",
              "      <td>1341100972</td>\n",
              "      <td>RE</td>\n",
              "    </tr>\n",
              "    <tr>\n",
              "      <th>2</th>\n",
              "      <td>376989</td>\n",
              "      <td>50329</td>\n",
              "      <td>1341101181</td>\n",
              "      <td>RT</td>\n",
              "    </tr>\n",
              "    <tr>\n",
              "      <th>3</th>\n",
              "      <td>26375</td>\n",
              "      <td>168366</td>\n",
              "      <td>1341101183</td>\n",
              "      <td>MT</td>\n",
              "    </tr>\n",
              "    <tr>\n",
              "      <th>4</th>\n",
              "      <td>376989</td>\n",
              "      <td>13813</td>\n",
              "      <td>1341101192</td>\n",
              "      <td>RT</td>\n",
              "    </tr>\n",
              "  </tbody>\n",
              "</table>\n",
              "</div>\n",
              "      <button class=\"colab-df-convert\" onclick=\"convertToInteractive('df-59eb7214-0b89-4bcd-912c-46ccfc827a87')\"\n",
              "              title=\"Convert this dataframe to an interactive table.\"\n",
              "              style=\"display:none;\">\n",
              "\n",
              "  <svg xmlns=\"http://www.w3.org/2000/svg\" height=\"24px\"viewBox=\"0 0 24 24\"\n",
              "       width=\"24px\">\n",
              "    <path d=\"M0 0h24v24H0V0z\" fill=\"none\"/>\n",
              "    <path d=\"M18.56 5.44l.94 2.06.94-2.06 2.06-.94-2.06-.94-.94-2.06-.94 2.06-2.06.94zm-11 1L8.5 8.5l.94-2.06 2.06-.94-2.06-.94L8.5 2.5l-.94 2.06-2.06.94zm10 10l.94 2.06.94-2.06 2.06-.94-2.06-.94-.94-2.06-.94 2.06-2.06.94z\"/><path d=\"M17.41 7.96l-1.37-1.37c-.4-.4-.92-.59-1.43-.59-.52 0-1.04.2-1.43.59L10.3 9.45l-7.72 7.72c-.78.78-.78 2.05 0 2.83L4 21.41c.39.39.9.59 1.41.59.51 0 1.02-.2 1.41-.59l7.78-7.78 2.81-2.81c.8-.78.8-2.07 0-2.86zM5.41 20L4 18.59l7.72-7.72 1.47 1.35L5.41 20z\"/>\n",
              "  </svg>\n",
              "      </button>\n",
              "\n",
              "\n",
              "\n",
              "    <div id=\"df-a4b9a147-08d0-4bdc-87fc-fa016b30f8fb\">\n",
              "      <button class=\"colab-df-quickchart\" onclick=\"quickchart('df-a4b9a147-08d0-4bdc-87fc-fa016b30f8fb')\"\n",
              "              title=\"Suggest charts.\"\n",
              "              style=\"display:none;\">\n",
              "\n",
              "<svg xmlns=\"http://www.w3.org/2000/svg\" height=\"24px\"viewBox=\"0 0 24 24\"\n",
              "     width=\"24px\">\n",
              "    <g>\n",
              "        <path d=\"M19 3H5c-1.1 0-2 .9-2 2v14c0 1.1.9 2 2 2h14c1.1 0 2-.9 2-2V5c0-1.1-.9-2-2-2zM9 17H7v-7h2v7zm4 0h-2V7h2v10zm4 0h-2v-4h2v4z\"/>\n",
              "    </g>\n",
              "</svg>\n",
              "      </button>\n",
              "    </div>\n",
              "\n",
              "<style>\n",
              "  .colab-df-quickchart {\n",
              "    background-color: #E8F0FE;\n",
              "    border: none;\n",
              "    border-radius: 50%;\n",
              "    cursor: pointer;\n",
              "    display: none;\n",
              "    fill: #1967D2;\n",
              "    height: 32px;\n",
              "    padding: 0 0 0 0;\n",
              "    width: 32px;\n",
              "  }\n",
              "\n",
              "  .colab-df-quickchart:hover {\n",
              "    background-color: #E2EBFA;\n",
              "    box-shadow: 0px 1px 2px rgba(60, 64, 67, 0.3), 0px 1px 3px 1px rgba(60, 64, 67, 0.15);\n",
              "    fill: #174EA6;\n",
              "  }\n",
              "\n",
              "  [theme=dark] .colab-df-quickchart {\n",
              "    background-color: #3B4455;\n",
              "    fill: #D2E3FC;\n",
              "  }\n",
              "\n",
              "  [theme=dark] .colab-df-quickchart:hover {\n",
              "    background-color: #434B5C;\n",
              "    box-shadow: 0px 1px 3px 1px rgba(0, 0, 0, 0.15);\n",
              "    filter: drop-shadow(0px 1px 2px rgba(0, 0, 0, 0.3));\n",
              "    fill: #FFFFFF;\n",
              "  }\n",
              "</style>\n",
              "\n",
              "    <script>\n",
              "      async function quickchart(key) {\n",
              "        const containerElement = document.querySelector('#' + key);\n",
              "        const charts = await google.colab.kernel.invokeFunction(\n",
              "            'suggestCharts', [key], {});\n",
              "      }\n",
              "    </script>\n",
              "\n",
              "      <script>\n",
              "\n",
              "function displayQuickchartButton(domScope) {\n",
              "  let quickchartButtonEl =\n",
              "    domScope.querySelector('#df-a4b9a147-08d0-4bdc-87fc-fa016b30f8fb button.colab-df-quickchart');\n",
              "  quickchartButtonEl.style.display =\n",
              "    google.colab.kernel.accessAllowed ? 'block' : 'none';\n",
              "}\n",
              "\n",
              "        displayQuickchartButton(document);\n",
              "      </script>\n",
              "      <style>\n",
              "    .colab-df-container {\n",
              "      display:flex;\n",
              "      flex-wrap:wrap;\n",
              "      gap: 12px;\n",
              "    }\n",
              "\n",
              "    .colab-df-convert {\n",
              "      background-color: #E8F0FE;\n",
              "      border: none;\n",
              "      border-radius: 50%;\n",
              "      cursor: pointer;\n",
              "      display: none;\n",
              "      fill: #1967D2;\n",
              "      height: 32px;\n",
              "      padding: 0 0 0 0;\n",
              "      width: 32px;\n",
              "    }\n",
              "\n",
              "    .colab-df-convert:hover {\n",
              "      background-color: #E2EBFA;\n",
              "      box-shadow: 0px 1px 2px rgba(60, 64, 67, 0.3), 0px 1px 3px 1px rgba(60, 64, 67, 0.15);\n",
              "      fill: #174EA6;\n",
              "    }\n",
              "\n",
              "    [theme=dark] .colab-df-convert {\n",
              "      background-color: #3B4455;\n",
              "      fill: #D2E3FC;\n",
              "    }\n",
              "\n",
              "    [theme=dark] .colab-df-convert:hover {\n",
              "      background-color: #434B5C;\n",
              "      box-shadow: 0px 1px 3px 1px rgba(0, 0, 0, 0.15);\n",
              "      filter: drop-shadow(0px 1px 2px rgba(0, 0, 0, 0.3));\n",
              "      fill: #FFFFFF;\n",
              "    }\n",
              "  </style>\n",
              "\n",
              "      <script>\n",
              "        const buttonEl =\n",
              "          document.querySelector('#df-59eb7214-0b89-4bcd-912c-46ccfc827a87 button.colab-df-convert');\n",
              "        buttonEl.style.display =\n",
              "          google.colab.kernel.accessAllowed ? 'block' : 'none';\n",
              "\n",
              "        async function convertToInteractive(key) {\n",
              "          const element = document.querySelector('#df-59eb7214-0b89-4bcd-912c-46ccfc827a87');\n",
              "          const dataTable =\n",
              "            await google.colab.kernel.invokeFunction('convertToInteractive',\n",
              "                                                     [key], {});\n",
              "          if (!dataTable) return;\n",
              "\n",
              "          const docLinkHtml = 'Like what you see? Visit the ' +\n",
              "            '<a target=\"_blank\" href=https://colab.research.google.com/notebooks/data_table.ipynb>data table notebook</a>'\n",
              "            + ' to learn more about interactive tables.';\n",
              "          element.innerHTML = '';\n",
              "          dataTable['output_type'] = 'display_data';\n",
              "          await google.colab.output.renderOutput(dataTable, element);\n",
              "          const docLink = document.createElement('div');\n",
              "          docLink.innerHTML = docLinkHtml;\n",
              "          element.appendChild(docLink);\n",
              "        }\n",
              "      </script>\n",
              "    </div>\n",
              "  </div>\n"
            ]
          },
          "metadata": {},
          "execution_count": 7
        }
      ]
    },
    {
      "cell_type": "code",
      "source": [
        "import pandas as pd\n",
        "\n",
        "# Assuming you have already defined Df and df\n",
        "\n",
        "# Find all unique IDs in Df (ID1 + ID2 set)\n",
        "unique_ids_set = set(DF['ID1']).union(set(DF['ID2']))\n",
        "\n",
        "# Filter df to keep only records with valid IDs in id1 or id2\n",
        "df_filtered = df[df['id1'].isin(unique_ids_set) & df['id2'].isin(unique_ids_set)]\n",
        "\n",
        "# Display the filtered DataFrame\n",
        "df_filtered"
      ],
      "metadata": {
        "colab": {
          "base_uri": "https://localhost:8080/",
          "height": 423
        },
        "id": "TPc2L0qWlcXC",
        "outputId": "aa6a8c4b-4d36-4f0b-96e4-c204ad6d07b6"
      },
      "execution_count": null,
      "outputs": [
        {
          "output_type": "execute_result",
          "data": {
            "text/plain": [
              "           id1     id2   timestamp action\n",
              "0       223789  213163  1341100972     MT\n",
              "1       223789  213163  1341100972     RE\n",
              "7        99258   50329  1341101263     RT\n",
              "12       75083   84647  1341101732     RT\n",
              "13       75083   42182  1341101732     MT\n",
              "...        ...     ...         ...    ...\n",
              "563055   85314   85314  1341705426     MT\n",
              "563058    9021   80429  1341705452     MT\n",
              "563059    9021   80429  1341705452     RE\n",
              "563065   19979   49694  1341705552     MT\n",
              "563066   19979   80429  1341705552     MT\n",
              "\n",
              "[73380 rows x 4 columns]"
            ],
            "text/html": [
              "\n",
              "\n",
              "  <div id=\"df-c8cca6f4-87a0-404f-8631-279df10fca58\">\n",
              "    <div class=\"colab-df-container\">\n",
              "      <div>\n",
              "<style scoped>\n",
              "    .dataframe tbody tr th:only-of-type {\n",
              "        vertical-align: middle;\n",
              "    }\n",
              "\n",
              "    .dataframe tbody tr th {\n",
              "        vertical-align: top;\n",
              "    }\n",
              "\n",
              "    .dataframe thead th {\n",
              "        text-align: right;\n",
              "    }\n",
              "</style>\n",
              "<table border=\"1\" class=\"dataframe\">\n",
              "  <thead>\n",
              "    <tr style=\"text-align: right;\">\n",
              "      <th></th>\n",
              "      <th>id1</th>\n",
              "      <th>id2</th>\n",
              "      <th>timestamp</th>\n",
              "      <th>action</th>\n",
              "    </tr>\n",
              "  </thead>\n",
              "  <tbody>\n",
              "    <tr>\n",
              "      <th>0</th>\n",
              "      <td>223789</td>\n",
              "      <td>213163</td>\n",
              "      <td>1341100972</td>\n",
              "      <td>MT</td>\n",
              "    </tr>\n",
              "    <tr>\n",
              "      <th>1</th>\n",
              "      <td>223789</td>\n",
              "      <td>213163</td>\n",
              "      <td>1341100972</td>\n",
              "      <td>RE</td>\n",
              "    </tr>\n",
              "    <tr>\n",
              "      <th>7</th>\n",
              "      <td>99258</td>\n",
              "      <td>50329</td>\n",
              "      <td>1341101263</td>\n",
              "      <td>RT</td>\n",
              "    </tr>\n",
              "    <tr>\n",
              "      <th>12</th>\n",
              "      <td>75083</td>\n",
              "      <td>84647</td>\n",
              "      <td>1341101732</td>\n",
              "      <td>RT</td>\n",
              "    </tr>\n",
              "    <tr>\n",
              "      <th>13</th>\n",
              "      <td>75083</td>\n",
              "      <td>42182</td>\n",
              "      <td>1341101732</td>\n",
              "      <td>MT</td>\n",
              "    </tr>\n",
              "    <tr>\n",
              "      <th>...</th>\n",
              "      <td>...</td>\n",
              "      <td>...</td>\n",
              "      <td>...</td>\n",
              "      <td>...</td>\n",
              "    </tr>\n",
              "    <tr>\n",
              "      <th>563055</th>\n",
              "      <td>85314</td>\n",
              "      <td>85314</td>\n",
              "      <td>1341705426</td>\n",
              "      <td>MT</td>\n",
              "    </tr>\n",
              "    <tr>\n",
              "      <th>563058</th>\n",
              "      <td>9021</td>\n",
              "      <td>80429</td>\n",
              "      <td>1341705452</td>\n",
              "      <td>MT</td>\n",
              "    </tr>\n",
              "    <tr>\n",
              "      <th>563059</th>\n",
              "      <td>9021</td>\n",
              "      <td>80429</td>\n",
              "      <td>1341705452</td>\n",
              "      <td>RE</td>\n",
              "    </tr>\n",
              "    <tr>\n",
              "      <th>563065</th>\n",
              "      <td>19979</td>\n",
              "      <td>49694</td>\n",
              "      <td>1341705552</td>\n",
              "      <td>MT</td>\n",
              "    </tr>\n",
              "    <tr>\n",
              "      <th>563066</th>\n",
              "      <td>19979</td>\n",
              "      <td>80429</td>\n",
              "      <td>1341705552</td>\n",
              "      <td>MT</td>\n",
              "    </tr>\n",
              "  </tbody>\n",
              "</table>\n",
              "<p>73380 rows × 4 columns</p>\n",
              "</div>\n",
              "      <button class=\"colab-df-convert\" onclick=\"convertToInteractive('df-c8cca6f4-87a0-404f-8631-279df10fca58')\"\n",
              "              title=\"Convert this dataframe to an interactive table.\"\n",
              "              style=\"display:none;\">\n",
              "\n",
              "  <svg xmlns=\"http://www.w3.org/2000/svg\" height=\"24px\"viewBox=\"0 0 24 24\"\n",
              "       width=\"24px\">\n",
              "    <path d=\"M0 0h24v24H0V0z\" fill=\"none\"/>\n",
              "    <path d=\"M18.56 5.44l.94 2.06.94-2.06 2.06-.94-2.06-.94-.94-2.06-.94 2.06-2.06.94zm-11 1L8.5 8.5l.94-2.06 2.06-.94-2.06-.94L8.5 2.5l-.94 2.06-2.06.94zm10 10l.94 2.06.94-2.06 2.06-.94-2.06-.94-.94-2.06-.94 2.06-2.06.94z\"/><path d=\"M17.41 7.96l-1.37-1.37c-.4-.4-.92-.59-1.43-.59-.52 0-1.04.2-1.43.59L10.3 9.45l-7.72 7.72c-.78.78-.78 2.05 0 2.83L4 21.41c.39.39.9.59 1.41.59.51 0 1.02-.2 1.41-.59l7.78-7.78 2.81-2.81c.8-.78.8-2.07 0-2.86zM5.41 20L4 18.59l7.72-7.72 1.47 1.35L5.41 20z\"/>\n",
              "  </svg>\n",
              "      </button>\n",
              "\n",
              "\n",
              "\n",
              "    <div id=\"df-7184f371-e021-4b1e-b3db-8862705ca74c\">\n",
              "      <button class=\"colab-df-quickchart\" onclick=\"quickchart('df-7184f371-e021-4b1e-b3db-8862705ca74c')\"\n",
              "              title=\"Suggest charts.\"\n",
              "              style=\"display:none;\">\n",
              "\n",
              "<svg xmlns=\"http://www.w3.org/2000/svg\" height=\"24px\"viewBox=\"0 0 24 24\"\n",
              "     width=\"24px\">\n",
              "    <g>\n",
              "        <path d=\"M19 3H5c-1.1 0-2 .9-2 2v14c0 1.1.9 2 2 2h14c1.1 0 2-.9 2-2V5c0-1.1-.9-2-2-2zM9 17H7v-7h2v7zm4 0h-2V7h2v10zm4 0h-2v-4h2v4z\"/>\n",
              "    </g>\n",
              "</svg>\n",
              "      </button>\n",
              "    </div>\n",
              "\n",
              "<style>\n",
              "  .colab-df-quickchart {\n",
              "    background-color: #E8F0FE;\n",
              "    border: none;\n",
              "    border-radius: 50%;\n",
              "    cursor: pointer;\n",
              "    display: none;\n",
              "    fill: #1967D2;\n",
              "    height: 32px;\n",
              "    padding: 0 0 0 0;\n",
              "    width: 32px;\n",
              "  }\n",
              "\n",
              "  .colab-df-quickchart:hover {\n",
              "    background-color: #E2EBFA;\n",
              "    box-shadow: 0px 1px 2px rgba(60, 64, 67, 0.3), 0px 1px 3px 1px rgba(60, 64, 67, 0.15);\n",
              "    fill: #174EA6;\n",
              "  }\n",
              "\n",
              "  [theme=dark] .colab-df-quickchart {\n",
              "    background-color: #3B4455;\n",
              "    fill: #D2E3FC;\n",
              "  }\n",
              "\n",
              "  [theme=dark] .colab-df-quickchart:hover {\n",
              "    background-color: #434B5C;\n",
              "    box-shadow: 0px 1px 3px 1px rgba(0, 0, 0, 0.15);\n",
              "    filter: drop-shadow(0px 1px 2px rgba(0, 0, 0, 0.3));\n",
              "    fill: #FFFFFF;\n",
              "  }\n",
              "</style>\n",
              "\n",
              "    <script>\n",
              "      async function quickchart(key) {\n",
              "        const containerElement = document.querySelector('#' + key);\n",
              "        const charts = await google.colab.kernel.invokeFunction(\n",
              "            'suggestCharts', [key], {});\n",
              "      }\n",
              "    </script>\n",
              "\n",
              "      <script>\n",
              "\n",
              "function displayQuickchartButton(domScope) {\n",
              "  let quickchartButtonEl =\n",
              "    domScope.querySelector('#df-7184f371-e021-4b1e-b3db-8862705ca74c button.colab-df-quickchart');\n",
              "  quickchartButtonEl.style.display =\n",
              "    google.colab.kernel.accessAllowed ? 'block' : 'none';\n",
              "}\n",
              "\n",
              "        displayQuickchartButton(document);\n",
              "      </script>\n",
              "      <style>\n",
              "    .colab-df-container {\n",
              "      display:flex;\n",
              "      flex-wrap:wrap;\n",
              "      gap: 12px;\n",
              "    }\n",
              "\n",
              "    .colab-df-convert {\n",
              "      background-color: #E8F0FE;\n",
              "      border: none;\n",
              "      border-radius: 50%;\n",
              "      cursor: pointer;\n",
              "      display: none;\n",
              "      fill: #1967D2;\n",
              "      height: 32px;\n",
              "      padding: 0 0 0 0;\n",
              "      width: 32px;\n",
              "    }\n",
              "\n",
              "    .colab-df-convert:hover {\n",
              "      background-color: #E2EBFA;\n",
              "      box-shadow: 0px 1px 2px rgba(60, 64, 67, 0.3), 0px 1px 3px 1px rgba(60, 64, 67, 0.15);\n",
              "      fill: #174EA6;\n",
              "    }\n",
              "\n",
              "    [theme=dark] .colab-df-convert {\n",
              "      background-color: #3B4455;\n",
              "      fill: #D2E3FC;\n",
              "    }\n",
              "\n",
              "    [theme=dark] .colab-df-convert:hover {\n",
              "      background-color: #434B5C;\n",
              "      box-shadow: 0px 1px 3px 1px rgba(0, 0, 0, 0.15);\n",
              "      filter: drop-shadow(0px 1px 2px rgba(0, 0, 0, 0.3));\n",
              "      fill: #FFFFFF;\n",
              "    }\n",
              "  </style>\n",
              "\n",
              "      <script>\n",
              "        const buttonEl =\n",
              "          document.querySelector('#df-c8cca6f4-87a0-404f-8631-279df10fca58 button.colab-df-convert');\n",
              "        buttonEl.style.display =\n",
              "          google.colab.kernel.accessAllowed ? 'block' : 'none';\n",
              "\n",
              "        async function convertToInteractive(key) {\n",
              "          const element = document.querySelector('#df-c8cca6f4-87a0-404f-8631-279df10fca58');\n",
              "          const dataTable =\n",
              "            await google.colab.kernel.invokeFunction('convertToInteractive',\n",
              "                                                     [key], {});\n",
              "          if (!dataTable) return;\n",
              "\n",
              "          const docLinkHtml = 'Like what you see? Visit the ' +\n",
              "            '<a target=\"_blank\" href=https://colab.research.google.com/notebooks/data_table.ipynb>data table notebook</a>'\n",
              "            + ' to learn more about interactive tables.';\n",
              "          element.innerHTML = '';\n",
              "          dataTable['output_type'] = 'display_data';\n",
              "          await google.colab.output.renderOutput(dataTable, element);\n",
              "          const docLink = document.createElement('div');\n",
              "          docLink.innerHTML = docLinkHtml;\n",
              "          element.appendChild(docLink);\n",
              "        }\n",
              "      </script>\n",
              "    </div>\n",
              "  </div>\n"
            ]
          },
          "metadata": {},
          "execution_count": 8
        }
      ]
    },
    {
      "cell_type": "code",
      "source": [
        "df=df_filtered"
      ],
      "metadata": {
        "id": "Vq5ClSdRlcUL"
      },
      "execution_count": null,
      "outputs": []
    },
    {
      "cell_type": "code",
      "source": [
        "# Function to print a dictionary up to a specified number of records\n",
        "def print_dictionary(dictionary, limit=100):\n",
        "    print(\"{\")\n",
        "    count = 0\n",
        "    for key, value in dictionary.items():\n",
        "        if count >= limit:\n",
        "            break\n",
        "        print(f\"    {key}: {value}\")\n",
        "        count += 1\n",
        "    print(\"}\")\n"
      ],
      "metadata": {
        "id": "cwbHrpTxlcRh"
      },
      "execution_count": null,
      "outputs": []
    },
    {
      "cell_type": "code",
      "source": [
        "# Assuming you have already read the file and have the pandas DataFrame 'df'\n",
        "\n",
        "# Initialize the dictionaries to store the results\n",
        "MT_dict = {}\n",
        "RT_dict = {}\n",
        "RE_dict = {}\n",
        "merged_dict = {}\n",
        "total_dict = {}\n",
        "\n",
        "# Set the number of records to process before printing the progress\n",
        "records_to_print = 1000\n",
        "processed_records = 0\n",
        "total_records = len(df)\n",
        "\n",
        "# Loop over the DataFrame\n",
        "for index, row in df.iterrows():\n",
        "    if row['action'] == 'MT':\n",
        "        key = row['id2']\n",
        "        value = row['id1']\n",
        "\n",
        "        # Check if the key exists in the dictionary, if not, initialize an empty list\n",
        "        if key not in MT_dict:\n",
        "            MT_dict[key] = []\n",
        "\n",
        "        # Append the value to the list\n",
        "        MT_dict[key].append(value)\n",
        "\n",
        "        # Update the merged dictionary with the value and prefix\n",
        "        if key not in merged_dict:\n",
        "            merged_dict[key] =[]\n",
        "\n",
        "        merged_dict[key].append(f\"MT-{value}\")\n",
        "        if key not in total_dict:\n",
        "            total_dict[key] =[]\n",
        "\n",
        "        total_dict[key].append(value)\n",
        "    elif row['action'] == 'RT':\n",
        "        key = row['id2']\n",
        "        value = row['id1']\n",
        "\n",
        "        # Check if the key exists in the dictionary, if not, initialize an empty list\n",
        "        if key not in RT_dict:\n",
        "            RT_dict[key] = []\n",
        "\n",
        "        # Append the value to the list\n",
        "        RT_dict[key].append(value)\n",
        "\n",
        "        # Update the merged dictionary with the value and prefix\n",
        "        if key not in merged_dict:\n",
        "            merged_dict[key] =[]\n",
        "        merged_dict[key].append(f\"RT-{value}\")\n",
        "        if key not in total_dict:\n",
        "            total_dict[key] =[]\n",
        "\n",
        "        total_dict[key].append(value)\n",
        "    elif row['action'] == 'RE':\n",
        "        key = row['id2']\n",
        "        value = row['id1']\n",
        "\n",
        "        # Check if the key exists in the dictionary, if not, initialize an empty list\n",
        "        if key not in RE_dict:\n",
        "            RE_dict[key] = []\n",
        "\n",
        "        # Append the value to the list\n",
        "        RE_dict[key].append(value)\n",
        "\n",
        "        # Update the merged dictionary with the value and prefix\n",
        "        if key not in merged_dict:\n",
        "            merged_dict[key] =[]\n",
        "        merged_dict[key].append(f\"RE-{value}\")\n",
        "        if key not in total_dict:\n",
        "            total_dict[key] =[]\n",
        "\n",
        "        total_dict[key].append(value)\n",
        "\n",
        "    processed_records += 1\n",
        "    if processed_records % records_to_print == 0 or processed_records == total_records:\n",
        "        percentage_complete = (processed_records / total_records) * 100\n",
        "        print(f'\\rProgress: {percentage_complete:.2f}%  ', end='')\n",
        "\n",
        "# Display the merged dictionary\n",
        "print(\"\\nMerged Dictionary:\")\n",
        "print_dictionary(merged_dict, limit=10)\n",
        "print(\"\\nTotal Dictionary:\")\n",
        "print_dictionary(total_dict, limit=10)"
      ],
      "metadata": {
        "colab": {
          "base_uri": "https://localhost:8080/"
        },
        "id": "0Ts--DFMlcOC",
        "outputId": "fc516347-fef4-4cd4-bcd5-7b75cf63bd39"
      },
      "execution_count": null,
      "outputs": [
        {
          "output_type": "stream",
          "name": "stdout",
          "text": [
            "Progress: 100.00%  \n",
            "Merged Dictionary:\n",
            "{\n",
            "    213163: ['MT-223789', 'RE-223789', 'MT-213163', 'MT-246023', 'RE-246023', 'MT-213163']\n",
            "    50329: ['RT-99258', 'RT-56426', 'RT-153793', 'RT-184805', 'RT-832', 'RT-30184', 'RT-832', 'RT-56426', 'RT-84647', 'RT-36417', 'MT-50191', 'MT-832', 'MT-26129', 'MT-9952']\n",
            "    84647: ['RT-75083', 'MT-3604', 'RT-3933', 'MT-68939', 'MT-64367', 'RT-42180', 'MT-44086', 'RT-3604', 'RT-22814', 'MT-22814', 'MT-11953', 'RT-11953', 'MT-6793', 'MT-11953', 'RT-88838']\n",
            "    42182: ['MT-75083', 'MT-89805', 'RT-6072', 'RT-103447', 'MT-89805', 'MT-89805', 'MT-89805', 'MT-6072', 'RE-6072', 'RT-6072', 'RT-56968', 'MT-89805', 'RT-39885', 'RT-35604', 'MT-92274', 'MT-92274', 'RT-25661', 'MT-89805', 'MT-42182', 'RT-6072', 'MT-42172', 'RT-116270', 'MT-89805', 'MT-11991', 'MT-56968', 'MT-6072', 'RE-6072', 'RT-96198', 'MT-1276', 'RT-4182', 'RT-86501', 'RT-136057', 'RT-44086', 'MT-2373', 'MT-89805', 'RT-65926', 'RT-31022', 'RT-35604', 'RT-175264', 'MT-2527', 'RT-39885', 'MT-63619', 'RT-12745', 'MT-41854', 'RT-11991', 'MT-86496', 'RT-11991', 'RT-6072', 'MT-1276', 'MT-37162', 'MT-35707', 'MT-31624', 'MT-67647', 'RT-15161', 'RT-22195', 'RT-78258', 'RT-139451', 'RT-56968', 'MT-58912', 'RT-35604', 'RT-103447', 'MT-26158', 'MT-42172', 'MT-137587', 'RT-4138', 'RT-16057', 'RT-100672', 'MT-11991', 'MT-13809', 'MT-56968', 'MT-11991', 'MT-13809', 'MT-56968', 'MT-13754', 'MT-13754', 'MT-42182', 'MT-110903', 'MT-11991', 'MT-11991', 'MT-42172', 'MT-3287', 'MT-89805']\n",
            "    2417: ['MT-10284', 'MT-104567', 'MT-43515', 'MT-16970', 'MT-6269', 'MT-16936', 'MT-3013', 'MT-80267', 'MT-101592', 'MT-114548', 'MT-35382', 'MT-113596', 'MT-49179', 'MT-1471', 'MT-142187', 'MT-35738', 'MT-185145', 'MT-80864', 'MT-16970', 'MT-35738', 'MT-85796', 'MT-6940', 'MT-56426', 'RT-97433', 'RT-163757', 'RT-142114', 'RT-120800', 'RT-141185', 'MT-91518', 'MT-423', 'MT-1475', 'MT-13482', 'MT-20368', 'MT-4372', 'RT-2183', 'RT-15596', 'RT-42663', 'RT-28479', 'MT-164883', 'RE-164883', 'MT-51889', 'MT-147790', 'MT-457', 'RT-57346', 'RT-47220', 'RT-143596', 'MT-15295', 'MT-88114', 'MT-220949', 'MT-27050', 'MT-10392', 'MT-67190', 'MT-26103', 'MT-86516', 'MT-36268', 'MT-91518', 'MT-187941', 'MT-33776', 'MT-10255', 'MT-34289', 'MT-2373', 'MT-107135', 'MT-12751', 'MT-101238', 'MT-20493', 'MT-70191', 'MT-128', 'MT-666', 'RT-18438', 'RT-143185', 'MT-123517', 'RT-49174', 'MT-79067', 'MT-19695', 'MT-2733', 'MT-15188', 'MT-175276', 'MT-2684', 'MT-161376', 'MT-1077', 'MT-101238', 'MT-29542', 'MT-113578', 'MT-66389', 'MT-59194', 'RT-43942', 'MT-79201', 'MT-175282', 'MT-461', 'RT-87234', 'MT-84199', 'MT-19170', 'MT-94719', 'MT-13482', 'MT-2500', 'MT-85470', 'MT-29522', 'MT-57674', 'MT-9133', 'MT-182941', 'MT-11059', 'MT-78866', 'MT-102909', 'MT-157650', 'MT-44177', 'MT-186289', 'MT-15521', 'MT-2417', 'MT-72443', 'MT-55783', 'MT-48039', 'MT-8618', 'MT-140723', 'RE-140723', 'RT-16872', 'MT-91900', 'MT-47327', 'MT-48298', 'MT-80380', 'RT-114701', 'MT-26161', 'MT-4669', 'MT-203515', 'MT-36266', 'MT-36266', 'MT-40856', 'MT-14245', 'MT-164400', 'MT-15772', 'RT-38328', 'RT-27311', 'MT-201883', 'MT-329', 'MT-126034', 'MT-26067', 'RT-95510', 'MT-32849', 'MT-117664', 'RT-32357', 'MT-22240', 'RT-53049', 'MT-80732', 'MT-48272', 'RT-202367', 'RT-119591', 'RT-163805', 'RT-4342', 'RT-7322', 'MT-101238', 'MT-4841', 'MT-118990', 'MT-13566', 'MT-17530', 'RT-100597', 'RT-129931', 'RT-33875', 'MT-93339', 'RT-52274', 'MT-7815', 'RT-43168', 'MT-27050', 'RT-27811', 'MT-59177', 'RE-59177', 'MT-59155', 'RE-59155', 'MT-19192', 'RT-8384', 'RT-186996', 'MT-2083', 'MT-107138', 'MT-6269', 'RT-63454', 'MT-206354', 'RT-36286', 'RT-36264', 'MT-103150', 'RT-286465', 'MT-22357', 'MT-38545', 'RT-85033', 'MT-24543', 'RT-4509', 'RT-103954', 'MT-14567', 'RT-86049', 'MT-128023', 'MT-13799', 'MT-73105', 'MT-18349', 'MT-12153', 'MT-75519', 'MT-40980', 'MT-30525', 'MT-44983', 'MT-30525', 'MT-31207', 'MT-31207', 'MT-33145', 'MT-13900', 'MT-43314', 'MT-123413', 'MT-43314', 'MT-18878', 'MT-112140', 'RT-36288', 'MT-14889', 'MT-230282', 'MT-148719', 'RE-148719', 'MT-15295', 'MT-8473', 'RT-57094', 'MT-41649', 'MT-40980', 'MT-13776', 'MT-89805', 'MT-255365', 'MT-22805', 'RT-130438', 'MT-113574', 'MT-30226', 'MT-8966', 'MT-272693', 'MT-29542', 'MT-5087', 'MT-146637', 'RT-191812', 'MT-43314', 'MT-369', 'MT-110094', 'MT-149736', 'MT-35442', 'MT-78600', 'MT-21923', 'MT-27788', 'MT-164145', 'MT-65590', 'MT-66207', 'MT-4980', 'MT-33788', 'MT-87695', 'MT-87305', 'MT-30827', 'MT-8170', 'MT-9044', 'MT-40592', 'MT-11141', 'MT-3704', 'MT-80886', 'MT-3614', 'MT-95510', 'RT-238968', 'MT-91611', 'RT-94961', 'RT-100833', 'RT-79873', 'MT-66226', 'RT-208482', 'RT-141185', 'RT-98651', 'RT-118008', 'MT-59194', 'RT-116277', 'MT-19200', 'MT-25688', 'MT-29423', 'MT-31225', 'RT-74533', 'MT-4576', 'MT-59264', 'MT-15521', 'MT-104101', 'MT-163627', 'MT-13799', 'MT-39405', 'MT-63817', 'MT-26103', 'MT-86634', 'MT-104567', 'RT-74220', 'MT-91518', 'RT-66320', 'RT-78929', 'RT-1159', 'MT-2172', 'MT-677', 'MT-260011', 'MT-117972', 'MT-11531', 'MT-238028', 'MT-51181', 'MT-42984', 'RT-118008', 'RT-110454', 'MT-170699', 'MT-272693', 'RT-170699', 'MT-272693', 'MT-171433', 'MT-49158', 'MT-11876', 'MT-81203', 'MT-255534', 'MT-84016', 'MT-99030', 'MT-1077', 'MT-153793', 'MT-107895', 'MT-197236', 'MT-34888', 'MT-17509', 'MT-5086', 'MT-70626', 'MT-99030', 'MT-142100', 'MT-65866', 'MT-142114', 'MT-203659', 'MT-3188', 'MT-32486', 'MT-181919', 'RT-26737', 'MT-66046', 'MT-85844', 'MT-80787', 'MT-145675', 'MT-366829', 'MT-366829', 'MT-50885', 'MT-16970', 'MT-164246', 'MT-16970', 'MT-17041', 'MT-98115', 'MT-4293', 'MT-181053', 'MT-69596', 'MT-93756', 'MT-163646', 'MT-38184', 'MT-150048', 'MT-15275', 'MT-37788', 'MT-65650', 'MT-73130', 'MT-36345', 'RT-34749', 'MT-58848', 'MT-18565', 'MT-164749', 'MT-59639', 'MT-3869', 'RT-95257', 'MT-101238', 'MT-89807', 'RT-26941', 'MT-12751', 'MT-132968', 'MT-27295', 'MT-54301', 'MT-158607', 'MT-13900', 'MT-149467', 'MT-50948', 'MT-4093', 'MT-131385', 'MT-439', 'MT-14957', 'MT-18879', 'MT-18879', 'MT-439', 'MT-492', 'MT-129108', 'MT-18052', 'MT-172169', 'MT-10392', 'MT-105354', 'MT-323249', 'MT-80472', 'MT-16677', 'MT-800', 'RT-118365', 'MT-51903', 'MT-105554', 'MT-70150', 'MT-194896', 'MT-28511', 'MT-41364', 'MT-81846', 'MT-7029', 'MT-113048', 'MT-70031', 'MT-16758', 'MT-114876', 'MT-118480', 'MT-7568', 'MT-105554', 'MT-118480', 'MT-25897', 'MT-21992', 'RT-49071', 'MT-38535', 'RT-103957', 'MT-126086', 'MT-55879', 'MT-11677', 'MT-153398', 'MT-9903', 'MT-201883', 'MT-42791', 'MT-433018', 'MT-55879', 'MT-14201', 'MT-77830', 'MT-77830', 'MT-89807', 'MT-5018', 'MT-123269', 'MT-8742', 'MT-48843', 'MT-128691', 'MT-153402', 'RE-153402', 'MT-15295', 'MT-86898', 'RT-157211', 'RT-17567', 'MT-9567', 'MT-120065', 'MT-62999', 'MT-221355', 'MT-195847', 'MT-40856', 'MT-140330', 'MT-101291', 'MT-38055', 'MT-38055', 'MT-6963', 'MT-241894', 'MT-160823', 'MT-224977', 'MT-366829', 'MT-219732', 'MT-73595', 'MT-5800', 'MT-23681', 'MT-33407', 'MT-304485', 'MT-3600', 'MT-221694', 'RT-3433', 'MT-38796', 'MT-48920', 'MT-147790', 'MT-91518', 'MT-16970', 'MT-16970', 'MT-39457', 'MT-85447', 'MT-103038', 'MT-26079', 'MT-128292', 'RT-98489', 'MT-55608', 'MT-62974', 'MT-37176', 'MT-379331', 'MT-15783', 'MT-4775', 'MT-89807', 'MT-98966', 'MT-118274', 'MT-147790', 'MT-4185', 'MT-130928', 'MT-18349', 'MT-29542', 'MT-84031', 'MT-30839', 'MT-37952']\n",
            "    26637: ['MT-5393', 'MT-7067', 'MT-7067']\n",
            "    5393: ['MT-5393', 'MT-40973', 'RT-116052']\n",
            "    4665: ['MT-50219', 'RT-106211', 'RT-169664', 'MT-44316', 'MT-11876', 'RT-50219', 'MT-50219', 'MT-88963', 'RT-8966', 'MT-133418', 'RT-133418', 'RT-28820', 'RT-14947', 'RT-5123', 'RT-118892', 'RT-5123', 'RT-4619', 'MT-80101', 'MT-100127', 'MT-42069', 'RE-42069', 'RT-50219', 'MT-50219', 'MT-50219', 'RT-5087', 'RT-39564', 'RT-98204', 'MT-50219', 'RT-241617', 'RT-98204', 'MT-98204', 'RE-98204', 'RT-50219', 'MT-50219', 'RT-50219', 'MT-50219', 'RT-50219', 'RT-43141', 'MT-50219', 'MT-50219', 'MT-378', 'MT-51342', 'RE-51342', 'MT-50219', 'RT-340', 'MT-2328', 'RT-39564', 'RT-33833', 'RT-11991', 'MT-1276', 'MT-10339', 'MT-54135', 'MT-50219', 'RT-66371', 'RT-128', 'MT-50219', 'MT-50219', 'MT-103451', 'RT-3994', 'RT-3972', 'RT-163806', 'RT-106211', 'RT-201337', 'RT-64911', 'RT-25014', 'RT-25014', 'RT-5160', 'RT-169664', 'RT-40185', 'RT-98204', 'MT-5280', 'RT-176473', 'MT-50219', 'MT-50219', 'MT-50219', 'RT-32242', 'MT-22919', 'RE-22919', 'MT-50219', 'MT-50219', 'MT-580', 'RT-45350', 'MT-7501', 'MT-50219', 'MT-88963', 'MT-49075', 'RT-29961', 'MT-5087', 'MT-98204', 'RE-98204', 'RT-50235', 'MT-3328', 'MT-50219', 'MT-11876', 'RT-11876', 'RT-11135', 'MT-50219', 'MT-5143', 'MT-50219', 'MT-50219', 'MT-404', 'MT-14944', 'MT-50219', 'MT-50219', 'RT-50219', 'RT-1984', 'MT-50219', 'RT-5123', 'RT-492', 'MT-1984', 'RT-2431', 'RT-63040', 'RT-43722', 'RT-43722', 'RT-159066', 'RT-50219', 'RT-2513', 'MT-110903', 'MT-11991', 'MT-89805', 'RT-50235', 'MT-110903', 'MT-89805', 'RT-50219', 'RT-50219']\n",
            "    26139: ['MT-132827', 'MT-184805', 'MT-11876', 'MT-168757', 'MT-185374', 'MT-129341', 'MT-80101', 'MT-26079', 'MT-202323', 'MT-108484', 'MT-83601', 'MT-211180', 'MT-68932', 'MT-94847', 'MT-184805', 'MT-18140', 'MT-99456', 'MT-88137', 'MT-94583', 'MT-94583', 'MT-29442', 'MT-111176', 'MT-29420', 'MT-74573', 'MT-252984', 'MT-27145', 'MT-68498', 'MT-11006', 'MT-89620', 'MT-89620', 'MT-51889', 'MT-81598', 'MT-11876', 'MT-188614', 'MT-192342', 'MT-210369', 'MT-37671', 'MT-35712', 'MT-56528', 'MT-26079']\n",
            "    64911: ['MT-89805', 'RT-103447', 'RT-42180', 'MT-88', 'MT-120719', 'MT-24341', 'MT-9883', 'MT-307629', 'MT-29482', 'MT-168804', 'MT-194948', 'MT-9060', 'MT-41894', 'RT-214036', 'MT-132650', 'MT-230370', 'MT-96118', 'MT-63677', 'MT-61322', 'MT-50218', 'MT-8855', 'MT-120495', 'MT-62391', 'MT-51081', 'MT-25315', 'MT-31026', 'MT-42180', 'MT-151681', 'MT-237167', 'MT-237751', 'MT-139726', 'MT-167606', 'MT-6150', 'MT-127479', 'MT-127479', 'MT-273095', 'MT-29871', 'MT-8832', 'MT-247468', 'MT-39885', 'MT-64911', 'RT-103447', 'RT-30451', 'MT-64911', 'RT-42172', 'RT-103447', 'MT-89805', 'RT-28951', 'RT-11614', 'RT-57105', 'RT-59173', 'MT-49179', 'MT-17703', 'RT-42180', 'MT-23866', 'MT-39885', 'RE-39885', 'MT-2062', 'RT-103447', 'RT-128781', 'RT-103447', 'MT-103447', 'RE-103447', 'RT-103447', 'MT-88838', 'RT-88838', 'MT-89805', 'MT-88838', 'RT-39885', 'MT-12751', 'RT-35376', 'MT-103447', 'RT-64485', 'MT-19883', 'MT-20385', 'MT-100401', 'MT-78701', 'MT-150264', 'MT-89805', 'RE-89805', 'RT-35729', 'MT-12965', 'RT-88', 'MT-6341', 'RE-6341', 'RT-267227', 'RT-11916', 'RT-126883', 'RT-203200', 'RT-54301', 'RT-251578', 'RT-237458', 'RT-285087', 'RT-31244', 'MT-88', 'MT-75083', 'MT-18431', 'MT-175283', 'MT-241617', 'MT-89805', 'RE-89805', 'RT-111570', 'RT-42182', 'RT-110903', 'MT-62391', 'RT-160541', 'MT-160541', 'RT-103447', 'RT-42180', 'RT-53060', 'MT-103447', 'MT-17382']\n",
            "}\n",
            "\n",
            "Total Dictionary:\n",
            "{\n",
            "    213163: [223789, 223789, 213163, 246023, 246023, 213163]\n",
            "    50329: [99258, 56426, 153793, 184805, 832, 30184, 832, 56426, 84647, 36417, 50191, 832, 26129, 9952]\n",
            "    84647: [75083, 3604, 3933, 68939, 64367, 42180, 44086, 3604, 22814, 22814, 11953, 11953, 6793, 11953, 88838]\n",
            "    42182: [75083, 89805, 6072, 103447, 89805, 89805, 89805, 6072, 6072, 6072, 56968, 89805, 39885, 35604, 92274, 92274, 25661, 89805, 42182, 6072, 42172, 116270, 89805, 11991, 56968, 6072, 6072, 96198, 1276, 4182, 86501, 136057, 44086, 2373, 89805, 65926, 31022, 35604, 175264, 2527, 39885, 63619, 12745, 41854, 11991, 86496, 11991, 6072, 1276, 37162, 35707, 31624, 67647, 15161, 22195, 78258, 139451, 56968, 58912, 35604, 103447, 26158, 42172, 137587, 4138, 16057, 100672, 11991, 13809, 56968, 11991, 13809, 56968, 13754, 13754, 42182, 110903, 11991, 11991, 42172, 3287, 89805]\n",
            "    2417: [10284, 104567, 43515, 16970, 6269, 16936, 3013, 80267, 101592, 114548, 35382, 113596, 49179, 1471, 142187, 35738, 185145, 80864, 16970, 35738, 85796, 6940, 56426, 97433, 163757, 142114, 120800, 141185, 91518, 423, 1475, 13482, 20368, 4372, 2183, 15596, 42663, 28479, 164883, 164883, 51889, 147790, 457, 57346, 47220, 143596, 15295, 88114, 220949, 27050, 10392, 67190, 26103, 86516, 36268, 91518, 187941, 33776, 10255, 34289, 2373, 107135, 12751, 101238, 20493, 70191, 128, 666, 18438, 143185, 123517, 49174, 79067, 19695, 2733, 15188, 175276, 2684, 161376, 1077, 101238, 29542, 113578, 66389, 59194, 43942, 79201, 175282, 461, 87234, 84199, 19170, 94719, 13482, 2500, 85470, 29522, 57674, 9133, 182941, 11059, 78866, 102909, 157650, 44177, 186289, 15521, 2417, 72443, 55783, 48039, 8618, 140723, 140723, 16872, 91900, 47327, 48298, 80380, 114701, 26161, 4669, 203515, 36266, 36266, 40856, 14245, 164400, 15772, 38328, 27311, 201883, 329, 126034, 26067, 95510, 32849, 117664, 32357, 22240, 53049, 80732, 48272, 202367, 119591, 163805, 4342, 7322, 101238, 4841, 118990, 13566, 17530, 100597, 129931, 33875, 93339, 52274, 7815, 43168, 27050, 27811, 59177, 59177, 59155, 59155, 19192, 8384, 186996, 2083, 107138, 6269, 63454, 206354, 36286, 36264, 103150, 286465, 22357, 38545, 85033, 24543, 4509, 103954, 14567, 86049, 128023, 13799, 73105, 18349, 12153, 75519, 40980, 30525, 44983, 30525, 31207, 31207, 33145, 13900, 43314, 123413, 43314, 18878, 112140, 36288, 14889, 230282, 148719, 148719, 15295, 8473, 57094, 41649, 40980, 13776, 89805, 255365, 22805, 130438, 113574, 30226, 8966, 272693, 29542, 5087, 146637, 191812, 43314, 369, 110094, 149736, 35442, 78600, 21923, 27788, 164145, 65590, 66207, 4980, 33788, 87695, 87305, 30827, 8170, 9044, 40592, 11141, 3704, 80886, 3614, 95510, 238968, 91611, 94961, 100833, 79873, 66226, 208482, 141185, 98651, 118008, 59194, 116277, 19200, 25688, 29423, 31225, 74533, 4576, 59264, 15521, 104101, 163627, 13799, 39405, 63817, 26103, 86634, 104567, 74220, 91518, 66320, 78929, 1159, 2172, 677, 260011, 117972, 11531, 238028, 51181, 42984, 118008, 110454, 170699, 272693, 170699, 272693, 171433, 49158, 11876, 81203, 255534, 84016, 99030, 1077, 153793, 107895, 197236, 34888, 17509, 5086, 70626, 99030, 142100, 65866, 142114, 203659, 3188, 32486, 181919, 26737, 66046, 85844, 80787, 145675, 366829, 366829, 50885, 16970, 164246, 16970, 17041, 98115, 4293, 181053, 69596, 93756, 163646, 38184, 150048, 15275, 37788, 65650, 73130, 36345, 34749, 58848, 18565, 164749, 59639, 3869, 95257, 101238, 89807, 26941, 12751, 132968, 27295, 54301, 158607, 13900, 149467, 50948, 4093, 131385, 439, 14957, 18879, 18879, 439, 492, 129108, 18052, 172169, 10392, 105354, 323249, 80472, 16677, 800, 118365, 51903, 105554, 70150, 194896, 28511, 41364, 81846, 7029, 113048, 70031, 16758, 114876, 118480, 7568, 105554, 118480, 25897, 21992, 49071, 38535, 103957, 126086, 55879, 11677, 153398, 9903, 201883, 42791, 433018, 55879, 14201, 77830, 77830, 89807, 5018, 123269, 8742, 48843, 128691, 153402, 153402, 15295, 86898, 157211, 17567, 9567, 120065, 62999, 221355, 195847, 40856, 140330, 101291, 38055, 38055, 6963, 241894, 160823, 224977, 366829, 219732, 73595, 5800, 23681, 33407, 304485, 3600, 221694, 3433, 38796, 48920, 147790, 91518, 16970, 16970, 39457, 85447, 103038, 26079, 128292, 98489, 55608, 62974, 37176, 379331, 15783, 4775, 89807, 98966, 118274, 147790, 4185, 130928, 18349, 29542, 84031, 30839, 37952]\n",
            "    26637: [5393, 7067, 7067]\n",
            "    5393: [5393, 40973, 116052]\n",
            "    4665: [50219, 106211, 169664, 44316, 11876, 50219, 50219, 88963, 8966, 133418, 133418, 28820, 14947, 5123, 118892, 5123, 4619, 80101, 100127, 42069, 42069, 50219, 50219, 50219, 5087, 39564, 98204, 50219, 241617, 98204, 98204, 98204, 50219, 50219, 50219, 50219, 50219, 43141, 50219, 50219, 378, 51342, 51342, 50219, 340, 2328, 39564, 33833, 11991, 1276, 10339, 54135, 50219, 66371, 128, 50219, 50219, 103451, 3994, 3972, 163806, 106211, 201337, 64911, 25014, 25014, 5160, 169664, 40185, 98204, 5280, 176473, 50219, 50219, 50219, 32242, 22919, 22919, 50219, 50219, 580, 45350, 7501, 50219, 88963, 49075, 29961, 5087, 98204, 98204, 50235, 3328, 50219, 11876, 11876, 11135, 50219, 5143, 50219, 50219, 404, 14944, 50219, 50219, 50219, 1984, 50219, 5123, 492, 1984, 2431, 63040, 43722, 43722, 159066, 50219, 2513, 110903, 11991, 89805, 50235, 110903, 89805, 50219, 50219]\n",
            "    26139: [132827, 184805, 11876, 168757, 185374, 129341, 80101, 26079, 202323, 108484, 83601, 211180, 68932, 94847, 184805, 18140, 99456, 88137, 94583, 94583, 29442, 111176, 29420, 74573, 252984, 27145, 68498, 11006, 89620, 89620, 51889, 81598, 11876, 188614, 192342, 210369, 37671, 35712, 56528, 26079]\n",
            "    64911: [89805, 103447, 42180, 88, 120719, 24341, 9883, 307629, 29482, 168804, 194948, 9060, 41894, 214036, 132650, 230370, 96118, 63677, 61322, 50218, 8855, 120495, 62391, 51081, 25315, 31026, 42180, 151681, 237167, 237751, 139726, 167606, 6150, 127479, 127479, 273095, 29871, 8832, 247468, 39885, 64911, 103447, 30451, 64911, 42172, 103447, 89805, 28951, 11614, 57105, 59173, 49179, 17703, 42180, 23866, 39885, 39885, 2062, 103447, 128781, 103447, 103447, 103447, 103447, 88838, 88838, 89805, 88838, 39885, 12751, 35376, 103447, 64485, 19883, 20385, 100401, 78701, 150264, 89805, 89805, 35729, 12965, 88, 6341, 6341, 267227, 11916, 126883, 203200, 54301, 251578, 237458, 285087, 31244, 88, 75083, 18431, 175283, 241617, 89805, 89805, 111570, 42182, 110903, 62391, 160541, 160541, 103447, 42180, 53060, 103447, 17382]\n",
            "}\n"
          ]
        }
      ]
    },
    {
      "cell_type": "code",
      "source": [
        "# Assuming you have already read the file and have the pandas DataFrame 'df'\n",
        "\n",
        "# Initialize the dictionaries to store the results\n",
        "mention_dict = {}\n",
        "retweet_dict = {}\n",
        "reply_dict = {}\n",
        "merged = {}\n",
        "total = {}\n",
        "\n",
        "# Set the number of records to process before printing the progress\n",
        "records_to_print = 1000\n",
        "processed_records = 0\n",
        "total_records = len(df)\n",
        "\n",
        "# Loop over the DataFrame\n",
        "for index, row in df.iterrows():\n",
        "    if row['action'] == 'MT':\n",
        "        key = row['id1']\n",
        "        value = row['id2']\n",
        "\n",
        "        # Check if the key exists in the dictionary, if not, initialize an empty list\n",
        "        if key not in mention_dict:\n",
        "            mention_dict[key] = []\n",
        "\n",
        "        # Append the value to the list\n",
        "        mention_dict[key].append(value)\n",
        "\n",
        "        # Update the merged dictionary with the value and prefix\n",
        "        if key not in merged:\n",
        "            merged[key] =[]\n",
        "\n",
        "        merged[key].append(f\"MT-{value}\")\n",
        "        if key not in total:\n",
        "            total[key] =[]\n",
        "\n",
        "        total[key].append(value)\n",
        "    elif row['action'] == 'RT':\n",
        "        key = row['id1']\n",
        "        value = row['id2']\n",
        "\n",
        "        # Check if the key exists in the dictionary, if not, initialize an empty list\n",
        "        if key not in retweet_dict:\n",
        "            retweet_dict[key] = []\n",
        "\n",
        "        # Append the value to the list\n",
        "        retweet_dict[key].append(value)\n",
        "\n",
        "        # Update the merged dictionary with the value and prefix\n",
        "        if key not in merged:\n",
        "            merged[key] =[]\n",
        "        merged[key].append(f\"RT-{value}\")\n",
        "        if key not in total:\n",
        "            total[key] =[]\n",
        "\n",
        "        total[key].append(value)\n",
        "    elif row['action'] == 'RE':\n",
        "        key = row['id1']\n",
        "        value = row['id2']\n",
        "\n",
        "        # Check if the key exists in the dictionary, if not, initialize an empty list\n",
        "        if key not in reply_dict:\n",
        "            reply_dict[key] = []\n",
        "\n",
        "        # Append the value to the list\n",
        "        reply_dict[key].append(value)\n",
        "\n",
        "        # Update the merged dictionary with the value and prefix\n",
        "        if key not in merged:\n",
        "            merged[key] =[]\n",
        "        merged[key].append(f\"RE-{value}\")\n",
        "        if key not in total:\n",
        "            total[key] =[]\n",
        "\n",
        "        total[key].append(value)\n",
        "\n",
        "    processed_records += 1\n",
        "    if processed_records % records_to_print == 0 or processed_records == total_records:\n",
        "        percentage_complete = (processed_records / total_records) * 100\n",
        "        print(f'\\rProgress: {percentage_complete:.2f}%  ', end='')\n",
        "\n",
        "# Display the merged dictionary\n",
        "print(\"\\nMerged Dictionary:\")\n",
        "print_dictionary(merged, limit=10)\n",
        "print(\"\\nTotal Dictionary:\")\n",
        "print_dictionary(total, limit=10)"
      ],
      "metadata": {
        "colab": {
          "base_uri": "https://localhost:8080/"
        },
        "id": "bcKsPuOmlcMO",
        "outputId": "23951f12-0b82-4b90-d7be-75c2a3019777"
      },
      "execution_count": null,
      "outputs": [
        {
          "output_type": "stream",
          "name": "stdout",
          "text": [
            "Progress: 100.00%  \n",
            "Merged Dictionary:\n",
            "{\n",
            "    223789: ['MT-213163', 'RE-213163', 'RT-251638', 'RT-88', 'MT-66977', 'MT-2994', 'MT-138464', 'RE-138464', 'RT-138464']\n",
            "    99258: ['RT-50329']\n",
            "    75083: ['RT-84647', 'MT-42182', 'MT-13808', 'RT-11876', 'MT-39564', 'RE-39564', 'MT-88', 'MT-3998', 'RE-3998', 'RT-30324', 'RT-30324', 'RT-88', 'MT-88', 'RT-26158', 'RT-5137', 'RT-349', 'RT-349', 'MT-349', 'RE-349', 'MT-553', 'RE-553', 'MT-88', 'RT-3998', 'MT-13813', 'MT-88', 'RT-3998', 'RT-56968', 'MT-88', 'RT-27311', 'MT-677', 'MT-553', 'RE-553', 'MT-3027', 'MT-3027', 'RT-11991', 'RT-88', 'RT-2567', 'RT-49007', 'MT-468', 'RT-2941', 'RT-2941', 'MT-24704', 'RT-5079', 'MT-88', 'RT-88', 'MT-64911', 'MT-52087', 'MT-50595', 'RT-3237']\n",
            "    10284: ['MT-2417', 'MT-10375', 'RT-1298', 'MT-1298', 'RT-383', 'RT-6119', 'RT-26514', 'RT-26514']\n",
            "    5393: ['MT-26637', 'MT-5393', 'MT-7414', 'MT-33666']\n",
            "    50219: ['MT-4665', 'MT-26398', 'RT-4665', 'MT-63931', 'MT-4665', 'RT-4665', 'MT-4665', 'MT-27484', 'MT-4665', 'MT-11991', 'MT-6373', 'MT-3994', 'MT-3972', 'MT-13501', 'MT-4665', 'MT-88', 'MT-5193', 'MT-26398', 'RT-4665', 'MT-4665', 'MT-5193', 'RT-4665', 'MT-4665', 'MT-13808', 'MT-502', 'MT-6373', 'MT-3994', 'MT-3972', 'RT-4665', 'MT-6373', 'MT-3994', 'MT-3972', 'MT-4665', 'MT-4665', 'MT-5245', 'MT-3994', 'MT-3994', 'MT-3994', 'MT-3994', 'MT-4665', 'MT-3994', 'MT-5137', 'MT-4665', 'MT-5137', 'RE-5137', 'MT-4665', 'MT-5137', 'MT-4665', 'MT-6373', 'MT-3994', 'MT-4665', 'MT-88', 'MT-4665', 'MT-121586', 'MT-4665', 'MT-88', 'MT-4665', 'MT-4665', 'MT-5193', 'MT-26398', 'MT-4665', 'RT-5121', 'MT-4665', 'MT-5121', 'MT-8402', 'MT-6373', 'MT-3994', 'MT-50235', 'MT-13501', 'MT-13501', 'MT-13501', 'MT-13501', 'MT-4665', 'MT-11876', 'MT-6373', 'MT-3994', 'MT-3972', 'MT-4665', 'MT-29806', 'MT-4665', 'RT-29806', 'MT-6373', 'MT-3994', 'MT-4665', 'MT-2014', 'MT-13809', 'MT-4665', 'RT-4665', 'MT-4665', 'RT-4665', 'MT-2687', 'MT-6373', 'MT-3994', 'MT-6373', 'MT-3994', 'RT-4665', 'MT-11876', 'RT-4665', 'MT-11876']\n",
            "    132827: ['MT-26139', 'RT-5193']\n",
            "    89805: ['MT-64911', 'MT-13813', 'MT-42182', 'MT-12751', 'MT-13808', 'MT-88', 'MT-26486', 'MT-12751', 'MT-13808', 'MT-13808', 'MT-13603', 'MT-9704', 'MT-87263', 'MT-21280', 'MT-9704', 'MT-39885', 'MT-42182', 'MT-11991', 'MT-92274', 'MT-13813', 'MT-92274', 'MT-92274', 'MT-42182', 'MT-3547', 'MT-98204', 'MT-35729', 'MT-92274', 'MT-19604', 'MT-11991', 'MT-55521', 'MT-11991', 'MT-11991', 'MT-11991', 'MT-11991', 'MT-88', 'MT-7639', 'MT-98204', 'MT-98204', 'MT-11876', 'MT-519', 'MT-27723', 'MT-110903', 'MT-103451', 'MT-88', 'MT-3998', 'MT-3998', 'MT-26158', 'MT-19870', 'MT-3603', 'MT-12751', 'MT-12751', 'MT-42182', 'MT-14957', 'MT-25089', 'MT-14907', 'MT-1276', 'MT-553', 'MT-14166', 'MT-11991', 'MT-89805', 'MT-5226', 'MT-12751', 'MT-3998', 'MT-5226', 'MT-42172', 'MT-5226', 'MT-42172', 'MT-5226', 'MT-42172', 'MT-110903', 'MT-13808', 'MT-3994', 'MT-3972', 'MT-35729', 'RE-35729', 'MT-13808', 'MT-7639', 'MT-9704', 'MT-3972', 'MT-88', 'MT-5226', 'MT-519', 'MT-9704', 'MT-67382', 'MT-1988', 'MT-12751', 'MT-3547', 'MT-3547', 'MT-5226', 'MT-6241', 'MT-3547', 'MT-3547', 'MT-13778', 'MT-3547', 'MT-6080', 'MT-473', 'MT-88', 'MT-22849', 'MT-11792', 'MT-39885', 'MT-13808', 'MT-1988', 'MT-19604', 'MT-62906', 'MT-26398', 'MT-105116', 'MT-98204', 'RE-98204', 'MT-98204', 'RE-98204', 'MT-48540', 'MT-15188', 'MT-1988', 'MT-9704', 'MT-15210', 'MT-519', 'MT-13808', 'MT-14964', 'MT-3604', 'MT-11991', 'MT-64906', 'MT-110903', 'MT-2177', 'MT-519', 'MT-13808', 'MT-27484', 'RE-27484', 'MT-9964', 'MT-6373', 'MT-3994', 'MT-3972', 'MT-519', 'MT-511', 'MT-26153', 'MT-16801', 'MT-56968', 'MT-30322', 'RE-30322', 'MT-105416', 'MT-39959', 'MT-13808', 'MT-3994', 'MT-3972', 'MT-27723', 'MT-2143', 'MT-3807', 'MT-26158', 'MT-13813', 'MT-88', 'MT-3998', 'MT-26153', 'MT-46117', 'MT-9704', 'RE-9704', 'MT-3972', 'MT-40973', 'MT-64906', 'MT-14166', 'MT-88', 'MT-3998', 'MT-28951', 'MT-110903', 'MT-42182', 'MT-88', 'MT-42172', 'MT-9704', 'MT-13808', 'MT-13820', 'MT-27723', 'MT-13813', 'MT-88', 'MT-3998', 'MT-35729', 'MT-13813', 'MT-88', 'MT-3998', 'MT-6940', 'MT-98992', 'MT-3998', 'MT-1988', 'MT-13813', 'MT-88', 'MT-3998', 'MT-64906', 'MT-3998', 'MT-39885', 'MT-15538', 'MT-88', 'MT-3998', 'MT-39885', 'MT-1988', 'MT-16801', 'MT-9704', 'MT-88', 'MT-3998', 'MT-88', 'MT-3998', 'MT-88', 'MT-3998', 'MT-3604', 'MT-42182', 'MT-28951', 'MT-519', 'MT-13808', 'MT-1988', 'MT-26153', 'MT-98204', 'MT-16801', 'MT-39885', 'MT-88', 'MT-3998', 'MT-3998', 'MT-1988', 'MT-42182', 'MT-23956', 'MT-9107', 'MT-13808', 'MT-103447', 'MT-1988', 'MT-88', 'MT-88', 'MT-3998', 'MT-88', 'MT-3998', 'MT-88', 'MT-3998', 'MT-88', 'MT-3998', 'MT-20385', 'MT-13808', 'MT-46117', 'MT-67382', 'MT-13808', 'MT-88', 'MT-3998', 'MT-88', 'MT-3998', 'MT-3998', 'MT-92274', 'MT-16801', 'MT-88', 'MT-3998', 'MT-3998', 'MT-92274', 'MT-9704', 'MT-13808', 'MT-39885', 'MT-88', 'MT-3998', 'MT-3998', 'MT-42172', 'MT-13798', 'MT-20385', 'MT-3998', 'MT-92274', 'MT-88', 'MT-3998', 'MT-88', 'MT-3998', 'MT-9704', 'MT-88', 'MT-3998', 'MT-64906', 'MT-64906', 'MT-64906', 'MT-64906', 'MT-9704', 'MT-3998', 'MT-88', 'MT-3998', 'MT-3998', 'MT-46117', 'MT-1988', 'MT-13813', 'MT-677', 'MT-677', 'MT-92274', 'MT-42182', 'MT-11991', 'MT-3998', 'MT-13798', 'MT-3998', 'MT-13813', 'MT-88', 'MT-3998', 'MT-11991', 'MT-92274', 'MT-88', 'MT-3998', 'MT-88', 'MT-3998', 'MT-88', 'MT-11991', 'MT-39885', 'MT-3998', 'MT-13808', 'MT-92274', 'MT-16801', 'MT-13808', 'MT-19604', 'MT-110903', 'MT-11991', 'MT-92274', 'MT-677', 'MT-3998', 'MT-13813', 'MT-88', 'MT-3998', 'MT-39885', 'MT-42172', 'MT-11991', 'MT-677', 'MT-35729', 'MT-39885', 'MT-88', 'MT-677', 'MT-27723', 'MT-88', 'MT-3998', 'MT-13813', 'MT-42172', 'MT-16801', 'MT-88', 'MT-3998', 'MT-3998', 'MT-677', 'MT-92274', 'MT-88', 'MT-64911', 'MT-13813', 'MT-3998', 'MT-3998', 'MT-3998', 'MT-88', 'MT-42172', 'MT-677', 'MT-13813', 'MT-11991', 'MT-88', 'MT-3998', 'MT-3998', 'MT-13813', 'MT-88', 'MT-3998', 'MT-13813', 'MT-92274', 'MT-16801', 'MT-110903', 'MT-88', 'MT-13813', 'MT-13813', 'MT-88', 'MT-3998', 'MT-39885', 'MT-9704', 'MT-110903', 'MT-39885', 'MT-9704', 'MT-16801', 'MT-13813', 'MT-88', 'MT-19604', 'MT-110903', 'MT-88', 'MT-3998', 'MT-16801', 'MT-20385', 'MT-42643', 'MT-13813', 'MT-88', 'MT-13813', 'MT-92274', 'MT-13813', 'MT-92274', 'MT-110903', 'MT-13813', 'MT-88', 'MT-3998', 'MT-16801', 'MT-677', 'MT-92274', 'MT-9704', 'MT-16801', 'MT-39885', 'MT-16801', 'MT-13813', 'MT-11991', 'MT-39885', 'MT-88', 'MT-92274', 'MT-13813', 'MT-3998', 'MT-42172', 'MT-19604', 'MT-9704', 'MT-13808', 'MT-13808', 'MT-35729', 'MT-56968', 'MT-88', 'MT-3998', 'MT-13812', 'MT-88', 'MT-3998', 'MT-11991', 'MT-88', 'MT-11991', 'MT-13813', 'MT-88', 'MT-3998', 'MT-16801', 'MT-92274', 'MT-13813', 'MT-12022', 'MT-1503', 'MT-19870', 'MT-46838', 'MT-13808', 'MT-13808', 'MT-88', 'MT-13813', 'MT-56968', 'MT-511', 'MT-13808', 'MT-88', 'MT-5226', 'MT-103451', 'MT-13813', 'MT-3998', 'MT-35729', 'MT-88', 'MT-67382', 'MT-4182', 'MT-35729', 'MT-87263', 'MT-35729', 'MT-35729', 'MT-11991', 'MT-11991', 'MT-88', 'MT-13808', 'MT-13784', 'MT-67382', 'MT-13808', 'MT-35729', 'MT-3998', 'MT-35729', 'MT-35729', 'MT-88', 'MT-13808', 'MT-88', 'MT-88', 'MT-88', 'MT-19870', 'MT-55521', 'MT-98204', 'MT-2417', 'MT-13799', 'MT-13766', 'MT-23395', 'MT-20385', 'MT-349', 'MT-1852', 'MT-64906', 'MT-74019', 'MT-14907', 'MT-13809', 'MT-11991', 'MT-9964', 'MT-503', 'MT-87263', 'MT-13141', 'MT-88', 'MT-677', 'MT-7690', 'MT-511', 'MT-677', 'MT-13795', 'MT-9964', 'MT-9964', 'MT-87263', 'MT-14166', 'MT-63931', 'MT-1988', 'MT-1988', 'MT-677', 'MT-13808', 'MT-103447', 'MT-13808', 'MT-13854', 'MT-12751', 'MT-88', 'MT-15210', 'MT-2177', 'MT-35725', 'MT-12965', 'MT-13808', 'MT-22990', 'MT-205', 'MT-13808', 'MT-519', 'MT-22990', 'MT-205', 'MT-13808', 'MT-519', 'MT-39889', 'MT-88', 'MT-3998', 'MT-21280', 'MT-4642', 'MT-10392', 'MT-4740', 'MT-27723', 'MT-22849', 'MT-3650', 'MT-13799', 'MT-27483', 'MT-5196', 'MT-1276', 'MT-5226', 'MT-12751', 'MT-27723', 'MT-64906', 'MT-5226', 'MT-88', 'MT-5226', 'MT-5193', 'MT-26398', 'MT-511', 'MT-27616', 'MT-2014', 'MT-21949', 'MT-7639', 'MT-56968', 'RT-4368', 'MT-15488', 'MT-511', 'MT-7274', 'MT-62514', 'MT-3998', 'MT-39420', 'MT-19604', 'MT-103451', 'MT-91', 'MT-396', 'MT-39885', 'MT-92274', 'MT-13813', 'MT-4372', 'MT-88', 'MT-3998', 'MT-39885', 'MT-35729', 'MT-188', 'MT-1997', 'MT-553', 'MT-35729', 'MT-511', 'MT-542', 'MT-553', 'MT-188', 'MT-64911', 'MT-2416', 'MT-519', 'MT-12751', 'MT-3998', 'MT-3998', 'MT-186', 'MT-20385', 'RE-20385', 'MT-88', 'MT-186', 'MT-64911', 'RE-64911', 'MT-4665', 'MT-42172', 'MT-39885', 'RT-14907', 'RT-14907', 'MT-88', 'MT-1880', 'MT-3604', 'MT-88', 'MT-64911', 'RE-64911', 'MT-52087', 'MT-88', 'MT-12965', 'RE-12965', 'MT-13798', 'MT-3998', 'MT-43742', 'MT-79198', 'MT-13809', 'MT-18168', 'MT-13809', 'MT-3972', 'MT-4665', 'MT-110903', 'MT-492', 'MT-15489', 'MT-110903', 'MT-13808', 'MT-19604', 'MT-110903', 'MT-42182', 'MT-9704', 'MT-13830']\n",
            "    80101: ['MT-46842', 'MT-80101', 'MT-80101', 'MT-25089', 'RT-14907', 'MT-1276', 'RT-63931', 'MT-4665', 'MT-26139', 'MT-11876', 'RT-27483', 'MT-5245', 'MT-11876', 'MT-13808', 'MT-11876', 'RT-88', 'MT-13808', 'RT-14166', 'RT-170862', 'RT-1988', 'MT-489', 'MT-13797', 'RT-3604', 'MT-88', 'MT-3998', 'MT-88', 'RT-88', 'MT-88', 'MT-36989', 'MT-12473', 'MT-1988', 'RT-18721', 'MT-118365', 'MT-13797', 'MT-11991', 'MT-88', 'RT-45909', 'RT-47759', 'MT-88', 'MT-13797', 'MT-1988', 'MT-5226', 'MT-1988', 'MT-1988', 'MT-349', 'MT-1988', 'RT-30790', 'MT-1988', 'MT-32219', 'MT-1988', 'MT-5193', 'MT-88', 'MT-3998', 'RT-88', 'RT-45605', 'MT-1988', 'RT-5193', 'MT-26398', 'MT-88', 'RT-468', 'MT-468', 'MT-13797', 'RE-13797', 'RT-11876', 'MT-5226', 'MT-13797', 'MT-13795', 'MT-13795', 'MT-13797', 'RT-9964', 'MT-13797', 'MT-677', 'RT-11876', 'MT-13797', 'RT-327', 'MT-13797', 'MT-13797', 'MT-80101', 'RT-5245', 'MT-13797', 'MT-5193', 'MT-67382', 'RT-67382', 'RT-67382', 'RT-11876', 'RT-3604', 'RT-3604', 'RT-11876']\n",
            "    2733: ['MT-21469', 'MT-21469', 'MT-2417', 'MT-1101', 'MT-1101', 'RT-6282', 'MT-6282']\n",
            "}\n",
            "\n",
            "Total Dictionary:\n",
            "{\n",
            "    223789: [213163, 213163, 251638, 88, 66977, 2994, 138464, 138464, 138464]\n",
            "    99258: [50329]\n",
            "    75083: [84647, 42182, 13808, 11876, 39564, 39564, 88, 3998, 3998, 30324, 30324, 88, 88, 26158, 5137, 349, 349, 349, 349, 553, 553, 88, 3998, 13813, 88, 3998, 56968, 88, 27311, 677, 553, 553, 3027, 3027, 11991, 88, 2567, 49007, 468, 2941, 2941, 24704, 5079, 88, 88, 64911, 52087, 50595, 3237]\n",
            "    10284: [2417, 10375, 1298, 1298, 383, 6119, 26514, 26514]\n",
            "    5393: [26637, 5393, 7414, 33666]\n",
            "    50219: [4665, 26398, 4665, 63931, 4665, 4665, 4665, 27484, 4665, 11991, 6373, 3994, 3972, 13501, 4665, 88, 5193, 26398, 4665, 4665, 5193, 4665, 4665, 13808, 502, 6373, 3994, 3972, 4665, 6373, 3994, 3972, 4665, 4665, 5245, 3994, 3994, 3994, 3994, 4665, 3994, 5137, 4665, 5137, 5137, 4665, 5137, 4665, 6373, 3994, 4665, 88, 4665, 121586, 4665, 88, 4665, 4665, 5193, 26398, 4665, 5121, 4665, 5121, 8402, 6373, 3994, 50235, 13501, 13501, 13501, 13501, 4665, 11876, 6373, 3994, 3972, 4665, 29806, 4665, 29806, 6373, 3994, 4665, 2014, 13809, 4665, 4665, 4665, 4665, 2687, 6373, 3994, 6373, 3994, 4665, 11876, 4665, 11876]\n",
            "    132827: [26139, 5193]\n",
            "    89805: [64911, 13813, 42182, 12751, 13808, 88, 26486, 12751, 13808, 13808, 13603, 9704, 87263, 21280, 9704, 39885, 42182, 11991, 92274, 13813, 92274, 92274, 42182, 3547, 98204, 35729, 92274, 19604, 11991, 55521, 11991, 11991, 11991, 11991, 88, 7639, 98204, 98204, 11876, 519, 27723, 110903, 103451, 88, 3998, 3998, 26158, 19870, 3603, 12751, 12751, 42182, 14957, 25089, 14907, 1276, 553, 14166, 11991, 89805, 5226, 12751, 3998, 5226, 42172, 5226, 42172, 5226, 42172, 110903, 13808, 3994, 3972, 35729, 35729, 13808, 7639, 9704, 3972, 88, 5226, 519, 9704, 67382, 1988, 12751, 3547, 3547, 5226, 6241, 3547, 3547, 13778, 3547, 6080, 473, 88, 22849, 11792, 39885, 13808, 1988, 19604, 62906, 26398, 105116, 98204, 98204, 98204, 98204, 48540, 15188, 1988, 9704, 15210, 519, 13808, 14964, 3604, 11991, 64906, 110903, 2177, 519, 13808, 27484, 27484, 9964, 6373, 3994, 3972, 519, 511, 26153, 16801, 56968, 30322, 30322, 105416, 39959, 13808, 3994, 3972, 27723, 2143, 3807, 26158, 13813, 88, 3998, 26153, 46117, 9704, 9704, 3972, 40973, 64906, 14166, 88, 3998, 28951, 110903, 42182, 88, 42172, 9704, 13808, 13820, 27723, 13813, 88, 3998, 35729, 13813, 88, 3998, 6940, 98992, 3998, 1988, 13813, 88, 3998, 64906, 3998, 39885, 15538, 88, 3998, 39885, 1988, 16801, 9704, 88, 3998, 88, 3998, 88, 3998, 3604, 42182, 28951, 519, 13808, 1988, 26153, 98204, 16801, 39885, 88, 3998, 3998, 1988, 42182, 23956, 9107, 13808, 103447, 1988, 88, 88, 3998, 88, 3998, 88, 3998, 88, 3998, 20385, 13808, 46117, 67382, 13808, 88, 3998, 88, 3998, 3998, 92274, 16801, 88, 3998, 3998, 92274, 9704, 13808, 39885, 88, 3998, 3998, 42172, 13798, 20385, 3998, 92274, 88, 3998, 88, 3998, 9704, 88, 3998, 64906, 64906, 64906, 64906, 9704, 3998, 88, 3998, 3998, 46117, 1988, 13813, 677, 677, 92274, 42182, 11991, 3998, 13798, 3998, 13813, 88, 3998, 11991, 92274, 88, 3998, 88, 3998, 88, 11991, 39885, 3998, 13808, 92274, 16801, 13808, 19604, 110903, 11991, 92274, 677, 3998, 13813, 88, 3998, 39885, 42172, 11991, 677, 35729, 39885, 88, 677, 27723, 88, 3998, 13813, 42172, 16801, 88, 3998, 3998, 677, 92274, 88, 64911, 13813, 3998, 3998, 3998, 88, 42172, 677, 13813, 11991, 88, 3998, 3998, 13813, 88, 3998, 13813, 92274, 16801, 110903, 88, 13813, 13813, 88, 3998, 39885, 9704, 110903, 39885, 9704, 16801, 13813, 88, 19604, 110903, 88, 3998, 16801, 20385, 42643, 13813, 88, 13813, 92274, 13813, 92274, 110903, 13813, 88, 3998, 16801, 677, 92274, 9704, 16801, 39885, 16801, 13813, 11991, 39885, 88, 92274, 13813, 3998, 42172, 19604, 9704, 13808, 13808, 35729, 56968, 88, 3998, 13812, 88, 3998, 11991, 88, 11991, 13813, 88, 3998, 16801, 92274, 13813, 12022, 1503, 19870, 46838, 13808, 13808, 88, 13813, 56968, 511, 13808, 88, 5226, 103451, 13813, 3998, 35729, 88, 67382, 4182, 35729, 87263, 35729, 35729, 11991, 11991, 88, 13808, 13784, 67382, 13808, 35729, 3998, 35729, 35729, 88, 13808, 88, 88, 88, 19870, 55521, 98204, 2417, 13799, 13766, 23395, 20385, 349, 1852, 64906, 74019, 14907, 13809, 11991, 9964, 503, 87263, 13141, 88, 677, 7690, 511, 677, 13795, 9964, 9964, 87263, 14166, 63931, 1988, 1988, 677, 13808, 103447, 13808, 13854, 12751, 88, 15210, 2177, 35725, 12965, 13808, 22990, 205, 13808, 519, 22990, 205, 13808, 519, 39889, 88, 3998, 21280, 4642, 10392, 4740, 27723, 22849, 3650, 13799, 27483, 5196, 1276, 5226, 12751, 27723, 64906, 5226, 88, 5226, 5193, 26398, 511, 27616, 2014, 21949, 7639, 56968, 4368, 15488, 511, 7274, 62514, 3998, 39420, 19604, 103451, 91, 396, 39885, 92274, 13813, 4372, 88, 3998, 39885, 35729, 188, 1997, 553, 35729, 511, 542, 553, 188, 64911, 2416, 519, 12751, 3998, 3998, 186, 20385, 20385, 88, 186, 64911, 64911, 4665, 42172, 39885, 14907, 14907, 88, 1880, 3604, 88, 64911, 64911, 52087, 88, 12965, 12965, 13798, 3998, 43742, 79198, 13809, 18168, 13809, 3972, 4665, 110903, 492, 15489, 110903, 13808, 19604, 110903, 42182, 9704, 13830]\n",
            "    80101: [46842, 80101, 80101, 25089, 14907, 1276, 63931, 4665, 26139, 11876, 27483, 5245, 11876, 13808, 11876, 88, 13808, 14166, 170862, 1988, 489, 13797, 3604, 88, 3998, 88, 88, 88, 36989, 12473, 1988, 18721, 118365, 13797, 11991, 88, 45909, 47759, 88, 13797, 1988, 5226, 1988, 1988, 349, 1988, 30790, 1988, 32219, 1988, 5193, 88, 3998, 88, 45605, 1988, 5193, 26398, 88, 468, 468, 13797, 13797, 11876, 5226, 13797, 13795, 13795, 13797, 9964, 13797, 677, 11876, 13797, 327, 13797, 13797, 80101, 5245, 13797, 5193, 67382, 67382, 67382, 11876, 3604, 3604, 11876]\n",
            "    2733: [21469, 21469, 2417, 1101, 1101, 6282, 6282]\n",
            "}\n"
          ]
        }
      ]
    },
    {
      "cell_type": "code",
      "source": [
        "from mlxtend.preprocessing import TransactionEncoder\n",
        "from mlxtend.frequent_patterns import apriori\n",
        "\n",
        "# Assuming you have already created the merged_dict\n",
        "# Convert the merged_dict to a list of lists (transactions)\n",
        "transactions = list(total_dict.values())\n",
        "\n",
        "# Initialize the TransactionEncoder\n",
        "te = TransactionEncoder()\n",
        "# Fit and transform the transactions using the TransactionEncoder\n",
        "te_ary = te.fit(transactions).transform(transactions)\n",
        "# Convert the transformed array back to a DataFrame\n",
        "df_encoded = pd.DataFrame(te_ary, columns=te.columns_)\n"
      ],
      "metadata": {
        "id": "xF5XwcBPlcIt"
      },
      "execution_count": null,
      "outputs": []
    },
    {
      "cell_type": "code",
      "source": [
        "# Apply the Apriori algorithm to calculate frequent itemsets 3\n",
        "frequent_itemsets = apriori(df_encoded, min_support=0.003, use_colnames=True)\n",
        "\n",
        "# Extract the item and its support value from the frequent itemsets DataFrame\n",
        "frequent_items_with_support = frequent_itemsets[['itemsets', 'support']]\n",
        "\n",
        "# Sort the frequent items by support in descending order\n",
        "frequent_items_with_support = frequent_items_with_support.sort_values(by='support', ascending=False)\n",
        "\n",
        "# Display the frequent items along with their support values (sorted by support)\n",
        "frequent_items_with_support.head(10)"
      ],
      "metadata": {
        "colab": {
          "base_uri": "https://localhost:8080/",
          "height": 417
        },
        "id": "bm5ln0VSlcHW",
        "outputId": "b7458d7c-ad5e-4fe3-e411-36244a400e32"
      },
      "execution_count": null,
      "outputs": [
        {
          "output_type": "stream",
          "name": "stderr",
          "text": [
            "/usr/local/lib/python3.10/dist-packages/ipykernel/ipkernel.py:283: DeprecationWarning: `should_run_async` will not call `transform_cell` automatically in the future. Please pass the result to `transformed_cell` argument and any exception that happen during thetransform in `preprocessing_exc_tuple` in IPython 7.17 and above.\n",
            "  and should_run_async(code)\n"
          ]
        },
        {
          "output_type": "execute_result",
          "data": {
            "text/plain": [
              "   itemsets   support\n",
              "32  (89805)  0.014862\n",
              "20  (38535)  0.010857\n",
              "0     (492)  0.007062\n",
              "14  (27705)  0.006008\n",
              "2    (1276)  0.005481\n",
              "26  (62391)  0.005376\n",
              "12  (26158)  0.005270\n",
              "23  (54301)  0.005165\n",
              "27  (64911)  0.005060\n",
              "6    (9021)  0.004533"
            ],
            "text/html": [
              "\n",
              "\n",
              "  <div id=\"df-69f81c95-49b0-43d6-a1da-f6f4984dd7b2\">\n",
              "    <div class=\"colab-df-container\">\n",
              "      <div>\n",
              "<style scoped>\n",
              "    .dataframe tbody tr th:only-of-type {\n",
              "        vertical-align: middle;\n",
              "    }\n",
              "\n",
              "    .dataframe tbody tr th {\n",
              "        vertical-align: top;\n",
              "    }\n",
              "\n",
              "    .dataframe thead th {\n",
              "        text-align: right;\n",
              "    }\n",
              "</style>\n",
              "<table border=\"1\" class=\"dataframe\">\n",
              "  <thead>\n",
              "    <tr style=\"text-align: right;\">\n",
              "      <th></th>\n",
              "      <th>itemsets</th>\n",
              "      <th>support</th>\n",
              "    </tr>\n",
              "  </thead>\n",
              "  <tbody>\n",
              "    <tr>\n",
              "      <th>32</th>\n",
              "      <td>(89805)</td>\n",
              "      <td>0.014862</td>\n",
              "    </tr>\n",
              "    <tr>\n",
              "      <th>20</th>\n",
              "      <td>(38535)</td>\n",
              "      <td>0.010857</td>\n",
              "    </tr>\n",
              "    <tr>\n",
              "      <th>0</th>\n",
              "      <td>(492)</td>\n",
              "      <td>0.007062</td>\n",
              "    </tr>\n",
              "    <tr>\n",
              "      <th>14</th>\n",
              "      <td>(27705)</td>\n",
              "      <td>0.006008</td>\n",
              "    </tr>\n",
              "    <tr>\n",
              "      <th>2</th>\n",
              "      <td>(1276)</td>\n",
              "      <td>0.005481</td>\n",
              "    </tr>\n",
              "    <tr>\n",
              "      <th>26</th>\n",
              "      <td>(62391)</td>\n",
              "      <td>0.005376</td>\n",
              "    </tr>\n",
              "    <tr>\n",
              "      <th>12</th>\n",
              "      <td>(26158)</td>\n",
              "      <td>0.005270</td>\n",
              "    </tr>\n",
              "    <tr>\n",
              "      <th>23</th>\n",
              "      <td>(54301)</td>\n",
              "      <td>0.005165</td>\n",
              "    </tr>\n",
              "    <tr>\n",
              "      <th>27</th>\n",
              "      <td>(64911)</td>\n",
              "      <td>0.005060</td>\n",
              "    </tr>\n",
              "    <tr>\n",
              "      <th>6</th>\n",
              "      <td>(9021)</td>\n",
              "      <td>0.004533</td>\n",
              "    </tr>\n",
              "  </tbody>\n",
              "</table>\n",
              "</div>\n",
              "      <button class=\"colab-df-convert\" onclick=\"convertToInteractive('df-69f81c95-49b0-43d6-a1da-f6f4984dd7b2')\"\n",
              "              title=\"Convert this dataframe to an interactive table.\"\n",
              "              style=\"display:none;\">\n",
              "\n",
              "  <svg xmlns=\"http://www.w3.org/2000/svg\" height=\"24px\"viewBox=\"0 0 24 24\"\n",
              "       width=\"24px\">\n",
              "    <path d=\"M0 0h24v24H0V0z\" fill=\"none\"/>\n",
              "    <path d=\"M18.56 5.44l.94 2.06.94-2.06 2.06-.94-2.06-.94-.94-2.06-.94 2.06-2.06.94zm-11 1L8.5 8.5l.94-2.06 2.06-.94-2.06-.94L8.5 2.5l-.94 2.06-2.06.94zm10 10l.94 2.06.94-2.06 2.06-.94-2.06-.94-.94-2.06-.94 2.06-2.06.94z\"/><path d=\"M17.41 7.96l-1.37-1.37c-.4-.4-.92-.59-1.43-.59-.52 0-1.04.2-1.43.59L10.3 9.45l-7.72 7.72c-.78.78-.78 2.05 0 2.83L4 21.41c.39.39.9.59 1.41.59.51 0 1.02-.2 1.41-.59l7.78-7.78 2.81-2.81c.8-.78.8-2.07 0-2.86zM5.41 20L4 18.59l7.72-7.72 1.47 1.35L5.41 20z\"/>\n",
              "  </svg>\n",
              "      </button>\n",
              "\n",
              "\n",
              "\n",
              "    <div id=\"df-1ec5ecfb-a464-4ac2-9204-82e3a62b634e\">\n",
              "      <button class=\"colab-df-quickchart\" onclick=\"quickchart('df-1ec5ecfb-a464-4ac2-9204-82e3a62b634e')\"\n",
              "              title=\"Suggest charts.\"\n",
              "              style=\"display:none;\">\n",
              "\n",
              "<svg xmlns=\"http://www.w3.org/2000/svg\" height=\"24px\"viewBox=\"0 0 24 24\"\n",
              "     width=\"24px\">\n",
              "    <g>\n",
              "        <path d=\"M19 3H5c-1.1 0-2 .9-2 2v14c0 1.1.9 2 2 2h14c1.1 0 2-.9 2-2V5c0-1.1-.9-2-2-2zM9 17H7v-7h2v7zm4 0h-2V7h2v10zm4 0h-2v-4h2v4z\"/>\n",
              "    </g>\n",
              "</svg>\n",
              "      </button>\n",
              "    </div>\n",
              "\n",
              "<style>\n",
              "  .colab-df-quickchart {\n",
              "    background-color: #E8F0FE;\n",
              "    border: none;\n",
              "    border-radius: 50%;\n",
              "    cursor: pointer;\n",
              "    display: none;\n",
              "    fill: #1967D2;\n",
              "    height: 32px;\n",
              "    padding: 0 0 0 0;\n",
              "    width: 32px;\n",
              "  }\n",
              "\n",
              "  .colab-df-quickchart:hover {\n",
              "    background-color: #E2EBFA;\n",
              "    box-shadow: 0px 1px 2px rgba(60, 64, 67, 0.3), 0px 1px 3px 1px rgba(60, 64, 67, 0.15);\n",
              "    fill: #174EA6;\n",
              "  }\n",
              "\n",
              "  [theme=dark] .colab-df-quickchart {\n",
              "    background-color: #3B4455;\n",
              "    fill: #D2E3FC;\n",
              "  }\n",
              "\n",
              "  [theme=dark] .colab-df-quickchart:hover {\n",
              "    background-color: #434B5C;\n",
              "    box-shadow: 0px 1px 3px 1px rgba(0, 0, 0, 0.15);\n",
              "    filter: drop-shadow(0px 1px 2px rgba(0, 0, 0, 0.3));\n",
              "    fill: #FFFFFF;\n",
              "  }\n",
              "</style>\n",
              "\n",
              "    <script>\n",
              "      async function quickchart(key) {\n",
              "        const containerElement = document.querySelector('#' + key);\n",
              "        const charts = await google.colab.kernel.invokeFunction(\n",
              "            'suggestCharts', [key], {});\n",
              "      }\n",
              "    </script>\n",
              "\n",
              "      <script>\n",
              "\n",
              "function displayQuickchartButton(domScope) {\n",
              "  let quickchartButtonEl =\n",
              "    domScope.querySelector('#df-1ec5ecfb-a464-4ac2-9204-82e3a62b634e button.colab-df-quickchart');\n",
              "  quickchartButtonEl.style.display =\n",
              "    google.colab.kernel.accessAllowed ? 'block' : 'none';\n",
              "}\n",
              "\n",
              "        displayQuickchartButton(document);\n",
              "      </script>\n",
              "      <style>\n",
              "    .colab-df-container {\n",
              "      display:flex;\n",
              "      flex-wrap:wrap;\n",
              "      gap: 12px;\n",
              "    }\n",
              "\n",
              "    .colab-df-convert {\n",
              "      background-color: #E8F0FE;\n",
              "      border: none;\n",
              "      border-radius: 50%;\n",
              "      cursor: pointer;\n",
              "      display: none;\n",
              "      fill: #1967D2;\n",
              "      height: 32px;\n",
              "      padding: 0 0 0 0;\n",
              "      width: 32px;\n",
              "    }\n",
              "\n",
              "    .colab-df-convert:hover {\n",
              "      background-color: #E2EBFA;\n",
              "      box-shadow: 0px 1px 2px rgba(60, 64, 67, 0.3), 0px 1px 3px 1px rgba(60, 64, 67, 0.15);\n",
              "      fill: #174EA6;\n",
              "    }\n",
              "\n",
              "    [theme=dark] .colab-df-convert {\n",
              "      background-color: #3B4455;\n",
              "      fill: #D2E3FC;\n",
              "    }\n",
              "\n",
              "    [theme=dark] .colab-df-convert:hover {\n",
              "      background-color: #434B5C;\n",
              "      box-shadow: 0px 1px 3px 1px rgba(0, 0, 0, 0.15);\n",
              "      filter: drop-shadow(0px 1px 2px rgba(0, 0, 0, 0.3));\n",
              "      fill: #FFFFFF;\n",
              "    }\n",
              "  </style>\n",
              "\n",
              "      <script>\n",
              "        const buttonEl =\n",
              "          document.querySelector('#df-69f81c95-49b0-43d6-a1da-f6f4984dd7b2 button.colab-df-convert');\n",
              "        buttonEl.style.display =\n",
              "          google.colab.kernel.accessAllowed ? 'block' : 'none';\n",
              "\n",
              "        async function convertToInteractive(key) {\n",
              "          const element = document.querySelector('#df-69f81c95-49b0-43d6-a1da-f6f4984dd7b2');\n",
              "          const dataTable =\n",
              "            await google.colab.kernel.invokeFunction('convertToInteractive',\n",
              "                                                     [key], {});\n",
              "          if (!dataTable) return;\n",
              "\n",
              "          const docLinkHtml = 'Like what you see? Visit the ' +\n",
              "            '<a target=\"_blank\" href=https://colab.research.google.com/notebooks/data_table.ipynb>data table notebook</a>'\n",
              "            + ' to learn more about interactive tables.';\n",
              "          element.innerHTML = '';\n",
              "          dataTable['output_type'] = 'display_data';\n",
              "          await google.colab.output.renderOutput(dataTable, element);\n",
              "          const docLink = document.createElement('div');\n",
              "          docLink.innerHTML = docLinkHtml;\n",
              "          element.appendChild(docLink);\n",
              "        }\n",
              "      </script>\n",
              "    </div>\n",
              "  </div>\n"
            ]
          },
          "metadata": {},
          "execution_count": 35
        }
      ]
    },
    {
      "cell_type": "code",
      "source": [
        "frequent_items_with_support.count()"
      ],
      "metadata": {
        "colab": {
          "base_uri": "https://localhost:8080/"
        },
        "id": "H5yGUiIC40s4",
        "outputId": "85fe3668-69a8-4d03-ebb9-51aaa58ad4ea"
      },
      "execution_count": null,
      "outputs": [
        {
          "output_type": "stream",
          "name": "stderr",
          "text": [
            "/usr/local/lib/python3.10/dist-packages/ipykernel/ipkernel.py:283: DeprecationWarning: `should_run_async` will not call `transform_cell` automatically in the future. Please pass the result to `transformed_cell` argument and any exception that happen during thetransform in `preprocessing_exc_tuple` in IPython 7.17 and above.\n",
            "  and should_run_async(code)\n"
          ]
        },
        {
          "output_type": "execute_result",
          "data": {
            "text/plain": [
              "itemsets    42\n",
              "support     42\n",
              "dtype: int64"
            ]
          },
          "metadata": {},
          "execution_count": 36
        }
      ]
    },
    {
      "cell_type": "code",
      "source": [
        "import pandas as pd\n",
        "\n",
        "# ... (Previous code up to 'frequent_items_with_support')\n",
        "\n",
        "# Calculate the length of each itemset and add it as a new column 'length'\n",
        "frequent_items_with_support['length'] = frequent_items_with_support['itemsets'].apply(lambda x: len(x))\n",
        "\n",
        "# Calculate the mean and mode of the 'length' column\n",
        "mean_length = frequent_items_with_support['length'].mean()\n",
        "mode_length = frequent_items_with_support['length'].mode().iloc[0]\n",
        "\n",
        "# Display the frequent items along with their support values and the calculated mean and mode of the length\n",
        "print(\"Mean Length of Itemsets:\", mean_length)\n",
        "print(\"Mode Length of Itemsets:\", mode_length)\n",
        "frequent_items_with_support.head()\n"
      ],
      "metadata": {
        "colab": {
          "base_uri": "https://localhost:8080/",
          "height": 295
        },
        "id": "fJJi6jKZlcDc",
        "outputId": "aff489d6-6299-4dc6-8de7-605b3e6fd9c8"
      },
      "execution_count": null,
      "outputs": [
        {
          "output_type": "stream",
          "name": "stdout",
          "text": [
            "Mean Length of Itemsets: 1.0952380952380953\n",
            "Mode Length of Itemsets: 1\n"
          ]
        },
        {
          "output_type": "stream",
          "name": "stderr",
          "text": [
            "/usr/local/lib/python3.10/dist-packages/ipykernel/ipkernel.py:283: DeprecationWarning: `should_run_async` will not call `transform_cell` automatically in the future. Please pass the result to `transformed_cell` argument and any exception that happen during thetransform in `preprocessing_exc_tuple` in IPython 7.17 and above.\n",
            "  and should_run_async(code)\n"
          ]
        },
        {
          "output_type": "execute_result",
          "data": {
            "text/plain": [
              "   itemsets   support  length\n",
              "32  (89805)  0.014862       1\n",
              "20  (38535)  0.010857       1\n",
              "0     (492)  0.007062       1\n",
              "14  (27705)  0.006008       1\n",
              "2    (1276)  0.005481       1"
            ],
            "text/html": [
              "\n",
              "\n",
              "  <div id=\"df-41708da2-5006-4dd5-8af7-90b5e1fbadc7\">\n",
              "    <div class=\"colab-df-container\">\n",
              "      <div>\n",
              "<style scoped>\n",
              "    .dataframe tbody tr th:only-of-type {\n",
              "        vertical-align: middle;\n",
              "    }\n",
              "\n",
              "    .dataframe tbody tr th {\n",
              "        vertical-align: top;\n",
              "    }\n",
              "\n",
              "    .dataframe thead th {\n",
              "        text-align: right;\n",
              "    }\n",
              "</style>\n",
              "<table border=\"1\" class=\"dataframe\">\n",
              "  <thead>\n",
              "    <tr style=\"text-align: right;\">\n",
              "      <th></th>\n",
              "      <th>itemsets</th>\n",
              "      <th>support</th>\n",
              "      <th>length</th>\n",
              "    </tr>\n",
              "  </thead>\n",
              "  <tbody>\n",
              "    <tr>\n",
              "      <th>32</th>\n",
              "      <td>(89805)</td>\n",
              "      <td>0.014862</td>\n",
              "      <td>1</td>\n",
              "    </tr>\n",
              "    <tr>\n",
              "      <th>20</th>\n",
              "      <td>(38535)</td>\n",
              "      <td>0.010857</td>\n",
              "      <td>1</td>\n",
              "    </tr>\n",
              "    <tr>\n",
              "      <th>0</th>\n",
              "      <td>(492)</td>\n",
              "      <td>0.007062</td>\n",
              "      <td>1</td>\n",
              "    </tr>\n",
              "    <tr>\n",
              "      <th>14</th>\n",
              "      <td>(27705)</td>\n",
              "      <td>0.006008</td>\n",
              "      <td>1</td>\n",
              "    </tr>\n",
              "    <tr>\n",
              "      <th>2</th>\n",
              "      <td>(1276)</td>\n",
              "      <td>0.005481</td>\n",
              "      <td>1</td>\n",
              "    </tr>\n",
              "  </tbody>\n",
              "</table>\n",
              "</div>\n",
              "      <button class=\"colab-df-convert\" onclick=\"convertToInteractive('df-41708da2-5006-4dd5-8af7-90b5e1fbadc7')\"\n",
              "              title=\"Convert this dataframe to an interactive table.\"\n",
              "              style=\"display:none;\">\n",
              "\n",
              "  <svg xmlns=\"http://www.w3.org/2000/svg\" height=\"24px\"viewBox=\"0 0 24 24\"\n",
              "       width=\"24px\">\n",
              "    <path d=\"M0 0h24v24H0V0z\" fill=\"none\"/>\n",
              "    <path d=\"M18.56 5.44l.94 2.06.94-2.06 2.06-.94-2.06-.94-.94-2.06-.94 2.06-2.06.94zm-11 1L8.5 8.5l.94-2.06 2.06-.94-2.06-.94L8.5 2.5l-.94 2.06-2.06.94zm10 10l.94 2.06.94-2.06 2.06-.94-2.06-.94-.94-2.06-.94 2.06-2.06.94z\"/><path d=\"M17.41 7.96l-1.37-1.37c-.4-.4-.92-.59-1.43-.59-.52 0-1.04.2-1.43.59L10.3 9.45l-7.72 7.72c-.78.78-.78 2.05 0 2.83L4 21.41c.39.39.9.59 1.41.59.51 0 1.02-.2 1.41-.59l7.78-7.78 2.81-2.81c.8-.78.8-2.07 0-2.86zM5.41 20L4 18.59l7.72-7.72 1.47 1.35L5.41 20z\"/>\n",
              "  </svg>\n",
              "      </button>\n",
              "\n",
              "\n",
              "\n",
              "    <div id=\"df-b9bf527e-803e-4cf5-a557-8752cb9222e4\">\n",
              "      <button class=\"colab-df-quickchart\" onclick=\"quickchart('df-b9bf527e-803e-4cf5-a557-8752cb9222e4')\"\n",
              "              title=\"Suggest charts.\"\n",
              "              style=\"display:none;\">\n",
              "\n",
              "<svg xmlns=\"http://www.w3.org/2000/svg\" height=\"24px\"viewBox=\"0 0 24 24\"\n",
              "     width=\"24px\">\n",
              "    <g>\n",
              "        <path d=\"M19 3H5c-1.1 0-2 .9-2 2v14c0 1.1.9 2 2 2h14c1.1 0 2-.9 2-2V5c0-1.1-.9-2-2-2zM9 17H7v-7h2v7zm4 0h-2V7h2v10zm4 0h-2v-4h2v4z\"/>\n",
              "    </g>\n",
              "</svg>\n",
              "      </button>\n",
              "    </div>\n",
              "\n",
              "<style>\n",
              "  .colab-df-quickchart {\n",
              "    background-color: #E8F0FE;\n",
              "    border: none;\n",
              "    border-radius: 50%;\n",
              "    cursor: pointer;\n",
              "    display: none;\n",
              "    fill: #1967D2;\n",
              "    height: 32px;\n",
              "    padding: 0 0 0 0;\n",
              "    width: 32px;\n",
              "  }\n",
              "\n",
              "  .colab-df-quickchart:hover {\n",
              "    background-color: #E2EBFA;\n",
              "    box-shadow: 0px 1px 2px rgba(60, 64, 67, 0.3), 0px 1px 3px 1px rgba(60, 64, 67, 0.15);\n",
              "    fill: #174EA6;\n",
              "  }\n",
              "\n",
              "  [theme=dark] .colab-df-quickchart {\n",
              "    background-color: #3B4455;\n",
              "    fill: #D2E3FC;\n",
              "  }\n",
              "\n",
              "  [theme=dark] .colab-df-quickchart:hover {\n",
              "    background-color: #434B5C;\n",
              "    box-shadow: 0px 1px 3px 1px rgba(0, 0, 0, 0.15);\n",
              "    filter: drop-shadow(0px 1px 2px rgba(0, 0, 0, 0.3));\n",
              "    fill: #FFFFFF;\n",
              "  }\n",
              "</style>\n",
              "\n",
              "    <script>\n",
              "      async function quickchart(key) {\n",
              "        const containerElement = document.querySelector('#' + key);\n",
              "        const charts = await google.colab.kernel.invokeFunction(\n",
              "            'suggestCharts', [key], {});\n",
              "      }\n",
              "    </script>\n",
              "\n",
              "      <script>\n",
              "\n",
              "function displayQuickchartButton(domScope) {\n",
              "  let quickchartButtonEl =\n",
              "    domScope.querySelector('#df-b9bf527e-803e-4cf5-a557-8752cb9222e4 button.colab-df-quickchart');\n",
              "  quickchartButtonEl.style.display =\n",
              "    google.colab.kernel.accessAllowed ? 'block' : 'none';\n",
              "}\n",
              "\n",
              "        displayQuickchartButton(document);\n",
              "      </script>\n",
              "      <style>\n",
              "    .colab-df-container {\n",
              "      display:flex;\n",
              "      flex-wrap:wrap;\n",
              "      gap: 12px;\n",
              "    }\n",
              "\n",
              "    .colab-df-convert {\n",
              "      background-color: #E8F0FE;\n",
              "      border: none;\n",
              "      border-radius: 50%;\n",
              "      cursor: pointer;\n",
              "      display: none;\n",
              "      fill: #1967D2;\n",
              "      height: 32px;\n",
              "      padding: 0 0 0 0;\n",
              "      width: 32px;\n",
              "    }\n",
              "\n",
              "    .colab-df-convert:hover {\n",
              "      background-color: #E2EBFA;\n",
              "      box-shadow: 0px 1px 2px rgba(60, 64, 67, 0.3), 0px 1px 3px 1px rgba(60, 64, 67, 0.15);\n",
              "      fill: #174EA6;\n",
              "    }\n",
              "\n",
              "    [theme=dark] .colab-df-convert {\n",
              "      background-color: #3B4455;\n",
              "      fill: #D2E3FC;\n",
              "    }\n",
              "\n",
              "    [theme=dark] .colab-df-convert:hover {\n",
              "      background-color: #434B5C;\n",
              "      box-shadow: 0px 1px 3px 1px rgba(0, 0, 0, 0.15);\n",
              "      filter: drop-shadow(0px 1px 2px rgba(0, 0, 0, 0.3));\n",
              "      fill: #FFFFFF;\n",
              "    }\n",
              "  </style>\n",
              "\n",
              "      <script>\n",
              "        const buttonEl =\n",
              "          document.querySelector('#df-41708da2-5006-4dd5-8af7-90b5e1fbadc7 button.colab-df-convert');\n",
              "        buttonEl.style.display =\n",
              "          google.colab.kernel.accessAllowed ? 'block' : 'none';\n",
              "\n",
              "        async function convertToInteractive(key) {\n",
              "          const element = document.querySelector('#df-41708da2-5006-4dd5-8af7-90b5e1fbadc7');\n",
              "          const dataTable =\n",
              "            await google.colab.kernel.invokeFunction('convertToInteractive',\n",
              "                                                     [key], {});\n",
              "          if (!dataTable) return;\n",
              "\n",
              "          const docLinkHtml = 'Like what you see? Visit the ' +\n",
              "            '<a target=\"_blank\" href=https://colab.research.google.com/notebooks/data_table.ipynb>data table notebook</a>'\n",
              "            + ' to learn more about interactive tables.';\n",
              "          element.innerHTML = '';\n",
              "          dataTable['output_type'] = 'display_data';\n",
              "          await google.colab.output.renderOutput(dataTable, element);\n",
              "          const docLink = document.createElement('div');\n",
              "          docLink.innerHTML = docLinkHtml;\n",
              "          element.appendChild(docLink);\n",
              "        }\n",
              "      </script>\n",
              "    </div>\n",
              "  </div>\n"
            ]
          },
          "metadata": {},
          "execution_count": 37
        }
      ]
    },
    {
      "cell_type": "code",
      "source": [
        "import pandas as pd\n",
        "\n",
        "# ... (Previous code up to 'frequent_items_with_support')\n",
        "\n",
        "# Group the frequent itemsets by their lengths and calculate the count of itemsets for each length\n",
        "itemsets_count_by_length = frequent_items_with_support.groupby('length').count()\n",
        "\n",
        "# Rename the column to 'count'\n",
        "itemsets_count_by_length.rename(columns={'itemsets': 'count'}, inplace=True)\n",
        "\n",
        "# Display the itemsets count by length\n",
        "itemsets_count_by_length.head()\n"
      ],
      "metadata": {
        "colab": {
          "base_uri": "https://localhost:8080/",
          "height": 198
        },
        "id": "ybngGEbvlcB9",
        "outputId": "db511847-ba9b-4c97-dae4-60fcb1af8413"
      },
      "execution_count": null,
      "outputs": [
        {
          "output_type": "stream",
          "name": "stderr",
          "text": [
            "/usr/local/lib/python3.10/dist-packages/ipykernel/ipkernel.py:283: DeprecationWarning: `should_run_async` will not call `transform_cell` automatically in the future. Please pass the result to `transformed_cell` argument and any exception that happen during thetransform in `preprocessing_exc_tuple` in IPython 7.17 and above.\n",
            "  and should_run_async(code)\n"
          ]
        },
        {
          "output_type": "execute_result",
          "data": {
            "text/plain": [
              "        count  support\n",
              "length                \n",
              "1          38       38\n",
              "2           4        4"
            ],
            "text/html": [
              "\n",
              "\n",
              "  <div id=\"df-b4bb37db-0ef1-4891-82f3-00ccdfcf7a58\">\n",
              "    <div class=\"colab-df-container\">\n",
              "      <div>\n",
              "<style scoped>\n",
              "    .dataframe tbody tr th:only-of-type {\n",
              "        vertical-align: middle;\n",
              "    }\n",
              "\n",
              "    .dataframe tbody tr th {\n",
              "        vertical-align: top;\n",
              "    }\n",
              "\n",
              "    .dataframe thead th {\n",
              "        text-align: right;\n",
              "    }\n",
              "</style>\n",
              "<table border=\"1\" class=\"dataframe\">\n",
              "  <thead>\n",
              "    <tr style=\"text-align: right;\">\n",
              "      <th></th>\n",
              "      <th>count</th>\n",
              "      <th>support</th>\n",
              "    </tr>\n",
              "    <tr>\n",
              "      <th>length</th>\n",
              "      <th></th>\n",
              "      <th></th>\n",
              "    </tr>\n",
              "  </thead>\n",
              "  <tbody>\n",
              "    <tr>\n",
              "      <th>1</th>\n",
              "      <td>38</td>\n",
              "      <td>38</td>\n",
              "    </tr>\n",
              "    <tr>\n",
              "      <th>2</th>\n",
              "      <td>4</td>\n",
              "      <td>4</td>\n",
              "    </tr>\n",
              "  </tbody>\n",
              "</table>\n",
              "</div>\n",
              "      <button class=\"colab-df-convert\" onclick=\"convertToInteractive('df-b4bb37db-0ef1-4891-82f3-00ccdfcf7a58')\"\n",
              "              title=\"Convert this dataframe to an interactive table.\"\n",
              "              style=\"display:none;\">\n",
              "\n",
              "  <svg xmlns=\"http://www.w3.org/2000/svg\" height=\"24px\"viewBox=\"0 0 24 24\"\n",
              "       width=\"24px\">\n",
              "    <path d=\"M0 0h24v24H0V0z\" fill=\"none\"/>\n",
              "    <path d=\"M18.56 5.44l.94 2.06.94-2.06 2.06-.94-2.06-.94-.94-2.06-.94 2.06-2.06.94zm-11 1L8.5 8.5l.94-2.06 2.06-.94-2.06-.94L8.5 2.5l-.94 2.06-2.06.94zm10 10l.94 2.06.94-2.06 2.06-.94-2.06-.94-.94-2.06-.94 2.06-2.06.94z\"/><path d=\"M17.41 7.96l-1.37-1.37c-.4-.4-.92-.59-1.43-.59-.52 0-1.04.2-1.43.59L10.3 9.45l-7.72 7.72c-.78.78-.78 2.05 0 2.83L4 21.41c.39.39.9.59 1.41.59.51 0 1.02-.2 1.41-.59l7.78-7.78 2.81-2.81c.8-.78.8-2.07 0-2.86zM5.41 20L4 18.59l7.72-7.72 1.47 1.35L5.41 20z\"/>\n",
              "  </svg>\n",
              "      </button>\n",
              "\n",
              "\n",
              "\n",
              "    <div id=\"df-2e06879e-9010-48c4-ae06-21636bb247a2\">\n",
              "      <button class=\"colab-df-quickchart\" onclick=\"quickchart('df-2e06879e-9010-48c4-ae06-21636bb247a2')\"\n",
              "              title=\"Suggest charts.\"\n",
              "              style=\"display:none;\">\n",
              "\n",
              "<svg xmlns=\"http://www.w3.org/2000/svg\" height=\"24px\"viewBox=\"0 0 24 24\"\n",
              "     width=\"24px\">\n",
              "    <g>\n",
              "        <path d=\"M19 3H5c-1.1 0-2 .9-2 2v14c0 1.1.9 2 2 2h14c1.1 0 2-.9 2-2V5c0-1.1-.9-2-2-2zM9 17H7v-7h2v7zm4 0h-2V7h2v10zm4 0h-2v-4h2v4z\"/>\n",
              "    </g>\n",
              "</svg>\n",
              "      </button>\n",
              "    </div>\n",
              "\n",
              "<style>\n",
              "  .colab-df-quickchart {\n",
              "    background-color: #E8F0FE;\n",
              "    border: none;\n",
              "    border-radius: 50%;\n",
              "    cursor: pointer;\n",
              "    display: none;\n",
              "    fill: #1967D2;\n",
              "    height: 32px;\n",
              "    padding: 0 0 0 0;\n",
              "    width: 32px;\n",
              "  }\n",
              "\n",
              "  .colab-df-quickchart:hover {\n",
              "    background-color: #E2EBFA;\n",
              "    box-shadow: 0px 1px 2px rgba(60, 64, 67, 0.3), 0px 1px 3px 1px rgba(60, 64, 67, 0.15);\n",
              "    fill: #174EA6;\n",
              "  }\n",
              "\n",
              "  [theme=dark] .colab-df-quickchart {\n",
              "    background-color: #3B4455;\n",
              "    fill: #D2E3FC;\n",
              "  }\n",
              "\n",
              "  [theme=dark] .colab-df-quickchart:hover {\n",
              "    background-color: #434B5C;\n",
              "    box-shadow: 0px 1px 3px 1px rgba(0, 0, 0, 0.15);\n",
              "    filter: drop-shadow(0px 1px 2px rgba(0, 0, 0, 0.3));\n",
              "    fill: #FFFFFF;\n",
              "  }\n",
              "</style>\n",
              "\n",
              "    <script>\n",
              "      async function quickchart(key) {\n",
              "        const containerElement = document.querySelector('#' + key);\n",
              "        const charts = await google.colab.kernel.invokeFunction(\n",
              "            'suggestCharts', [key], {});\n",
              "      }\n",
              "    </script>\n",
              "\n",
              "      <script>\n",
              "\n",
              "function displayQuickchartButton(domScope) {\n",
              "  let quickchartButtonEl =\n",
              "    domScope.querySelector('#df-2e06879e-9010-48c4-ae06-21636bb247a2 button.colab-df-quickchart');\n",
              "  quickchartButtonEl.style.display =\n",
              "    google.colab.kernel.accessAllowed ? 'block' : 'none';\n",
              "}\n",
              "\n",
              "        displayQuickchartButton(document);\n",
              "      </script>\n",
              "      <style>\n",
              "    .colab-df-container {\n",
              "      display:flex;\n",
              "      flex-wrap:wrap;\n",
              "      gap: 12px;\n",
              "    }\n",
              "\n",
              "    .colab-df-convert {\n",
              "      background-color: #E8F0FE;\n",
              "      border: none;\n",
              "      border-radius: 50%;\n",
              "      cursor: pointer;\n",
              "      display: none;\n",
              "      fill: #1967D2;\n",
              "      height: 32px;\n",
              "      padding: 0 0 0 0;\n",
              "      width: 32px;\n",
              "    }\n",
              "\n",
              "    .colab-df-convert:hover {\n",
              "      background-color: #E2EBFA;\n",
              "      box-shadow: 0px 1px 2px rgba(60, 64, 67, 0.3), 0px 1px 3px 1px rgba(60, 64, 67, 0.15);\n",
              "      fill: #174EA6;\n",
              "    }\n",
              "\n",
              "    [theme=dark] .colab-df-convert {\n",
              "      background-color: #3B4455;\n",
              "      fill: #D2E3FC;\n",
              "    }\n",
              "\n",
              "    [theme=dark] .colab-df-convert:hover {\n",
              "      background-color: #434B5C;\n",
              "      box-shadow: 0px 1px 3px 1px rgba(0, 0, 0, 0.15);\n",
              "      filter: drop-shadow(0px 1px 2px rgba(0, 0, 0, 0.3));\n",
              "      fill: #FFFFFF;\n",
              "    }\n",
              "  </style>\n",
              "\n",
              "      <script>\n",
              "        const buttonEl =\n",
              "          document.querySelector('#df-b4bb37db-0ef1-4891-82f3-00ccdfcf7a58 button.colab-df-convert');\n",
              "        buttonEl.style.display =\n",
              "          google.colab.kernel.accessAllowed ? 'block' : 'none';\n",
              "\n",
              "        async function convertToInteractive(key) {\n",
              "          const element = document.querySelector('#df-b4bb37db-0ef1-4891-82f3-00ccdfcf7a58');\n",
              "          const dataTable =\n",
              "            await google.colab.kernel.invokeFunction('convertToInteractive',\n",
              "                                                     [key], {});\n",
              "          if (!dataTable) return;\n",
              "\n",
              "          const docLinkHtml = 'Like what you see? Visit the ' +\n",
              "            '<a target=\"_blank\" href=https://colab.research.google.com/notebooks/data_table.ipynb>data table notebook</a>'\n",
              "            + ' to learn more about interactive tables.';\n",
              "          element.innerHTML = '';\n",
              "          dataTable['output_type'] = 'display_data';\n",
              "          await google.colab.output.renderOutput(dataTable, element);\n",
              "          const docLink = document.createElement('div');\n",
              "          docLink.innerHTML = docLinkHtml;\n",
              "          element.appendChild(docLink);\n",
              "        }\n",
              "      </script>\n",
              "    </div>\n",
              "  </div>\n"
            ]
          },
          "metadata": {},
          "execution_count": 38
        }
      ]
    },
    {
      "cell_type": "code",
      "source": [
        "import pandas as pd\n",
        "\n",
        "# ... (Previous code up to 'itemsets_count_by_length')\n",
        "\n",
        "# Calculate the product of length and count and create a new column 'length_times_count'\n",
        "itemsets_count_by_length['length_times_count'] = itemsets_count_by_length['count'] * itemsets_count_by_length.index\n",
        "\n",
        "# Display the updated DataFrame\n",
        "itemsets_count_by_length.head()"
      ],
      "metadata": {
        "colab": {
          "base_uri": "https://localhost:8080/",
          "height": 198
        },
        "id": "IivsxGTLlb-A",
        "outputId": "0f1af49e-9cd5-44a8-f181-4da9d559242b"
      },
      "execution_count": null,
      "outputs": [
        {
          "output_type": "stream",
          "name": "stderr",
          "text": [
            "/usr/local/lib/python3.10/dist-packages/ipykernel/ipkernel.py:283: DeprecationWarning: `should_run_async` will not call `transform_cell` automatically in the future. Please pass the result to `transformed_cell` argument and any exception that happen during thetransform in `preprocessing_exc_tuple` in IPython 7.17 and above.\n",
            "  and should_run_async(code)\n"
          ]
        },
        {
          "output_type": "execute_result",
          "data": {
            "text/plain": [
              "        count  support  length_times_count\n",
              "length                                    \n",
              "1          38       38                  38\n",
              "2           4        4                   8"
            ],
            "text/html": [
              "\n",
              "\n",
              "  <div id=\"df-1f6fc522-90b8-4538-85fc-88dd3b43059f\">\n",
              "    <div class=\"colab-df-container\">\n",
              "      <div>\n",
              "<style scoped>\n",
              "    .dataframe tbody tr th:only-of-type {\n",
              "        vertical-align: middle;\n",
              "    }\n",
              "\n",
              "    .dataframe tbody tr th {\n",
              "        vertical-align: top;\n",
              "    }\n",
              "\n",
              "    .dataframe thead th {\n",
              "        text-align: right;\n",
              "    }\n",
              "</style>\n",
              "<table border=\"1\" class=\"dataframe\">\n",
              "  <thead>\n",
              "    <tr style=\"text-align: right;\">\n",
              "      <th></th>\n",
              "      <th>count</th>\n",
              "      <th>support</th>\n",
              "      <th>length_times_count</th>\n",
              "    </tr>\n",
              "    <tr>\n",
              "      <th>length</th>\n",
              "      <th></th>\n",
              "      <th></th>\n",
              "      <th></th>\n",
              "    </tr>\n",
              "  </thead>\n",
              "  <tbody>\n",
              "    <tr>\n",
              "      <th>1</th>\n",
              "      <td>38</td>\n",
              "      <td>38</td>\n",
              "      <td>38</td>\n",
              "    </tr>\n",
              "    <tr>\n",
              "      <th>2</th>\n",
              "      <td>4</td>\n",
              "      <td>4</td>\n",
              "      <td>8</td>\n",
              "    </tr>\n",
              "  </tbody>\n",
              "</table>\n",
              "</div>\n",
              "      <button class=\"colab-df-convert\" onclick=\"convertToInteractive('df-1f6fc522-90b8-4538-85fc-88dd3b43059f')\"\n",
              "              title=\"Convert this dataframe to an interactive table.\"\n",
              "              style=\"display:none;\">\n",
              "\n",
              "  <svg xmlns=\"http://www.w3.org/2000/svg\" height=\"24px\"viewBox=\"0 0 24 24\"\n",
              "       width=\"24px\">\n",
              "    <path d=\"M0 0h24v24H0V0z\" fill=\"none\"/>\n",
              "    <path d=\"M18.56 5.44l.94 2.06.94-2.06 2.06-.94-2.06-.94-.94-2.06-.94 2.06-2.06.94zm-11 1L8.5 8.5l.94-2.06 2.06-.94-2.06-.94L8.5 2.5l-.94 2.06-2.06.94zm10 10l.94 2.06.94-2.06 2.06-.94-2.06-.94-.94-2.06-.94 2.06-2.06.94z\"/><path d=\"M17.41 7.96l-1.37-1.37c-.4-.4-.92-.59-1.43-.59-.52 0-1.04.2-1.43.59L10.3 9.45l-7.72 7.72c-.78.78-.78 2.05 0 2.83L4 21.41c.39.39.9.59 1.41.59.51 0 1.02-.2 1.41-.59l7.78-7.78 2.81-2.81c.8-.78.8-2.07 0-2.86zM5.41 20L4 18.59l7.72-7.72 1.47 1.35L5.41 20z\"/>\n",
              "  </svg>\n",
              "      </button>\n",
              "\n",
              "\n",
              "\n",
              "    <div id=\"df-8df92f27-9600-431f-af1e-f6bc3edffe73\">\n",
              "      <button class=\"colab-df-quickchart\" onclick=\"quickchart('df-8df92f27-9600-431f-af1e-f6bc3edffe73')\"\n",
              "              title=\"Suggest charts.\"\n",
              "              style=\"display:none;\">\n",
              "\n",
              "<svg xmlns=\"http://www.w3.org/2000/svg\" height=\"24px\"viewBox=\"0 0 24 24\"\n",
              "     width=\"24px\">\n",
              "    <g>\n",
              "        <path d=\"M19 3H5c-1.1 0-2 .9-2 2v14c0 1.1.9 2 2 2h14c1.1 0 2-.9 2-2V5c0-1.1-.9-2-2-2zM9 17H7v-7h2v7zm4 0h-2V7h2v10zm4 0h-2v-4h2v4z\"/>\n",
              "    </g>\n",
              "</svg>\n",
              "      </button>\n",
              "    </div>\n",
              "\n",
              "<style>\n",
              "  .colab-df-quickchart {\n",
              "    background-color: #E8F0FE;\n",
              "    border: none;\n",
              "    border-radius: 50%;\n",
              "    cursor: pointer;\n",
              "    display: none;\n",
              "    fill: #1967D2;\n",
              "    height: 32px;\n",
              "    padding: 0 0 0 0;\n",
              "    width: 32px;\n",
              "  }\n",
              "\n",
              "  .colab-df-quickchart:hover {\n",
              "    background-color: #E2EBFA;\n",
              "    box-shadow: 0px 1px 2px rgba(60, 64, 67, 0.3), 0px 1px 3px 1px rgba(60, 64, 67, 0.15);\n",
              "    fill: #174EA6;\n",
              "  }\n",
              "\n",
              "  [theme=dark] .colab-df-quickchart {\n",
              "    background-color: #3B4455;\n",
              "    fill: #D2E3FC;\n",
              "  }\n",
              "\n",
              "  [theme=dark] .colab-df-quickchart:hover {\n",
              "    background-color: #434B5C;\n",
              "    box-shadow: 0px 1px 3px 1px rgba(0, 0, 0, 0.15);\n",
              "    filter: drop-shadow(0px 1px 2px rgba(0, 0, 0, 0.3));\n",
              "    fill: #FFFFFF;\n",
              "  }\n",
              "</style>\n",
              "\n",
              "    <script>\n",
              "      async function quickchart(key) {\n",
              "        const containerElement = document.querySelector('#' + key);\n",
              "        const charts = await google.colab.kernel.invokeFunction(\n",
              "            'suggestCharts', [key], {});\n",
              "      }\n",
              "    </script>\n",
              "\n",
              "      <script>\n",
              "\n",
              "function displayQuickchartButton(domScope) {\n",
              "  let quickchartButtonEl =\n",
              "    domScope.querySelector('#df-8df92f27-9600-431f-af1e-f6bc3edffe73 button.colab-df-quickchart');\n",
              "  quickchartButtonEl.style.display =\n",
              "    google.colab.kernel.accessAllowed ? 'block' : 'none';\n",
              "}\n",
              "\n",
              "        displayQuickchartButton(document);\n",
              "      </script>\n",
              "      <style>\n",
              "    .colab-df-container {\n",
              "      display:flex;\n",
              "      flex-wrap:wrap;\n",
              "      gap: 12px;\n",
              "    }\n",
              "\n",
              "    .colab-df-convert {\n",
              "      background-color: #E8F0FE;\n",
              "      border: none;\n",
              "      border-radius: 50%;\n",
              "      cursor: pointer;\n",
              "      display: none;\n",
              "      fill: #1967D2;\n",
              "      height: 32px;\n",
              "      padding: 0 0 0 0;\n",
              "      width: 32px;\n",
              "    }\n",
              "\n",
              "    .colab-df-convert:hover {\n",
              "      background-color: #E2EBFA;\n",
              "      box-shadow: 0px 1px 2px rgba(60, 64, 67, 0.3), 0px 1px 3px 1px rgba(60, 64, 67, 0.15);\n",
              "      fill: #174EA6;\n",
              "    }\n",
              "\n",
              "    [theme=dark] .colab-df-convert {\n",
              "      background-color: #3B4455;\n",
              "      fill: #D2E3FC;\n",
              "    }\n",
              "\n",
              "    [theme=dark] .colab-df-convert:hover {\n",
              "      background-color: #434B5C;\n",
              "      box-shadow: 0px 1px 3px 1px rgba(0, 0, 0, 0.15);\n",
              "      filter: drop-shadow(0px 1px 2px rgba(0, 0, 0, 0.3));\n",
              "      fill: #FFFFFF;\n",
              "    }\n",
              "  </style>\n",
              "\n",
              "      <script>\n",
              "        const buttonEl =\n",
              "          document.querySelector('#df-1f6fc522-90b8-4538-85fc-88dd3b43059f button.colab-df-convert');\n",
              "        buttonEl.style.display =\n",
              "          google.colab.kernel.accessAllowed ? 'block' : 'none';\n",
              "\n",
              "        async function convertToInteractive(key) {\n",
              "          const element = document.querySelector('#df-1f6fc522-90b8-4538-85fc-88dd3b43059f');\n",
              "          const dataTable =\n",
              "            await google.colab.kernel.invokeFunction('convertToInteractive',\n",
              "                                                     [key], {});\n",
              "          if (!dataTable) return;\n",
              "\n",
              "          const docLinkHtml = 'Like what you see? Visit the ' +\n",
              "            '<a target=\"_blank\" href=https://colab.research.google.com/notebooks/data_table.ipynb>data table notebook</a>'\n",
              "            + ' to learn more about interactive tables.';\n",
              "          element.innerHTML = '';\n",
              "          dataTable['output_type'] = 'display_data';\n",
              "          await google.colab.output.renderOutput(dataTable, element);\n",
              "          const docLink = document.createElement('div');\n",
              "          docLink.innerHTML = docLinkHtml;\n",
              "          element.appendChild(docLink);\n",
              "        }\n",
              "      </script>\n",
              "    </div>\n",
              "  </div>\n"
            ]
          },
          "metadata": {},
          "execution_count": 39
        }
      ]
    },
    {
      "cell_type": "code",
      "source": [
        "# Calculate the sum of the 'length_times_count' column\n",
        "sum_length_times_count = itemsets_count_by_length['length_times_count'].sum()\n",
        "\n",
        "# Display the sum of length_times_count\n",
        "print('Sum of length_times_count:', sum_length_times_count)\n",
        "print('')"
      ],
      "metadata": {
        "colab": {
          "base_uri": "https://localhost:8080/"
        },
        "id": "eWumf6qGlb8t",
        "outputId": "5075bcb0-7cf5-422c-f541-df5e0402e85d"
      },
      "execution_count": null,
      "outputs": [
        {
          "output_type": "stream",
          "name": "stdout",
          "text": [
            "Sum of length_times_count: 46\n",
            "\n"
          ]
        },
        {
          "output_type": "stream",
          "name": "stderr",
          "text": [
            "/usr/local/lib/python3.10/dist-packages/ipykernel/ipkernel.py:283: DeprecationWarning: `should_run_async` will not call `transform_cell` automatically in the future. Please pass the result to `transformed_cell` argument and any exception that happen during thetransform in `preprocessing_exc_tuple` in IPython 7.17 and above.\n",
            "  and should_run_async(code)\n"
          ]
        }
      ]
    },
    {
      "cell_type": "code",
      "source": [
        "import pandas as pd\n",
        "import networkx as nx\n",
        "\n",
        "# Replace the path with the correct one if needed\n",
        "file_path = '/content/drive/MyDrive/Subgraph.csv'\n",
        "\n",
        "# Read the file into a DataFrame\n",
        "DF = pd.read_csv(file_path)\n",
        "\n",
        "# Create a directed graph from the edge list\n",
        "G = nx.from_pandas_edgelist(DF, source='ID1', target='ID2', create_using=nx.DiGraph())\n",
        "\n"
      ],
      "metadata": {
        "colab": {
          "base_uri": "https://localhost:8080/"
        },
        "id": "dRUK7d-kmAdB",
        "outputId": "3154ab0f-1529-4a71-db1f-52351d7dea0a"
      },
      "execution_count": null,
      "outputs": [
        {
          "output_type": "stream",
          "name": "stderr",
          "text": [
            "/usr/local/lib/python3.10/dist-packages/ipykernel/ipkernel.py:283: DeprecationWarning: `should_run_async` will not call `transform_cell` automatically in the future. Please pass the result to `transformed_cell` argument and any exception that happen during thetransform in `preprocessing_exc_tuple` in IPython 7.17 and above.\n",
            "  and should_run_async(code)\n"
          ]
        }
      ]
    },
    {
      "cell_type": "code",
      "source": [
        "# Get the adjacency list representation\n",
        "adjacency_list = G.adjacency()\n",
        "\n",
        "# Convert the adjacency list to a dictionary of lists\n",
        "adjacency_dict = {node: [neighbor for neighbor in neighbors] for node, neighbors in adjacency_list}\n",
        "followings_dict=adjacency_dict\n",
        "print(adjacency_dict)\n"
      ],
      "metadata": {
        "colab": {
          "base_uri": "https://localhost:8080/"
        },
        "id": "bJ95KZ5kmAa1",
        "outputId": "3a669d94-6794-4ca6-fac9-afba0989787c"
      },
      "execution_count": null,
      "outputs": [
        {
          "output_type": "stream",
          "name": "stderr",
          "text": [
            "/usr/local/lib/python3.10/dist-packages/ipykernel/ipkernel.py:283: DeprecationWarning: `should_run_async` will not call `transform_cell` automatically in the future. Please pass the result to `transformed_cell` argument and any exception that happen during thetransform in `preprocessing_exc_tuple` in IPython 7.17 and above.\n",
            "  and should_run_async(code)\n",
            "IOPub data rate exceeded.\n",
            "The notebook server will temporarily stop sending output\n",
            "to the client in order to avoid crashing it.\n",
            "To change this limit, set the config variable\n",
            "`--NotebookApp.iopub_data_rate_limit`.\n",
            "\n",
            "Current values:\n",
            "NotebookApp.iopub_data_rate_limit=1000000.0 (bytes/sec)\n",
            "NotebookApp.rate_limit_window=3.0 (secs)\n",
            "\n"
          ]
        }
      ]
    },
    {
      "cell_type": "code",
      "source": [
        "import pandas as pd\n",
        "import networkx as nx\n",
        "\n",
        "# Replace the path with the correct one if needed\n",
        "file_path = '/content/drive/MyDrive/Subgraph.csv'\n",
        "\n",
        "# Read the file into a DataFrame\n",
        "DF = pd.read_csv(file_path)\n",
        "\n",
        "# Create a directed graph from the edge list\n",
        "G = nx.from_pandas_edgelist(DF, source='ID2', target='ID1', create_using=nx.DiGraph())\n",
        "\n"
      ],
      "metadata": {
        "colab": {
          "base_uri": "https://localhost:8080/"
        },
        "id": "vMivyq6fmAYb",
        "outputId": "db27d4b8-c1d7-4cbb-b81d-a928b6ffadf0"
      },
      "execution_count": null,
      "outputs": [
        {
          "output_type": "stream",
          "name": "stderr",
          "text": [
            "/usr/local/lib/python3.10/dist-packages/ipykernel/ipkernel.py:283: DeprecationWarning: `should_run_async` will not call `transform_cell` automatically in the future. Please pass the result to `transformed_cell` argument and any exception that happen during thetransform in `preprocessing_exc_tuple` in IPython 7.17 and above.\n",
            "  and should_run_async(code)\n"
          ]
        }
      ]
    },
    {
      "cell_type": "code",
      "source": [
        "# Get the adjacency list representation\n",
        "adjacency_list = G.adjacency()\n",
        "\n",
        "# Convert the adjacency list to a dictionary of lists\n",
        "adjacency_dict = {node: [neighbor for neighbor in neighbors] for node, neighbors in adjacency_list}\n",
        "followers_dict=adjacency_dict\n",
        "print(adjacency_dict)\n"
      ],
      "metadata": {
        "colab": {
          "base_uri": "https://localhost:8080/"
        },
        "id": "Ltz0CpuUmAWB",
        "outputId": "67e16da6-fd69-46aa-e29b-740f92602a80"
      },
      "execution_count": null,
      "outputs": [
        {
          "output_type": "stream",
          "name": "stderr",
          "text": [
            "/usr/local/lib/python3.10/dist-packages/ipykernel/ipkernel.py:283: DeprecationWarning: `should_run_async` will not call `transform_cell` automatically in the future. Please pass the result to `transformed_cell` argument and any exception that happen during thetransform in `preprocessing_exc_tuple` in IPython 7.17 and above.\n",
            "  and should_run_async(code)\n",
            "IOPub data rate exceeded.\n",
            "The notebook server will temporarily stop sending output\n",
            "to the client in order to avoid crashing it.\n",
            "To change this limit, set the config variable\n",
            "`--NotebookApp.iopub_data_rate_limit`.\n",
            "\n",
            "Current values:\n",
            "NotebookApp.iopub_data_rate_limit=1000000.0 (bytes/sec)\n",
            "NotebookApp.rate_limit_window=3.0 (secs)\n",
            "\n"
          ]
        }
      ]
    },
    {
      "cell_type": "code",
      "source": [
        "def s3(ID1, ID2, followers): #normalized to max len of 2 ids\n",
        "    # Get the lists of followers for the given user IDs\n",
        "    followers_list_1 = followers.get(ID1, [])\n",
        "    followers_list_2 = followers.get(ID2, [])\n",
        "\n",
        "    # Find the common followers using set intersection\n",
        "    common_followers = set(followers_list_1).intersection(followers_list_2)\n",
        "    n=max(len(followers_list_1),len(followers_list_2))\n",
        "    # Calculate the ratio of common followers to n\n",
        "    ratio = len(common_followers) / n\n",
        "\n",
        "    return ratio\n"
      ],
      "metadata": {
        "colab": {
          "base_uri": "https://localhost:8080/"
        },
        "id": "sdN7pg3ymAT7",
        "outputId": "f14d4e5a-3812-4853-bf7b-a213389a67a7"
      },
      "execution_count": null,
      "outputs": [
        {
          "output_type": "stream",
          "name": "stderr",
          "text": [
            "/usr/local/lib/python3.10/dist-packages/ipykernel/ipkernel.py:283: DeprecationWarning: `should_run_async` will not call `transform_cell` automatically in the future. Please pass the result to `transformed_cell` argument and any exception that happen during thetransform in `preprocessing_exc_tuple` in IPython 7.17 and above.\n",
            "  and should_run_async(code)\n"
          ]
        }
      ]
    },
    {
      "cell_type": "code",
      "source": [
        "def s2(ID1, ID2, followings): #normalized to max len of 2 ids\n",
        "    # Get the lists of followers for the given user IDs\n",
        "    followings_list_1 = followings.get(ID1, [])\n",
        "    followings_list_2 = followings.get(ID2, [])\n",
        "\n",
        "    # Find the common followings using set intersection\n",
        "    common_followings = set(followings_list_1).intersection(followings_list_2)\n",
        "    n=max(len(followings_list_1),len(followings_list_2))\n",
        "\n",
        "    # Calculate the ratio of common followers to n\n",
        "    ratio = len(common_followings) / n\n",
        "\n",
        "    return ratio\n"
      ],
      "metadata": {
        "colab": {
          "base_uri": "https://localhost:8080/"
        },
        "id": "wuy5KDuemAQG",
        "outputId": "ea350cee-fb37-474e-a485-cd9d21a3d743"
      },
      "execution_count": null,
      "outputs": [
        {
          "output_type": "stream",
          "name": "stderr",
          "text": [
            "/usr/local/lib/python3.10/dist-packages/ipykernel/ipkernel.py:283: DeprecationWarning: `should_run_async` will not call `transform_cell` automatically in the future. Please pass the result to `transformed_cell` argument and any exception that happen during thetransform in `preprocessing_exc_tuple` in IPython 7.17 and above.\n",
            "  and should_run_async(code)\n"
          ]
        }
      ]
    },
    {
      "cell_type": "code",
      "source": [
        "def S1(ID1, ID2, followers_dict):\n",
        "    # Get the lists of followers for the given user IDs\n",
        "    followers_list_1 = followers_dict.get(ID1, [])\n",
        "    followers_list_2 = followers_dict.get(ID2, [])\n",
        "\n",
        "    # Check if ID1 follows ID2 and ID2 follows ID1\n",
        "    if ID1 in followers_list_2 and ID2 in followers_list_1:\n",
        "        return 1.0  # Both follow each other, similarity score = 1\n",
        "    elif ID1 in followers_list_2 or ID2 in followers_list_1:\n",
        "        return 0.5  # Only one follows the other, similarity score = 0.5\n",
        "    else:\n",
        "        return 0.0  # None follows the other, similarity score = 0\n"
      ],
      "metadata": {
        "colab": {
          "base_uri": "https://localhost:8080/"
        },
        "id": "GcY5-2dhmAOg",
        "outputId": "216ea0d9-3689-4ab8-8593-baf6c6cf9425"
      },
      "execution_count": null,
      "outputs": [
        {
          "output_type": "stream",
          "name": "stderr",
          "text": [
            "/usr/local/lib/python3.10/dist-packages/ipykernel/ipkernel.py:283: DeprecationWarning: `should_run_async` will not call `transform_cell` automatically in the future. Please pass the result to `transformed_cell` argument and any exception that happen during thetransform in `preprocessing_exc_tuple` in IPython 7.17 and above.\n",
            "  and should_run_async(code)\n"
          ]
        }
      ]
    },
    {
      "cell_type": "code",
      "source": [
        "import math\n",
        "\n",
        "def S5(i, j, reply_dict):\n",
        "    # Get the lists of users that i and j replied to\n",
        "    users_replied_to_i = reply_dict.get(i, [])\n",
        "    users_replied_to_j = reply_dict.get(j, [])\n",
        "\n",
        "    # Find the common users replied to by both i and j\n",
        "    common_replied_users = set(users_replied_to_i).intersection(users_replied_to_j)\n",
        "\n",
        "    # Calculate the numerator (number of common replied users)\n",
        "    numerator = len(common_replied_users)\n",
        "\n",
        "    # Calculate the denominator (squared root of (number of users i replied to * number of users j replied to))\n",
        "    denominator = math.sqrt(len(users_replied_to_i) * len(users_replied_to_j))\n",
        "\n",
        "    # Get the lists of users that i replied to and j replied to\n",
        "    replies_i = reply_dict.get(i, [])\n",
        "    replies_j = reply_dict.get(j, [])\n",
        "\n",
        "    # Count the number of times j appears in replies_i and i appears in replies_j\n",
        "    count_i_to_j = replies_i.count(j)\n",
        "    count_j_to_i = replies_j.count(i)\n",
        "\n",
        "    # Calculate the total number of replies for users i and j\n",
        "    total_replies_i = len(replies_i)\n",
        "    total_replies_j = len(replies_j)\n",
        "\n",
        "    # Calculate the similarity score as described\n",
        "    if (total_replies_i + total_replies_j)==0:\n",
        "      similarity_score1=0\n",
        "    else:\n",
        "      similarity_score1 = (count_i_to_j + count_j_to_i) / (total_replies_i + total_replies_j)\n",
        "\n",
        "    # Calculate the similarity score\n",
        "    if denominator==0:\n",
        "      similarity_score2=0\n",
        "    else:\n",
        "      similarity_score2 = numerator / denominator\n",
        "\n",
        "    #total score\n",
        "    similarity_score=similarity_score1+similarity_score2\n",
        "\n",
        "    return similarity_score\n"
      ],
      "metadata": {
        "colab": {
          "base_uri": "https://localhost:8080/"
        },
        "id": "Jl8OMQ1PmALm",
        "outputId": "0bea0912-7160-44f6-a93b-ec9a4f2be624"
      },
      "execution_count": null,
      "outputs": [
        {
          "output_type": "stream",
          "name": "stderr",
          "text": [
            "/usr/local/lib/python3.10/dist-packages/ipykernel/ipkernel.py:283: DeprecationWarning: `should_run_async` will not call `transform_cell` automatically in the future. Please pass the result to `transformed_cell` argument and any exception that happen during thetransform in `preprocessing_exc_tuple` in IPython 7.17 and above.\n",
            "  and should_run_async(code)\n"
          ]
        }
      ]
    },
    {
      "cell_type": "code",
      "source": [
        "import math\n",
        "\n",
        "def S4(i, j, mention_dict):\n",
        "    # Get the lists of users that i and j mentioned to\n",
        "    users_mentioned_to_i = mention_dict.get(i, [])\n",
        "    users_mentioned_to_j = mention_dict.get(j, [])\n",
        "\n",
        "    # Find the common users mentioned to by both i and j\n",
        "    common_mentioned_users = set(users_mentioned_to_i).intersection(users_mentioned_to_j)\n",
        "\n",
        "    # Calculate the numerator (number of common mentioned users)\n",
        "    numerator = len(common_mentioned_users)\n",
        "\n",
        "    # Calculate the denominator (squared root of (number of users i mentioned to * number of users j mentioned to))\n",
        "    denominator = math.sqrt(len(users_mentioned_to_i) * len(users_mentioned_to_j))\n",
        "\n",
        "    # Get the lists of users that i mentioned to and j mentioned to\n",
        "    mentions_i = mention_dict.get(i, [])\n",
        "    mentions_j = mention_dict.get(j, [])\n",
        "\n",
        "    # Count the number of times j appears in mentions_i and i appears in mentions_j\n",
        "    count_i_to_j = mentions_i.count(j)\n",
        "    count_j_to_i = mentions_j.count(i)\n",
        "\n",
        "    # Calculate the total number of mentions for users i and j\n",
        "    total_mentions_i = len(mentions_i)\n",
        "    total_mentions_j = len(mentions_j)\n",
        "\n",
        "    # Calculate the similarity score as described\n",
        "    if (total_mentions_i + total_mentions_j)==0:\n",
        "      similarity_score1=0\n",
        "    else:\n",
        "      similarity_score1 = (count_i_to_j + count_j_to_i) / (total_mentions_i + total_mentions_j)\n",
        "\n",
        "    # Calculate the similarity score\n",
        "    if denominator==0:\n",
        "      similarity_score2=0\n",
        "    else:\n",
        "      similarity_score2 = numerator / denominator\n",
        "\n",
        "    #total score\n",
        "    similarity_score=similarity_score1+similarity_score2\n",
        "\n",
        "    return similarity_score\n"
      ],
      "metadata": {
        "colab": {
          "base_uri": "https://localhost:8080/"
        },
        "id": "6c0dD1samAJz",
        "outputId": "20c40a80-54f0-4e91-9ef1-fe7aa1390049"
      },
      "execution_count": null,
      "outputs": [
        {
          "output_type": "stream",
          "name": "stderr",
          "text": [
            "/usr/local/lib/python3.10/dist-packages/ipykernel/ipkernel.py:283: DeprecationWarning: `should_run_async` will not call `transform_cell` automatically in the future. Please pass the result to `transformed_cell` argument and any exception that happen during thetransform in `preprocessing_exc_tuple` in IPython 7.17 and above.\n",
            "  and should_run_async(code)\n"
          ]
        }
      ]
    },
    {
      "cell_type": "code",
      "source": [
        "import math\n",
        "\n",
        "def S6(i, j, retweet_dict):\n",
        "    # Get the lists of users that i and j retweet to\n",
        "    users_retweet_to_i = retweet_dict.get(i, [])\n",
        "    users_retweet_to_j = retweet_dict.get(j, [])\n",
        "\n",
        "    # Find the common users retweet to by both i and j\n",
        "    common_retweet_users = set(users_retweet_to_i).intersection(users_retweet_to_j)\n",
        "\n",
        "    # Calculate the numerator (number of common retweet users)\n",
        "    numerator = len(common_retweet_users)\n",
        "\n",
        "    # Calculate the denominator (squared root of (number of users i retweet to * number of users j retweet to))\n",
        "    denominator = math.sqrt(len(users_retweet_to_i) * len(users_retweet_to_j))\n",
        "\n",
        "    # Get the lists of users that i mentioned to and j mentioned to\n",
        "    retweet_i = retweet_dict.get(i, [])\n",
        "    retweet_j = retweet_dict.get(j, [])\n",
        "\n",
        "    # Count the number of times j appears in mentions_i and i appears in mentions_j\n",
        "    count_i_to_j = retweet_i.count(j)\n",
        "    count_j_to_i = retweet_j.count(i)\n",
        "\n",
        "    # Calculate the total number of mentions for users i and j\n",
        "    total_retweet_i = len(retweet_i)\n",
        "    total_retweet_j = len(retweet_j)\n",
        "\n",
        "    # Calculate the similarity score as described\n",
        "    if (total_retweet_i + total_retweet_j)==0:\n",
        "      similarity_score1=0\n",
        "    else:\n",
        "      similarity_score1 = (count_i_to_j + count_j_to_i) / (total_retweet_i + total_retweet_j)\n",
        "\n",
        "    # Calculate the similarity score\n",
        "    if denominator==0:\n",
        "      similarity_score2=0\n",
        "    else:\n",
        "      similarity_score2 = numerator / denominator\n",
        "\n",
        "    #total score\n",
        "    similarity_score=similarity_score1+similarity_score2\n",
        "\n",
        "    return similarity_score\n"
      ],
      "metadata": {
        "colab": {
          "base_uri": "https://localhost:8080/"
        },
        "id": "V13n8RQUmAGm",
        "outputId": "392db13f-6de7-4a74-c9f1-27f10dbef458"
      },
      "execution_count": null,
      "outputs": [
        {
          "output_type": "stream",
          "name": "stderr",
          "text": [
            "/usr/local/lib/python3.10/dist-packages/ipykernel/ipkernel.py:283: DeprecationWarning: `should_run_async` will not call `transform_cell` automatically in the future. Please pass the result to `transformed_cell` argument and any exception that happen during thetransform in `preprocessing_exc_tuple` in IPython 7.17 and above.\n",
            "  and should_run_async(code)\n"
          ]
        }
      ]
    },
    {
      "cell_type": "code",
      "source": [
        "def combined_similarity(ID1, ID2, followers_dict,followings_dict, reply_dict,retweet_dict,mention_dict):\n",
        "    sc1 = S1(ID1, ID2, followers_dict)\n",
        "    sc2 = s2(ID1, ID2, followings_dict)\n",
        "    sc3 = s3(ID1, ID2, followers_dict)\n",
        "    sc4 = S4(ID1, ID2, mention_dict)\n",
        "    sc5 = S5(ID1, ID2, reply_dict)\n",
        "    sc6 = S6(ID1, ID2, retweet_dict)\n",
        "\n",
        "    combined_score = sc1 + sc2 + sc3 + sc4 + sc5 + sc6\n",
        "    if ID1==ID2:\n",
        "      combined_score=0\n",
        "    return combined_score"
      ],
      "metadata": {
        "colab": {
          "base_uri": "https://localhost:8080/"
        },
        "id": "CV5zMHUUmAEr",
        "outputId": "113374a7-586b-42a8-979f-3d6498fc2a2b"
      },
      "execution_count": null,
      "outputs": [
        {
          "output_type": "stream",
          "name": "stderr",
          "text": [
            "/usr/local/lib/python3.10/dist-packages/ipykernel/ipkernel.py:283: DeprecationWarning: `should_run_async` will not call `transform_cell` automatically in the future. Please pass the result to `transformed_cell` argument and any exception that happen during thetransform in `preprocessing_exc_tuple` in IPython 7.17 and above.\n",
            "  and should_run_async(code)\n"
          ]
        }
      ]
    },
    {
      "cell_type": "code",
      "source": [
        "# Assuming you have already defined the S1 function or any other similarity function.\n",
        "\n",
        "# Function to calculate the average similarity between all pairs of users in a set\n",
        "def average_similarity(itemset, similarity_function, followers_dict):\n",
        "    if len(itemset) == 1:\n",
        "        return 1.0  # If the set has only 1 item, the similarity is 1\n",
        "\n",
        "    total_similarity = 0.0\n",
        "    total_pairs = 0\n",
        "\n",
        "    # Calculate the similarity between all pairs of users in the set\n",
        "    for i in itemset:\n",
        "        for j in itemset:\n",
        "            if i != j:\n",
        "                total_similarity += combined_similarity(i,j,followers_dict,followings_dict, reply_dict,retweet_dict,mention_dict)\n",
        "                total_pairs += 1\n",
        "\n",
        "    # Calculate the average similarity\n",
        "    average_sim = total_similarity / total_pairs\n",
        "\n",
        "    return average_sim\n",
        "\n",
        "# Assuming you have the followers_dict dictionary that contains user followers data\n",
        "\n",
        "# Add a new column 'similarity' to the frequent_items_with_support DataFrame\n",
        "frequent_items_with_support['similarity'] = frequent_items_with_support['itemsets'].apply(\n",
        "    lambda itemset: average_similarity(itemset, S1, followers_dict)\n",
        ")\n",
        "\n",
        "# Display the DataFrame with the new 'similarity' column\n",
        "frequent_items_with_support"
      ],
      "metadata": {
        "colab": {
          "base_uri": "https://localhost:8080/",
          "height": 1000
        },
        "id": "VvaC2OM4mABe",
        "outputId": "6115126d-ef62-48ed-8f70-18bebea90515"
      },
      "execution_count": null,
      "outputs": [
        {
          "output_type": "stream",
          "name": "stderr",
          "text": [
            "/usr/local/lib/python3.10/dist-packages/ipykernel/ipkernel.py:283: DeprecationWarning: `should_run_async` will not call `transform_cell` automatically in the future. Please pass the result to `transformed_cell` argument and any exception that happen during thetransform in `preprocessing_exc_tuple` in IPython 7.17 and above.\n",
            "  and should_run_async(code)\n"
          ]
        },
        {
          "output_type": "execute_result",
          "data": {
            "text/plain": [
              "           itemsets   support  length  similarity\n",
              "32          (89805)  0.014862       1    1.000000\n",
              "20          (38535)  0.010857       1    1.000000\n",
              "0             (492)  0.007062       1    1.000000\n",
              "14          (27705)  0.006008       1    1.000000\n",
              "2            (1276)  0.005481       1    1.000000\n",
              "26          (62391)  0.005376       1    1.000000\n",
              "12          (26158)  0.005270       1    1.000000\n",
              "23          (54301)  0.005165       1    1.000000\n",
              "27          (64911)  0.005060       1    1.000000\n",
              "6            (9021)  0.004533       1    1.000000\n",
              "22          (51181)  0.004533       1    1.000000\n",
              "5            (6940)  0.004427       1    1.000000\n",
              "31          (80101)  0.004216       1    1.000000\n",
              "17          (35375)  0.004216       1    1.000000\n",
              "18          (35376)  0.004111       1    1.000000\n",
              "37         (149922)  0.004111       1    1.000000\n",
              "9           (14957)  0.004111       1    1.000000\n",
              "34         (103447)  0.004005       1    1.000000\n",
              "29          (69127)  0.004005       1    1.000000\n",
              "10          (15439)  0.004005       1    1.000000\n",
              "1             (511)  0.003900       1    1.000000\n",
              "21          (44086)  0.003900       1    1.000000\n",
              "7           (12751)  0.003900       1    1.000000\n",
              "19          (35729)  0.003795       1    1.000000\n",
              "40   (89805, 64911)  0.003689       2    1.606705\n",
              "35         (108150)  0.003689       1    1.000000\n",
              "4            (6241)  0.003689       1    1.000000\n",
              "33          (98204)  0.003584       1    1.000000\n",
              "8           (13820)  0.003584       1    1.000000\n",
              "25          (62195)  0.003478       1    1.000000\n",
              "3            (4665)  0.003478       1    1.000000\n",
              "16          (33833)  0.003478       1    1.000000\n",
              "39   (35729, 89805)  0.003373       2    1.719965\n",
              "24          (56426)  0.003373       1    1.000000\n",
              "11          (16970)  0.003268       1    1.000000\n",
              "36         (110903)  0.003268       1    1.000000\n",
              "30          (74295)  0.003162       1    1.000000\n",
              "28          (67382)  0.003162       1    1.000000\n",
              "38   (89805, 26158)  0.003162       2    0.505292\n",
              "15          (29542)  0.003162       1    1.000000\n",
              "13          (27311)  0.003057       1    1.000000\n",
              "41  (89805, 110903)  0.003057       2    1.758686"
            ],
            "text/html": [
              "\n",
              "\n",
              "  <div id=\"df-918f5201-e6f0-4c83-8c7c-543677829a14\">\n",
              "    <div class=\"colab-df-container\">\n",
              "      <div>\n",
              "<style scoped>\n",
              "    .dataframe tbody tr th:only-of-type {\n",
              "        vertical-align: middle;\n",
              "    }\n",
              "\n",
              "    .dataframe tbody tr th {\n",
              "        vertical-align: top;\n",
              "    }\n",
              "\n",
              "    .dataframe thead th {\n",
              "        text-align: right;\n",
              "    }\n",
              "</style>\n",
              "<table border=\"1\" class=\"dataframe\">\n",
              "  <thead>\n",
              "    <tr style=\"text-align: right;\">\n",
              "      <th></th>\n",
              "      <th>itemsets</th>\n",
              "      <th>support</th>\n",
              "      <th>length</th>\n",
              "      <th>similarity</th>\n",
              "    </tr>\n",
              "  </thead>\n",
              "  <tbody>\n",
              "    <tr>\n",
              "      <th>32</th>\n",
              "      <td>(89805)</td>\n",
              "      <td>0.014862</td>\n",
              "      <td>1</td>\n",
              "      <td>1.000000</td>\n",
              "    </tr>\n",
              "    <tr>\n",
              "      <th>20</th>\n",
              "      <td>(38535)</td>\n",
              "      <td>0.010857</td>\n",
              "      <td>1</td>\n",
              "      <td>1.000000</td>\n",
              "    </tr>\n",
              "    <tr>\n",
              "      <th>0</th>\n",
              "      <td>(492)</td>\n",
              "      <td>0.007062</td>\n",
              "      <td>1</td>\n",
              "      <td>1.000000</td>\n",
              "    </tr>\n",
              "    <tr>\n",
              "      <th>14</th>\n",
              "      <td>(27705)</td>\n",
              "      <td>0.006008</td>\n",
              "      <td>1</td>\n",
              "      <td>1.000000</td>\n",
              "    </tr>\n",
              "    <tr>\n",
              "      <th>2</th>\n",
              "      <td>(1276)</td>\n",
              "      <td>0.005481</td>\n",
              "      <td>1</td>\n",
              "      <td>1.000000</td>\n",
              "    </tr>\n",
              "    <tr>\n",
              "      <th>26</th>\n",
              "      <td>(62391)</td>\n",
              "      <td>0.005376</td>\n",
              "      <td>1</td>\n",
              "      <td>1.000000</td>\n",
              "    </tr>\n",
              "    <tr>\n",
              "      <th>12</th>\n",
              "      <td>(26158)</td>\n",
              "      <td>0.005270</td>\n",
              "      <td>1</td>\n",
              "      <td>1.000000</td>\n",
              "    </tr>\n",
              "    <tr>\n",
              "      <th>23</th>\n",
              "      <td>(54301)</td>\n",
              "      <td>0.005165</td>\n",
              "      <td>1</td>\n",
              "      <td>1.000000</td>\n",
              "    </tr>\n",
              "    <tr>\n",
              "      <th>27</th>\n",
              "      <td>(64911)</td>\n",
              "      <td>0.005060</td>\n",
              "      <td>1</td>\n",
              "      <td>1.000000</td>\n",
              "    </tr>\n",
              "    <tr>\n",
              "      <th>6</th>\n",
              "      <td>(9021)</td>\n",
              "      <td>0.004533</td>\n",
              "      <td>1</td>\n",
              "      <td>1.000000</td>\n",
              "    </tr>\n",
              "    <tr>\n",
              "      <th>22</th>\n",
              "      <td>(51181)</td>\n",
              "      <td>0.004533</td>\n",
              "      <td>1</td>\n",
              "      <td>1.000000</td>\n",
              "    </tr>\n",
              "    <tr>\n",
              "      <th>5</th>\n",
              "      <td>(6940)</td>\n",
              "      <td>0.004427</td>\n",
              "      <td>1</td>\n",
              "      <td>1.000000</td>\n",
              "    </tr>\n",
              "    <tr>\n",
              "      <th>31</th>\n",
              "      <td>(80101)</td>\n",
              "      <td>0.004216</td>\n",
              "      <td>1</td>\n",
              "      <td>1.000000</td>\n",
              "    </tr>\n",
              "    <tr>\n",
              "      <th>17</th>\n",
              "      <td>(35375)</td>\n",
              "      <td>0.004216</td>\n",
              "      <td>1</td>\n",
              "      <td>1.000000</td>\n",
              "    </tr>\n",
              "    <tr>\n",
              "      <th>18</th>\n",
              "      <td>(35376)</td>\n",
              "      <td>0.004111</td>\n",
              "      <td>1</td>\n",
              "      <td>1.000000</td>\n",
              "    </tr>\n",
              "    <tr>\n",
              "      <th>37</th>\n",
              "      <td>(149922)</td>\n",
              "      <td>0.004111</td>\n",
              "      <td>1</td>\n",
              "      <td>1.000000</td>\n",
              "    </tr>\n",
              "    <tr>\n",
              "      <th>9</th>\n",
              "      <td>(14957)</td>\n",
              "      <td>0.004111</td>\n",
              "      <td>1</td>\n",
              "      <td>1.000000</td>\n",
              "    </tr>\n",
              "    <tr>\n",
              "      <th>34</th>\n",
              "      <td>(103447)</td>\n",
              "      <td>0.004005</td>\n",
              "      <td>1</td>\n",
              "      <td>1.000000</td>\n",
              "    </tr>\n",
              "    <tr>\n",
              "      <th>29</th>\n",
              "      <td>(69127)</td>\n",
              "      <td>0.004005</td>\n",
              "      <td>1</td>\n",
              "      <td>1.000000</td>\n",
              "    </tr>\n",
              "    <tr>\n",
              "      <th>10</th>\n",
              "      <td>(15439)</td>\n",
              "      <td>0.004005</td>\n",
              "      <td>1</td>\n",
              "      <td>1.000000</td>\n",
              "    </tr>\n",
              "    <tr>\n",
              "      <th>1</th>\n",
              "      <td>(511)</td>\n",
              "      <td>0.003900</td>\n",
              "      <td>1</td>\n",
              "      <td>1.000000</td>\n",
              "    </tr>\n",
              "    <tr>\n",
              "      <th>21</th>\n",
              "      <td>(44086)</td>\n",
              "      <td>0.003900</td>\n",
              "      <td>1</td>\n",
              "      <td>1.000000</td>\n",
              "    </tr>\n",
              "    <tr>\n",
              "      <th>7</th>\n",
              "      <td>(12751)</td>\n",
              "      <td>0.003900</td>\n",
              "      <td>1</td>\n",
              "      <td>1.000000</td>\n",
              "    </tr>\n",
              "    <tr>\n",
              "      <th>19</th>\n",
              "      <td>(35729)</td>\n",
              "      <td>0.003795</td>\n",
              "      <td>1</td>\n",
              "      <td>1.000000</td>\n",
              "    </tr>\n",
              "    <tr>\n",
              "      <th>40</th>\n",
              "      <td>(89805, 64911)</td>\n",
              "      <td>0.003689</td>\n",
              "      <td>2</td>\n",
              "      <td>1.606705</td>\n",
              "    </tr>\n",
              "    <tr>\n",
              "      <th>35</th>\n",
              "      <td>(108150)</td>\n",
              "      <td>0.003689</td>\n",
              "      <td>1</td>\n",
              "      <td>1.000000</td>\n",
              "    </tr>\n",
              "    <tr>\n",
              "      <th>4</th>\n",
              "      <td>(6241)</td>\n",
              "      <td>0.003689</td>\n",
              "      <td>1</td>\n",
              "      <td>1.000000</td>\n",
              "    </tr>\n",
              "    <tr>\n",
              "      <th>33</th>\n",
              "      <td>(98204)</td>\n",
              "      <td>0.003584</td>\n",
              "      <td>1</td>\n",
              "      <td>1.000000</td>\n",
              "    </tr>\n",
              "    <tr>\n",
              "      <th>8</th>\n",
              "      <td>(13820)</td>\n",
              "      <td>0.003584</td>\n",
              "      <td>1</td>\n",
              "      <td>1.000000</td>\n",
              "    </tr>\n",
              "    <tr>\n",
              "      <th>25</th>\n",
              "      <td>(62195)</td>\n",
              "      <td>0.003478</td>\n",
              "      <td>1</td>\n",
              "      <td>1.000000</td>\n",
              "    </tr>\n",
              "    <tr>\n",
              "      <th>3</th>\n",
              "      <td>(4665)</td>\n",
              "      <td>0.003478</td>\n",
              "      <td>1</td>\n",
              "      <td>1.000000</td>\n",
              "    </tr>\n",
              "    <tr>\n",
              "      <th>16</th>\n",
              "      <td>(33833)</td>\n",
              "      <td>0.003478</td>\n",
              "      <td>1</td>\n",
              "      <td>1.000000</td>\n",
              "    </tr>\n",
              "    <tr>\n",
              "      <th>39</th>\n",
              "      <td>(35729, 89805)</td>\n",
              "      <td>0.003373</td>\n",
              "      <td>2</td>\n",
              "      <td>1.719965</td>\n",
              "    </tr>\n",
              "    <tr>\n",
              "      <th>24</th>\n",
              "      <td>(56426)</td>\n",
              "      <td>0.003373</td>\n",
              "      <td>1</td>\n",
              "      <td>1.000000</td>\n",
              "    </tr>\n",
              "    <tr>\n",
              "      <th>11</th>\n",
              "      <td>(16970)</td>\n",
              "      <td>0.003268</td>\n",
              "      <td>1</td>\n",
              "      <td>1.000000</td>\n",
              "    </tr>\n",
              "    <tr>\n",
              "      <th>36</th>\n",
              "      <td>(110903)</td>\n",
              "      <td>0.003268</td>\n",
              "      <td>1</td>\n",
              "      <td>1.000000</td>\n",
              "    </tr>\n",
              "    <tr>\n",
              "      <th>30</th>\n",
              "      <td>(74295)</td>\n",
              "      <td>0.003162</td>\n",
              "      <td>1</td>\n",
              "      <td>1.000000</td>\n",
              "    </tr>\n",
              "    <tr>\n",
              "      <th>28</th>\n",
              "      <td>(67382)</td>\n",
              "      <td>0.003162</td>\n",
              "      <td>1</td>\n",
              "      <td>1.000000</td>\n",
              "    </tr>\n",
              "    <tr>\n",
              "      <th>38</th>\n",
              "      <td>(89805, 26158)</td>\n",
              "      <td>0.003162</td>\n",
              "      <td>2</td>\n",
              "      <td>0.505292</td>\n",
              "    </tr>\n",
              "    <tr>\n",
              "      <th>15</th>\n",
              "      <td>(29542)</td>\n",
              "      <td>0.003162</td>\n",
              "      <td>1</td>\n",
              "      <td>1.000000</td>\n",
              "    </tr>\n",
              "    <tr>\n",
              "      <th>13</th>\n",
              "      <td>(27311)</td>\n",
              "      <td>0.003057</td>\n",
              "      <td>1</td>\n",
              "      <td>1.000000</td>\n",
              "    </tr>\n",
              "    <tr>\n",
              "      <th>41</th>\n",
              "      <td>(89805, 110903)</td>\n",
              "      <td>0.003057</td>\n",
              "      <td>2</td>\n",
              "      <td>1.758686</td>\n",
              "    </tr>\n",
              "  </tbody>\n",
              "</table>\n",
              "</div>\n",
              "      <button class=\"colab-df-convert\" onclick=\"convertToInteractive('df-918f5201-e6f0-4c83-8c7c-543677829a14')\"\n",
              "              title=\"Convert this dataframe to an interactive table.\"\n",
              "              style=\"display:none;\">\n",
              "\n",
              "  <svg xmlns=\"http://www.w3.org/2000/svg\" height=\"24px\"viewBox=\"0 0 24 24\"\n",
              "       width=\"24px\">\n",
              "    <path d=\"M0 0h24v24H0V0z\" fill=\"none\"/>\n",
              "    <path d=\"M18.56 5.44l.94 2.06.94-2.06 2.06-.94-2.06-.94-.94-2.06-.94 2.06-2.06.94zm-11 1L8.5 8.5l.94-2.06 2.06-.94-2.06-.94L8.5 2.5l-.94 2.06-2.06.94zm10 10l.94 2.06.94-2.06 2.06-.94-2.06-.94-.94-2.06-.94 2.06-2.06.94z\"/><path d=\"M17.41 7.96l-1.37-1.37c-.4-.4-.92-.59-1.43-.59-.52 0-1.04.2-1.43.59L10.3 9.45l-7.72 7.72c-.78.78-.78 2.05 0 2.83L4 21.41c.39.39.9.59 1.41.59.51 0 1.02-.2 1.41-.59l7.78-7.78 2.81-2.81c.8-.78.8-2.07 0-2.86zM5.41 20L4 18.59l7.72-7.72 1.47 1.35L5.41 20z\"/>\n",
              "  </svg>\n",
              "      </button>\n",
              "\n",
              "\n",
              "\n",
              "    <div id=\"df-8d79c747-2741-4d04-ba22-7eadd9be905a\">\n",
              "      <button class=\"colab-df-quickchart\" onclick=\"quickchart('df-8d79c747-2741-4d04-ba22-7eadd9be905a')\"\n",
              "              title=\"Suggest charts.\"\n",
              "              style=\"display:none;\">\n",
              "\n",
              "<svg xmlns=\"http://www.w3.org/2000/svg\" height=\"24px\"viewBox=\"0 0 24 24\"\n",
              "     width=\"24px\">\n",
              "    <g>\n",
              "        <path d=\"M19 3H5c-1.1 0-2 .9-2 2v14c0 1.1.9 2 2 2h14c1.1 0 2-.9 2-2V5c0-1.1-.9-2-2-2zM9 17H7v-7h2v7zm4 0h-2V7h2v10zm4 0h-2v-4h2v4z\"/>\n",
              "    </g>\n",
              "</svg>\n",
              "      </button>\n",
              "    </div>\n",
              "\n",
              "<style>\n",
              "  .colab-df-quickchart {\n",
              "    background-color: #E8F0FE;\n",
              "    border: none;\n",
              "    border-radius: 50%;\n",
              "    cursor: pointer;\n",
              "    display: none;\n",
              "    fill: #1967D2;\n",
              "    height: 32px;\n",
              "    padding: 0 0 0 0;\n",
              "    width: 32px;\n",
              "  }\n",
              "\n",
              "  .colab-df-quickchart:hover {\n",
              "    background-color: #E2EBFA;\n",
              "    box-shadow: 0px 1px 2px rgba(60, 64, 67, 0.3), 0px 1px 3px 1px rgba(60, 64, 67, 0.15);\n",
              "    fill: #174EA6;\n",
              "  }\n",
              "\n",
              "  [theme=dark] .colab-df-quickchart {\n",
              "    background-color: #3B4455;\n",
              "    fill: #D2E3FC;\n",
              "  }\n",
              "\n",
              "  [theme=dark] .colab-df-quickchart:hover {\n",
              "    background-color: #434B5C;\n",
              "    box-shadow: 0px 1px 3px 1px rgba(0, 0, 0, 0.15);\n",
              "    filter: drop-shadow(0px 1px 2px rgba(0, 0, 0, 0.3));\n",
              "    fill: #FFFFFF;\n",
              "  }\n",
              "</style>\n",
              "\n",
              "    <script>\n",
              "      async function quickchart(key) {\n",
              "        const containerElement = document.querySelector('#' + key);\n",
              "        const charts = await google.colab.kernel.invokeFunction(\n",
              "            'suggestCharts', [key], {});\n",
              "      }\n",
              "    </script>\n",
              "\n",
              "      <script>\n",
              "\n",
              "function displayQuickchartButton(domScope) {\n",
              "  let quickchartButtonEl =\n",
              "    domScope.querySelector('#df-8d79c747-2741-4d04-ba22-7eadd9be905a button.colab-df-quickchart');\n",
              "  quickchartButtonEl.style.display =\n",
              "    google.colab.kernel.accessAllowed ? 'block' : 'none';\n",
              "}\n",
              "\n",
              "        displayQuickchartButton(document);\n",
              "      </script>\n",
              "      <style>\n",
              "    .colab-df-container {\n",
              "      display:flex;\n",
              "      flex-wrap:wrap;\n",
              "      gap: 12px;\n",
              "    }\n",
              "\n",
              "    .colab-df-convert {\n",
              "      background-color: #E8F0FE;\n",
              "      border: none;\n",
              "      border-radius: 50%;\n",
              "      cursor: pointer;\n",
              "      display: none;\n",
              "      fill: #1967D2;\n",
              "      height: 32px;\n",
              "      padding: 0 0 0 0;\n",
              "      width: 32px;\n",
              "    }\n",
              "\n",
              "    .colab-df-convert:hover {\n",
              "      background-color: #E2EBFA;\n",
              "      box-shadow: 0px 1px 2px rgba(60, 64, 67, 0.3), 0px 1px 3px 1px rgba(60, 64, 67, 0.15);\n",
              "      fill: #174EA6;\n",
              "    }\n",
              "\n",
              "    [theme=dark] .colab-df-convert {\n",
              "      background-color: #3B4455;\n",
              "      fill: #D2E3FC;\n",
              "    }\n",
              "\n",
              "    [theme=dark] .colab-df-convert:hover {\n",
              "      background-color: #434B5C;\n",
              "      box-shadow: 0px 1px 3px 1px rgba(0, 0, 0, 0.15);\n",
              "      filter: drop-shadow(0px 1px 2px rgba(0, 0, 0, 0.3));\n",
              "      fill: #FFFFFF;\n",
              "    }\n",
              "  </style>\n",
              "\n",
              "      <script>\n",
              "        const buttonEl =\n",
              "          document.querySelector('#df-918f5201-e6f0-4c83-8c7c-543677829a14 button.colab-df-convert');\n",
              "        buttonEl.style.display =\n",
              "          google.colab.kernel.accessAllowed ? 'block' : 'none';\n",
              "\n",
              "        async function convertToInteractive(key) {\n",
              "          const element = document.querySelector('#df-918f5201-e6f0-4c83-8c7c-543677829a14');\n",
              "          const dataTable =\n",
              "            await google.colab.kernel.invokeFunction('convertToInteractive',\n",
              "                                                     [key], {});\n",
              "          if (!dataTable) return;\n",
              "\n",
              "          const docLinkHtml = 'Like what you see? Visit the ' +\n",
              "            '<a target=\"_blank\" href=https://colab.research.google.com/notebooks/data_table.ipynb>data table notebook</a>'\n",
              "            + ' to learn more about interactive tables.';\n",
              "          element.innerHTML = '';\n",
              "          dataTable['output_type'] = 'display_data';\n",
              "          await google.colab.output.renderOutput(dataTable, element);\n",
              "          const docLink = document.createElement('div');\n",
              "          docLink.innerHTML = docLinkHtml;\n",
              "          element.appendChild(docLink);\n",
              "        }\n",
              "      </script>\n",
              "    </div>\n",
              "  </div>\n"
            ]
          },
          "metadata": {},
          "execution_count": 52
        }
      ]
    },
    {
      "cell_type": "code",
      "source": [
        "# Calculate the average of the 'similarity' column when 'itemsets' length is greater than 1\n",
        "average_similarity_greater_than_1 = frequent_items_with_support.loc[\n",
        "    frequent_items_with_support['itemsets'].apply(len) > 1, 'similarity'\n",
        "].mean()\n",
        "\n",
        "print(f\"The average similarity for itemsets with length greater than 1 is: {average_similarity_greater_than_1}\")\n",
        "print('')"
      ],
      "metadata": {
        "colab": {
          "base_uri": "https://localhost:8080/"
        },
        "id": "U2tvxD-Kl__5",
        "outputId": "de462ef5-2ece-44be-c513-3899a75fa338"
      },
      "execution_count": null,
      "outputs": [
        {
          "output_type": "stream",
          "name": "stdout",
          "text": [
            "The average similarity for itemsets with length greater than 1 is: 1.3976620443802934\n",
            "\n"
          ]
        },
        {
          "output_type": "stream",
          "name": "stderr",
          "text": [
            "/usr/local/lib/python3.10/dist-packages/ipykernel/ipkernel.py:283: DeprecationWarning: `should_run_async` will not call `transform_cell` automatically in the future. Please pass the result to `transformed_cell` argument and any exception that happen during thetransform in `preprocessing_exc_tuple` in IPython 7.17 and above.\n",
            "  and should_run_async(code)\n"
          ]
        }
      ]
    },
    {
      "cell_type": "code",
      "source": [
        "# Calculate the average of the 'similarity' column when 'itemsets' length is greater than 1\n",
        "average_similarity_greater_than_1 = frequent_items_with_support.loc[\n",
        "    frequent_items_with_support['itemsets'].apply(len) > 1, 'similarity'\n",
        "].min()\n",
        "\n",
        "print(f\"The min similarity for itemsets with length greater than 1 is: {average_similarity_greater_than_1}\")\n",
        "print('')"
      ],
      "metadata": {
        "colab": {
          "base_uri": "https://localhost:8080/"
        },
        "id": "Pq7UZJ16l_8W",
        "outputId": "b58cf264-6e63-4643-d3be-fd996d0d10be"
      },
      "execution_count": null,
      "outputs": [
        {
          "output_type": "stream",
          "name": "stdout",
          "text": [
            "The min similarity for itemsets with length greater than 1 is: 0.505291934005874\n",
            "\n"
          ]
        },
        {
          "output_type": "stream",
          "name": "stderr",
          "text": [
            "/usr/local/lib/python3.10/dist-packages/ipykernel/ipkernel.py:283: DeprecationWarning: `should_run_async` will not call `transform_cell` automatically in the future. Please pass the result to `transformed_cell` argument and any exception that happen during thetransform in `preprocessing_exc_tuple` in IPython 7.17 and above.\n",
            "  and should_run_async(code)\n"
          ]
        }
      ]
    },
    {
      "cell_type": "code",
      "source": [
        "# Calculate the average of the 'similarity' column when 'itemsets' length is greater than 1\n",
        "average_similarity_greater_than_1 = frequent_items_with_support.loc[\n",
        "    frequent_items_with_support['itemsets'].apply(len) > 1, 'similarity'\n",
        "].max()\n",
        "\n",
        "print(f\"The max similarity for itemsets with length greater than 1 is: {average_similarity_greater_than_1}\")\n",
        "print('')"
      ],
      "metadata": {
        "colab": {
          "base_uri": "https://localhost:8080/"
        },
        "id": "ymWRmP36l_6o",
        "outputId": "3f724da7-b3a3-4e1e-a127-03246c018c38"
      },
      "execution_count": null,
      "outputs": [
        {
          "output_type": "stream",
          "name": "stdout",
          "text": [
            "The max similarity for itemsets with length greater than 1 is: 1.7586856822195795\n",
            "\n"
          ]
        },
        {
          "output_type": "stream",
          "name": "stderr",
          "text": [
            "/usr/local/lib/python3.10/dist-packages/ipykernel/ipkernel.py:283: DeprecationWarning: `should_run_async` will not call `transform_cell` automatically in the future. Please pass the result to `transformed_cell` argument and any exception that happen during thetransform in `preprocessing_exc_tuple` in IPython 7.17 and above.\n",
            "  and should_run_async(code)\n"
          ]
        }
      ]
    },
    {
      "cell_type": "code",
      "source": [
        "# Calculate the average of the 'similarity' column when 'itemsets' length is greater than 1\n",
        "average_similarity_greater_than_1 = frequent_items_with_support.loc[\n",
        "    frequent_items_with_support['itemsets'].apply(len) > 1, 'similarity'\n",
        "].mode()\n",
        "\n",
        "print(f\"The mode of similarity for itemsets with length greater than 1 is: {average_similarity_greater_than_1}\")\n",
        "print('')"
      ],
      "metadata": {
        "colab": {
          "base_uri": "https://localhost:8080/"
        },
        "id": "PYzOXOZUl_3g",
        "outputId": "e198547f-8a38-4a8c-a4a6-293541400206"
      },
      "execution_count": null,
      "outputs": [
        {
          "output_type": "stream",
          "name": "stdout",
          "text": [
            "The mode of similarity for itemsets with length greater than 1 is: 0    0.505292\n",
            "1    1.606705\n",
            "2    1.719965\n",
            "3    1.758686\n",
            "Name: similarity, dtype: float64\n",
            "\n"
          ]
        },
        {
          "output_type": "stream",
          "name": "stderr",
          "text": [
            "/usr/local/lib/python3.10/dist-packages/ipykernel/ipkernel.py:283: DeprecationWarning: `should_run_async` will not call `transform_cell` automatically in the future. Please pass the result to `transformed_cell` argument and any exception that happen during thetransform in `preprocessing_exc_tuple` in IPython 7.17 and above.\n",
            "  and should_run_async(code)\n"
          ]
        }
      ]
    },
    {
      "cell_type": "code",
      "source": [
        "import matplotlib.pyplot as plt\n",
        "import numpy as np\n",
        "\n",
        "# Assuming you have already calculated the 'similarity' column as shown in the previous code.\n",
        "\n",
        "# Calculate statistics\n",
        "mean_similarity = frequent_items_with_support['similarity'].mean()\n",
        "mode_similarity = frequent_items_with_support['similarity'].mode().iloc[0]\n",
        "min_similarity = frequent_items_with_support['similarity'].min()\n",
        "max_similarity = frequent_items_with_support['similarity'].max()\n",
        "\n",
        "# Plot the distribution of the 'similarity' column\n",
        "plt.figure(figsize=(8, 6))\n",
        "plt.hist(frequent_items_with_support['similarity'], bins=30, color='skyblue', edgecolor='black')\n",
        "plt.axvline(mean_similarity, color='green', linestyle='dashed', linewidth=2, label='Mean')\n",
        "plt.axvline(mode_similarity, color='red', linestyle='dashed', linewidth=2, label='Mode')\n",
        "plt.axvline(min_similarity, color='purple', linestyle='dashed', linewidth=2, label='Min')\n",
        "plt.axvline(max_similarity, color='orange', linestyle='dashed', linewidth=2, label='Max')\n",
        "plt.xlabel('Similarity')\n",
        "plt.ylabel('Frequency')\n",
        "plt.title('Distribution of Similarity')\n",
        "plt.legend()\n",
        "plt.grid(True)\n",
        "\n",
        "# Add text annotations for the statistics\n",
        "plt.text(mean_similarity, plt.ylim()[1] * 0.50, f\"Mean: {mean_similarity:.2f}\", color='green', ha='right')\n",
        "plt.text(mode_similarity, plt.ylim()[1] * 0.50, f\"Mode: {mode_similarity:.2f}\", color='red', ha='left')\n",
        "plt.text(min_similarity, plt.ylim()[1] * 0.50, f\"Min: {min_similarity:.2f}\", color='purple', ha='left')\n",
        "plt.text(max_similarity, plt.ylim()[1] * 0.50, f\"Max: {max_similarity:.2f}\", color='orange', ha='right')\n",
        "\n",
        "plt.show()\n"
      ],
      "metadata": {
        "colab": {
          "base_uri": "https://localhost:8080/",
          "height": 619
        },
        "id": "iUR0BRBml_1V",
        "outputId": "095518af-12e6-4f99-b8d1-76ab146c1b02"
      },
      "execution_count": null,
      "outputs": [
        {
          "output_type": "stream",
          "name": "stderr",
          "text": [
            "/usr/local/lib/python3.10/dist-packages/ipykernel/ipkernel.py:283: DeprecationWarning: `should_run_async` will not call `transform_cell` automatically in the future. Please pass the result to `transformed_cell` argument and any exception that happen during thetransform in `preprocessing_exc_tuple` in IPython 7.17 and above.\n",
            "  and should_run_async(code)\n"
          ]
        },
        {
          "output_type": "display_data",
          "data": {
            "text/plain": [
              "<Figure size 800x600 with 1 Axes>"
            ],
            "image/png": "[encoded data removed]"
          },
          "metadata": {}
        }
      ]
    },
    {
      "cell_type": "code",
      "source": [
        "frequent_items_with_support"
      ],
      "metadata": {
        "colab": {
          "base_uri": "https://localhost:8080/",
          "height": 1000
        },
        "id": "m4h57-ntR64m",
        "outputId": "429363cf-42f1-4213-dff6-fc157c751e9a"
      },
      "execution_count": null,
      "outputs": [
        {
          "output_type": "stream",
          "name": "stderr",
          "text": [
            "/usr/local/lib/python3.10/dist-packages/ipykernel/ipkernel.py:283: DeprecationWarning: `should_run_async` will not call `transform_cell` automatically in the future. Please pass the result to `transformed_cell` argument and any exception that happen during thetransform in `preprocessing_exc_tuple` in IPython 7.17 and above.\n",
            "  and should_run_async(code)\n"
          ]
        },
        {
          "output_type": "execute_result",
          "data": {
            "text/plain": [
              "           itemsets   support  length  similarity\n",
              "32          (89805)  0.014862       1    1.000000\n",
              "20          (38535)  0.010857       1    1.000000\n",
              "0             (492)  0.007062       1    1.000000\n",
              "14          (27705)  0.006008       1    1.000000\n",
              "2            (1276)  0.005481       1    1.000000\n",
              "26          (62391)  0.005376       1    1.000000\n",
              "12          (26158)  0.005270       1    1.000000\n",
              "23          (54301)  0.005165       1    1.000000\n",
              "27          (64911)  0.005060       1    1.000000\n",
              "6            (9021)  0.004533       1    1.000000\n",
              "22          (51181)  0.004533       1    1.000000\n",
              "5            (6940)  0.004427       1    1.000000\n",
              "31          (80101)  0.004216       1    1.000000\n",
              "17          (35375)  0.004216       1    1.000000\n",
              "18          (35376)  0.004111       1    1.000000\n",
              "37         (149922)  0.004111       1    1.000000\n",
              "9           (14957)  0.004111       1    1.000000\n",
              "34         (103447)  0.004005       1    1.000000\n",
              "29          (69127)  0.004005       1    1.000000\n",
              "10          (15439)  0.004005       1    1.000000\n",
              "1             (511)  0.003900       1    1.000000\n",
              "21          (44086)  0.003900       1    1.000000\n",
              "7           (12751)  0.003900       1    1.000000\n",
              "19          (35729)  0.003795       1    1.000000\n",
              "40   (89805, 64911)  0.003689       2    1.606705\n",
              "35         (108150)  0.003689       1    1.000000\n",
              "4            (6241)  0.003689       1    1.000000\n",
              "33          (98204)  0.003584       1    1.000000\n",
              "8           (13820)  0.003584       1    1.000000\n",
              "25          (62195)  0.003478       1    1.000000\n",
              "3            (4665)  0.003478       1    1.000000\n",
              "16          (33833)  0.003478       1    1.000000\n",
              "39   (35729, 89805)  0.003373       2    1.719965\n",
              "24          (56426)  0.003373       1    1.000000\n",
              "11          (16970)  0.003268       1    1.000000\n",
              "36         (110903)  0.003268       1    1.000000\n",
              "30          (74295)  0.003162       1    1.000000\n",
              "28          (67382)  0.003162       1    1.000000\n",
              "38   (89805, 26158)  0.003162       2    0.505292\n",
              "15          (29542)  0.003162       1    1.000000\n",
              "13          (27311)  0.003057       1    1.000000\n",
              "41  (89805, 110903)  0.003057       2    1.758686"
            ],
            "text/html": [
              "\n",
              "\n",
              "  <div id=\"df-2cfb797d-0077-4cb9-8187-b66b767ecdcd\">\n",
              "    <div class=\"colab-df-container\">\n",
              "      <div>\n",
              "<style scoped>\n",
              "    .dataframe tbody tr th:only-of-type {\n",
              "        vertical-align: middle;\n",
              "    }\n",
              "\n",
              "    .dataframe tbody tr th {\n",
              "        vertical-align: top;\n",
              "    }\n",
              "\n",
              "    .dataframe thead th {\n",
              "        text-align: right;\n",
              "    }\n",
              "</style>\n",
              "<table border=\"1\" class=\"dataframe\">\n",
              "  <thead>\n",
              "    <tr style=\"text-align: right;\">\n",
              "      <th></th>\n",
              "      <th>itemsets</th>\n",
              "      <th>support</th>\n",
              "      <th>length</th>\n",
              "      <th>similarity</th>\n",
              "    </tr>\n",
              "  </thead>\n",
              "  <tbody>\n",
              "    <tr>\n",
              "      <th>32</th>\n",
              "      <td>(89805)</td>\n",
              "      <td>0.014862</td>\n",
              "      <td>1</td>\n",
              "      <td>1.000000</td>\n",
              "    </tr>\n",
              "    <tr>\n",
              "      <th>20</th>\n",
              "      <td>(38535)</td>\n",
              "      <td>0.010857</td>\n",
              "      <td>1</td>\n",
              "      <td>1.000000</td>\n",
              "    </tr>\n",
              "    <tr>\n",
              "      <th>0</th>\n",
              "      <td>(492)</td>\n",
              "      <td>0.007062</td>\n",
              "      <td>1</td>\n",
              "      <td>1.000000</td>\n",
              "    </tr>\n",
              "    <tr>\n",
              "      <th>14</th>\n",
              "      <td>(27705)</td>\n",
              "      <td>0.006008</td>\n",
              "      <td>1</td>\n",
              "      <td>1.000000</td>\n",
              "    </tr>\n",
              "    <tr>\n",
              "      <th>2</th>\n",
              "      <td>(1276)</td>\n",
              "      <td>0.005481</td>\n",
              "      <td>1</td>\n",
              "      <td>1.000000</td>\n",
              "    </tr>\n",
              "    <tr>\n",
              "      <th>26</th>\n",
              "      <td>(62391)</td>\n",
              "      <td>0.005376</td>\n",
              "      <td>1</td>\n",
              "      <td>1.000000</td>\n",
              "    </tr>\n",
              "    <tr>\n",
              "      <th>12</th>\n",
              "      <td>(26158)</td>\n",
              "      <td>0.005270</td>\n",
              "      <td>1</td>\n",
              "      <td>1.000000</td>\n",
              "    </tr>\n",
              "    <tr>\n",
              "      <th>23</th>\n",
              "      <td>(54301)</td>\n",
              "      <td>0.005165</td>\n",
              "      <td>1</td>\n",
              "      <td>1.000000</td>\n",
              "    </tr>\n",
              "    <tr>\n",
              "      <th>27</th>\n",
              "      <td>(64911)</td>\n",
              "      <td>0.005060</td>\n",
              "      <td>1</td>\n",
              "      <td>1.000000</td>\n",
              "    </tr>\n",
              "    <tr>\n",
              "      <th>6</th>\n",
              "      <td>(9021)</td>\n",
              "      <td>0.004533</td>\n",
              "      <td>1</td>\n",
              "      <td>1.000000</td>\n",
              "    </tr>\n",
              "    <tr>\n",
              "      <th>22</th>\n",
              "      <td>(51181)</td>\n",
              "      <td>0.004533</td>\n",
              "      <td>1</td>\n",
              "      <td>1.000000</td>\n",
              "    </tr>\n",
              "    <tr>\n",
              "      <th>5</th>\n",
              "      <td>(6940)</td>\n",
              "      <td>0.004427</td>\n",
              "      <td>1</td>\n",
              "      <td>1.000000</td>\n",
              "    </tr>\n",
              "    <tr>\n",
              "      <th>31</th>\n",
              "      <td>(80101)</td>\n",
              "      <td>0.004216</td>\n",
              "      <td>1</td>\n",
              "      <td>1.000000</td>\n",
              "    </tr>\n",
              "    <tr>\n",
              "      <th>17</th>\n",
              "      <td>(35375)</td>\n",
              "      <td>0.004216</td>\n",
              "      <td>1</td>\n",
              "      <td>1.000000</td>\n",
              "    </tr>\n",
              "    <tr>\n",
              "      <th>18</th>\n",
              "      <td>(35376)</td>\n",
              "      <td>0.004111</td>\n",
              "      <td>1</td>\n",
              "      <td>1.000000</td>\n",
              "    </tr>\n",
              "    <tr>\n",
              "      <th>37</th>\n",
              "      <td>(149922)</td>\n",
              "      <td>0.004111</td>\n",
              "      <td>1</td>\n",
              "      <td>1.000000</td>\n",
              "    </tr>\n",
              "    <tr>\n",
              "      <th>9</th>\n",
              "      <td>(14957)</td>\n",
              "      <td>0.004111</td>\n",
              "      <td>1</td>\n",
              "      <td>1.000000</td>\n",
              "    </tr>\n",
              "    <tr>\n",
              "      <th>34</th>\n",
              "      <td>(103447)</td>\n",
              "      <td>0.004005</td>\n",
              "      <td>1</td>\n",
              "      <td>1.000000</td>\n",
              "    </tr>\n",
              "    <tr>\n",
              "      <th>29</th>\n",
              "      <td>(69127)</td>\n",
              "      <td>0.004005</td>\n",
              "      <td>1</td>\n",
              "      <td>1.000000</td>\n",
              "    </tr>\n",
              "    <tr>\n",
              "      <th>10</th>\n",
              "      <td>(15439)</td>\n",
              "      <td>0.004005</td>\n",
              "      <td>1</td>\n",
              "      <td>1.000000</td>\n",
              "    </tr>\n",
              "    <tr>\n",
              "      <th>1</th>\n",
              "      <td>(511)</td>\n",
              "      <td>0.003900</td>\n",
              "      <td>1</td>\n",
              "      <td>1.000000</td>\n",
              "    </tr>\n",
              "    <tr>\n",
              "      <th>21</th>\n",
              "      <td>(44086)</td>\n",
              "      <td>0.003900</td>\n",
              "      <td>1</td>\n",
              "      <td>1.000000</td>\n",
              "    </tr>\n",
              "    <tr>\n",
              "      <th>7</th>\n",
              "      <td>(12751)</td>\n",
              "      <td>0.003900</td>\n",
              "      <td>1</td>\n",
              "      <td>1.000000</td>\n",
              "    </tr>\n",
              "    <tr>\n",
              "      <th>19</th>\n",
              "      <td>(35729)</td>\n",
              "      <td>0.003795</td>\n",
              "      <td>1</td>\n",
              "      <td>1.000000</td>\n",
              "    </tr>\n",
              "    <tr>\n",
              "      <th>40</th>\n",
              "      <td>(89805, 64911)</td>\n",
              "      <td>0.003689</td>\n",
              "      <td>2</td>\n",
              "      <td>1.606705</td>\n",
              "    </tr>\n",
              "    <tr>\n",
              "      <th>35</th>\n",
              "      <td>(108150)</td>\n",
              "      <td>0.003689</td>\n",
              "      <td>1</td>\n",
              "      <td>1.000000</td>\n",
              "    </tr>\n",
              "    <tr>\n",
              "      <th>4</th>\n",
              "      <td>(6241)</td>\n",
              "      <td>0.003689</td>\n",
              "      <td>1</td>\n",
              "      <td>1.000000</td>\n",
              "    </tr>\n",
              "    <tr>\n",
              "      <th>33</th>\n",
              "      <td>(98204)</td>\n",
              "      <td>0.003584</td>\n",
              "      <td>1</td>\n",
              "      <td>1.000000</td>\n",
              "    </tr>\n",
              "    <tr>\n",
              "      <th>8</th>\n",
              "      <td>(13820)</td>\n",
              "      <td>0.003584</td>\n",
              "      <td>1</td>\n",
              "      <td>1.000000</td>\n",
              "    </tr>\n",
              "    <tr>\n",
              "      <th>25</th>\n",
              "      <td>(62195)</td>\n",
              "      <td>0.003478</td>\n",
              "      <td>1</td>\n",
              "      <td>1.000000</td>\n",
              "    </tr>\n",
              "    <tr>\n",
              "      <th>3</th>\n",
              "      <td>(4665)</td>\n",
              "      <td>0.003478</td>\n",
              "      <td>1</td>\n",
              "      <td>1.000000</td>\n",
              "    </tr>\n",
              "    <tr>\n",
              "      <th>16</th>\n",
              "      <td>(33833)</td>\n",
              "      <td>0.003478</td>\n",
              "      <td>1</td>\n",
              "      <td>1.000000</td>\n",
              "    </tr>\n",
              "    <tr>\n",
              "      <th>39</th>\n",
              "      <td>(35729, 89805)</td>\n",
              "      <td>0.003373</td>\n",
              "      <td>2</td>\n",
              "      <td>1.719965</td>\n",
              "    </tr>\n",
              "    <tr>\n",
              "      <th>24</th>\n",
              "      <td>(56426)</td>\n",
              "      <td>0.003373</td>\n",
              "      <td>1</td>\n",
              "      <td>1.000000</td>\n",
              "    </tr>\n",
              "    <tr>\n",
              "      <th>11</th>\n",
              "      <td>(16970)</td>\n",
              "      <td>0.003268</td>\n",
              "      <td>1</td>\n",
              "      <td>1.000000</td>\n",
              "    </tr>\n",
              "    <tr>\n",
              "      <th>36</th>\n",
              "      <td>(110903)</td>\n",
              "      <td>0.003268</td>\n",
              "      <td>1</td>\n",
              "      <td>1.000000</td>\n",
              "    </tr>\n",
              "    <tr>\n",
              "      <th>30</th>\n",
              "      <td>(74295)</td>\n",
              "      <td>0.003162</td>\n",
              "      <td>1</td>\n",
              "      <td>1.000000</td>\n",
              "    </tr>\n",
              "    <tr>\n",
              "      <th>28</th>\n",
              "      <td>(67382)</td>\n",
              "      <td>0.003162</td>\n",
              "      <td>1</td>\n",
              "      <td>1.000000</td>\n",
              "    </tr>\n",
              "    <tr>\n",
              "      <th>38</th>\n",
              "      <td>(89805, 26158)</td>\n",
              "      <td>0.003162</td>\n",
              "      <td>2</td>\n",
              "      <td>0.505292</td>\n",
              "    </tr>\n",
              "    <tr>\n",
              "      <th>15</th>\n",
              "      <td>(29542)</td>\n",
              "      <td>0.003162</td>\n",
              "      <td>1</td>\n",
              "      <td>1.000000</td>\n",
              "    </tr>\n",
              "    <tr>\n",
              "      <th>13</th>\n",
              "      <td>(27311)</td>\n",
              "      <td>0.003057</td>\n",
              "      <td>1</td>\n",
              "      <td>1.000000</td>\n",
              "    </tr>\n",
              "    <tr>\n",
              "      <th>41</th>\n",
              "      <td>(89805, 110903)</td>\n",
              "      <td>0.003057</td>\n",
              "      <td>2</td>\n",
              "      <td>1.758686</td>\n",
              "    </tr>\n",
              "  </tbody>\n",
              "</table>\n",
              "</div>\n",
              "      <button class=\"colab-df-convert\" onclick=\"convertToInteractive('df-2cfb797d-0077-4cb9-8187-b66b767ecdcd')\"\n",
              "              title=\"Convert this dataframe to an interactive table.\"\n",
              "              style=\"display:none;\">\n",
              "\n",
              "  <svg xmlns=\"http://www.w3.org/2000/svg\" height=\"24px\"viewBox=\"0 0 24 24\"\n",
              "       width=\"24px\">\n",
              "    <path d=\"M0 0h24v24H0V0z\" fill=\"none\"/>\n",
              "    <path d=\"M18.56 5.44l.94 2.06.94-2.06 2.06-.94-2.06-.94-.94-2.06-.94 2.06-2.06.94zm-11 1L8.5 8.5l.94-2.06 2.06-.94-2.06-.94L8.5 2.5l-.94 2.06-2.06.94zm10 10l.94 2.06.94-2.06 2.06-.94-2.06-.94-.94-2.06-.94 2.06-2.06.94z\"/><path d=\"M17.41 7.96l-1.37-1.37c-.4-.4-.92-.59-1.43-.59-.52 0-1.04.2-1.43.59L10.3 9.45l-7.72 7.72c-.78.78-.78 2.05 0 2.83L4 21.41c.39.39.9.59 1.41.59.51 0 1.02-.2 1.41-.59l7.78-7.78 2.81-2.81c.8-.78.8-2.07 0-2.86zM5.41 20L4 18.59l7.72-7.72 1.47 1.35L5.41 20z\"/>\n",
              "  </svg>\n",
              "      </button>\n",
              "\n",
              "\n",
              "\n",
              "    <div id=\"df-7f988624-46f7-44ec-814b-3c2c197df72b\">\n",
              "      <button class=\"colab-df-quickchart\" onclick=\"quickchart('df-7f988624-46f7-44ec-814b-3c2c197df72b')\"\n",
              "              title=\"Suggest charts.\"\n",
              "              style=\"display:none;\">\n",
              "\n",
              "<svg xmlns=\"http://www.w3.org/2000/svg\" height=\"24px\"viewBox=\"0 0 24 24\"\n",
              "     width=\"24px\">\n",
              "    <g>\n",
              "        <path d=\"M19 3H5c-1.1 0-2 .9-2 2v14c0 1.1.9 2 2 2h14c1.1 0 2-.9 2-2V5c0-1.1-.9-2-2-2zM9 17H7v-7h2v7zm4 0h-2V7h2v10zm4 0h-2v-4h2v4z\"/>\n",
              "    </g>\n",
              "</svg>\n",
              "      </button>\n",
              "    </div>\n",
              "\n",
              "<style>\n",
              "  .colab-df-quickchart {\n",
              "    background-color: #E8F0FE;\n",
              "    border: none;\n",
              "    border-radius: 50%;\n",
              "    cursor: pointer;\n",
              "    display: none;\n",
              "    fill: #1967D2;\n",
              "    height: 32px;\n",
              "    padding: 0 0 0 0;\n",
              "    width: 32px;\n",
              "  }\n",
              "\n",
              "  .colab-df-quickchart:hover {\n",
              "    background-color: #E2EBFA;\n",
              "    box-shadow: 0px 1px 2px rgba(60, 64, 67, 0.3), 0px 1px 3px 1px rgba(60, 64, 67, 0.15);\n",
              "    fill: #174EA6;\n",
              "  }\n",
              "\n",
              "  [theme=dark] .colab-df-quickchart {\n",
              "    background-color: #3B4455;\n",
              "    fill: #D2E3FC;\n",
              "  }\n",
              "\n",
              "  [theme=dark] .colab-df-quickchart:hover {\n",
              "    background-color: #434B5C;\n",
              "    box-shadow: 0px 1px 3px 1px rgba(0, 0, 0, 0.15);\n",
              "    filter: drop-shadow(0px 1px 2px rgba(0, 0, 0, 0.3));\n",
              "    fill: #FFFFFF;\n",
              "  }\n",
              "</style>\n",
              "\n",
              "    <script>\n",
              "      async function quickchart(key) {\n",
              "        const containerElement = document.querySelector('#' + key);\n",
              "        const charts = await google.colab.kernel.invokeFunction(\n",
              "            'suggestCharts', [key], {});\n",
              "      }\n",
              "    </script>\n",
              "\n",
              "      <script>\n",
              "\n",
              "function displayQuickchartButton(domScope) {\n",
              "  let quickchartButtonEl =\n",
              "    domScope.querySelector('#df-7f988624-46f7-44ec-814b-3c2c197df72b button.colab-df-quickchart');\n",
              "  quickchartButtonEl.style.display =\n",
              "    google.colab.kernel.accessAllowed ? 'block' : 'none';\n",
              "}\n",
              "\n",
              "        displayQuickchartButton(document);\n",
              "      </script>\n",
              "      <style>\n",
              "    .colab-df-container {\n",
              "      display:flex;\n",
              "      flex-wrap:wrap;\n",
              "      gap: 12px;\n",
              "    }\n",
              "\n",
              "    .colab-df-convert {\n",
              "      background-color: #E8F0FE;\n",
              "      border: none;\n",
              "      border-radius: 50%;\n",
              "      cursor: pointer;\n",
              "      display: none;\n",
              "      fill: #1967D2;\n",
              "      height: 32px;\n",
              "      padding: 0 0 0 0;\n",
              "      width: 32px;\n",
              "    }\n",
              "\n",
              "    .colab-df-convert:hover {\n",
              "      background-color: #E2EBFA;\n",
              "      box-shadow: 0px 1px 2px rgba(60, 64, 67, 0.3), 0px 1px 3px 1px rgba(60, 64, 67, 0.15);\n",
              "      fill: #174EA6;\n",
              "    }\n",
              "\n",
              "    [theme=dark] .colab-df-convert {\n",
              "      background-color: #3B4455;\n",
              "      fill: #D2E3FC;\n",
              "    }\n",
              "\n",
              "    [theme=dark] .colab-df-convert:hover {\n",
              "      background-color: #434B5C;\n",
              "      box-shadow: 0px 1px 3px 1px rgba(0, 0, 0, 0.15);\n",
              "      filter: drop-shadow(0px 1px 2px rgba(0, 0, 0, 0.3));\n",
              "      fill: #FFFFFF;\n",
              "    }\n",
              "  </style>\n",
              "\n",
              "      <script>\n",
              "        const buttonEl =\n",
              "          document.querySelector('#df-2cfb797d-0077-4cb9-8187-b66b767ecdcd button.colab-df-convert');\n",
              "        buttonEl.style.display =\n",
              "          google.colab.kernel.accessAllowed ? 'block' : 'none';\n",
              "\n",
              "        async function convertToInteractive(key) {\n",
              "          const element = document.querySelector('#df-2cfb797d-0077-4cb9-8187-b66b767ecdcd');\n",
              "          const dataTable =\n",
              "            await google.colab.kernel.invokeFunction('convertToInteractive',\n",
              "                                                     [key], {});\n",
              "          if (!dataTable) return;\n",
              "\n",
              "          const docLinkHtml = 'Like what you see? Visit the ' +\n",
              "            '<a target=\"_blank\" href=https://colab.research.google.com/notebooks/data_table.ipynb>data table notebook</a>'\n",
              "            + ' to learn more about interactive tables.';\n",
              "          element.innerHTML = '';\n",
              "          dataTable['output_type'] = 'display_data';\n",
              "          await google.colab.output.renderOutput(dataTable, element);\n",
              "          const docLink = document.createElement('div');\n",
              "          docLink.innerHTML = docLinkHtml;\n",
              "          element.appendChild(docLink);\n",
              "        }\n",
              "      </script>\n",
              "    </div>\n",
              "  </div>\n"
            ]
          },
          "metadata": {},
          "execution_count": 58
        }
      ]
    },
    {
      "cell_type": "code",
      "source": [
        "def similarity(itemset):\n",
        "    max_similarity = 0\n",
        "    min_similarity_item = None\n",
        "    total_similarity = 0.0\n",
        "    total_pairs = 0\n",
        "    for i in itemset:\n",
        "        for j in itemset:\n",
        "            if i != j:  # Avoid comparing the same item\n",
        "                similarity = combined_similarity(i,j,followers_dict,followings_dict, reply_dict,retweet_dict,mention_dict)\n",
        "                total_similarity +=similarity\n",
        "                total_pairs += 1\n",
        "\n",
        "                if similarity > max_similarity:\n",
        "                    max_similarity = similarity\n",
        "                    max_sim_itemss=(j,i)\n",
        "\n",
        "                if min_similarity_item is None or similarity < min_similarity_item[2]:\n",
        "                    min_similarity_item = (j,i, similarity)\n",
        "    average_sim = total_similarity / total_pairs\n",
        "\n",
        "    return average_sim,max_similarity, min_similarity_item,max_sim_itemss\n"
      ],
      "metadata": {
        "colab": {
          "base_uri": "https://localhost:8080/"
        },
        "id": "4pxQkIWaNjyG",
        "outputId": "e6125440-32f1-4d5e-ff9e-c9051c2a8f1b"
      },
      "execution_count": null,
      "outputs": [
        {
          "output_type": "stream",
          "name": "stderr",
          "text": [
            "/usr/local/lib/python3.10/dist-packages/ipykernel/ipkernel.py:283: DeprecationWarning: `should_run_async` will not call `transform_cell` automatically in the future. Please pass the result to `transformed_cell` argument and any exception that happen during thetransform in `preprocessing_exc_tuple` in IPython 7.17 and above.\n",
            "  and should_run_async(code)\n"
          ]
        }
      ]
    },
    {
      "cell_type": "code",
      "source": [
        "import pandas as pd\n",
        "single_items=[]\n",
        "removed_items=[]\n",
        "groups=[]\n",
        "sets=[]\n",
        "similarity_treshold=1\n",
        "deleted_set=[]\n",
        "# Loop over the rows and print the values in the 'itemsets' column\n",
        "for index, row in frequent_items_with_support.iterrows():\n",
        "\n",
        "    itemset_value = row['itemsets']\n",
        "    itemset=set(itemset_value)\n",
        "    sets.append(itemset)\n",
        "    if len(itemset)==1: #=1\n",
        "      single_items.append(itemset)\n",
        "    elif len(itemset)==2: #=2\n",
        "      average_sim,max_sim, min_sim_item,_=similarity(itemset)\n",
        "      if average_sim>= similarity_treshold:\n",
        "        groups.append(itemset)\n",
        "      else:\n",
        "        deleted_set.append(itemset)\n",
        "    else: #>2\n",
        "      print(itemset)\n",
        "      average_sim,max_sim, min_sim_item,max_items=similarity(itemset)\n",
        "      print(average_sim)\n",
        "      print(itemset)\n",
        "      print(max_sim)\n",
        "      if average_sim>= similarity_treshold:\n",
        "        groups.append(itemset)\n",
        "      else:\n",
        "        if max_sim<similarity_treshold:\n",
        "          deleted_set.append(itemset)\n",
        "\n",
        "        elif max_sim>=similarity_treshold:\n",
        "          min_item=list(min_sim_item)\n",
        "          new_set = set(itemset)\n",
        "          max_items=list(max_items)\n",
        "          while average_sim < similarity_treshold and len(new_set)!=2:\n",
        "            print(new_set)\n",
        "            if min_item[0] not in max_items :\n",
        "              new_set.remove(min_item[0])\n",
        "              removed_items.append(min_item[0])\n",
        "              average_sim,max_sim, min_item,max_items=similarity(new_set)\n",
        "              max_items=list(max_items)\n",
        "              min_item=list(min_item)\n",
        "            elif min_item[1] not in max_items :\n",
        "              new_set.remove(min_item[1])\n",
        "              removed_items.append(min_item[1])\n",
        "              average_sim,max_sim, min_item,max_items=similarity(new_set)\n",
        "              max_items=list(max_items)\n",
        "              min_item=list(min_item)\n",
        "            #if len(new_set)\n",
        "          groups.append(new_set)\n",
        "          print(new_set)\n",
        "          print('')\n",
        "\n",
        "#print(groups)\n"
      ],
      "metadata": {
        "colab": {
          "base_uri": "https://localhost:8080/"
        },
        "id": "ZkJkGdKjR619",
        "outputId": "1b7d8718-2cd8-4d0c-d4de-ca5c7ed610fd"
      },
      "execution_count": null,
      "outputs": [
        {
          "output_type": "stream",
          "name": "stderr",
          "text": [
            "/usr/local/lib/python3.10/dist-packages/ipykernel/ipkernel.py:283: DeprecationWarning: `should_run_async` will not call `transform_cell` automatically in the future. Please pass the result to `transformed_cell` argument and any exception that happen during thetransform in `preprocessing_exc_tuple` in IPython 7.17 and above.\n",
            "  and should_run_async(code)\n"
          ]
        }
      ]
    },
    {
      "cell_type": "code",
      "source": [
        "print(single_items)\n"
      ],
      "metadata": {
        "colab": {
          "base_uri": "https://localhost:8080/"
        },
        "id": "V4K0tw_xl_qx",
        "outputId": "319c7ad7-6a2d-4bc4-cba4-f6d34b57a811"
      },
      "execution_count": null,
      "outputs": [
        {
          "output_type": "stream",
          "name": "stdout",
          "text": [
            "[{89805}, {38535}, {492}, {27705}, {1276}, {62391}, {26158}, {54301}, {64911}, {9021}, {51181}, {6940}, {80101}, {35375}, {35376}, {149922}, {14957}, {103447}, {69127}, {15439}, {511}, {44086}, {12751}, {35729}, {108150}, {6241}, {98204}, {13820}, {62195}, {4665}, {33833}, {56426}, {16970}, {110903}, {74295}, {67382}, {29542}, {27311}]\n"
          ]
        },
        {
          "output_type": "stream",
          "name": "stderr",
          "text": [
            "/usr/local/lib/python3.10/dist-packages/ipykernel/ipkernel.py:283: DeprecationWarning: `should_run_async` will not call `transform_cell` automatically in the future. Please pass the result to `transformed_cell` argument and any exception that happen during thetransform in `preprocessing_exc_tuple` in IPython 7.17 and above.\n",
            "  and should_run_async(code)\n"
          ]
        }
      ]
    },
    {
      "cell_type": "code",
      "source": [
        "print(removed_items)\n"
      ],
      "metadata": {
        "colab": {
          "base_uri": "https://localhost:8080/"
        },
        "id": "Z3hLrMasl_nO",
        "outputId": "b7a5741a-b81b-4ae6-a8aa-44f16a9c59c6"
      },
      "execution_count": null,
      "outputs": [
        {
          "output_type": "stream",
          "name": "stdout",
          "text": [
            "[]\n"
          ]
        },
        {
          "output_type": "stream",
          "name": "stderr",
          "text": [
            "/usr/local/lib/python3.10/dist-packages/ipykernel/ipkernel.py:283: DeprecationWarning: `should_run_async` will not call `transform_cell` automatically in the future. Please pass the result to `transformed_cell` argument and any exception that happen during thetransform in `preprocessing_exc_tuple` in IPython 7.17 and above.\n",
            "  and should_run_async(code)\n"
          ]
        }
      ]
    },
    {
      "cell_type": "code",
      "source": [
        "print(groups)"
      ],
      "metadata": {
        "colab": {
          "base_uri": "https://localhost:8080/"
        },
        "id": "DfgkcqpLl_ls",
        "outputId": "99f9d4bd-79e2-459f-a963-e957506ff39e"
      },
      "execution_count": null,
      "outputs": [
        {
          "output_type": "stream",
          "name": "stdout",
          "text": [
            "[{89805, 64911}, {35729, 89805}, {89805, 110903}]\n"
          ]
        },
        {
          "output_type": "stream",
          "name": "stderr",
          "text": [
            "/usr/local/lib/python3.10/dist-packages/ipykernel/ipkernel.py:283: DeprecationWarning: `should_run_async` will not call `transform_cell` automatically in the future. Please pass the result to `transformed_cell` argument and any exception that happen during thetransform in `preprocessing_exc_tuple` in IPython 7.17 and above.\n",
            "  and should_run_async(code)\n"
          ]
        }
      ]
    },
    {
      "cell_type": "code",
      "source": [
        "print(deleted_set)"
      ],
      "metadata": {
        "colab": {
          "base_uri": "https://localhost:8080/"
        },
        "id": "2hOdi-bHl_iG",
        "outputId": "5d4af887-584f-4bed-97f7-0f0f8c10b093"
      },
      "execution_count": null,
      "outputs": [
        {
          "output_type": "stream",
          "name": "stdout",
          "text": [
            "[{89805, 26158}]\n"
          ]
        },
        {
          "output_type": "stream",
          "name": "stderr",
          "text": [
            "/usr/local/lib/python3.10/dist-packages/ipykernel/ipkernel.py:283: DeprecationWarning: `should_run_async` will not call `transform_cell` automatically in the future. Please pass the result to `transformed_cell` argument and any exception that happen during thetransform in `preprocessing_exc_tuple` in IPython 7.17 and above.\n",
            "  and should_run_async(code)\n"
          ]
        }
      ]
    },
    {
      "cell_type": "code",
      "source": [
        "print(sets)"
      ],
      "metadata": {
        "colab": {
          "base_uri": "https://localhost:8080/"
        },
        "id": "VlrDOjTel_gX",
        "outputId": "500eb89b-39e8-412e-b533-c03e12fe26b6"
      },
      "execution_count": null,
      "outputs": [
        {
          "output_type": "stream",
          "name": "stdout",
          "text": [
            "[{89805}, {38535}, {492}, {27705}, {1276}, {62391}, {26158}, {54301}, {64911}, {9021}, {51181}, {6940}, {80101}, {35375}, {35376}, {149922}, {14957}, {103447}, {69127}, {15439}, {511}, {44086}, {12751}, {35729}, {89805, 64911}, {108150}, {6241}, {98204}, {13820}, {62195}, {4665}, {33833}, {35729, 89805}, {56426}, {16970}, {110903}, {74295}, {67382}, {89805, 26158}, {29542}, {27311}, {89805, 110903}]\n"
          ]
        },
        {
          "output_type": "stream",
          "name": "stderr",
          "text": [
            "/usr/local/lib/python3.10/dist-packages/ipykernel/ipkernel.py:283: DeprecationWarning: `should_run_async` will not call `transform_cell` automatically in the future. Please pass the result to `transformed_cell` argument and any exception that happen during thetransform in `preprocessing_exc_tuple` in IPython 7.17 and above.\n",
            "  and should_run_async(code)\n"
          ]
        }
      ]
    },
    {
      "cell_type": "code",
      "source": [
        "# Get the list of unique items by converting sets to a list of items and then flattening the list\n",
        "all_items = [item for itemset in sets for item in itemset] #0.00094\n",
        "unique_items = list(set(all_items))\n",
        "\n",
        "item_support = {item: all_items.count(item) / len(df_encoded) for item in unique_items}\n",
        "# Set the threshold for support (e.g., 0.1)\n",
        "threshold = 0.005\n",
        "\n",
        "# Filter out items with support above the threshold\n",
        "output_list = [item for item, support in item_support.items() if support > threshold]\n",
        "\n",
        "print(\"Support for each item:\")\n",
        "print(item_support)\n",
        "\n",
        "print(\"Items with support above the threshold ({}):\".format(threshold))\n",
        "print(output_list)"
      ],
      "metadata": {
        "colab": {
          "base_uri": "https://localhost:8080/"
        },
        "id": "46jD1zwX5bv6",
        "outputId": "0fbdf391-22e4-4c3a-8d3b-4ad8f6835d5f"
      },
      "execution_count": null,
      "outputs": [
        {
          "output_type": "stream",
          "name": "stdout",
          "text": [
            "Support for each item:\n",
            "{38535: 0.00010540739959945188, 69127: 0.00010540739959945188, 64911: 0.00021081479919890376, 35729: 0.00021081479919890376, 103447: 0.00010540739959945188, 6940: 0.00010540739959945188, 54301: 0.00010540739959945188, 98204: 0.00010540739959945188, 13820: 0.00010540739959945188, 149922: 0.00010540739959945188, 33833: 0.00010540739959945188, 26158: 0.00021081479919890376, 35375: 0.00010540739959945188, 35376: 0.00010540739959945188, 27311: 0.00010540739959945188, 44086: 0.00010540739959945188, 62391: 0.00010540739959945188, 110903: 0.00021081479919890376, 27705: 0.00010540739959945188, 4665: 0.00010540739959945188, 74295: 0.00010540739959945188, 67382: 0.00010540739959945188, 9021: 0.00010540739959945188, 16970: 0.00010540739959945188, 89805: 0.0005270369979972594, 15439: 0.00010540739959945188, 12751: 0.00010540739959945188, 6241: 0.00010540739959945188, 80101: 0.00010540739959945188, 29542: 0.00010540739959945188, 56426: 0.00010540739959945188, 492: 0.00010540739959945188, 51181: 0.00010540739959945188, 14957: 0.00010540739959945188, 62195: 0.00010540739959945188, 108150: 0.00010540739959945188, 1276: 0.00010540739959945188, 511: 0.00010540739959945188}\n",
            "Items with support above the threshold (0.005):\n",
            "[]\n"
          ]
        },
        {
          "output_type": "stream",
          "name": "stderr",
          "text": [
            "/usr/local/lib/python3.10/dist-packages/ipykernel/ipkernel.py:283: DeprecationWarning: `should_run_async` will not call `transform_cell` automatically in the future. Please pass the result to `transformed_cell` argument and any exception that happen during thetransform in `preprocessing_exc_tuple` in IPython 7.17 and above.\n",
            "  and should_run_async(code)\n"
          ]
        }
      ]
    },
    {
      "cell_type": "code",
      "source": [
        "import pandas as pd\n",
        "\n",
        "# Generate similarity values for all pairs of unique items\n",
        "similarity_values = {}\n",
        "for item1 in unique_items:\n",
        "    similarity_values[item1] = {}\n",
        "    for item2 in unique_items:\n",
        "        similarity_values[item1][item2] = combined_similarity(item1,item2,followers_dict,followings_dict, reply_dict,retweet_dict,mention_dict)\n",
        "\n",
        "# Create a DataFrame from the similarity values dictionary\n",
        "similarity_df = pd.DataFrame.from_dict(similarity_values, orient='index')\n",
        "\n",
        "# Display the resulting DataFrame\n",
        "similarity_df.head()"
      ],
      "metadata": {
        "colab": {
          "base_uri": "https://localhost:8080/",
          "height": 334
        },
        "id": "ctR76MAk8QIY",
        "outputId": "8295f98b-a385-4da4-fe2f-c1c2463fe9b5"
      },
      "execution_count": null,
      "outputs": [
        {
          "output_type": "stream",
          "name": "stderr",
          "text": [
            "/usr/local/lib/python3.10/dist-packages/ipykernel/ipkernel.py:283: DeprecationWarning: `should_run_async` will not call `transform_cell` automatically in the future. Please pass the result to `transformed_cell` argument and any exception that happen during thetransform in `preprocessing_exc_tuple` in IPython 7.17 and above.\n",
            "  and should_run_async(code)\n"
          ]
        },
        {
          "output_type": "execute_result",
          "data": {
            "text/plain": [
              "          38535     69127     64911     35729     103447    6940      54301   \\\n",
              "38535   3.786284  0.332133  0.058571  0.066576  0.080456  0.340313  1.424310   \n",
              "69127   0.332133  3.140665  0.044756  0.077913  0.048525  1.065574  0.139043   \n",
              "64911   0.058571  0.044756  3.764286  1.645026  2.042740  0.188397  0.115325   \n",
              "35729   0.066576  0.077913  1.645026  3.507633  1.675586  0.148156  0.209069   \n",
              "103447  0.080456  0.048525  2.042740  1.675586  3.674448  0.131845  0.149035   \n",
              "\n",
              "          98204     13820   149922  ...    80101     29542     56426   \\\n",
              "38535   0.053384  0.020943     0.0  ...  0.074653  0.134694  0.385507   \n",
              "69127   0.071373  0.007194     0.0  ...  0.075309  0.092112  1.678868   \n",
              "64911   1.491895  0.233069     0.0  ...  0.449374  0.217505  0.146603   \n",
              "35729   0.441654  0.232426     0.0  ...  0.379089  0.162894  0.207542   \n",
              "103447  1.765912  0.141574     0.0  ...  0.902702  0.195172  0.149396   \n",
              "\n",
              "          492       51181     14957     62195     108150    1276      511     \n",
              "38535   0.083879  0.174541  0.124502  0.395049  0.646442  0.063209  0.113824  \n",
              "69127   0.003091  0.093136  0.076603  0.379573  0.438550  0.074646  0.121966  \n",
              "64911   0.677396  0.169093  0.790262  0.119933  0.034503  0.732212  0.281929  \n",
              "35729   1.199442  0.367736  1.383093  0.145738  0.033615  0.795970  1.682114  \n",
              "103447  0.068142  0.178523  0.277468  0.150002  0.059844  0.155809  0.119083  \n",
              "\n",
              "[5 rows x 38 columns]"
            ],
            "text/html": [
              "\n",
              "\n",
              "  <div id=\"df-7d284cd4-d550-4b4b-81c2-189137d668a3\">\n",
              "    <div class=\"colab-df-container\">\n",
              "      <div>\n",
              "<style scoped>\n",
              "    .dataframe tbody tr th:only-of-type {\n",
              "        vertical-align: middle;\n",
              "    }\n",
              "\n",
              "    .dataframe tbody tr th {\n",
              "        vertical-align: top;\n",
              "    }\n",
              "\n",
              "    .dataframe thead th {\n",
              "        text-align: right;\n",
              "    }\n",
              "</style>\n",
              "<table border=\"1\" class=\"dataframe\">\n",
              "  <thead>\n",
              "    <tr style=\"text-align: right;\">\n",
              "      <th></th>\n",
              "      <th>38535</th>\n",
              "      <th>69127</th>\n",
              "      <th>64911</th>\n",
              "      <th>35729</th>\n",
              "      <th>103447</th>\n",
              "      <th>6940</th>\n",
              "      <th>54301</th>\n",
              "      <th>98204</th>\n",
              "      <th>13820</th>\n",
              "      <th>149922</th>\n",
              "      <th>...</th>\n",
              "      <th>80101</th>\n",
              "      <th>29542</th>\n",
              "      <th>56426</th>\n",
              "      <th>492</th>\n",
              "      <th>51181</th>\n",
              "      <th>14957</th>\n",
              "      <th>62195</th>\n",
              "      <th>108150</th>\n",
              "      <th>1276</th>\n",
              "      <th>511</th>\n",
              "    </tr>\n",
              "  </thead>\n",
              "  <tbody>\n",
              "    <tr>\n",
              "      <th>38535</th>\n",
              "      <td>3.786284</td>\n",
              "      <td>0.332133</td>\n",
              "      <td>0.058571</td>\n",
              "      <td>0.066576</td>\n",
              "      <td>0.080456</td>\n",
              "      <td>0.340313</td>\n",
              "      <td>1.424310</td>\n",
              "      <td>0.053384</td>\n",
              "      <td>0.020943</td>\n",
              "      <td>0.0</td>\n",
              "      <td>...</td>\n",
              "      <td>0.074653</td>\n",
              "      <td>0.134694</td>\n",
              "      <td>0.385507</td>\n",
              "      <td>0.083879</td>\n",
              "      <td>0.174541</td>\n",
              "      <td>0.124502</td>\n",
              "      <td>0.395049</td>\n",
              "      <td>0.646442</td>\n",
              "      <td>0.063209</td>\n",
              "      <td>0.113824</td>\n",
              "    </tr>\n",
              "    <tr>\n",
              "      <th>69127</th>\n",
              "      <td>0.332133</td>\n",
              "      <td>3.140665</td>\n",
              "      <td>0.044756</td>\n",
              "      <td>0.077913</td>\n",
              "      <td>0.048525</td>\n",
              "      <td>1.065574</td>\n",
              "      <td>0.139043</td>\n",
              "      <td>0.071373</td>\n",
              "      <td>0.007194</td>\n",
              "      <td>0.0</td>\n",
              "      <td>...</td>\n",
              "      <td>0.075309</td>\n",
              "      <td>0.092112</td>\n",
              "      <td>1.678868</td>\n",
              "      <td>0.003091</td>\n",
              "      <td>0.093136</td>\n",
              "      <td>0.076603</td>\n",
              "      <td>0.379573</td>\n",
              "      <td>0.438550</td>\n",
              "      <td>0.074646</td>\n",
              "      <td>0.121966</td>\n",
              "    </tr>\n",
              "    <tr>\n",
              "      <th>64911</th>\n",
              "      <td>0.058571</td>\n",
              "      <td>0.044756</td>\n",
              "      <td>3.764286</td>\n",
              "      <td>1.645026</td>\n",
              "      <td>2.042740</td>\n",
              "      <td>0.188397</td>\n",
              "      <td>0.115325</td>\n",
              "      <td>1.491895</td>\n",
              "      <td>0.233069</td>\n",
              "      <td>0.0</td>\n",
              "      <td>...</td>\n",
              "      <td>0.449374</td>\n",
              "      <td>0.217505</td>\n",
              "      <td>0.146603</td>\n",
              "      <td>0.677396</td>\n",
              "      <td>0.169093</td>\n",
              "      <td>0.790262</td>\n",
              "      <td>0.119933</td>\n",
              "      <td>0.034503</td>\n",
              "      <td>0.732212</td>\n",
              "      <td>0.281929</td>\n",
              "    </tr>\n",
              "    <tr>\n",
              "      <th>35729</th>\n",
              "      <td>0.066576</td>\n",
              "      <td>0.077913</td>\n",
              "      <td>1.645026</td>\n",
              "      <td>3.507633</td>\n",
              "      <td>1.675586</td>\n",
              "      <td>0.148156</td>\n",
              "      <td>0.209069</td>\n",
              "      <td>0.441654</td>\n",
              "      <td>0.232426</td>\n",
              "      <td>0.0</td>\n",
              "      <td>...</td>\n",
              "      <td>0.379089</td>\n",
              "      <td>0.162894</td>\n",
              "      <td>0.207542</td>\n",
              "      <td>1.199442</td>\n",
              "      <td>0.367736</td>\n",
              "      <td>1.383093</td>\n",
              "      <td>0.145738</td>\n",
              "      <td>0.033615</td>\n",
              "      <td>0.795970</td>\n",
              "      <td>1.682114</td>\n",
              "    </tr>\n",
              "    <tr>\n",
              "      <th>103447</th>\n",
              "      <td>0.080456</td>\n",
              "      <td>0.048525</td>\n",
              "      <td>2.042740</td>\n",
              "      <td>1.675586</td>\n",
              "      <td>3.674448</td>\n",
              "      <td>0.131845</td>\n",
              "      <td>0.149035</td>\n",
              "      <td>1.765912</td>\n",
              "      <td>0.141574</td>\n",
              "      <td>0.0</td>\n",
              "      <td>...</td>\n",
              "      <td>0.902702</td>\n",
              "      <td>0.195172</td>\n",
              "      <td>0.149396</td>\n",
              "      <td>0.068142</td>\n",
              "      <td>0.178523</td>\n",
              "      <td>0.277468</td>\n",
              "      <td>0.150002</td>\n",
              "      <td>0.059844</td>\n",
              "      <td>0.155809</td>\n",
              "      <td>0.119083</td>\n",
              "    </tr>\n",
              "  </tbody>\n",
              "</table>\n",
              "<p>5 rows × 38 columns</p>\n",
              "</div>\n",
              "      <button class=\"colab-df-convert\" onclick=\"convertToInteractive('df-7d284cd4-d550-4b4b-81c2-189137d668a3')\"\n",
              "              title=\"Convert this dataframe to an interactive table.\"\n",
              "              style=\"display:none;\">\n",
              "\n",
              "  <svg xmlns=\"http://www.w3.org/2000/svg\" height=\"24px\"viewBox=\"0 0 24 24\"\n",
              "       width=\"24px\">\n",
              "    <path d=\"M0 0h24v24H0V0z\" fill=\"none\"/>\n",
              "    <path d=\"M18.56 5.44l.94 2.06.94-2.06 2.06-.94-2.06-.94-.94-2.06-.94 2.06-2.06.94zm-11 1L8.5 8.5l.94-2.06 2.06-.94-2.06-.94L8.5 2.5l-.94 2.06-2.06.94zm10 10l.94 2.06.94-2.06 2.06-.94-2.06-.94-.94-2.06-.94 2.06-2.06.94z\"/><path d=\"M17.41 7.96l-1.37-1.37c-.4-.4-.92-.59-1.43-.59-.52 0-1.04.2-1.43.59L10.3 9.45l-7.72 7.72c-.78.78-.78 2.05 0 2.83L4 21.41c.39.39.9.59 1.41.59.51 0 1.02-.2 1.41-.59l7.78-7.78 2.81-2.81c.8-.78.8-2.07 0-2.86zM5.41 20L4 18.59l7.72-7.72 1.47 1.35L5.41 20z\"/>\n",
              "  </svg>\n",
              "      </button>\n",
              "\n",
              "\n",
              "\n",
              "    <div id=\"df-aab85146-7df3-4b31-aad7-50d10760e15a\">\n",
              "      <button class=\"colab-df-quickchart\" onclick=\"quickchart('df-aab85146-7df3-4b31-aad7-50d10760e15a')\"\n",
              "              title=\"Suggest charts.\"\n",
              "              style=\"display:none;\">\n",
              "\n",
              "<svg xmlns=\"http://www.w3.org/2000/svg\" height=\"24px\"viewBox=\"0 0 24 24\"\n",
              "     width=\"24px\">\n",
              "    <g>\n",
              "        <path d=\"M19 3H5c-1.1 0-2 .9-2 2v14c0 1.1.9 2 2 2h14c1.1 0 2-.9 2-2V5c0-1.1-.9-2-2-2zM9 17H7v-7h2v7zm4 0h-2V7h2v10zm4 0h-2v-4h2v4z\"/>\n",
              "    </g>\n",
              "</svg>\n",
              "      </button>\n",
              "    </div>\n",
              "\n",
              "<style>\n",
              "  .colab-df-quickchart {\n",
              "    background-color: #E8F0FE;\n",
              "    border: none;\n",
              "    border-radius: 50%;\n",
              "    cursor: pointer;\n",
              "    display: none;\n",
              "    fill: #1967D2;\n",
              "    height: 32px;\n",
              "    padding: 0 0 0 0;\n",
              "    width: 32px;\n",
              "  }\n",
              "\n",
              "  .colab-df-quickchart:hover {\n",
              "    background-color: #E2EBFA;\n",
              "    box-shadow: 0px 1px 2px rgba(60, 64, 67, 0.3), 0px 1px 3px 1px rgba(60, 64, 67, 0.15);\n",
              "    fill: #174EA6;\n",
              "  }\n",
              "\n",
              "  [theme=dark] .colab-df-quickchart {\n",
              "    background-color: #3B4455;\n",
              "    fill: #D2E3FC;\n",
              "  }\n",
              "\n",
              "  [theme=dark] .colab-df-quickchart:hover {\n",
              "    background-color: #434B5C;\n",
              "    box-shadow: 0px 1px 3px 1px rgba(0, 0, 0, 0.15);\n",
              "    filter: drop-shadow(0px 1px 2px rgba(0, 0, 0, 0.3));\n",
              "    fill: #FFFFFF;\n",
              "  }\n",
              "</style>\n",
              "\n",
              "    <script>\n",
              "      async function quickchart(key) {\n",
              "        const containerElement = document.querySelector('#' + key);\n",
              "        const charts = await google.colab.kernel.invokeFunction(\n",
              "            'suggestCharts', [key], {});\n",
              "      }\n",
              "    </script>\n",
              "\n",
              "      <script>\n",
              "\n",
              "function displayQuickchartButton(domScope) {\n",
              "  let quickchartButtonEl =\n",
              "    domScope.querySelector('#df-aab85146-7df3-4b31-aad7-50d10760e15a button.colab-df-quickchart');\n",
              "  quickchartButtonEl.style.display =\n",
              "    google.colab.kernel.accessAllowed ? 'block' : 'none';\n",
              "}\n",
              "\n",
              "        displayQuickchartButton(document);\n",
              "      </script>\n",
              "      <style>\n",
              "    .colab-df-container {\n",
              "      display:flex;\n",
              "      flex-wrap:wrap;\n",
              "      gap: 12px;\n",
              "    }\n",
              "\n",
              "    .colab-df-convert {\n",
              "      background-color: #E8F0FE;\n",
              "      border: none;\n",
              "      border-radius: 50%;\n",
              "      cursor: pointer;\n",
              "      display: none;\n",
              "      fill: #1967D2;\n",
              "      height: 32px;\n",
              "      padding: 0 0 0 0;\n",
              "      width: 32px;\n",
              "    }\n",
              "\n",
              "    .colab-df-convert:hover {\n",
              "      background-color: #E2EBFA;\n",
              "      box-shadow: 0px 1px 2px rgba(60, 64, 67, 0.3), 0px 1px 3px 1px rgba(60, 64, 67, 0.15);\n",
              "      fill: #174EA6;\n",
              "    }\n",
              "\n",
              "    [theme=dark] .colab-df-convert {\n",
              "      background-color: #3B4455;\n",
              "      fill: #D2E3FC;\n",
              "    }\n",
              "\n",
              "    [theme=dark] .colab-df-convert:hover {\n",
              "      background-color: #434B5C;\n",
              "      box-shadow: 0px 1px 3px 1px rgba(0, 0, 0, 0.15);\n",
              "      filter: drop-shadow(0px 1px 2px rgba(0, 0, 0, 0.3));\n",
              "      fill: #FFFFFF;\n",
              "    }\n",
              "  </style>\n",
              "\n",
              "      <script>\n",
              "        const buttonEl =\n",
              "          document.querySelector('#df-7d284cd4-d550-4b4b-81c2-189137d668a3 button.colab-df-convert');\n",
              "        buttonEl.style.display =\n",
              "          google.colab.kernel.accessAllowed ? 'block' : 'none';\n",
              "\n",
              "        async function convertToInteractive(key) {\n",
              "          const element = document.querySelector('#df-7d284cd4-d550-4b4b-81c2-189137d668a3');\n",
              "          const dataTable =\n",
              "            await google.colab.kernel.invokeFunction('convertToInteractive',\n",
              "                                                     [key], {});\n",
              "          if (!dataTable) return;\n",
              "\n",
              "          const docLinkHtml = 'Like what you see? Visit the ' +\n",
              "            '<a target=\"_blank\" href=https://colab.research.google.com/notebooks/data_table.ipynb>data table notebook</a>'\n",
              "            + ' to learn more about interactive tables.';\n",
              "          element.innerHTML = '';\n",
              "          dataTable['output_type'] = 'display_data';\n",
              "          await google.colab.output.renderOutput(dataTable, element);\n",
              "          const docLink = document.createElement('div');\n",
              "          docLink.innerHTML = docLinkHtml;\n",
              "          element.appendChild(docLink);\n",
              "        }\n",
              "      </script>\n",
              "    </div>\n",
              "  </div>\n"
            ]
          },
          "metadata": {},
          "execution_count": 96
        }
      ]
    },
    {
      "cell_type": "code",
      "source": [
        "import pandas as pd\n",
        "from scipy.cluster.hierarchy import linkage, fcluster\n",
        "import matplotlib.pyplot as plt\n",
        "\n",
        "# Perform hierarchical clustering\n",
        "linkage_matrix = linkage(similarity_df, method='ward', metric='euclidean')\n",
        "\n",
        "# Set the threshold for the distance to form clusters\n",
        "threshold = 6.5  # You may need to adjust this threshold based on your data and similarity computation\n",
        "\n",
        "# Assign users to clusters based on the threshold\n",
        "clusters = fcluster(linkage_matrix, threshold, criterion='distance')\n",
        "\n",
        "# Add the cluster labels to the DataFrame\n",
        "similarity_df['Cluster'] = clusters\n",
        "similarity_df.head()\n"
      ],
      "metadata": {
        "id": "-4VRgpeP8QN-"
      },
      "execution_count": null,
      "outputs": []
    },
    {
      "cell_type": "code",
      "source": [
        "num_clusters = len(set(clusters))\n",
        "num_clusters"
      ],
      "metadata": {
        "colab": {
          "base_uri": "https://localhost:8080/"
        },
        "id": "eJUtUB3O8QYc",
        "outputId": "3b8f9816-d7e2-4191-a25e-bad8a7c653f9"
      },
      "execution_count": null,
      "outputs": [
        {
          "output_type": "stream",
          "name": "stderr",
          "text": [
            "/usr/local/lib/python3.10/dist-packages/ipykernel/ipkernel.py:283: DeprecationWarning: `should_run_async` will not call `transform_cell` automatically in the future. Please pass the result to `transformed_cell` argument and any exception that happen during thetransform in `preprocessing_exc_tuple` in IPython 7.17 and above.\n",
            "  and should_run_async(code)\n"
          ]
        },
        {
          "output_type": "execute_result",
          "data": {
            "text/plain": [
              "9"
            ]
          },
          "metadata": {},
          "execution_count": 98
        }
      ]
    },
    {
      "cell_type": "code",
      "source": [
        "# Create a dictionary to store clusters and their members\n",
        "clusters_dict = {}\n",
        "for item, cluster_label in zip(unique_items, clusters):\n",
        "    if cluster_label in clusters_dict:\n",
        "        clusters_dict[cluster_label].append(item)\n",
        "    else:\n",
        "        clusters_dict[cluster_label] = [item]\n"
      ],
      "metadata": {
        "colab": {
          "base_uri": "https://localhost:8080/"
        },
        "id": "zx3D2NU38Qpx",
        "outputId": "24415287-51be-4cee-88e9-449637cad7ba"
      },
      "execution_count": null,
      "outputs": [
        {
          "output_type": "stream",
          "name": "stderr",
          "text": [
            "/usr/local/lib/python3.10/dist-packages/ipykernel/ipkernel.py:283: DeprecationWarning: `should_run_async` will not call `transform_cell` automatically in the future. Please pass the result to `transformed_cell` argument and any exception that happen during thetransform in `preprocessing_exc_tuple` in IPython 7.17 and above.\n",
            "  and should_run_async(code)\n"
          ]
        }
      ]
    },
    {
      "cell_type": "code",
      "source": [
        "print(clusters_dict)"
      ],
      "metadata": {
        "colab": {
          "base_uri": "https://localhost:8080/"
        },
        "id": "3b94zoP58Qu7",
        "outputId": "ec894de7-4877-4644-db8d-20592e89f674"
      },
      "execution_count": null,
      "outputs": [
        {
          "output_type": "stream",
          "name": "stdout",
          "text": [
            "{3: [38535, 54301, 27705, 62195, 108150], 1: [69127, 6940, 35375, 35376, 56426], 9: [64911, 35729, 103447, 110903, 89805], 7: [98204, 4665, 67382], 6: [13820, 6241, 492, 14957, 511], 2: [149922, 44086, 74295, 16970, 51181], 4: [33833, 9021], 8: [26158, 12751], 5: [27311, 62391, 15439, 80101, 29542, 1276]}\n"
          ]
        },
        {
          "output_type": "stream",
          "name": "stderr",
          "text": [
            "/usr/local/lib/python3.10/dist-packages/ipykernel/ipkernel.py:283: DeprecationWarning: `should_run_async` will not call `transform_cell` automatically in the future. Please pass the result to `transformed_cell` argument and any exception that happen during thetransform in `preprocessing_exc_tuple` in IPython 7.17 and above.\n",
            "  and should_run_async(code)\n"
          ]
        }
      ]
    },
    {
      "cell_type": "code",
      "source": [
        "# Sample function to calculate similarity\n",
        "def calculate_similarity(itemset):\n",
        "    max_similarity = 0\n",
        "    min_similarity_item = None\n",
        "    total_similarity = 0.0\n",
        "    total_pairs = 0\n",
        "    for i in itemset:\n",
        "        for j in itemset:\n",
        "            if i != j:  # Avoid comparing the same item\n",
        "                similarity = combined_similarity(i,j,followers_dict,followings_dict, reply_dict,retweet_dict,mention_dict)\n",
        "                total_similarity += similarity\n",
        "                total_pairs += 1\n",
        "\n",
        "                if similarity > max_similarity:\n",
        "                    max_similarity = similarity\n",
        "                    max_sim_itemss = (j, i)\n",
        "\n",
        "                if min_similarity_item is None or similarity < min_similarity_item[2]:\n",
        "                    min_similarity_item = (j, i, similarity)\n",
        "    average_sim = total_similarity / total_pairs\n",
        "\n",
        "    return average_sim, max_similarity, min_similarity_item, max_sim_itemss\n"
      ],
      "metadata": {
        "colab": {
          "base_uri": "https://localhost:8080/"
        },
        "id": "hV-Q-EK8BsHD",
        "outputId": "60868a40-5dc6-46d1-c493-4b221b130bd2"
      },
      "execution_count": null,
      "outputs": [
        {
          "output_type": "stream",
          "name": "stderr",
          "text": [
            "/usr/local/lib/python3.10/dist-packages/ipykernel/ipkernel.py:283: DeprecationWarning: `should_run_async` will not call `transform_cell` automatically in the future. Please pass the result to `transformed_cell` argument and any exception that happen during thetransform in `preprocessing_exc_tuple` in IPython 7.17 and above.\n",
            "  and should_run_async(code)\n"
          ]
        }
      ]
    },
    {
      "cell_type": "code",
      "source": [
        "# Calculate average similarity for each cluster\n",
        "cluster_similarity_dict = {}\n",
        "for cluster_label, cluster_members in clusters_dict.items():\n",
        "    average_sim, max_similarity, min_similarity_item, max_sim_itemss = calculate_similarity(cluster_members)\n",
        "    cluster_similarity_dict[cluster_label] = {\n",
        "        'average_similarity': average_sim,\n",
        "        'max_similarity': max_similarity,\n",
        "        'min_similarity_item': min_similarity_item,\n",
        "        'max_sim_items': max_sim_itemss\n",
        "    }\n",
        "# Print the cluster similarity details\n",
        "print(\"Cluster similarity details:\")\n",
        "print(cluster_similarity_dict)"
      ],
      "metadata": {
        "colab": {
          "base_uri": "https://localhost:8080/"
        },
        "id": "apgOkHHRA2sw",
        "outputId": "1aba6fa0-8595-484a-b4b2-6c72fe23104c"
      },
      "execution_count": null,
      "outputs": [
        {
          "output_type": "stream",
          "name": "stdout",
          "text": [
            "Cluster similarity details:\n",
            "{3: {'average_similarity': 0.43118735099575584, 'max_similarity': 1.424310417107984, 'min_similarity_item': (108150, 54301, 0.13757793825219422), 'max_sim_items': (54301, 38535)}, 1: {'average_similarity': 1.5831563739396075, 'max_similarity': 2.4855295016037604, 'min_similarity_item': (35376, 69127, 0.4513584785720266), 'max_sim_items': (35376, 35375)}, 9: {'average_similarity': 1.5699033966118607, 'max_similarity': 2.042739517027792, 'min_similarity_item': (89805, 103447, 0.6021940138466038), 'max_sim_items': (103447, 64911)}, 7: {'average_similarity': 1.37193611455272, 'max_similarity': 1.9628328712745935, 'min_similarity_item': (67382, 4665, 0.2664523453026679), 'max_sim_items': (67382, 98204)}, 6: {'average_similarity': 1.563770113882694, 'max_similarity': 2.129023246514792, 'min_similarity_item': (14957, 6241, 0.39822408724566566), 'max_sim_items': (14957, 13820)}, 2: {'average_similarity': 0.12693560733735965, 'max_similarity': 0.45307624690508463, 'min_similarity_item': (44086, 149922, 0.0), 'max_sim_items': (51181, 16970)}, 4: {'average_similarity': 1.7917161744648025, 'max_similarity': 1.7917161744648025, 'min_similarity_item': (9021, 33833, 1.7917161744648025), 'max_sim_items': (9021, 33833)}, 8: {'average_similarity': 2.3426698116449955, 'max_similarity': 2.3426698116449955, 'min_similarity_item': (12751, 26158, 2.3426698116449955), 'max_sim_items': (12751, 26158)}, 5: {'average_similarity': 0.5937366010178557, 'max_similarity': 1.5040199791896856, 'min_similarity_item': (62391, 27311, 0.20899067643058866), 'max_sim_items': (15439, 27311)}}\n"
          ]
        },
        {
          "output_type": "stream",
          "name": "stderr",
          "text": [
            "/usr/local/lib/python3.10/dist-packages/ipykernel/ipkernel.py:283: DeprecationWarning: `should_run_async` will not call `transform_cell` automatically in the future. Please pass the result to `transformed_cell` argument and any exception that happen during thetransform in `preprocessing_exc_tuple` in IPython 7.17 and above.\n",
            "  and should_run_async(code)\n"
          ]
        }
      ]
    },
    {
      "cell_type": "markdown",
      "source": [
        "# hierarichal not woriking fine we will use another methode as wel\n",
        "this time we will use graph methods using networkx\n"
      ],
      "metadata": {
        "id": "1WViweF3C5uH"
      }
    },
    {
      "cell_type": "code",
      "source": [
        "import networkx as nx\n",
        "\n",
        "# Create a graph from the DataFrame\n",
        "G = nx.from_pandas_adjacency(similarity_df)\n",
        "\n",
        "# Perform connected component analysis to get groups\n",
        "groups = list(nx.connected_components(G))\n",
        "threshold=2\n",
        "# Filter groups based on similarity threshold\n",
        "filtered_groups = [group for group in groups if any(similarity_df.loc[list(group), list(group)].values.flatten() > threshold)]\n",
        "\n",
        "# Print the resulting groups\n",
        "filtered_groups"
      ],
      "metadata": {
        "colab": {
          "base_uri": "https://localhost:8080/"
        },
        "id": "KDLYjgyvA2qu",
        "outputId": "58e782af-e3b4-4f41-e03e-872695ae2e95"
      },
      "execution_count": null,
      "outputs": [
        {
          "output_type": "stream",
          "name": "stderr",
          "text": [
            "/usr/local/lib/python3.10/dist-packages/ipykernel/ipkernel.py:283: DeprecationWarning: `should_run_async` will not call `transform_cell` automatically in the future. Please pass the result to `transformed_cell` argument and any exception that happen during thetransform in `preprocessing_exc_tuple` in IPython 7.17 and above.\n",
            "  and should_run_async(code)\n"
          ]
        },
        {
          "output_type": "execute_result",
          "data": {
            "text/plain": [
              "[{492,\n",
              "  511,\n",
              "  1276,\n",
              "  4665,\n",
              "  6241,\n",
              "  6940,\n",
              "  9021,\n",
              "  12751,\n",
              "  13820,\n",
              "  14957,\n",
              "  15439,\n",
              "  16970,\n",
              "  26158,\n",
              "  27311,\n",
              "  27705,\n",
              "  29542,\n",
              "  33833,\n",
              "  35375,\n",
              "  35376,\n",
              "  35729,\n",
              "  38535,\n",
              "  44086,\n",
              "  51181,\n",
              "  54301,\n",
              "  56426,\n",
              "  62195,\n",
              "  62391,\n",
              "  64911,\n",
              "  67382,\n",
              "  69127,\n",
              "  74295,\n",
              "  80101,\n",
              "  89805,\n",
              "  98204,\n",
              "  103447,\n",
              "  108150,\n",
              "  110903,\n",
              "  149922}]"
            ]
          },
          "metadata": {},
          "execution_count": 109
        }
      ]
    },
    {
      "cell_type": "markdown",
      "source": [
        "# another method"
      ],
      "metadata": {
        "id": "pHkr7aNjD6TC"
      }
    },
    {
      "cell_type": "code",
      "source": [
        "import pandas as pd\n",
        "from scipy.spatial.distance import squareform, pdist\n",
        "from scipy.cluster.hierarchy import linkage, fcluster\n",
        "\n",
        "# Generate similarity values for all pairs of unique items\n",
        "similarity_values = []\n",
        "for item1 in unique_items:\n",
        "    row = []\n",
        "    for item2 in unique_items:\n",
        "      if item2==item1:\n",
        "        row.append(0)\n",
        "      else:\n",
        "        row.append(6-combined_similarity(item1,item2,followers_dict,followings_dict, reply_dict,retweet_dict,mention_dict))\n",
        "    similarity_values.append(row)\n",
        "\n",
        "# Convert the list to a 2D array\n",
        "similarity_values = squareform(similarity_values)\n",
        "\n",
        "# Create a linkage matrix for hierarchical clustering\n",
        "linkage_matrix = linkage(similarity_values, method='single')  # 'single' linkage for minimum distance\n",
        "\n",
        "# Define the similarity threshold for forming clusters\n",
        "threshold = 4.31  # Replace this with your desired threshold value\n",
        "\n",
        "# Assign items to clusters based on the similarity threshold\n",
        "clusters = fcluster(linkage_matrix, threshold, criterion='distance')\n",
        "\n",
        "# Create a dictionary to store the groups of items\n",
        "item_groups = {}\n",
        "for item, cluster in zip(unique_items, clusters):\n",
        "    if cluster not in item_groups:\n",
        "        item_groups[cluster] = []\n",
        "    item_groups[cluster].append(item)\n",
        "\n"
      ],
      "metadata": {
        "colab": {
          "base_uri": "https://localhost:8080/"
        },
        "id": "U-2jfREzA2og",
        "outputId": "f5400394-cfdc-42a7-f0e3-b7fe498897ce"
      },
      "execution_count": null,
      "outputs": [
        {
          "output_type": "stream",
          "name": "stderr",
          "text": [
            "/usr/local/lib/python3.10/dist-packages/ipykernel/ipkernel.py:283: DeprecationWarning: `should_run_async` will not call `transform_cell` automatically in the future. Please pass the result to `transformed_cell` argument and any exception that happen during thetransform in `preprocessing_exc_tuple` in IPython 7.17 and above.\n",
            "  and should_run_async(code)\n"
          ]
        }
      ]
    },
    {
      "cell_type": "code",
      "source": [
        "# Create a dictionary to store the groups of items and their similarities\n",
        "item_groups = {}\n",
        "for item, cluster in zip(unique_items, clusters):\n",
        "    if cluster not in item_groups:\n",
        "        item_groups[cluster] = {'items': [], 'similarities': []}\n",
        "    item_groups[cluster]['items'].append(item)\n",
        "\n",
        "# Compute average similarity for each group\n",
        "for cluster in item_groups.values():\n",
        "    items = cluster['items']\n",
        "    similarities = [combined_similarity(item1,item2,followers_dict,followings_dict, reply_dict,retweet_dict,mention_dict) for item1 in items for item2 in items]\n",
        "    avg_similarity = sum(similarities) / len(similarities)\n",
        "    cluster['similarities'] = avg_similarity\n",
        "\n",
        "# Print the groups of items and their average similarities\n",
        "item_groups"
      ],
      "metadata": {
        "colab": {
          "base_uri": "https://localhost:8080/"
        },
        "id": "9VpsYfynG3LE",
        "outputId": "34d09564-f5cd-450e-9a3c-b1dc8082919f"
      },
      "execution_count": null,
      "outputs": [
        {
          "output_type": "stream",
          "name": "stderr",
          "text": [
            "/usr/local/lib/python3.10/dist-packages/ipykernel/ipkernel.py:283: DeprecationWarning: `should_run_async` will not call `transform_cell` automatically in the future. Please pass the result to `transformed_cell` argument and any exception that happen during thetransform in `preprocessing_exc_tuple` in IPython 7.17 and above.\n",
            "  and should_run_async(code)\n"
          ]
        },
        {
          "output_type": "execute_result",
          "data": {
            "text/plain": [
              "{1: {'items': [38535], 'similarities': 1.0},\n",
              " 7: {'items': [69127], 'similarities': 1.0},\n",
              " 9: {'items': [64911,\n",
              "   35729,\n",
              "   103447,\n",
              "   98204,\n",
              "   26158,\n",
              "   110903,\n",
              "   4665,\n",
              "   67382,\n",
              "   89805,\n",
              "   12751],\n",
              "  'similarities': 1.120950905034501},\n",
              " 6: {'items': [6940, 35375, 35376, 27705, 56426],\n",
              "  'similarities': 1.393896044869045},\n",
              " 2: {'items': [54301], 'similarities': 1.0},\n",
              " 8: {'items': [13820, 492, 14957, 511], 'similarities': 1.5689686001237013},\n",
              " 21: {'items': [149922], 'similarities': 1.0},\n",
              " 5: {'items': [33833, 9021], 'similarities': 1.3958580872324013},\n",
              " 3: {'items': [27311], 'similarities': 1.0},\n",
              " 18: {'items': [44086], 'similarities': 1.0},\n",
              " 16: {'items': [62391], 'similarities': 1.0},\n",
              " 19: {'items': [74295], 'similarities': 1.0},\n",
              " 20: {'items': [16970], 'similarities': 1.0},\n",
              " 4: {'items': [15439], 'similarities': 1.0},\n",
              " 10: {'items': [6241], 'similarities': 1.0},\n",
              " 13: {'items': [80101], 'similarities': 1.0},\n",
              " 15: {'items': [29542], 'similarities': 1.0},\n",
              " 17: {'items': [51181], 'similarities': 1.0},\n",
              " 14: {'items': [62195], 'similarities': 1.0},\n",
              " 12: {'items': [108150], 'similarities': 1.0},\n",
              " 11: {'items': [1276], 'similarities': 1.0}}"
            ]
          },
          "metadata": {},
          "execution_count": 156
        }
      ]
    },
    {
      "cell_type": "markdown",
      "source": [
        "agglomerative"
      ],
      "metadata": {
        "id": "faJyIVuUJh0Y"
      }
    },
    {
      "cell_type": "code",
      "source": [
        "import pandas as pd\n",
        "from sklearn.cluster import AgglomerativeClustering\n",
        "\n",
        "# Generate similarity values for all pairs of unique items\n",
        "similarity_values = {}\n",
        "for item1 in unique_items:\n",
        "    similarity_values[item1] = {}\n",
        "    for item2 in unique_items:\n",
        "        similarity_values[item1][item2] = 6-combined_similarity(item1,item2,followers_dict,followings_dict, reply_dict,retweet_dict,mention_dict)\n",
        "\n",
        "# Create a DataFrame from the similarity values dictionary\n",
        "similarity_df = pd.DataFrame.from_dict(similarity_values, orient='index')\n",
        "\n",
        "# Define the similarity threshold for clustering\n",
        "threshold = 5.7  # You can set the threshold based on your specific requirements\n",
        "\n",
        "# Perform Agglomerative Hierarchical Clustering with the specified threshold\n",
        "clustering = AgglomerativeClustering(n_clusters=None, affinity='precomputed', linkage='average', distance_threshold=threshold)\n",
        "cluster_labels = clustering.fit_predict(similarity_df)\n",
        "\n",
        "# Create a dictionary to store the groups of items\n",
        "item_groups = {}\n",
        "for item, cluster_label in zip(unique_items, cluster_labels):\n",
        "    if cluster_label not in item_groups:\n",
        "        item_groups[cluster_label] = []\n",
        "    item_groups[cluster_label].append(item)\n"
      ],
      "metadata": {
        "colab": {
          "base_uri": "https://localhost:8080/"
        },
        "id": "XUE94KpuA2lA",
        "outputId": "dbd4ae0f-c157-4b7c-a912-0a1df6a33b11"
      },
      "execution_count": null,
      "outputs": [
        {
          "output_type": "stream",
          "name": "stderr",
          "text": [
            "/usr/local/lib/python3.10/dist-packages/ipykernel/ipkernel.py:283: DeprecationWarning: `should_run_async` will not call `transform_cell` automatically in the future. Please pass the result to `transformed_cell` argument and any exception that happen during thetransform in `preprocessing_exc_tuple` in IPython 7.17 and above.\n",
            "  and should_run_async(code)\n",
            "/usr/local/lib/python3.10/dist-packages/sklearn/cluster/_agglomerative.py:983: FutureWarning: Attribute `affinity` was deprecated in version 1.2 and will be removed in 1.4. Use `metric` instead\n",
            "  warnings.warn(\n"
          ]
        }
      ]
    },
    {
      "cell_type": "code",
      "source": [
        "# Create a dictionary to store the groups of items and their similarities\n",
        "item_groups = {}\n",
        "for item, cluster in zip(unique_items, cluster_labels):\n",
        "    if cluster not in item_groups:\n",
        "        item_groups[cluster] = {'items': [], 'similarities': []}\n",
        "    item_groups[cluster]['items'].append(item)\n",
        "\n",
        "# Compute average similarity for each group\n",
        "for cluster in item_groups.values():\n",
        "    items = cluster['items']\n",
        "    similarities = [combined_similarity(item1,item2,followers_dict,followings_dict, reply_dict,retweet_dict,mention_dict) for item1 in items for item2 in items]\n",
        "    avg_similarity = sum(similarities) / len(similarities)\n",
        "    cluster['similarities'] = avg_similarity\n",
        "\n",
        "# Print the groups of items and their average similarities\n",
        "item_groups"
      ],
      "metadata": {
        "colab": {
          "base_uri": "https://localhost:8080/"
        },
        "id": "MvZ7kAllA2hl",
        "outputId": "30b5fa5d-3e0d-4517-a633-f37c07e93768"
      },
      "execution_count": null,
      "outputs": [
        {
          "output_type": "stream",
          "name": "stderr",
          "text": [
            "/usr/local/lib/python3.10/dist-packages/ipykernel/ipkernel.py:283: DeprecationWarning: `should_run_async` will not call `transform_cell` automatically in the future. Please pass the result to `transformed_cell` argument and any exception that happen during thetransform in `preprocessing_exc_tuple` in IPython 7.17 and above.\n",
            "  and should_run_async(code)\n"
          ]
        },
        {
          "output_type": "execute_result",
          "data": {
            "text/plain": [
              "{5: {'items': [38535, 54301], 'similarities': 0.712155208553992},\n",
              " 0: {'items': [69127,\n",
              "   6940,\n",
              "   33833,\n",
              "   35375,\n",
              "   35376,\n",
              "   27705,\n",
              "   9021,\n",
              "   56426,\n",
              "   62195,\n",
              "   108150],\n",
              "  'similarities': 0.6799931540169727},\n",
              " 2: {'items': [64911,\n",
              "   35729,\n",
              "   103447,\n",
              "   98204,\n",
              "   13820,\n",
              "   26158,\n",
              "   27311,\n",
              "   62391,\n",
              "   110903,\n",
              "   4665,\n",
              "   67382,\n",
              "   89805,\n",
              "   15439,\n",
              "   12751,\n",
              "   6241,\n",
              "   80101,\n",
              "   29542,\n",
              "   492,\n",
              "   51181,\n",
              "   14957,\n",
              "   1276,\n",
              "   511],\n",
              "  'similarities': 0.6062503827604815},\n",
              " 3: {'items': [149922], 'similarities': 0.0},\n",
              " 6: {'items': [44086], 'similarities': 0.0},\n",
              " 4: {'items': [74295], 'similarities': 0.0},\n",
              " 1: {'items': [16970], 'similarities': 0.0}}"
            ]
          },
          "metadata": {},
          "execution_count": 212
        }
      ]
    },
    {
      "cell_type": "code",
      "source": [
        "list_of_sets=[]\n",
        "for cluster in item_groups.values():\n",
        "  list_of_sets.append(set(cluster['items']))"
      ],
      "metadata": {
        "colab": {
          "base_uri": "https://localhost:8080/"
        },
        "id": "rzwgYCa3MdTi",
        "outputId": "97b217d5-b681-4af4-be14-41e650d2c32d"
      },
      "execution_count": null,
      "outputs": [
        {
          "output_type": "stream",
          "name": "stderr",
          "text": [
            "/usr/local/lib/python3.10/dist-packages/ipykernel/ipkernel.py:283: DeprecationWarning: `should_run_async` will not call `transform_cell` automatically in the future. Please pass the result to `transformed_cell` argument and any exception that happen during thetransform in `preprocessing_exc_tuple` in IPython 7.17 and above.\n",
            "  and should_run_async(code)\n"
          ]
        }
      ]
    },
    {
      "cell_type": "code",
      "source": [
        "communities=list_of_sets\n",
        "print(communities)"
      ],
      "metadata": {
        "colab": {
          "base_uri": "https://localhost:8080/"
        },
        "id": "TTlfoCR4MdN5",
        "outputId": "8075dbcc-3859-4b11-c855-3e34a6ed1f8d"
      },
      "execution_count": null,
      "outputs": [
        {
          "output_type": "stream",
          "name": "stdout",
          "text": [
            "[{54301, 38535}, {69127, 33833, 56426, 35375, 35376, 62195, 108150, 27705, 6940, 9021}, {64911, 35729, 1276, 103447, 98204, 26158, 27311, 67382, 62391, 110903, 4665, 89805, 15439, 12751, 6241, 80101, 29542, 492, 51181, 14957, 13820, 511}, {149922}, {44086}, {74295}, {16970}]\n"
          ]
        },
        {
          "output_type": "stream",
          "name": "stderr",
          "text": [
            "/usr/local/lib/python3.10/dist-packages/ipykernel/ipkernel.py:283: DeprecationWarning: `should_run_async` will not call `transform_cell` automatically in the future. Please pass the result to `transformed_cell` argument and any exception that happen during thetransform in `preprocessing_exc_tuple` in IPython 7.17 and above.\n",
            "  and should_run_async(code)\n"
          ]
        }
      ]
    },
    {
      "cell_type": "code",
      "source": [],
      "metadata": {
        "id": "a2n-6YobMdLH"
      },
      "execution_count": null,
      "outputs": []
    },
    {
      "cell_type": "code",
      "source": [],
      "metadata": {
        "id": "U7m-bfzMMdIV"
      },
      "execution_count": null,
      "outputs": []
    },
    {
      "cell_type": "code",
      "source": [],
      "metadata": {
        "id": "c39BRnsk8Q0k"
      },
      "execution_count": null,
      "outputs": []
    },
    {
      "cell_type": "code",
      "source": [],
      "metadata": {
        "id": "hPgyd8AW8Q50"
      },
      "execution_count": null,
      "outputs": []
    },
    {
      "cell_type": "code",
      "source": [
        "import pandas as pd\n",
        "\n",
        "# Assuming you already have your dataframe named 'DF'\n",
        "# If not, create it with your data\n",
        "\n",
        "# Extract unique values from ID1 and ID2\n",
        "unique_values_id1 = DF['ID1'].unique()\n",
        "unique_values_id2 = DF['ID2'].unique()\n",
        "\n",
        "# Concatenate and sort the unique values\n",
        "unique_values = sorted(set(unique_values_id1) | set(unique_values_id2))\n",
        "\n",
        "# Create a new dataframe with the unique values\n",
        "new_df = pd.DataFrame({'ID': unique_values, 'cluster': None})\n",
        "\n",
        "# Display the new dataframe\n",
        "new_df.head()"
      ],
      "metadata": {
        "id": "kb9WQql6U8XE",
        "colab": {
          "base_uri": "https://localhost:8080/",
          "height": 261
        },
        "outputId": "a4ad617a-3218-431e-f4ea-e8b0ef929654"
      },
      "execution_count": null,
      "outputs": [
        {
          "output_type": "stream",
          "name": "stderr",
          "text": [
            "/usr/local/lib/python3.10/dist-packages/ipykernel/ipkernel.py:283: DeprecationWarning: `should_run_async` will not call `transform_cell` automatically in the future. Please pass the result to `transformed_cell` argument and any exception that happen during thetransform in `preprocessing_exc_tuple` in IPython 7.17 and above.\n",
            "  and should_run_async(code)\n"
          ]
        },
        {
          "output_type": "execute_result",
          "data": {
            "text/plain": [
              "   ID cluster\n",
              "0   1    None\n",
              "1   2    None\n",
              "2   3    None\n",
              "3   4    None\n",
              "4   5    None"
            ],
            "text/html": [
              "\n",
              "\n",
              "  <div id=\"df-0b17d4fe-bbdd-4df3-bedd-358082792214\">\n",
              "    <div class=\"colab-df-container\">\n",
              "      <div>\n",
              "<style scoped>\n",
              "    .dataframe tbody tr th:only-of-type {\n",
              "        vertical-align: middle;\n",
              "    }\n",
              "\n",
              "    .dataframe tbody tr th {\n",
              "        vertical-align: top;\n",
              "    }\n",
              "\n",
              "    .dataframe thead th {\n",
              "        text-align: right;\n",
              "    }\n",
              "</style>\n",
              "<table border=\"1\" class=\"dataframe\">\n",
              "  <thead>\n",
              "    <tr style=\"text-align: right;\">\n",
              "      <th></th>\n",
              "      <th>ID</th>\n",
              "      <th>cluster</th>\n",
              "    </tr>\n",
              "  </thead>\n",
              "  <tbody>\n",
              "    <tr>\n",
              "      <th>0</th>\n",
              "      <td>1</td>\n",
              "      <td>None</td>\n",
              "    </tr>\n",
              "    <tr>\n",
              "      <th>1</th>\n",
              "      <td>2</td>\n",
              "      <td>None</td>\n",
              "    </tr>\n",
              "    <tr>\n",
              "      <th>2</th>\n",
              "      <td>3</td>\n",
              "      <td>None</td>\n",
              "    </tr>\n",
              "    <tr>\n",
              "      <th>3</th>\n",
              "      <td>4</td>\n",
              "      <td>None</td>\n",
              "    </tr>\n",
              "    <tr>\n",
              "      <th>4</th>\n",
              "      <td>5</td>\n",
              "      <td>None</td>\n",
              "    </tr>\n",
              "  </tbody>\n",
              "</table>\n",
              "</div>\n",
              "      <button class=\"colab-df-convert\" onclick=\"convertToInteractive('df-0b17d4fe-bbdd-4df3-bedd-358082792214')\"\n",
              "              title=\"Convert this dataframe to an interactive table.\"\n",
              "              style=\"display:none;\">\n",
              "\n",
              "  <svg xmlns=\"http://www.w3.org/2000/svg\" height=\"24px\"viewBox=\"0 0 24 24\"\n",
              "       width=\"24px\">\n",
              "    <path d=\"M0 0h24v24H0V0z\" fill=\"none\"/>\n",
              "    <path d=\"M18.56 5.44l.94 2.06.94-2.06 2.06-.94-2.06-.94-.94-2.06-.94 2.06-2.06.94zm-11 1L8.5 8.5l.94-2.06 2.06-.94-2.06-.94L8.5 2.5l-.94 2.06-2.06.94zm10 10l.94 2.06.94-2.06 2.06-.94-2.06-.94-.94-2.06-.94 2.06-2.06.94z\"/><path d=\"M17.41 7.96l-1.37-1.37c-.4-.4-.92-.59-1.43-.59-.52 0-1.04.2-1.43.59L10.3 9.45l-7.72 7.72c-.78.78-.78 2.05 0 2.83L4 21.41c.39.39.9.59 1.41.59.51 0 1.02-.2 1.41-.59l7.78-7.78 2.81-2.81c.8-.78.8-2.07 0-2.86zM5.41 20L4 18.59l7.72-7.72 1.47 1.35L5.41 20z\"/>\n",
              "  </svg>\n",
              "      </button>\n",
              "\n",
              "\n",
              "\n",
              "    <div id=\"df-067d5cf8-bdaa-4064-8c98-998a84b25596\">\n",
              "      <button class=\"colab-df-quickchart\" onclick=\"quickchart('df-067d5cf8-bdaa-4064-8c98-998a84b25596')\"\n",
              "              title=\"Suggest charts.\"\n",
              "              style=\"display:none;\">\n",
              "\n",
              "<svg xmlns=\"http://www.w3.org/2000/svg\" height=\"24px\"viewBox=\"0 0 24 24\"\n",
              "     width=\"24px\">\n",
              "    <g>\n",
              "        <path d=\"M19 3H5c-1.1 0-2 .9-2 2v14c0 1.1.9 2 2 2h14c1.1 0 2-.9 2-2V5c0-1.1-.9-2-2-2zM9 17H7v-7h2v7zm4 0h-2V7h2v10zm4 0h-2v-4h2v4z\"/>\n",
              "    </g>\n",
              "</svg>\n",
              "      </button>\n",
              "    </div>\n",
              "\n",
              "<style>\n",
              "  .colab-df-quickchart {\n",
              "    background-color: #E8F0FE;\n",
              "    border: none;\n",
              "    border-radius: 50%;\n",
              "    cursor: pointer;\n",
              "    display: none;\n",
              "    fill: #1967D2;\n",
              "    height: 32px;\n",
              "    padding: 0 0 0 0;\n",
              "    width: 32px;\n",
              "  }\n",
              "\n",
              "  .colab-df-quickchart:hover {\n",
              "    background-color: #E2EBFA;\n",
              "    box-shadow: 0px 1px 2px rgba(60, 64, 67, 0.3), 0px 1px 3px 1px rgba(60, 64, 67, 0.15);\n",
              "    fill: #174EA6;\n",
              "  }\n",
              "\n",
              "  [theme=dark] .colab-df-quickchart {\n",
              "    background-color: #3B4455;\n",
              "    fill: #D2E3FC;\n",
              "  }\n",
              "\n",
              "  [theme=dark] .colab-df-quickchart:hover {\n",
              "    background-color: #434B5C;\n",
              "    box-shadow: 0px 1px 3px 1px rgba(0, 0, 0, 0.15);\n",
              "    filter: drop-shadow(0px 1px 2px rgba(0, 0, 0, 0.3));\n",
              "    fill: #FFFFFF;\n",
              "  }\n",
              "</style>\n",
              "\n",
              "    <script>\n",
              "      async function quickchart(key) {\n",
              "        const containerElement = document.querySelector('#' + key);\n",
              "        const charts = await google.colab.kernel.invokeFunction(\n",
              "            'suggestCharts', [key], {});\n",
              "      }\n",
              "    </script>\n",
              "\n",
              "      <script>\n",
              "\n",
              "function displayQuickchartButton(domScope) {\n",
              "  let quickchartButtonEl =\n",
              "    domScope.querySelector('#df-067d5cf8-bdaa-4064-8c98-998a84b25596 button.colab-df-quickchart');\n",
              "  quickchartButtonEl.style.display =\n",
              "    google.colab.kernel.accessAllowed ? 'block' : 'none';\n",
              "}\n",
              "\n",
              "        displayQuickchartButton(document);\n",
              "      </script>\n",
              "      <style>\n",
              "    .colab-df-container {\n",
              "      display:flex;\n",
              "      flex-wrap:wrap;\n",
              "      gap: 12px;\n",
              "    }\n",
              "\n",
              "    .colab-df-convert {\n",
              "      background-color: #E8F0FE;\n",
              "      border: none;\n",
              "      border-radius: 50%;\n",
              "      cursor: pointer;\n",
              "      display: none;\n",
              "      fill: #1967D2;\n",
              "      height: 32px;\n",
              "      padding: 0 0 0 0;\n",
              "      width: 32px;\n",
              "    }\n",
              "\n",
              "    .colab-df-convert:hover {\n",
              "      background-color: #E2EBFA;\n",
              "      box-shadow: 0px 1px 2px rgba(60, 64, 67, 0.3), 0px 1px 3px 1px rgba(60, 64, 67, 0.15);\n",
              "      fill: #174EA6;\n",
              "    }\n",
              "\n",
              "    [theme=dark] .colab-df-convert {\n",
              "      background-color: #3B4455;\n",
              "      fill: #D2E3FC;\n",
              "    }\n",
              "\n",
              "    [theme=dark] .colab-df-convert:hover {\n",
              "      background-color: #434B5C;\n",
              "      box-shadow: 0px 1px 3px 1px rgba(0, 0, 0, 0.15);\n",
              "      filter: drop-shadow(0px 1px 2px rgba(0, 0, 0, 0.3));\n",
              "      fill: #FFFFFF;\n",
              "    }\n",
              "  </style>\n",
              "\n",
              "      <script>\n",
              "        const buttonEl =\n",
              "          document.querySelector('#df-0b17d4fe-bbdd-4df3-bedd-358082792214 button.colab-df-convert');\n",
              "        buttonEl.style.display =\n",
              "          google.colab.kernel.accessAllowed ? 'block' : 'none';\n",
              "\n",
              "        async function convertToInteractive(key) {\n",
              "          const element = document.querySelector('#df-0b17d4fe-bbdd-4df3-bedd-358082792214');\n",
              "          const dataTable =\n",
              "            await google.colab.kernel.invokeFunction('convertToInteractive',\n",
              "                                                     [key], {});\n",
              "          if (!dataTable) return;\n",
              "\n",
              "          const docLinkHtml = 'Like what you see? Visit the ' +\n",
              "            '<a target=\"_blank\" href=https://colab.research.google.com/notebooks/data_table.ipynb>data table notebook</a>'\n",
              "            + ' to learn more about interactive tables.';\n",
              "          element.innerHTML = '';\n",
              "          dataTable['output_type'] = 'display_data';\n",
              "          await google.colab.output.renderOutput(dataTable, element);\n",
              "          const docLink = document.createElement('div');\n",
              "          docLink.innerHTML = docLinkHtml;\n",
              "          element.appendChild(docLink);\n",
              "        }\n",
              "      </script>\n",
              "    </div>\n",
              "  </div>\n"
            ]
          },
          "metadata": {},
          "execution_count": 356
        }
      ]
    },
    {
      "cell_type": "code",
      "source": [
        "# Create a dictionary to store the cluster assignments for each ID\n",
        "id_to_cluster = {}\n",
        "for cluster_idx, cluster in enumerate(communities):\n",
        "    for item in cluster:\n",
        "        id_to_cluster[item] = f'cluster{cluster_idx + 1}'\n",
        "\n",
        "# Update the 'cluster' column in the 'new_df' DataFrame\n",
        "new_df['cluster'] = new_df['ID'].map(id_to_cluster)\n"
      ],
      "metadata": {
        "colab": {
          "base_uri": "https://localhost:8080/"
        },
        "id": "qQA3CMGPU7_Q",
        "outputId": "1390ead6-422d-4a5f-a1cc-b6e79bd57bfa"
      },
      "execution_count": null,
      "outputs": [
        {
          "output_type": "stream",
          "name": "stderr",
          "text": [
            "/usr/local/lib/python3.10/dist-packages/ipykernel/ipkernel.py:283: DeprecationWarning: `should_run_async` will not call `transform_cell` automatically in the future. Please pass the result to `transformed_cell` argument and any exception that happen during thetransform in `preprocessing_exc_tuple` in IPython 7.17 and above.\n",
            "  and should_run_async(code)\n"
          ]
        }
      ]
    },
    {
      "cell_type": "code",
      "source": [
        "cluster_counts = new_df['cluster'].value_counts()\n",
        "\n",
        "cluster_counts.head(10)"
      ],
      "metadata": {
        "colab": {
          "base_uri": "https://localhost:8080/"
        },
        "id": "7KdObJibT6zE",
        "outputId": "e29af3d4-a972-492a-9003-529e9f702013"
      },
      "execution_count": null,
      "outputs": [
        {
          "output_type": "stream",
          "name": "stderr",
          "text": [
            "/usr/local/lib/python3.10/dist-packages/ipykernel/ipkernel.py:283: DeprecationWarning: `should_run_async` will not call `transform_cell` automatically in the future. Please pass the result to `transformed_cell` argument and any exception that happen during thetransform in `preprocessing_exc_tuple` in IPython 7.17 and above.\n",
            "  and should_run_async(code)\n"
          ]
        },
        {
          "output_type": "execute_result",
          "data": {
            "text/plain": [
              "cluster3    22\n",
              "cluster2    10\n",
              "cluster1     2\n",
              "cluster7     1\n",
              "cluster5     1\n",
              "cluster6     1\n",
              "cluster4     1\n",
              "Name: cluster, dtype: int64"
            ]
          },
          "metadata": {},
          "execution_count": 358
        }
      ]
    },
    {
      "cell_type": "code",
      "source": [
        "new_df.head()"
      ],
      "metadata": {
        "colab": {
          "base_uri": "https://localhost:8080/",
          "height": 261
        },
        "id": "XB7Wtx_ickmr",
        "outputId": "446800f4-baae-4e7a-c347-44cfaf17cab9"
      },
      "execution_count": null,
      "outputs": [
        {
          "output_type": "stream",
          "name": "stderr",
          "text": [
            "/usr/local/lib/python3.10/dist-packages/ipykernel/ipkernel.py:283: DeprecationWarning: `should_run_async` will not call `transform_cell` automatically in the future. Please pass the result to `transformed_cell` argument and any exception that happen during thetransform in `preprocessing_exc_tuple` in IPython 7.17 and above.\n",
            "  and should_run_async(code)\n"
          ]
        },
        {
          "output_type": "execute_result",
          "data": {
            "text/plain": [
              "   ID cluster\n",
              "0   1     NaN\n",
              "1   2     NaN\n",
              "2   3     NaN\n",
              "3   4     NaN\n",
              "4   5     NaN"
            ],
            "text/html": [
              "\n",
              "\n",
              "  <div id=\"df-12f4b676-d014-46e5-b021-a4c7485fdf05\">\n",
              "    <div class=\"colab-df-container\">\n",
              "      <div>\n",
              "<style scoped>\n",
              "    .dataframe tbody tr th:only-of-type {\n",
              "        vertical-align: middle;\n",
              "    }\n",
              "\n",
              "    .dataframe tbody tr th {\n",
              "        vertical-align: top;\n",
              "    }\n",
              "\n",
              "    .dataframe thead th {\n",
              "        text-align: right;\n",
              "    }\n",
              "</style>\n",
              "<table border=\"1\" class=\"dataframe\">\n",
              "  <thead>\n",
              "    <tr style=\"text-align: right;\">\n",
              "      <th></th>\n",
              "      <th>ID</th>\n",
              "      <th>cluster</th>\n",
              "    </tr>\n",
              "  </thead>\n",
              "  <tbody>\n",
              "    <tr>\n",
              "      <th>0</th>\n",
              "      <td>1</td>\n",
              "      <td>NaN</td>\n",
              "    </tr>\n",
              "    <tr>\n",
              "      <th>1</th>\n",
              "      <td>2</td>\n",
              "      <td>NaN</td>\n",
              "    </tr>\n",
              "    <tr>\n",
              "      <th>2</th>\n",
              "      <td>3</td>\n",
              "      <td>NaN</td>\n",
              "    </tr>\n",
              "    <tr>\n",
              "      <th>3</th>\n",
              "      <td>4</td>\n",
              "      <td>NaN</td>\n",
              "    </tr>\n",
              "    <tr>\n",
              "      <th>4</th>\n",
              "      <td>5</td>\n",
              "      <td>NaN</td>\n",
              "    </tr>\n",
              "  </tbody>\n",
              "</table>\n",
              "</div>\n",
              "      <button class=\"colab-df-convert\" onclick=\"convertToInteractive('df-12f4b676-d014-46e5-b021-a4c7485fdf05')\"\n",
              "              title=\"Convert this dataframe to an interactive table.\"\n",
              "              style=\"display:none;\">\n",
              "\n",
              "  <svg xmlns=\"http://www.w3.org/2000/svg\" height=\"24px\"viewBox=\"0 0 24 24\"\n",
              "       width=\"24px\">\n",
              "    <path d=\"M0 0h24v24H0V0z\" fill=\"none\"/>\n",
              "    <path d=\"M18.56 5.44l.94 2.06.94-2.06 2.06-.94-2.06-.94-.94-2.06-.94 2.06-2.06.94zm-11 1L8.5 8.5l.94-2.06 2.06-.94-2.06-.94L8.5 2.5l-.94 2.06-2.06.94zm10 10l.94 2.06.94-2.06 2.06-.94-2.06-.94-.94-2.06-.94 2.06-2.06.94z\"/><path d=\"M17.41 7.96l-1.37-1.37c-.4-.4-.92-.59-1.43-.59-.52 0-1.04.2-1.43.59L10.3 9.45l-7.72 7.72c-.78.78-.78 2.05 0 2.83L4 21.41c.39.39.9.59 1.41.59.51 0 1.02-.2 1.41-.59l7.78-7.78 2.81-2.81c.8-.78.8-2.07 0-2.86zM5.41 20L4 18.59l7.72-7.72 1.47 1.35L5.41 20z\"/>\n",
              "  </svg>\n",
              "      </button>\n",
              "\n",
              "\n",
              "\n",
              "    <div id=\"df-7b4146ab-3908-4bb0-b3a2-35ee65a23acb\">\n",
              "      <button class=\"colab-df-quickchart\" onclick=\"quickchart('df-7b4146ab-3908-4bb0-b3a2-35ee65a23acb')\"\n",
              "              title=\"Suggest charts.\"\n",
              "              style=\"display:none;\">\n",
              "\n",
              "<svg xmlns=\"http://www.w3.org/2000/svg\" height=\"24px\"viewBox=\"0 0 24 24\"\n",
              "     width=\"24px\">\n",
              "    <g>\n",
              "        <path d=\"M19 3H5c-1.1 0-2 .9-2 2v14c0 1.1.9 2 2 2h14c1.1 0 2-.9 2-2V5c0-1.1-.9-2-2-2zM9 17H7v-7h2v7zm4 0h-2V7h2v10zm4 0h-2v-4h2v4z\"/>\n",
              "    </g>\n",
              "</svg>\n",
              "      </button>\n",
              "    </div>\n",
              "\n",
              "<style>\n",
              "  .colab-df-quickchart {\n",
              "    background-color: #E8F0FE;\n",
              "    border: none;\n",
              "    border-radius: 50%;\n",
              "    cursor: pointer;\n",
              "    display: none;\n",
              "    fill: #1967D2;\n",
              "    height: 32px;\n",
              "    padding: 0 0 0 0;\n",
              "    width: 32px;\n",
              "  }\n",
              "\n",
              "  .colab-df-quickchart:hover {\n",
              "    background-color: #E2EBFA;\n",
              "    box-shadow: 0px 1px 2px rgba(60, 64, 67, 0.3), 0px 1px 3px 1px rgba(60, 64, 67, 0.15);\n",
              "    fill: #174EA6;\n",
              "  }\n",
              "\n",
              "  [theme=dark] .colab-df-quickchart {\n",
              "    background-color: #3B4455;\n",
              "    fill: #D2E3FC;\n",
              "  }\n",
              "\n",
              "  [theme=dark] .colab-df-quickchart:hover {\n",
              "    background-color: #434B5C;\n",
              "    box-shadow: 0px 1px 3px 1px rgba(0, 0, 0, 0.15);\n",
              "    filter: drop-shadow(0px 1px 2px rgba(0, 0, 0, 0.3));\n",
              "    fill: #FFFFFF;\n",
              "  }\n",
              "</style>\n",
              "\n",
              "    <script>\n",
              "      async function quickchart(key) {\n",
              "        const containerElement = document.querySelector('#' + key);\n",
              "        const charts = await google.colab.kernel.invokeFunction(\n",
              "            'suggestCharts', [key], {});\n",
              "      }\n",
              "    </script>\n",
              "\n",
              "      <script>\n",
              "\n",
              "function displayQuickchartButton(domScope) {\n",
              "  let quickchartButtonEl =\n",
              "    domScope.querySelector('#df-7b4146ab-3908-4bb0-b3a2-35ee65a23acb button.colab-df-quickchart');\n",
              "  quickchartButtonEl.style.display =\n",
              "    google.colab.kernel.accessAllowed ? 'block' : 'none';\n",
              "}\n",
              "\n",
              "        displayQuickchartButton(document);\n",
              "      </script>\n",
              "      <style>\n",
              "    .colab-df-container {\n",
              "      display:flex;\n",
              "      flex-wrap:wrap;\n",
              "      gap: 12px;\n",
              "    }\n",
              "\n",
              "    .colab-df-convert {\n",
              "      background-color: #E8F0FE;\n",
              "      border: none;\n",
              "      border-radius: 50%;\n",
              "      cursor: pointer;\n",
              "      display: none;\n",
              "      fill: #1967D2;\n",
              "      height: 32px;\n",
              "      padding: 0 0 0 0;\n",
              "      width: 32px;\n",
              "    }\n",
              "\n",
              "    .colab-df-convert:hover {\n",
              "      background-color: #E2EBFA;\n",
              "      box-shadow: 0px 1px 2px rgba(60, 64, 67, 0.3), 0px 1px 3px 1px rgba(60, 64, 67, 0.15);\n",
              "      fill: #174EA6;\n",
              "    }\n",
              "\n",
              "    [theme=dark] .colab-df-convert {\n",
              "      background-color: #3B4455;\n",
              "      fill: #D2E3FC;\n",
              "    }\n",
              "\n",
              "    [theme=dark] .colab-df-convert:hover {\n",
              "      background-color: #434B5C;\n",
              "      box-shadow: 0px 1px 3px 1px rgba(0, 0, 0, 0.15);\n",
              "      filter: drop-shadow(0px 1px 2px rgba(0, 0, 0, 0.3));\n",
              "      fill: #FFFFFF;\n",
              "    }\n",
              "  </style>\n",
              "\n",
              "      <script>\n",
              "        const buttonEl =\n",
              "          document.querySelector('#df-12f4b676-d014-46e5-b021-a4c7485fdf05 button.colab-df-convert');\n",
              "        buttonEl.style.display =\n",
              "          google.colab.kernel.accessAllowed ? 'block' : 'none';\n",
              "\n",
              "        async function convertToInteractive(key) {\n",
              "          const element = document.querySelector('#df-12f4b676-d014-46e5-b021-a4c7485fdf05');\n",
              "          const dataTable =\n",
              "            await google.colab.kernel.invokeFunction('convertToInteractive',\n",
              "                                                     [key], {});\n",
              "          if (!dataTable) return;\n",
              "\n",
              "          const docLinkHtml = 'Like what you see? Visit the ' +\n",
              "            '<a target=\"_blank\" href=https://colab.research.google.com/notebooks/data_table.ipynb>data table notebook</a>'\n",
              "            + ' to learn more about interactive tables.';\n",
              "          element.innerHTML = '';\n",
              "          dataTable['output_type'] = 'display_data';\n",
              "          await google.colab.output.renderOutput(dataTable, element);\n",
              "          const docLink = document.createElement('div');\n",
              "          docLink.innerHTML = docLinkHtml;\n",
              "          element.appendChild(docLink);\n",
              "        }\n",
              "      </script>\n",
              "    </div>\n",
              "  </div>\n"
            ]
          },
          "metadata": {},
          "execution_count": 359
        }
      ]
    },
    {
      "cell_type": "code",
      "source": [
        "import pandas as pd\n",
        "\n",
        "# Assuming you have already created the 'new_df' DataFrame as shown in the previous code\n",
        "\n",
        "# Fill NaN values with 0\n",
        "new_df.fillna(0, inplace=True)\n",
        "\n",
        "# Display the updated DataFrame\n",
        "new_df.head()\n"
      ],
      "metadata": {
        "colab": {
          "base_uri": "https://localhost:8080/",
          "height": 261
        },
        "id": "aYMzqBiZcmdK",
        "outputId": "a0bf4ef3-dc6f-4da3-e0e4-73fe03a7554f"
      },
      "execution_count": null,
      "outputs": [
        {
          "output_type": "stream",
          "name": "stderr",
          "text": [
            "/usr/local/lib/python3.10/dist-packages/ipykernel/ipkernel.py:283: DeprecationWarning: `should_run_async` will not call `transform_cell` automatically in the future. Please pass the result to `transformed_cell` argument and any exception that happen during thetransform in `preprocessing_exc_tuple` in IPython 7.17 and above.\n",
            "  and should_run_async(code)\n"
          ]
        },
        {
          "output_type": "execute_result",
          "data": {
            "text/plain": [
              "   ID cluster\n",
              "0   1       0\n",
              "1   2       0\n",
              "2   3       0\n",
              "3   4       0\n",
              "4   5       0"
            ],
            "text/html": [
              "\n",
              "\n",
              "  <div id=\"df-a17db087-7722-4f38-a812-7d52316fc9ee\">\n",
              "    <div class=\"colab-df-container\">\n",
              "      <div>\n",
              "<style scoped>\n",
              "    .dataframe tbody tr th:only-of-type {\n",
              "        vertical-align: middle;\n",
              "    }\n",
              "\n",
              "    .dataframe tbody tr th {\n",
              "        vertical-align: top;\n",
              "    }\n",
              "\n",
              "    .dataframe thead th {\n",
              "        text-align: right;\n",
              "    }\n",
              "</style>\n",
              "<table border=\"1\" class=\"dataframe\">\n",
              "  <thead>\n",
              "    <tr style=\"text-align: right;\">\n",
              "      <th></th>\n",
              "      <th>ID</th>\n",
              "      <th>cluster</th>\n",
              "    </tr>\n",
              "  </thead>\n",
              "  <tbody>\n",
              "    <tr>\n",
              "      <th>0</th>\n",
              "      <td>1</td>\n",
              "      <td>0</td>\n",
              "    </tr>\n",
              "    <tr>\n",
              "      <th>1</th>\n",
              "      <td>2</td>\n",
              "      <td>0</td>\n",
              "    </tr>\n",
              "    <tr>\n",
              "      <th>2</th>\n",
              "      <td>3</td>\n",
              "      <td>0</td>\n",
              "    </tr>\n",
              "    <tr>\n",
              "      <th>3</th>\n",
              "      <td>4</td>\n",
              "      <td>0</td>\n",
              "    </tr>\n",
              "    <tr>\n",
              "      <th>4</th>\n",
              "      <td>5</td>\n",
              "      <td>0</td>\n",
              "    </tr>\n",
              "  </tbody>\n",
              "</table>\n",
              "</div>\n",
              "      <button class=\"colab-df-convert\" onclick=\"convertToInteractive('df-a17db087-7722-4f38-a812-7d52316fc9ee')\"\n",
              "              title=\"Convert this dataframe to an interactive table.\"\n",
              "              style=\"display:none;\">\n",
              "\n",
              "  <svg xmlns=\"http://www.w3.org/2000/svg\" height=\"24px\"viewBox=\"0 0 24 24\"\n",
              "       width=\"24px\">\n",
              "    <path d=\"M0 0h24v24H0V0z\" fill=\"none\"/>\n",
              "    <path d=\"M18.56 5.44l.94 2.06.94-2.06 2.06-.94-2.06-.94-.94-2.06-.94 2.06-2.06.94zm-11 1L8.5 8.5l.94-2.06 2.06-.94-2.06-.94L8.5 2.5l-.94 2.06-2.06.94zm10 10l.94 2.06.94-2.06 2.06-.94-2.06-.94-.94-2.06-.94 2.06-2.06.94z\"/><path d=\"M17.41 7.96l-1.37-1.37c-.4-.4-.92-.59-1.43-.59-.52 0-1.04.2-1.43.59L10.3 9.45l-7.72 7.72c-.78.78-.78 2.05 0 2.83L4 21.41c.39.39.9.59 1.41.59.51 0 1.02-.2 1.41-.59l7.78-7.78 2.81-2.81c.8-.78.8-2.07 0-2.86zM5.41 20L4 18.59l7.72-7.72 1.47 1.35L5.41 20z\"/>\n",
              "  </svg>\n",
              "      </button>\n",
              "\n",
              "\n",
              "\n",
              "    <div id=\"df-91644375-f0f2-4c56-bd65-3cfe6c1ef2fc\">\n",
              "      <button class=\"colab-df-quickchart\" onclick=\"quickchart('df-91644375-f0f2-4c56-bd65-3cfe6c1ef2fc')\"\n",
              "              title=\"Suggest charts.\"\n",
              "              style=\"display:none;\">\n",
              "\n",
              "<svg xmlns=\"http://www.w3.org/2000/svg\" height=\"24px\"viewBox=\"0 0 24 24\"\n",
              "     width=\"24px\">\n",
              "    <g>\n",
              "        <path d=\"M19 3H5c-1.1 0-2 .9-2 2v14c0 1.1.9 2 2 2h14c1.1 0 2-.9 2-2V5c0-1.1-.9-2-2-2zM9 17H7v-7h2v7zm4 0h-2V7h2v10zm4 0h-2v-4h2v4z\"/>\n",
              "    </g>\n",
              "</svg>\n",
              "      </button>\n",
              "    </div>\n",
              "\n",
              "<style>\n",
              "  .colab-df-quickchart {\n",
              "    background-color: #E8F0FE;\n",
              "    border: none;\n",
              "    border-radius: 50%;\n",
              "    cursor: pointer;\n",
              "    display: none;\n",
              "    fill: #1967D2;\n",
              "    height: 32px;\n",
              "    padding: 0 0 0 0;\n",
              "    width: 32px;\n",
              "  }\n",
              "\n",
              "  .colab-df-quickchart:hover {\n",
              "    background-color: #E2EBFA;\n",
              "    box-shadow: 0px 1px 2px rgba(60, 64, 67, 0.3), 0px 1px 3px 1px rgba(60, 64, 67, 0.15);\n",
              "    fill: #174EA6;\n",
              "  }\n",
              "\n",
              "  [theme=dark] .colab-df-quickchart {\n",
              "    background-color: #3B4455;\n",
              "    fill: #D2E3FC;\n",
              "  }\n",
              "\n",
              "  [theme=dark] .colab-df-quickchart:hover {\n",
              "    background-color: #434B5C;\n",
              "    box-shadow: 0px 1px 3px 1px rgba(0, 0, 0, 0.15);\n",
              "    filter: drop-shadow(0px 1px 2px rgba(0, 0, 0, 0.3));\n",
              "    fill: #FFFFFF;\n",
              "  }\n",
              "</style>\n",
              "\n",
              "    <script>\n",
              "      async function quickchart(key) {\n",
              "        const containerElement = document.querySelector('#' + key);\n",
              "        const charts = await google.colab.kernel.invokeFunction(\n",
              "            'suggestCharts', [key], {});\n",
              "      }\n",
              "    </script>\n",
              "\n",
              "      <script>\n",
              "\n",
              "function displayQuickchartButton(domScope) {\n",
              "  let quickchartButtonEl =\n",
              "    domScope.querySelector('#df-91644375-f0f2-4c56-bd65-3cfe6c1ef2fc button.colab-df-quickchart');\n",
              "  quickchartButtonEl.style.display =\n",
              "    google.colab.kernel.accessAllowed ? 'block' : 'none';\n",
              "}\n",
              "\n",
              "        displayQuickchartButton(document);\n",
              "      </script>\n",
              "      <style>\n",
              "    .colab-df-container {\n",
              "      display:flex;\n",
              "      flex-wrap:wrap;\n",
              "      gap: 12px;\n",
              "    }\n",
              "\n",
              "    .colab-df-convert {\n",
              "      background-color: #E8F0FE;\n",
              "      border: none;\n",
              "      border-radius: 50%;\n",
              "      cursor: pointer;\n",
              "      display: none;\n",
              "      fill: #1967D2;\n",
              "      height: 32px;\n",
              "      padding: 0 0 0 0;\n",
              "      width: 32px;\n",
              "    }\n",
              "\n",
              "    .colab-df-convert:hover {\n",
              "      background-color: #E2EBFA;\n",
              "      box-shadow: 0px 1px 2px rgba(60, 64, 67, 0.3), 0px 1px 3px 1px rgba(60, 64, 67, 0.15);\n",
              "      fill: #174EA6;\n",
              "    }\n",
              "\n",
              "    [theme=dark] .colab-df-convert {\n",
              "      background-color: #3B4455;\n",
              "      fill: #D2E3FC;\n",
              "    }\n",
              "\n",
              "    [theme=dark] .colab-df-convert:hover {\n",
              "      background-color: #434B5C;\n",
              "      box-shadow: 0px 1px 3px 1px rgba(0, 0, 0, 0.15);\n",
              "      filter: drop-shadow(0px 1px 2px rgba(0, 0, 0, 0.3));\n",
              "      fill: #FFFFFF;\n",
              "    }\n",
              "  </style>\n",
              "\n",
              "      <script>\n",
              "        const buttonEl =\n",
              "          document.querySelector('#df-a17db087-7722-4f38-a812-7d52316fc9ee button.colab-df-convert');\n",
              "        buttonEl.style.display =\n",
              "          google.colab.kernel.accessAllowed ? 'block' : 'none';\n",
              "\n",
              "        async function convertToInteractive(key) {\n",
              "          const element = document.querySelector('#df-a17db087-7722-4f38-a812-7d52316fc9ee');\n",
              "          const dataTable =\n",
              "            await google.colab.kernel.invokeFunction('convertToInteractive',\n",
              "                                                     [key], {});\n",
              "          if (!dataTable) return;\n",
              "\n",
              "          const docLinkHtml = 'Like what you see? Visit the ' +\n",
              "            '<a target=\"_blank\" href=https://colab.research.google.com/notebooks/data_table.ipynb>data table notebook</a>'\n",
              "            + ' to learn more about interactive tables.';\n",
              "          element.innerHTML = '';\n",
              "          dataTable['output_type'] = 'display_data';\n",
              "          await google.colab.output.renderOutput(dataTable, element);\n",
              "          const docLink = document.createElement('div');\n",
              "          docLink.innerHTML = docLinkHtml;\n",
              "          element.appendChild(docLink);\n",
              "        }\n",
              "      </script>\n",
              "    </div>\n",
              "  </div>\n"
            ]
          },
          "metadata": {},
          "execution_count": 360
        }
      ]
    },
    {
      "cell_type": "code",
      "source": [
        "import pandas as pd\n",
        "\n",
        "# Assuming you have already created the 'new_df' DataFrame as shown in the previous code\n",
        "# and filled NaN values with 0\n",
        "\n",
        "# Group the DataFrame by the 'cluster' column and count the occurrences of each cluster\n",
        "cluster_counts = new_df.groupby('cluster').count()\n",
        "\n",
        "# Get the counts for 'cluster1' and 'cluster2'\n",
        "count_cluster1 = cluster_counts.loc['cluster1', 'ID']\n",
        "count_cluster2 = cluster_counts.loc['cluster2', 'ID']\n",
        "count_cluster3 = cluster_counts.loc['cluster3', 'ID']\n",
        "count_cluster4 = cluster_counts.loc['cluster4', 'ID']\n",
        "count_cluster5 = cluster_counts.loc['cluster5', 'ID']\n",
        "count_cluster6 = cluster_counts.loc['cluster6', 'ID']\n",
        "count_cluster7 = cluster_counts.loc['cluster7', 'ID']\n",
        "\n",
        "# Get the summation of counts for 'cluster1' and 'cluster2'\n",
        "summation = count_cluster1 + count_cluster2+count_cluster3+count_cluster4 + count_cluster5+count_cluster6 + count_cluster7\n",
        "\n",
        "# Display the counts and the summation\n",
        "print(f\"Count in cluster1: {count_cluster1}\")\n",
        "print(f\"Count in cluster2: {count_cluster2}\")\n",
        "print(f\"Count in cluster3: {count_cluster3}\")\n",
        "print(f\"Count in cluster4: {count_cluster4}\")\n",
        "print(f\"Count in cluster5: {count_cluster5}\")\n",
        "print(f\"Count in cluster6: {count_cluster6}\")\n",
        "print(f\"Count in cluster7: {count_cluster7}\")\n",
        "print(f\"Summation: {summation}\")\n"
      ],
      "metadata": {
        "colab": {
          "base_uri": "https://localhost:8080/"
        },
        "id": "EZIafLdiWIXm",
        "outputId": "0ba2d0ee-0e53-41a6-c2e5-e7878e443734"
      },
      "execution_count": null,
      "outputs": [
        {
          "output_type": "stream",
          "name": "stdout",
          "text": [
            "Count in cluster1: 2\n",
            "Count in cluster2: 10\n",
            "Count in cluster3: 22\n",
            "Count in cluster4: 1\n",
            "Count in cluster5: 1\n",
            "Count in cluster6: 1\n",
            "Count in cluster7: 1\n",
            "Summation: 38\n"
          ]
        },
        {
          "output_type": "stream",
          "name": "stderr",
          "text": [
            "/usr/local/lib/python3.10/dist-packages/ipykernel/ipkernel.py:283: DeprecationWarning: `should_run_async` will not call `transform_cell` automatically in the future. Please pass the result to `transformed_cell` argument and any exception that happen during thetransform in `preprocessing_exc_tuple` in IPython 7.17 and above.\n",
            "  and should_run_async(code)\n"
          ]
        }
      ]
    },
    {
      "cell_type": "code",
      "source": [
        "from tqdm import tqdm\n",
        "\n",
        "# communities is a list of lists containing the IDs of each community\n",
        "# For example, communities = [['ID1', 'ID2', ...], ['ID3', 'ID4', ...], ...]\n",
        "\n",
        "# Create a dictionary to map community index to cluster name\n",
        "cluster_names = {idx: f'cluster{idx+1}' for idx, comm in enumerate(communities)}\n",
        "\n",
        "# Get the total number of records in new_df\n",
        "total_records = len(new_df)\n",
        "\n",
        "# Create a progress bar using tqdm\n",
        "progress_bar = tqdm(total=total_records, desc=\"Processing\", unit=\"record\", dynamic_ncols=True)\n",
        "treshold=2\n",
        "# Loop over new_df and update the 'cluster' column using the community names\n",
        "for index, row in new_df.iterrows():\n",
        "  if row['cluster']==0:\n",
        "    max_similarity = 0\n",
        "    max_cluster = None\n",
        "\n",
        "    # Calculate similarity for each cluster and find the cluster with the max similarity\n",
        "    for cluster_num, cluster_list in enumerate(communities):\n",
        "        for cluster_id in cluster_list:\n",
        "            # sim = similarity(row['ID'], cluster_id)\n",
        "            sim = combined_similarity(row['ID'], cluster_id, followers_dict, followings_dict, reply_dict, retweet_dict, mention_dict)\n",
        "\n",
        "            if sim > max_similarity:\n",
        "                max_similarity = sim\n",
        "                max_cluster = cluster_num\n",
        "\n",
        "    # If the max_cluster is not None, assign the corresponding cluster name to the 'cluster' column\n",
        "    if max_cluster!=0:\n",
        "      if max_similarity>treshold:\n",
        "        cluster_name = cluster_names[max_cluster]\n",
        "        new_df.at[index, 'cluster'] = cluster_name\n",
        "\n",
        "  # Update the progress bar for every 1000 records\n",
        "  if index % 1000 == 0:\n",
        "        progress_bar.update(1000)\n",
        "        progress_bar.set_description(f\"Processing ({index}/{total_records})\")\n",
        "        progress_bar.refresh()\n",
        "\n",
        "# Close the progress bar\n",
        "progress_bar.close()\n",
        "\n",
        "# Print the final dataframe\n",
        "new_df.head()"
      ],
      "metadata": {
        "colab": {
          "base_uri": "https://localhost:8080/",
          "height": 295
        },
        "id": "gdGsTHHBaunJ",
        "outputId": "3fcd7029-b193-4dee-926c-6d95843e83d5"
      },
      "execution_count": null,
      "outputs": [
        {
          "output_type": "stream",
          "name": "stderr",
          "text": [
            "/usr/local/lib/python3.10/dist-packages/ipykernel/ipkernel.py:283: DeprecationWarning: `should_run_async` will not call `transform_cell` automatically in the future. Please pass the result to `transformed_cell` argument and any exception that happen during thetransform in `preprocessing_exc_tuple` in IPython 7.17 and above.\n",
            "  and should_run_async(code)\n",
            "Processing (7200/45756):  16%|█▌        | 7300/45756 [23:30<2:03:49,  5.18record/s]\n",
            "Processing (45000/45756): : 46000record [02:20, 327.05record/s]\n"
          ]
        },
        {
          "output_type": "execute_result",
          "data": {
            "text/plain": [
              "   ID cluster\n",
              "0   1       0\n",
              "1   2       0\n",
              "2   3       0\n",
              "3   4       0\n",
              "4   5       0"
            ],
            "text/html": [
              "\n",
              "\n",
              "  <div id=\"df-e3d4f278-2d7a-43b9-b9e0-b7f5c3452eee\">\n",
              "    <div class=\"colab-df-container\">\n",
              "      <div>\n",
              "<style scoped>\n",
              "    .dataframe tbody tr th:only-of-type {\n",
              "        vertical-align: middle;\n",
              "    }\n",
              "\n",
              "    .dataframe tbody tr th {\n",
              "        vertical-align: top;\n",
              "    }\n",
              "\n",
              "    .dataframe thead th {\n",
              "        text-align: right;\n",
              "    }\n",
              "</style>\n",
              "<table border=\"1\" class=\"dataframe\">\n",
              "  <thead>\n",
              "    <tr style=\"text-align: right;\">\n",
              "      <th></th>\n",
              "      <th>ID</th>\n",
              "      <th>cluster</th>\n",
              "    </tr>\n",
              "  </thead>\n",
              "  <tbody>\n",
              "    <tr>\n",
              "      <th>0</th>\n",
              "      <td>1</td>\n",
              "      <td>0</td>\n",
              "    </tr>\n",
              "    <tr>\n",
              "      <th>1</th>\n",
              "      <td>2</td>\n",
              "      <td>0</td>\n",
              "    </tr>\n",
              "    <tr>\n",
              "      <th>2</th>\n",
              "      <td>3</td>\n",
              "      <td>0</td>\n",
              "    </tr>\n",
              "    <tr>\n",
              "      <th>3</th>\n",
              "      <td>4</td>\n",
              "      <td>0</td>\n",
              "    </tr>\n",
              "    <tr>\n",
              "      <th>4</th>\n",
              "      <td>5</td>\n",
              "      <td>0</td>\n",
              "    </tr>\n",
              "  </tbody>\n",
              "</table>\n",
              "</div>\n",
              "      <button class=\"colab-df-convert\" onclick=\"convertToInteractive('df-e3d4f278-2d7a-43b9-b9e0-b7f5c3452eee')\"\n",
              "              title=\"Convert this dataframe to an interactive table.\"\n",
              "              style=\"display:none;\">\n",
              "\n",
              "  <svg xmlns=\"http://www.w3.org/2000/svg\" height=\"24px\"viewBox=\"0 0 24 24\"\n",
              "       width=\"24px\">\n",
              "    <path d=\"M0 0h24v24H0V0z\" fill=\"none\"/>\n",
              "    <path d=\"M18.56 5.44l.94 2.06.94-2.06 2.06-.94-2.06-.94-.94-2.06-.94 2.06-2.06.94zm-11 1L8.5 8.5l.94-2.06 2.06-.94-2.06-.94L8.5 2.5l-.94 2.06-2.06.94zm10 10l.94 2.06.94-2.06 2.06-.94-2.06-.94-.94-2.06-.94 2.06-2.06.94z\"/><path d=\"M17.41 7.96l-1.37-1.37c-.4-.4-.92-.59-1.43-.59-.52 0-1.04.2-1.43.59L10.3 9.45l-7.72 7.72c-.78.78-.78 2.05 0 2.83L4 21.41c.39.39.9.59 1.41.59.51 0 1.02-.2 1.41-.59l7.78-7.78 2.81-2.81c.8-.78.8-2.07 0-2.86zM5.41 20L4 18.59l7.72-7.72 1.47 1.35L5.41 20z\"/>\n",
              "  </svg>\n",
              "      </button>\n",
              "\n",
              "\n",
              "\n",
              "    <div id=\"df-151075db-3bfe-45e3-94aa-4fa1061cbfc1\">\n",
              "      <button class=\"colab-df-quickchart\" onclick=\"quickchart('df-151075db-3bfe-45e3-94aa-4fa1061cbfc1')\"\n",
              "              title=\"Suggest charts.\"\n",
              "              style=\"display:none;\">\n",
              "\n",
              "<svg xmlns=\"http://www.w3.org/2000/svg\" height=\"24px\"viewBox=\"0 0 24 24\"\n",
              "     width=\"24px\">\n",
              "    <g>\n",
              "        <path d=\"M19 3H5c-1.1 0-2 .9-2 2v14c0 1.1.9 2 2 2h14c1.1 0 2-.9 2-2V5c0-1.1-.9-2-2-2zM9 17H7v-7h2v7zm4 0h-2V7h2v10zm4 0h-2v-4h2v4z\"/>\n",
              "    </g>\n",
              "</svg>\n",
              "      </button>\n",
              "    </div>\n",
              "\n",
              "<style>\n",
              "  .colab-df-quickchart {\n",
              "    background-color: #E8F0FE;\n",
              "    border: none;\n",
              "    border-radius: 50%;\n",
              "    cursor: pointer;\n",
              "    display: none;\n",
              "    fill: #1967D2;\n",
              "    height: 32px;\n",
              "    padding: 0 0 0 0;\n",
              "    width: 32px;\n",
              "  }\n",
              "\n",
              "  .colab-df-quickchart:hover {\n",
              "    background-color: #E2EBFA;\n",
              "    box-shadow: 0px 1px 2px rgba(60, 64, 67, 0.3), 0px 1px 3px 1px rgba(60, 64, 67, 0.15);\n",
              "    fill: #174EA6;\n",
              "  }\n",
              "\n",
              "  [theme=dark] .colab-df-quickchart {\n",
              "    background-color: #3B4455;\n",
              "    fill: #D2E3FC;\n",
              "  }\n",
              "\n",
              "  [theme=dark] .colab-df-quickchart:hover {\n",
              "    background-color: #434B5C;\n",
              "    box-shadow: 0px 1px 3px 1px rgba(0, 0, 0, 0.15);\n",
              "    filter: drop-shadow(0px 1px 2px rgba(0, 0, 0, 0.3));\n",
              "    fill: #FFFFFF;\n",
              "  }\n",
              "</style>\n",
              "\n",
              "    <script>\n",
              "      async function quickchart(key) {\n",
              "        const containerElement = document.querySelector('#' + key);\n",
              "        const charts = await google.colab.kernel.invokeFunction(\n",
              "            'suggestCharts', [key], {});\n",
              "      }\n",
              "    </script>\n",
              "\n",
              "      <script>\n",
              "\n",
              "function displayQuickchartButton(domScope) {\n",
              "  let quickchartButtonEl =\n",
              "    domScope.querySelector('#df-151075db-3bfe-45e3-94aa-4fa1061cbfc1 button.colab-df-quickchart');\n",
              "  quickchartButtonEl.style.display =\n",
              "    google.colab.kernel.accessAllowed ? 'block' : 'none';\n",
              "}\n",
              "\n",
              "        displayQuickchartButton(document);\n",
              "      </script>\n",
              "      <style>\n",
              "    .colab-df-container {\n",
              "      display:flex;\n",
              "      flex-wrap:wrap;\n",
              "      gap: 12px;\n",
              "    }\n",
              "\n",
              "    .colab-df-convert {\n",
              "      background-color: #E8F0FE;\n",
              "      border: none;\n",
              "      border-radius: 50%;\n",
              "      cursor: pointer;\n",
              "      display: none;\n",
              "      fill: #1967D2;\n",
              "      height: 32px;\n",
              "      padding: 0 0 0 0;\n",
              "      width: 32px;\n",
              "    }\n",
              "\n",
              "    .colab-df-convert:hover {\n",
              "      background-color: #E2EBFA;\n",
              "      box-shadow: 0px 1px 2px rgba(60, 64, 67, 0.3), 0px 1px 3px 1px rgba(60, 64, 67, 0.15);\n",
              "      fill: #174EA6;\n",
              "    }\n",
              "\n",
              "    [theme=dark] .colab-df-convert {\n",
              "      background-color: #3B4455;\n",
              "      fill: #D2E3FC;\n",
              "    }\n",
              "\n",
              "    [theme=dark] .colab-df-convert:hover {\n",
              "      background-color: #434B5C;\n",
              "      box-shadow: 0px 1px 3px 1px rgba(0, 0, 0, 0.15);\n",
              "      filter: drop-shadow(0px 1px 2px rgba(0, 0, 0, 0.3));\n",
              "      fill: #FFFFFF;\n",
              "    }\n",
              "  </style>\n",
              "\n",
              "      <script>\n",
              "        const buttonEl =\n",
              "          document.querySelector('#df-e3d4f278-2d7a-43b9-b9e0-b7f5c3452eee button.colab-df-convert');\n",
              "        buttonEl.style.display =\n",
              "          google.colab.kernel.accessAllowed ? 'block' : 'none';\n",
              "\n",
              "        async function convertToInteractive(key) {\n",
              "          const element = document.querySelector('#df-e3d4f278-2d7a-43b9-b9e0-b7f5c3452eee');\n",
              "          const dataTable =\n",
              "            await google.colab.kernel.invokeFunction('convertToInteractive',\n",
              "                                                     [key], {});\n",
              "          if (!dataTable) return;\n",
              "\n",
              "          const docLinkHtml = 'Like what you see? Visit the ' +\n",
              "            '<a target=\"_blank\" href=https://colab.research.google.com/notebooks/data_table.ipynb>data table notebook</a>'\n",
              "            + ' to learn more about interactive tables.';\n",
              "          element.innerHTML = '';\n",
              "          dataTable['output_type'] = 'display_data';\n",
              "          await google.colab.output.renderOutput(dataTable, element);\n",
              "          const docLink = document.createElement('div');\n",
              "          docLink.innerHTML = docLinkHtml;\n",
              "          element.appendChild(docLink);\n",
              "        }\n",
              "      </script>\n",
              "    </div>\n",
              "  </div>\n"
            ]
          },
          "metadata": {},
          "execution_count": 317
        }
      ]
    },
    {
      "cell_type": "code",
      "source": [
        "import pandas as pd\n",
        "\n",
        "# Assuming you have already created the 'new_df' DataFrame as shown in the previous code\n",
        "# and filled NaN values with 0\n",
        "\n",
        "# Group the DataFrame by the 'cluster' column and count the occurrences of each cluster\n",
        "cluster_counts = new_df.groupby('cluster').count()\n",
        "\n",
        "# Get the counts for 'cluster1' and 'cluster2'\n",
        "count_cluster1 = cluster_counts.loc['cluster1', 'ID']\n",
        "count_cluster2 = cluster_counts.loc['cluster2', 'ID']\n",
        "count_cluster3 = cluster_counts.loc['cluster3', 'ID']\n",
        "count_cluster4 = cluster_counts.loc['cluster4', 'ID']\n",
        "count_cluster5 = cluster_counts.loc['cluster5', 'ID']\n",
        "count_cluster6 = cluster_counts.loc['cluster6', 'ID']\n",
        "count_cluster7 = cluster_counts.loc['cluster7', 'ID']\n",
        "\n",
        "# Get the summation of counts for 'cluster1' and 'cluster2'\n",
        "summation = count_cluster1 + count_cluster2+count_cluster3+count_cluster4 + count_cluster5+count_cluster6 + count_cluster7\n",
        "\n",
        "# Display the counts and the summation\n",
        "print(f\"Count in cluster1: {count_cluster1}\")\n",
        "print(f\"Count in cluster2: {count_cluster2}\")\n",
        "print(f\"Count in cluster3: {count_cluster3}\")\n",
        "print(f\"Count in cluster4: {count_cluster4}\")\n",
        "print(f\"Count in cluster5: {count_cluster5}\")\n",
        "print(f\"Count in cluster6: {count_cluster6}\")\n",
        "print(f\"Count in cluster7: {count_cluster7}\")\n",
        "print(f\"Summation: {summation}\")\n"
      ],
      "metadata": {
        "colab": {
          "base_uri": "https://localhost:8080/"
        },
        "id": "kZhDK25iauk-",
        "outputId": "1954125c-059e-430d-afae-c5892ce87356"
      },
      "execution_count": null,
      "outputs": [
        {
          "output_type": "stream",
          "name": "stdout",
          "text": [
            "Count in cluster1: 2\n",
            "Count in cluster2: 34\n",
            "Count in cluster3: 56\n",
            "Count in cluster4: 7\n",
            "Count in cluster5: 2\n",
            "Count in cluster6: 1\n",
            "Count in cluster7: 1\n",
            "Summation: 103\n"
          ]
        },
        {
          "output_type": "stream",
          "name": "stderr",
          "text": [
            "/usr/local/lib/python3.10/dist-packages/ipykernel/ipkernel.py:283: DeprecationWarning: `should_run_async` will not call `transform_cell` automatically in the future. Please pass the result to `transformed_cell` argument and any exception that happen during thetransform in `preprocessing_exc_tuple` in IPython 7.17 and above.\n",
            "  and should_run_async(code)\n"
          ]
        }
      ]
    },
    {
      "cell_type": "code",
      "source": [
        "from tqdm import tqdm\n",
        "\n",
        "# communities is a list of lists containing the IDs of each community\n",
        "# For example, communities = [['ID1', 'ID2', ...], ['ID3', 'ID4', ...], ...]\n",
        "\n",
        "# Create a dictionary to map community index to cluster name\n",
        "cluster_names = {idx: f'cluster{idx+1}' for idx, comm in enumerate(communities)}\n",
        "\n",
        "# Get the total number of records in new_df\n",
        "total_records = len(new_df)\n",
        "\n",
        "# Create a progress bar using tqdm\n",
        "progress_bar = tqdm(total=total_records, desc=\"Processing\", unit=\"record\", dynamic_ncols=True)\n",
        "treshold=1.7\n",
        "# Loop over new_df and update the 'cluster' column using the community names\n",
        "for index, row in new_df.iterrows():\n",
        "  if row['cluster']==0:\n",
        "    max_similarity = 0\n",
        "    max_cluster = None\n",
        "\n",
        "    # Calculate similarity for each cluster and find the cluster with the max similarity\n",
        "    for cluster_num, cluster_list in enumerate(communities):\n",
        "        for cluster_id in cluster_list:\n",
        "            # sim = similarity(row['ID'], cluster_id)\n",
        "            sim = combined_similarity(row['ID'], cluster_id, followers_dict, followings_dict, reply_dict, retweet_dict, mention_dict)\n",
        "\n",
        "            if sim > max_similarity:\n",
        "                max_similarity = sim\n",
        "                max_cluster = cluster_num\n",
        "\n",
        "    # If the max_cluster is not None, assign the corresponding cluster name to the 'cluster' column\n",
        "    if max_cluster!=0:\n",
        "      if max_similarity>treshold:\n",
        "        cluster_name = cluster_names[max_cluster]\n",
        "        new_df.at[index, 'cluster'] = cluster_name\n",
        "\n",
        "  # Update the progress bar for every 1000 records\n",
        "  if index % 1000 == 0:\n",
        "        progress_bar.update(1000)\n",
        "        progress_bar.set_description(f\"Processing ({index}/{total_records})\")\n",
        "        progress_bar.refresh()\n",
        "\n",
        "# Close the progress bar\n",
        "progress_bar.close()\n",
        "\n",
        "# Print the final dataframe\n",
        "new_df.head()"
      ],
      "metadata": {
        "colab": {
          "base_uri": "https://localhost:8080/",
          "height": 278
        },
        "id": "-kO8ctiCeK6M",
        "outputId": "a2a6c4ca-f4e5-4e7d-ef7e-ad88fe027373"
      },
      "execution_count": null,
      "outputs": [
        {
          "output_type": "stream",
          "name": "stderr",
          "text": [
            "/usr/local/lib/python3.10/dist-packages/ipykernel/ipkernel.py:283: DeprecationWarning: `should_run_async` will not call `transform_cell` automatically in the future. Please pass the result to `transformed_cell` argument and any exception that happen during thetransform in `preprocessing_exc_tuple` in IPython 7.17 and above.\n",
            "  and should_run_async(code)\n",
            "Processing (45000/45756): : 46000record [02:06, 363.13record/s]\n"
          ]
        },
        {
          "output_type": "execute_result",
          "data": {
            "text/plain": [
              "   ID cluster\n",
              "0   1       0\n",
              "1   2       0\n",
              "2   3       0\n",
              "3   4       0\n",
              "4   5       0"
            ],
            "text/html": [
              "\n",
              "\n",
              "  <div id=\"df-5d599ebb-c864-4eb5-ae1a-3ce6def7867e\">\n",
              "    <div class=\"colab-df-container\">\n",
              "      <div>\n",
              "<style scoped>\n",
              "    .dataframe tbody tr th:only-of-type {\n",
              "        vertical-align: middle;\n",
              "    }\n",
              "\n",
              "    .dataframe tbody tr th {\n",
              "        vertical-align: top;\n",
              "    }\n",
              "\n",
              "    .dataframe thead th {\n",
              "        text-align: right;\n",
              "    }\n",
              "</style>\n",
              "<table border=\"1\" class=\"dataframe\">\n",
              "  <thead>\n",
              "    <tr style=\"text-align: right;\">\n",
              "      <th></th>\n",
              "      <th>ID</th>\n",
              "      <th>cluster</th>\n",
              "    </tr>\n",
              "  </thead>\n",
              "  <tbody>\n",
              "    <tr>\n",
              "      <th>0</th>\n",
              "      <td>1</td>\n",
              "      <td>0</td>\n",
              "    </tr>\n",
              "    <tr>\n",
              "      <th>1</th>\n",
              "      <td>2</td>\n",
              "      <td>0</td>\n",
              "    </tr>\n",
              "    <tr>\n",
              "      <th>2</th>\n",
              "      <td>3</td>\n",
              "      <td>0</td>\n",
              "    </tr>\n",
              "    <tr>\n",
              "      <th>3</th>\n",
              "      <td>4</td>\n",
              "      <td>0</td>\n",
              "    </tr>\n",
              "    <tr>\n",
              "      <th>4</th>\n",
              "      <td>5</td>\n",
              "      <td>0</td>\n",
              "    </tr>\n",
              "  </tbody>\n",
              "</table>\n",
              "</div>\n",
              "      <button class=\"colab-df-convert\" onclick=\"convertToInteractive('df-5d599ebb-c864-4eb5-ae1a-3ce6def7867e')\"\n",
              "              title=\"Convert this dataframe to an interactive table.\"\n",
              "              style=\"display:none;\">\n",
              "\n",
              "  <svg xmlns=\"http://www.w3.org/2000/svg\" height=\"24px\"viewBox=\"0 0 24 24\"\n",
              "       width=\"24px\">\n",
              "    <path d=\"M0 0h24v24H0V0z\" fill=\"none\"/>\n",
              "    <path d=\"M18.56 5.44l.94 2.06.94-2.06 2.06-.94-2.06-.94-.94-2.06-.94 2.06-2.06.94zm-11 1L8.5 8.5l.94-2.06 2.06-.94-2.06-.94L8.5 2.5l-.94 2.06-2.06.94zm10 10l.94 2.06.94-2.06 2.06-.94-2.06-.94-.94-2.06-.94 2.06-2.06.94z\"/><path d=\"M17.41 7.96l-1.37-1.37c-.4-.4-.92-.59-1.43-.59-.52 0-1.04.2-1.43.59L10.3 9.45l-7.72 7.72c-.78.78-.78 2.05 0 2.83L4 21.41c.39.39.9.59 1.41.59.51 0 1.02-.2 1.41-.59l7.78-7.78 2.81-2.81c.8-.78.8-2.07 0-2.86zM5.41 20L4 18.59l7.72-7.72 1.47 1.35L5.41 20z\"/>\n",
              "  </svg>\n",
              "      </button>\n",
              "\n",
              "\n",
              "\n",
              "    <div id=\"df-7722b839-5609-4fa3-83f2-7f2879e4cadb\">\n",
              "      <button class=\"colab-df-quickchart\" onclick=\"quickchart('df-7722b839-5609-4fa3-83f2-7f2879e4cadb')\"\n",
              "              title=\"Suggest charts.\"\n",
              "              style=\"display:none;\">\n",
              "\n",
              "<svg xmlns=\"http://www.w3.org/2000/svg\" height=\"24px\"viewBox=\"0 0 24 24\"\n",
              "     width=\"24px\">\n",
              "    <g>\n",
              "        <path d=\"M19 3H5c-1.1 0-2 .9-2 2v14c0 1.1.9 2 2 2h14c1.1 0 2-.9 2-2V5c0-1.1-.9-2-2-2zM9 17H7v-7h2v7zm4 0h-2V7h2v10zm4 0h-2v-4h2v4z\"/>\n",
              "    </g>\n",
              "</svg>\n",
              "      </button>\n",
              "    </div>\n",
              "\n",
              "<style>\n",
              "  .colab-df-quickchart {\n",
              "    background-color: #E8F0FE;\n",
              "    border: none;\n",
              "    border-radius: 50%;\n",
              "    cursor: pointer;\n",
              "    display: none;\n",
              "    fill: #1967D2;\n",
              "    height: 32px;\n",
              "    padding: 0 0 0 0;\n",
              "    width: 32px;\n",
              "  }\n",
              "\n",
              "  .colab-df-quickchart:hover {\n",
              "    background-color: #E2EBFA;\n",
              "    box-shadow: 0px 1px 2px rgba(60, 64, 67, 0.3), 0px 1px 3px 1px rgba(60, 64, 67, 0.15);\n",
              "    fill: #174EA6;\n",
              "  }\n",
              "\n",
              "  [theme=dark] .colab-df-quickchart {\n",
              "    background-color: #3B4455;\n",
              "    fill: #D2E3FC;\n",
              "  }\n",
              "\n",
              "  [theme=dark] .colab-df-quickchart:hover {\n",
              "    background-color: #434B5C;\n",
              "    box-shadow: 0px 1px 3px 1px rgba(0, 0, 0, 0.15);\n",
              "    filter: drop-shadow(0px 1px 2px rgba(0, 0, 0, 0.3));\n",
              "    fill: #FFFFFF;\n",
              "  }\n",
              "</style>\n",
              "\n",
              "    <script>\n",
              "      async function quickchart(key) {\n",
              "        const containerElement = document.querySelector('#' + key);\n",
              "        const charts = await google.colab.kernel.invokeFunction(\n",
              "            'suggestCharts', [key], {});\n",
              "      }\n",
              "    </script>\n",
              "\n",
              "      <script>\n",
              "\n",
              "function displayQuickchartButton(domScope) {\n",
              "  let quickchartButtonEl =\n",
              "    domScope.querySelector('#df-7722b839-5609-4fa3-83f2-7f2879e4cadb button.colab-df-quickchart');\n",
              "  quickchartButtonEl.style.display =\n",
              "    google.colab.kernel.accessAllowed ? 'block' : 'none';\n",
              "}\n",
              "\n",
              "        displayQuickchartButton(document);\n",
              "      </script>\n",
              "      <style>\n",
              "    .colab-df-container {\n",
              "      display:flex;\n",
              "      flex-wrap:wrap;\n",
              "      gap: 12px;\n",
              "    }\n",
              "\n",
              "    .colab-df-convert {\n",
              "      background-color: #E8F0FE;\n",
              "      border: none;\n",
              "      border-radius: 50%;\n",
              "      cursor: pointer;\n",
              "      display: none;\n",
              "      fill: #1967D2;\n",
              "      height: 32px;\n",
              "      padding: 0 0 0 0;\n",
              "      width: 32px;\n",
              "    }\n",
              "\n",
              "    .colab-df-convert:hover {\n",
              "      background-color: #E2EBFA;\n",
              "      box-shadow: 0px 1px 2px rgba(60, 64, 67, 0.3), 0px 1px 3px 1px rgba(60, 64, 67, 0.15);\n",
              "      fill: #174EA6;\n",
              "    }\n",
              "\n",
              "    [theme=dark] .colab-df-convert {\n",
              "      background-color: #3B4455;\n",
              "      fill: #D2E3FC;\n",
              "    }\n",
              "\n",
              "    [theme=dark] .colab-df-convert:hover {\n",
              "      background-color: #434B5C;\n",
              "      box-shadow: 0px 1px 3px 1px rgba(0, 0, 0, 0.15);\n",
              "      filter: drop-shadow(0px 1px 2px rgba(0, 0, 0, 0.3));\n",
              "      fill: #FFFFFF;\n",
              "    }\n",
              "  </style>\n",
              "\n",
              "      <script>\n",
              "        const buttonEl =\n",
              "          document.querySelector('#df-5d599ebb-c864-4eb5-ae1a-3ce6def7867e button.colab-df-convert');\n",
              "        buttonEl.style.display =\n",
              "          google.colab.kernel.accessAllowed ? 'block' : 'none';\n",
              "\n",
              "        async function convertToInteractive(key) {\n",
              "          const element = document.querySelector('#df-5d599ebb-c864-4eb5-ae1a-3ce6def7867e');\n",
              "          const dataTable =\n",
              "            await google.colab.kernel.invokeFunction('convertToInteractive',\n",
              "                                                     [key], {});\n",
              "          if (!dataTable) return;\n",
              "\n",
              "          const docLinkHtml = 'Like what you see? Visit the ' +\n",
              "            '<a target=\"_blank\" href=https://colab.research.google.com/notebooks/data_table.ipynb>data table notebook</a>'\n",
              "            + ' to learn more about interactive tables.';\n",
              "          element.innerHTML = '';\n",
              "          dataTable['output_type'] = 'display_data';\n",
              "          await google.colab.output.renderOutput(dataTable, element);\n",
              "          const docLink = document.createElement('div');\n",
              "          docLink.innerHTML = docLinkHtml;\n",
              "          element.appendChild(docLink);\n",
              "        }\n",
              "      </script>\n",
              "    </div>\n",
              "  </div>\n"
            ]
          },
          "metadata": {},
          "execution_count": 319
        }
      ]
    },
    {
      "cell_type": "code",
      "source": [
        "import pandas as pd\n",
        "\n",
        "# Assuming you have already created the 'new_df' DataFrame as shown in the previous code\n",
        "# and filled NaN values with 0\n",
        "\n",
        "# Group the DataFrame by the 'cluster' column and count the occurrences of each cluster\n",
        "cluster_counts = new_df.groupby('cluster').count()\n",
        "\n",
        "# Get the counts for 'cluster1' and 'cluster2'\n",
        "count_cluster1 = cluster_counts.loc['cluster1', 'ID']\n",
        "count_cluster2 = cluster_counts.loc['cluster2', 'ID']\n",
        "count_cluster3 = cluster_counts.loc['cluster3', 'ID']\n",
        "count_cluster4 = cluster_counts.loc['cluster4', 'ID']\n",
        "count_cluster5 = cluster_counts.loc['cluster5', 'ID']\n",
        "count_cluster6 = cluster_counts.loc['cluster6', 'ID']\n",
        "count_cluster7 = cluster_counts.loc['cluster7', 'ID']\n",
        "\n",
        "# Get the summation of counts for 'cluster1' and 'cluster2'\n",
        "summation = count_cluster1 + count_cluster2+count_cluster3+count_cluster4 + count_cluster5+count_cluster6 + count_cluster7\n",
        "\n",
        "# Display the counts and the summation\n",
        "print(f\"Count in cluster1: {count_cluster1}\")\n",
        "print(f\"Count in cluster2: {count_cluster2}\")\n",
        "print(f\"Count in cluster3: {count_cluster3}\")\n",
        "print(f\"Count in cluster4: {count_cluster4}\")\n",
        "print(f\"Count in cluster5: {count_cluster5}\")\n",
        "print(f\"Count in cluster6: {count_cluster6}\")\n",
        "print(f\"Count in cluster7: {count_cluster7}\")\n",
        "print(f\"Summation: {summation}\")\n"
      ],
      "metadata": {
        "colab": {
          "base_uri": "https://localhost:8080/"
        },
        "id": "jBjk2t6fgZ5X",
        "outputId": "baab1248-fd9b-401e-b30a-26aa929048a3"
      },
      "execution_count": null,
      "outputs": [
        {
          "output_type": "stream",
          "name": "stdout",
          "text": [
            "Count in cluster1: 2\n",
            "Count in cluster2: 85\n",
            "Count in cluster3: 140\n",
            "Count in cluster4: 11\n",
            "Count in cluster5: 3\n",
            "Count in cluster6: 1\n",
            "Count in cluster7: 2\n",
            "Summation: 244\n"
          ]
        },
        {
          "output_type": "stream",
          "name": "stderr",
          "text": [
            "/usr/local/lib/python3.10/dist-packages/ipykernel/ipkernel.py:283: DeprecationWarning: `should_run_async` will not call `transform_cell` automatically in the future. Please pass the result to `transformed_cell` argument and any exception that happen during thetransform in `preprocessing_exc_tuple` in IPython 7.17 and above.\n",
            "  and should_run_async(code)\n"
          ]
        }
      ]
    },
    {
      "cell_type": "code",
      "source": [
        "from tqdm import tqdm\n",
        "\n",
        "# communities is a list of lists containing the IDs of each community\n",
        "# For example, communities = [['ID1', 'ID2', ...], ['ID3', 'ID4', ...], ...]\n",
        "\n",
        "# Create a dictionary to map community index to cluster name\n",
        "cluster_names = {idx: f'cluster{idx+1}' for idx, comm in enumerate(communities)}\n",
        "\n",
        "# Get the total number of records in new_df\n",
        "total_records = len(new_df)\n",
        "\n",
        "# Create a progress bar using tqdm\n",
        "progress_bar = tqdm(total=total_records, desc=\"Processing\", unit=\"record\", dynamic_ncols=True)\n",
        "treshold=1.6\n",
        "# Loop over new_df and update the 'cluster' column using the community names\n",
        "for index, row in new_df.iterrows():\n",
        "  if row['cluster']==0:\n",
        "    max_similarity = 0\n",
        "    max_cluster = None\n",
        "\n",
        "    # Calculate similarity for each cluster and find the cluster with the max similarity\n",
        "    for cluster_num, cluster_list in enumerate(communities):\n",
        "        for cluster_id in cluster_list:\n",
        "            # sim = similarity(row['ID'], cluster_id)\n",
        "            sim = combined_similarity(row['ID'], cluster_id, followers_dict, followings_dict, reply_dict, retweet_dict, mention_dict)\n",
        "\n",
        "            if sim > max_similarity:\n",
        "                max_similarity = sim\n",
        "                max_cluster = cluster_num\n",
        "\n",
        "    # If the max_cluster is not None, assign the corresponding cluster name to the 'cluster' column\n",
        "    if max_cluster!=0:\n",
        "      if max_similarity>treshold:\n",
        "        cluster_name = cluster_names[max_cluster]\n",
        "        new_df.at[index, 'cluster'] = cluster_name\n",
        "\n",
        "  # Update the progress bar for every 1000 records\n",
        "  if index % 1000 == 0:\n",
        "        progress_bar.update(1000)\n",
        "        progress_bar.set_description(f\"Processing ({index}/{total_records})\")\n",
        "        progress_bar.refresh()\n",
        "\n",
        "# Close the progress bar\n",
        "progress_bar.close()\n",
        "\n",
        "# Print the final dataframe\n",
        "new_df.head()"
      ],
      "metadata": {
        "colab": {
          "base_uri": "https://localhost:8080/",
          "height": 278
        },
        "id": "ZBlqsiztgZ2o",
        "outputId": "565ccfa7-fa2a-4c2a-a512-25f402d409f7"
      },
      "execution_count": null,
      "outputs": [
        {
          "output_type": "stream",
          "name": "stderr",
          "text": [
            "/usr/local/lib/python3.10/dist-packages/ipykernel/ipkernel.py:283: DeprecationWarning: `should_run_async` will not call `transform_cell` automatically in the future. Please pass the result to `transformed_cell` argument and any exception that happen during thetransform in `preprocessing_exc_tuple` in IPython 7.17 and above.\n",
            "  and should_run_async(code)\n",
            "Processing (45000/45756): : 46000record [01:59, 383.48record/s]\n"
          ]
        },
        {
          "output_type": "execute_result",
          "data": {
            "text/plain": [
              "   ID cluster\n",
              "0   1       0\n",
              "1   2       0\n",
              "2   3       0\n",
              "3   4       0\n",
              "4   5       0"
            ],
            "text/html": [
              "\n",
              "\n",
              "  <div id=\"df-db91c6c0-94da-4632-b046-4cbae7e860f4\">\n",
              "    <div class=\"colab-df-container\">\n",
              "      <div>\n",
              "<style scoped>\n",
              "    .dataframe tbody tr th:only-of-type {\n",
              "        vertical-align: middle;\n",
              "    }\n",
              "\n",
              "    .dataframe tbody tr th {\n",
              "        vertical-align: top;\n",
              "    }\n",
              "\n",
              "    .dataframe thead th {\n",
              "        text-align: right;\n",
              "    }\n",
              "</style>\n",
              "<table border=\"1\" class=\"dataframe\">\n",
              "  <thead>\n",
              "    <tr style=\"text-align: right;\">\n",
              "      <th></th>\n",
              "      <th>ID</th>\n",
              "      <th>cluster</th>\n",
              "    </tr>\n",
              "  </thead>\n",
              "  <tbody>\n",
              "    <tr>\n",
              "      <th>0</th>\n",
              "      <td>1</td>\n",
              "      <td>0</td>\n",
              "    </tr>\n",
              "    <tr>\n",
              "      <th>1</th>\n",
              "      <td>2</td>\n",
              "      <td>0</td>\n",
              "    </tr>\n",
              "    <tr>\n",
              "      <th>2</th>\n",
              "      <td>3</td>\n",
              "      <td>0</td>\n",
              "    </tr>\n",
              "    <tr>\n",
              "      <th>3</th>\n",
              "      <td>4</td>\n",
              "      <td>0</td>\n",
              "    </tr>\n",
              "    <tr>\n",
              "      <th>4</th>\n",
              "      <td>5</td>\n",
              "      <td>0</td>\n",
              "    </tr>\n",
              "  </tbody>\n",
              "</table>\n",
              "</div>\n",
              "      <button class=\"colab-df-convert\" onclick=\"convertToInteractive('df-db91c6c0-94da-4632-b046-4cbae7e860f4')\"\n",
              "              title=\"Convert this dataframe to an interactive table.\"\n",
              "              style=\"display:none;\">\n",
              "\n",
              "  <svg xmlns=\"http://www.w3.org/2000/svg\" height=\"24px\"viewBox=\"0 0 24 24\"\n",
              "       width=\"24px\">\n",
              "    <path d=\"M0 0h24v24H0V0z\" fill=\"none\"/>\n",
              "    <path d=\"M18.56 5.44l.94 2.06.94-2.06 2.06-.94-2.06-.94-.94-2.06-.94 2.06-2.06.94zm-11 1L8.5 8.5l.94-2.06 2.06-.94-2.06-.94L8.5 2.5l-.94 2.06-2.06.94zm10 10l.94 2.06.94-2.06 2.06-.94-2.06-.94-.94-2.06-.94 2.06-2.06.94z\"/><path d=\"M17.41 7.96l-1.37-1.37c-.4-.4-.92-.59-1.43-.59-.52 0-1.04.2-1.43.59L10.3 9.45l-7.72 7.72c-.78.78-.78 2.05 0 2.83L4 21.41c.39.39.9.59 1.41.59.51 0 1.02-.2 1.41-.59l7.78-7.78 2.81-2.81c.8-.78.8-2.07 0-2.86zM5.41 20L4 18.59l7.72-7.72 1.47 1.35L5.41 20z\"/>\n",
              "  </svg>\n",
              "      </button>\n",
              "\n",
              "\n",
              "\n",
              "    <div id=\"df-232af027-aab0-4dcc-9f2f-87929360f21e\">\n",
              "      <button class=\"colab-df-quickchart\" onclick=\"quickchart('df-232af027-aab0-4dcc-9f2f-87929360f21e')\"\n",
              "              title=\"Suggest charts.\"\n",
              "              style=\"display:none;\">\n",
              "\n",
              "<svg xmlns=\"http://www.w3.org/2000/svg\" height=\"24px\"viewBox=\"0 0 24 24\"\n",
              "     width=\"24px\">\n",
              "    <g>\n",
              "        <path d=\"M19 3H5c-1.1 0-2 .9-2 2v14c0 1.1.9 2 2 2h14c1.1 0 2-.9 2-2V5c0-1.1-.9-2-2-2zM9 17H7v-7h2v7zm4 0h-2V7h2v10zm4 0h-2v-4h2v4z\"/>\n",
              "    </g>\n",
              "</svg>\n",
              "      </button>\n",
              "    </div>\n",
              "\n",
              "<style>\n",
              "  .colab-df-quickchart {\n",
              "    background-color: #E8F0FE;\n",
              "    border: none;\n",
              "    border-radius: 50%;\n",
              "    cursor: pointer;\n",
              "    display: none;\n",
              "    fill: #1967D2;\n",
              "    height: 32px;\n",
              "    padding: 0 0 0 0;\n",
              "    width: 32px;\n",
              "  }\n",
              "\n",
              "  .colab-df-quickchart:hover {\n",
              "    background-color: #E2EBFA;\n",
              "    box-shadow: 0px 1px 2px rgba(60, 64, 67, 0.3), 0px 1px 3px 1px rgba(60, 64, 67, 0.15);\n",
              "    fill: #174EA6;\n",
              "  }\n",
              "\n",
              "  [theme=dark] .colab-df-quickchart {\n",
              "    background-color: #3B4455;\n",
              "    fill: #D2E3FC;\n",
              "  }\n",
              "\n",
              "  [theme=dark] .colab-df-quickchart:hover {\n",
              "    background-color: #434B5C;\n",
              "    box-shadow: 0px 1px 3px 1px rgba(0, 0, 0, 0.15);\n",
              "    filter: drop-shadow(0px 1px 2px rgba(0, 0, 0, 0.3));\n",
              "    fill: #FFFFFF;\n",
              "  }\n",
              "</style>\n",
              "\n",
              "    <script>\n",
              "      async function quickchart(key) {\n",
              "        const containerElement = document.querySelector('#' + key);\n",
              "        const charts = await google.colab.kernel.invokeFunction(\n",
              "            'suggestCharts', [key], {});\n",
              "      }\n",
              "    </script>\n",
              "\n",
              "      <script>\n",
              "\n",
              "function displayQuickchartButton(domScope) {\n",
              "  let quickchartButtonEl =\n",
              "    domScope.querySelector('#df-232af027-aab0-4dcc-9f2f-87929360f21e button.colab-df-quickchart');\n",
              "  quickchartButtonEl.style.display =\n",
              "    google.colab.kernel.accessAllowed ? 'block' : 'none';\n",
              "}\n",
              "\n",
              "        displayQuickchartButton(document);\n",
              "      </script>\n",
              "      <style>\n",
              "    .colab-df-container {\n",
              "      display:flex;\n",
              "      flex-wrap:wrap;\n",
              "      gap: 12px;\n",
              "    }\n",
              "\n",
              "    .colab-df-convert {\n",
              "      background-color: #E8F0FE;\n",
              "      border: none;\n",
              "      border-radius: 50%;\n",
              "      cursor: pointer;\n",
              "      display: none;\n",
              "      fill: #1967D2;\n",
              "      height: 32px;\n",
              "      padding: 0 0 0 0;\n",
              "      width: 32px;\n",
              "    }\n",
              "\n",
              "    .colab-df-convert:hover {\n",
              "      background-color: #E2EBFA;\n",
              "      box-shadow: 0px 1px 2px rgba(60, 64, 67, 0.3), 0px 1px 3px 1px rgba(60, 64, 67, 0.15);\n",
              "      fill: #174EA6;\n",
              "    }\n",
              "\n",
              "    [theme=dark] .colab-df-convert {\n",
              "      background-color: #3B4455;\n",
              "      fill: #D2E3FC;\n",
              "    }\n",
              "\n",
              "    [theme=dark] .colab-df-convert:hover {\n",
              "      background-color: #434B5C;\n",
              "      box-shadow: 0px 1px 3px 1px rgba(0, 0, 0, 0.15);\n",
              "      filter: drop-shadow(0px 1px 2px rgba(0, 0, 0, 0.3));\n",
              "      fill: #FFFFFF;\n",
              "    }\n",
              "  </style>\n",
              "\n",
              "      <script>\n",
              "        const buttonEl =\n",
              "          document.querySelector('#df-db91c6c0-94da-4632-b046-4cbae7e860f4 button.colab-df-convert');\n",
              "        buttonEl.style.display =\n",
              "          google.colab.kernel.accessAllowed ? 'block' : 'none';\n",
              "\n",
              "        async function convertToInteractive(key) {\n",
              "          const element = document.querySelector('#df-db91c6c0-94da-4632-b046-4cbae7e860f4');\n",
              "          const dataTable =\n",
              "            await google.colab.kernel.invokeFunction('convertToInteractive',\n",
              "                                                     [key], {});\n",
              "          if (!dataTable) return;\n",
              "\n",
              "          const docLinkHtml = 'Like what you see? Visit the ' +\n",
              "            '<a target=\"_blank\" href=https://colab.research.google.com/notebooks/data_table.ipynb>data table notebook</a>'\n",
              "            + ' to learn more about interactive tables.';\n",
              "          element.innerHTML = '';\n",
              "          dataTable['output_type'] = 'display_data';\n",
              "          await google.colab.output.renderOutput(dataTable, element);\n",
              "          const docLink = document.createElement('div');\n",
              "          docLink.innerHTML = docLinkHtml;\n",
              "          element.appendChild(docLink);\n",
              "        }\n",
              "      </script>\n",
              "    </div>\n",
              "  </div>\n"
            ]
          },
          "metadata": {},
          "execution_count": 321
        }
      ]
    },
    {
      "cell_type": "code",
      "source": [
        "import pandas as pd\n",
        "\n",
        "# Assuming you have already created the 'new_df' DataFrame as shown in the previous code\n",
        "# and filled NaN values with 0\n",
        "\n",
        "# Group the DataFrame by the 'cluster' column and count the occurrences of each cluster\n",
        "cluster_counts = new_df.groupby('cluster').count()\n",
        "\n",
        "# Get the counts for 'cluster1' and 'cluster2'\n",
        "count_cluster1 = cluster_counts.loc['cluster1', 'ID']\n",
        "count_cluster2 = cluster_counts.loc['cluster2', 'ID']\n",
        "count_cluster3 = cluster_counts.loc['cluster3', 'ID']\n",
        "count_cluster4 = cluster_counts.loc['cluster4', 'ID']\n",
        "count_cluster5 = cluster_counts.loc['cluster5', 'ID']\n",
        "count_cluster6 = cluster_counts.loc['cluster6', 'ID']\n",
        "count_cluster7 = cluster_counts.loc['cluster7', 'ID']\n",
        "\n",
        "# Get the summation of counts for 'cluster1' and 'cluster2'\n",
        "summation = count_cluster1 + count_cluster2+count_cluster3+count_cluster4 + count_cluster5+count_cluster6 + count_cluster7\n",
        "\n",
        "# Display the counts and the summation\n",
        "print(f\"Count in cluster1: {count_cluster1}\")\n",
        "print(f\"Count in cluster2: {count_cluster2}\")\n",
        "print(f\"Count in cluster3: {count_cluster3}\")\n",
        "print(f\"Count in cluster4: {count_cluster4}\")\n",
        "print(f\"Count in cluster5: {count_cluster5}\")\n",
        "print(f\"Count in cluster6: {count_cluster6}\")\n",
        "print(f\"Count in cluster7: {count_cluster7}\")\n",
        "print(f\"Summation: {summation}\")\n"
      ],
      "metadata": {
        "colab": {
          "base_uri": "https://localhost:8080/"
        },
        "id": "IYfLQTyogZ0V",
        "outputId": "351702e4-7c6d-4bab-d0a4-d10a7f8aba77"
      },
      "execution_count": null,
      "outputs": [
        {
          "output_type": "stream",
          "name": "stdout",
          "text": [
            "Count in cluster1: 2\n",
            "Count in cluster2: 117\n",
            "Count in cluster3: 207\n",
            "Count in cluster4: 13\n",
            "Count in cluster5: 3\n",
            "Count in cluster6: 1\n",
            "Count in cluster7: 2\n",
            "Summation: 345\n"
          ]
        },
        {
          "output_type": "stream",
          "name": "stderr",
          "text": [
            "/usr/local/lib/python3.10/dist-packages/ipykernel/ipkernel.py:283: DeprecationWarning: `should_run_async` will not call `transform_cell` automatically in the future. Please pass the result to `transformed_cell` argument and any exception that happen during thetransform in `preprocessing_exc_tuple` in IPython 7.17 and above.\n",
            "  and should_run_async(code)\n"
          ]
        }
      ]
    },
    {
      "cell_type": "code",
      "source": [
        "from tqdm import tqdm\n",
        "\n",
        "# communities is a list of lists containing the IDs of each community\n",
        "# For example, communities = [['ID1', 'ID2', ...], ['ID3', 'ID4', ...], ...]\n",
        "\n",
        "# Create a dictionary to map community index to cluster name\n",
        "cluster_names = {idx: f'cluster{idx+1}' for idx, comm in enumerate(communities)}\n",
        "\n",
        "# Get the total number of records in new_df\n",
        "total_records = len(new_df)\n",
        "\n",
        "# Create a progress bar using tqdm\n",
        "progress_bar = tqdm(total=total_records, desc=\"Processing\", unit=\"record\", dynamic_ncols=True)\n",
        "treshold=1.5\n",
        "# Loop over new_df and update the 'cluster' column using the community names\n",
        "for index, row in new_df.iterrows():\n",
        "  if row['cluster']==0:\n",
        "    max_similarity = 0\n",
        "    max_cluster = None\n",
        "\n",
        "    # Calculate similarity for each cluster and find the cluster with the max similarity\n",
        "    for cluster_num, cluster_list in enumerate(communities):\n",
        "        for cluster_id in cluster_list:\n",
        "            # sim = similarity(row['ID'], cluster_id)\n",
        "            sim = combined_similarity(row['ID'], cluster_id, followers_dict, followings_dict, reply_dict, retweet_dict, mention_dict)\n",
        "\n",
        "            if sim > max_similarity:\n",
        "                max_similarity = sim\n",
        "                max_cluster = cluster_num\n",
        "\n",
        "    # If the max_cluster is not None, assign the corresponding cluster name to the 'cluster' column\n",
        "    if max_cluster!=0:\n",
        "      if max_similarity>treshold:\n",
        "        cluster_name = cluster_names[max_cluster]\n",
        "        new_df.at[index, 'cluster'] = cluster_name\n",
        "\n",
        "  # Update the progress bar for every 1000 records\n",
        "  if index % 1000 == 0:\n",
        "        progress_bar.update(1000)\n",
        "        progress_bar.set_description(f\"Processing ({index}/{total_records})\")\n",
        "        progress_bar.refresh()\n",
        "\n",
        "# Close the progress bar\n",
        "progress_bar.close()\n",
        "\n",
        "# Print the final dataframe\n",
        "new_df.head()"
      ],
      "metadata": {
        "colab": {
          "base_uri": "https://localhost:8080/",
          "height": 278
        },
        "id": "Qg605cvegeoL",
        "outputId": "1d33e6d4-8a10-48cb-93ee-9f7edfd80287"
      },
      "execution_count": null,
      "outputs": [
        {
          "output_type": "stream",
          "name": "stderr",
          "text": [
            "/usr/local/lib/python3.10/dist-packages/ipykernel/ipkernel.py:283: DeprecationWarning: `should_run_async` will not call `transform_cell` automatically in the future. Please pass the result to `transformed_cell` argument and any exception that happen during thetransform in `preprocessing_exc_tuple` in IPython 7.17 and above.\n",
            "  and should_run_async(code)\n",
            "Processing (45000/45756): : 46000record [02:07, 359.84record/s]\n"
          ]
        },
        {
          "output_type": "execute_result",
          "data": {
            "text/plain": [
              "   ID cluster\n",
              "0   1       0\n",
              "1   2       0\n",
              "2   3       0\n",
              "3   4       0\n",
              "4   5       0"
            ],
            "text/html": [
              "\n",
              "\n",
              "  <div id=\"df-1b31cd0b-858d-4f9e-8841-41c00c315237\">\n",
              "    <div class=\"colab-df-container\">\n",
              "      <div>\n",
              "<style scoped>\n",
              "    .dataframe tbody tr th:only-of-type {\n",
              "        vertical-align: middle;\n",
              "    }\n",
              "\n",
              "    .dataframe tbody tr th {\n",
              "        vertical-align: top;\n",
              "    }\n",
              "\n",
              "    .dataframe thead th {\n",
              "        text-align: right;\n",
              "    }\n",
              "</style>\n",
              "<table border=\"1\" class=\"dataframe\">\n",
              "  <thead>\n",
              "    <tr style=\"text-align: right;\">\n",
              "      <th></th>\n",
              "      <th>ID</th>\n",
              "      <th>cluster</th>\n",
              "    </tr>\n",
              "  </thead>\n",
              "  <tbody>\n",
              "    <tr>\n",
              "      <th>0</th>\n",
              "      <td>1</td>\n",
              "      <td>0</td>\n",
              "    </tr>\n",
              "    <tr>\n",
              "      <th>1</th>\n",
              "      <td>2</td>\n",
              "      <td>0</td>\n",
              "    </tr>\n",
              "    <tr>\n",
              "      <th>2</th>\n",
              "      <td>3</td>\n",
              "      <td>0</td>\n",
              "    </tr>\n",
              "    <tr>\n",
              "      <th>3</th>\n",
              "      <td>4</td>\n",
              "      <td>0</td>\n",
              "    </tr>\n",
              "    <tr>\n",
              "      <th>4</th>\n",
              "      <td>5</td>\n",
              "      <td>0</td>\n",
              "    </tr>\n",
              "  </tbody>\n",
              "</table>\n",
              "</div>\n",
              "      <button class=\"colab-df-convert\" onclick=\"convertToInteractive('df-1b31cd0b-858d-4f9e-8841-41c00c315237')\"\n",
              "              title=\"Convert this dataframe to an interactive table.\"\n",
              "              style=\"display:none;\">\n",
              "\n",
              "  <svg xmlns=\"http://www.w3.org/2000/svg\" height=\"24px\"viewBox=\"0 0 24 24\"\n",
              "       width=\"24px\">\n",
              "    <path d=\"M0 0h24v24H0V0z\" fill=\"none\"/>\n",
              "    <path d=\"M18.56 5.44l.94 2.06.94-2.06 2.06-.94-2.06-.94-.94-2.06-.94 2.06-2.06.94zm-11 1L8.5 8.5l.94-2.06 2.06-.94-2.06-.94L8.5 2.5l-.94 2.06-2.06.94zm10 10l.94 2.06.94-2.06 2.06-.94-2.06-.94-.94-2.06-.94 2.06-2.06.94z\"/><path d=\"M17.41 7.96l-1.37-1.37c-.4-.4-.92-.59-1.43-.59-.52 0-1.04.2-1.43.59L10.3 9.45l-7.72 7.72c-.78.78-.78 2.05 0 2.83L4 21.41c.39.39.9.59 1.41.59.51 0 1.02-.2 1.41-.59l7.78-7.78 2.81-2.81c.8-.78.8-2.07 0-2.86zM5.41 20L4 18.59l7.72-7.72 1.47 1.35L5.41 20z\"/>\n",
              "  </svg>\n",
              "      </button>\n",
              "\n",
              "\n",
              "\n",
              "    <div id=\"df-8b79da9d-22f4-4924-b0a4-ed498ce7278a\">\n",
              "      <button class=\"colab-df-quickchart\" onclick=\"quickchart('df-8b79da9d-22f4-4924-b0a4-ed498ce7278a')\"\n",
              "              title=\"Suggest charts.\"\n",
              "              style=\"display:none;\">\n",
              "\n",
              "<svg xmlns=\"http://www.w3.org/2000/svg\" height=\"24px\"viewBox=\"0 0 24 24\"\n",
              "     width=\"24px\">\n",
              "    <g>\n",
              "        <path d=\"M19 3H5c-1.1 0-2 .9-2 2v14c0 1.1.9 2 2 2h14c1.1 0 2-.9 2-2V5c0-1.1-.9-2-2-2zM9 17H7v-7h2v7zm4 0h-2V7h2v10zm4 0h-2v-4h2v4z\"/>\n",
              "    </g>\n",
              "</svg>\n",
              "      </button>\n",
              "    </div>\n",
              "\n",
              "<style>\n",
              "  .colab-df-quickchart {\n",
              "    background-color: #E8F0FE;\n",
              "    border: none;\n",
              "    border-radius: 50%;\n",
              "    cursor: pointer;\n",
              "    display: none;\n",
              "    fill: #1967D2;\n",
              "    height: 32px;\n",
              "    padding: 0 0 0 0;\n",
              "    width: 32px;\n",
              "  }\n",
              "\n",
              "  .colab-df-quickchart:hover {\n",
              "    background-color: #E2EBFA;\n",
              "    box-shadow: 0px 1px 2px rgba(60, 64, 67, 0.3), 0px 1px 3px 1px rgba(60, 64, 67, 0.15);\n",
              "    fill: #174EA6;\n",
              "  }\n",
              "\n",
              "  [theme=dark] .colab-df-quickchart {\n",
              "    background-color: #3B4455;\n",
              "    fill: #D2E3FC;\n",
              "  }\n",
              "\n",
              "  [theme=dark] .colab-df-quickchart:hover {\n",
              "    background-color: #434B5C;\n",
              "    box-shadow: 0px 1px 3px 1px rgba(0, 0, 0, 0.15);\n",
              "    filter: drop-shadow(0px 1px 2px rgba(0, 0, 0, 0.3));\n",
              "    fill: #FFFFFF;\n",
              "  }\n",
              "</style>\n",
              "\n",
              "    <script>\n",
              "      async function quickchart(key) {\n",
              "        const containerElement = document.querySelector('#' + key);\n",
              "        const charts = await google.colab.kernel.invokeFunction(\n",
              "            'suggestCharts', [key], {});\n",
              "      }\n",
              "    </script>\n",
              "\n",
              "      <script>\n",
              "\n",
              "function displayQuickchartButton(domScope) {\n",
              "  let quickchartButtonEl =\n",
              "    domScope.querySelector('#df-8b79da9d-22f4-4924-b0a4-ed498ce7278a button.colab-df-quickchart');\n",
              "  quickchartButtonEl.style.display =\n",
              "    google.colab.kernel.accessAllowed ? 'block' : 'none';\n",
              "}\n",
              "\n",
              "        displayQuickchartButton(document);\n",
              "      </script>\n",
              "      <style>\n",
              "    .colab-df-container {\n",
              "      display:flex;\n",
              "      flex-wrap:wrap;\n",
              "      gap: 12px;\n",
              "    }\n",
              "\n",
              "    .colab-df-convert {\n",
              "      background-color: #E8F0FE;\n",
              "      border: none;\n",
              "      border-radius: 50%;\n",
              "      cursor: pointer;\n",
              "      display: none;\n",
              "      fill: #1967D2;\n",
              "      height: 32px;\n",
              "      padding: 0 0 0 0;\n",
              "      width: 32px;\n",
              "    }\n",
              "\n",
              "    .colab-df-convert:hover {\n",
              "      background-color: #E2EBFA;\n",
              "      box-shadow: 0px 1px 2px rgba(60, 64, 67, 0.3), 0px 1px 3px 1px rgba(60, 64, 67, 0.15);\n",
              "      fill: #174EA6;\n",
              "    }\n",
              "\n",
              "    [theme=dark] .colab-df-convert {\n",
              "      background-color: #3B4455;\n",
              "      fill: #D2E3FC;\n",
              "    }\n",
              "\n",
              "    [theme=dark] .colab-df-convert:hover {\n",
              "      background-color: #434B5C;\n",
              "      box-shadow: 0px 1px 3px 1px rgba(0, 0, 0, 0.15);\n",
              "      filter: drop-shadow(0px 1px 2px rgba(0, 0, 0, 0.3));\n",
              "      fill: #FFFFFF;\n",
              "    }\n",
              "  </style>\n",
              "\n",
              "      <script>\n",
              "        const buttonEl =\n",
              "          document.querySelector('#df-1b31cd0b-858d-4f9e-8841-41c00c315237 button.colab-df-convert');\n",
              "        buttonEl.style.display =\n",
              "          google.colab.kernel.accessAllowed ? 'block' : 'none';\n",
              "\n",
              "        async function convertToInteractive(key) {\n",
              "          const element = document.querySelector('#df-1b31cd0b-858d-4f9e-8841-41c00c315237');\n",
              "          const dataTable =\n",
              "            await google.colab.kernel.invokeFunction('convertToInteractive',\n",
              "                                                     [key], {});\n",
              "          if (!dataTable) return;\n",
              "\n",
              "          const docLinkHtml = 'Like what you see? Visit the ' +\n",
              "            '<a target=\"_blank\" href=https://colab.research.google.com/notebooks/data_table.ipynb>data table notebook</a>'\n",
              "            + ' to learn more about interactive tables.';\n",
              "          element.innerHTML = '';\n",
              "          dataTable['output_type'] = 'display_data';\n",
              "          await google.colab.output.renderOutput(dataTable, element);\n",
              "          const docLink = document.createElement('div');\n",
              "          docLink.innerHTML = docLinkHtml;\n",
              "          element.appendChild(docLink);\n",
              "        }\n",
              "      </script>\n",
              "    </div>\n",
              "  </div>\n"
            ]
          },
          "metadata": {},
          "execution_count": 323
        }
      ]
    },
    {
      "cell_type": "code",
      "source": [
        "import pandas as pd\n",
        "\n",
        "# Assuming you have already created the 'new_df' DataFrame as shown in the previous code\n",
        "# and filled NaN values with 0\n",
        "\n",
        "# Group the DataFrame by the 'cluster' column and count the occurrences of each cluster\n",
        "cluster_counts = new_df.groupby('cluster').count()\n",
        "\n",
        "# Get the counts for 'cluster1' and 'cluster2'\n",
        "count_cluster1 = cluster_counts.loc['cluster1', 'ID']\n",
        "count_cluster2 = cluster_counts.loc['cluster2', 'ID']\n",
        "count_cluster3 = cluster_counts.loc['cluster3', 'ID']\n",
        "count_cluster4 = cluster_counts.loc['cluster4', 'ID']\n",
        "count_cluster5 = cluster_counts.loc['cluster5', 'ID']\n",
        "count_cluster6 = cluster_counts.loc['cluster6', 'ID']\n",
        "count_cluster7 = cluster_counts.loc['cluster7', 'ID']\n",
        "\n",
        "# Get the summation of counts for 'cluster1' and 'cluster2'\n",
        "summation = count_cluster1 + count_cluster2+count_cluster3+count_cluster4 + count_cluster5+count_cluster6 + count_cluster7\n",
        "\n",
        "# Display the counts and the summation\n",
        "print(f\"Count in cluster1: {count_cluster1}\")\n",
        "print(f\"Count in cluster2: {count_cluster2}\")\n",
        "print(f\"Count in cluster3: {count_cluster3}\")\n",
        "print(f\"Count in cluster4: {count_cluster4}\")\n",
        "print(f\"Count in cluster5: {count_cluster5}\")\n",
        "print(f\"Count in cluster6: {count_cluster6}\")\n",
        "print(f\"Count in cluster7: {count_cluster7}\")\n",
        "print(f\"Summation: {summation}\")\n"
      ],
      "metadata": {
        "colab": {
          "base_uri": "https://localhost:8080/"
        },
        "id": "Zw8ZNUlUgelj",
        "outputId": "7c4049c7-ef89-4eda-c24f-cc847af14909"
      },
      "execution_count": null,
      "outputs": [
        {
          "output_type": "stream",
          "name": "stdout",
          "text": [
            "Count in cluster1: 2\n",
            "Count in cluster2: 165\n",
            "Count in cluster3: 301\n",
            "Count in cluster4: 13\n",
            "Count in cluster5: 3\n",
            "Count in cluster6: 4\n",
            "Count in cluster7: 2\n",
            "Summation: 490\n"
          ]
        },
        {
          "output_type": "stream",
          "name": "stderr",
          "text": [
            "/usr/local/lib/python3.10/dist-packages/ipykernel/ipkernel.py:283: DeprecationWarning: `should_run_async` will not call `transform_cell` automatically in the future. Please pass the result to `transformed_cell` argument and any exception that happen during thetransform in `preprocessing_exc_tuple` in IPython 7.17 and above.\n",
            "  and should_run_async(code)\n"
          ]
        }
      ]
    },
    {
      "cell_type": "code",
      "source": [
        "from tqdm import tqdm\n",
        "\n",
        "# communities is a list of lists containing the IDs of each community\n",
        "# For example, communities = [['ID1', 'ID2', ...], ['ID3', 'ID4', ...], ...]\n",
        "\n",
        "# Create a dictionary to map community index to cluster name\n",
        "cluster_names = {idx: f'cluster{idx+1}' for idx, comm in enumerate(communities)}\n",
        "\n",
        "# Get the total number of records in new_df\n",
        "total_records = len(new_df)\n",
        "\n",
        "# Create a progress bar using tqdm\n",
        "progress_bar = tqdm(total=total_records, desc=\"Processing\", unit=\"record\", dynamic_ncols=True)\n",
        "treshold=1.4\n",
        "# Loop over new_df and update the 'cluster' column using the community names\n",
        "for index, row in new_df.iterrows():\n",
        "  if row['cluster']==0:\n",
        "    max_similarity = 0\n",
        "    max_cluster = None\n",
        "\n",
        "    # Calculate similarity for each cluster and find the cluster with the max similarity\n",
        "    for cluster_num, cluster_list in enumerate(communities):\n",
        "        for cluster_id in cluster_list:\n",
        "            # sim = similarity(row['ID'], cluster_id)\n",
        "            sim = combined_similarity(row['ID'], cluster_id, followers_dict, followings_dict, reply_dict, retweet_dict, mention_dict)\n",
        "\n",
        "            if sim > max_similarity:\n",
        "                max_similarity = sim\n",
        "                max_cluster = cluster_num\n",
        "\n",
        "    # If the max_cluster is not None, assign the corresponding cluster name to the 'cluster' column\n",
        "    if max_cluster!=0:\n",
        "      if max_similarity>treshold:\n",
        "        cluster_name = cluster_names[max_cluster]\n",
        "        new_df.at[index, 'cluster'] = cluster_name\n",
        "\n",
        "  # Update the progress bar for every 1000 records\n",
        "  if index % 1000 == 0:\n",
        "        progress_bar.update(1000)\n",
        "        progress_bar.set_description(f\"Processing ({index}/{total_records})\")\n",
        "        progress_bar.refresh()\n",
        "\n",
        "# Close the progress bar\n",
        "progress_bar.close()\n",
        "\n",
        "# Print the final dataframe\n",
        "new_df.head()"
      ],
      "metadata": {
        "colab": {
          "base_uri": "https://localhost:8080/",
          "height": 278
        },
        "id": "jnlI6_y8geiy",
        "outputId": "ea998ffc-bcaa-45bc-cab9-9b31afe86cfc"
      },
      "execution_count": null,
      "outputs": [
        {
          "output_type": "stream",
          "name": "stderr",
          "text": [
            "/usr/local/lib/python3.10/dist-packages/ipykernel/ipkernel.py:283: DeprecationWarning: `should_run_async` will not call `transform_cell` automatically in the future. Please pass the result to `transformed_cell` argument and any exception that happen during thetransform in `preprocessing_exc_tuple` in IPython 7.17 and above.\n",
            "  and should_run_async(code)\n",
            "Processing (45000/45756): : 46000record [01:59, 385.39record/s]\n"
          ]
        },
        {
          "output_type": "execute_result",
          "data": {
            "text/plain": [
              "   ID cluster\n",
              "0   1       0\n",
              "1   2       0\n",
              "2   3       0\n",
              "3   4       0\n",
              "4   5       0"
            ],
            "text/html": [
              "\n",
              "\n",
              "  <div id=\"df-629e4ae7-69f1-43ee-ba5a-7a53f7d04fda\">\n",
              "    <div class=\"colab-df-container\">\n",
              "      <div>\n",
              "<style scoped>\n",
              "    .dataframe tbody tr th:only-of-type {\n",
              "        vertical-align: middle;\n",
              "    }\n",
              "\n",
              "    .dataframe tbody tr th {\n",
              "        vertical-align: top;\n",
              "    }\n",
              "\n",
              "    .dataframe thead th {\n",
              "        text-align: right;\n",
              "    }\n",
              "</style>\n",
              "<table border=\"1\" class=\"dataframe\">\n",
              "  <thead>\n",
              "    <tr style=\"text-align: right;\">\n",
              "      <th></th>\n",
              "      <th>ID</th>\n",
              "      <th>cluster</th>\n",
              "    </tr>\n",
              "  </thead>\n",
              "  <tbody>\n",
              "    <tr>\n",
              "      <th>0</th>\n",
              "      <td>1</td>\n",
              "      <td>0</td>\n",
              "    </tr>\n",
              "    <tr>\n",
              "      <th>1</th>\n",
              "      <td>2</td>\n",
              "      <td>0</td>\n",
              "    </tr>\n",
              "    <tr>\n",
              "      <th>2</th>\n",
              "      <td>3</td>\n",
              "      <td>0</td>\n",
              "    </tr>\n",
              "    <tr>\n",
              "      <th>3</th>\n",
              "      <td>4</td>\n",
              "      <td>0</td>\n",
              "    </tr>\n",
              "    <tr>\n",
              "      <th>4</th>\n",
              "      <td>5</td>\n",
              "      <td>0</td>\n",
              "    </tr>\n",
              "  </tbody>\n",
              "</table>\n",
              "</div>\n",
              "      <button class=\"colab-df-convert\" onclick=\"convertToInteractive('df-629e4ae7-69f1-43ee-ba5a-7a53f7d04fda')\"\n",
              "              title=\"Convert this dataframe to an interactive table.\"\n",
              "              style=\"display:none;\">\n",
              "\n",
              "  <svg xmlns=\"http://www.w3.org/2000/svg\" height=\"24px\"viewBox=\"0 0 24 24\"\n",
              "       width=\"24px\">\n",
              "    <path d=\"M0 0h24v24H0V0z\" fill=\"none\"/>\n",
              "    <path d=\"M18.56 5.44l.94 2.06.94-2.06 2.06-.94-2.06-.94-.94-2.06-.94 2.06-2.06.94zm-11 1L8.5 8.5l.94-2.06 2.06-.94-2.06-.94L8.5 2.5l-.94 2.06-2.06.94zm10 10l.94 2.06.94-2.06 2.06-.94-2.06-.94-.94-2.06-.94 2.06-2.06.94z\"/><path d=\"M17.41 7.96l-1.37-1.37c-.4-.4-.92-.59-1.43-.59-.52 0-1.04.2-1.43.59L10.3 9.45l-7.72 7.72c-.78.78-.78 2.05 0 2.83L4 21.41c.39.39.9.59 1.41.59.51 0 1.02-.2 1.41-.59l7.78-7.78 2.81-2.81c.8-.78.8-2.07 0-2.86zM5.41 20L4 18.59l7.72-7.72 1.47 1.35L5.41 20z\"/>\n",
              "  </svg>\n",
              "      </button>\n",
              "\n",
              "\n",
              "\n",
              "    <div id=\"df-86503f52-dc8c-420c-bf83-3fae82cfa761\">\n",
              "      <button class=\"colab-df-quickchart\" onclick=\"quickchart('df-86503f52-dc8c-420c-bf83-3fae82cfa761')\"\n",
              "              title=\"Suggest charts.\"\n",
              "              style=\"display:none;\">\n",
              "\n",
              "<svg xmlns=\"http://www.w3.org/2000/svg\" height=\"24px\"viewBox=\"0 0 24 24\"\n",
              "     width=\"24px\">\n",
              "    <g>\n",
              "        <path d=\"M19 3H5c-1.1 0-2 .9-2 2v14c0 1.1.9 2 2 2h14c1.1 0 2-.9 2-2V5c0-1.1-.9-2-2-2zM9 17H7v-7h2v7zm4 0h-2V7h2v10zm4 0h-2v-4h2v4z\"/>\n",
              "    </g>\n",
              "</svg>\n",
              "      </button>\n",
              "    </div>\n",
              "\n",
              "<style>\n",
              "  .colab-df-quickchart {\n",
              "    background-color: #E8F0FE;\n",
              "    border: none;\n",
              "    border-radius: 50%;\n",
              "    cursor: pointer;\n",
              "    display: none;\n",
              "    fill: #1967D2;\n",
              "    height: 32px;\n",
              "    padding: 0 0 0 0;\n",
              "    width: 32px;\n",
              "  }\n",
              "\n",
              "  .colab-df-quickchart:hover {\n",
              "    background-color: #E2EBFA;\n",
              "    box-shadow: 0px 1px 2px rgba(60, 64, 67, 0.3), 0px 1px 3px 1px rgba(60, 64, 67, 0.15);\n",
              "    fill: #174EA6;\n",
              "  }\n",
              "\n",
              "  [theme=dark] .colab-df-quickchart {\n",
              "    background-color: #3B4455;\n",
              "    fill: #D2E3FC;\n",
              "  }\n",
              "\n",
              "  [theme=dark] .colab-df-quickchart:hover {\n",
              "    background-color: #434B5C;\n",
              "    box-shadow: 0px 1px 3px 1px rgba(0, 0, 0, 0.15);\n",
              "    filter: drop-shadow(0px 1px 2px rgba(0, 0, 0, 0.3));\n",
              "    fill: #FFFFFF;\n",
              "  }\n",
              "</style>\n",
              "\n",
              "    <script>\n",
              "      async function quickchart(key) {\n",
              "        const containerElement = document.querySelector('#' + key);\n",
              "        const charts = await google.colab.kernel.invokeFunction(\n",
              "            'suggestCharts', [key], {});\n",
              "      }\n",
              "    </script>\n",
              "\n",
              "      <script>\n",
              "\n",
              "function displayQuickchartButton(domScope) {\n",
              "  let quickchartButtonEl =\n",
              "    domScope.querySelector('#df-86503f52-dc8c-420c-bf83-3fae82cfa761 button.colab-df-quickchart');\n",
              "  quickchartButtonEl.style.display =\n",
              "    google.colab.kernel.accessAllowed ? 'block' : 'none';\n",
              "}\n",
              "\n",
              "        displayQuickchartButton(document);\n",
              "      </script>\n",
              "      <style>\n",
              "    .colab-df-container {\n",
              "      display:flex;\n",
              "      flex-wrap:wrap;\n",
              "      gap: 12px;\n",
              "    }\n",
              "\n",
              "    .colab-df-convert {\n",
              "      background-color: #E8F0FE;\n",
              "      border: none;\n",
              "      border-radius: 50%;\n",
              "      cursor: pointer;\n",
              "      display: none;\n",
              "      fill: #1967D2;\n",
              "      height: 32px;\n",
              "      padding: 0 0 0 0;\n",
              "      width: 32px;\n",
              "    }\n",
              "\n",
              "    .colab-df-convert:hover {\n",
              "      background-color: #E2EBFA;\n",
              "      box-shadow: 0px 1px 2px rgba(60, 64, 67, 0.3), 0px 1px 3px 1px rgba(60, 64, 67, 0.15);\n",
              "      fill: #174EA6;\n",
              "    }\n",
              "\n",
              "    [theme=dark] .colab-df-convert {\n",
              "      background-color: #3B4455;\n",
              "      fill: #D2E3FC;\n",
              "    }\n",
              "\n",
              "    [theme=dark] .colab-df-convert:hover {\n",
              "      background-color: #434B5C;\n",
              "      box-shadow: 0px 1px 3px 1px rgba(0, 0, 0, 0.15);\n",
              "      filter: drop-shadow(0px 1px 2px rgba(0, 0, 0, 0.3));\n",
              "      fill: #FFFFFF;\n",
              "    }\n",
              "  </style>\n",
              "\n",
              "      <script>\n",
              "        const buttonEl =\n",
              "          document.querySelector('#df-629e4ae7-69f1-43ee-ba5a-7a53f7d04fda button.colab-df-convert');\n",
              "        buttonEl.style.display =\n",
              "          google.colab.kernel.accessAllowed ? 'block' : 'none';\n",
              "\n",
              "        async function convertToInteractive(key) {\n",
              "          const element = document.querySelector('#df-629e4ae7-69f1-43ee-ba5a-7a53f7d04fda');\n",
              "          const dataTable =\n",
              "            await google.colab.kernel.invokeFunction('convertToInteractive',\n",
              "                                                     [key], {});\n",
              "          if (!dataTable) return;\n",
              "\n",
              "          const docLinkHtml = 'Like what you see? Visit the ' +\n",
              "            '<a target=\"_blank\" href=https://colab.research.google.com/notebooks/data_table.ipynb>data table notebook</a>'\n",
              "            + ' to learn more about interactive tables.';\n",
              "          element.innerHTML = '';\n",
              "          dataTable['output_type'] = 'display_data';\n",
              "          await google.colab.output.renderOutput(dataTable, element);\n",
              "          const docLink = document.createElement('div');\n",
              "          docLink.innerHTML = docLinkHtml;\n",
              "          element.appendChild(docLink);\n",
              "        }\n",
              "      </script>\n",
              "    </div>\n",
              "  </div>\n"
            ]
          },
          "metadata": {},
          "execution_count": 325
        }
      ]
    },
    {
      "cell_type": "code",
      "source": [
        "import pandas as pd\n",
        "\n",
        "# Assuming you have already created the 'new_df' DataFrame as shown in the previous code\n",
        "# and filled NaN values with 0\n",
        "\n",
        "# Group the DataFrame by the 'cluster' column and count the occurrences of each cluster\n",
        "cluster_counts = new_df.groupby('cluster').count()\n",
        "\n",
        "# Get the counts for 'cluster1' and 'cluster2'\n",
        "count_cluster1 = cluster_counts.loc['cluster1', 'ID']\n",
        "count_cluster2 = cluster_counts.loc['cluster2', 'ID']\n",
        "count_cluster3 = cluster_counts.loc['cluster3', 'ID']\n",
        "count_cluster4 = cluster_counts.loc['cluster4', 'ID']\n",
        "count_cluster5 = cluster_counts.loc['cluster5', 'ID']\n",
        "count_cluster6 = cluster_counts.loc['cluster6', 'ID']\n",
        "count_cluster7 = cluster_counts.loc['cluster7', 'ID']\n",
        "\n",
        "# Get the summation of counts for 'cluster1' and 'cluster2'\n",
        "summation = count_cluster1 + count_cluster2+count_cluster3+count_cluster4 + count_cluster5+count_cluster6 + count_cluster7\n",
        "\n",
        "# Display the counts and the summation\n",
        "print(f\"Count in cluster1: {count_cluster1}\")\n",
        "print(f\"Count in cluster2: {count_cluster2}\")\n",
        "print(f\"Count in cluster3: {count_cluster3}\")\n",
        "print(f\"Count in cluster4: {count_cluster4}\")\n",
        "print(f\"Count in cluster5: {count_cluster5}\")\n",
        "print(f\"Count in cluster6: {count_cluster6}\")\n",
        "print(f\"Count in cluster7: {count_cluster7}\")\n",
        "print(f\"Summation: {summation}\")\n"
      ],
      "metadata": {
        "colab": {
          "base_uri": "https://localhost:8080/"
        },
        "id": "EquEY_SFgZxZ",
        "outputId": "ea5cdf18-1149-487f-d7f9-ebc5c1580543"
      },
      "execution_count": null,
      "outputs": [
        {
          "output_type": "stream",
          "name": "stdout",
          "text": [
            "Count in cluster1: 2\n",
            "Count in cluster2: 208\n",
            "Count in cluster3: 422\n",
            "Count in cluster4: 16\n",
            "Count in cluster5: 4\n",
            "Count in cluster6: 4\n",
            "Count in cluster7: 5\n",
            "Summation: 661\n"
          ]
        },
        {
          "output_type": "stream",
          "name": "stderr",
          "text": [
            "/usr/local/lib/python3.10/dist-packages/ipykernel/ipkernel.py:283: DeprecationWarning: `should_run_async` will not call `transform_cell` automatically in the future. Please pass the result to `transformed_cell` argument and any exception that happen during thetransform in `preprocessing_exc_tuple` in IPython 7.17 and above.\n",
            "  and should_run_async(code)\n"
          ]
        }
      ]
    },
    {
      "cell_type": "code",
      "source": [
        "from tqdm import tqdm\n",
        "\n",
        "# communities is a list of lists containing the IDs of each community\n",
        "# For example, communities = [['ID1', 'ID2', ...], ['ID3', 'ID4', ...], ...]\n",
        "\n",
        "# Create a dictionary to map community index to cluster name\n",
        "cluster_names = {idx: f'cluster{idx+1}' for idx, comm in enumerate(communities)}\n",
        "\n",
        "# Get the total number of records in new_df\n",
        "total_records = len(new_df)\n",
        "\n",
        "# Create a progress bar using tqdm\n",
        "progress_bar = tqdm(total=total_records, desc=\"Processing\", unit=\"record\", dynamic_ncols=True)\n",
        "treshold=1.3\n",
        "# Loop over new_df and update the 'cluster' column using the community names\n",
        "for index, row in new_df.iterrows():\n",
        "  if row['cluster']==0:\n",
        "    max_similarity = 0\n",
        "    max_cluster = None\n",
        "\n",
        "    # Calculate similarity for each cluster and find the cluster with the max similarity\n",
        "    for cluster_num, cluster_list in enumerate(communities):\n",
        "        for cluster_id in cluster_list:\n",
        "            # sim = similarity(row['ID'], cluster_id)\n",
        "            sim = combined_similarity(row['ID'], cluster_id, followers_dict, followings_dict, reply_dict, retweet_dict, mention_dict)\n",
        "\n",
        "            if sim > max_similarity:\n",
        "                max_similarity = sim\n",
        "                max_cluster = cluster_num\n",
        "\n",
        "    # If the max_cluster is not None, assign the corresponding cluster name to the 'cluster' column\n",
        "    if max_cluster!=0:\n",
        "      if max_similarity>treshold:\n",
        "        cluster_name = cluster_names[max_cluster]\n",
        "        new_df.at[index, 'cluster'] = cluster_name\n",
        "\n",
        "  # Update the progress bar for every 1000 records\n",
        "  if index % 1000 == 0:\n",
        "        progress_bar.update(1000)\n",
        "        progress_bar.set_description(f\"Processing ({index}/{total_records})\")\n",
        "        progress_bar.refresh()\n",
        "\n",
        "# Close the progress bar\n",
        "progress_bar.close()\n",
        "\n",
        "# Print the final dataframe\n",
        "new_df.head()"
      ],
      "metadata": {
        "colab": {
          "base_uri": "https://localhost:8080/",
          "height": 278
        },
        "id": "c_D5QwUWgZuo",
        "outputId": "de550125-e940-403d-89fb-527955475a43"
      },
      "execution_count": null,
      "outputs": [
        {
          "output_type": "stream",
          "name": "stderr",
          "text": [
            "/usr/local/lib/python3.10/dist-packages/ipykernel/ipkernel.py:283: DeprecationWarning: `should_run_async` will not call `transform_cell` automatically in the future. Please pass the result to `transformed_cell` argument and any exception that happen during thetransform in `preprocessing_exc_tuple` in IPython 7.17 and above.\n",
            "  and should_run_async(code)\n",
            "Processing (45000/45756): : 46000record [02:22, 322.55record/s]\n"
          ]
        },
        {
          "output_type": "execute_result",
          "data": {
            "text/plain": [
              "   ID cluster\n",
              "0   1       0\n",
              "1   2       0\n",
              "2   3       0\n",
              "3   4       0\n",
              "4   5       0"
            ],
            "text/html": [
              "\n",
              "\n",
              "  <div id=\"df-45183a76-e807-4eb9-8ce3-539d45d3088a\">\n",
              "    <div class=\"colab-df-container\">\n",
              "      <div>\n",
              "<style scoped>\n",
              "    .dataframe tbody tr th:only-of-type {\n",
              "        vertical-align: middle;\n",
              "    }\n",
              "\n",
              "    .dataframe tbody tr th {\n",
              "        vertical-align: top;\n",
              "    }\n",
              "\n",
              "    .dataframe thead th {\n",
              "        text-align: right;\n",
              "    }\n",
              "</style>\n",
              "<table border=\"1\" class=\"dataframe\">\n",
              "  <thead>\n",
              "    <tr style=\"text-align: right;\">\n",
              "      <th></th>\n",
              "      <th>ID</th>\n",
              "      <th>cluster</th>\n",
              "    </tr>\n",
              "  </thead>\n",
              "  <tbody>\n",
              "    <tr>\n",
              "      <th>0</th>\n",
              "      <td>1</td>\n",
              "      <td>0</td>\n",
              "    </tr>\n",
              "    <tr>\n",
              "      <th>1</th>\n",
              "      <td>2</td>\n",
              "      <td>0</td>\n",
              "    </tr>\n",
              "    <tr>\n",
              "      <th>2</th>\n",
              "      <td>3</td>\n",
              "      <td>0</td>\n",
              "    </tr>\n",
              "    <tr>\n",
              "      <th>3</th>\n",
              "      <td>4</td>\n",
              "      <td>0</td>\n",
              "    </tr>\n",
              "    <tr>\n",
              "      <th>4</th>\n",
              "      <td>5</td>\n",
              "      <td>0</td>\n",
              "    </tr>\n",
              "  </tbody>\n",
              "</table>\n",
              "</div>\n",
              "      <button class=\"colab-df-convert\" onclick=\"convertToInteractive('df-45183a76-e807-4eb9-8ce3-539d45d3088a')\"\n",
              "              title=\"Convert this dataframe to an interactive table.\"\n",
              "              style=\"display:none;\">\n",
              "\n",
              "  <svg xmlns=\"http://www.w3.org/2000/svg\" height=\"24px\"viewBox=\"0 0 24 24\"\n",
              "       width=\"24px\">\n",
              "    <path d=\"M0 0h24v24H0V0z\" fill=\"none\"/>\n",
              "    <path d=\"M18.56 5.44l.94 2.06.94-2.06 2.06-.94-2.06-.94-.94-2.06-.94 2.06-2.06.94zm-11 1L8.5 8.5l.94-2.06 2.06-.94-2.06-.94L8.5 2.5l-.94 2.06-2.06.94zm10 10l.94 2.06.94-2.06 2.06-.94-2.06-.94-.94-2.06-.94 2.06-2.06.94z\"/><path d=\"M17.41 7.96l-1.37-1.37c-.4-.4-.92-.59-1.43-.59-.52 0-1.04.2-1.43.59L10.3 9.45l-7.72 7.72c-.78.78-.78 2.05 0 2.83L4 21.41c.39.39.9.59 1.41.59.51 0 1.02-.2 1.41-.59l7.78-7.78 2.81-2.81c.8-.78.8-2.07 0-2.86zM5.41 20L4 18.59l7.72-7.72 1.47 1.35L5.41 20z\"/>\n",
              "  </svg>\n",
              "      </button>\n",
              "\n",
              "\n",
              "\n",
              "    <div id=\"df-6e9f54ee-5ff1-4167-845c-59df337ae332\">\n",
              "      <button class=\"colab-df-quickchart\" onclick=\"quickchart('df-6e9f54ee-5ff1-4167-845c-59df337ae332')\"\n",
              "              title=\"Suggest charts.\"\n",
              "              style=\"display:none;\">\n",
              "\n",
              "<svg xmlns=\"http://www.w3.org/2000/svg\" height=\"24px\"viewBox=\"0 0 24 24\"\n",
              "     width=\"24px\">\n",
              "    <g>\n",
              "        <path d=\"M19 3H5c-1.1 0-2 .9-2 2v14c0 1.1.9 2 2 2h14c1.1 0 2-.9 2-2V5c0-1.1-.9-2-2-2zM9 17H7v-7h2v7zm4 0h-2V7h2v10zm4 0h-2v-4h2v4z\"/>\n",
              "    </g>\n",
              "</svg>\n",
              "      </button>\n",
              "    </div>\n",
              "\n",
              "<style>\n",
              "  .colab-df-quickchart {\n",
              "    background-color: #E8F0FE;\n",
              "    border: none;\n",
              "    border-radius: 50%;\n",
              "    cursor: pointer;\n",
              "    display: none;\n",
              "    fill: #1967D2;\n",
              "    height: 32px;\n",
              "    padding: 0 0 0 0;\n",
              "    width: 32px;\n",
              "  }\n",
              "\n",
              "  .colab-df-quickchart:hover {\n",
              "    background-color: #E2EBFA;\n",
              "    box-shadow: 0px 1px 2px rgba(60, 64, 67, 0.3), 0px 1px 3px 1px rgba(60, 64, 67, 0.15);\n",
              "    fill: #174EA6;\n",
              "  }\n",
              "\n",
              "  [theme=dark] .colab-df-quickchart {\n",
              "    background-color: #3B4455;\n",
              "    fill: #D2E3FC;\n",
              "  }\n",
              "\n",
              "  [theme=dark] .colab-df-quickchart:hover {\n",
              "    background-color: #434B5C;\n",
              "    box-shadow: 0px 1px 3px 1px rgba(0, 0, 0, 0.15);\n",
              "    filter: drop-shadow(0px 1px 2px rgba(0, 0, 0, 0.3));\n",
              "    fill: #FFFFFF;\n",
              "  }\n",
              "</style>\n",
              "\n",
              "    <script>\n",
              "      async function quickchart(key) {\n",
              "        const containerElement = document.querySelector('#' + key);\n",
              "        const charts = await google.colab.kernel.invokeFunction(\n",
              "            'suggestCharts', [key], {});\n",
              "      }\n",
              "    </script>\n",
              "\n",
              "      <script>\n",
              "\n",
              "function displayQuickchartButton(domScope) {\n",
              "  let quickchartButtonEl =\n",
              "    domScope.querySelector('#df-6e9f54ee-5ff1-4167-845c-59df337ae332 button.colab-df-quickchart');\n",
              "  quickchartButtonEl.style.display =\n",
              "    google.colab.kernel.accessAllowed ? 'block' : 'none';\n",
              "}\n",
              "\n",
              "        displayQuickchartButton(document);\n",
              "      </script>\n",
              "      <style>\n",
              "    .colab-df-container {\n",
              "      display:flex;\n",
              "      flex-wrap:wrap;\n",
              "      gap: 12px;\n",
              "    }\n",
              "\n",
              "    .colab-df-convert {\n",
              "      background-color: #E8F0FE;\n",
              "      border: none;\n",
              "      border-radius: 50%;\n",
              "      cursor: pointer;\n",
              "      display: none;\n",
              "      fill: #1967D2;\n",
              "      height: 32px;\n",
              "      padding: 0 0 0 0;\n",
              "      width: 32px;\n",
              "    }\n",
              "\n",
              "    .colab-df-convert:hover {\n",
              "      background-color: #E2EBFA;\n",
              "      box-shadow: 0px 1px 2px rgba(60, 64, 67, 0.3), 0px 1px 3px 1px rgba(60, 64, 67, 0.15);\n",
              "      fill: #174EA6;\n",
              "    }\n",
              "\n",
              "    [theme=dark] .colab-df-convert {\n",
              "      background-color: #3B4455;\n",
              "      fill: #D2E3FC;\n",
              "    }\n",
              "\n",
              "    [theme=dark] .colab-df-convert:hover {\n",
              "      background-color: #434B5C;\n",
              "      box-shadow: 0px 1px 3px 1px rgba(0, 0, 0, 0.15);\n",
              "      filter: drop-shadow(0px 1px 2px rgba(0, 0, 0, 0.3));\n",
              "      fill: #FFFFFF;\n",
              "    }\n",
              "  </style>\n",
              "\n",
              "      <script>\n",
              "        const buttonEl =\n",
              "          document.querySelector('#df-45183a76-e807-4eb9-8ce3-539d45d3088a button.colab-df-convert');\n",
              "        buttonEl.style.display =\n",
              "          google.colab.kernel.accessAllowed ? 'block' : 'none';\n",
              "\n",
              "        async function convertToInteractive(key) {\n",
              "          const element = document.querySelector('#df-45183a76-e807-4eb9-8ce3-539d45d3088a');\n",
              "          const dataTable =\n",
              "            await google.colab.kernel.invokeFunction('convertToInteractive',\n",
              "                                                     [key], {});\n",
              "          if (!dataTable) return;\n",
              "\n",
              "          const docLinkHtml = 'Like what you see? Visit the ' +\n",
              "            '<a target=\"_blank\" href=https://colab.research.google.com/notebooks/data_table.ipynb>data table notebook</a>'\n",
              "            + ' to learn more about interactive tables.';\n",
              "          element.innerHTML = '';\n",
              "          dataTable['output_type'] = 'display_data';\n",
              "          await google.colab.output.renderOutput(dataTable, element);\n",
              "          const docLink = document.createElement('div');\n",
              "          docLink.innerHTML = docLinkHtml;\n",
              "          element.appendChild(docLink);\n",
              "        }\n",
              "      </script>\n",
              "    </div>\n",
              "  </div>\n"
            ]
          },
          "metadata": {},
          "execution_count": 327
        }
      ]
    },
    {
      "cell_type": "code",
      "source": [
        "import pandas as pd\n",
        "\n",
        "# Assuming you have already created the 'new_df' DataFrame as shown in the previous code\n",
        "# and filled NaN values with 0\n",
        "\n",
        "# Group the DataFrame by the 'cluster' column and count the occurrences of each cluster\n",
        "cluster_counts = new_df.groupby('cluster').count()\n",
        "\n",
        "# Get the counts for 'cluster1' and 'cluster2'\n",
        "count_cluster1 = cluster_counts.loc['cluster1', 'ID']\n",
        "count_cluster2 = cluster_counts.loc['cluster2', 'ID']\n",
        "count_cluster3 = cluster_counts.loc['cluster3', 'ID']\n",
        "count_cluster4 = cluster_counts.loc['cluster4', 'ID']\n",
        "count_cluster5 = cluster_counts.loc['cluster5', 'ID']\n",
        "count_cluster6 = cluster_counts.loc['cluster6', 'ID']\n",
        "count_cluster7 = cluster_counts.loc['cluster7', 'ID']\n",
        "\n",
        "# Get the summation of counts for 'cluster1' and 'cluster2'\n",
        "summation = count_cluster1 + count_cluster2+count_cluster3+count_cluster4 + count_cluster5+count_cluster6 + count_cluster7\n",
        "\n",
        "# Display the counts and the summation\n",
        "print(f\"Count in cluster1: {count_cluster1}\")\n",
        "print(f\"Count in cluster2: {count_cluster2}\")\n",
        "print(f\"Count in cluster3: {count_cluster3}\")\n",
        "print(f\"Count in cluster4: {count_cluster4}\")\n",
        "print(f\"Count in cluster5: {count_cluster5}\")\n",
        "print(f\"Count in cluster6: {count_cluster6}\")\n",
        "print(f\"Count in cluster7: {count_cluster7}\")\n",
        "print(f\"Summation: {summation}\")\n"
      ],
      "metadata": {
        "colab": {
          "base_uri": "https://localhost:8080/"
        },
        "id": "nPuPjorQgZrW",
        "outputId": "ad639ec8-2c47-450e-f00e-9191b8f8a6f5"
      },
      "execution_count": null,
      "outputs": [
        {
          "output_type": "stream",
          "name": "stdout",
          "text": [
            "Count in cluster1: 2\n",
            "Count in cluster2: 270\n",
            "Count in cluster3: 583\n",
            "Count in cluster4: 21\n",
            "Count in cluster5: 6\n",
            "Count in cluster6: 10\n",
            "Count in cluster7: 9\n",
            "Summation: 901\n"
          ]
        },
        {
          "output_type": "stream",
          "name": "stderr",
          "text": [
            "/usr/local/lib/python3.10/dist-packages/ipykernel/ipkernel.py:283: DeprecationWarning: `should_run_async` will not call `transform_cell` automatically in the future. Please pass the result to `transformed_cell` argument and any exception that happen during thetransform in `preprocessing_exc_tuple` in IPython 7.17 and above.\n",
            "  and should_run_async(code)\n"
          ]
        }
      ]
    },
    {
      "cell_type": "code",
      "source": [
        "from tqdm import tqdm\n",
        "\n",
        "# communities is a list of lists containing the IDs of each community\n",
        "# For example, communities = [['ID1', 'ID2', ...], ['ID3', 'ID4', ...], ...]\n",
        "\n",
        "# Create a dictionary to map community index to cluster name\n",
        "cluster_names = {idx: f'cluster{idx+1}' for idx, comm in enumerate(communities)}\n",
        "\n",
        "# Get the total number of records in new_df\n",
        "total_records = len(new_df)\n",
        "\n",
        "# Create a progress bar using tqdm\n",
        "progress_bar = tqdm(total=total_records, desc=\"Processing\", unit=\"record\", dynamic_ncols=True)\n",
        "treshold=1\n",
        "# Loop over new_df and update the 'cluster' column using the community names\n",
        "for index, row in new_df.iterrows():\n",
        "  if row['cluster']==0:\n",
        "    max_similarity = 0\n",
        "    max_cluster = None\n",
        "\n",
        "    # Calculate similarity for each cluster and find the cluster with the max similarity\n",
        "    for cluster_num, cluster_list in enumerate(communities):\n",
        "        for cluster_id in cluster_list:\n",
        "            # sim = similarity(row['ID'], cluster_id)\n",
        "            sim = combined_similarity(row['ID'], cluster_id, followers_dict, followings_dict, reply_dict, retweet_dict, mention_dict)\n",
        "\n",
        "            if sim > max_similarity:\n",
        "                max_similarity = sim\n",
        "                max_cluster = cluster_num\n",
        "\n",
        "    # If the max_cluster is not None, assign the corresponding cluster name to the 'cluster' column\n",
        "    if max_cluster!=0:\n",
        "      if max_similarity>treshold:\n",
        "        cluster_name = cluster_names[max_cluster]\n",
        "        new_df.at[index, 'cluster'] = cluster_name\n",
        "\n",
        "  # Update the progress bar for every 1000 records\n",
        "  if index % 1000 == 0:\n",
        "        progress_bar.update(1000)\n",
        "        progress_bar.set_description(f\"Processing ({index}/{total_records})\")\n",
        "        progress_bar.refresh()\n",
        "\n",
        "# Close the progress bar\n",
        "progress_bar.close()\n",
        "\n",
        "# Print the final dataframe\n",
        "new_df.head()"
      ],
      "metadata": {
        "colab": {
          "base_uri": "https://localhost:8080/",
          "height": 278
        },
        "id": "0EV8O4qjgZop",
        "outputId": "997eef15-59e5-4c2b-b4ba-5d8d05cdfefc"
      },
      "execution_count": null,
      "outputs": [
        {
          "output_type": "stream",
          "name": "stderr",
          "text": [
            "/usr/local/lib/python3.10/dist-packages/ipykernel/ipkernel.py:283: DeprecationWarning: `should_run_async` will not call `transform_cell` automatically in the future. Please pass the result to `transformed_cell` argument and any exception that happen during thetransform in `preprocessing_exc_tuple` in IPython 7.17 and above.\n",
            "  and should_run_async(code)\n",
            "Processing (45000/45756): : 46000record [03:03, 251.27record/s]\n"
          ]
        },
        {
          "output_type": "execute_result",
          "data": {
            "text/plain": [
              "   ID   cluster\n",
              "0   1         0\n",
              "1   2         0\n",
              "2   3         0\n",
              "3   4  cluster3\n",
              "4   5         0"
            ],
            "text/html": [
              "\n",
              "\n",
              "  <div id=\"df-e270929a-795f-4fed-a195-9cb6a01b9547\">\n",
              "    <div class=\"colab-df-container\">\n",
              "      <div>\n",
              "<style scoped>\n",
              "    .dataframe tbody tr th:only-of-type {\n",
              "        vertical-align: middle;\n",
              "    }\n",
              "\n",
              "    .dataframe tbody tr th {\n",
              "        vertical-align: top;\n",
              "    }\n",
              "\n",
              "    .dataframe thead th {\n",
              "        text-align: right;\n",
              "    }\n",
              "</style>\n",
              "<table border=\"1\" class=\"dataframe\">\n",
              "  <thead>\n",
              "    <tr style=\"text-align: right;\">\n",
              "      <th></th>\n",
              "      <th>ID</th>\n",
              "      <th>cluster</th>\n",
              "    </tr>\n",
              "  </thead>\n",
              "  <tbody>\n",
              "    <tr>\n",
              "      <th>0</th>\n",
              "      <td>1</td>\n",
              "      <td>0</td>\n",
              "    </tr>\n",
              "    <tr>\n",
              "      <th>1</th>\n",
              "      <td>2</td>\n",
              "      <td>0</td>\n",
              "    </tr>\n",
              "    <tr>\n",
              "      <th>2</th>\n",
              "      <td>3</td>\n",
              "      <td>0</td>\n",
              "    </tr>\n",
              "    <tr>\n",
              "      <th>3</th>\n",
              "      <td>4</td>\n",
              "      <td>cluster3</td>\n",
              "    </tr>\n",
              "    <tr>\n",
              "      <th>4</th>\n",
              "      <td>5</td>\n",
              "      <td>0</td>\n",
              "    </tr>\n",
              "  </tbody>\n",
              "</table>\n",
              "</div>\n",
              "      <button class=\"colab-df-convert\" onclick=\"convertToInteractive('df-e270929a-795f-4fed-a195-9cb6a01b9547')\"\n",
              "              title=\"Convert this dataframe to an interactive table.\"\n",
              "              style=\"display:none;\">\n",
              "\n",
              "  <svg xmlns=\"http://www.w3.org/2000/svg\" height=\"24px\"viewBox=\"0 0 24 24\"\n",
              "       width=\"24px\">\n",
              "    <path d=\"M0 0h24v24H0V0z\" fill=\"none\"/>\n",
              "    <path d=\"M18.56 5.44l.94 2.06.94-2.06 2.06-.94-2.06-.94-.94-2.06-.94 2.06-2.06.94zm-11 1L8.5 8.5l.94-2.06 2.06-.94-2.06-.94L8.5 2.5l-.94 2.06-2.06.94zm10 10l.94 2.06.94-2.06 2.06-.94-2.06-.94-.94-2.06-.94 2.06-2.06.94z\"/><path d=\"M17.41 7.96l-1.37-1.37c-.4-.4-.92-.59-1.43-.59-.52 0-1.04.2-1.43.59L10.3 9.45l-7.72 7.72c-.78.78-.78 2.05 0 2.83L4 21.41c.39.39.9.59 1.41.59.51 0 1.02-.2 1.41-.59l7.78-7.78 2.81-2.81c.8-.78.8-2.07 0-2.86zM5.41 20L4 18.59l7.72-7.72 1.47 1.35L5.41 20z\"/>\n",
              "  </svg>\n",
              "      </button>\n",
              "\n",
              "\n",
              "\n",
              "    <div id=\"df-8a0572a8-fa23-4364-9aa9-a6cae04be0ac\">\n",
              "      <button class=\"colab-df-quickchart\" onclick=\"quickchart('df-8a0572a8-fa23-4364-9aa9-a6cae04be0ac')\"\n",
              "              title=\"Suggest charts.\"\n",
              "              style=\"display:none;\">\n",
              "\n",
              "<svg xmlns=\"http://www.w3.org/2000/svg\" height=\"24px\"viewBox=\"0 0 24 24\"\n",
              "     width=\"24px\">\n",
              "    <g>\n",
              "        <path d=\"M19 3H5c-1.1 0-2 .9-2 2v14c0 1.1.9 2 2 2h14c1.1 0 2-.9 2-2V5c0-1.1-.9-2-2-2zM9 17H7v-7h2v7zm4 0h-2V7h2v10zm4 0h-2v-4h2v4z\"/>\n",
              "    </g>\n",
              "</svg>\n",
              "      </button>\n",
              "    </div>\n",
              "\n",
              "<style>\n",
              "  .colab-df-quickchart {\n",
              "    background-color: #E8F0FE;\n",
              "    border: none;\n",
              "    border-radius: 50%;\n",
              "    cursor: pointer;\n",
              "    display: none;\n",
              "    fill: #1967D2;\n",
              "    height: 32px;\n",
              "    padding: 0 0 0 0;\n",
              "    width: 32px;\n",
              "  }\n",
              "\n",
              "  .colab-df-quickchart:hover {\n",
              "    background-color: #E2EBFA;\n",
              "    box-shadow: 0px 1px 2px rgba(60, 64, 67, 0.3), 0px 1px 3px 1px rgba(60, 64, 67, 0.15);\n",
              "    fill: #174EA6;\n",
              "  }\n",
              "\n",
              "  [theme=dark] .colab-df-quickchart {\n",
              "    background-color: #3B4455;\n",
              "    fill: #D2E3FC;\n",
              "  }\n",
              "\n",
              "  [theme=dark] .colab-df-quickchart:hover {\n",
              "    background-color: #434B5C;\n",
              "    box-shadow: 0px 1px 3px 1px rgba(0, 0, 0, 0.15);\n",
              "    filter: drop-shadow(0px 1px 2px rgba(0, 0, 0, 0.3));\n",
              "    fill: #FFFFFF;\n",
              "  }\n",
              "</style>\n",
              "\n",
              "    <script>\n",
              "      async function quickchart(key) {\n",
              "        const containerElement = document.querySelector('#' + key);\n",
              "        const charts = await google.colab.kernel.invokeFunction(\n",
              "            'suggestCharts', [key], {});\n",
              "      }\n",
              "    </script>\n",
              "\n",
              "      <script>\n",
              "\n",
              "function displayQuickchartButton(domScope) {\n",
              "  let quickchartButtonEl =\n",
              "    domScope.querySelector('#df-8a0572a8-fa23-4364-9aa9-a6cae04be0ac button.colab-df-quickchart');\n",
              "  quickchartButtonEl.style.display =\n",
              "    google.colab.kernel.accessAllowed ? 'block' : 'none';\n",
              "}\n",
              "\n",
              "        displayQuickchartButton(document);\n",
              "      </script>\n",
              "      <style>\n",
              "    .colab-df-container {\n",
              "      display:flex;\n",
              "      flex-wrap:wrap;\n",
              "      gap: 12px;\n",
              "    }\n",
              "\n",
              "    .colab-df-convert {\n",
              "      background-color: #E8F0FE;\n",
              "      border: none;\n",
              "      border-radius: 50%;\n",
              "      cursor: pointer;\n",
              "      display: none;\n",
              "      fill: #1967D2;\n",
              "      height: 32px;\n",
              "      padding: 0 0 0 0;\n",
              "      width: 32px;\n",
              "    }\n",
              "\n",
              "    .colab-df-convert:hover {\n",
              "      background-color: #E2EBFA;\n",
              "      box-shadow: 0px 1px 2px rgba(60, 64, 67, 0.3), 0px 1px 3px 1px rgba(60, 64, 67, 0.15);\n",
              "      fill: #174EA6;\n",
              "    }\n",
              "\n",
              "    [theme=dark] .colab-df-convert {\n",
              "      background-color: #3B4455;\n",
              "      fill: #D2E3FC;\n",
              "    }\n",
              "\n",
              "    [theme=dark] .colab-df-convert:hover {\n",
              "      background-color: #434B5C;\n",
              "      box-shadow: 0px 1px 3px 1px rgba(0, 0, 0, 0.15);\n",
              "      filter: drop-shadow(0px 1px 2px rgba(0, 0, 0, 0.3));\n",
              "      fill: #FFFFFF;\n",
              "    }\n",
              "  </style>\n",
              "\n",
              "      <script>\n",
              "        const buttonEl =\n",
              "          document.querySelector('#df-e270929a-795f-4fed-a195-9cb6a01b9547 button.colab-df-convert');\n",
              "        buttonEl.style.display =\n",
              "          google.colab.kernel.accessAllowed ? 'block' : 'none';\n",
              "\n",
              "        async function convertToInteractive(key) {\n",
              "          const element = document.querySelector('#df-e270929a-795f-4fed-a195-9cb6a01b9547');\n",
              "          const dataTable =\n",
              "            await google.colab.kernel.invokeFunction('convertToInteractive',\n",
              "                                                     [key], {});\n",
              "          if (!dataTable) return;\n",
              "\n",
              "          const docLinkHtml = 'Like what you see? Visit the ' +\n",
              "            '<a target=\"_blank\" href=https://colab.research.google.com/notebooks/data_table.ipynb>data table notebook</a>'\n",
              "            + ' to learn more about interactive tables.';\n",
              "          element.innerHTML = '';\n",
              "          dataTable['output_type'] = 'display_data';\n",
              "          await google.colab.output.renderOutput(dataTable, element);\n",
              "          const docLink = document.createElement('div');\n",
              "          docLink.innerHTML = docLinkHtml;\n",
              "          element.appendChild(docLink);\n",
              "        }\n",
              "      </script>\n",
              "    </div>\n",
              "  </div>\n"
            ]
          },
          "metadata": {},
          "execution_count": 329
        }
      ]
    },
    {
      "cell_type": "code",
      "source": [
        "import pandas as pd\n",
        "\n",
        "# Assuming you have already created the 'new_df' DataFrame as shown in the previous code\n",
        "# and filled NaN values with 0\n",
        "\n",
        "# Group the DataFrame by the 'cluster' column and count the occurrences of each cluster\n",
        "cluster_counts = new_df.groupby('cluster').count()\n",
        "\n",
        "# Get the counts for 'cluster1' and 'cluster2'\n",
        "count_cluster1 = cluster_counts.loc['cluster1', 'ID']\n",
        "count_cluster2 = cluster_counts.loc['cluster2', 'ID']\n",
        "count_cluster3 = cluster_counts.loc['cluster3', 'ID']\n",
        "count_cluster4 = cluster_counts.loc['cluster4', 'ID']\n",
        "count_cluster5 = cluster_counts.loc['cluster5', 'ID']\n",
        "count_cluster6 = cluster_counts.loc['cluster6', 'ID']\n",
        "count_cluster7 = cluster_counts.loc['cluster7', 'ID']\n",
        "\n",
        "# Get the summation of counts for 'cluster1' and 'cluster2'\n",
        "summation = count_cluster1 + count_cluster2+count_cluster3+count_cluster4 + count_cluster5+count_cluster6 + count_cluster7\n",
        "\n",
        "# Display the counts and the summation\n",
        "print(f\"Count in cluster1: {count_cluster1}\")\n",
        "print(f\"Count in cluster2: {count_cluster2}\")\n",
        "print(f\"Count in cluster3: {count_cluster3}\")\n",
        "print(f\"Count in cluster4: {count_cluster4}\")\n",
        "print(f\"Count in cluster5: {count_cluster5}\")\n",
        "print(f\"Count in cluster6: {count_cluster6}\")\n",
        "print(f\"Count in cluster7: {count_cluster7}\")\n",
        "print(f\"Summation: {summation}\")\n"
      ],
      "metadata": {
        "colab": {
          "base_uri": "https://localhost:8080/"
        },
        "id": "IEdrP3-rgZmB",
        "outputId": "9f0154aa-ae27-46a1-c07e-13909bb1a9f4"
      },
      "execution_count": null,
      "outputs": [
        {
          "output_type": "stream",
          "name": "stdout",
          "text": [
            "Count in cluster1: 2\n",
            "Count in cluster2: 531\n",
            "Count in cluster3: 1529\n",
            "Count in cluster4: 47\n",
            "Count in cluster5: 16\n",
            "Count in cluster6: 71\n",
            "Count in cluster7: 35\n",
            "Summation: 2231\n"
          ]
        },
        {
          "output_type": "stream",
          "name": "stderr",
          "text": [
            "/usr/local/lib/python3.10/dist-packages/ipykernel/ipkernel.py:283: DeprecationWarning: `should_run_async` will not call `transform_cell` automatically in the future. Please pass the result to `transformed_cell` argument and any exception that happen during thetransform in `preprocessing_exc_tuple` in IPython 7.17 and above.\n",
            "  and should_run_async(code)\n"
          ]
        }
      ]
    },
    {
      "cell_type": "code",
      "source": [
        "new_df.head()"
      ],
      "metadata": {
        "colab": {
          "base_uri": "https://localhost:8080/",
          "height": 261
        },
        "id": "pmip2aQP8CSt",
        "outputId": "69edf2ca-4fd3-478f-bf3e-5e7f3002505a"
      },
      "execution_count": null,
      "outputs": [
        {
          "output_type": "stream",
          "name": "stderr",
          "text": [
            "/usr/local/lib/python3.10/dist-packages/ipykernel/ipkernel.py:283: DeprecationWarning: `should_run_async` will not call `transform_cell` automatically in the future. Please pass the result to `transformed_cell` argument and any exception that happen during thetransform in `preprocessing_exc_tuple` in IPython 7.17 and above.\n",
            "  and should_run_async(code)\n"
          ]
        },
        {
          "output_type": "execute_result",
          "data": {
            "text/plain": [
              "   ID   cluster\n",
              "0   1         0\n",
              "1   2         0\n",
              "2   3         0\n",
              "3   4  cluster3\n",
              "4   5         0"
            ],
            "text/html": [
              "\n",
              "\n",
              "  <div id=\"df-865e2f22-aa5d-45b2-bc91-cfb3997d20cd\">\n",
              "    <div class=\"colab-df-container\">\n",
              "      <div>\n",
              "<style scoped>\n",
              "    .dataframe tbody tr th:only-of-type {\n",
              "        vertical-align: middle;\n",
              "    }\n",
              "\n",
              "    .dataframe tbody tr th {\n",
              "        vertical-align: top;\n",
              "    }\n",
              "\n",
              "    .dataframe thead th {\n",
              "        text-align: right;\n",
              "    }\n",
              "</style>\n",
              "<table border=\"1\" class=\"dataframe\">\n",
              "  <thead>\n",
              "    <tr style=\"text-align: right;\">\n",
              "      <th></th>\n",
              "      <th>ID</th>\n",
              "      <th>cluster</th>\n",
              "    </tr>\n",
              "  </thead>\n",
              "  <tbody>\n",
              "    <tr>\n",
              "      <th>0</th>\n",
              "      <td>1</td>\n",
              "      <td>0</td>\n",
              "    </tr>\n",
              "    <tr>\n",
              "      <th>1</th>\n",
              "      <td>2</td>\n",
              "      <td>0</td>\n",
              "    </tr>\n",
              "    <tr>\n",
              "      <th>2</th>\n",
              "      <td>3</td>\n",
              "      <td>0</td>\n",
              "    </tr>\n",
              "    <tr>\n",
              "      <th>3</th>\n",
              "      <td>4</td>\n",
              "      <td>cluster3</td>\n",
              "    </tr>\n",
              "    <tr>\n",
              "      <th>4</th>\n",
              "      <td>5</td>\n",
              "      <td>0</td>\n",
              "    </tr>\n",
              "  </tbody>\n",
              "</table>\n",
              "</div>\n",
              "      <button class=\"colab-df-convert\" onclick=\"convertToInteractive('df-865e2f22-aa5d-45b2-bc91-cfb3997d20cd')\"\n",
              "              title=\"Convert this dataframe to an interactive table.\"\n",
              "              style=\"display:none;\">\n",
              "\n",
              "  <svg xmlns=\"http://www.w3.org/2000/svg\" height=\"24px\"viewBox=\"0 0 24 24\"\n",
              "       width=\"24px\">\n",
              "    <path d=\"M0 0h24v24H0V0z\" fill=\"none\"/>\n",
              "    <path d=\"M18.56 5.44l.94 2.06.94-2.06 2.06-.94-2.06-.94-.94-2.06-.94 2.06-2.06.94zm-11 1L8.5 8.5l.94-2.06 2.06-.94-2.06-.94L8.5 2.5l-.94 2.06-2.06.94zm10 10l.94 2.06.94-2.06 2.06-.94-2.06-.94-.94-2.06-.94 2.06-2.06.94z\"/><path d=\"M17.41 7.96l-1.37-1.37c-.4-.4-.92-.59-1.43-.59-.52 0-1.04.2-1.43.59L10.3 9.45l-7.72 7.72c-.78.78-.78 2.05 0 2.83L4 21.41c.39.39.9.59 1.41.59.51 0 1.02-.2 1.41-.59l7.78-7.78 2.81-2.81c.8-.78.8-2.07 0-2.86zM5.41 20L4 18.59l7.72-7.72 1.47 1.35L5.41 20z\"/>\n",
              "  </svg>\n",
              "      </button>\n",
              "\n",
              "\n",
              "\n",
              "    <div id=\"df-412c62ce-fb78-4666-ad5f-f3870d68ce8c\">\n",
              "      <button class=\"colab-df-quickchart\" onclick=\"quickchart('df-412c62ce-fb78-4666-ad5f-f3870d68ce8c')\"\n",
              "              title=\"Suggest charts.\"\n",
              "              style=\"display:none;\">\n",
              "\n",
              "<svg xmlns=\"http://www.w3.org/2000/svg\" height=\"24px\"viewBox=\"0 0 24 24\"\n",
              "     width=\"24px\">\n",
              "    <g>\n",
              "        <path d=\"M19 3H5c-1.1 0-2 .9-2 2v14c0 1.1.9 2 2 2h14c1.1 0 2-.9 2-2V5c0-1.1-.9-2-2-2zM9 17H7v-7h2v7zm4 0h-2V7h2v10zm4 0h-2v-4h2v4z\"/>\n",
              "    </g>\n",
              "</svg>\n",
              "      </button>\n",
              "    </div>\n",
              "\n",
              "<style>\n",
              "  .colab-df-quickchart {\n",
              "    background-color: #E8F0FE;\n",
              "    border: none;\n",
              "    border-radius: 50%;\n",
              "    cursor: pointer;\n",
              "    display: none;\n",
              "    fill: #1967D2;\n",
              "    height: 32px;\n",
              "    padding: 0 0 0 0;\n",
              "    width: 32px;\n",
              "  }\n",
              "\n",
              "  .colab-df-quickchart:hover {\n",
              "    background-color: #E2EBFA;\n",
              "    box-shadow: 0px 1px 2px rgba(60, 64, 67, 0.3), 0px 1px 3px 1px rgba(60, 64, 67, 0.15);\n",
              "    fill: #174EA6;\n",
              "  }\n",
              "\n",
              "  [theme=dark] .colab-df-quickchart {\n",
              "    background-color: #3B4455;\n",
              "    fill: #D2E3FC;\n",
              "  }\n",
              "\n",
              "  [theme=dark] .colab-df-quickchart:hover {\n",
              "    background-color: #434B5C;\n",
              "    box-shadow: 0px 1px 3px 1px rgba(0, 0, 0, 0.15);\n",
              "    filter: drop-shadow(0px 1px 2px rgba(0, 0, 0, 0.3));\n",
              "    fill: #FFFFFF;\n",
              "  }\n",
              "</style>\n",
              "\n",
              "    <script>\n",
              "      async function quickchart(key) {\n",
              "        const containerElement = document.querySelector('#' + key);\n",
              "        const charts = await google.colab.kernel.invokeFunction(\n",
              "            'suggestCharts', [key], {});\n",
              "      }\n",
              "    </script>\n",
              "\n",
              "      <script>\n",
              "\n",
              "function displayQuickchartButton(domScope) {\n",
              "  let quickchartButtonEl =\n",
              "    domScope.querySelector('#df-412c62ce-fb78-4666-ad5f-f3870d68ce8c button.colab-df-quickchart');\n",
              "  quickchartButtonEl.style.display =\n",
              "    google.colab.kernel.accessAllowed ? 'block' : 'none';\n",
              "}\n",
              "\n",
              "        displayQuickchartButton(document);\n",
              "      </script>\n",
              "      <style>\n",
              "    .colab-df-container {\n",
              "      display:flex;\n",
              "      flex-wrap:wrap;\n",
              "      gap: 12px;\n",
              "    }\n",
              "\n",
              "    .colab-df-convert {\n",
              "      background-color: #E8F0FE;\n",
              "      border: none;\n",
              "      border-radius: 50%;\n",
              "      cursor: pointer;\n",
              "      display: none;\n",
              "      fill: #1967D2;\n",
              "      height: 32px;\n",
              "      padding: 0 0 0 0;\n",
              "      width: 32px;\n",
              "    }\n",
              "\n",
              "    .colab-df-convert:hover {\n",
              "      background-color: #E2EBFA;\n",
              "      box-shadow: 0px 1px 2px rgba(60, 64, 67, 0.3), 0px 1px 3px 1px rgba(60, 64, 67, 0.15);\n",
              "      fill: #174EA6;\n",
              "    }\n",
              "\n",
              "    [theme=dark] .colab-df-convert {\n",
              "      background-color: #3B4455;\n",
              "      fill: #D2E3FC;\n",
              "    }\n",
              "\n",
              "    [theme=dark] .colab-df-convert:hover {\n",
              "      background-color: #434B5C;\n",
              "      box-shadow: 0px 1px 3px 1px rgba(0, 0, 0, 0.15);\n",
              "      filter: drop-shadow(0px 1px 2px rgba(0, 0, 0, 0.3));\n",
              "      fill: #FFFFFF;\n",
              "    }\n",
              "  </style>\n",
              "\n",
              "      <script>\n",
              "        const buttonEl =\n",
              "          document.querySelector('#df-865e2f22-aa5d-45b2-bc91-cfb3997d20cd button.colab-df-convert');\n",
              "        buttonEl.style.display =\n",
              "          google.colab.kernel.accessAllowed ? 'block' : 'none';\n",
              "\n",
              "        async function convertToInteractive(key) {\n",
              "          const element = document.querySelector('#df-865e2f22-aa5d-45b2-bc91-cfb3997d20cd');\n",
              "          const dataTable =\n",
              "            await google.colab.kernel.invokeFunction('convertToInteractive',\n",
              "                                                     [key], {});\n",
              "          if (!dataTable) return;\n",
              "\n",
              "          const docLinkHtml = 'Like what you see? Visit the ' +\n",
              "            '<a target=\"_blank\" href=https://colab.research.google.com/notebooks/data_table.ipynb>data table notebook</a>'\n",
              "            + ' to learn more about interactive tables.';\n",
              "          element.innerHTML = '';\n",
              "          dataTable['output_type'] = 'display_data';\n",
              "          await google.colab.output.renderOutput(dataTable, element);\n",
              "          const docLink = document.createElement('div');\n",
              "          docLink.innerHTML = docLinkHtml;\n",
              "          element.appendChild(docLink);\n",
              "        }\n",
              "      </script>\n",
              "    </div>\n",
              "  </div>\n"
            ]
          },
          "metadata": {},
          "execution_count": 346
        }
      ]
    },
    {
      "cell_type": "code",
      "source": [
        "old_df=new_df"
      ],
      "metadata": {
        "colab": {
          "base_uri": "https://localhost:8080/"
        },
        "id": "UdzdH3zX8Ngk",
        "outputId": "7d5ce993-f62f-46df-b753-5f15494a6097"
      },
      "execution_count": null,
      "outputs": [
        {
          "output_type": "stream",
          "name": "stderr",
          "text": [
            "/usr/local/lib/python3.10/dist-packages/ipykernel/ipkernel.py:283: DeprecationWarning: `should_run_async` will not call `transform_cell` automatically in the future. Please pass the result to `transformed_cell` argument and any exception that happen during thetransform in `preprocessing_exc_tuple` in IPython 7.17 and above.\n",
            "  and should_run_async(code)\n"
          ]
        }
      ]
    },
    {
      "cell_type": "code",
      "source": [
        "from tqdm import tqdm\n",
        "\n",
        "# communities is a list of lists containing the IDs of each community\n",
        "# For example, communities = [['ID1', 'ID2', ...], ['ID3', 'ID4', ...], ...]\n",
        "\n",
        "# Create a dictionary to map community index to cluster name\n",
        "cluster_names = {idx: f'cluster{idx+1}' for idx, comm in enumerate(communities)}\n",
        "\n",
        "# Get the total number of records in new_df\n",
        "total_records = len(new_df)\n",
        "\n",
        "# Create a progress bar using tqdm\n",
        "progress_bar = tqdm(total=total_records, desc=\"Processing\", unit=\"record\", dynamic_ncols=True)\n",
        "\n",
        "\n",
        "# Loop over new_df and update the 'cluster' column using the community names\n",
        "for index, row in new_df.iterrows():\n",
        "  if row['cluster']==0:\n",
        "        # Create a dictionary to store the score for each cluster\n",
        "        cluster_scores = {}\n",
        "\n",
        "        # Find the neighbors using the 'ID' of the current row\n",
        "        neighbors = DF.loc[DF['ID1'] == row['ID'], 'ID2'].tolist()\n",
        "        id=row['ID']\n",
        "        # Calculate similarity score for each neighbor and cluster\n",
        "        for neighbor_id in neighbors:\n",
        "            sim = combined_similarity(neighbor_id, id, followers_dict, followings_dict, reply_dict, retweet_dict, mention_dict)\n",
        "            neighbor_cluster = new_df.loc[new_df['ID'] == 4, 'cluster'].values[0]\n",
        "            # Add the similarity score to the corresponding cluster\n",
        "            if neighbor_cluster in cluster_scores:\n",
        "                    if neighbor_cluster==0:\n",
        "                      cluster_scores[0] +=sim\n",
        "                    elif neighbor_cluster=='cluster1':\n",
        "                      cluster_scores['cluster1'] +=sim\n",
        "                    elif neighbor_cluster=='cluster2':\n",
        "                      cluster_scores['cluster2'] +=sim\n",
        "                    elif neighbor_cluster=='cluster3':\n",
        "                      cluster_scores['cluster3'] +=sim\n",
        "                    elif neighbor_cluster=='cluster4':\n",
        "                      cluster_scores['cluster4'] +=sim\n",
        "                    elif neighbor_cluster=='cluster5':\n",
        "                      cluster_scores['cluster5'] +=sim\n",
        "                    elif neighbor_cluster=='cluster6':\n",
        "                      cluster_scores['cluster6'] +=sim\n",
        "                    elif neighbor_cluster=='cluster7':\n",
        "                      cluster_scores['cluster7'] +=sim\n",
        "            else:\n",
        "                    if neighbor_cluster==0:\n",
        "                      cluster_scores[0] =sim\n",
        "                    elif neighbor_cluster=='cluster1':\n",
        "                      cluster_scores['cluster1'] =sim\n",
        "                    elif neighbor_cluster=='cluster2':\n",
        "                      cluster_scores['cluster2'] =sim\n",
        "                    elif neighbor_cluster=='cluster3':\n",
        "                      cluster_scores['cluster3'] =sim\n",
        "                    elif neighbor_cluster=='cluster4':\n",
        "                      cluster_scores['cluster4'] =sim\n",
        "                    elif neighbor_cluster=='cluster5':\n",
        "                      cluster_scores['cluster5'] =sim\n",
        "                    elif neighbor_cluster=='cluster6':\n",
        "                      cluster_scores['cluster6'] =sim\n",
        "                    elif neighbor_cluster=='cluster7':\n",
        "                      cluster_scores['cluster7'] =sim\n",
        "            max_cluster = max(cluster_scores, key=cluster_scores.get)\n",
        "        if neighbors==[]:\n",
        "          new_df.at[index, 'cluster'] = 'isolated'\n",
        "          #print('no neighbour')\n",
        "        else:\n",
        "          # Find the cluster with the highest score\n",
        "          max_cluster = max(cluster_scores, key=cluster_scores.get)\n",
        "\n",
        "          # Assign the cluster with the highest score to the 'cluster' column for the current row\n",
        "          new_df.at[index, 'cluster'] = max_cluster\n",
        "              # Update the progress bar for every 1000 records\n",
        "  if index % 100 == 0:\n",
        "        progress_bar.update(100)\n",
        "        progress_bar.set_description(f\"Processing ({index}/{total_records})\")\n",
        "        progress_bar.refresh()\n",
        "\n",
        "# Close the progress bar\n",
        "progress_bar.close()\n",
        "# Print the final dataframe\n",
        "new_df.head()"
      ],
      "metadata": {
        "colab": {
          "base_uri": "https://localhost:8080/",
          "height": 1000
        },
        "id": "mCj_qYLLxbV1",
        "outputId": "30f13565-30b6-4fb1-92e4-e5d22e22e77e"
      },
      "execution_count": null,
      "outputs": [
        {
          "metadata": {
            "tags": null
          },
          "name": "stderr",
          "output_type": "stream",
          "text": [
            "/usr/local/lib/python3.10/dist-packages/ipykernel/ipkernel.py:283: DeprecationWarning: `should_run_async` will not call `transform_cell` automatically in the future. Please pass the result to `transformed_cell` argument and any exception that happen during thetransform in `preprocessing_exc_tuple` in IPython 7.17 and above.\n",
            "  and should_run_async(code)\n",
            "Processing (2400/45756):   5%|▌         | 2500/45756 [01:47<28:35, 25.21record/s]"
          ]
        },
        {
          "metadata": {
            "tags": null
          },
          "name": "stdout",
          "output_type": "stream",
          "text": [
            "no neighbour\n"
          ]
        },
        {
          "metadata": {
            "tags": null
          },
          "name": "stderr",
          "output_type": "stream",
          "text": [
            "Processing (2500/45756):   6%|▌         | 2600/45756 [01:50<27:37, 26.03record/s]"
          ]
        },
        {
          "metadata": {
            "tags": null
          },
          "name": "stdout",
          "output_type": "stream",
          "text": [
            "no neighbour\n"
          ]
        },
        {
          "metadata": {
            "tags": null
          },
          "name": "stderr",
          "output_type": "stream",
          "text": [
            "Processing (2600/45756):   6%|▌         | 2700/45756 [01:57<34:37, 20.73record/s]"
          ]
        },
        {
          "metadata": {
            "tags": null
          },
          "name": "stdout",
          "output_type": "stream",
          "text": [
            "no neighbour\n"
          ]
        },
        {
          "metadata": {
            "tags": null
          },
          "name": "stderr",
          "output_type": "stream",
          "text": [
            "Processing (2800/45756):   6%|▋         | 2900/45756 [02:04<29:22, 24.31record/s]"
          ]
        },
        {
          "metadata": {
            "tags": null
          },
          "name": "stdout",
          "output_type": "stream",
          "text": [
            "no neighbour\n",
            "no neighbour\n"
          ]
        },
        {
          "metadata": {
            "tags": null
          },
          "name": "stderr",
          "output_type": "stream",
          "text": [
            "Processing (3400/45756):   8%|▊         | 3500/45756 [02:33<31:30, 22.35record/s]"
          ]
        },
        {
          "metadata": {
            "tags": null
          },
          "name": "stdout",
          "output_type": "stream",
          "text": [
            "no neighbour\n",
            "no neighbour\n"
          ]
        },
        {
          "metadata": {
            "tags": null
          },
          "name": "stderr",
          "output_type": "stream",
          "text": [
            "Processing (3700/45756):   8%|▊         | 3800/45756 [02:48<32:34, 21.47record/s]"
          ]
        },
        {
          "metadata": {
            "tags": null
          },
          "name": "stdout",
          "output_type": "stream",
          "text": [
            "no neighbour\n",
            "no neighbour\n"
          ]
        },
        {
          "metadata": {
            "tags": null
          },
          "name": "stderr",
          "output_type": "stream",
          "text": [
            "Processing (3800/45756):   9%|▊         | 3900/45756 [02:52<31:14, 22.33record/s]"
          ]
        },
        {
          "metadata": {
            "tags": null
          },
          "name": "stdout",
          "output_type": "stream",
          "text": [
            "no neighbour\n"
          ]
        },
        {
          "metadata": {
            "tags": null
          },
          "name": "stderr",
          "output_type": "stream",
          "text": [
            "Processing (4500/45756):  10%|█         | 4600/45756 [03:27<34:10, 20.07record/s]"
          ]
        },
        {
          "metadata": {
            "tags": null
          },
          "name": "stdout",
          "output_type": "stream",
          "text": [
            "no neighbour\n"
          ]
        },
        {
          "metadata": {
            "tags": null
          },
          "name": "stderr",
          "output_type": "stream",
          "text": [
            "Processing (5100/45756):  11%|█▏        | 5200/45756 [03:54<28:21, 23.84record/s]"
          ]
        },
        {
          "metadata": {
            "tags": null
          },
          "name": "stdout",
          "output_type": "stream",
          "text": [
            "no neighbour\n",
            "no neighbour\n",
            "no neighbour\n"
          ]
        },
        {
          "metadata": {
            "tags": null
          },
          "name": "stderr",
          "output_type": "stream",
          "text": [
            "Processing (5400/45756):  12%|█▏        | 5500/45756 [04:05<25:56, 25.86record/s]"
          ]
        },
        {
          "metadata": {
            "tags": null
          },
          "name": "stdout",
          "output_type": "stream",
          "text": [
            "no neighbour\n"
          ]
        },
        {
          "metadata": {
            "tags": null
          },
          "name": "stderr",
          "output_type": "stream",
          "text": [
            "Processing (6300/45756):  14%|█▍        | 6400/45756 [04:41<28:14, 23.23record/s]"
          ]
        },
        {
          "metadata": {
            "tags": null
          },
          "name": "stdout",
          "output_type": "stream",
          "text": [
            "no neighbour\n"
          ]
        },
        {
          "metadata": {
            "tags": null
          },
          "name": "stderr",
          "output_type": "stream",
          "text": [
            "Processing (6500/45756):  14%|█▍        | 6600/45756 [04:49<26:40, 24.46record/s]"
          ]
        },
        {
          "metadata": {
            "tags": null
          },
          "name": "stdout",
          "output_type": "stream",
          "text": [
            "no neighbour\n"
          ]
        },
        {
          "metadata": {
            "tags": null
          },
          "name": "stderr",
          "output_type": "stream",
          "text": [
            "Processing (6900/45756):  15%|█▌        | 7000/45756 [05:06<26:17, 24.57record/s]"
          ]
        },
        {
          "metadata": {
            "tags": null
          },
          "name": "stdout",
          "output_type": "stream",
          "text": [
            "no neighbour\n"
          ]
        },
        {
          "metadata": {
            "tags": null
          },
          "name": "stderr",
          "output_type": "stream",
          "text": [
            "Processing (7000/45756):  16%|█▌        | 7100/45756 [05:10<27:06, 23.77record/s]"
          ]
        },
        {
          "metadata": {
            "tags": null
          },
          "name": "stdout",
          "output_type": "stream",
          "text": [
            "no neighbour\n"
          ]
        },
        {
          "metadata": {
            "tags": null
          },
          "name": "stderr",
          "output_type": "stream",
          "text": [
            "Processing (7100/45756):  16%|█▌        | 7200/45756 [05:15<28:05, 22.88record/s]"
          ]
        },
        {
          "metadata": {
            "tags": null
          },
          "name": "stdout",
          "output_type": "stream",
          "text": [
            "no neighbour\n"
          ]
        },
        {
          "metadata": {
            "tags": null
          },
          "name": "stderr",
          "output_type": "stream",
          "text": [
            "Processing (7400/45756):  16%|█▋        | 7500/45756 [05:29<29:19, 21.75record/s]"
          ]
        },
        {
          "metadata": {
            "tags": null
          },
          "name": "stdout",
          "output_type": "stream",
          "text": [
            "no neighbour\n"
          ]
        },
        {
          "metadata": {
            "tags": null
          },
          "name": "stderr",
          "output_type": "stream",
          "text": [
            "Processing (9100/45756):  20%|██        | 9200/45756 [07:13<24:55, 24.45record/s]"
          ]
        },
        {
          "metadata": {
            "tags": null
          },
          "name": "stdout",
          "output_type": "stream",
          "text": [
            "no neighbour\n"
          ]
        },
        {
          "metadata": {
            "tags": null
          },
          "name": "stderr",
          "output_type": "stream",
          "text": [
            "Processing (9400/45756):  21%|██        | 9500/45756 [07:24<22:50, 26.45record/s]"
          ]
        },
        {
          "metadata": {
            "tags": null
          },
          "name": "stdout",
          "output_type": "stream",
          "text": [
            "no neighbour\n",
            "no neighbour\n",
            "no neighbour\n",
            "no neighbour\n"
          ]
        },
        {
          "metadata": {
            "tags": null
          },
          "name": "stderr",
          "output_type": "stream",
          "text": [
            "Processing (9700/45756):  21%|██▏       | 9800/45756 [07:34<22:56, 26.12record/s]"
          ]
        },
        {
          "metadata": {
            "tags": null
          },
          "name": "stdout",
          "output_type": "stream",
          "text": [
            "no neighbour\n",
            "no neighbour\n"
          ]
        },
        {
          "metadata": {
            "tags": null
          },
          "name": "stderr",
          "output_type": "stream",
          "text": [
            "Processing (9900/45756):  22%|██▏       | 10000/45756 [07:43<25:17, 23.56record/s]"
          ]
        },
        {
          "metadata": {
            "tags": null
          },
          "name": "stdout",
          "output_type": "stream",
          "text": [
            "no neighbour\n"
          ]
        },
        {
          "output_type": "stream",
          "name": "stderr",
          "text": [
            "Processing (11400/45756):  25%|██▌       | 11500/45756 [08:55<27:44, 20.58record/s]"
          ]
        },
        {
          "output_type": "stream",
          "name": "stdout",
          "text": [
            "no neighbour\n"
          ]
        },
        {
          "output_type": "stream",
          "name": "stderr",
          "text": [
            "Processing (12800/45756):  28%|██▊       | 12900/45756 [09:59<23:46, 23.03record/s]"
          ]
        },
        {
          "output_type": "stream",
          "name": "stdout",
          "text": [
            "no neighbour\n"
          ]
        },
        {
          "output_type": "stream",
          "name": "stderr",
          "text": [
            "Processing (13700/45756):  30%|███       | 13800/45756 [10:39<26:26, 20.15record/s]"
          ]
        },
        {
          "output_type": "stream",
          "name": "stdout",
          "text": [
            "no neighbour\n"
          ]
        },
        {
          "output_type": "stream",
          "name": "stderr",
          "text": [
            "Processing (14600/45756):  32%|███▏      | 14700/45756 [11:17<20:59, 24.67record/s]"
          ]
        },
        {
          "output_type": "stream",
          "name": "stdout",
          "text": [
            "no neighbour\n"
          ]
        },
        {
          "output_type": "stream",
          "name": "stderr",
          "text": [
            "Processing (14700/45756):  32%|███▏      | 14800/45756 [11:20<19:12, 26.86record/s]"
          ]
        },
        {
          "output_type": "stream",
          "name": "stdout",
          "text": [
            "no neighbour\n"
          ]
        },
        {
          "output_type": "stream",
          "name": "stderr",
          "text": [
            "Processing (14900/45756):  33%|███▎      | 15000/45756 [11:28<20:02, 25.58record/s]"
          ]
        },
        {
          "output_type": "stream",
          "name": "stdout",
          "text": [
            "no neighbour\n",
            "no neighbour\n"
          ]
        },
        {
          "output_type": "stream",
          "name": "stderr",
          "text": [
            "Processing (15300/45756):  34%|███▎      | 15400/45756 [11:46<22:00, 22.98record/s]"
          ]
        },
        {
          "output_type": "stream",
          "name": "stdout",
          "text": [
            "no neighbour\n"
          ]
        },
        {
          "output_type": "stream",
          "name": "stderr",
          "text": [
            "Processing (15600/45756):  34%|███▍      | 15700/45756 [11:58<19:32, 25.64record/s]"
          ]
        },
        {
          "output_type": "stream",
          "name": "stdout",
          "text": [
            "no neighbour\n",
            "no neighbour\n"
          ]
        },
        {
          "output_type": "stream",
          "name": "stderr",
          "text": [
            "Processing (15800/45756):  35%|███▍      | 15900/45756 [12:06<18:40, 26.64record/s]"
          ]
        },
        {
          "output_type": "stream",
          "name": "stdout",
          "text": [
            "no neighbour\n"
          ]
        },
        {
          "output_type": "stream",
          "name": "stderr",
          "text": [
            "Processing (15900/45756):  35%|███▍      | 16000/45756 [12:09<17:27, 28.41record/s]"
          ]
        },
        {
          "output_type": "stream",
          "name": "stdout",
          "text": [
            "no neighbour\n"
          ]
        },
        {
          "output_type": "stream",
          "name": "stderr",
          "text": [
            "Processing (16200/45756):  36%|███▌      | 16300/45756 [12:21<18:38, 26.34record/s]"
          ]
        },
        {
          "output_type": "stream",
          "name": "stdout",
          "text": [
            "no neighbour\n"
          ]
        },
        {
          "output_type": "stream",
          "name": "stderr",
          "text": [
            "Processing (18100/45756):  40%|███▉      | 18200/45756 [13:32<16:49, 27.31record/s]"
          ]
        },
        {
          "output_type": "stream",
          "name": "stdout",
          "text": [
            "no neighbour\n"
          ]
        },
        {
          "output_type": "stream",
          "name": "stderr",
          "text": [
            "Processing (18400/45756):  40%|████      | 18500/45756 [13:46<19:51, 22.88record/s]"
          ]
        },
        {
          "output_type": "stream",
          "name": "stdout",
          "text": [
            "no neighbour\n"
          ]
        },
        {
          "output_type": "stream",
          "name": "stderr",
          "text": [
            "Processing (19400/45756):  43%|████▎     | 19500/45756 [14:34<19:31, 22.41record/s]"
          ]
        },
        {
          "output_type": "stream",
          "name": "stdout",
          "text": [
            "no neighbour\n"
          ]
        },
        {
          "output_type": "stream",
          "name": "stderr",
          "text": [
            "Processing (19700/45756):  43%|████▎     | 19800/45756 [14:47<19:28, 22.22record/s]"
          ]
        },
        {
          "output_type": "stream",
          "name": "stdout",
          "text": [
            "no neighbour\n"
          ]
        },
        {
          "output_type": "stream",
          "name": "stderr",
          "text": [
            "Processing (20100/45756):  44%|████▍     | 20200/45756 [15:03<17:18, 24.61record/s]"
          ]
        },
        {
          "output_type": "stream",
          "name": "stdout",
          "text": [
            "no neighbour\n"
          ]
        },
        {
          "output_type": "stream",
          "name": "stderr",
          "text": [
            "Processing (20700/45756):  45%|████▌     | 20800/45756 [15:28<16:47, 24.78record/s]"
          ]
        },
        {
          "output_type": "stream",
          "name": "stdout",
          "text": [
            "no neighbour\n"
          ]
        },
        {
          "output_type": "stream",
          "name": "stderr",
          "text": [
            "Processing (21200/45756):  47%|████▋     | 21300/45756 [15:52<20:58, 19.43record/s]"
          ]
        },
        {
          "output_type": "stream",
          "name": "stdout",
          "text": [
            "no neighbour\n"
          ]
        },
        {
          "output_type": "stream",
          "name": "stderr",
          "text": [
            "Processing (21400/45756):  47%|████▋     | 21500/45756 [15:59<18:12, 22.21record/s]"
          ]
        },
        {
          "output_type": "stream",
          "name": "stdout",
          "text": [
            "no neighbour\n",
            "no neighbour\n",
            "no neighbour\n"
          ]
        },
        {
          "output_type": "stream",
          "name": "stderr",
          "text": [
            "Processing (23200/45756):  51%|█████     | 23300/45756 [17:12<15:03, 24.84record/s]"
          ]
        },
        {
          "output_type": "stream",
          "name": "stdout",
          "text": [
            "no neighbour\n"
          ]
        },
        {
          "output_type": "stream",
          "name": "stderr",
          "text": [
            "Processing (23400/45756):  51%|█████▏    | 23500/45756 [17:20<15:21, 24.14record/s]"
          ]
        },
        {
          "output_type": "stream",
          "name": "stdout",
          "text": [
            "no neighbour\n"
          ]
        },
        {
          "output_type": "stream",
          "name": "stderr",
          "text": [
            "Processing (25000/45756):  55%|█████▍    | 25100/45756 [18:22<12:49, 26.86record/s]"
          ]
        },
        {
          "output_type": "stream",
          "name": "stdout",
          "text": [
            "no neighbour\n"
          ]
        },
        {
          "output_type": "stream",
          "name": "stderr",
          "text": [
            "Processing (25800/45756):  57%|█████▋    | 25900/45756 [18:57<13:25, 24.65record/s]"
          ]
        },
        {
          "output_type": "stream",
          "name": "stdout",
          "text": [
            "no neighbour\n"
          ]
        },
        {
          "output_type": "stream",
          "name": "stderr",
          "text": [
            "Processing (26100/45756):  57%|█████▋    | 26200/45756 [19:08<12:09, 26.80record/s]"
          ]
        },
        {
          "output_type": "stream",
          "name": "stdout",
          "text": [
            "no neighbour\n"
          ]
        },
        {
          "output_type": "stream",
          "name": "stderr",
          "text": [
            "Processing (27000/45756):  59%|█████▉    | 27100/45756 [19:40<10:35, 29.34record/s]"
          ]
        },
        {
          "output_type": "stream",
          "name": "stdout",
          "text": [
            "no neighbour\n"
          ]
        },
        {
          "output_type": "stream",
          "name": "stderr",
          "text": [
            "Processing (27100/45756):  59%|█████▉    | 27200/45756 [19:44<11:30, 26.88record/s]"
          ]
        },
        {
          "output_type": "stream",
          "name": "stdout",
          "text": [
            "no neighbour\n"
          ]
        },
        {
          "output_type": "stream",
          "name": "stderr",
          "text": [
            "Processing (28400/45756):  62%|██████▏   | 28500/45756 [20:40<13:20, 21.56record/s]"
          ]
        },
        {
          "output_type": "stream",
          "name": "stdout",
          "text": [
            "no neighbour\n"
          ]
        },
        {
          "output_type": "stream",
          "name": "stderr",
          "text": [
            "Processing (29200/45756):  64%|██████▍   | 29300/45756 [21:12<10:21, 26.46record/s]"
          ]
        },
        {
          "output_type": "stream",
          "name": "stdout",
          "text": [
            "no neighbour\n"
          ]
        },
        {
          "output_type": "stream",
          "name": "stderr",
          "text": [
            "Processing (29800/45756):  65%|██████▌   | 29900/45756 [21:35<10:01, 26.38record/s]"
          ]
        },
        {
          "output_type": "stream",
          "name": "stdout",
          "text": [
            "no neighbour\n"
          ]
        },
        {
          "output_type": "stream",
          "name": "stderr",
          "text": [
            "Processing (30000/45756):  66%|██████▌   | 30100/45756 [21:41<08:49, 29.57record/s]"
          ]
        },
        {
          "output_type": "stream",
          "name": "stdout",
          "text": [
            "no neighbour\n"
          ]
        },
        {
          "output_type": "stream",
          "name": "stderr",
          "text": [
            "Processing (30400/45756):  67%|██████▋   | 30500/45756 [21:56<09:26, 26.94record/s]"
          ]
        },
        {
          "output_type": "stream",
          "name": "stdout",
          "text": [
            "no neighbour\n"
          ]
        },
        {
          "output_type": "stream",
          "name": "stderr",
          "text": [
            "Processing (30500/45756):  67%|██████▋   | 30600/45756 [21:59<08:56, 28.24record/s]"
          ]
        },
        {
          "output_type": "stream",
          "name": "stdout",
          "text": [
            "no neighbour\n"
          ]
        },
        {
          "output_type": "stream",
          "name": "stderr",
          "text": [
            "Processing (32400/45756):  71%|███████   | 32500/45756 [23:12<07:49, 28.21record/s]"
          ]
        },
        {
          "output_type": "stream",
          "name": "stdout",
          "text": [
            "no neighbour\n",
            "no neighbour\n",
            "no neighbour\n",
            "no neighbour\n"
          ]
        },
        {
          "output_type": "stream",
          "name": "stderr",
          "text": [
            "Processing (32500/45756):  71%|███████   | 32600/45756 [23:15<07:43, 28.39record/s]"
          ]
        },
        {
          "output_type": "stream",
          "name": "stdout",
          "text": [
            "no neighbour\n",
            "no neighbour\n"
          ]
        },
        {
          "output_type": "stream",
          "name": "stderr",
          "text": [
            "Processing (33100/45756):  73%|███████▎  | 33200/45756 [23:37<07:28, 28.01record/s]"
          ]
        },
        {
          "output_type": "stream",
          "name": "stdout",
          "text": [
            "no neighbour\n"
          ]
        },
        {
          "output_type": "stream",
          "name": "stderr",
          "text": [
            "Processing (33700/45756):  74%|███████▍  | 33800/45756 [23:59<07:25, 26.85record/s]"
          ]
        },
        {
          "output_type": "stream",
          "name": "stdout",
          "text": [
            "no neighbour\n"
          ]
        },
        {
          "output_type": "stream",
          "name": "stderr",
          "text": [
            "Processing (34600/45756):  76%|███████▌  | 34700/45756 [24:30<06:40, 27.60record/s]"
          ]
        },
        {
          "output_type": "stream",
          "name": "stdout",
          "text": [
            "no neighbour\n"
          ]
        },
        {
          "output_type": "stream",
          "name": "stderr",
          "text": [
            "Processing (34800/45756):  76%|███████▋  | 34900/45756 [24:36<05:44, 31.54record/s]"
          ]
        },
        {
          "output_type": "stream",
          "name": "stdout",
          "text": [
            "no neighbour\n"
          ]
        },
        {
          "output_type": "stream",
          "name": "stderr",
          "text": [
            "Processing (34900/45756):  76%|███████▋  | 35000/45756 [24:39<05:39, 31.68record/s]"
          ]
        },
        {
          "output_type": "stream",
          "name": "stdout",
          "text": [
            "no neighbour\n"
          ]
        },
        {
          "output_type": "stream",
          "name": "stderr",
          "text": [
            "Processing (35200/45756):  77%|███████▋  | 35300/45756 [24:50<05:59, 29.07record/s]"
          ]
        },
        {
          "output_type": "stream",
          "name": "stdout",
          "text": [
            "no neighbour\n"
          ]
        },
        {
          "output_type": "stream",
          "name": "stderr",
          "text": [
            "Processing (35500/45756):  78%|███████▊  | 35600/45756 [25:00<05:57, 28.42record/s]"
          ]
        },
        {
          "output_type": "stream",
          "name": "stdout",
          "text": [
            "no neighbour\n"
          ]
        },
        {
          "output_type": "stream",
          "name": "stderr",
          "text": [
            "Processing (36000/45756):  79%|███████▉  | 36100/45756 [25:16<05:19, 30.24record/s]"
          ]
        },
        {
          "output_type": "stream",
          "name": "stdout",
          "text": [
            "no neighbour\n"
          ]
        },
        {
          "output_type": "stream",
          "name": "stderr",
          "text": [
            "Processing (36900/45756):  81%|████████  | 37000/45756 [25:46<04:35, 31.83record/s]"
          ]
        },
        {
          "output_type": "stream",
          "name": "stdout",
          "text": [
            "no neighbour\n"
          ]
        },
        {
          "output_type": "stream",
          "name": "stderr",
          "text": [
            "Processing (37200/45756):  82%|████████▏ | 37300/45756 [25:56<04:41, 30.09record/s]"
          ]
        },
        {
          "output_type": "stream",
          "name": "stdout",
          "text": [
            "no neighbour\n",
            "no neighbour\n"
          ]
        },
        {
          "output_type": "stream",
          "name": "stderr",
          "text": [
            "Processing (37300/45756):  82%|████████▏ | 37400/45756 [25:59<04:11, 33.27record/s]"
          ]
        },
        {
          "output_type": "stream",
          "name": "stdout",
          "text": [
            "no neighbour\n",
            "no neighbour\n",
            "no neighbour\n"
          ]
        },
        {
          "output_type": "stream",
          "name": "stderr",
          "text": [
            "Processing (37400/45756):  82%|████████▏ | 37500/45756 [26:01<03:44, 36.81record/s]"
          ]
        },
        {
          "output_type": "stream",
          "name": "stdout",
          "text": [
            "no neighbour\n",
            "no neighbour\n",
            "no neighbour\n"
          ]
        },
        {
          "output_type": "stream",
          "name": "stderr",
          "text": [
            "Processing (37600/45756):  82%|████████▏ | 37700/45756 [26:07<04:00, 33.46record/s]"
          ]
        },
        {
          "output_type": "stream",
          "name": "stdout",
          "text": [
            "no neighbour\n"
          ]
        },
        {
          "output_type": "stream",
          "name": "stderr",
          "text": [
            "Processing (38100/45756):  83%|████████▎ | 38200/45756 [26:23<03:56, 31.99record/s]"
          ]
        },
        {
          "output_type": "stream",
          "name": "stdout",
          "text": [
            "no neighbour\n"
          ]
        },
        {
          "output_type": "stream",
          "name": "stderr",
          "text": [
            "Processing (38200/45756):  84%|████████▎ | 38300/45756 [26:26<04:02, 30.74record/s]"
          ]
        },
        {
          "output_type": "stream",
          "name": "stdout",
          "text": [
            "no neighbour\n",
            "no neighbour\n"
          ]
        },
        {
          "output_type": "stream",
          "name": "stderr",
          "text": [
            "Processing (38600/45756):  85%|████████▍ | 38700/45756 [26:40<03:49, 30.81record/s]"
          ]
        },
        {
          "output_type": "stream",
          "name": "stdout",
          "text": [
            "no neighbour\n"
          ]
        },
        {
          "output_type": "stream",
          "name": "stderr",
          "text": [
            "Processing (39200/45756):  86%|████████▌ | 39300/45756 [27:01<03:49, 28.14record/s]"
          ]
        },
        {
          "output_type": "stream",
          "name": "stdout",
          "text": [
            "no neighbour\n"
          ]
        },
        {
          "output_type": "stream",
          "name": "stderr",
          "text": [
            "Processing (39800/45756):  87%|████████▋ | 39900/45756 [27:21<03:08, 31.09record/s]"
          ]
        },
        {
          "output_type": "stream",
          "name": "stdout",
          "text": [
            "no neighbour\n",
            "no neighbour\n"
          ]
        },
        {
          "output_type": "stream",
          "name": "stderr",
          "text": [
            "Processing (40300/45756):  88%|████████▊ | 40400/45756 [27:35<02:34, 34.65record/s]"
          ]
        },
        {
          "output_type": "stream",
          "name": "stdout",
          "text": [
            "no neighbour\n"
          ]
        },
        {
          "output_type": "stream",
          "name": "stderr",
          "text": [
            "Processing (40700/45756):  89%|████████▉ | 40800/45756 [27:48<02:25, 34.07record/s]"
          ]
        },
        {
          "output_type": "stream",
          "name": "stdout",
          "text": [
            "no neighbour\n"
          ]
        },
        {
          "output_type": "stream",
          "name": "stderr",
          "text": [
            "Processing (41400/45756):  91%|█████████ | 41500/45756 [28:08<02:10, 32.51record/s]"
          ]
        },
        {
          "output_type": "stream",
          "name": "stdout",
          "text": [
            "no neighbour\n"
          ]
        },
        {
          "output_type": "stream",
          "name": "stderr",
          "text": [
            "Processing (42100/45756):  92%|█████████▏| 42200/45756 [28:28<01:39, 35.84record/s]"
          ]
        },
        {
          "output_type": "stream",
          "name": "stdout",
          "text": [
            "no neighbour\n"
          ]
        },
        {
          "output_type": "stream",
          "name": "stderr",
          "text": [
            "Processing (43700/45756):  96%|█████████▌| 43800/45756 [29:13<00:56, 34.90record/s]"
          ]
        },
        {
          "output_type": "stream",
          "name": "stdout",
          "text": [
            "no neighbour\n"
          ]
        },
        {
          "output_type": "stream",
          "name": "stderr",
          "text": [
            "Processing (45400/45756):  99%|█████████▉| 45500/45756 [29:54<00:05, 45.43record/s]"
          ]
        },
        {
          "output_type": "stream",
          "name": "stdout",
          "text": [
            "no neighbour\n"
          ]
        },
        {
          "output_type": "stream",
          "name": "stderr",
          "text": [
            "Processing (45500/45756): 100%|█████████▉| 45600/45756 [29:56<00:03, 50.23record/s]"
          ]
        },
        {
          "output_type": "stream",
          "name": "stdout",
          "text": [
            "no neighbour\n"
          ]
        },
        {
          "output_type": "stream",
          "name": "stderr",
          "text": [
            "Processing (45600/45756): 100%|█████████▉| 45700/45756 [29:58<00:01, 50.33record/s]"
          ]
        },
        {
          "output_type": "stream",
          "name": "stdout",
          "text": [
            "no neighbour\n",
            "no neighbour\n"
          ]
        },
        {
          "output_type": "stream",
          "name": "stderr",
          "text": [
            "Processing (45700/45756): : 45800record [29:59, 51.26record/s]"
          ]
        },
        {
          "output_type": "stream",
          "name": "stdout",
          "text": [
            "no neighbour\n"
          ]
        },
        {
          "output_type": "stream",
          "name": "stderr",
          "text": [
            "\rProcessing (45700/45756): : 45800record [30:01, 25.43record/s]\n"
          ]
        },
        {
          "output_type": "execute_result",
          "data": {
            "text/plain": [
              "   ID   cluster\n",
              "0   1  cluster3\n",
              "1   2  cluster3\n",
              "2   3  cluster3\n",
              "3   4  cluster3\n",
              "4   5  cluster3"
            ],
            "text/html": [
              "\n",
              "\n",
              "  <div id=\"df-e412e4bd-5e41-4bc2-909a-c5970483e0de\">\n",
              "    <div class=\"colab-df-container\">\n",
              "      <div>\n",
              "<style scoped>\n",
              "    .dataframe tbody tr th:only-of-type {\n",
              "        vertical-align: middle;\n",
              "    }\n",
              "\n",
              "    .dataframe tbody tr th {\n",
              "        vertical-align: top;\n",
              "    }\n",
              "\n",
              "    .dataframe thead th {\n",
              "        text-align: right;\n",
              "    }\n",
              "</style>\n",
              "<table border=\"1\" class=\"dataframe\">\n",
              "  <thead>\n",
              "    <tr style=\"text-align: right;\">\n",
              "      <th></th>\n",
              "      <th>ID</th>\n",
              "      <th>cluster</th>\n",
              "    </tr>\n",
              "  </thead>\n",
              "  <tbody>\n",
              "    <tr>\n",
              "      <th>0</th>\n",
              "      <td>1</td>\n",
              "      <td>cluster3</td>\n",
              "    </tr>\n",
              "    <tr>\n",
              "      <th>1</th>\n",
              "      <td>2</td>\n",
              "      <td>cluster3</td>\n",
              "    </tr>\n",
              "    <tr>\n",
              "      <th>2</th>\n",
              "      <td>3</td>\n",
              "      <td>cluster3</td>\n",
              "    </tr>\n",
              "    <tr>\n",
              "      <th>3</th>\n",
              "      <td>4</td>\n",
              "      <td>cluster3</td>\n",
              "    </tr>\n",
              "    <tr>\n",
              "      <th>4</th>\n",
              "      <td>5</td>\n",
              "      <td>cluster3</td>\n",
              "    </tr>\n",
              "  </tbody>\n",
              "</table>\n",
              "</div>\n",
              "      <button class=\"colab-df-convert\" onclick=\"convertToInteractive('df-e412e4bd-5e41-4bc2-909a-c5970483e0de')\"\n",
              "              title=\"Convert this dataframe to an interactive table.\"\n",
              "              style=\"display:none;\">\n",
              "\n",
              "  <svg xmlns=\"http://www.w3.org/2000/svg\" height=\"24px\"viewBox=\"0 0 24 24\"\n",
              "       width=\"24px\">\n",
              "    <path d=\"M0 0h24v24H0V0z\" fill=\"none\"/>\n",
              "    <path d=\"M18.56 5.44l.94 2.06.94-2.06 2.06-.94-2.06-.94-.94-2.06-.94 2.06-2.06.94zm-11 1L8.5 8.5l.94-2.06 2.06-.94-2.06-.94L8.5 2.5l-.94 2.06-2.06.94zm10 10l.94 2.06.94-2.06 2.06-.94-2.06-.94-.94-2.06-.94 2.06-2.06.94z\"/><path d=\"M17.41 7.96l-1.37-1.37c-.4-.4-.92-.59-1.43-.59-.52 0-1.04.2-1.43.59L10.3 9.45l-7.72 7.72c-.78.78-.78 2.05 0 2.83L4 21.41c.39.39.9.59 1.41.59.51 0 1.02-.2 1.41-.59l7.78-7.78 2.81-2.81c.8-.78.8-2.07 0-2.86zM5.41 20L4 18.59l7.72-7.72 1.47 1.35L5.41 20z\"/>\n",
              "  </svg>\n",
              "      </button>\n",
              "\n",
              "\n",
              "\n",
              "    <div id=\"df-0f7a08bd-1a06-4493-9370-d8c8479c2902\">\n",
              "      <button class=\"colab-df-quickchart\" onclick=\"quickchart('df-0f7a08bd-1a06-4493-9370-d8c8479c2902')\"\n",
              "              title=\"Suggest charts.\"\n",
              "              style=\"display:none;\">\n",
              "\n",
              "<svg xmlns=\"http://www.w3.org/2000/svg\" height=\"24px\"viewBox=\"0 0 24 24\"\n",
              "     width=\"24px\">\n",
              "    <g>\n",
              "        <path d=\"M19 3H5c-1.1 0-2 .9-2 2v14c0 1.1.9 2 2 2h14c1.1 0 2-.9 2-2V5c0-1.1-.9-2-2-2zM9 17H7v-7h2v7zm4 0h-2V7h2v10zm4 0h-2v-4h2v4z\"/>\n",
              "    </g>\n",
              "</svg>\n",
              "      </button>\n",
              "    </div>\n",
              "\n",
              "<style>\n",
              "  .colab-df-quickchart {\n",
              "    background-color: #E8F0FE;\n",
              "    border: none;\n",
              "    border-radius: 50%;\n",
              "    cursor: pointer;\n",
              "    display: none;\n",
              "    fill: #1967D2;\n",
              "    height: 32px;\n",
              "    padding: 0 0 0 0;\n",
              "    width: 32px;\n",
              "  }\n",
              "\n",
              "  .colab-df-quickchart:hover {\n",
              "    background-color: #E2EBFA;\n",
              "    box-shadow: 0px 1px 2px rgba(60, 64, 67, 0.3), 0px 1px 3px 1px rgba(60, 64, 67, 0.15);\n",
              "    fill: #174EA6;\n",
              "  }\n",
              "\n",
              "  [theme=dark] .colab-df-quickchart {\n",
              "    background-color: #3B4455;\n",
              "    fill: #D2E3FC;\n",
              "  }\n",
              "\n",
              "  [theme=dark] .colab-df-quickchart:hover {\n",
              "    background-color: #434B5C;\n",
              "    box-shadow: 0px 1px 3px 1px rgba(0, 0, 0, 0.15);\n",
              "    filter: drop-shadow(0px 1px 2px rgba(0, 0, 0, 0.3));\n",
              "    fill: #FFFFFF;\n",
              "  }\n",
              "</style>\n",
              "\n",
              "    <script>\n",
              "      async function quickchart(key) {\n",
              "        const containerElement = document.querySelector('#' + key);\n",
              "        const charts = await google.colab.kernel.invokeFunction(\n",
              "            'suggestCharts', [key], {});\n",
              "      }\n",
              "    </script>\n",
              "\n",
              "      <script>\n",
              "\n",
              "function displayQuickchartButton(domScope) {\n",
              "  let quickchartButtonEl =\n",
              "    domScope.querySelector('#df-0f7a08bd-1a06-4493-9370-d8c8479c2902 button.colab-df-quickchart');\n",
              "  quickchartButtonEl.style.display =\n",
              "    google.colab.kernel.accessAllowed ? 'block' : 'none';\n",
              "}\n",
              "\n",
              "        displayQuickchartButton(document);\n",
              "      </script>\n",
              "      <style>\n",
              "    .colab-df-container {\n",
              "      display:flex;\n",
              "      flex-wrap:wrap;\n",
              "      gap: 12px;\n",
              "    }\n",
              "\n",
              "    .colab-df-convert {\n",
              "      background-color: #E8F0FE;\n",
              "      border: none;\n",
              "      border-radius: 50%;\n",
              "      cursor: pointer;\n",
              "      display: none;\n",
              "      fill: #1967D2;\n",
              "      height: 32px;\n",
              "      padding: 0 0 0 0;\n",
              "      width: 32px;\n",
              "    }\n",
              "\n",
              "    .colab-df-convert:hover {\n",
              "      background-color: #E2EBFA;\n",
              "      box-shadow: 0px 1px 2px rgba(60, 64, 67, 0.3), 0px 1px 3px 1px rgba(60, 64, 67, 0.15);\n",
              "      fill: #174EA6;\n",
              "    }\n",
              "\n",
              "    [theme=dark] .colab-df-convert {\n",
              "      background-color: #3B4455;\n",
              "      fill: #D2E3FC;\n",
              "    }\n",
              "\n",
              "    [theme=dark] .colab-df-convert:hover {\n",
              "      background-color: #434B5C;\n",
              "      box-shadow: 0px 1px 3px 1px rgba(0, 0, 0, 0.15);\n",
              "      filter: drop-shadow(0px 1px 2px rgba(0, 0, 0, 0.3));\n",
              "      fill: #FFFFFF;\n",
              "    }\n",
              "  </style>\n",
              "\n",
              "      <script>\n",
              "        const buttonEl =\n",
              "          document.querySelector('#df-e412e4bd-5e41-4bc2-909a-c5970483e0de button.colab-df-convert');\n",
              "        buttonEl.style.display =\n",
              "          google.colab.kernel.accessAllowed ? 'block' : 'none';\n",
              "\n",
              "        async function convertToInteractive(key) {\n",
              "          const element = document.querySelector('#df-e412e4bd-5e41-4bc2-909a-c5970483e0de');\n",
              "          const dataTable =\n",
              "            await google.colab.kernel.invokeFunction('convertToInteractive',\n",
              "                                                     [key], {});\n",
              "          if (!dataTable) return;\n",
              "\n",
              "          const docLinkHtml = 'Like what you see? Visit the ' +\n",
              "            '<a target=\"_blank\" href=https://colab.research.google.com/notebooks/data_table.ipynb>data table notebook</a>'\n",
              "            + ' to learn more about interactive tables.';\n",
              "          element.innerHTML = '';\n",
              "          dataTable['output_type'] = 'display_data';\n",
              "          await google.colab.output.renderOutput(dataTable, element);\n",
              "          const docLink = document.createElement('div');\n",
              "          docLink.innerHTML = docLinkHtml;\n",
              "          element.appendChild(docLink);\n",
              "        }\n",
              "      </script>\n",
              "    </div>\n",
              "  </div>\n"
            ]
          },
          "metadata": {},
          "execution_count": 348
        }
      ]
    },
    {
      "cell_type": "code",
      "source": [
        "import pandas as pd\n",
        "\n",
        "# Assuming you have already created the 'new_df' DataFrame as shown in the previous code\n",
        "# and filled NaN values with 0\n",
        "\n",
        "# Group the DataFrame by the 'cluster' column and count the occurrences of each cluster\n",
        "cluster_counts = new_df.groupby('cluster').count()\n",
        "\n",
        "# Get the counts for 'cluster1' and 'cluster2'\n",
        "count_cluster1 = cluster_counts.loc['cluster1', 'ID']\n",
        "count_cluster2 = cluster_counts.loc['cluster2', 'ID']\n",
        "count_cluster3 = cluster_counts.loc['cluster3', 'ID']\n",
        "count_cluster4 = cluster_counts.loc['cluster4', 'ID']\n",
        "count_cluster5 = cluster_counts.loc['cluster5', 'ID']\n",
        "count_cluster6 = cluster_counts.loc['cluster6', 'ID']\n",
        "count_cluster7 = cluster_counts.loc['cluster7', 'ID']\n",
        "#count_cluster0 = cluster_counts.loc[0, 'ID']\n",
        "\n",
        "# Get the summation of counts for 'cluster1' and 'cluster2'\n",
        "summation = count_cluster1 + count_cluster2+count_cluster3+count_cluster4 + count_cluster5+count_cluster6 + count_cluster7\n",
        "#total=summation+count_cluster0\n",
        "# Display the counts and the summation\n",
        "print(f\"Count in cluster1: {count_cluster1}\")\n",
        "print(f\"Count in cluster2: {count_cluster2}\")\n",
        "print(f\"Count in cluster3: {count_cluster3}\")\n",
        "print(f\"Count in cluster4: {count_cluster4}\")\n",
        "print(f\"Count in cluster5: {count_cluster5}\")\n",
        "print(f\"Count in cluster6: {count_cluster6}\")\n",
        "print(f\"Count in cluster7: {count_cluster7}\")\n",
        "#print(f\"Count in cluster0: {count_cluster0}\")\n",
        "print(f\"Summation: {summation}\")\n",
        "#print(f\"Summation: {total}\")\n"
      ],
      "metadata": {
        "colab": {
          "base_uri": "https://localhost:8080/"
        },
        "id": "05povmg2xbTL",
        "outputId": "ad6e6897-41dd-4d4d-8582-18121e5f3308"
      },
      "execution_count": null,
      "outputs": [
        {
          "output_type": "stream",
          "name": "stdout",
          "text": [
            "Count in cluster1: 2\n",
            "Count in cluster2: 531\n",
            "Count in cluster3: 44948\n",
            "Count in cluster4: 47\n",
            "Count in cluster5: 16\n",
            "Count in cluster6: 71\n",
            "Count in cluster7: 35\n",
            "Summation: 45650\n"
          ]
        },
        {
          "output_type": "stream",
          "name": "stderr",
          "text": [
            "/usr/local/lib/python3.10/dist-packages/ipykernel/ipkernel.py:283: DeprecationWarning: `should_run_async` will not call `transform_cell` automatically in the future. Please pass the result to `transformed_cell` argument and any exception that happen during thetransform in `preprocessing_exc_tuple` in IPython 7.17 and above.\n",
            "  and should_run_async(code)\n"
          ]
        }
      ]
    },
    {
      "cell_type": "code",
      "source": [
        "new_df.count()"
      ],
      "metadata": {
        "colab": {
          "base_uri": "https://localhost:8080/"
        },
        "id": "8MXXBi6nDUQ4",
        "outputId": "dcb8fe90-4899-448f-ace4-a1e74636e8ca"
      },
      "execution_count": null,
      "outputs": [
        {
          "output_type": "stream",
          "name": "stderr",
          "text": [
            "/usr/local/lib/python3.10/dist-packages/ipykernel/ipkernel.py:283: DeprecationWarning: `should_run_async` will not call `transform_cell` automatically in the future. Please pass the result to `transformed_cell` argument and any exception that happen during thetransform in `preprocessing_exc_tuple` in IPython 7.17 and above.\n",
            "  and should_run_async(code)\n"
          ]
        },
        {
          "output_type": "execute_result",
          "data": {
            "text/plain": [
              "ID         45756\n",
              "cluster    45756\n",
              "dtype: int64"
            ]
          },
          "metadata": {},
          "execution_count": 352
        }
      ]
    },
    {
      "cell_type": "code",
      "source": [],
      "metadata": {
        "id": "jhxl0o81xbJz"
      },
      "execution_count": null,
      "outputs": []
    },
    {
      "cell_type": "code",
      "source": [],
      "metadata": {
        "id": "6CV04NH-xbG5"
      },
      "execution_count": null,
      "outputs": []
    },
    {
      "cell_type": "code",
      "source": [],
      "metadata": {
        "id": "aJbPtjSxxbCb"
      },
      "execution_count": null,
      "outputs": []
    },
    {
      "cell_type": "code",
      "source": [
        "from tqdm import tqdm\n",
        "\n",
        "# communities is a list of lists containing the IDs of each community\n",
        "# For example, communities = [['ID1', 'ID2', ...], ['ID3', 'ID4', ...], ...]\n",
        "\n",
        "# Create a dictionary to map community index to cluster name\n",
        "cluster_names = {idx: f'cluster{idx+1}' for idx, comm in enumerate(communities)}\n",
        "\n",
        "# Get the total number of records in new_df\n",
        "total_records = len(new_df)\n",
        "\n",
        "# Create a progress bar using tqdm\n",
        "progress_bar = tqdm(total=total_records, desc=\"Processing\", unit=\"record\", dynamic_ncols=True)\n",
        "\n",
        "\n",
        "# Loop over new_df and update the 'cluster' column using the community names\n",
        "for index, row in new_df.iterrows():\n",
        "  if row['cluster']==0:\n",
        "        # Create a dictionary to store the score for each cluster\n",
        "        cluster_scores = {}\n",
        "\n",
        "        # Find the neighbors using the 'ID' of the current row\n",
        "        neighbors = DF.loc[DF['ID1'] == row['ID'], 'ID2'].tolist()\n",
        "\n",
        "        # Calculate similarity score for each neighbor and cluster\n",
        "        for neighbor_id in neighbors:\n",
        "            for cluster_num, cluster_list in enumerate(communities):\n",
        "                for cluster_id in cluster_list:\n",
        "                    sim = combined_similarity(neighbor_id, cluster_id, followers_dict, followings_dict, reply_dict, retweet_dict, mention_dict)\n",
        "                    #similarity(neighbor_id, cluster_id)\n",
        "\n",
        "                    # Add the similarity score to the corresponding cluster\n",
        "                    if cluster_num in cluster_scores:\n",
        "                        cluster_scores[cluster_num] += sim\n",
        "                    else:\n",
        "                        cluster_scores[cluster_num] = sim\n",
        "        if neighbors==[]:\n",
        "          new_df.at[index, 'cluster'] = 'isolated'\n",
        "          print('no neighbour')\n",
        "        else:\n",
        "          # Find the cluster with the highest score\n",
        "          max_cluster = max(cluster_scores, key=cluster_scores.get)\n",
        "\n",
        "          # Assign the cluster with the highest score to the 'cluster' column for the current row\n",
        "          new_df.at[index, 'cluster'] = f'cluster{max_cluster+1}'\n",
        "              # Update the progress bar for every 1000 records\n",
        "  if index % 100 == 0:\n",
        "        progress_bar.update(100)\n",
        "        progress_bar.set_description(f\"Processing ({index}/{total_records})\")\n",
        "        progress_bar.refresh()\n",
        "\n",
        "# Close the progress bar\n",
        "progress_bar.close()\n",
        "# Print the final dataframe\n",
        "new_df.head()"
      ],
      "metadata": {
        "colab": {
          "base_uri": "https://localhost:8080/",
          "height": 1000
        },
        "id": "TjyIqByMVjMC",
        "outputId": "2cba3155-5558-4fde-f7c9-f0aff11be195"
      },
      "execution_count": null,
      "outputs": [
        {
          "output_type": "stream",
          "name": "stderr",
          "text": [
            "/usr/local/lib/python3.10/dist-packages/ipykernel/ipkernel.py:283: DeprecationWarning: `should_run_async` will not call `transform_cell` automatically in the future. Please pass the result to `transformed_cell` argument and any exception that happen during thetransform in `preprocessing_exc_tuple` in IPython 7.17 and above.\n",
            "  and should_run_async(code)\n",
            "\n",
            "Processing:   0%|          | 0/45756 [00:00<?, ?record/s]\u001b[A\n",
            "Processing (0/45756):   0%|          | 100/45756 [00:00<00:03, 14581.78record/s]\u001b[A\n",
            "Processing (0/45756):   0%|          | 100/45756 [00:00<00:05, 8233.49record/s] \u001b[A\n",
            "Processing (100/45756):   0%|          | 200/45756 [00:00<00:06, 7360.95record/s]\u001b[A\n",
            "Processing (100/45756):   0%|          | 200/45756 [00:00<00:07, 6444.35record/s]\u001b[A\n",
            "Processing (3600/45756):  81%|████████  | 37000/45756 [23:43<05:36, 25.99record/s]\n",
            "\n",
            "Processing (200/45756):   1%|          | 300/45756 [00:00<00:08, 5285.72record/s]\u001b[A\n",
            "Processing (300/45756):   1%|          | 400/45756 [00:00<00:08, 5288.58record/s]\u001b[A\n",
            "Processing (300/45756):   1%|          | 400/45756 [00:00<00:09, 4783.30record/s]\u001b[A\n",
            "Processing (400/45756):   1%|          | 500/45756 [00:00<00:08, 5041.84record/s]\u001b[A\n",
            "Processing (400/45756):   1%|          | 500/45756 [00:00<00:09, 4861.79record/s]\u001b[A\n",
            "Processing (400/45756):   1%|▏         | 600/45756 [00:00<00:08, 5338.59record/s]\u001b[A\n",
            "Processing (500/45756):   1%|▏         | 600/45756 [00:00<00:08, 5338.59record/s]\u001b[A\n",
            "Processing (500/45756):   1%|▏         | 600/45756 [00:00<00:08, 5338.59record/s]\u001b[A\n",
            "Processing (600/45756):   2%|▏         | 700/45756 [00:00<00:08, 5338.59record/s]\u001b[A\n",
            "Processing (600/45756):   2%|▏         | 700/45756 [00:00<00:08, 5338.59record/s]\u001b[A\n",
            "Processing (700/45756):   2%|▏         | 800/45756 [00:00<00:08, 5338.59record/s]\u001b[A\n",
            "Processing (700/45756):   2%|▏         | 800/45756 [00:00<00:08, 5338.59record/s]\u001b[A\n",
            "Processing (800/45756):   2%|▏         | 900/45756 [00:00<00:08, 5338.59record/s]\u001b[A\n",
            "Processing (800/45756):   2%|▏         | 900/45756 [00:00<00:08, 5338.59record/s]\u001b[A\n",
            "Processing (900/45756):   2%|▏         | 1000/45756 [00:00<00:08, 5338.59record/s]\u001b[A\n",
            "Processing (900/45756):   2%|▏         | 1000/45756 [00:00<00:08, 5338.59record/s]\u001b[A\n",
            "Processing (1000/45756):   2%|▏         | 1100/45756 [00:00<00:08, 5338.59record/s]\u001b[A\n",
            "Processing (1000/45756):   2%|▏         | 1100/45756 [00:00<00:08, 5338.59record/s]\u001b[A\n",
            "Processing (1000/45756):   3%|▎         | 1200/45756 [00:00<00:08, 5239.25record/s]\u001b[A\n",
            "Processing (1100/45756):   3%|▎         | 1200/45756 [00:00<00:08, 5239.25record/s]\u001b[A\n",
            "Processing (1100/45756):   3%|▎         | 1200/45756 [00:00<00:08, 5239.25record/s]\u001b[A\n",
            "Processing (1200/45756):   3%|▎         | 1300/45756 [00:00<00:08, 5239.25record/s]\u001b[A\n",
            "Processing (1200/45756):   3%|▎         | 1300/45756 [00:00<00:08, 5239.25record/s]\u001b[A\n",
            "Processing (1300/45756):   3%|▎         | 1400/45756 [00:00<00:08, 5239.25record/s]\u001b[A\n",
            "Processing (1300/45756):   3%|▎         | 1400/45756 [00:00<00:08, 5239.25record/s]\u001b[A\n",
            "Processing (1400/45756):   3%|▎         | 1500/45756 [00:00<00:08, 5239.25record/s]\u001b[A\n",
            "Processing (1400/45756):   3%|▎         | 1500/45756 [00:00<00:08, 5239.25record/s]\u001b[A\n",
            "Processing (1500/45756):   3%|▎         | 1600/45756 [00:00<00:08, 5239.25record/s]\u001b[A\n",
            "Processing (1500/45756):   3%|▎         | 1600/45756 [00:00<00:08, 5239.25record/s]\u001b[A\n",
            "Processing (1600/45756):   4%|▎         | 1700/45756 [00:00<00:08, 5239.25record/s]\u001b[A\n",
            "Processing (1600/45756):   4%|▎         | 1700/45756 [00:00<00:08, 5239.25record/s]\u001b[A\n",
            "Processing (1600/45756):   4%|▍         | 1800/45756 [00:00<00:10, 4180.92record/s]\u001b[A\n",
            "Processing (1700/45756):   4%|▍         | 1800/45756 [00:00<00:10, 4180.92record/s]\u001b[A\n",
            "Processing (1700/45756):   4%|▍         | 1800/45756 [00:00<00:10, 4180.92record/s]\u001b[A\n",
            "Processing (1800/45756):   4%|▍         | 1900/45756 [00:00<00:10, 4180.92record/s]\u001b[A\n",
            "Processing (1800/45756):   4%|▍         | 1900/45756 [00:00<00:10, 4180.92record/s]\u001b[A\n",
            "Processing (1900/45756):   4%|▍         | 2000/45756 [00:00<00:10, 4180.92record/s]\u001b[A\n",
            "Processing (1900/45756):   4%|▍         | 2000/45756 [00:00<00:10, 4180.92record/s]\u001b[A\n",
            "Processing (2000/45756):   5%|▍         | 2100/45756 [00:00<00:10, 4180.92record/s]\u001b[A\n",
            "Processing (2000/45756):   5%|▍         | 2100/45756 [00:00<00:10, 4180.92record/s]\u001b[A\n",
            "Processing (2100/45756):   5%|▍         | 2200/45756 [00:00<00:10, 4180.92record/s]\u001b[A\n",
            "Processing (2100/45756):   5%|▍         | 2200/45756 [00:00<00:10, 4180.92record/s]\u001b[A\n",
            "Processing (2100/45756):   5%|▌         | 2300/45756 [00:00<00:10, 3959.02record/s]\u001b[A\n",
            "Processing (2200/45756):   5%|▌         | 2300/45756 [00:00<00:10, 3959.02record/s]\u001b[A\n",
            "Processing (2200/45756):   5%|▌         | 2300/45756 [00:00<00:10, 3959.02record/s]\u001b[A\n",
            "Processing (2300/45756):   5%|▌         | 2400/45756 [00:00<00:10, 3959.02record/s]\u001b[A\n",
            "Processing (2300/45756):   5%|▌         | 2400/45756 [00:00<00:10, 3959.02record/s]\u001b[A\n",
            "Processing (2400/45756):   5%|▌         | 2500/45756 [00:00<00:10, 3959.02record/s]\u001b[A\n",
            "Processing (2400/45756):   5%|▌         | 2500/45756 [00:00<00:10, 3959.02record/s]\u001b[A\n",
            "Processing (2500/45756):   6%|▌         | 2600/45756 [00:00<00:10, 3959.02record/s]\u001b[A\n",
            "Processing (2500/45756):   6%|▌         | 2600/45756 [00:00<00:10, 3959.02record/s]\u001b[A\n",
            "Processing (2600/45756):   6%|▌         | 2700/45756 [00:00<00:10, 3959.02record/s]\u001b[A\n",
            "Processing (2600/45756):   6%|▌         | 2700/45756 [00:00<00:10, 3959.02record/s]\u001b[A\n",
            "Processing (2600/45756):   6%|▌         | 2800/45756 [00:00<00:11, 3853.53record/s]\u001b[A\n",
            "Processing (2700/45756):   6%|▌         | 2800/45756 [00:00<00:11, 3853.53record/s]\u001b[A\n",
            "Processing (2700/45756):   6%|▌         | 2800/45756 [00:00<00:11, 3853.53record/s]\u001b[A\n",
            "Processing (2800/45756):   6%|▋         | 2900/45756 [00:00<00:11, 3853.53record/s]\u001b[A\n",
            "Processing (2800/45756):   6%|▋         | 2900/45756 [00:00<00:11, 3853.53record/s]\u001b[A\n",
            "Processing (2900/45756):   7%|▋         | 3000/45756 [00:00<00:11, 3853.53record/s]\u001b[A\n",
            "Processing (2900/45756):   7%|▋         | 3000/45756 [00:00<00:11, 3853.53record/s]\u001b[A\n",
            "Processing (3000/45756):   7%|▋         | 3100/45756 [00:00<00:11, 3853.53record/s]\u001b[A\n",
            "Processing (3000/45756):   7%|▋         | 3100/45756 [00:00<00:11, 3853.53record/s]\u001b[A\n",
            "Processing (3000/45756):   7%|▋         | 3200/45756 [00:00<00:11, 3776.49record/s]\u001b[A\n",
            "Processing (3100/45756):   7%|▋         | 3200/45756 [00:00<00:11, 3776.49record/s]\u001b[A\n",
            "Processing (3100/45756):   7%|▋         | 3200/45756 [00:00<00:11, 3776.49record/s]\u001b[A\n",
            "Processing (3200/45756):   7%|▋         | 3300/45756 [00:00<00:11, 3776.49record/s]\u001b[A\n",
            "Processing (3200/45756):   7%|▋         | 3300/45756 [00:00<00:11, 3776.49record/s]\u001b[A\n",
            "Processing (3300/45756):   7%|▋         | 3400/45756 [00:00<00:11, 3776.49record/s]\u001b[A\n",
            "Processing (3300/45756):   7%|▋         | 3400/45756 [00:00<00:11, 3776.49record/s]\u001b[A\n",
            "Processing (3400/45756):   8%|▊         | 3500/45756 [00:00<00:11, 3776.49record/s]\u001b[A\n",
            "Processing (3400/45756):   8%|▊         | 3500/45756 [00:00<00:11, 3776.49record/s]\u001b[A\n",
            "Processing (3400/45756):   8%|▊         | 3600/45756 [00:00<00:11, 3563.40record/s]\u001b[A\n",
            "Processing (3500/45756):   8%|▊         | 3600/45756 [00:00<00:11, 3563.40record/s]\u001b[A\n",
            "Processing (3500/45756):   8%|▊         | 3600/45756 [00:00<00:11, 3563.40record/s]\u001b[A\n",
            "Processing (3600/45756):   8%|▊         | 3700/45756 [00:00<00:11, 3563.40record/s]\u001b[A\n",
            "Processing (3600/45756):   8%|▊         | 3700/45756 [00:00<00:11, 3563.40record/s]\u001b[A\n",
            "Processing (3600/45756):   8%|▊         | 3700/45756 [00:13<00:11, 3563.40record/s]\u001b[A\n",
            "Processing (3600/45756):   8%|▊         | 3800/45756 [00:18<10:33, 66.19record/s]  \u001b[A\n",
            "Processing (3700/45756):   8%|▊         | 3800/45756 [00:18<10:33, 66.19record/s]\u001b[A\n",
            "Processing (3700/45756):   8%|▊         | 3800/45756 [00:18<10:33, 66.19record/s]\u001b[A"
          ]
        },
        {
          "output_type": "stream",
          "name": "stdout",
          "text": [
            "no neighbour\n"
          ]
        },
        {
          "output_type": "stream",
          "name": "stderr",
          "text": [
            "\n",
            "Processing (3700/45756):   8%|▊         | 3800/45756 [00:33<10:33, 66.19record/s]\u001b[A"
          ]
        },
        {
          "output_type": "stream",
          "name": "stdout",
          "text": [
            "no neighbour\n"
          ]
        },
        {
          "output_type": "stream",
          "name": "stderr",
          "text": [
            "\n",
            "Processing (3700/45756):   9%|▊         | 3900/45756 [00:40<25:55, 26.91record/s]\u001b[A\n",
            "Processing (3800/45756):   9%|▊         | 3900/45756 [00:40<25:55, 26.91record/s]\u001b[A\n",
            "Processing (3800/45756):   9%|▊         | 3900/45756 [00:40<25:55, 26.91record/s]\u001b[A"
          ]
        },
        {
          "output_type": "stream",
          "name": "stdout",
          "text": [
            "no neighbour\n"
          ]
        },
        {
          "output_type": "stream",
          "name": "stderr",
          "text": [
            "\n",
            "Processing (3800/45756):   9%|▊         | 4000/45756 [01:17<56:20, 12.35record/s]\u001b[A\n",
            "Processing (3900/45756):   9%|▊         | 4000/45756 [01:17<56:20, 12.35record/s]\u001b[A\n",
            "Processing (3900/45756):   9%|▊         | 4000/45756 [01:17<56:20, 12.35record/s]\u001b[A\n",
            "Processing (3900/45756):   9%|▉         | 4100/45756 [01:56<1:30:18,  7.69record/s]\u001b[A\n",
            "Processing (4000/45756):   9%|▉         | 4100/45756 [01:56<1:30:18,  7.69record/s]\u001b[A\n",
            "Processing (4000/45756):   9%|▉         | 4100/45756 [01:56<1:30:18,  7.69record/s]\u001b[A\n",
            "Processing (4000/45756):   9%|▉         | 4200/45756 [02:38<2:07:41,  5.42record/s]\u001b[A\n",
            "Processing (4100/45756):   9%|▉         | 4200/45756 [02:38<2:07:41,  5.42record/s]\u001b[A\n",
            "Processing (4100/45756):   9%|▉         | 4200/45756 [02:38<2:07:41,  5.42record/s]\u001b[A\n",
            "Processing (4100/45756):   9%|▉         | 4300/45756 [03:19<2:39:54,  4.32record/s]\u001b[A\n",
            "Processing (4200/45756):   9%|▉         | 4300/45756 [03:19<2:39:54,  4.32record/s]\u001b[A\n",
            "Processing (4200/45756):   9%|▉         | 4300/45756 [03:19<2:39:54,  4.32record/s]\u001b[A\n",
            "Processing (4200/45756):  10%|▉         | 4400/45756 [03:50<2:52:45,  3.99record/s]\u001b[A\n",
            "Processing (4300/45756):  10%|▉         | 4400/45756 [03:50<2:52:45,  3.99record/s]\u001b[A\n",
            "Processing (4300/45756):  10%|▉         | 4400/45756 [03:50<2:52:45,  3.99record/s]\u001b[A\n",
            "Processing (4300/45756):  10%|▉         | 4500/45756 [04:30<3:16:43,  3.50record/s]\u001b[A\n",
            "Processing (4400/45756):  10%|▉         | 4500/45756 [04:30<3:16:43,  3.50record/s]\u001b[A\n",
            "Processing (4400/45756):  10%|▉         | 4500/45756 [04:30<3:16:43,  3.50record/s]\u001b[A\n",
            "Processing (4400/45756):  10%|█         | 4600/45756 [05:15<3:46:20,  3.03record/s]\u001b[A\n",
            "Processing (4500/45756):  10%|█         | 4600/45756 [05:15<3:46:20,  3.03record/s]\u001b[A\n",
            "Processing (4500/45756):  10%|█         | 4600/45756 [05:15<3:46:20,  3.03record/s]\u001b[A"
          ]
        },
        {
          "output_type": "stream",
          "name": "stdout",
          "text": [
            "no neighbour\n"
          ]
        },
        {
          "output_type": "stream",
          "name": "stderr",
          "text": [
            "\n",
            "Processing (4500/45756):  10%|█         | 4700/45756 [06:04<4:14:31,  2.69record/s]\u001b[A\n",
            "Processing (4600/45756):  10%|█         | 4700/45756 [06:04<4:14:31,  2.69record/s]\u001b[A\n",
            "Processing (4600/45756):  10%|█         | 4700/45756 [06:04<4:14:31,  2.69record/s]\u001b[A\n",
            "Processing (4600/45756):  10%|█         | 4800/45756 [06:43<4:17:52,  2.65record/s]\u001b[A\n",
            "Processing (4700/45756):  10%|█         | 4800/45756 [06:43<4:17:52,  2.65record/s]\u001b[A\n",
            "Processing (4700/45756):  10%|█         | 4800/45756 [06:43<4:17:52,  2.65record/s]\u001b[A\n",
            "Processing (4700/45756):  11%|█         | 4900/45756 [07:25<4:26:22,  2.56record/s]\u001b[A\n",
            "Processing (4800/45756):  11%|█         | 4900/45756 [07:25<4:26:22,  2.56record/s]\u001b[A\n",
            "Processing (4800/45756):  11%|█         | 4900/45756 [07:25<4:26:22,  2.56record/s]\u001b[A\n",
            "Processing (4800/45756):  11%|█         | 5000/45756 [08:01<4:18:07,  2.63record/s]\u001b[A\n",
            "Processing (4900/45756):  11%|█         | 5000/45756 [08:01<4:18:07,  2.63record/s]\u001b[A\n",
            "Processing (4900/45756):  11%|█         | 5000/45756 [08:01<4:18:07,  2.63record/s]\u001b[A\n",
            "Processing (4900/45756):  11%|█         | 5100/45756 [08:24<3:49:22,  2.95record/s]\u001b[A\n",
            "Processing (5000/45756):  11%|█         | 5100/45756 [08:24<3:49:22,  2.95record/s]\u001b[A\n",
            "Processing (5000/45756):  11%|█         | 5100/45756 [08:24<3:49:22,  2.95record/s]\u001b[A\n",
            "Processing (5000/45756):  11%|█▏        | 5200/45756 [08:59<3:51:06,  2.92record/s]\u001b[A\n",
            "Processing (5100/45756):  11%|█▏        | 5200/45756 [08:59<3:51:06,  2.92record/s]\u001b[A\n",
            "Processing (5100/45756):  11%|█▏        | 5200/45756 [08:59<3:51:06,  2.92record/s]\u001b[A"
          ]
        },
        {
          "output_type": "stream",
          "name": "stdout",
          "text": [
            "no neighbour\n",
            "no neighbour\n",
            "no neighbour\n"
          ]
        },
        {
          "output_type": "stream",
          "name": "stderr",
          "text": [
            "\n",
            "Processing (5100/45756):  12%|█▏        | 5300/45756 [09:34<3:52:07,  2.90record/s]\u001b[A\n",
            "Processing (5200/45756):  12%|█▏        | 5300/45756 [09:34<3:52:07,  2.90record/s]\u001b[A\n",
            "Processing (5200/45756):  12%|█▏        | 5300/45756 [09:34<3:52:07,  2.90record/s]\u001b[A\n",
            "Processing (5200/45756):  12%|█▏        | 5400/45756 [09:56<3:25:00,  3.28record/s]\u001b[A\n",
            "Processing (5300/45756):  12%|█▏        | 5400/45756 [09:56<3:25:00,  3.28record/s]\u001b[A\n",
            "Processing (5300/45756):  12%|█▏        | 5400/45756 [09:56<3:25:00,  3.28record/s]\u001b[A"
          ]
        },
        {
          "output_type": "stream",
          "name": "stdout",
          "text": [
            "no neighbour\n"
          ]
        },
        {
          "output_type": "stream",
          "name": "stderr",
          "text": [
            "\n",
            "Processing (5300/45756):  12%|█▏        | 5500/45756 [10:24<3:20:12,  3.35record/s]\u001b[A\n",
            "Processing (5400/45756):  12%|█▏        | 5500/45756 [10:24<3:20:12,  3.35record/s]\u001b[A\n",
            "Processing (5400/45756):  12%|█▏        | 5500/45756 [10:24<3:20:12,  3.35record/s]\u001b[A\n",
            "Processing (5400/45756):  12%|█▏        | 5600/45756 [10:51<3:15:11,  3.43record/s]\u001b[A\n",
            "Processing (5500/45756):  12%|█▏        | 5600/45756 [10:51<3:15:11,  3.43record/s]\u001b[A\n",
            "Processing (5500/45756):  12%|█▏        | 5600/45756 [10:51<3:15:11,  3.43record/s]\u001b[A\n",
            "Processing (5500/45756):  12%|█▏        | 5700/45756 [11:30<3:33:50,  3.12record/s]\u001b[A\n",
            "Processing (5600/45756):  12%|█▏        | 5700/45756 [11:30<3:33:50,  3.12record/s]\u001b[A\n",
            "Processing (5600/45756):  12%|█▏        | 5700/45756 [11:30<3:33:50,  3.12record/s]\u001b[A\n",
            "Processing (5600/45756):  13%|█▎        | 5800/45756 [12:02<3:33:50,  3.11record/s]\u001b[A\n",
            "Processing (5700/45756):  13%|█▎        | 5800/45756 [12:03<3:33:50,  3.11record/s]\u001b[A\n",
            "Processing (5700/45756):  13%|█▎        | 5800/45756 [12:03<3:33:50,  3.11record/s]\u001b[A\n",
            "Processing (5700/45756):  13%|█▎        | 5900/45756 [12:39<3:41:53,  2.99record/s]\u001b[A\n",
            "Processing (5800/45756):  13%|█▎        | 5900/45756 [12:39<3:41:53,  2.99record/s]\u001b[A\n",
            "Processing (5800/45756):  13%|█▎        | 5900/45756 [12:39<3:41:53,  2.99record/s]\u001b[A\n",
            "Processing (5800/45756):  13%|█▎        | 6000/45756 [13:03<3:22:28,  3.27record/s]\u001b[A\n",
            "Processing (5900/45756):  13%|█▎        | 6000/45756 [13:03<3:22:28,  3.27record/s]\u001b[A\n",
            "Processing (5900/45756):  13%|█▎        | 6000/45756 [13:03<3:22:28,  3.27record/s]\u001b[A\n",
            "Processing (5900/45756):  13%|█▎        | 6100/45756 [13:30<3:14:30,  3.40record/s]\u001b[A\n",
            "Processing (6000/45756):  13%|█▎        | 6100/45756 [13:30<3:14:30,  3.40record/s]\u001b[A\n",
            "Processing (6000/45756):  13%|█▎        | 6100/45756 [13:30<3:14:30,  3.40record/s]\u001b[A\n",
            "Processing (6000/45756):  14%|█▎        | 6200/45756 [13:57<3:09:51,  3.47record/s]\u001b[A\n",
            "Processing (6100/45756):  14%|█▎        | 6200/45756 [13:57<3:09:51,  3.47record/s]\u001b[A\n",
            "Processing (6100/45756):  14%|█▎        | 6200/45756 [13:57<3:09:51,  3.47record/s]\u001b[A\n",
            "Processing (6100/45756):  14%|█▍        | 6300/45756 [14:43<3:43:43,  2.94record/s]\u001b[A\n",
            "Processing (6200/45756):  14%|█▍        | 6300/45756 [14:43<3:43:43,  2.94record/s]\u001b[A\n",
            "Processing (6200/45756):  14%|█▍        | 6300/45756 [14:43<3:43:43,  2.94record/s]\u001b[A\n",
            "Processing (6200/45756):  14%|█▍        | 6400/45756 [15:17<3:42:02,  2.95record/s]\u001b[A\n",
            "Processing (6300/45756):  14%|█▍        | 6400/45756 [15:17<3:42:02,  2.95record/s]\u001b[A\n",
            "Processing (6300/45756):  14%|█▍        | 6400/45756 [15:17<3:42:02,  2.95record/s]\u001b[A"
          ]
        },
        {
          "output_type": "stream",
          "name": "stdout",
          "text": [
            "no neighbour\n"
          ]
        },
        {
          "output_type": "stream",
          "name": "stderr",
          "text": [
            "\n",
            "Processing (6300/45756):  14%|█▍        | 6500/45756 [15:48<3:36:34,  3.02record/s]\u001b[A\n",
            "Processing (6400/45756):  14%|█▍        | 6500/45756 [15:48<3:36:34,  3.02record/s]\u001b[A\n",
            "Processing (6400/45756):  14%|█▍        | 6500/45756 [15:48<3:36:34,  3.02record/s]\u001b[A\n",
            "Processing (6400/45756):  14%|█▍        | 6600/45756 [16:19<3:31:58,  3.08record/s]\u001b[A\n",
            "Processing (6500/45756):  14%|█▍        | 6600/45756 [16:19<3:31:58,  3.08record/s]\u001b[A\n",
            "Processing (6500/45756):  14%|█▍        | 6600/45756 [16:19<3:31:58,  3.08record/s]\u001b[A"
          ]
        },
        {
          "output_type": "stream",
          "name": "stdout",
          "text": [
            "no neighbour\n"
          ]
        },
        {
          "output_type": "stream",
          "name": "stderr",
          "text": [
            "\n",
            "Processing (6500/45756):  15%|█▍        | 6700/45756 [16:53<3:34:37,  3.03record/s]\u001b[A\n",
            "Processing (6600/45756):  15%|█▍        | 6700/45756 [16:53<3:34:37,  3.03record/s]\u001b[A\n",
            "Processing (6600/45756):  15%|█▍        | 6700/45756 [16:53<3:34:37,  3.03record/s]\u001b[A\n",
            "Processing (6600/45756):  15%|█▍        | 6800/45756 [17:23<3:27:46,  3.12record/s]\u001b[A\n",
            "Processing (6700/45756):  15%|█▍        | 6800/45756 [17:23<3:27:46,  3.12record/s]\u001b[A\n",
            "Processing (6700/45756):  15%|█▍        | 6800/45756 [17:23<3:27:46,  3.12record/s]\u001b[A\n",
            "Processing (6700/45756):  15%|█▌        | 6900/45756 [17:56<3:28:34,  3.10record/s]\u001b[A\n",
            "Processing (6800/45756):  15%|█▌        | 6900/45756 [17:56<3:28:34,  3.10record/s]\u001b[A\n",
            "Processing (6800/45756):  15%|█▌        | 6900/45756 [17:56<3:28:34,  3.10record/s]\u001b[A\n",
            "Processing (6800/45756):  15%|█▌        | 7000/45756 [18:30<3:32:14,  3.04record/s]\u001b[A\n",
            "Processing (6900/45756):  15%|█▌        | 7000/45756 [18:30<3:32:14,  3.04record/s]\u001b[A\n",
            "Processing (6900/45756):  15%|█▌        | 7000/45756 [18:30<3:32:14,  3.04record/s]\u001b[A"
          ]
        },
        {
          "output_type": "stream",
          "name": "stdout",
          "text": [
            "no neighbour\n"
          ]
        },
        {
          "output_type": "stream",
          "name": "stderr",
          "text": [
            "\n",
            "Processing (6900/45756):  16%|█▌        | 7100/45756 [19:08<3:40:56,  2.92record/s]\u001b[A\n",
            "Processing (7000/45756):  16%|█▌        | 7100/45756 [19:08<3:40:56,  2.92record/s]\u001b[A\n",
            "Processing (7000/45756):  16%|█▌        | 7100/45756 [19:08<3:40:56,  2.92record/s]\u001b[A"
          ]
        },
        {
          "output_type": "stream",
          "name": "stdout",
          "text": [
            "no neighbour\n"
          ]
        },
        {
          "output_type": "stream",
          "name": "stderr",
          "text": [
            "\n",
            "Processing (7000/45756):  16%|█▌        | 7200/45756 [19:43<3:42:06,  2.89record/s]\u001b[A\n",
            "Processing (7100/45756):  16%|█▌        | 7200/45756 [19:43<3:42:06,  2.89record/s]\u001b[A\n",
            "Processing (7100/45756):  16%|█▌        | 7200/45756 [19:43<3:42:06,  2.89record/s]\u001b[A"
          ]
        },
        {
          "output_type": "stream",
          "name": "stdout",
          "text": [
            "no neighbour\n"
          ]
        },
        {
          "output_type": "stream",
          "name": "stderr",
          "text": [
            "\n",
            "Processing (7100/45756):  16%|█▌        | 7300/45756 [20:22<3:50:09,  2.78record/s]\u001b[A\n",
            "Processing (7200/45756):  16%|█▌        | 7300/45756 [20:22<3:50:09,  2.78record/s]\u001b[A\n",
            "Processing (7200/45756):  16%|█▌        | 7300/45756 [20:22<3:50:09,  2.78record/s]\u001b[A"
          ]
        },
        {
          "output_type": "error",
          "ename": "KeyboardInterrupt",
          "evalue": "ignored",
          "traceback": [
            "\u001b[0;31m---------------------------------------------------------------------------\u001b[0m",
            "\u001b[0;31mKeyboardInterrupt\u001b[0m                         Traceback (most recent call last)",
            "\u001b[0;32m<ipython-input-309-cb8c5fff2722>\u001b[0m in \u001b[0;36m<cell line: 17>\u001b[0;34m()\u001b[0m\n\u001b[1;32m     27\u001b[0m             \u001b[0;32mfor\u001b[0m \u001b[0mcluster_num\u001b[0m\u001b[0;34m,\u001b[0m \u001b[0mcluster_list\u001b[0m \u001b[0;32min\u001b[0m \u001b[0menumerate\u001b[0m\u001b[0;34m(\u001b[0m\u001b[0mcommunities\u001b[0m\u001b[0;34m)\u001b[0m\u001b[0;34m:\u001b[0m\u001b[0;34m\u001b[0m\u001b[0;34m\u001b[0m\u001b[0m\n\u001b[1;32m     28\u001b[0m                 \u001b[0;32mfor\u001b[0m \u001b[0mcluster_id\u001b[0m \u001b[0;32min\u001b[0m \u001b[0mcluster_list\u001b[0m\u001b[0;34m:\u001b[0m\u001b[0;34m\u001b[0m\u001b[0;34m\u001b[0m\u001b[0m\n\u001b[0;32m---> 29\u001b[0;31m                     \u001b[0msim\u001b[0m \u001b[0;34m=\u001b[0m \u001b[0mcombined_similarity\u001b[0m\u001b[0;34m(\u001b[0m\u001b[0mneighbor_id\u001b[0m\u001b[0;34m,\u001b[0m \u001b[0mcluster_id\u001b[0m\u001b[0;34m,\u001b[0m \u001b[0mfollowers_dict\u001b[0m\u001b[0;34m,\u001b[0m \u001b[0mfollowings_dict\u001b[0m\u001b[0;34m,\u001b[0m \u001b[0mreply_dict\u001b[0m\u001b[0;34m,\u001b[0m \u001b[0mretweet_dict\u001b[0m\u001b[0;34m,\u001b[0m \u001b[0mmention_dict\u001b[0m\u001b[0;34m)\u001b[0m\u001b[0;34m\u001b[0m\u001b[0;34m\u001b[0m\u001b[0m\n\u001b[0m\u001b[1;32m     30\u001b[0m                     \u001b[0;31m#similarity(neighbor_id, cluster_id)\u001b[0m\u001b[0;34m\u001b[0m\u001b[0;34m\u001b[0m\u001b[0m\n\u001b[1;32m     31\u001b[0m \u001b[0;34m\u001b[0m\u001b[0m\n",
            "\u001b[0;32m<ipython-input-181-6a94ca9baa34>\u001b[0m in \u001b[0;36mcombined_similarity\u001b[0;34m(ID1, ID2, followers_dict, followings_dict, reply_dict, retweet_dict, mention_dict)\u001b[0m\n\u001b[1;32m      1\u001b[0m \u001b[0;32mdef\u001b[0m \u001b[0mcombined_similarity\u001b[0m\u001b[0;34m(\u001b[0m\u001b[0mID1\u001b[0m\u001b[0;34m,\u001b[0m \u001b[0mID2\u001b[0m\u001b[0;34m,\u001b[0m \u001b[0mfollowers_dict\u001b[0m\u001b[0;34m,\u001b[0m\u001b[0mfollowings_dict\u001b[0m\u001b[0;34m,\u001b[0m \u001b[0mreply_dict\u001b[0m\u001b[0;34m,\u001b[0m\u001b[0mretweet_dict\u001b[0m\u001b[0;34m,\u001b[0m\u001b[0mmention_dict\u001b[0m\u001b[0;34m)\u001b[0m\u001b[0;34m:\u001b[0m\u001b[0;34m\u001b[0m\u001b[0;34m\u001b[0m\u001b[0m\n\u001b[0;32m----> 2\u001b[0;31m     \u001b[0msc1\u001b[0m \u001b[0;34m=\u001b[0m \u001b[0mS1\u001b[0m\u001b[0;34m(\u001b[0m\u001b[0mID1\u001b[0m\u001b[0;34m,\u001b[0m \u001b[0mID2\u001b[0m\u001b[0;34m,\u001b[0m \u001b[0mfollowers_dict\u001b[0m\u001b[0;34m)\u001b[0m\u001b[0;34m\u001b[0m\u001b[0;34m\u001b[0m\u001b[0m\n\u001b[0m\u001b[1;32m      3\u001b[0m     \u001b[0msc2\u001b[0m \u001b[0;34m=\u001b[0m \u001b[0ms2\u001b[0m\u001b[0;34m(\u001b[0m\u001b[0mID1\u001b[0m\u001b[0;34m,\u001b[0m \u001b[0mID2\u001b[0m\u001b[0;34m,\u001b[0m \u001b[0mfollowings_dict\u001b[0m\u001b[0;34m)\u001b[0m\u001b[0;34m\u001b[0m\u001b[0;34m\u001b[0m\u001b[0m\n\u001b[1;32m      4\u001b[0m     \u001b[0msc3\u001b[0m \u001b[0;34m=\u001b[0m \u001b[0ms3\u001b[0m\u001b[0;34m(\u001b[0m\u001b[0mID1\u001b[0m\u001b[0;34m,\u001b[0m \u001b[0mID2\u001b[0m\u001b[0;34m,\u001b[0m \u001b[0mfollowers_dict\u001b[0m\u001b[0;34m)\u001b[0m\u001b[0;34m\u001b[0m\u001b[0;34m\u001b[0m\u001b[0m\n\u001b[1;32m      5\u001b[0m     \u001b[0msc4\u001b[0m \u001b[0;34m=\u001b[0m \u001b[0mS4\u001b[0m\u001b[0;34m(\u001b[0m\u001b[0mID1\u001b[0m\u001b[0;34m,\u001b[0m \u001b[0mID2\u001b[0m\u001b[0;34m,\u001b[0m \u001b[0mmention_dict\u001b[0m\u001b[0;34m)\u001b[0m\u001b[0;34m\u001b[0m\u001b[0;34m\u001b[0m\u001b[0m\n",
            "\u001b[0;32m<ipython-input-47-17710efd1319>\u001b[0m in \u001b[0;36mS1\u001b[0;34m(ID1, ID2, followers_dict)\u001b[0m\n\u001b[1;32m      7\u001b[0m     \u001b[0;32mif\u001b[0m \u001b[0mID1\u001b[0m \u001b[0;32min\u001b[0m \u001b[0mfollowers_list_2\u001b[0m \u001b[0;32mand\u001b[0m \u001b[0mID2\u001b[0m \u001b[0;32min\u001b[0m \u001b[0mfollowers_list_1\u001b[0m\u001b[0;34m:\u001b[0m\u001b[0;34m\u001b[0m\u001b[0;34m\u001b[0m\u001b[0m\n\u001b[1;32m      8\u001b[0m         \u001b[0;32mreturn\u001b[0m \u001b[0;36m1.0\u001b[0m  \u001b[0;31m# Both follow each other, similarity score = 1\u001b[0m\u001b[0;34m\u001b[0m\u001b[0;34m\u001b[0m\u001b[0m\n\u001b[0;32m----> 9\u001b[0;31m     \u001b[0;32melif\u001b[0m \u001b[0mID1\u001b[0m \u001b[0;32min\u001b[0m \u001b[0mfollowers_list_2\u001b[0m \u001b[0;32mor\u001b[0m \u001b[0mID2\u001b[0m \u001b[0;32min\u001b[0m \u001b[0mfollowers_list_1\u001b[0m\u001b[0;34m:\u001b[0m\u001b[0;34m\u001b[0m\u001b[0;34m\u001b[0m\u001b[0m\n\u001b[0m\u001b[1;32m     10\u001b[0m         \u001b[0;32mreturn\u001b[0m \u001b[0;36m0.5\u001b[0m  \u001b[0;31m# Only one follows the other, similarity score = 0.5\u001b[0m\u001b[0;34m\u001b[0m\u001b[0;34m\u001b[0m\u001b[0m\n\u001b[1;32m     11\u001b[0m     \u001b[0;32melse\u001b[0m\u001b[0;34m:\u001b[0m\u001b[0;34m\u001b[0m\u001b[0;34m\u001b[0m\u001b[0m\n",
            "\u001b[0;31mKeyboardInterrupt\u001b[0m: "
          ]
        }
      ]
    },
    {
      "cell_type": "code",
      "source": [
        "import pandas as pd\n",
        "\n",
        "# Assuming you have already created the 'new_df' DataFrame as shown in the previous code\n",
        "# and filled NaN values with 0\n",
        "\n",
        "# Group the DataFrame by the 'cluster' column and count the occurrences of each cluster\n",
        "cluster_counts = new_df.groupby('cluster').count()\n",
        "\n",
        "# Get the counts for 'cluster1' and 'cluster2'\n",
        "count_cluster1 = cluster_counts.loc['cluster1', 'ID']\n",
        "count_cluster2 = cluster_counts.loc['cluster2', 'ID']\n",
        "count_cluster3 = cluster_counts.loc['cluster3', 'ID']\n",
        "count_cluster4 = cluster_counts.loc['cluster4', 'ID']\n",
        "count_cluster5 = cluster_counts.loc['cluster5', 'ID']\n",
        "count_cluster6 = cluster_counts.loc['cluster6', 'ID']\n",
        "count_cluster7 = cluster_counts.loc['cluster7', 'ID']\n",
        "\n",
        "# Get the summation of counts for 'cluster1' and 'cluster2'\n",
        "summation = count_cluster1 + count_cluster2+count_cluster3+count_cluster4 + count_cluster5+count_cluster6 + count_cluster7\n",
        "\n",
        "# Display the counts and the summation\n",
        "print(f\"Count in cluster1: {count_cluster1}\")\n",
        "print(f\"Count in cluster2: {count_cluster2}\")\n",
        "print(f\"Count in cluster3: {count_cluster3}\")\n",
        "print(f\"Count in cluster4: {count_cluster4}\")\n",
        "print(f\"Count in cluster5: {count_cluster5}\")\n",
        "print(f\"Count in cluster6: {count_cluster6}\")\n",
        "print(f\"Count in cluster7: {count_cluster7}\")\n",
        "print(f\"Summation: {summation}\")\n"
      ],
      "metadata": {
        "colab": {
          "base_uri": "https://localhost:8080/"
        },
        "id": "ZthRGQLmrcIO",
        "outputId": "509051c7-364a-460c-f50b-313fb6ed797b"
      },
      "execution_count": null,
      "outputs": [
        {
          "output_type": "stream",
          "name": "stdout",
          "text": [
            "Count in cluster1: 98\n",
            "Count in cluster2: 798\n",
            "Count in cluster3: 7046\n",
            "Count in cluster4: 35\n",
            "Count in cluster5: 10\n",
            "Count in cluster6: 28\n",
            "Count in cluster7: 16\n",
            "Summation: 8031\n"
          ]
        },
        {
          "output_type": "stream",
          "name": "stderr",
          "text": [
            "/usr/local/lib/python3.10/dist-packages/ipykernel/ipkernel.py:283: DeprecationWarning: `should_run_async` will not call `transform_cell` automatically in the future. Please pass the result to `transformed_cell` argument and any exception that happen during thetransform in `preprocessing_exc_tuple` in IPython 7.17 and above.\n",
            "  and should_run_async(code)\n"
          ]
        }
      ]
    },
    {
      "cell_type": "code",
      "source": [
        "import pandas as pd\n",
        "\n",
        "# Assuming you have already created the 'new_df' DataFrame as shown in the previous code\n",
        "# and filled NaN values with 0\n",
        "\n",
        "# Group the DataFrame by the 'cluster' column and count the occurrences of each cluster\n",
        "cluster_counts = new_df.groupby('cluster').count()\n",
        "\n",
        "# Get the counts for 'cluster1' and 'cluster2'\n",
        "count_cluster1 = cluster_counts.loc['cluster1', 'ID']\n",
        "count_cluster2 = cluster_counts.loc['cluster2', 'ID']\n",
        "count_cluster3 = cluster_counts.loc['cluster3', 'ID']\n",
        "count_cluster4 = cluster_counts.loc['cluster4', 'ID']\n",
        "count_cluster5 = cluster_counts.loc['cluster5', 'ID']\n",
        "count_cluster6 = cluster_counts.loc['cluster6', 'ID']\n",
        "count_cluster7 = cluster_counts.loc['cluster7', 'ID']\n",
        "\n",
        "# Get the summation of counts for 'cluster1' and 'cluster2'\n",
        "summation = count_cluster1 + count_cluster2+count_cluster3+count_cluster4 + count_cluster5+count_cluster6 + count_cluster7\n",
        "\n",
        "# Display the counts and the summation\n",
        "print(f\"Count in cluster1: {count_cluster1}\")\n",
        "print(f\"Count in cluster2: {count_cluster2}\")\n",
        "print(f\"Count in cluster3: {count_cluster3}\")\n",
        "print(f\"Count in cluster4: {count_cluster4}\")\n",
        "print(f\"Count in cluster5: {count_cluster5}\")\n",
        "print(f\"Count in cluster6: {count_cluster6}\")\n",
        "print(f\"Count in cluster7: {count_cluster7}\")\n",
        "print(f\"Summation: {summation}\")\n"
      ],
      "metadata": {
        "id": "8nOCp_HUauix"
      },
      "execution_count": null,
      "outputs": []
    },
    {
      "cell_type": "code",
      "source": [],
      "metadata": {
        "id": "i0wU07G3augP"
      },
      "execution_count": null,
      "outputs": []
    },
    {
      "cell_type": "code",
      "source": [],
      "metadata": {
        "id": "rHw_YWb2auas"
      },
      "execution_count": null,
      "outputs": []
    },
    {
      "cell_type": "code",
      "source": [],
      "metadata": {
        "id": "Qwj0SXNOauX5"
      },
      "execution_count": null,
      "outputs": []
    },
    {
      "cell_type": "code",
      "source": [
        "import pandas as pd\n",
        "\n",
        "# Assuming you have already created the 'new_df' DataFrame as shown in the previous code\n",
        "# and filled NaN values with 0\n",
        "\n",
        "# Group the DataFrame by the 'cluster' column and count the occurrences of each cluster\n",
        "cluster_counts = new_df.groupby('cluster').count()\n",
        "\n",
        "# Get the counts for 'cluster1' and 'cluster2'\n",
        "count_cluster1 = cluster_counts.loc['cluster1', 'ID']\n",
        "count_cluster2 = cluster_counts.loc['cluster2', 'ID']\n",
        "count_cluster3 = cluster_counts.loc['cluster3', 'ID']\n",
        "count_cluster4 = cluster_counts.loc['cluster4', 'ID']\n",
        "count_cluster5 = cluster_counts.loc['cluster5', 'ID']\n",
        "count_cluster6 = cluster_counts.loc['cluster6', 'ID']\n",
        "count_cluster7 = cluster_counts.loc['cluster7', 'ID']\n",
        "\n",
        "# Get the summation of counts for 'cluster1' and 'cluster2'\n",
        "summation = count_cluster1 + count_cluster2+count_cluster3+count_cluster4 + count_cluster5+count_cluster6 + count_cluster7\n",
        "\n",
        "# Display the counts and the summation\n",
        "print(f\"Count in cluster1: {count_cluster1}\")\n",
        "print(f\"Count in cluster2: {count_cluster2}\")\n",
        "print(f\"Count in cluster3: {count_cluster3}\")\n",
        "print(f\"Count in cluster4: {count_cluster4}\")\n",
        "print(f\"Count in cluster5: {count_cluster5}\")\n",
        "print(f\"Count in cluster6: {count_cluster6}\")\n",
        "print(f\"Count in cluster7: {count_cluster7}\")\n",
        "print(f\"Summation: {summation}\")\n"
      ],
      "metadata": {
        "colab": {
          "base_uri": "https://localhost:8080/"
        },
        "id": "XYhQt3JRVjJ7",
        "outputId": "9ed01dc0-4a41-4260-f78a-001aae217858"
      },
      "execution_count": null,
      "outputs": [
        {
          "output_type": "stream",
          "name": "stdout",
          "text": [
            "Count in cluster1: 16\n",
            "Count in cluster2: 531\n",
            "Count in cluster3: 1905\n",
            "Count in cluster4: 47\n",
            "Count in cluster5: 16\n",
            "Count in cluster6: 71\n",
            "Count in cluster7: 35\n",
            "Summation: 2621\n"
          ]
        },
        {
          "output_type": "stream",
          "name": "stderr",
          "text": [
            "/usr/local/lib/python3.10/dist-packages/ipykernel/ipkernel.py:283: DeprecationWarning: `should_run_async` will not call `transform_cell` automatically in the future. Please pass the result to `transformed_cell` argument and any exception that happen during thetransform in `preprocessing_exc_tuple` in IPython 7.17 and above.\n",
            "  and should_run_async(code)\n"
          ]
        }
      ]
    },
    {
      "cell_type": "code",
      "source": [],
      "metadata": {
        "id": "nxX_55fXVjHY"
      },
      "execution_count": null,
      "outputs": []
    },
    {
      "cell_type": "code",
      "source": [],
      "metadata": {
        "colab": {
          "base_uri": "https://localhost:8080/",
          "height": 261
        },
        "id": "ysnrG65QVjFL",
        "outputId": "57d43380-3b63-4653-9795-728fe5cb32f4"
      },
      "execution_count": null,
      "outputs": [
        {
          "output_type": "stream",
          "name": "stderr",
          "text": [
            "/usr/local/lib/python3.10/dist-packages/ipykernel/ipkernel.py:283: DeprecationWarning: `should_run_async` will not call `transform_cell` automatically in the future. Please pass the result to `transformed_cell` argument and any exception that happen during thetransform in `preprocessing_exc_tuple` in IPython 7.17 and above.\n",
            "  and should_run_async(code)\n"
          ]
        },
        {
          "output_type": "execute_result",
          "data": {
            "text/plain": [
              "   ID cluster\n",
              "0   1       0\n",
              "1   2       0\n",
              "2   3       0\n",
              "3   4       0\n",
              "4   5       0"
            ],
            "text/html": [
              "\n",
              "\n",
              "  <div id=\"df-d340cb05-8fd2-4869-9cf9-ce490a74ac13\">\n",
              "    <div class=\"colab-df-container\">\n",
              "      <div>\n",
              "<style scoped>\n",
              "    .dataframe tbody tr th:only-of-type {\n",
              "        vertical-align: middle;\n",
              "    }\n",
              "\n",
              "    .dataframe tbody tr th {\n",
              "        vertical-align: top;\n",
              "    }\n",
              "\n",
              "    .dataframe thead th {\n",
              "        text-align: right;\n",
              "    }\n",
              "</style>\n",
              "<table border=\"1\" class=\"dataframe\">\n",
              "  <thead>\n",
              "    <tr style=\"text-align: right;\">\n",
              "      <th></th>\n",
              "      <th>ID</th>\n",
              "      <th>cluster</th>\n",
              "    </tr>\n",
              "  </thead>\n",
              "  <tbody>\n",
              "    <tr>\n",
              "      <th>0</th>\n",
              "      <td>1</td>\n",
              "      <td>0</td>\n",
              "    </tr>\n",
              "    <tr>\n",
              "      <th>1</th>\n",
              "      <td>2</td>\n",
              "      <td>0</td>\n",
              "    </tr>\n",
              "    <tr>\n",
              "      <th>2</th>\n",
              "      <td>3</td>\n",
              "      <td>0</td>\n",
              "    </tr>\n",
              "    <tr>\n",
              "      <th>3</th>\n",
              "      <td>4</td>\n",
              "      <td>0</td>\n",
              "    </tr>\n",
              "    <tr>\n",
              "      <th>4</th>\n",
              "      <td>5</td>\n",
              "      <td>0</td>\n",
              "    </tr>\n",
              "  </tbody>\n",
              "</table>\n",
              "</div>\n",
              "      <button class=\"colab-df-convert\" onclick=\"convertToInteractive('df-d340cb05-8fd2-4869-9cf9-ce490a74ac13')\"\n",
              "              title=\"Convert this dataframe to an interactive table.\"\n",
              "              style=\"display:none;\">\n",
              "\n",
              "  <svg xmlns=\"http://www.w3.org/2000/svg\" height=\"24px\"viewBox=\"0 0 24 24\"\n",
              "       width=\"24px\">\n",
              "    <path d=\"M0 0h24v24H0V0z\" fill=\"none\"/>\n",
              "    <path d=\"M18.56 5.44l.94 2.06.94-2.06 2.06-.94-2.06-.94-.94-2.06-.94 2.06-2.06.94zm-11 1L8.5 8.5l.94-2.06 2.06-.94-2.06-.94L8.5 2.5l-.94 2.06-2.06.94zm10 10l.94 2.06.94-2.06 2.06-.94-2.06-.94-.94-2.06-.94 2.06-2.06.94z\"/><path d=\"M17.41 7.96l-1.37-1.37c-.4-.4-.92-.59-1.43-.59-.52 0-1.04.2-1.43.59L10.3 9.45l-7.72 7.72c-.78.78-.78 2.05 0 2.83L4 21.41c.39.39.9.59 1.41.59.51 0 1.02-.2 1.41-.59l7.78-7.78 2.81-2.81c.8-.78.8-2.07 0-2.86zM5.41 20L4 18.59l7.72-7.72 1.47 1.35L5.41 20z\"/>\n",
              "  </svg>\n",
              "      </button>\n",
              "\n",
              "\n",
              "\n",
              "    <div id=\"df-c9863c57-57ce-4018-857b-6d76b9424f5f\">\n",
              "      <button class=\"colab-df-quickchart\" onclick=\"quickchart('df-c9863c57-57ce-4018-857b-6d76b9424f5f')\"\n",
              "              title=\"Suggest charts.\"\n",
              "              style=\"display:none;\">\n",
              "\n",
              "<svg xmlns=\"http://www.w3.org/2000/svg\" height=\"24px\"viewBox=\"0 0 24 24\"\n",
              "     width=\"24px\">\n",
              "    <g>\n",
              "        <path d=\"M19 3H5c-1.1 0-2 .9-2 2v14c0 1.1.9 2 2 2h14c1.1 0 2-.9 2-2V5c0-1.1-.9-2-2-2zM9 17H7v-7h2v7zm4 0h-2V7h2v10zm4 0h-2v-4h2v4z\"/>\n",
              "    </g>\n",
              "</svg>\n",
              "      </button>\n",
              "    </div>\n",
              "\n",
              "<style>\n",
              "  .colab-df-quickchart {\n",
              "    background-color: #E8F0FE;\n",
              "    border: none;\n",
              "    border-radius: 50%;\n",
              "    cursor: pointer;\n",
              "    display: none;\n",
              "    fill: #1967D2;\n",
              "    height: 32px;\n",
              "    padding: 0 0 0 0;\n",
              "    width: 32px;\n",
              "  }\n",
              "\n",
              "  .colab-df-quickchart:hover {\n",
              "    background-color: #E2EBFA;\n",
              "    box-shadow: 0px 1px 2px rgba(60, 64, 67, 0.3), 0px 1px 3px 1px rgba(60, 64, 67, 0.15);\n",
              "    fill: #174EA6;\n",
              "  }\n",
              "\n",
              "  [theme=dark] .colab-df-quickchart {\n",
              "    background-color: #3B4455;\n",
              "    fill: #D2E3FC;\n",
              "  }\n",
              "\n",
              "  [theme=dark] .colab-df-quickchart:hover {\n",
              "    background-color: #434B5C;\n",
              "    box-shadow: 0px 1px 3px 1px rgba(0, 0, 0, 0.15);\n",
              "    filter: drop-shadow(0px 1px 2px rgba(0, 0, 0, 0.3));\n",
              "    fill: #FFFFFF;\n",
              "  }\n",
              "</style>\n",
              "\n",
              "    <script>\n",
              "      async function quickchart(key) {\n",
              "        const containerElement = document.querySelector('#' + key);\n",
              "        const charts = await google.colab.kernel.invokeFunction(\n",
              "            'suggestCharts', [key], {});\n",
              "      }\n",
              "    </script>\n",
              "\n",
              "      <script>\n",
              "\n",
              "function displayQuickchartButton(domScope) {\n",
              "  let quickchartButtonEl =\n",
              "    domScope.querySelector('#df-c9863c57-57ce-4018-857b-6d76b9424f5f button.colab-df-quickchart');\n",
              "  quickchartButtonEl.style.display =\n",
              "    google.colab.kernel.accessAllowed ? 'block' : 'none';\n",
              "}\n",
              "\n",
              "        displayQuickchartButton(document);\n",
              "      </script>\n",
              "      <style>\n",
              "    .colab-df-container {\n",
              "      display:flex;\n",
              "      flex-wrap:wrap;\n",
              "      gap: 12px;\n",
              "    }\n",
              "\n",
              "    .colab-df-convert {\n",
              "      background-color: #E8F0FE;\n",
              "      border: none;\n",
              "      border-radius: 50%;\n",
              "      cursor: pointer;\n",
              "      display: none;\n",
              "      fill: #1967D2;\n",
              "      height: 32px;\n",
              "      padding: 0 0 0 0;\n",
              "      width: 32px;\n",
              "    }\n",
              "\n",
              "    .colab-df-convert:hover {\n",
              "      background-color: #E2EBFA;\n",
              "      box-shadow: 0px 1px 2px rgba(60, 64, 67, 0.3), 0px 1px 3px 1px rgba(60, 64, 67, 0.15);\n",
              "      fill: #174EA6;\n",
              "    }\n",
              "\n",
              "    [theme=dark] .colab-df-convert {\n",
              "      background-color: #3B4455;\n",
              "      fill: #D2E3FC;\n",
              "    }\n",
              "\n",
              "    [theme=dark] .colab-df-convert:hover {\n",
              "      background-color: #434B5C;\n",
              "      box-shadow: 0px 1px 3px 1px rgba(0, 0, 0, 0.15);\n",
              "      filter: drop-shadow(0px 1px 2px rgba(0, 0, 0, 0.3));\n",
              "      fill: #FFFFFF;\n",
              "    }\n",
              "  </style>\n",
              "\n",
              "      <script>\n",
              "        const buttonEl =\n",
              "          document.querySelector('#df-d340cb05-8fd2-4869-9cf9-ce490a74ac13 button.colab-df-convert');\n",
              "        buttonEl.style.display =\n",
              "          google.colab.kernel.accessAllowed ? 'block' : 'none';\n",
              "\n",
              "        async function convertToInteractive(key) {\n",
              "          const element = document.querySelector('#df-d340cb05-8fd2-4869-9cf9-ce490a74ac13');\n",
              "          const dataTable =\n",
              "            await google.colab.kernel.invokeFunction('convertToInteractive',\n",
              "                                                     [key], {});\n",
              "          if (!dataTable) return;\n",
              "\n",
              "          const docLinkHtml = 'Like what you see? Visit the ' +\n",
              "            '<a target=\"_blank\" href=https://colab.research.google.com/notebooks/data_table.ipynb>data table notebook</a>'\n",
              "            + ' to learn more about interactive tables.';\n",
              "          element.innerHTML = '';\n",
              "          dataTable['output_type'] = 'display_data';\n",
              "          await google.colab.output.renderOutput(dataTable, element);\n",
              "          const docLink = document.createElement('div');\n",
              "          docLink.innerHTML = docLinkHtml;\n",
              "          element.appendChild(docLink);\n",
              "        }\n",
              "      </script>\n",
              "    </div>\n",
              "  </div>\n"
            ]
          },
          "metadata": {},
          "execution_count": 244
        }
      ]
    },
    {
      "cell_type": "code",
      "source": [
        "from tqdm import tqdm\n",
        "\n",
        "# communities is a list of lists containing the IDs of each community\n",
        "# For example, communities = [['ID1', 'ID2', ...], ['ID3', 'ID4', ...], ...]\n",
        "\n",
        "# Create a dictionary to map community index to cluster name\n",
        "cluster_names = {idx: f'cluster{idx+1}' for idx, comm in enumerate(communities)}\n",
        "\n",
        "\n",
        "\n",
        "# Loop over new_df and update the 'cluster' column using the community names\n",
        "for index, row in new_df.iterrows():\n",
        "  if row['cluster'] is None:\n",
        "        # Create a dictionary to store the score for each cluster\n",
        "        cluster_scores = {}\n",
        "\n",
        "        # Find the neighbors using the 'ID' of the current row\n",
        "        neighbors = DF.loc[DF['ID1'] == row['ID'], 'ID2'].tolist()\n",
        "\n",
        "        # Calculate similarity score for each neighbor and cluster\n",
        "        for neighbor_id in neighbors:\n",
        "            for cluster_num, cluster_list in enumerate(communities):\n",
        "                for cluster_id in cluster_list:\n",
        "                    sim = combined_similarity(neighbor_id, cluster_id, followers_dict, followings_dict, reply_dict, retweet_dict, mention_dict)\n",
        "                    #similarity(neighbor_id, cluster_id)\n",
        "\n",
        "                    # Add the similarity score to the corresponding cluster\n",
        "                    if cluster_num in cluster_scores:\n",
        "                        cluster_scores[cluster_num] += sim\n",
        "                    else:\n",
        "                        cluster_scores[cluster_num] = sim\n",
        "        if neighbors==[]:\n",
        "          new_df.at[index, 'cluster'] = 'isolated'\n",
        "          print('no neighbour')\n",
        "        else:\n",
        "          # Find the cluster with the highest score\n",
        "          max_cluster = max(cluster_scores, key=cluster_scores.get)\n",
        "\n",
        "          # Assign the cluster with the highest score to the 'cluster' column for the current row\n",
        "          new_df.at[index, 'cluster'] = f'cluster{max_cluster+1}'\n",
        "# Print the final dataframe\n",
        "new_df.head()"
      ],
      "metadata": {
        "id": "YZwOrNR6VjCv"
      },
      "execution_count": null,
      "outputs": []
    },
    {
      "cell_type": "code",
      "source": [
        "cluster_counts = new_df['cluster'].value_counts()\n",
        "\n",
        "cluster_counts"
      ],
      "metadata": {
        "colab": {
          "base_uri": "https://localhost:8080/"
        },
        "id": "417R9b1SVjAM",
        "outputId": "930e2e50-7261-4c0c-8a85-0a40e6107a0c"
      },
      "execution_count": null,
      "outputs": [
        {
          "output_type": "stream",
          "name": "stderr",
          "text": [
            "/usr/local/lib/python3.10/dist-packages/ipykernel/ipkernel.py:283: DeprecationWarning: `should_run_async` will not call `transform_cell` automatically in the future. Please pass the result to `transformed_cell` argument and any exception that happen during thetransform in `preprocessing_exc_tuple` in IPython 7.17 and above.\n",
            "  and should_run_async(code)\n"
          ]
        },
        {
          "output_type": "execute_result",
          "data": {
            "text/plain": [
              "cluster3    44948\n",
              "cluster2      531\n",
              "isolated      106\n",
              "cluster6       71\n",
              "cluster4       47\n",
              "cluster7       35\n",
              "cluster5       16\n",
              "cluster1        2\n",
              "Name: cluster, dtype: int64"
            ]
          },
          "metadata": {},
          "execution_count": 353
        }
      ]
    },
    {
      "cell_type": "code",
      "source": [],
      "metadata": {
        "id": "UX671O_bVi9n"
      },
      "execution_count": null,
      "outputs": []
    },
    {
      "cell_type": "code",
      "source": [],
      "metadata": {
        "id": "GEHuc-R-Vi7P"
      },
      "execution_count": null,
      "outputs": []
    },
    {
      "cell_type": "code",
      "source": [],
      "metadata": {
        "id": "eoKxuvKUVi40"
      },
      "execution_count": null,
      "outputs": []
    },
    {
      "cell_type": "code",
      "source": [],
      "metadata": {
        "id": "lI7KPnkQVi2P"
      },
      "execution_count": null,
      "outputs": []
    },
    {
      "cell_type": "code",
      "source": [],
      "metadata": {
        "id": "pXSAXsC9Vizz"
      },
      "execution_count": null,
      "outputs": []
    },
    {
      "cell_type": "code",
      "source": [],
      "metadata": {
        "id": "ZVXip3S-Vixr"
      },
      "execution_count": null,
      "outputs": []
    },
    {
      "cell_type": "code",
      "source": [],
      "metadata": {
        "id": "scYBNBhSVivL"
      },
      "execution_count": null,
      "outputs": []
    },
    {
      "cell_type": "code",
      "source": [],
      "metadata": {
        "id": "-iUwZgmHVisd"
      },
      "execution_count": null,
      "outputs": []
    },
    {
      "cell_type": "code",
      "source": [],
      "metadata": {
        "id": "27u0NceQVip5"
      },
      "execution_count": null,
      "outputs": []
    },
    {
      "cell_type": "code",
      "source": [],
      "metadata": {
        "id": "YE-tY6jaVinf"
      },
      "execution_count": null,
      "outputs": []
    },
    {
      "cell_type": "code",
      "source": [],
      "metadata": {
        "id": "JFfic3hrT6wq"
      },
      "execution_count": null,
      "outputs": []
    },
    {
      "cell_type": "code",
      "source": [
        "cluster_names = {idx: f'cluster{idx+1}' for idx, comm in enumerate(communities)}\n",
        "cluster_names"
      ],
      "metadata": {
        "colab": {
          "base_uri": "https://localhost:8080/"
        },
        "id": "2Dt53jL5DVT5",
        "outputId": "9ad2f454-0f87-45fc-d3a0-57e990cb1fe2"
      },
      "execution_count": null,
      "outputs": [
        {
          "output_type": "stream",
          "name": "stderr",
          "text": [
            "/usr/local/lib/python3.10/dist-packages/ipykernel/ipkernel.py:283: DeprecationWarning: `should_run_async` will not call `transform_cell` automatically in the future. Please pass the result to `transformed_cell` argument and any exception that happen during thetransform in `preprocessing_exc_tuple` in IPython 7.17 and above.\n",
            "  and should_run_async(code)\n"
          ]
        },
        {
          "output_type": "execute_result",
          "data": {
            "text/plain": [
              "{0: 'cluster1',\n",
              " 1: 'cluster2',\n",
              " 2: 'cluster3',\n",
              " 3: 'cluster4',\n",
              " 4: 'cluster5',\n",
              " 5: 'cluster6',\n",
              " 6: 'cluster7'}"
            ]
          },
          "metadata": {},
          "execution_count": 225
        }
      ]
    },
    {
      "cell_type": "code",
      "source": [
        "from tqdm import tqdm\n",
        "\n",
        "# communities is a list of lists containing the IDs of each community\n",
        "# For example, communities = [['ID1', 'ID2', ...], ['ID3', 'ID4', ...], ...]\n",
        "\n",
        "# Create a dictionary to map community index to cluster name\n",
        "cluster_names = {idx: f'cluster{idx+1}' for idx, comm in enumerate(communities)}\n",
        "\n",
        "# Get the total number of records in new_df\n",
        "total_records = len(new_df)\n",
        "\n",
        "# Create a progress bar using tqdm\n",
        "progress_bar = tqdm(total=total_records, desc=\"Processing\", unit=\"record\", dynamic_ncols=True)\n",
        "\n",
        "# Loop over new_df and update the 'cluster' column using the community names\n",
        "for index, row in new_df.iterrows():\n",
        "    max_similarity = 0\n",
        "    max_cluster = None\n",
        "\n",
        "    # Calculate similarity for each cluster and find the cluster with the max similarity\n",
        "    for cluster_num, cluster_list in enumerate(communities):\n",
        "        for cluster_id in cluster_list:\n",
        "            # sim = similarity(row['ID'], cluster_id)\n",
        "            sim = combined_similarity(row['ID'], cluster_id, followers_dict, followings_dict, reply_dict, retweet_dict, mention_dict)\n",
        "\n",
        "            if sim > max_similarity:\n",
        "                max_similarity = sim\n",
        "                max_cluster = cluster_num\n",
        "\n",
        "    # If the max_cluster is not None, assign the corresponding cluster name to the 'cluster' column\n",
        "    if max_cluster is not None:\n",
        "        cluster_name = cluster_names[max_cluster]\n",
        "        new_df.at[index, 'cluster'] = cluster_name\n",
        "\n",
        "    # Update the progress bar for every 1000 records\n",
        "    if index % 1000 == 0:\n",
        "        progress_bar.update(1000)\n",
        "        progress_bar.set_description(f\"Processing ({index}/{total_records})\")\n",
        "        progress_bar.refresh()\n",
        "\n",
        "# Close the progress bar\n",
        "progress_bar.close()\n",
        "\n",
        "# Print the final dataframe\n",
        "new_df.head()"
      ],
      "metadata": {
        "id": "LDy9XmJSztGn",
        "colab": {
          "base_uri": "https://localhost:8080/",
          "height": 278
        },
        "outputId": "c769025b-6476-47e6-f2cc-b81650388b35"
      },
      "execution_count": null,
      "outputs": [
        {
          "output_type": "stream",
          "name": "stderr",
          "text": [
            "/usr/local/lib/python3.10/dist-packages/ipykernel/ipkernel.py:283: DeprecationWarning: `should_run_async` will not call `transform_cell` automatically in the future. Please pass the result to `transformed_cell` argument and any exception that happen during thetransform in `preprocessing_exc_tuple` in IPython 7.17 and above.\n",
            "  and should_run_async(code)\n",
            "Processing (45000/45756): : 46000record [02:11, 350.19record/s]\n"
          ]
        },
        {
          "output_type": "execute_result",
          "data": {
            "text/plain": [
              "   ID   cluster\n",
              "0   1  cluster1\n",
              "1   2  cluster3\n",
              "2   3  cluster3\n",
              "3   4  cluster3\n",
              "4   5  cluster3"
            ],
            "text/html": [
              "\n",
              "\n",
              "  <div id=\"df-f4984b52-af97-4609-b1bb-a95d3cdae9cd\">\n",
              "    <div class=\"colab-df-container\">\n",
              "      <div>\n",
              "<style scoped>\n",
              "    .dataframe tbody tr th:only-of-type {\n",
              "        vertical-align: middle;\n",
              "    }\n",
              "\n",
              "    .dataframe tbody tr th {\n",
              "        vertical-align: top;\n",
              "    }\n",
              "\n",
              "    .dataframe thead th {\n",
              "        text-align: right;\n",
              "    }\n",
              "</style>\n",
              "<table border=\"1\" class=\"dataframe\">\n",
              "  <thead>\n",
              "    <tr style=\"text-align: right;\">\n",
              "      <th></th>\n",
              "      <th>ID</th>\n",
              "      <th>cluster</th>\n",
              "    </tr>\n",
              "  </thead>\n",
              "  <tbody>\n",
              "    <tr>\n",
              "      <th>0</th>\n",
              "      <td>1</td>\n",
              "      <td>cluster1</td>\n",
              "    </tr>\n",
              "    <tr>\n",
              "      <th>1</th>\n",
              "      <td>2</td>\n",
              "      <td>cluster3</td>\n",
              "    </tr>\n",
              "    <tr>\n",
              "      <th>2</th>\n",
              "      <td>3</td>\n",
              "      <td>cluster3</td>\n",
              "    </tr>\n",
              "    <tr>\n",
              "      <th>3</th>\n",
              "      <td>4</td>\n",
              "      <td>cluster3</td>\n",
              "    </tr>\n",
              "    <tr>\n",
              "      <th>4</th>\n",
              "      <td>5</td>\n",
              "      <td>cluster3</td>\n",
              "    </tr>\n",
              "  </tbody>\n",
              "</table>\n",
              "</div>\n",
              "      <button class=\"colab-df-convert\" onclick=\"convertToInteractive('df-f4984b52-af97-4609-b1bb-a95d3cdae9cd')\"\n",
              "              title=\"Convert this dataframe to an interactive table.\"\n",
              "              style=\"display:none;\">\n",
              "\n",
              "  <svg xmlns=\"http://www.w3.org/2000/svg\" height=\"24px\"viewBox=\"0 0 24 24\"\n",
              "       width=\"24px\">\n",
              "    <path d=\"M0 0h24v24H0V0z\" fill=\"none\"/>\n",
              "    <path d=\"M18.56 5.44l.94 2.06.94-2.06 2.06-.94-2.06-.94-.94-2.06-.94 2.06-2.06.94zm-11 1L8.5 8.5l.94-2.06 2.06-.94-2.06-.94L8.5 2.5l-.94 2.06-2.06.94zm10 10l.94 2.06.94-2.06 2.06-.94-2.06-.94-.94-2.06-.94 2.06-2.06.94z\"/><path d=\"M17.41 7.96l-1.37-1.37c-.4-.4-.92-.59-1.43-.59-.52 0-1.04.2-1.43.59L10.3 9.45l-7.72 7.72c-.78.78-.78 2.05 0 2.83L4 21.41c.39.39.9.59 1.41.59.51 0 1.02-.2 1.41-.59l7.78-7.78 2.81-2.81c.8-.78.8-2.07 0-2.86zM5.41 20L4 18.59l7.72-7.72 1.47 1.35L5.41 20z\"/>\n",
              "  </svg>\n",
              "      </button>\n",
              "\n",
              "\n",
              "\n",
              "    <div id=\"df-b65cf8e6-0977-4361-8d20-0160f322fd4a\">\n",
              "      <button class=\"colab-df-quickchart\" onclick=\"quickchart('df-b65cf8e6-0977-4361-8d20-0160f322fd4a')\"\n",
              "              title=\"Suggest charts.\"\n",
              "              style=\"display:none;\">\n",
              "\n",
              "<svg xmlns=\"http://www.w3.org/2000/svg\" height=\"24px\"viewBox=\"0 0 24 24\"\n",
              "     width=\"24px\">\n",
              "    <g>\n",
              "        <path d=\"M19 3H5c-1.1 0-2 .9-2 2v14c0 1.1.9 2 2 2h14c1.1 0 2-.9 2-2V5c0-1.1-.9-2-2-2zM9 17H7v-7h2v7zm4 0h-2V7h2v10zm4 0h-2v-4h2v4z\"/>\n",
              "    </g>\n",
              "</svg>\n",
              "      </button>\n",
              "    </div>\n",
              "\n",
              "<style>\n",
              "  .colab-df-quickchart {\n",
              "    background-color: #E8F0FE;\n",
              "    border: none;\n",
              "    border-radius: 50%;\n",
              "    cursor: pointer;\n",
              "    display: none;\n",
              "    fill: #1967D2;\n",
              "    height: 32px;\n",
              "    padding: 0 0 0 0;\n",
              "    width: 32px;\n",
              "  }\n",
              "\n",
              "  .colab-df-quickchart:hover {\n",
              "    background-color: #E2EBFA;\n",
              "    box-shadow: 0px 1px 2px rgba(60, 64, 67, 0.3), 0px 1px 3px 1px rgba(60, 64, 67, 0.15);\n",
              "    fill: #174EA6;\n",
              "  }\n",
              "\n",
              "  [theme=dark] .colab-df-quickchart {\n",
              "    background-color: #3B4455;\n",
              "    fill: #D2E3FC;\n",
              "  }\n",
              "\n",
              "  [theme=dark] .colab-df-quickchart:hover {\n",
              "    background-color: #434B5C;\n",
              "    box-shadow: 0px 1px 3px 1px rgba(0, 0, 0, 0.15);\n",
              "    filter: drop-shadow(0px 1px 2px rgba(0, 0, 0, 0.3));\n",
              "    fill: #FFFFFF;\n",
              "  }\n",
              "</style>\n",
              "\n",
              "    <script>\n",
              "      async function quickchart(key) {\n",
              "        const containerElement = document.querySelector('#' + key);\n",
              "        const charts = await google.colab.kernel.invokeFunction(\n",
              "            'suggestCharts', [key], {});\n",
              "      }\n",
              "    </script>\n",
              "\n",
              "      <script>\n",
              "\n",
              "function displayQuickchartButton(domScope) {\n",
              "  let quickchartButtonEl =\n",
              "    domScope.querySelector('#df-b65cf8e6-0977-4361-8d20-0160f322fd4a button.colab-df-quickchart');\n",
              "  quickchartButtonEl.style.display =\n",
              "    google.colab.kernel.accessAllowed ? 'block' : 'none';\n",
              "}\n",
              "\n",
              "        displayQuickchartButton(document);\n",
              "      </script>\n",
              "      <style>\n",
              "    .colab-df-container {\n",
              "      display:flex;\n",
              "      flex-wrap:wrap;\n",
              "      gap: 12px;\n",
              "    }\n",
              "\n",
              "    .colab-df-convert {\n",
              "      background-color: #E8F0FE;\n",
              "      border: none;\n",
              "      border-radius: 50%;\n",
              "      cursor: pointer;\n",
              "      display: none;\n",
              "      fill: #1967D2;\n",
              "      height: 32px;\n",
              "      padding: 0 0 0 0;\n",
              "      width: 32px;\n",
              "    }\n",
              "\n",
              "    .colab-df-convert:hover {\n",
              "      background-color: #E2EBFA;\n",
              "      box-shadow: 0px 1px 2px rgba(60, 64, 67, 0.3), 0px 1px 3px 1px rgba(60, 64, 67, 0.15);\n",
              "      fill: #174EA6;\n",
              "    }\n",
              "\n",
              "    [theme=dark] .colab-df-convert {\n",
              "      background-color: #3B4455;\n",
              "      fill: #D2E3FC;\n",
              "    }\n",
              "\n",
              "    [theme=dark] .colab-df-convert:hover {\n",
              "      background-color: #434B5C;\n",
              "      box-shadow: 0px 1px 3px 1px rgba(0, 0, 0, 0.15);\n",
              "      filter: drop-shadow(0px 1px 2px rgba(0, 0, 0, 0.3));\n",
              "      fill: #FFFFFF;\n",
              "    }\n",
              "  </style>\n",
              "\n",
              "      <script>\n",
              "        const buttonEl =\n",
              "          document.querySelector('#df-f4984b52-af97-4609-b1bb-a95d3cdae9cd button.colab-df-convert');\n",
              "        buttonEl.style.display =\n",
              "          google.colab.kernel.accessAllowed ? 'block' : 'none';\n",
              "\n",
              "        async function convertToInteractive(key) {\n",
              "          const element = document.querySelector('#df-f4984b52-af97-4609-b1bb-a95d3cdae9cd');\n",
              "          const dataTable =\n",
              "            await google.colab.kernel.invokeFunction('convertToInteractive',\n",
              "                                                     [key], {});\n",
              "          if (!dataTable) return;\n",
              "\n",
              "          const docLinkHtml = 'Like what you see? Visit the ' +\n",
              "            '<a target=\"_blank\" href=https://colab.research.google.com/notebooks/data_table.ipynb>data table notebook</a>'\n",
              "            + ' to learn more about interactive tables.';\n",
              "          element.innerHTML = '';\n",
              "          dataTable['output_type'] = 'display_data';\n",
              "          await google.colab.output.renderOutput(dataTable, element);\n",
              "          const docLink = document.createElement('div');\n",
              "          docLink.innerHTML = docLinkHtml;\n",
              "          element.appendChild(docLink);\n",
              "        }\n",
              "      </script>\n",
              "    </div>\n",
              "  </div>\n"
            ]
          },
          "metadata": {},
          "execution_count": 226
        }
      ]
    },
    {
      "cell_type": "code",
      "source": [
        "cluster_counts = new_df['cluster'].value_counts()\n",
        "\n",
        "cluster_counts"
      ],
      "metadata": {
        "colab": {
          "base_uri": "https://localhost:8080/"
        },
        "id": "9jlQM83FDm2x",
        "outputId": "8a1beabb-c73d-427a-cfac-dfe90a095809"
      },
      "execution_count": null,
      "outputs": [
        {
          "output_type": "stream",
          "name": "stderr",
          "text": [
            "/usr/local/lib/python3.10/dist-packages/ipykernel/ipkernel.py:283: DeprecationWarning: `should_run_async` will not call `transform_cell` automatically in the future. Please pass the result to `transformed_cell` argument and any exception that happen during thetransform in `preprocessing_exc_tuple` in IPython 7.17 and above.\n",
            "  and should_run_async(code)\n"
          ]
        },
        {
          "output_type": "execute_result",
          "data": {
            "text/plain": [
              "cluster3    18834\n",
              "cluster2    17233\n",
              "cluster1     2453\n",
              "cluster4     2144\n",
              "cluster7     1967\n",
              "cluster5     1426\n",
              "cluster6      862\n",
              "Name: cluster, dtype: int64"
            ]
          },
          "metadata": {},
          "execution_count": 227
        }
      ]
    },
    {
      "cell_type": "code",
      "source": [
        "import pandas as pd\n",
        "\n",
        "# Assuming you have your DataFrame named 'new_df'\n",
        "# If not, replace 'new_df' with the actual name of your DataFrame\n",
        "\n",
        "# Check if any column has NaN value\n",
        "has_nan = new_df.isna().any()\n",
        "\n",
        "# Print the result\n",
        "has_nan"
      ],
      "metadata": {
        "colab": {
          "base_uri": "https://localhost:8080/"
        },
        "id": "GH5mIKoBD2Eg",
        "outputId": "da31dccb-8dc7-47be-f3e0-c62610b0930c"
      },
      "execution_count": null,
      "outputs": [
        {
          "output_type": "stream",
          "name": "stderr",
          "text": [
            "/usr/local/lib/python3.10/dist-packages/ipykernel/ipkernel.py:283: DeprecationWarning: `should_run_async` will not call `transform_cell` automatically in the future. Please pass the result to `transformed_cell` argument and any exception that happen during thetransform in `preprocessing_exc_tuple` in IPython 7.17 and above.\n",
            "  and should_run_async(code)\n"
          ]
        },
        {
          "output_type": "execute_result",
          "data": {
            "text/plain": [
              "ID         False\n",
              "cluster     True\n",
              "dtype: bool"
            ]
          },
          "metadata": {},
          "execution_count": 228
        }
      ]
    },
    {
      "cell_type": "code",
      "source": [
        "nan_counts = new_df.isna().sum()\n",
        "nan_counts"
      ],
      "metadata": {
        "colab": {
          "base_uri": "https://localhost:8080/"
        },
        "id": "kU8_uKh0IEiT",
        "outputId": "cd1ab635-2064-4ee3-8a50-35d05707b574"
      },
      "execution_count": null,
      "outputs": [
        {
          "output_type": "stream",
          "name": "stderr",
          "text": [
            "/usr/local/lib/python3.10/dist-packages/ipykernel/ipkernel.py:283: DeprecationWarning: `should_run_async` will not call `transform_cell` automatically in the future. Please pass the result to `transformed_cell` argument and any exception that happen during thetransform in `preprocessing_exc_tuple` in IPython 7.17 and above.\n",
            "  and should_run_async(code)\n"
          ]
        },
        {
          "output_type": "execute_result",
          "data": {
            "text/plain": [
              "ID           0\n",
              "cluster    837\n",
              "dtype: int64"
            ]
          },
          "metadata": {},
          "execution_count": 229
        }
      ]
    },
    {
      "cell_type": "code",
      "source": [
        "import pandas as pd\n",
        "import networkx as nx\n",
        "def new_combined_similarity(ID1, ID2, followers_dict,followings_dict, reply_dict,retweet_dict,mention_dict,graph):\n",
        "\n",
        "    sc1 = S1(ID1, ID2, followers_dict)+nx.shortest_path_length(graph, source=ID1, target=ID2)\n",
        "    sc2 = s2(ID1, ID2, followings_dict)\n",
        "    sc3 = s3(ID1, ID2, followers_dict)\n",
        "    sc4 = S4(ID1, ID2, mention_dict)\n",
        "    sc5 = S5(ID1, ID2, reply_dict)\n",
        "    sc6 = S6(ID1, ID2, retweet_dict)\n",
        "\n",
        "    combined_score = sc1 + sc2 + sc3 + sc4 + sc5 + sc6\n",
        "    return combined_score"
      ],
      "metadata": {
        "colab": {
          "base_uri": "https://localhost:8080/"
        },
        "id": "f7vW8bw3JASR",
        "outputId": "a577be07-7b02-4160-d506-597d3894701d"
      },
      "execution_count": null,
      "outputs": [
        {
          "output_type": "stream",
          "name": "stderr",
          "text": [
            "/usr/local/lib/python3.10/dist-packages/ipykernel/ipkernel.py:283: DeprecationWarning: `should_run_async` will not call `transform_cell` automatically in the future. Please pass the result to `transformed_cell` argument and any exception that happen during thetransform in `preprocessing_exc_tuple` in IPython 7.17 and above.\n",
            "  and should_run_async(code)\n"
          ]
        }
      ]
    },
    {
      "cell_type": "code",
      "source": [
        "import pandas as pd\n",
        "\n",
        "# Assuming you have your DataFrame named 'new_df'\n",
        "# If not, replace 'new_df' with the actual name of your DataFrame\n",
        "\n",
        "# Extract rows with NaN values in the entire DataFrame\n",
        "nan_df = new_df[new_df.isna().any(axis=1)]\n",
        "\n",
        "# Print the new DataFrame\n",
        "nan_df"
      ],
      "metadata": {
        "colab": {
          "base_uri": "https://localhost:8080/",
          "height": 478
        },
        "id": "GjzWdDq8INBh",
        "outputId": "194afa35-af20-43a1-c1ed-5ecbd15bcd1a"
      },
      "execution_count": null,
      "outputs": [
        {
          "output_type": "stream",
          "name": "stderr",
          "text": [
            "/usr/local/lib/python3.10/dist-packages/ipykernel/ipkernel.py:283: DeprecationWarning: `should_run_async` will not call `transform_cell` automatically in the future. Please pass the result to `transformed_cell` argument and any exception that happen during thetransform in `preprocessing_exc_tuple` in IPython 7.17 and above.\n",
            "  and should_run_async(code)\n"
          ]
        },
        {
          "output_type": "execute_result",
          "data": {
            "text/plain": [
              "           ID cluster\n",
              "772      1074    None\n",
              "1114     1592    None\n",
              "1144     1704    None\n",
              "1716     2783    None\n",
              "1739     2866    None\n",
              "...       ...     ...\n",
              "45718  411068    None\n",
              "45724  415617    None\n",
              "45727  416294    None\n",
              "45732  419195    None\n",
              "45744  425125    None\n",
              "\n",
              "[837 rows x 2 columns]"
            ],
            "text/html": [
              "\n",
              "\n",
              "  <div id=\"df-14374971-2db9-4539-b9ca-ab0434901ff6\">\n",
              "    <div class=\"colab-df-container\">\n",
              "      <div>\n",
              "<style scoped>\n",
              "    .dataframe tbody tr th:only-of-type {\n",
              "        vertical-align: middle;\n",
              "    }\n",
              "\n",
              "    .dataframe tbody tr th {\n",
              "        vertical-align: top;\n",
              "    }\n",
              "\n",
              "    .dataframe thead th {\n",
              "        text-align: right;\n",
              "    }\n",
              "</style>\n",
              "<table border=\"1\" class=\"dataframe\">\n",
              "  <thead>\n",
              "    <tr style=\"text-align: right;\">\n",
              "      <th></th>\n",
              "      <th>ID</th>\n",
              "      <th>cluster</th>\n",
              "    </tr>\n",
              "  </thead>\n",
              "  <tbody>\n",
              "    <tr>\n",
              "      <th>772</th>\n",
              "      <td>1074</td>\n",
              "      <td>None</td>\n",
              "    </tr>\n",
              "    <tr>\n",
              "      <th>1114</th>\n",
              "      <td>1592</td>\n",
              "      <td>None</td>\n",
              "    </tr>\n",
              "    <tr>\n",
              "      <th>1144</th>\n",
              "      <td>1704</td>\n",
              "      <td>None</td>\n",
              "    </tr>\n",
              "    <tr>\n",
              "      <th>1716</th>\n",
              "      <td>2783</td>\n",
              "      <td>None</td>\n",
              "    </tr>\n",
              "    <tr>\n",
              "      <th>1739</th>\n",
              "      <td>2866</td>\n",
              "      <td>None</td>\n",
              "    </tr>\n",
              "    <tr>\n",
              "      <th>...</th>\n",
              "      <td>...</td>\n",
              "      <td>...</td>\n",
              "    </tr>\n",
              "    <tr>\n",
              "      <th>45718</th>\n",
              "      <td>411068</td>\n",
              "      <td>None</td>\n",
              "    </tr>\n",
              "    <tr>\n",
              "      <th>45724</th>\n",
              "      <td>415617</td>\n",
              "      <td>None</td>\n",
              "    </tr>\n",
              "    <tr>\n",
              "      <th>45727</th>\n",
              "      <td>416294</td>\n",
              "      <td>None</td>\n",
              "    </tr>\n",
              "    <tr>\n",
              "      <th>45732</th>\n",
              "      <td>419195</td>\n",
              "      <td>None</td>\n",
              "    </tr>\n",
              "    <tr>\n",
              "      <th>45744</th>\n",
              "      <td>425125</td>\n",
              "      <td>None</td>\n",
              "    </tr>\n",
              "  </tbody>\n",
              "</table>\n",
              "<p>837 rows × 2 columns</p>\n",
              "</div>\n",
              "      <button class=\"colab-df-convert\" onclick=\"convertToInteractive('df-14374971-2db9-4539-b9ca-ab0434901ff6')\"\n",
              "              title=\"Convert this dataframe to an interactive table.\"\n",
              "              style=\"display:none;\">\n",
              "\n",
              "  <svg xmlns=\"http://www.w3.org/2000/svg\" height=\"24px\"viewBox=\"0 0 24 24\"\n",
              "       width=\"24px\">\n",
              "    <path d=\"M0 0h24v24H0V0z\" fill=\"none\"/>\n",
              "    <path d=\"M18.56 5.44l.94 2.06.94-2.06 2.06-.94-2.06-.94-.94-2.06-.94 2.06-2.06.94zm-11 1L8.5 8.5l.94-2.06 2.06-.94-2.06-.94L8.5 2.5l-.94 2.06-2.06.94zm10 10l.94 2.06.94-2.06 2.06-.94-2.06-.94-.94-2.06-.94 2.06-2.06.94z\"/><path d=\"M17.41 7.96l-1.37-1.37c-.4-.4-.92-.59-1.43-.59-.52 0-1.04.2-1.43.59L10.3 9.45l-7.72 7.72c-.78.78-.78 2.05 0 2.83L4 21.41c.39.39.9.59 1.41.59.51 0 1.02-.2 1.41-.59l7.78-7.78 2.81-2.81c.8-.78.8-2.07 0-2.86zM5.41 20L4 18.59l7.72-7.72 1.47 1.35L5.41 20z\"/>\n",
              "  </svg>\n",
              "      </button>\n",
              "\n",
              "\n",
              "\n",
              "    <div id=\"df-f7048d2d-972a-413d-99c1-9e89aa44eb70\">\n",
              "      <button class=\"colab-df-quickchart\" onclick=\"quickchart('df-f7048d2d-972a-413d-99c1-9e89aa44eb70')\"\n",
              "              title=\"Suggest charts.\"\n",
              "              style=\"display:none;\">\n",
              "\n",
              "<svg xmlns=\"http://www.w3.org/2000/svg\" height=\"24px\"viewBox=\"0 0 24 24\"\n",
              "     width=\"24px\">\n",
              "    <g>\n",
              "        <path d=\"M19 3H5c-1.1 0-2 .9-2 2v14c0 1.1.9 2 2 2h14c1.1 0 2-.9 2-2V5c0-1.1-.9-2-2-2zM9 17H7v-7h2v7zm4 0h-2V7h2v10zm4 0h-2v-4h2v4z\"/>\n",
              "    </g>\n",
              "</svg>\n",
              "      </button>\n",
              "    </div>\n",
              "\n",
              "<style>\n",
              "  .colab-df-quickchart {\n",
              "    background-color: #E8F0FE;\n",
              "    border: none;\n",
              "    border-radius: 50%;\n",
              "    cursor: pointer;\n",
              "    display: none;\n",
              "    fill: #1967D2;\n",
              "    height: 32px;\n",
              "    padding: 0 0 0 0;\n",
              "    width: 32px;\n",
              "  }\n",
              "\n",
              "  .colab-df-quickchart:hover {\n",
              "    background-color: #E2EBFA;\n",
              "    box-shadow: 0px 1px 2px rgba(60, 64, 67, 0.3), 0px 1px 3px 1px rgba(60, 64, 67, 0.15);\n",
              "    fill: #174EA6;\n",
              "  }\n",
              "\n",
              "  [theme=dark] .colab-df-quickchart {\n",
              "    background-color: #3B4455;\n",
              "    fill: #D2E3FC;\n",
              "  }\n",
              "\n",
              "  [theme=dark] .colab-df-quickchart:hover {\n",
              "    background-color: #434B5C;\n",
              "    box-shadow: 0px 1px 3px 1px rgba(0, 0, 0, 0.15);\n",
              "    filter: drop-shadow(0px 1px 2px rgba(0, 0, 0, 0.3));\n",
              "    fill: #FFFFFF;\n",
              "  }\n",
              "</style>\n",
              "\n",
              "    <script>\n",
              "      async function quickchart(key) {\n",
              "        const containerElement = document.querySelector('#' + key);\n",
              "        const charts = await google.colab.kernel.invokeFunction(\n",
              "            'suggestCharts', [key], {});\n",
              "      }\n",
              "    </script>\n",
              "\n",
              "      <script>\n",
              "\n",
              "function displayQuickchartButton(domScope) {\n",
              "  let quickchartButtonEl =\n",
              "    domScope.querySelector('#df-f7048d2d-972a-413d-99c1-9e89aa44eb70 button.colab-df-quickchart');\n",
              "  quickchartButtonEl.style.display =\n",
              "    google.colab.kernel.accessAllowed ? 'block' : 'none';\n",
              "}\n",
              "\n",
              "        displayQuickchartButton(document);\n",
              "      </script>\n",
              "      <style>\n",
              "    .colab-df-container {\n",
              "      display:flex;\n",
              "      flex-wrap:wrap;\n",
              "      gap: 12px;\n",
              "    }\n",
              "\n",
              "    .colab-df-convert {\n",
              "      background-color: #E8F0FE;\n",
              "      border: none;\n",
              "      border-radius: 50%;\n",
              "      cursor: pointer;\n",
              "      display: none;\n",
              "      fill: #1967D2;\n",
              "      height: 32px;\n",
              "      padding: 0 0 0 0;\n",
              "      width: 32px;\n",
              "    }\n",
              "\n",
              "    .colab-df-convert:hover {\n",
              "      background-color: #E2EBFA;\n",
              "      box-shadow: 0px 1px 2px rgba(60, 64, 67, 0.3), 0px 1px 3px 1px rgba(60, 64, 67, 0.15);\n",
              "      fill: #174EA6;\n",
              "    }\n",
              "\n",
              "    [theme=dark] .colab-df-convert {\n",
              "      background-color: #3B4455;\n",
              "      fill: #D2E3FC;\n",
              "    }\n",
              "\n",
              "    [theme=dark] .colab-df-convert:hover {\n",
              "      background-color: #434B5C;\n",
              "      box-shadow: 0px 1px 3px 1px rgba(0, 0, 0, 0.15);\n",
              "      filter: drop-shadow(0px 1px 2px rgba(0, 0, 0, 0.3));\n",
              "      fill: #FFFFFF;\n",
              "    }\n",
              "  </style>\n",
              "\n",
              "      <script>\n",
              "        const buttonEl =\n",
              "          document.querySelector('#df-14374971-2db9-4539-b9ca-ab0434901ff6 button.colab-df-convert');\n",
              "        buttonEl.style.display =\n",
              "          google.colab.kernel.accessAllowed ? 'block' : 'none';\n",
              "\n",
              "        async function convertToInteractive(key) {\n",
              "          const element = document.querySelector('#df-14374971-2db9-4539-b9ca-ab0434901ff6');\n",
              "          const dataTable =\n",
              "            await google.colab.kernel.invokeFunction('convertToInteractive',\n",
              "                                                     [key], {});\n",
              "          if (!dataTable) return;\n",
              "\n",
              "          const docLinkHtml = 'Like what you see? Visit the ' +\n",
              "            '<a target=\"_blank\" href=https://colab.research.google.com/notebooks/data_table.ipynb>data table notebook</a>'\n",
              "            + ' to learn more about interactive tables.';\n",
              "          element.innerHTML = '';\n",
              "          dataTable['output_type'] = 'display_data';\n",
              "          await google.colab.output.renderOutput(dataTable, element);\n",
              "          const docLink = document.createElement('div');\n",
              "          docLink.innerHTML = docLinkHtml;\n",
              "          element.appendChild(docLink);\n",
              "        }\n",
              "      </script>\n",
              "    </div>\n",
              "  </div>\n"
            ]
          },
          "metadata": {},
          "execution_count": 231
        }
      ]
    },
    {
      "cell_type": "code",
      "source": [
        "unique_ids = nan_df['ID'].unique()\n",
        "print(unique_ids)"
      ],
      "metadata": {
        "id": "umwgdDqnInLs"
      },
      "execution_count": null,
      "outputs": []
    },
    {
      "cell_type": "code",
      "source": [
        "import pandas as pd\n",
        "import networkx as nx\n",
        "\n",
        "# Replace the path with the correct one if needed\n",
        "file_path = '/content/drive/MyDrive/Subgraph.csv'\n",
        "\n",
        "# Read the file into a DataFrame\n",
        "DF = pd.read_csv(file_path)\n",
        "\n",
        "# Create a directed graph from the edge list\n",
        "G = nx.from_pandas_edgelist(DF, source='ID1', target='ID2', create_using=nx.DiGraph())\n",
        "\n"
      ],
      "metadata": {
        "colab": {
          "base_uri": "https://localhost:8080/"
        },
        "id": "AedMXG6qKGmI",
        "outputId": "ebd39161-310c-49d2-bb53-fcf428ebc4ca"
      },
      "execution_count": null,
      "outputs": [
        {
          "output_type": "stream",
          "name": "stderr",
          "text": [
            "/usr/local/lib/python3.10/dist-packages/ipykernel/ipkernel.py:283: DeprecationWarning: `should_run_async` will not call `transform_cell` automatically in the future. Please pass the result to `transformed_cell` argument and any exception that happen during thetransform in `preprocessing_exc_tuple` in IPython 7.17 and above.\n",
            "  and should_run_async(code)\n"
          ]
        }
      ]
    },
    {
      "cell_type": "code",
      "source": [
        "from tqdm import tqdm\n",
        "\n",
        "# communities is a list of lists containing the IDs of each community\n",
        "# For example, communities = [['ID1', 'ID2', ...], ['ID3', 'ID4', ...], ...]\n",
        "\n",
        "# Create a dictionary to map community index to cluster name\n",
        "cluster_names = {idx: f'cluster{idx+1}' for idx, comm in enumerate(communities)}\n",
        "\n",
        "\n",
        "\n",
        "# Loop over new_df and update the 'cluster' column using the community names\n",
        "for index, row in new_df.iterrows():\n",
        "  if row['cluster'] is None:\n",
        "        # Create a dictionary to store the score for each cluster\n",
        "        cluster_scores = {}\n",
        "\n",
        "        # Find the neighbors using the 'ID' of the current row\n",
        "        neighbors = DF.loc[DF['ID1'] == row['ID'], 'ID2'].tolist()\n",
        "\n",
        "        # Calculate similarity score for each neighbor and cluster\n",
        "        for neighbor_id in neighbors:\n",
        "            for cluster_num, cluster_list in enumerate(communities):\n",
        "                for cluster_id in cluster_list:\n",
        "                    sim = combined_similarity(neighbor_id, cluster_id, followers_dict, followings_dict, reply_dict, retweet_dict, mention_dict)\n",
        "                    #similarity(neighbor_id, cluster_id)\n",
        "\n",
        "                    # Add the similarity score to the corresponding cluster\n",
        "                    if cluster_num in cluster_scores:\n",
        "                        cluster_scores[cluster_num] += sim\n",
        "                    else:\n",
        "                        cluster_scores[cluster_num] = sim\n",
        "        if neighbors==[]:\n",
        "          new_df.at[index, 'cluster'] = 'isolated'\n",
        "          print('no neighbour')\n",
        "        else:\n",
        "          # Find the cluster with the highest score\n",
        "          max_cluster = max(cluster_scores, key=cluster_scores.get)\n",
        "\n",
        "          # Assign the cluster with the highest score to the 'cluster' column for the current row\n",
        "          new_df.at[index, 'cluster'] = f'cluster{max_cluster+1}'\n",
        "# Print the final dataframe\n",
        "new_df.head()"
      ],
      "metadata": {
        "colab": {
          "base_uri": "https://localhost:8080/",
          "height": 643
        },
        "id": "zQVOCxfnKSIl",
        "outputId": "241baf3d-e1e5-4573-ee08-cc3aa8f2f45e"
      },
      "execution_count": null,
      "outputs": [
        {
          "output_type": "stream",
          "name": "stderr",
          "text": [
            "/usr/local/lib/python3.10/dist-packages/ipykernel/ipkernel.py:283: DeprecationWarning: `should_run_async` will not call `transform_cell` automatically in the future. Please pass the result to `transformed_cell` argument and any exception that happen during thetransform in `preprocessing_exc_tuple` in IPython 7.17 and above.\n",
            "  and should_run_async(code)\n"
          ]
        },
        {
          "output_type": "stream",
          "name": "stdout",
          "text": [
            "no neighbour\n",
            "no neighbour\n",
            "no neighbour\n",
            "no neighbour\n",
            "no neighbour\n",
            "no neighbour\n",
            "no neighbour\n",
            "no neighbour\n",
            "no neighbour\n",
            "no neighbour\n",
            "no neighbour\n",
            "no neighbour\n",
            "no neighbour\n",
            "no neighbour\n",
            "no neighbour\n",
            "no neighbour\n",
            "no neighbour\n",
            "no neighbour\n",
            "no neighbour\n",
            "no neighbour\n",
            "no neighbour\n",
            "no neighbour\n"
          ]
        },
        {
          "output_type": "execute_result",
          "data": {
            "text/plain": [
              "   ID   cluster\n",
              "0   1  cluster1\n",
              "1   2  cluster3\n",
              "2   3  cluster3\n",
              "3   4  cluster3\n",
              "4   5  cluster3"
            ],
            "text/html": [
              "\n",
              "\n",
              "  <div id=\"df-c866dd64-d6a3-417e-8a0e-070da8009cef\">\n",
              "    <div class=\"colab-df-container\">\n",
              "      <div>\n",
              "<style scoped>\n",
              "    .dataframe tbody tr th:only-of-type {\n",
              "        vertical-align: middle;\n",
              "    }\n",
              "\n",
              "    .dataframe tbody tr th {\n",
              "        vertical-align: top;\n",
              "    }\n",
              "\n",
              "    .dataframe thead th {\n",
              "        text-align: right;\n",
              "    }\n",
              "</style>\n",
              "<table border=\"1\" class=\"dataframe\">\n",
              "  <thead>\n",
              "    <tr style=\"text-align: right;\">\n",
              "      <th></th>\n",
              "      <th>ID</th>\n",
              "      <th>cluster</th>\n",
              "    </tr>\n",
              "  </thead>\n",
              "  <tbody>\n",
              "    <tr>\n",
              "      <th>0</th>\n",
              "      <td>1</td>\n",
              "      <td>cluster1</td>\n",
              "    </tr>\n",
              "    <tr>\n",
              "      <th>1</th>\n",
              "      <td>2</td>\n",
              "      <td>cluster3</td>\n",
              "    </tr>\n",
              "    <tr>\n",
              "      <th>2</th>\n",
              "      <td>3</td>\n",
              "      <td>cluster3</td>\n",
              "    </tr>\n",
              "    <tr>\n",
              "      <th>3</th>\n",
              "      <td>4</td>\n",
              "      <td>cluster3</td>\n",
              "    </tr>\n",
              "    <tr>\n",
              "      <th>4</th>\n",
              "      <td>5</td>\n",
              "      <td>cluster3</td>\n",
              "    </tr>\n",
              "  </tbody>\n",
              "</table>\n",
              "</div>\n",
              "      <button class=\"colab-df-convert\" onclick=\"convertToInteractive('df-c866dd64-d6a3-417e-8a0e-070da8009cef')\"\n",
              "              title=\"Convert this dataframe to an interactive table.\"\n",
              "              style=\"display:none;\">\n",
              "\n",
              "  <svg xmlns=\"http://www.w3.org/2000/svg\" height=\"24px\"viewBox=\"0 0 24 24\"\n",
              "       width=\"24px\">\n",
              "    <path d=\"M0 0h24v24H0V0z\" fill=\"none\"/>\n",
              "    <path d=\"M18.56 5.44l.94 2.06.94-2.06 2.06-.94-2.06-.94-.94-2.06-.94 2.06-2.06.94zm-11 1L8.5 8.5l.94-2.06 2.06-.94-2.06-.94L8.5 2.5l-.94 2.06-2.06.94zm10 10l.94 2.06.94-2.06 2.06-.94-2.06-.94-.94-2.06-.94 2.06-2.06.94z\"/><path d=\"M17.41 7.96l-1.37-1.37c-.4-.4-.92-.59-1.43-.59-.52 0-1.04.2-1.43.59L10.3 9.45l-7.72 7.72c-.78.78-.78 2.05 0 2.83L4 21.41c.39.39.9.59 1.41.59.51 0 1.02-.2 1.41-.59l7.78-7.78 2.81-2.81c.8-.78.8-2.07 0-2.86zM5.41 20L4 18.59l7.72-7.72 1.47 1.35L5.41 20z\"/>\n",
              "  </svg>\n",
              "      </button>\n",
              "\n",
              "\n",
              "\n",
              "    <div id=\"df-3a2d4bf7-d859-4669-9200-298af368245a\">\n",
              "      <button class=\"colab-df-quickchart\" onclick=\"quickchart('df-3a2d4bf7-d859-4669-9200-298af368245a')\"\n",
              "              title=\"Suggest charts.\"\n",
              "              style=\"display:none;\">\n",
              "\n",
              "<svg xmlns=\"http://www.w3.org/2000/svg\" height=\"24px\"viewBox=\"0 0 24 24\"\n",
              "     width=\"24px\">\n",
              "    <g>\n",
              "        <path d=\"M19 3H5c-1.1 0-2 .9-2 2v14c0 1.1.9 2 2 2h14c1.1 0 2-.9 2-2V5c0-1.1-.9-2-2-2zM9 17H7v-7h2v7zm4 0h-2V7h2v10zm4 0h-2v-4h2v4z\"/>\n",
              "    </g>\n",
              "</svg>\n",
              "      </button>\n",
              "    </div>\n",
              "\n",
              "<style>\n",
              "  .colab-df-quickchart {\n",
              "    background-color: #E8F0FE;\n",
              "    border: none;\n",
              "    border-radius: 50%;\n",
              "    cursor: pointer;\n",
              "    display: none;\n",
              "    fill: #1967D2;\n",
              "    height: 32px;\n",
              "    padding: 0 0 0 0;\n",
              "    width: 32px;\n",
              "  }\n",
              "\n",
              "  .colab-df-quickchart:hover {\n",
              "    background-color: #E2EBFA;\n",
              "    box-shadow: 0px 1px 2px rgba(60, 64, 67, 0.3), 0px 1px 3px 1px rgba(60, 64, 67, 0.15);\n",
              "    fill: #174EA6;\n",
              "  }\n",
              "\n",
              "  [theme=dark] .colab-df-quickchart {\n",
              "    background-color: #3B4455;\n",
              "    fill: #D2E3FC;\n",
              "  }\n",
              "\n",
              "  [theme=dark] .colab-df-quickchart:hover {\n",
              "    background-color: #434B5C;\n",
              "    box-shadow: 0px 1px 3px 1px rgba(0, 0, 0, 0.15);\n",
              "    filter: drop-shadow(0px 1px 2px rgba(0, 0, 0, 0.3));\n",
              "    fill: #FFFFFF;\n",
              "  }\n",
              "</style>\n",
              "\n",
              "    <script>\n",
              "      async function quickchart(key) {\n",
              "        const containerElement = document.querySelector('#' + key);\n",
              "        const charts = await google.colab.kernel.invokeFunction(\n",
              "            'suggestCharts', [key], {});\n",
              "      }\n",
              "    </script>\n",
              "\n",
              "      <script>\n",
              "\n",
              "function displayQuickchartButton(domScope) {\n",
              "  let quickchartButtonEl =\n",
              "    domScope.querySelector('#df-3a2d4bf7-d859-4669-9200-298af368245a button.colab-df-quickchart');\n",
              "  quickchartButtonEl.style.display =\n",
              "    google.colab.kernel.accessAllowed ? 'block' : 'none';\n",
              "}\n",
              "\n",
              "        displayQuickchartButton(document);\n",
              "      </script>\n",
              "      <style>\n",
              "    .colab-df-container {\n",
              "      display:flex;\n",
              "      flex-wrap:wrap;\n",
              "      gap: 12px;\n",
              "    }\n",
              "\n",
              "    .colab-df-convert {\n",
              "      background-color: #E8F0FE;\n",
              "      border: none;\n",
              "      border-radius: 50%;\n",
              "      cursor: pointer;\n",
              "      display: none;\n",
              "      fill: #1967D2;\n",
              "      height: 32px;\n",
              "      padding: 0 0 0 0;\n",
              "      width: 32px;\n",
              "    }\n",
              "\n",
              "    .colab-df-convert:hover {\n",
              "      background-color: #E2EBFA;\n",
              "      box-shadow: 0px 1px 2px rgba(60, 64, 67, 0.3), 0px 1px 3px 1px rgba(60, 64, 67, 0.15);\n",
              "      fill: #174EA6;\n",
              "    }\n",
              "\n",
              "    [theme=dark] .colab-df-convert {\n",
              "      background-color: #3B4455;\n",
              "      fill: #D2E3FC;\n",
              "    }\n",
              "\n",
              "    [theme=dark] .colab-df-convert:hover {\n",
              "      background-color: #434B5C;\n",
              "      box-shadow: 0px 1px 3px 1px rgba(0, 0, 0, 0.15);\n",
              "      filter: drop-shadow(0px 1px 2px rgba(0, 0, 0, 0.3));\n",
              "      fill: #FFFFFF;\n",
              "    }\n",
              "  </style>\n",
              "\n",
              "      <script>\n",
              "        const buttonEl =\n",
              "          document.querySelector('#df-c866dd64-d6a3-417e-8a0e-070da8009cef button.colab-df-convert');\n",
              "        buttonEl.style.display =\n",
              "          google.colab.kernel.accessAllowed ? 'block' : 'none';\n",
              "\n",
              "        async function convertToInteractive(key) {\n",
              "          const element = document.querySelector('#df-c866dd64-d6a3-417e-8a0e-070da8009cef');\n",
              "          const dataTable =\n",
              "            await google.colab.kernel.invokeFunction('convertToInteractive',\n",
              "                                                     [key], {});\n",
              "          if (!dataTable) return;\n",
              "\n",
              "          const docLinkHtml = 'Like what you see? Visit the ' +\n",
              "            '<a target=\"_blank\" href=https://colab.research.google.com/notebooks/data_table.ipynb>data table notebook</a>'\n",
              "            + ' to learn more about interactive tables.';\n",
              "          element.innerHTML = '';\n",
              "          dataTable['output_type'] = 'display_data';\n",
              "          await google.colab.output.renderOutput(dataTable, element);\n",
              "          const docLink = document.createElement('div');\n",
              "          docLink.innerHTML = docLinkHtml;\n",
              "          element.appendChild(docLink);\n",
              "        }\n",
              "      </script>\n",
              "    </div>\n",
              "  </div>\n"
            ]
          },
          "metadata": {},
          "execution_count": 234
        }
      ]
    },
    {
      "cell_type": "code",
      "source": [
        "cluster_counts = new_df['cluster'].value_counts()\n",
        "\n",
        "cluster_counts.head(10)"
      ],
      "metadata": {
        "colab": {
          "base_uri": "https://localhost:8080/"
        },
        "id": "f8O9x-viK_Qh",
        "outputId": "8e06047c-4423-4f96-d5b6-9c165f326499"
      },
      "execution_count": null,
      "outputs": [
        {
          "output_type": "stream",
          "name": "stderr",
          "text": [
            "/usr/local/lib/python3.10/dist-packages/ipykernel/ipkernel.py:283: DeprecationWarning: `should_run_async` will not call `transform_cell` automatically in the future. Please pass the result to `transformed_cell` argument and any exception that happen during thetransform in `preprocessing_exc_tuple` in IPython 7.17 and above.\n",
            "  and should_run_async(code)\n"
          ]
        },
        {
          "output_type": "execute_result",
          "data": {
            "text/plain": [
              "cluster3    19285\n",
              "cluster2    17532\n",
              "cluster1     2498\n",
              "cluster4     2159\n",
              "cluster7     1967\n",
              "cluster5     1429\n",
              "cluster6      864\n",
              "isolated       22\n",
              "Name: cluster, dtype: int64"
            ]
          },
          "metadata": {},
          "execution_count": 236
        }
      ]
    },
    {
      "cell_type": "code",
      "source": [],
      "metadata": {
        "colab": {
          "base_uri": "https://localhost:8080/"
        },
        "id": "YGFRwR9WPoYP",
        "outputId": "5ae8ca47-2838-44a9-9e7c-5b4f1f0f0ca3"
      },
      "execution_count": null,
      "outputs": [
        {
          "output_type": "stream",
          "name": "stderr",
          "text": [
            "/usr/local/lib/python3.10/dist-packages/ipykernel/ipkernel.py:283: DeprecationWarning: `should_run_async` will not call `transform_cell` automatically in the future. Please pass the result to `transformed_cell` argument and any exception that happen during thetransform in `preprocessing_exc_tuple` in IPython 7.17 and above.\n",
            "  and should_run_async(code)\n"
          ]
        }
      ]
    }
  ]
}